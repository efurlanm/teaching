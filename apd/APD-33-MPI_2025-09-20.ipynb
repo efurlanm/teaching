{
 "cells": [
  {
   "cell_type": "code",
   "execution_count": 10,
   "id": "c38c0af7-b989-4062-8d33-3602184e51d8",
   "metadata": {},
   "outputs": [
    {
     "name": "stdout",
     "output_type": "stream",
     "text": [
      "Overwriting mpi-example.f90\n"
     ]
    }
   ],
   "source": [
    "%%writefile mpi-example.f90\n",
    "PROGRAM mpi_example\n",
    "    USE mpi\n",
    "    IMPLICIT NONE\n",
    "    INTEGER :: rank, size, ierr, msg, status(MPI_STATUS_SIZE)\n",
    "    CALL MPI_INIT(ierr)                              ! Inicializa o MPI\n",
    "    CALL MPI_COMM_SIZE(MPI_COMM_WORLD, size, ierr)   ! Obtém o número de processos\n",
    "    CALL MPI_COMM_RANK(MPI_COMM_WORLD, rank, ierr)   ! Obtém o identificador do processo\n",
    "    IF (size /= 2) THEN\n",
    "        PRINT *, \"Este programa requer exatamente 2 processos.\"\n",
    "    ELSE\n",
    "        IF (rank == 0) THEN\n",
    "            msg = 42  ! Mensagem a ser enviada\n",
    "            CALL MPI_SEND(msg, 1, MPI_INTEGER, 1, 0, MPI_COMM_WORLD, ierr) \n",
    "            PRINT *, \"Processo 0 enviou a mensagem:\", msg\n",
    "        ELSE IF (rank == 1) THEN\n",
    "            CALL MPI_RECV(msg, 1, MPI_INTEGER, 0, 0, MPI_COMM_WORLD, status, ierr) \n",
    "            PRINT *, \"Processo 1 recebeu a mensagem:\", msg\n",
    "        END IF\n",
    "    END IF\n",
    "    CALL MPI_FINALIZE(ierr)  ! Finaliza o MPI\n",
    "END PROGRAM mpi_example"
   ]
  },
  {
   "cell_type": "code",
   "execution_count": 11,
   "id": "7180e39c-6387-4eb1-a0d3-6b558e75b23b",
   "metadata": {},
   "outputs": [],
   "source": [
    "! mpif90 mpi-example.f90 -o mpi-example.out"
   ]
  },
  {
   "cell_type": "code",
   "execution_count": 12,
   "id": "0154f346-a3a5-430b-b016-5539cb55ebee",
   "metadata": {},
   "outputs": [
    {
     "name": "stdout",
     "output_type": "stream",
     "text": [
      " Processo 0 enviou a mensagem:          42\n",
      " Processo 1 recebeu a mensagem:          42\n"
     ]
    }
   ],
   "source": [
    "! mpirun -np 2 ./mpi-example.out"
   ]
  }
 ],
 "metadata": {
  "kernelspec": {
   "display_name": "Python 3 (ipykernel)",
   "language": "python",
   "name": "python3"
  },
  "language_info": {
   "codemirror_mode": {
    "name": "ipython",
    "version": 3
   },
   "file_extension": ".py",
   "mimetype": "text/x-python",
   "name": "python",
   "nbconvert_exporter": "python",
   "pygments_lexer": "ipython3",
   "version": "3.12.5"
  }
 },
 "nbformat": 4,
 "nbformat_minor": 5
}
