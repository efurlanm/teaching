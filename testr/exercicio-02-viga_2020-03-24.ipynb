{
 "cells": [
  {
   "cell_type": "markdown",
   "metadata": {},
   "source": [
    "Notebook baseado no vídeo https://youtu.be/9oNLaJnpA9c \"Teoria das Estruturas 02 - regra da mão direita - calculando reações\".\n",
    "\n",
    "![](./img/01.png)"
   ]
  },
  {
   "cell_type": "code",
   "execution_count": 1,
   "metadata": {},
   "outputs": [
    {
     "data": {
      "text/plain": [
       "(2.0, 3.0, 4.0, 2.0, 0.0, 0.0)"
      ]
     },
     "execution_count": 1,
     "metadata": {},
     "output_type": "execute_result"
    }
   ],
   "source": [
    "# criação das variáveis com forças e distânicas na viga\n",
    "D = 2.0        # distância de um trecho\n",
    "Fd = 3.0       # carga distribuída\n",
    "F1 = 4.0       # força no ponto 1\n",
    "FB = 2.0       # momento no apoio B\n",
    "VA = VB = 0.0  # reações de apoio\n",
    "\n",
    "D, Fd, F1, FB, VA, VB"
   ]
  },
  {
   "cell_type": "markdown",
   "metadata": {},
   "source": [
    "Cálculo do momento que a F1 gera no ponto A.\n",
    "![](./img/03.png)\n",
    "Usando a regra da mão direita, como no vídeo: primeiro aponta os dedos no sentido da \"flecha\" de F1. Depois curva os dedos em direção a A. Com isso o dedão fica na direção \"do caderno\" indicando para onde está apontado o momento."
   ]
  },
  {
   "cell_type": "markdown",
   "metadata": {},
   "source": [
    "Um outro jeito é usar três dedos:\n",
    "![](./img/02.png)\n",
    "Primeiro fecha a mão e imagina que \"força vezes distância é igual ao momento\".\n",
    "\n",
    "Daí abre o polegar (em preto) e coloca ele na direção da seta de F1. E fica firme com esse dedo, não mexe ele.\n",
    "\n",
    "Depois abre o indicador (em azul) na direção de A, sem mexer o polegar.\n",
    "\n",
    "E por fim abre o terceiro dedo (em vermelho) e ele indicará a direção do momento."
   ]
  },
  {
   "cell_type": "markdown",
   "metadata": {},
   "source": [
    "### Somatório das forças\n",
    "\n",
    "Neste caso sabemos que o somatório das forças tem que ser zero.\n",
    "\n",
    "Selecionamos o ponto A como referência e fazemos a somatória dos momentos no ponto A:"
   ]
  },
  {
   "cell_type": "code",
   "execution_count": 2,
   "metadata": {},
   "outputs": [],
   "source": [
    "SMA = 0    # inicializando a variável que vai acumular a somatória"
   ]
  },
  {
   "cell_type": "markdown",
   "metadata": {},
   "source": [
    "Vamos convencionar que a seta de momento entrando no caderno é negativo, e saindo do caderno é posivito.\n",
    "\n",
    "Ou de outra forma, usando a regra da mão direita, com os dedos girando no sentido anti-horário, o polegar aponta para cima, indicando momento positivo. No outro sentido indica negativo.\n",
    "![](./img/04.png)"
   ]
  },
  {
   "cell_type": "markdown",
   "metadata": {},
   "source": [
    "Calculando a força resultante F2 da carga distribuída:"
   ]
  },
  {
   "cell_type": "code",
   "execution_count": 3,
   "metadata": {},
   "outputs": [
    {
     "data": {
      "text/plain": [
       "6.0"
      ]
     },
     "execution_count": 3,
     "metadata": {},
     "output_type": "execute_result"
    }
   ],
   "source": [
    "F2 = Fd * D    # força resultante\n",
    "\n",
    "F2"
   ]
  },
  {
   "cell_type": "markdown",
   "metadata": {},
   "source": [
    "Para calcular momento de F2 com relação a A, usamos a regra da mão direita. Polegar em cima da seta de F2, não mexe nele, indicador apontando na direção de A, e dedo médio indica o sentido do momento, que neste caso é indo em direção ao caderno (imaginando o desenho feito na folha do caderno), portanto é negativo:"
   ]
  },
  {
   "cell_type": "markdown",
   "metadata": {},
   "source": [
    "![](./img/05.png) ![](./img/02b.png)"
   ]
  },
  {
   "cell_type": "code",
   "execution_count": 4,
   "metadata": {},
   "outputs": [
    {
     "data": {
      "text/plain": [
       "-18.0"
      ]
     },
     "execution_count": 4,
     "metadata": {},
     "output_type": "execute_result"
    }
   ],
   "source": [
    "MF2A = - F2 * (D + D/2)\n",
    "\n",
    "MF2A"
   ]
  },
  {
   "cell_type": "markdown",
   "metadata": {},
   "source": [
    "Agora para calcular o momento de F1, usando a regra da mão direita, polegar na seta de F1, indicador na direção de A, o dedo médio indica que o momento é negativo:"
   ]
  },
  {
   "cell_type": "code",
   "execution_count": 5,
   "metadata": {},
   "outputs": [
    {
     "data": {
      "text/plain": [
       "-24.0"
      ]
     },
     "execution_count": 5,
     "metadata": {},
     "output_type": "execute_result"
    }
   ],
   "source": [
    "MF1A = - F1 * (D * 3)\n",
    "\n",
    "MF1A"
   ]
  },
  {
   "cell_type": "markdown",
   "metadata": {},
   "source": [
    "O momento FB já é o momento, não precisa calcular nada, só precisa colocar o sinal negativo ou positivo. Usando a regra da mão direita e girando os dedos no sentido da força, o polegar fica para cima indicando positivo. Então não precisa mexer na variável FB."
   ]
  },
  {
   "cell_type": "code",
   "execution_count": 6,
   "metadata": {},
   "outputs": [
    {
     "data": {
      "text/plain": [
       "2.0"
      ]
     },
     "execution_count": 6,
     "metadata": {},
     "output_type": "execute_result"
    }
   ],
   "source": [
    "FB"
   ]
  },
  {
   "cell_type": "markdown",
   "metadata": {},
   "source": [
    "Agora passando para a próxima que é que VB.\n",
    "Polegar em VB, indicador na direção de A, e o dedo médio aponta para cima indicando que o momento é positivo:\n",
    "\n",
    "    MVB = VB * (D * 4)     # VB não conhecemos ainda"
   ]
  },
  {
   "cell_type": "markdown",
   "metadata": {},
   "source": [
    "Como não tem mais forças, passamos para a somatória:\n",
    "\n",
    "    SMA = 0 = MF2A + MF1A + FB + MVB\n",
    "\n",
    "Substituindo MVB:\n",
    "\n",
    "    MF2A + MF1A + FB + (VB * (D * 4)) = 0\n",
    "\n",
    "Movendo VB para o outro lado da equação:"
   ]
  },
  {
   "cell_type": "code",
   "execution_count": 7,
   "metadata": {},
   "outputs": [
    {
     "name": "stdout",
     "output_type": "stream",
     "text": [
      "VB= 5.0 kN\n"
     ]
    }
   ],
   "source": [
    "VB = (- MF2A - MF1A - FB) / (D * 4)\n",
    "\n",
    "print(\"VB=\", VB, \"kN\")"
   ]
  },
  {
   "cell_type": "markdown",
   "metadata": {},
   "source": [
    "Agora para achar o valor de VA, podemos somar as forças (sem somar o momento FB) e tem que dar zero:\n",
    "\n",
    "    VA - F2 - F1 + VB = 0\n",
    "\n",
    "Pasando o VA para o outro lado da equação:"
   ]
  },
  {
   "cell_type": "code",
   "execution_count": 8,
   "metadata": {},
   "outputs": [
    {
     "name": "stdout",
     "output_type": "stream",
     "text": [
      "VA= 5.0 kN\n"
     ]
    }
   ],
   "source": [
    "VA = F2 + F1 - VB\n",
    "\n",
    "print(\"VA=\", VA, \"kN\")"
   ]
  },
  {
   "cell_type": "markdown",
   "metadata": {},
   "source": [
    "Agora para complementar o exercício, vá mudando as variáveis com distância e forças, e dê \"restart & re-run\" para ver os novos resultados."
   ]
  }
 ],
 "metadata": {
  "kernelspec": {
   "display_name": "Python 3",
   "language": "python",
   "name": "python3"
  },
  "language_info": {
   "codemirror_mode": {
    "name": "ipython",
    "version": 3
   },
   "file_extension": ".py",
   "mimetype": "text/x-python",
   "name": "python",
   "nbconvert_exporter": "python",
   "pygments_lexer": "ipython3",
   "version": "3.7.6"
  }
 },
 "nbformat": 4,
 "nbformat_minor": 4
}
