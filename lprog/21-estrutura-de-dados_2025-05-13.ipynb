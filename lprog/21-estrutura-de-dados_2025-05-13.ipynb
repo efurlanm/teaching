{
 "cells": [
  {
   "cell_type": "markdown",
   "metadata": {
    "id": "O0E9L7d4uKh1"
   },
   "source": [
    "# Seção 2.1 - Estruturas de Dados\n",
    "\n",
    "Este Notebook contém alguns exemplos retirados do livro-texto."
   ]
  },
  {
   "cell_type": "markdown",
   "metadata": {
    "id": "tE39Qd1FuV48"
   },
   "source": [
    "### Sequências"
   ]
  },
  {
   "cell_type": "code",
   "execution_count": null,
   "metadata": {
    "colab": {
     "base_uri": "https://localhost:8080/"
    },
    "executionInfo": {
     "elapsed": 306,
     "status": "ok",
     "timestamp": 1692984381997,
     "user": {
      "displayName": "Eduardo Furlan",
      "userId": "03823929547054463581"
     },
     "user_tz": 180
    },
    "id": "kQxSI99UtgFV",
    "outputId": "adcbb74a-71a9-4cf5-bdbe-86908ac72218"
   },
   "outputs": [
    {
     "name": "stdout",
     "output_type": "stream",
     "text": [
      "Tamanho do texto = 60\n",
      "Python in texto = True\n",
      "Quantidade de y no texto = 1\n",
      "As 5 primeiras letras são: Aprend\n"
     ]
    }
   ],
   "source": [
    "texto = \"Aprendendo Python na disciplina de linguagem de programação.\"\n",
    "print(f\"Tamanho do texto = {len(texto)}\")\n",
    "print(f\"Python in texto = {'Python' in texto}\")\n",
    "print(f\"Quantidade de y no texto = {texto.count('y')}\")\n",
    "print(f\"As 5 primeiras letras são: {texto[0:6]}\")"
   ]
  },
  {
   "cell_type": "code",
   "execution_count": null,
   "metadata": {
    "colab": {
     "base_uri": "https://localhost:8080/"
    },
    "executionInfo": {
     "elapsed": 277,
     "status": "ok",
     "timestamp": 1692984395539,
     "user": {
      "displayName": "Eduardo Furlan",
      "userId": "03823929547054463581"
     },
     "user_tz": 180
    },
    "id": "LC21G3X4u7jL",
    "outputId": "29b54f61-4492-40e9-9303-bb052b4148d6"
   },
   "outputs": [
    {
     "name": "stdout",
     "output_type": "stream",
     "text": [
      "APRENDENDO PYTHON NA DISCIPLINA DE LINGUAGEM DE PROGRAMAÇÃO.\n",
      "Aprendendo Python na dXXscXXplXXna de lXXnguagem de programação.\n"
     ]
    }
   ],
   "source": [
    "texto = \"Aprendendo Python na disciplina de linguagem de programação.\"\n",
    "print(texto.upper())\n",
    "print(texto.replace(\"i\", 'XX'))"
   ]
  },
  {
   "cell_type": "markdown",
   "metadata": {
    "id": "f1XflIqdvS01"
   },
   "source": [
    "### Listas"
   ]
  },
  {
   "cell_type": "code",
   "execution_count": null,
   "metadata": {
    "colab": {
     "base_uri": "https://localhost:8080/"
    },
    "executionInfo": {
     "elapsed": 313,
     "status": "ok",
     "timestamp": 1692984538868,
     "user": {
      "displayName": "Eduardo Furlan",
      "userId": "03823929547054463581"
     },
     "user_tz": 180
    },
    "id": "nR1tkfE3vR-I",
    "outputId": "a964fff2-5c14-42e5-bfd6-15ed31ae884b"
   },
   "outputs": [
    {
     "name": "stdout",
     "output_type": "stream",
     "text": [
      "Posição = 0, valor = a\n",
      "Posição = 1, valor = e\n",
      "Posição = 2, valor = i\n",
      "Posição = 3, valor = o\n",
      "Posição = 4, valor = u\n"
     ]
    }
   ],
   "source": [
    "vogais = ['a', 'e', 'i', 'o', 'u']\n",
    "for vogal in vogais:\n",
    "    print(f'Posição = {vogais.index(vogal)}, valor = {vogal}')"
   ]
  },
  {
   "cell_type": "code",
   "execution_count": null,
   "metadata": {
    "colab": {
     "base_uri": "https://localhost:8080/"
    },
    "executionInfo": {
     "elapsed": 269,
     "status": "ok",
     "timestamp": 1692984552965,
     "user": {
      "displayName": "Eduardo Furlan",
      "userId": "03823929547054463581"
     },
     "user_tz": 180
    },
    "id": "iPjXuq9Jvf0w",
    "outputId": "4888ac96-70d9-453b-f272-24cb8f6df588"
   },
   "outputs": [
    {
     "name": "stdout",
     "output_type": "stream",
     "text": [
      "Tipo do objeto vogais = <class 'list'>\n",
      "Posição = 0, valor = a\n",
      "Posição = 1, valor = e\n",
      "Posição = 2, valor = i\n",
      "Posição = 3, valor = o\n",
      "Posição = 4, valor = u\n"
     ]
    }
   ],
   "source": [
    "vogais = []\n",
    "print(f\"Tipo do objeto vogais = {type(vogais)}\")\n",
    "vogais.append('a')\n",
    "vogais.append('e')\n",
    "vogais.append('i')\n",
    "vogais.append('o')\n",
    "vogais.append('u')\n",
    "for p, x in enumerate(vogais):\n",
    "    print(f\"Posição = {p}, valor = {x}\")"
   ]
  },
  {
   "cell_type": "code",
   "execution_count": null,
   "metadata": {
    "colab": {
     "base_uri": "https://localhost:8080/"
    },
    "executionInfo": {
     "elapsed": 307,
     "status": "ok",
     "timestamp": 1692984583498,
     "user": {
      "displayName": "Eduardo Furlan",
      "userId": "03823929547054463581"
     },
     "user_tz": 180
    },
    "id": "WL4Zb94yvlUm",
    "outputId": "85d4cabe-31f5-42f0-aba1-7b488591bb14"
   },
   "outputs": [
    {
     "name": "stdout",
     "output_type": "stream",
     "text": [
      "True\n",
      "False\n",
      "True\n",
      "banana\n",
      "10\n",
      "2\n",
      "['maça', 'banana', 'uva', 'mamão', 'maça', 8.7, 5.2, 10, 3.5]\n",
      "['maça', 'banana', 'uva', 'mamão', 'maça', 'maça', 'banana', 'uva', 'mamão', 'maça']\n"
     ]
    }
   ],
   "source": [
    "frutas = [\"maça\", \"banana\", \"uva\", \"mamão\", \"maça\"]\n",
    "notas = [8.7, 5.2, 10, 3.5]\n",
    "print(\"maça\" in frutas)  # True\n",
    "print(\"abacate\" in frutas)  # False\n",
    "print(\"abacate\" not in frutas)  # True\n",
    "print(min(frutas))  # banana\n",
    "print(max(notas))  # 10\n",
    "print(frutas.count(\"maça\"))  # 2\n",
    "print(frutas + notas)\n",
    "print(2 * frutas)"
   ]
  },
  {
   "cell_type": "code",
   "execution_count": null,
   "metadata": {
    "colab": {
     "base_uri": "https://localhost:8080/"
    },
    "executionInfo": {
     "elapsed": 24,
     "status": "ok",
     "timestamp": 1692984683097,
     "user": {
      "displayName": "Eduardo Furlan",
      "userId": "03823929547054463581"
     },
     "user_tz": 180
    },
    "id": "flrHzuB-vwco",
    "outputId": "c35da264-7344-4354-dc6c-83598f36ffdc"
   },
   "outputs": [
    {
     "name": "stdout",
     "output_type": "stream",
     "text": [
      "Tamanho da lista = 6\n",
      "Posição = 0, valor = Python --> tipo individual = <class 'str'>\n",
      "Posição = 1, valor = 30.61 --> tipo individual = <class 'float'>\n",
      "Posição = 2, valor = Java --> tipo individual = <class 'str'>\n",
      "Posição = 3, valor = 51 --> tipo individual = <class 'int'>\n",
      "Posição = 4, valor = ['a', 'b', 20] --> tipo individual = <class 'list'>\n",
      "Posição = 5, valor = maça --> tipo individual = <class 'str'>\n",
      "\n",
      "Exemplos de slices:\n",
      "\n",
      "lista[1] =  30.61\n",
      "lista[0:2] =  ['Python', 30.61]\n",
      "lista[:2] =  ['Python', 30.61]\n",
      "lista[3:5] =  [51, ['a', 'b', 20]]\n",
      "lista[3:6] =  [51, ['a', 'b', 20], 'maça']\n",
      "lista[3:] =  [51, ['a', 'b', 20], 'maça']\n",
      "lista[-2] =  ['a', 'b', 20]\n",
      "lista[-1] =  maça\n",
      "lista[4][1] =  b\n"
     ]
    }
   ],
   "source": [
    "lista = ['Python', 30.61, \"Java\", 51, ['a', 'b', 20], \"maça\"]\n",
    "print(f\"Tamanho da lista = {len(lista)}\")\n",
    "for i, item in enumerate(lista):\n",
    "    print(f\"Posição = {i}, valor = {item} --> tipo\"\n",
    "          f\" individual = {type(item)}\")\n",
    "print(\"\\nExemplos de slices:\\n\")\n",
    "print(\"lista[1] = \", lista[1])\n",
    "print(\"lista[0:2] = \", lista[0:2])\n",
    "print(\"lista[:2] = \", lista[:2])\n",
    "print(\"lista[3:5] = \", lista[3:5])\n",
    "print(\"lista[3:6] = \", lista[3:6])\n",
    "print(\"lista[3:] = \", lista[3:])\n",
    "print(\"lista[-2] = \", lista[-2])\n",
    "print(\"lista[-1] = \", lista[-1])\n",
    "print(\"lista[4][1] = \", lista[4][1])"
   ]
  },
  {
   "cell_type": "markdown",
   "metadata": {
    "id": "2ACdWwRIu3FA"
   },
   "source": [
    "### map()"
   ]
  },
  {
   "cell_type": "code",
   "execution_count": null,
   "metadata": {
    "id": "J_S2SzD3u1se"
   },
   "outputs": [],
   "source": [
    "linguagens = 'Python Java JavaScript C C# C++ Swift Go Kotlin'.split()"
   ]
  },
  {
   "cell_type": "code",
   "execution_count": null,
   "metadata": {
    "colab": {
     "base_uri": "https://localhost:8080/"
    },
    "executionInfo": {
     "elapsed": 260,
     "status": "ok",
     "timestamp": 1694192521606,
     "user": {
      "displayName": "Eduardo Furlan",
      "userId": "03823929547054463581"
     },
     "user_tz": 180
    },
    "id": "s1S4O8ryvOFN",
    "outputId": "b7ab6b28-d1eb-47b9-cd12-438b5e718928"
   },
   "outputs": [
    {
     "data": {
      "text/plain": [
       "['Python', 'Java', 'JavaScript', 'C', 'C#', 'C++', 'Swift', 'Go', 'Kotlin']"
      ]
     },
     "execution_count": 17,
     "metadata": {},
     "output_type": "execute_result"
    }
   ],
   "source": [
    "linguagens"
   ]
  },
  {
   "cell_type": "code",
   "execution_count": null,
   "metadata": {
    "id": "BBkhE0BPvAMy"
   },
   "outputs": [],
   "source": [
    "nova_lista = map(lambda x: x.lower(), linguagens)"
   ]
  },
  {
   "cell_type": "code",
   "execution_count": null,
   "metadata": {
    "colab": {
     "base_uri": "https://localhost:8080/"
    },
    "executionInfo": {
     "elapsed": 10,
     "status": "ok",
     "timestamp": 1694192673446,
     "user": {
      "displayName": "Eduardo Furlan",
      "userId": "03823929547054463581"
     },
     "user_tz": 180
    },
    "id": "eeVhyVE0vvJK",
    "outputId": "3272520d-8036-4293-bd9d-b95a9148abaf"
   },
   "outputs": [
    {
     "data": {
      "text/plain": [
       "<map at 0x7d4397086b30>"
      ]
     },
     "execution_count": 24,
     "metadata": {},
     "output_type": "execute_result"
    }
   ],
   "source": [
    "nova_lista"
   ]
  },
  {
   "cell_type": "code",
   "execution_count": null,
   "metadata": {
    "colab": {
     "base_uri": "https://localhost:8080/"
    },
    "executionInfo": {
     "elapsed": 238,
     "status": "ok",
     "timestamp": 1694192554159,
     "user": {
      "displayName": "Eduardo Furlan",
      "userId": "03823929547054463581"
     },
     "user_tz": 180
    },
    "id": "nk_5OFoWvHSP",
    "outputId": "d1e9001d-773b-4139-fb8c-0611f11ab6a5"
   },
   "outputs": [
    {
     "data": {
      "text/plain": [
       "['python', 'java', 'javascript', 'c', 'c#', 'c++', 'swift', 'go', 'kotlin']"
      ]
     },
     "execution_count": 20,
     "metadata": {},
     "output_type": "execute_result"
    }
   ],
   "source": [
    "list(nova_lista)"
   ]
  },
  {
   "cell_type": "markdown",
   "metadata": {
    "id": "wP2iPuXEwU8W"
   },
   "source": [
    "Outro exemplo"
   ]
  },
  {
   "cell_type": "code",
   "execution_count": null,
   "metadata": {
    "colab": {
     "base_uri": "https://localhost:8080/"
    },
    "executionInfo": {
     "elapsed": 229,
     "status": "ok",
     "timestamp": 1694192946226,
     "user": {
      "displayName": "Eduardo Furlan",
      "userId": "03823929547054463581"
     },
     "user_tz": 180
    },
    "id": "oPMAkUKkvKOl",
    "outputId": "df50d0a1-379d-4ec0-8a5f-23041d3ebc74"
   },
   "outputs": [
    {
     "name": "stdout",
     "output_type": "stream",
     "text": [
      "<map object at 0x7d4397086080>\n"
     ]
    }
   ],
   "source": [
    "def evaluate(x):\n",
    "    print(x)\n",
    "\n",
    "mymap = map(evaluate, [1,2,3]) # não imprime nada ainda\n",
    "print(mymap)\n"
   ]
  },
  {
   "cell_type": "markdown",
   "metadata": {
    "id": "w33QLtuuw806"
   },
   "source": [
    "next() retorna o próximo item de um iterador"
   ]
  },
  {
   "cell_type": "code",
   "execution_count": null,
   "metadata": {
    "colab": {
     "base_uri": "https://localhost:8080/"
    },
    "executionInfo": {
     "elapsed": 211,
     "status": "ok",
     "timestamp": 1694192947531,
     "user": {
      "displayName": "Eduardo Furlan",
      "userId": "03823929547054463581"
     },
     "user_tz": 180
    },
    "id": "_ds9ym_qwzhq",
    "outputId": "520fee6a-732d-4e86-8903-4f67728b3ed2"
   },
   "outputs": [
    {
     "name": "stdout",
     "output_type": "stream",
     "text": [
      "1\n"
     ]
    }
   ],
   "source": [
    "next(mymap)"
   ]
  },
  {
   "cell_type": "code",
   "execution_count": null,
   "metadata": {
    "colab": {
     "base_uri": "https://localhost:8080/",
     "height": 249
    },
    "executionInfo": {
     "elapsed": 241,
     "status": "error",
     "timestamp": 1694192948936,
     "user": {
      "displayName": "Eduardo Furlan",
      "userId": "03823929547054463581"
     },
     "user_tz": 180
    },
    "id": "psA_zGdzwwHV",
    "outputId": "fbd8a0a9-99e1-4ccf-e565-6a51e9e71ad1"
   },
   "outputs": [
    {
     "name": "stdout",
     "output_type": "stream",
     "text": [
      "2\n",
      "3\n"
     ]
    },
    {
     "ename": "StopIteration",
     "evalue": "ignored",
     "output_type": "error",
     "traceback": [
      "\u001b[0;31m---------------------------------------------------------------------------\u001b[0m",
      "\u001b[0;31mStopIteration\u001b[0m                             Traceback (most recent call last)",
      "\u001b[0;32m<ipython-input-30-4bd46ba7f6f8>\u001b[0m in \u001b[0;36m<cell line: 3>\u001b[0;34m()\u001b[0m\n\u001b[1;32m      1\u001b[0m \u001b[0mnext\u001b[0m\u001b[0;34m(\u001b[0m\u001b[0mmymap\u001b[0m\u001b[0;34m)\u001b[0m\u001b[0;34m\u001b[0m\u001b[0;34m\u001b[0m\u001b[0m\n\u001b[1;32m      2\u001b[0m \u001b[0mnext\u001b[0m\u001b[0;34m(\u001b[0m\u001b[0mmymap\u001b[0m\u001b[0;34m)\u001b[0m\u001b[0;34m\u001b[0m\u001b[0;34m\u001b[0m\u001b[0m\n\u001b[0;32m----> 3\u001b[0;31m \u001b[0mnext\u001b[0m\u001b[0;34m(\u001b[0m\u001b[0mmymap\u001b[0m\u001b[0;34m)\u001b[0m\u001b[0;34m\u001b[0m\u001b[0;34m\u001b[0m\u001b[0m\n\u001b[0m",
      "\u001b[0;31mStopIteration\u001b[0m: "
     ]
    }
   ],
   "source": [
    "\n",
    "next(mymap)\n",
    "next(mymap)\n",
    "next(mymap)"
   ]
  },
  {
   "cell_type": "markdown",
   "metadata": {
    "id": "ztTaCqGCydXy"
   },
   "source": [
    "### filter()"
   ]
  },
  {
   "cell_type": "code",
   "execution_count": null,
   "metadata": {
    "id": "2ObzExgPxY53"
   },
   "outputs": [],
   "source": [
    "num = list(range(21))"
   ]
  },
  {
   "cell_type": "code",
   "execution_count": null,
   "metadata": {
    "colab": {
     "base_uri": "https://localhost:8080/"
    },
    "executionInfo": {
     "elapsed": 14,
     "status": "ok",
     "timestamp": 1694193363471,
     "user": {
      "displayName": "Eduardo Furlan",
      "userId": "03823929547054463581"
     },
     "user_tz": 180
    },
    "id": "wBEFi9JEyx3y",
    "outputId": "21430938-7330-4d62-a43d-a4c5bd6840cc"
   },
   "outputs": [
    {
     "data": {
      "text/plain": [
       "[0, 1, 2, 3, 4, 5, 6, 7, 8, 9, 10, 11, 12, 13, 14, 15, 16, 17, 18, 19, 20]"
      ]
     },
     "execution_count": 38,
     "metadata": {},
     "output_type": "execute_result"
    }
   ],
   "source": [
    "num"
   ]
  },
  {
   "cell_type": "code",
   "execution_count": null,
   "metadata": {
    "colab": {
     "base_uri": "https://localhost:8080/"
    },
    "executionInfo": {
     "elapsed": 232,
     "status": "ok",
     "timestamp": 1694193396360,
     "user": {
      "displayName": "Eduardo Furlan",
      "userId": "03823929547054463581"
     },
     "user_tz": 180
    },
    "id": "u9OkujFnyybw",
    "outputId": "8fb45566-8aec-454a-82de-c291b12cb1ed"
   },
   "outputs": [
    {
     "data": {
      "text/plain": [
       "<filter at 0x7d4364532110>"
      ]
     },
     "execution_count": 40,
     "metadata": {},
     "output_type": "execute_result"
    }
   ],
   "source": [
    "a = filter(lambda x: x % 2 == 0, num)\n",
    "a"
   ]
  },
  {
   "cell_type": "code",
   "execution_count": null,
   "metadata": {
    "colab": {
     "base_uri": "https://localhost:8080/"
    },
    "executionInfo": {
     "elapsed": 251,
     "status": "ok",
     "timestamp": 1694193404806,
     "user": {
      "displayName": "Eduardo Furlan",
      "userId": "03823929547054463581"
     },
     "user_tz": 180
    },
    "id": "uf6MNtJZy3wv",
    "outputId": "2437e110-220c-4689-b2a6-89b308abd658"
   },
   "outputs": [
    {
     "data": {
      "text/plain": [
       "[0, 2, 4, 6, 8, 10, 12, 14, 16, 18, 20]"
      ]
     },
     "execution_count": 41,
     "metadata": {},
     "output_type": "execute_result"
    }
   ],
   "source": [
    "list(a)"
   ]
  },
  {
   "cell_type": "markdown",
   "metadata": {
    "id": "Gy_2CmzAzFxH"
   },
   "source": [
    "## Tuplas\n",
    "\n",
    "- Tuplas são imutáveis"
   ]
  },
  {
   "cell_type": "code",
   "execution_count": null,
   "metadata": {
    "colab": {
     "base_uri": "https://localhost:8080/"
    },
    "executionInfo": {
     "elapsed": 15,
     "status": "ok",
     "timestamp": 1694193530015,
     "user": {
      "displayName": "Eduardo Furlan",
      "userId": "03823929547054463581"
     },
     "user_tz": 180
    },
    "id": "riWNRF_fy705",
    "outputId": "dbb175be-7d6d-483b-e7a8-e0be2375a2c2"
   },
   "outputs": [
    {
     "data": {
      "text/plain": [
       "()"
      ]
     },
     "execution_count": 42,
     "metadata": {},
     "output_type": "execute_result"
    }
   ],
   "source": [
    "tupla01 = ()  # tupla vazia\n",
    "tupla01"
   ]
  },
  {
   "cell_type": "code",
   "execution_count": null,
   "metadata": {
    "colab": {
     "base_uri": "https://localhost:8080/"
    },
    "executionInfo": {
     "elapsed": 250,
     "status": "ok",
     "timestamp": 1694193564254,
     "user": {
      "displayName": "Eduardo Furlan",
      "userId": "03823929547054463581"
     },
     "user_tz": 180
    },
    "id": "Z3U-9n8bzbJS",
    "outputId": "1bee6db9-103b-4c5c-a2b6-667f0a6dddd2"
   },
   "outputs": [
    {
     "data": {
      "text/plain": [
       "(1, 2, 3)"
      ]
     },
     "execution_count": 44,
     "metadata": {},
     "output_type": "execute_result"
    }
   ],
   "source": [
    "tupla01 = (1, 2, 3)\n",
    "tupla01"
   ]
  },
  {
   "cell_type": "code",
   "execution_count": null,
   "metadata": {
    "id": "BfaQVVOczngq"
   },
   "outputs": [],
   "source": [
    "vogais = ('a', 'e', 'i', 'o', 'u')"
   ]
  },
  {
   "cell_type": "markdown",
   "metadata": {
    "id": "fAl37vwC0EG3"
   },
   "source": [
    "enumerate() : qdo precisamos de um contador e um valor"
   ]
  },
  {
   "cell_type": "code",
   "execution_count": null,
   "metadata": {
    "colab": {
     "base_uri": "https://localhost:8080/"
    },
    "executionInfo": {
     "elapsed": 338,
     "status": "ok",
     "timestamp": 1694193747666,
     "user": {
      "displayName": "Eduardo Furlan",
      "userId": "03823929547054463581"
     },
     "user_tz": 180
    },
    "id": "PxFM00Ebz2yr",
    "outputId": "befd0b02-24a5-4c66-c5f1-e9ead98e2016"
   },
   "outputs": [
    {
     "name": "stdout",
     "output_type": "stream",
     "text": [
      "0 a\n",
      "1 e\n",
      "2 i\n",
      "3 o\n",
      "4 u\n"
     ]
    }
   ],
   "source": [
    " for p, x in enumerate(vogais) :\n",
    "    print(p, x)"
   ]
  },
  {
   "cell_type": "markdown",
   "metadata": {
    "id": "AdkGALQF0fjT"
   },
   "source": [
    "## Set\n",
    "\n",
    "- Armazena vários itens em uma única variável\n",
    "- Não permite itens duplicados, não é ordenado, não é indexado, não pode ser alterado (porém pode ser eliminado ou adicionado)"
   ]
  },
  {
   "cell_type": "code",
   "execution_count": null,
   "metadata": {
    "colab": {
     "base_uri": "https://localhost:8080/"
    },
    "executionInfo": {
     "elapsed": 214,
     "status": "ok",
     "timestamp": 1694194186504,
     "user": {
      "displayName": "Eduardo Furlan",
      "userId": "03823929547054463581"
     },
     "user_tz": 180
    },
    "id": "u2TIrDi30g5D",
    "outputId": "c6115176-7db3-4890-aaa7-9aee5c4b78a3"
   },
   "outputs": [
    {
     "data": {
      "text/plain": [
       "{'a', 'b', 'c'}"
      ]
     },
     "execution_count": 63,
     "metadata": {},
     "output_type": "execute_result"
    }
   ],
   "source": [
    " set1 = {'a', 'b', 'c'}\n",
    " set1"
   ]
  },
  {
   "cell_type": "code",
   "execution_count": null,
   "metadata": {
    "colab": {
     "base_uri": "https://localhost:8080/"
    },
    "executionInfo": {
     "elapsed": 227,
     "status": "ok",
     "timestamp": 1694194418100,
     "user": {
      "displayName": "Eduardo Furlan",
      "userId": "03823929547054463581"
     },
     "user_tz": 180
    },
    "id": "oeJVTBtq1FId",
    "outputId": "acd47d6b-383f-4820-fa45-7490a6b30cb3"
   },
   "outputs": [
    {
     "data": {
      "text/plain": [
       "{'a', 'b', 'c'}"
      ]
     },
     "execution_count": 69,
     "metadata": {},
     "output_type": "execute_result"
    }
   ],
   "source": [
    "set1.add('a')\n",
    "set1"
   ]
  },
  {
   "cell_type": "code",
   "execution_count": null,
   "metadata": {
    "id": "JjUKeCVS1IXU"
   },
   "outputs": [],
   "source": [
    "set1 = set(['a', 'b', 'c'])"
   ]
  },
  {
   "cell_type": "code",
   "execution_count": null,
   "metadata": {
    "colab": {
     "base_uri": "https://localhost:8080/"
    },
    "executionInfo": {
     "elapsed": 245,
     "status": "ok",
     "timestamp": 1694194407488,
     "user": {
      "displayName": "Eduardo Furlan",
      "userId": "03823929547054463581"
     },
     "user_tz": 180
    },
    "id": "12iF6Aye1xqe",
    "outputId": "81bc7a6f-26ba-416f-e485-e7f53b5f7e05"
   },
   "outputs": [
    {
     "data": {
      "text/plain": [
       "{'a', 'b', 'c'}"
      ]
     },
     "execution_count": 68,
     "metadata": {},
     "output_type": "execute_result"
    }
   ],
   "source": [
    "set1"
   ]
  },
  {
   "cell_type": "markdown",
   "metadata": {
    "id": "MFk1uHdz26Ju"
   },
   "source": [
    "### Dicionário\n",
    "\n",
    "- Pode ser alterado, não pode duplicado."
   ]
  },
  {
   "cell_type": "code",
   "execution_count": null,
   "metadata": {
    "id": "k2XWliGm22iQ"
   },
   "outputs": [],
   "source": [
    "thisdict = {\n",
    "  \"brand\": \"Ford\",\n",
    "  \"model\": \"Mustang\",\n",
    "  \"year\": 1964\n",
    "}"
   ]
  },
  {
   "cell_type": "code",
   "execution_count": null,
   "metadata": {
    "colab": {
     "base_uri": "https://localhost:8080/"
    },
    "executionInfo": {
     "elapsed": 16,
     "status": "ok",
     "timestamp": 1694194553097,
     "user": {
      "displayName": "Eduardo Furlan",
      "userId": "03823929547054463581"
     },
     "user_tz": 180
    },
    "id": "rfnND_Hq3T0k",
    "outputId": "2d8403c1-63b6-41aa-b15e-ed3a604e5c88"
   },
   "outputs": [
    {
     "data": {
      "text/plain": [
       "{'brand': 'Ford', 'model': 'Mustang', 'year': 1964}"
      ]
     },
     "execution_count": 72,
     "metadata": {},
     "output_type": "execute_result"
    }
   ],
   "source": [
    "thisdict"
   ]
  },
  {
   "cell_type": "code",
   "execution_count": null,
   "metadata": {
    "colab": {
     "base_uri": "https://localhost:8080/",
     "height": 37
    },
    "executionInfo": {
     "elapsed": 27,
     "status": "ok",
     "timestamp": 1694194571086,
     "user": {
      "displayName": "Eduardo Furlan",
      "userId": "03823929547054463581"
     },
     "user_tz": 180
    },
    "id": "TDgevI8M3U02",
    "outputId": "8ce55ce7-a802-409c-86d2-b1e366efc547"
   },
   "outputs": [
    {
     "data": {
      "application/vnd.google.colaboratory.intrinsic+json": {
       "type": "string"
      },
      "text/plain": [
       "'Mustang'"
      ]
     },
     "execution_count": 73,
     "metadata": {},
     "output_type": "execute_result"
    }
   ],
   "source": [
    "thisdict['model']"
   ]
  },
  {
   "cell_type": "markdown",
   "metadata": {
    "id": "IE-GnLOL4Ysm"
   },
   "source": [
    "### Array NumPy\n",
    "\n",
    "- NumPy é uma bilbioteca para computação científica, bastante utilizada."
   ]
  },
  {
   "cell_type": "code",
   "execution_count": null,
   "metadata": {
    "id": "IwnKP9-N4au6"
   },
   "outputs": [],
   "source": [
    "import numpy as np\n",
    "\n",
    "matriz = np.array([[1, 2], [3, 4]])"
   ]
  },
  {
   "cell_type": "code",
   "execution_count": null,
   "metadata": {
    "colab": {
     "base_uri": "https://localhost:8080/"
    },
    "executionInfo": {
     "elapsed": 16,
     "status": "ok",
     "timestamp": 1694194994654,
     "user": {
      "displayName": "Eduardo Furlan",
      "userId": "03823929547054463581"
     },
     "user_tz": 180
    },
    "id": "N1c_bAUz4mFU",
    "outputId": "8eb34076-4ea0-478e-841a-92495bc4491a"
   },
   "outputs": [
    {
     "data": {
      "text/plain": [
       "array([[1, 2],\n",
       "       [3, 4]])"
      ]
     },
     "execution_count": 81,
     "metadata": {},
     "output_type": "execute_result"
    }
   ],
   "source": [
    "matriz"
   ]
  },
  {
   "cell_type": "code",
   "execution_count": null,
   "metadata": {
    "colab": {
     "base_uri": "https://localhost:8080/"
    },
    "executionInfo": {
     "elapsed": 215,
     "status": "ok",
     "timestamp": 1694195041493,
     "user": {
      "displayName": "Eduardo Furlan",
      "userId": "03823929547054463581"
     },
     "user_tz": 180
    },
    "id": "1gBQXh604ps8",
    "outputId": "1be38f36-08f8-4017-e05f-ffeac5583cfa"
   },
   "outputs": [
    {
     "data": {
      "text/plain": [
       "array([[0., 0., 0.],\n",
       "       [0., 0., 0.],\n",
       "       [0., 0., 0.]])"
      ]
     },
     "execution_count": 83,
     "metadata": {},
     "output_type": "execute_result"
    }
   ],
   "source": [
    "np.zeros((3, 3))"
   ]
  },
  {
   "cell_type": "code",
   "execution_count": null,
   "metadata": {
    "colab": {
     "base_uri": "https://localhost:8080/"
    },
    "executionInfo": {
     "elapsed": 9,
     "status": "ok",
     "timestamp": 1694195094982,
     "user": {
      "displayName": "Eduardo Furlan",
      "userId": "03823929547054463581"
     },
     "user_tz": 180
    },
    "id": "AVwZG3hG5Hx-",
    "outputId": "d7f3927e-59c2-4688-9af9-6c68527d95c1"
   },
   "outputs": [
    {
     "data": {
      "text/plain": [
       "array([[1., 1.],\n",
       "       [1., 1.]])"
      ]
     },
     "execution_count": 87,
     "metadata": {},
     "output_type": "execute_result"
    }
   ],
   "source": [
    "np.ones((2,2))"
   ]
  },
  {
   "cell_type": "code",
   "execution_count": null,
   "metadata": {
    "colab": {
     "base_uri": "https://localhost:8080/"
    },
    "executionInfo": {
     "elapsed": 273,
     "status": "ok",
     "timestamp": 1694195203158,
     "user": {
      "displayName": "Eduardo Furlan",
      "userId": "03823929547054463581"
     },
     "user_tz": 180
    },
    "id": "sab1gTXF5Vhu",
    "outputId": "6a9dc401-7fac-4a33-f18d-98b8d787c99f"
   },
   "outputs": [
    {
     "data": {
      "text/plain": [
       "array([[1., 0., 0., 0.],\n",
       "       [0., 1., 0., 0.],\n",
       "       [0., 0., 1., 0.],\n",
       "       [0., 0., 0., 1.]])"
      ]
     },
     "execution_count": 92,
     "metadata": {},
     "output_type": "execute_result"
    }
   ],
   "source": [
    "np.eye(4)    # matriz identidade"
   ]
  },
  {
   "cell_type": "code",
   "execution_count": null,
   "metadata": {
    "colab": {
     "base_uri": "https://localhost:8080/"
    },
    "executionInfo": {
     "elapsed": 6,
     "status": "ok",
     "timestamp": 1694195212243,
     "user": {
      "displayName": "Eduardo Furlan",
      "userId": "03823929547054463581"
     },
     "user_tz": 180
    },
    "id": "Gsz_Zzpu50ne",
    "outputId": "57df6a83-6932-4ea8-8ec6-f95022ae642d"
   },
   "outputs": [
    {
     "data": {
      "text/plain": [
       "4.0"
      ]
     },
     "execution_count": 93,
     "metadata": {},
     "output_type": "execute_result"
    }
   ],
   "source": [
    "np.eye(4).sum()  # também: min, máx, mean"
   ]
  },
  {
   "cell_type": "code",
   "execution_count": null,
   "metadata": {
    "colab": {
     "base_uri": "https://localhost:8080/"
    },
    "executionInfo": {
     "elapsed": 248,
     "status": "ok",
     "timestamp": 1694195157109,
     "user": {
      "displayName": "Eduardo Furlan",
      "userId": "03823929547054463581"
     },
     "user_tz": 180
    },
    "id": "Z0uOuDWW5dRr",
    "outputId": "4008653d-e328-48f8-9742-f651f20112ed"
   },
   "outputs": [
    {
     "data": {
      "text/plain": [
       "array([[1., 1., 1., 1., 1.]])"
      ]
     },
     "execution_count": 89,
     "metadata": {},
     "output_type": "execute_result"
    }
   ],
   "source": [
    "np.ones((1,5))"
   ]
  },
  {
   "cell_type": "code",
   "execution_count": null,
   "metadata": {
    "colab": {
     "base_uri": "https://localhost:8080/"
    },
    "executionInfo": {
     "elapsed": 207,
     "status": "ok",
     "timestamp": 1694195183998,
     "user": {
      "displayName": "Eduardo Furlan",
      "userId": "03823929547054463581"
     },
     "user_tz": 180
    },
    "id": "WvKWuuZG5oWx",
    "outputId": "574e1610-9b85-4bc2-9129-566d7a9648a3"
   },
   "outputs": [
    {
     "data": {
      "text/plain": [
       "array([[1.],\n",
       "       [1.],\n",
       "       [1.],\n",
       "       [1.],\n",
       "       [1.]])"
      ]
     },
     "execution_count": 91,
     "metadata": {},
     "output_type": "execute_result"
    }
   ],
   "source": [
    "numpy.ones((1,5)).reshape(5,1)"
   ]
  },
  {
   "cell_type": "markdown",
   "metadata": {
    "id": "wbZ4aRmbKqUp"
   },
   "source": []
  },
  {
   "cell_type": "markdown",
   "metadata": {
    "id": "M5tGfNJl4OGL"
   },
   "source": [
    "<hr color='green' size=10>"
   ]
  },
  {
   "cell_type": "markdown",
   "metadata": {
    "id": "vFOwzTLyqLMe"
   },
   "source": [
    "### Biblioteca Pandas (introdução)"
   ]
  },
  {
   "cell_type": "code",
   "execution_count": null,
   "metadata": {
    "id": "QJ5_edpHqvap"
   },
   "outputs": [],
   "source": [
    "import pandas as pd"
   ]
  },
  {
   "cell_type": "code",
   "execution_count": null,
   "metadata": {
    "id": "N9p26oACqyJf"
   },
   "outputs": [],
   "source": [
    "mydataset = {\n",
    "  'carros': [\"BMW\", \"Volvo\", \"Ford\"],\n",
    "  'passageiros': [3, 7, 2]\n",
    "}"
   ]
  },
  {
   "cell_type": "code",
   "execution_count": null,
   "metadata": {
    "colab": {
     "base_uri": "https://localhost:8080/"
    },
    "executionInfo": {
     "elapsed": 3,
     "status": "ok",
     "timestamp": 1694359966002,
     "user": {
      "displayName": "Eduardo Furlan",
      "userId": "03823929547054463581"
     },
     "user_tz": 180
    },
    "id": "3e4d2rofq4Oz",
    "outputId": "a22757b4-1f3b-4a04-faf1-7f65f9dce229"
   },
   "outputs": [
    {
     "data": {
      "text/plain": [
       "{'carros': ['BMW', 'Volvo', 'Ford'], 'passageiros': [3, 7, 2]}"
      ]
     },
     "execution_count": 7,
     "metadata": {},
     "output_type": "execute_result"
    }
   ],
   "source": [
    "mydataset"
   ]
  },
  {
   "cell_type": "code",
   "execution_count": null,
   "metadata": {
    "id": "TmNzHWkft4rO"
   },
   "outputs": [],
   "source": [
    "myvar = pd.DataFrame(mydataset)"
   ]
  },
  {
   "cell_type": "code",
   "execution_count": null,
   "metadata": {
    "colab": {
     "base_uri": "https://localhost:8080/",
     "height": 143
    },
    "executionInfo": {
     "elapsed": 260,
     "status": "ok",
     "timestamp": 1694359974162,
     "user": {
      "displayName": "Eduardo Furlan",
      "userId": "03823929547054463581"
     },
     "user_tz": 180
    },
    "id": "XV-6cc7St_aL",
    "outputId": "f15e1915-b7cf-4751-d44e-f0bc7a90ac9d"
   },
   "outputs": [
    {
     "data": {
      "text/html": [
       "\n",
       "  <div id=\"df-e14ba11e-9f44-4422-ba8f-7d6accd1d620\" class=\"colab-df-container\">\n",
       "    <div>\n",
       "<style scoped>\n",
       "    .dataframe tbody tr th:only-of-type {\n",
       "        vertical-align: middle;\n",
       "    }\n",
       "\n",
       "    .dataframe tbody tr th {\n",
       "        vertical-align: top;\n",
       "    }\n",
       "\n",
       "    .dataframe thead th {\n",
       "        text-align: right;\n",
       "    }\n",
       "</style>\n",
       "<table border=\"1\" class=\"dataframe\">\n",
       "  <thead>\n",
       "    <tr style=\"text-align: right;\">\n",
       "      <th></th>\n",
       "      <th>carros</th>\n",
       "      <th>passageiros</th>\n",
       "    </tr>\n",
       "  </thead>\n",
       "  <tbody>\n",
       "    <tr>\n",
       "      <th>0</th>\n",
       "      <td>BMW</td>\n",
       "      <td>3</td>\n",
       "    </tr>\n",
       "    <tr>\n",
       "      <th>1</th>\n",
       "      <td>Volvo</td>\n",
       "      <td>7</td>\n",
       "    </tr>\n",
       "    <tr>\n",
       "      <th>2</th>\n",
       "      <td>Ford</td>\n",
       "      <td>2</td>\n",
       "    </tr>\n",
       "  </tbody>\n",
       "</table>\n",
       "</div>\n",
       "    <div class=\"colab-df-buttons\">\n",
       "\n",
       "  <div class=\"colab-df-container\">\n",
       "    <button class=\"colab-df-convert\" onclick=\"convertToInteractive('df-e14ba11e-9f44-4422-ba8f-7d6accd1d620')\"\n",
       "            title=\"Convert this dataframe to an interactive table.\"\n",
       "            style=\"display:none;\">\n",
       "\n",
       "  <svg xmlns=\"http://www.w3.org/2000/svg\" height=\"24px\" viewBox=\"0 -960 960 960\">\n",
       "    <path d=\"M120-120v-720h720v720H120Zm60-500h600v-160H180v160Zm220 220h160v-160H400v160Zm0 220h160v-160H400v160ZM180-400h160v-160H180v160Zm440 0h160v-160H620v160ZM180-180h160v-160H180v160Zm440 0h160v-160H620v160Z\"/>\n",
       "  </svg>\n",
       "    </button>\n",
       "\n",
       "  <style>\n",
       "    .colab-df-container {\n",
       "      display:flex;\n",
       "      gap: 12px;\n",
       "    }\n",
       "\n",
       "    .colab-df-convert {\n",
       "      background-color: #E8F0FE;\n",
       "      border: none;\n",
       "      border-radius: 50%;\n",
       "      cursor: pointer;\n",
       "      display: none;\n",
       "      fill: #1967D2;\n",
       "      height: 32px;\n",
       "      padding: 0 0 0 0;\n",
       "      width: 32px;\n",
       "    }\n",
       "\n",
       "    .colab-df-convert:hover {\n",
       "      background-color: #E2EBFA;\n",
       "      box-shadow: 0px 1px 2px rgba(60, 64, 67, 0.3), 0px 1px 3px 1px rgba(60, 64, 67, 0.15);\n",
       "      fill: #174EA6;\n",
       "    }\n",
       "\n",
       "    .colab-df-buttons div {\n",
       "      margin-bottom: 4px;\n",
       "    }\n",
       "\n",
       "    [theme=dark] .colab-df-convert {\n",
       "      background-color: #3B4455;\n",
       "      fill: #D2E3FC;\n",
       "    }\n",
       "\n",
       "    [theme=dark] .colab-df-convert:hover {\n",
       "      background-color: #434B5C;\n",
       "      box-shadow: 0px 1px 3px 1px rgba(0, 0, 0, 0.15);\n",
       "      filter: drop-shadow(0px 1px 2px rgba(0, 0, 0, 0.3));\n",
       "      fill: #FFFFFF;\n",
       "    }\n",
       "  </style>\n",
       "\n",
       "    <script>\n",
       "      const buttonEl =\n",
       "        document.querySelector('#df-e14ba11e-9f44-4422-ba8f-7d6accd1d620 button.colab-df-convert');\n",
       "      buttonEl.style.display =\n",
       "        google.colab.kernel.accessAllowed ? 'block' : 'none';\n",
       "\n",
       "      async function convertToInteractive(key) {\n",
       "        const element = document.querySelector('#df-e14ba11e-9f44-4422-ba8f-7d6accd1d620');\n",
       "        const dataTable =\n",
       "          await google.colab.kernel.invokeFunction('convertToInteractive',\n",
       "                                                    [key], {});\n",
       "        if (!dataTable) return;\n",
       "\n",
       "        const docLinkHtml = 'Like what you see? Visit the ' +\n",
       "          '<a target=\"_blank\" href=https://colab.research.google.com/notebooks/data_table.ipynb>data table notebook</a>'\n",
       "          + ' to learn more about interactive tables.';\n",
       "        element.innerHTML = '';\n",
       "        dataTable['output_type'] = 'display_data';\n",
       "        await google.colab.output.renderOutput(dataTable, element);\n",
       "        const docLink = document.createElement('div');\n",
       "        docLink.innerHTML = docLinkHtml;\n",
       "        element.appendChild(docLink);\n",
       "      }\n",
       "    </script>\n",
       "  </div>\n",
       "\n",
       "\n",
       "<div id=\"df-962ab4fd-0ee1-477e-b1fa-4d49ed52d8ad\">\n",
       "  <button class=\"colab-df-quickchart\" onclick=\"quickchart('df-962ab4fd-0ee1-477e-b1fa-4d49ed52d8ad')\"\n",
       "            title=\"Suggest charts.\"\n",
       "            style=\"display:none;\">\n",
       "\n",
       "<svg xmlns=\"http://www.w3.org/2000/svg\" height=\"24px\"viewBox=\"0 0 24 24\"\n",
       "     width=\"24px\">\n",
       "    <g>\n",
       "        <path d=\"M19 3H5c-1.1 0-2 .9-2 2v14c0 1.1.9 2 2 2h14c1.1 0 2-.9 2-2V5c0-1.1-.9-2-2-2zM9 17H7v-7h2v7zm4 0h-2V7h2v10zm4 0h-2v-4h2v4z\"/>\n",
       "    </g>\n",
       "</svg>\n",
       "  </button>\n",
       "\n",
       "<style>\n",
       "  .colab-df-quickchart {\n",
       "      --bg-color: #E8F0FE;\n",
       "      --fill-color: #1967D2;\n",
       "      --hover-bg-color: #E2EBFA;\n",
       "      --hover-fill-color: #174EA6;\n",
       "      --disabled-fill-color: #AAA;\n",
       "      --disabled-bg-color: #DDD;\n",
       "  }\n",
       "\n",
       "  [theme=dark] .colab-df-quickchart {\n",
       "      --bg-color: #3B4455;\n",
       "      --fill-color: #D2E3FC;\n",
       "      --hover-bg-color: #434B5C;\n",
       "      --hover-fill-color: #FFFFFF;\n",
       "      --disabled-bg-color: #3B4455;\n",
       "      --disabled-fill-color: #666;\n",
       "  }\n",
       "\n",
       "  .colab-df-quickchart {\n",
       "    background-color: var(--bg-color);\n",
       "    border: none;\n",
       "    border-radius: 50%;\n",
       "    cursor: pointer;\n",
       "    display: none;\n",
       "    fill: var(--fill-color);\n",
       "    height: 32px;\n",
       "    padding: 0;\n",
       "    width: 32px;\n",
       "  }\n",
       "\n",
       "  .colab-df-quickchart:hover {\n",
       "    background-color: var(--hover-bg-color);\n",
       "    box-shadow: 0 1px 2px rgba(60, 64, 67, 0.3), 0 1px 3px 1px rgba(60, 64, 67, 0.15);\n",
       "    fill: var(--button-hover-fill-color);\n",
       "  }\n",
       "\n",
       "  .colab-df-quickchart-complete:disabled,\n",
       "  .colab-df-quickchart-complete:disabled:hover {\n",
       "    background-color: var(--disabled-bg-color);\n",
       "    fill: var(--disabled-fill-color);\n",
       "    box-shadow: none;\n",
       "  }\n",
       "\n",
       "  .colab-df-spinner {\n",
       "    border: 2px solid var(--fill-color);\n",
       "    border-color: transparent;\n",
       "    border-bottom-color: var(--fill-color);\n",
       "    animation:\n",
       "      spin 1s steps(1) infinite;\n",
       "  }\n",
       "\n",
       "  @keyframes spin {\n",
       "    0% {\n",
       "      border-color: transparent;\n",
       "      border-bottom-color: var(--fill-color);\n",
       "      border-left-color: var(--fill-color);\n",
       "    }\n",
       "    20% {\n",
       "      border-color: transparent;\n",
       "      border-left-color: var(--fill-color);\n",
       "      border-top-color: var(--fill-color);\n",
       "    }\n",
       "    30% {\n",
       "      border-color: transparent;\n",
       "      border-left-color: var(--fill-color);\n",
       "      border-top-color: var(--fill-color);\n",
       "      border-right-color: var(--fill-color);\n",
       "    }\n",
       "    40% {\n",
       "      border-color: transparent;\n",
       "      border-right-color: var(--fill-color);\n",
       "      border-top-color: var(--fill-color);\n",
       "    }\n",
       "    60% {\n",
       "      border-color: transparent;\n",
       "      border-right-color: var(--fill-color);\n",
       "    }\n",
       "    80% {\n",
       "      border-color: transparent;\n",
       "      border-right-color: var(--fill-color);\n",
       "      border-bottom-color: var(--fill-color);\n",
       "    }\n",
       "    90% {\n",
       "      border-color: transparent;\n",
       "      border-bottom-color: var(--fill-color);\n",
       "    }\n",
       "  }\n",
       "</style>\n",
       "\n",
       "  <script>\n",
       "    async function quickchart(key) {\n",
       "      const quickchartButtonEl =\n",
       "        document.querySelector('#' + key + ' button');\n",
       "      quickchartButtonEl.disabled = true;  // To prevent multiple clicks.\n",
       "      quickchartButtonEl.classList.add('colab-df-spinner');\n",
       "      try {\n",
       "        const charts = await google.colab.kernel.invokeFunction(\n",
       "            'suggestCharts', [key], {});\n",
       "      } catch (error) {\n",
       "        console.error('Error during call to suggestCharts:', error);\n",
       "      }\n",
       "      quickchartButtonEl.classList.remove('colab-df-spinner');\n",
       "      quickchartButtonEl.classList.add('colab-df-quickchart-complete');\n",
       "    }\n",
       "    (() => {\n",
       "      let quickchartButtonEl =\n",
       "        document.querySelector('#df-962ab4fd-0ee1-477e-b1fa-4d49ed52d8ad button');\n",
       "      quickchartButtonEl.style.display =\n",
       "        google.colab.kernel.accessAllowed ? 'block' : 'none';\n",
       "    })();\n",
       "  </script>\n",
       "</div>\n",
       "    </div>\n",
       "  </div>\n"
      ],
      "text/plain": [
       "  carros  passageiros\n",
       "0    BMW            3\n",
       "1  Volvo            7\n",
       "2   Ford            2"
      ]
     },
     "execution_count": 9,
     "metadata": {},
     "output_type": "execute_result"
    }
   ],
   "source": [
    "myvar"
   ]
  },
  {
   "cell_type": "code",
   "execution_count": null,
   "metadata": {
    "colab": {
     "base_uri": "https://localhost:8080/"
    },
    "executionInfo": {
     "elapsed": 232,
     "status": "ok",
     "timestamp": 1694360120796,
     "user": {
      "displayName": "Eduardo Furlan",
      "userId": "03823929547054463581"
     },
     "user_tz": 180
    },
    "id": "Sk6xLUMiupov",
    "outputId": "c73fe1b8-c94d-4d71-d9b6-7fb48acfc587"
   },
   "outputs": [
    {
     "data": {
      "text/plain": [
       "0    1\n",
       "1    7\n",
       "2    2\n",
       "dtype: int64"
      ]
     },
     "execution_count": 16,
     "metadata": {},
     "output_type": "execute_result"
    }
   ],
   "source": [
    "a = pd.Series([1, 7, 2])\n",
    "a"
   ]
  },
  {
   "cell_type": "code",
   "execution_count": null,
   "metadata": {
    "colab": {
     "base_uri": "https://localhost:8080/"
    },
    "executionInfo": {
     "elapsed": 224,
     "status": "ok",
     "timestamp": 1694360138766,
     "user": {
      "displayName": "Eduardo Furlan",
      "userId": "03823929547054463581"
     },
     "user_tz": 180
    },
    "id": "3TnmxjF6u8fi",
    "outputId": "f36032f7-6396-41fc-d5b2-ccb0cffbed9f"
   },
   "outputs": [
    {
     "data": {
      "text/plain": [
       "1"
      ]
     },
     "execution_count": 17,
     "metadata": {},
     "output_type": "execute_result"
    }
   ],
   "source": [
    "a[0]"
   ]
  },
  {
   "cell_type": "code",
   "execution_count": null,
   "metadata": {
    "colab": {
     "base_uri": "https://localhost:8080/"
    },
    "executionInfo": {
     "elapsed": 8,
     "status": "ok",
     "timestamp": 1694360176669,
     "user": {
      "displayName": "Eduardo Furlan",
      "userId": "03823929547054463581"
     },
     "user_tz": 180
    },
    "id": "-zxf33_gvDtp",
    "outputId": "0a0d58eb-f392-4c96-8dc7-e6d6dc3d1a9f"
   },
   "outputs": [
    {
     "data": {
      "text/plain": [
       "x    1\n",
       "y    7\n",
       "z    2\n",
       "dtype: int64"
      ]
     },
     "execution_count": 18,
     "metadata": {},
     "output_type": "execute_result"
    }
   ],
   "source": [
    "a = [1, 7, 2]\n",
    "myvar = pd.Series(a, index = [\"x\", \"y\", \"z\"])\n",
    "myvar"
   ]
  },
  {
   "cell_type": "code",
   "execution_count": null,
   "metadata": {
    "colab": {
     "base_uri": "https://localhost:8080/"
    },
    "executionInfo": {
     "elapsed": 7,
     "status": "ok",
     "timestamp": 1694360194141,
     "user": {
      "displayName": "Eduardo Furlan",
      "userId": "03823929547054463581"
     },
     "user_tz": 180
    },
    "id": "s5fgOCrXvJgC",
    "outputId": "a590a8a4-b253-4dd2-acdb-3237a2c46b53"
   },
   "outputs": [
    {
     "data": {
      "text/plain": [
       "7"
      ]
     },
     "execution_count": 19,
     "metadata": {},
     "output_type": "execute_result"
    }
   ],
   "source": [
    "myvar['y']"
   ]
  },
  {
   "cell_type": "code",
   "execution_count": null,
   "metadata": {
    "colab": {
     "base_uri": "https://localhost:8080/"
    },
    "executionInfo": {
     "elapsed": 10,
     "status": "ok",
     "timestamp": 1694360393928,
     "user": {
      "displayName": "Eduardo Furlan",
      "userId": "03823929547054463581"
     },
     "user_tz": 180
    },
    "id": "Phdt_bnpv7Yp",
    "outputId": "fdd87199-ed46-4ef6-c311-ac33756552a2"
   },
   "outputs": [
    {
     "name": "stdout",
     "output_type": "stream",
     "text": [
      "<class 'pandas.core.frame.DataFrame'>\n",
      "RangeIndex: 3 entries, 0 to 2\n",
      "Data columns (total 2 columns):\n",
      " #   Column    Non-Null Count  Dtype\n",
      "---  ------    --------------  -----\n",
      " 0   calories  3 non-null      int64\n",
      " 1   duration  3 non-null      int64\n",
      "dtypes: int64(2)\n",
      "memory usage: 176.0 bytes\n"
     ]
    }
   ],
   "source": [
    "myvar.info()"
   ]
  }
 ],
 "metadata": {
  "colab": {
   "authorship_tag": "ABX9TyPfXUU2lQ1rJxTdY1/gOQci",
   "mount_file_id": "1IePUrBvcOE3hw9M0xRg006-5eWLTbqZT",
   "provenance": []
  },
  "kernelspec": {
   "display_name": "Python 3 (ipykernel)",
   "language": "python",
   "name": "python3"
  },
  "language_info": {
   "codemirror_mode": {
    "name": "ipython",
    "version": 3
   },
   "file_extension": ".py",
   "mimetype": "text/x-python",
   "name": "python",
   "nbconvert_exporter": "python",
   "pygments_lexer": "ipython3",
   "version": "3.12.5"
  }
 },
 "nbformat": 4,
 "nbformat_minor": 4
}
