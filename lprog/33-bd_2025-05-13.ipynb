{
 "cells": [
  {
   "cell_type": "markdown",
   "id": "583e20ea-b5bd-45e0-92e6-cd9198a83c44",
   "metadata": {},
   "source": [
    "# Banco de dados"
   ]
  },
  {
   "cell_type": "markdown",
   "id": "75ad2cfb-276c-4275-89da-5aebb4f3d98c",
   "metadata": {},
   "source": [
    "Ao criar uma aplicação em uma linguagem de programação que precisa acessar um sistema gerenciador de banco de dados relacional (RDBMS), uma vez que são processos distintos, é preciso criar uma conexão entre eles. Após estabelecida a conexão, é possível (de alguma forma) enviar comandos SQL para efetuar as ações no banco (RAMAKRISHNAN; GEHRKE, 2003). Para fazer a conexão e permitir que uma linguagem de programação se comunique com um banco de dados com a utilização da linguagem SQL, podemos usar as tecnologias ODBC (Open Database Connectivity) e JDBC (Java Database Connectivity)."
   ]
  },
  {
   "cell_type": "markdown",
   "id": "8107182a-b28f-46d2-8358-2d028bcf0d63",
   "metadata": {},
   "source": [
    "## Sqlite3"
   ]
  },
  {
   "cell_type": "code",
   "execution_count": 70,
   "id": "b37dd7d4-2fc4-4d3a-945f-9b50fad0df44",
   "metadata": {},
   "outputs": [],
   "source": [
    "import sqlite3"
   ]
  },
  {
   "cell_type": "markdown",
   "id": "ddc6de93-733c-493f-a842-747a0a6ff4cb",
   "metadata": {},
   "source": [
    "cria ou abre o arquivo em disco:"
   ]
  },
  {
   "cell_type": "code",
   "execution_count": 71,
   "id": "598d244c-f634-4ce4-bab0-e039b26edef7",
   "metadata": {},
   "outputs": [],
   "source": [
    "conn = sqlite3.connect('aulaDB.db')"
   ]
  },
  {
   "cell_type": "markdown",
   "id": "8bdd2115-251d-4b89-b9c7-4f6316401f3d",
   "metadata": {},
   "source": [
    "além do `connect`, também é necessário um `cursor` para fazer a ponte com o bd:"
   ]
  },
  {
   "cell_type": "code",
   "execution_count": 72,
   "id": "c65da9a9-bfd0-40cd-8ad9-4a2962900969",
   "metadata": {},
   "outputs": [],
   "source": [
    "cursor = conn.cursor()"
   ]
  },
  {
   "cell_type": "markdown",
   "id": "c7ef0bfa-ce3e-43b4-aa9c-2041cbaacfac",
   "metadata": {},
   "source": [
    "Agora que temos uma conexão com um banco de dados, vamos utilizar uma instrução DDL da linguagem SQL para criar a tabela fornecedor. O comando SQL que cria a tabela fornecedor está no código a seguir e foi guardado em uma variável chamada ddl_create. Caso execute todas as células novamente, certifique-se de apagar a tabela no banco, para evitar o erro."
   ]
  },
  {
   "cell_type": "markdown",
   "id": "fce9e98b-f998-40bb-bae7-d63b8bbda74b",
   "metadata": {},
   "source": [
    "neste caso os comandos sql são armazenados em uma variável string:"
   ]
  },
  {
   "cell_type": "code",
   "execution_count": 73,
   "id": "03cdaf9f-16a6-4b00-9aee-05c8429c2322",
   "metadata": {},
   "outputs": [],
   "source": [
    "comandos = \"\"\"\n",
    "CREATE TABLE fornecedor (\n",
    "id_fornecedor INTEGER NOT NULL PRIMARY KEY AUTOINCREMENT,\n",
    "nome_fornecedor TEXT NOT NULL,\n",
    "cnpj VARCHAR(18) NOT NULL,\n",
    "cidade TEXT,\n",
    "estado VARCHAR(2) NOT NULL,\n",
    "cep VARCHAR(9) NOT NULL,\n",
    "data_cadastro DATE NOT NULL\n",
    ");\n",
    "\"\"\""
   ]
  },
  {
   "cell_type": "markdown",
   "id": "792f9650-ba39-48e8-a684-0fc5612946b9",
   "metadata": {},
   "source": [
    "executa os comandos sql:"
   ]
  },
  {
   "cell_type": "code",
   "execution_count": 74,
   "id": "0e7d2fb5-5638-4c5f-a73f-e3abd2128cb9",
   "metadata": {},
   "outputs": [
    {
     "data": {
      "text/plain": [
       "<sqlite3.Cursor at 0x7f981257dbc0>"
      ]
     },
     "execution_count": 74,
     "metadata": {},
     "output_type": "execute_result"
    }
   ],
   "source": [
    "cursor.execute(comandos)"
   ]
  },
  {
   "cell_type": "markdown",
   "id": "ba90d744-6f1a-4902-80f9-464e8bea6c8d",
   "metadata": {},
   "source": [
    "fecha tudo:"
   ]
  },
  {
   "cell_type": "code",
   "execution_count": 68,
   "id": "d1af0d11-6b4e-499a-9c76-c7d1a73c879d",
   "metadata": {},
   "outputs": [],
   "source": [
    "cursor.close()"
   ]
  },
  {
   "cell_type": "code",
   "execution_count": 69,
   "id": "be25c866-3699-464c-9f79-465f7928c5a9",
   "metadata": {},
   "outputs": [],
   "source": [
    "conn.close()"
   ]
  },
  {
   "cell_type": "markdown",
   "id": "339ee89a-abc8-460b-90c3-fb5d54dac2cf",
   "metadata": {},
   "source": [
    "mais comandos:"
   ]
  },
  {
   "cell_type": "code",
   "execution_count": 75,
   "id": "75c9032f-ff14-42e2-9d86-b00e0f792520",
   "metadata": {},
   "outputs": [],
   "source": [
    "comandos = \"\"\"\n",
    "INSERT INTO fornecedor (nome_fornecedor, cnpj, cidade, estado, cep, data_cadastro)\n",
    "VALUES ('Empresa A', '11.111.111/1111-11', 'São Paulo', 'SP', '11111-111', '2020-01-01')\n",
    "\"\"\""
   ]
  },
  {
   "cell_type": "markdown",
   "id": "540bf379-55ca-4ce7-9c73-440b4d74ba66",
   "metadata": {},
   "source": [
    "abre de novo:"
   ]
  },
  {
   "cell_type": "code",
   "execution_count": 47,
   "id": "1f76150d-c1db-42cc-8941-034475cfe21a",
   "metadata": {},
   "outputs": [],
   "source": [
    "conn   = sqlite3.connect('aulaDB.db')\n",
    "cursor = conn.cursor()"
   ]
  },
  {
   "cell_type": "code",
   "execution_count": 76,
   "id": "64fe3db3-fd11-4af5-958a-3cfee0127a6c",
   "metadata": {},
   "outputs": [
    {
     "data": {
      "text/plain": [
       "<sqlite3.Cursor at 0x7f981257dbc0>"
      ]
     },
     "execution_count": 76,
     "metadata": {},
     "output_type": "execute_result"
    }
   ],
   "source": [
    "cursor.execute(comandos)"
   ]
  },
  {
   "cell_type": "code",
   "execution_count": 77,
   "id": "b12b0bc7-81da-4bc8-8b96-8b9bd6c1c835",
   "metadata": {},
   "outputs": [],
   "source": [
    "comandos = \"\"\"\n",
    "INSERT INTO fornecedor (nome_fornecedor, cnpj, cidade, estado, cep, data_cadastro)\n",
    "VALUES ('Empresa B', '22.222.222/2222-22', 'Rio de Janeiro', 'RJ', '22222-222', '2020-01-01')\n",
    "\"\"\""
   ]
  },
  {
   "cell_type": "code",
   "execution_count": 78,
   "id": "8b3e0f6d-c7cb-4203-a249-8e1ca09f37bc",
   "metadata": {},
   "outputs": [
    {
     "data": {
      "text/plain": [
       "<sqlite3.Cursor at 0x7f981257dbc0>"
      ]
     },
     "execution_count": 78,
     "metadata": {},
     "output_type": "execute_result"
    }
   ],
   "source": [
    "cursor.execute(comandos)"
   ]
  },
  {
   "cell_type": "code",
   "execution_count": 79,
   "id": "b1f6448a-7be5-47ec-8ad0-f516c8602286",
   "metadata": {},
   "outputs": [],
   "source": [
    "comandos = \"\"\"\n",
    "INSERT INTO fornecedor (nome_fornecedor, cnpj, cidade, estado, cep, data_cadastro)\n",
    "VALUES ('Empresa C', '33.333.333/3333-33', 'Curitiba', 'PR', '33333-333', '2020-01-01')\n",
    "\"\"\""
   ]
  },
  {
   "cell_type": "code",
   "execution_count": 80,
   "id": "de6b1d36-6218-477a-82cc-c67cd511a51c",
   "metadata": {},
   "outputs": [
    {
     "data": {
      "text/plain": [
       "<sqlite3.Cursor at 0x7f981257dbc0>"
      ]
     },
     "execution_count": 80,
     "metadata": {},
     "output_type": "execute_result"
    }
   ],
   "source": [
    "cursor.execute(comandos)"
   ]
  },
  {
   "cell_type": "markdown",
   "id": "567c505f-ac51-4d49-acd1-d1d4ce867c1f",
   "metadata": {},
   "source": [
    "Caso tenha ficado alguma coisa pendente:"
   ]
  },
  {
   "cell_type": "code",
   "execution_count": 81,
   "id": "4282355c-d715-4a16-aac2-b77a17176959",
   "metadata": {},
   "outputs": [],
   "source": [
    "conn.commit()"
   ]
  },
  {
   "cell_type": "markdown",
   "id": "1a2d896e-1580-4ab0-8913-0686c04171ef",
   "metadata": {},
   "source": [
    "mostra o que inserimos no bd:"
   ]
  },
  {
   "cell_type": "code",
   "execution_count": 89,
   "id": "9b850149-a7da-4f2a-bf23-e8c96330e046",
   "metadata": {},
   "outputs": [],
   "source": [
    "comandos = \"\"\"\n",
    "SELECT * FROM fornecedor\n",
    "\"\"\""
   ]
  },
  {
   "cell_type": "code",
   "execution_count": 90,
   "id": "fcd91d09-8b4a-42a3-8602-ca2075e14b34",
   "metadata": {},
   "outputs": [
    {
     "data": {
      "text/plain": [
       "<sqlite3.Cursor at 0x7f981257dbc0>"
      ]
     },
     "execution_count": 90,
     "metadata": {},
     "output_type": "execute_result"
    }
   ],
   "source": [
    "cursor.execute(comandos)"
   ]
  },
  {
   "cell_type": "code",
   "execution_count": 91,
   "id": "844f1288-dc43-4354-a0c0-52610c3fcceb",
   "metadata": {},
   "outputs": [],
   "source": [
    "resultado = cursor.fetchall()"
   ]
  },
  {
   "cell_type": "code",
   "execution_count": 92,
   "id": "7823d822-9bb8-441a-901b-d2dead1b5b21",
   "metadata": {},
   "outputs": [
    {
     "name": "stdout",
     "output_type": "stream",
     "text": [
      "[(1, 'Empresa A', '11.111.111/1111-11', 'São Paulo', 'SP', '11111-111', '2020-01-01'), (2, 'Empresa B', '22.222.222/2222-22', 'Rio de Janeiro', 'RJ', '22222-222', '2020-01-01'), (3, 'Empresa C', '33.333.333/3333-33', 'Curitiba', 'PR', '33333-333', '2020-01-01')]\n"
     ]
    }
   ],
   "source": [
    "print(resultado)"
   ]
  },
  {
   "cell_type": "code",
   "execution_count": 93,
   "id": "3584efce-1b1c-49d8-b0ce-dd34e0289355",
   "metadata": {},
   "outputs": [
    {
     "name": "stdout",
     "output_type": "stream",
     "text": [
      "(1, 'Empresa A', '11.111.111/1111-11', 'São Paulo', 'SP', '11111-111', '2020-01-01')\n",
      "(2, 'Empresa B', '22.222.222/2222-22', 'Rio de Janeiro', 'RJ', '22222-222', '2020-01-01')\n",
      "(3, 'Empresa C', '33.333.333/3333-33', 'Curitiba', 'PR', '33333-333', '2020-01-01')\n"
     ]
    }
   ],
   "source": [
    "for linha in resultado :\n",
    "    print(linha)"
   ]
  },
  {
   "cell_type": "code",
   "execution_count": 96,
   "id": "ceda2327-81aa-480d-a63e-40d18adcb822",
   "metadata": {},
   "outputs": [
    {
     "name": "stdout",
     "output_type": "stream",
     "text": [
      "[(2, 'Empresa B', '22.222.222/2222-22', 'Rio de Janeiro', 'RJ', '22222-222', '2020-01-01')]\n"
     ]
    }
   ],
   "source": [
    "cursor.execute(\"SELECT * FROM fornecedor WHERE id_fornecedor = 2\")\n",
    "resultado = cursor.fetchall()\n",
    "print(resultado)"
   ]
  },
  {
   "cell_type": "code",
   "execution_count": 97,
   "id": "da3b4d90-7b10-4be7-b0b1-2dcd3c90b64d",
   "metadata": {},
   "outputs": [],
   "source": [
    "cursor.close()\n",
    "conn.close()"
   ]
  },
  {
   "cell_type": "markdown",
   "id": "346e32f4-99ce-4707-ad48-f7ca12269bb8",
   "metadata": {},
   "source": [
    "## Update"
   ]
  },
  {
   "cell_type": "code",
   "execution_count": 98,
   "id": "a138ad71-555e-48c0-bc1b-7e80bfa9845c",
   "metadata": {},
   "outputs": [],
   "source": [
    "conn = sqlite3.connect('aulaDB.db')\n",
    "cursor = conn.cursor()"
   ]
  },
  {
   "cell_type": "code",
   "execution_count": 99,
   "id": "1991d10c-418f-4dc3-9437-c967388cfe42",
   "metadata": {},
   "outputs": [],
   "source": [
    "cursor.execute(\"UPDATE fornecedor SET cidade = 'Campinas' WHERE id_fornecedor = 2\")\n",
    "conn.commit()"
   ]
  },
  {
   "cell_type": "code",
   "execution_count": 101,
   "id": "d9adf520-f853-4772-ac6a-9602964ee74b",
   "metadata": {},
   "outputs": [
    {
     "name": "stdout",
     "output_type": "stream",
     "text": [
      "(1, 'Empresa A', '11.111.111/1111-11', 'São Paulo', 'SP', '11111-111', '2020-01-01')\n",
      "(2, 'Empresa B', '22.222.222/2222-22', 'Campinas', 'RJ', '22222-222', '2020-01-01')\n",
      "(3, 'Empresa C', '33.333.333/3333-33', 'Curitiba', 'PR', '33333-333', '2020-01-01')\n"
     ]
    }
   ],
   "source": [
    "cursor.execute(\"SELECT * FROM fornecedor\")\n",
    "for linha in cursor.fetchall():\n",
    "    print(linha)"
   ]
  },
  {
   "cell_type": "code",
   "execution_count": 102,
   "id": "c8274dab-7e31-4f9c-b41a-277df410cab7",
   "metadata": {},
   "outputs": [],
   "source": [
    "cursor.close()\n",
    "conn.close()"
   ]
  },
  {
   "cell_type": "markdown",
   "id": "e43c5ae7-a448-435c-b124-187069b2d45c",
   "metadata": {},
   "source": [
    "## Delete"
   ]
  },
  {
   "cell_type": "code",
   "execution_count": 104,
   "id": "83fd1900-2632-4277-9faa-c8b8d14f5cf1",
   "metadata": {},
   "outputs": [],
   "source": [
    "conn = sqlite3.connect('aulaDB.db')\n",
    "cursor = conn.cursor()"
   ]
  },
  {
   "cell_type": "code",
   "execution_count": 105,
   "id": "4b69e535-7eaa-4dd5-be8c-86ce3a473ed6",
   "metadata": {},
   "outputs": [],
   "source": [
    "cursor.execute(\"DELETE FROM fornecedor WHERE id_fornecedor = 2\")\n",
    "conn.commit()"
   ]
  },
  {
   "cell_type": "code",
   "execution_count": 106,
   "id": "a6baa885-7dee-4ed8-8cca-2ddeeaf2e13b",
   "metadata": {},
   "outputs": [
    {
     "name": "stdout",
     "output_type": "stream",
     "text": [
      "(1, 'Empresa A', '11.111.111/1111-11', 'São Paulo', 'SP', '11111-111', '2020-01-01')\n",
      "(3, 'Empresa C', '33.333.333/3333-33', 'Curitiba', 'PR', '33333-333', '2020-01-01')\n"
     ]
    }
   ],
   "source": [
    "cursor.execute(\"SELECT * FROM fornecedor\")\n",
    "for linha in cursor.fetchall():\n",
    "    print(linha)"
   ]
  },
  {
   "cell_type": "code",
   "execution_count": 107,
   "id": "10d7946d-d96b-447f-b4f9-8842b8006678",
   "metadata": {},
   "outputs": [],
   "source": [
    "cursor.close()\n",
    "conn.close()"
   ]
  },
  {
   "cell_type": "markdown",
   "id": "e1c9244e-e166-4a4e-aa80-982a32a2eea2",
   "metadata": {},
   "source": [
    "## Informações"
   ]
  },
  {
   "cell_type": "code",
   "execution_count": 109,
   "id": "a24e7e68-54b6-43f1-8b3f-7623e2cedfa6",
   "metadata": {},
   "outputs": [],
   "source": [
    "conn = sqlite3.connect('aulaDB.db')\n",
    "cursor = conn.cursor()"
   ]
  },
  {
   "cell_type": "code",
   "execution_count": 110,
   "id": "4bbac9c0-35bd-423f-8385-9b6f1de3c63f",
   "metadata": {},
   "outputs": [
    {
     "name": "stdout",
     "output_type": "stream",
     "text": [
      "Tabelas:\n",
      "('fornecedor',)\n",
      "('sqlite_sequence',)\n"
     ]
    }
   ],
   "source": [
    "cursor.execute(\"\"\"SELECT name FROM sqlite_master WHERE type='table' ORDER BY name\"\"\")\n",
    "print('Tabelas:')\n",
    "for tabela in cursor.fetchall():\n",
    "    print(tabela)"
   ]
  },
  {
   "cell_type": "code",
   "execution_count": 111,
   "id": "055a6440-1027-4fdd-8b40-036e414e20de",
   "metadata": {
    "scrolled": true
   },
   "outputs": [
    {
     "name": "stdout",
     "output_type": "stream",
     "text": [
      "\n",
      "DDL da tabela fornecedor:\n",
      "CREATE TABLE fornecedor (\n",
      "id_fornecedor INTEGER NOT NULL PRIMARY KEY AUTOINCREMENT,\n",
      "nome_fornecedor TEXT NOT NULL,\n",
      "cnpj VARCHAR(18) NOT NULL,\n",
      "cidade TEXT,\n",
      "estado VARCHAR(2) NOT NULL,\n",
      "cep VARCHAR(9) NOT NULL,\n",
      "data_cadastro DATE NOT NULL\n",
      ")\n"
     ]
    }
   ],
   "source": [
    "tabela = 'fornecedor'\n",
    "cursor.execute(f\"\"\"SELECT sql FROM sqlite_master WHERE type='table' AND name='{tabela}'\"\"\")\n",
    "print(f'\\nDDL da tabela {tabela}:')\n",
    "for schema in cursor.fetchall():\n",
    "    print(\"%s\" % (schema))"
   ]
  },
  {
   "cell_type": "code",
   "execution_count": 107,
   "id": "c697578b-d64a-4b82-a88f-f14c30fbbaf7",
   "metadata": {},
   "outputs": [],
   "source": [
    "cursor.close()\n",
    "conn.close()"
   ]
  },
  {
   "cell_type": "code",
   "execution_count": null,
   "id": "7b921fab-07e0-4bd7-9ba4-4c39c41a1847",
   "metadata": {},
   "outputs": [],
   "source": []
  }
 ],
 "metadata": {
  "kernelspec": {
   "display_name": "Python 3 (ipykernel)",
   "language": "python",
   "name": "python3"
  },
  "language_info": {
   "codemirror_mode": {
    "name": "ipython",
    "version": 3
   },
   "file_extension": ".py",
   "mimetype": "text/x-python",
   "name": "python",
   "nbconvert_exporter": "python",
   "pygments_lexer": "ipython3",
   "version": "3.12.5"
  }
 },
 "nbformat": 4,
 "nbformat_minor": 5
}
