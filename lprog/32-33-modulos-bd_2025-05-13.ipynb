{
 "cells": [
  {
   "cell_type": "markdown",
   "id": "74628779-5dee-4692-9a9c-cac0efb11525",
   "metadata": {},
   "source": [
    "# Bibliotecas e módulos"
   ]
  },
  {
   "cell_type": "markdown",
   "id": "5953fa77-aca8-40c2-a173-0232dd3553a9",
   "metadata": {},
   "source": [
    "Módulo permite criar uma funcionalidade que pode ser reaproveitada em outros códigos."
   ]
  },
  {
   "cell_type": "code",
   "execution_count": 1,
   "id": "cb431587-d469-4813-b1e4-9e2555aad6b4",
   "metadata": {},
   "outputs": [
    {
     "name": "stdout",
     "output_type": "stream",
     "text": [
      "Writing oimundo.py\n"
     ]
    }
   ],
   "source": [
    "%%writefile oimundo.py\n",
    "def oimundo() :\n",
    "    print(\"Oi, mundo!\")"
   ]
  },
  {
   "cell_type": "code",
   "execution_count": 2,
   "id": "a459c74e-00fa-43a6-ad18-0b6a74588767",
   "metadata": {},
   "outputs": [
    {
     "name": "stdout",
     "output_type": "stream",
     "text": [
      " Volume in drive D is 0032D1\n",
      " Volume Serial Number is 4C19-A1A5\n",
      "\n",
      " Directory of D:\\WPy64-31330\\notebooks\n",
      "\n",
      "06/05/2025  15:17                42 oimundo.py\n",
      "               1 File(s)             42 bytes\n",
      "               0 Dir(s)  19,378,569,216 bytes free\n"
     ]
    }
   ],
   "source": [
    "! dir oimundo.py"
   ]
  },
  {
   "cell_type": "code",
   "execution_count": 1,
   "id": "865553e2-de8a-472d-976e-0d19a08aee6e",
   "metadata": {},
   "outputs": [],
   "source": [
    "import oimundo as oi"
   ]
  },
  {
   "cell_type": "markdown",
   "id": "6d0bf473-15b3-442e-bb5b-485f4c4cd442",
   "metadata": {},
   "source": [
    "(se não funcionar, precisa reinicializar o kernel)"
   ]
  },
  {
   "cell_type": "code",
   "execution_count": 2,
   "id": "09784148-430c-4214-9042-2497b0727e0a",
   "metadata": {},
   "outputs": [
    {
     "name": "stdout",
     "output_type": "stream",
     "text": [
      "Oi, mundo!\n"
     ]
    }
   ],
   "source": [
    "oi.oimundo()"
   ]
  },
  {
   "cell_type": "markdown",
   "id": "1a7dc23f-f4d9-4a36-b003-2dad003ac30b",
   "metadata": {},
   "source": [
    "---"
   ]
  },
  {
   "cell_type": "code",
   "execution_count": 3,
   "id": "59e3f9d4-07ac-4334-a9a8-7466ea13e052",
   "metadata": {},
   "outputs": [
    {
     "name": "stdout",
     "output_type": "stream",
     "text": [
      "Writing bibl01.py\n"
     ]
    }
   ],
   "source": [
    "%%writefile bibl01.py\n",
    "def f01() :\n",
    "    print(\"Primeira função\")\n",
    "def f02() :\n",
    "    print(\"Segunda função\")"
   ]
  },
  {
   "cell_type": "code",
   "execution_count": 1,
   "id": "2f6e1bce-ccfd-462d-b4f7-5eb7292340e0",
   "metadata": {},
   "outputs": [],
   "source": [
    "from bibl01 import f02"
   ]
  },
  {
   "cell_type": "markdown",
   "id": "c0df53ed-400e-49ac-af8b-cc5a73d3b176",
   "metadata": {},
   "source": [
    "(se não funcionar, precisa reinicializar o kernel)"
   ]
  },
  {
   "cell_type": "code",
   "execution_count": 2,
   "id": "305e2ae2-6f01-4982-a16a-99cdde175541",
   "metadata": {},
   "outputs": [
    {
     "name": "stdout",
     "output_type": "stream",
     "text": [
      "Segunda função\n"
     ]
    }
   ],
   "source": [
    "f02()"
   ]
  },
  {
   "cell_type": "code",
   "execution_count": 3,
   "id": "6cdfba95-da98-458d-8308-091427b3b00a",
   "metadata": {},
   "outputs": [],
   "source": [
    "import bibl01 as b"
   ]
  },
  {
   "cell_type": "code",
   "execution_count": 4,
   "id": "b7ae76cb-bd6f-4d6f-ad74-364596b4be0c",
   "metadata": {},
   "outputs": [
    {
     "name": "stdout",
     "output_type": "stream",
     "text": [
      "Primeira função\n"
     ]
    }
   ],
   "source": [
    "b.f01()"
   ]
  },
  {
   "cell_type": "code",
   "execution_count": 5,
   "id": "ae5ca4f5-a404-4253-b77e-cd48fc5f91b6",
   "metadata": {},
   "outputs": [
    {
     "name": "stdout",
     "output_type": "stream",
     "text": [
      "Segunda função\n"
     ]
    }
   ],
   "source": [
    "b.f02()"
   ]
  },
  {
   "cell_type": "markdown",
   "id": "26148d3c-9a39-4a3d-a252-e73461c5151f",
   "metadata": {},
   "source": [
    "---"
   ]
  },
  {
   "cell_type": "markdown",
   "id": "2c3bcb5c-94c7-441e-b73e-28869371578f",
   "metadata": {},
   "source": [
    "É uma boa prática declarar na sequência:\n",
    "- primeiro as bibliotecas-padrão (módulos built-in) que fazem parte do Python padrão\n",
    "- depois as bibliotecas de terceiros, geralmente carregadas via um gerenciador de pacotes\n",
    "- e, por fim, os módulos específicos criados para a aplicação"
   ]
  },
  {
   "cell_type": "code",
   "execution_count": 6,
   "id": "69a3b757-ef63-437d-8e93-a94a16a67e8c",
   "metadata": {},
   "outputs": [],
   "source": [
    "import numpy\n",
    "import matplotlib\n",
    "import bibl01"
   ]
  },
  {
   "cell_type": "markdown",
   "id": "2cd1d676-5fda-4fae-83ab-3911fc2b9a91",
   "metadata": {},
   "source": [
    "---"
   ]
  },
  {
   "cell_type": "markdown",
   "id": "7ce239f8-701e-4dbb-8041-689c6e5fd8c8",
   "metadata": {},
   "source": [
    "## Módulo OS"
   ]
  },
  {
   "cell_type": "code",
   "execution_count": 7,
   "id": "889bdbae-5648-40da-b415-31fbd05186bd",
   "metadata": {},
   "outputs": [],
   "source": [
    "import os\n",
    "from os import listdir as ld"
   ]
  },
  {
   "cell_type": "code",
   "execution_count": 8,
   "id": "29cbcc44-18bd-4dcf-b48a-7499c5ed72a1",
   "metadata": {},
   "outputs": [
    {
     "data": {
      "text/plain": [
       "'D:\\\\WPy64-31330\\\\notebooks'"
      ]
     },
     "execution_count": 8,
     "metadata": {},
     "output_type": "execute_result"
    }
   ],
   "source": [
    "os.getcwd()"
   ]
  },
  {
   "cell_type": "code",
   "execution_count": 9,
   "id": "1cd7aed7-7e9d-4846-a90b-caa3f23b39c5",
   "metadata": {},
   "outputs": [
    {
     "name": "stdout",
     "output_type": "stream",
     "text": [
      "['docs', '32-33-modulos-bd.ipynb', '.ipynb_checkpoints', 'oimundo.py', '__pycache__', 'bibl01.py', '.virtual_documents']\n"
     ]
    }
   ],
   "source": [
    "print(os.listdir())"
   ]
  },
  {
   "cell_type": "code",
   "execution_count": 10,
   "id": "d93abc6f-74a2-48c2-bfc0-89a5a262fd40",
   "metadata": {},
   "outputs": [
    {
     "name": "stdout",
     "output_type": "stream",
     "text": [
      "['docs', '32-33-modulos-bd.ipynb', '.ipynb_checkpoints', 'oimundo.py', '__pycache__', 'bibl01.py', '.virtual_documents']\n"
     ]
    }
   ],
   "source": [
    "print(ld())"
   ]
  },
  {
   "cell_type": "code",
   "execution_count": 11,
   "id": "4c0f29d6-4716-4993-9e1f-90fdb1c0db47",
   "metadata": {},
   "outputs": [
    {
     "data": {
      "text/plain": [
       "2"
      ]
     },
     "execution_count": 11,
     "metadata": {},
     "output_type": "execute_result"
    }
   ],
   "source": [
    "os.cpu_count()"
   ]
  },
  {
   "cell_type": "code",
   "execution_count": 12,
   "id": "e3b463f2-e76b-4be5-b5f2-6cf72c86ad86",
   "metadata": {},
   "outputs": [
    {
     "name": "stdout",
     "output_type": "stream",
     "text": [
      "y\n"
     ]
    }
   ],
   "source": [
    "print(os.getlogin()) #user logged in on the controlling terminal of the process."
   ]
  },
  {
   "cell_type": "code",
   "execution_count": 13,
   "id": "4873fa3b-8bb8-41fd-bb66-58ee88cf2cd2",
   "metadata": {},
   "outputs": [],
   "source": [
    "import getpass"
   ]
  },
  {
   "cell_type": "code",
   "execution_count": 14,
   "id": "6d79cdbb-0919-42dc-a20f-e5a259bce92d",
   "metadata": {},
   "outputs": [
    {
     "data": {
      "text/plain": [
       "'y'"
      ]
     },
     "execution_count": 14,
     "metadata": {},
     "output_type": "execute_result"
    }
   ],
   "source": [
    "getpass.getuser()"
   ]
  },
  {
   "cell_type": "code",
   "execution_count": 15,
   "id": "14d12e48-85ff-47ad-aa7c-8b1d9a753dcb",
   "metadata": {},
   "outputs": [
    {
     "data": {
      "text/plain": [
       "'D:\\\\WPy64-31330\\\\python\\\\Lib\\\\site-packages\\\\PyQt5;D:\\\\WPy64-31330\\\\python\\\\;D:\\\\WPy64-31330\\\\python\\\\DLLs;D:\\\\WPy64-31330\\\\python\\\\Scripts;D:\\\\WPy64-31330\\\\python\\\\..\\\\t;D:\\\\WPy64-31330\\\\python\\\\..\\\\n;C:\\\\Windows\\\\system32;C:\\\\Windows;C:\\\\Windows\\\\System32\\\\Wbem;C:\\\\Windows\\\\System32\\\\WindowsPowerShell\\\\v1.0\\\\;C:\\\\Windows\\\\System32\\\\OpenSSH\\\\;C:\\\\Users\\\\y\\\\AppData\\\\Local\\\\Microsoft\\\\WindowsApps;'"
      ]
     },
     "execution_count": 15,
     "metadata": {},
     "output_type": "execute_result"
    }
   ],
   "source": [
    "os.getenv('PATH')"
   ]
  },
  {
   "cell_type": "code",
   "execution_count": 16,
   "id": "b120de7a-5ba4-4fde-858c-83cb5a3739ae",
   "metadata": {},
   "outputs": [
    {
     "data": {
      "text/plain": [
       "1152"
      ]
     },
     "execution_count": 16,
     "metadata": {},
     "output_type": "execute_result"
    }
   ],
   "source": [
    "os.getpid()"
   ]
  },
  {
   "cell_type": "markdown",
   "id": "29ed1e25-e783-4c54-bd05-6cb29c2e2093",
   "metadata": {},
   "source": [
    "## Repositórios\n",
    "\n",
    "- Pypi https://pypi.org/  : específico Python\n",
    "- Anaconda https://anaconda.org/  : outros softwares também"
   ]
  },
  {
   "cell_type": "markdown",
   "id": "f02b59ac-f1af-49fc-8f97-292dec4e2e45",
   "metadata": {},
   "source": [
    "Tratamento de imagens\n",
    "\n",
    "- Pillow: suporte a formatos de arquivos\n",
    "- OpenCV: algoritmos de visão computacional\n",
    "- Luminoth: visão computacional\n",
    "- Mahotas: visão computacional\n",
    "\n",
    "Visualização de dados\n",
    "\n",
    "- Matplotlib: gráficos\n",
    "- Bokeh: visualização interativa\n",
    "- Seaborn: gráficos estatísticos\n",
    "- Altair: visualização estatítstica\n",
    "\n",
    "Tratamento de dados\n",
    "\n",
    "- Pandas: estruturas de dados\n",
    "- NumPy: biblioteca científica\n",
    "- Pyspark: clusters\n",
    "- Pingouim: pacote estatístico baseado em Pandas\n",
    "\n",
    "Tratamento de textos\n",
    "\n",
    "Internet, rede e cloud\n",
    "\n",
    "Acesso a bancos de dados\n",
    "\n",
    "Apresndizado de máquina\n",
    "\n",
    "Jogos"
   ]
  },
  {
   "cell_type": "markdown",
   "id": "dd18751e-8165-4f38-a2dc-18ebb8fc4e27",
   "metadata": {},
   "source": [
    "## Matplotlib"
   ]
  },
  {
   "cell_type": "code",
   "execution_count": 17,
   "id": "e6930375-3310-483d-9395-f383f790f4bf",
   "metadata": {},
   "outputs": [],
   "source": [
    "import numpy as np\n",
    "import matplotlib.pyplot as plt "
   ]
  },
  {
   "cell_type": "code",
   "execution_count": 18,
   "id": "3fa32bfd-395f-45d6-a8d1-119ad0223458",
   "metadata": {},
   "outputs": [
    {
     "data": {
      "image/png": "[encoded data removed]",
      "text/plain": [
       "<Figure size 640x480 with 1 Axes>"
      ]
     },
     "metadata": {},
     "output_type": "display_data"
    }
   ],
   "source": [
    "xpoints = np.array([0, 6])\n",
    "ypoints = np.array([0, 250])\n",
    "\n",
    "plt.plot(xpoints, ypoints)\n",
    "plt.show()"
   ]
  },
  {
   "cell_type": "code",
   "execution_count": 19,
   "id": "fe7fca35-ee68-4b2b-9f3b-636fdfc3357d",
   "metadata": {},
   "outputs": [
    {
     "data": {
      "image/png": "[encoded data removed]",
      "text/plain": [
       "<Figure size 640x480 with 1 Axes>"
      ]
     },
     "metadata": {},
     "output_type": "display_data"
    }
   ],
   "source": [
    "xpoints = np.array([1, 2, 6, 8])\n",
    "ypoints = np.array([3, 8, 1, 10])\n",
    "\n",
    "plt.plot(xpoints, ypoints)\n",
    "plt.show()"
   ]
  },
  {
   "cell_type": "code",
   "execution_count": 20,
   "id": "1a87dccc-48bc-4361-8e53-1dec9f98313d",
   "metadata": {},
   "outputs": [
    {
     "data": {
      "image/png": "[encoded data removed]",
      "text/plain": [
       "<Figure size 640x480 with 1 Axes>"
      ]
     },
     "metadata": {},
     "output_type": "display_data"
    }
   ],
   "source": [
    "# data to display on plots \n",
    "x = [3, 1, 3, 12, 2, 4, 4] \n",
    "y = [3, 2, 1, 4, 5, 6, 7] \n",
    "  \n",
    "# This will plot a simple bar chart\n",
    "plt.bar(x, y)\n",
    "  \n",
    "# Title to the plot\n",
    "plt.title(\"Bar Chart\")\n",
    "  \n",
    "# Adding the legends\n",
    "plt.legend([\"bar\"])\n",
    "plt.show()"
   ]
  },
  {
   "cell_type": "code",
   "execution_count": 21,
   "id": "ae3600f3-87fc-4058-b8e3-77041b465260",
   "metadata": {},
   "outputs": [
    {
     "data": {
      "image/png": "[encoded data removed]",
      "text/plain": [
       "<Figure size 640x480 with 1 Axes>"
      ]
     },
     "metadata": {},
     "output_type": "display_data"
    }
   ],
   "source": [
    "# data to display on plots \n",
    "x = [1, 2, 3, 4] \n",
    "  \n",
    "# this will explode the 1st wedge\n",
    "# i.e. will separate the 1st wedge\n",
    "# from the chart\n",
    "e  =(0.1, 0, 0, 0)\n",
    "  \n",
    "# This will plot a simple pie chart\n",
    "plt.pie(x, explode = e)\n",
    "  \n",
    "# Title to the plot\n",
    "plt.title(\"Pie chart\")\n",
    "plt.show()"
   ]
  },
  {
   "cell_type": "code",
   "execution_count": 22,
   "id": "8760feae-3a60-49e4-ad2a-1ee591b46cd2",
   "metadata": {},
   "outputs": [
    {
     "data": {
      "text/plain": [
       "[<mpl_toolkits.mplot3d.art3d.Line3D at 0x1df52de3390>]"
      ]
     },
     "execution_count": 22,
     "metadata": {},
     "output_type": "execute_result"
    },
    {
     "data": {
      "image/png": "[encoded data removed]",
      "text/plain": [
       "<Figure size 640x480 with 1 Axes>"
      ]
     },
     "metadata": {},
     "output_type": "display_data"
    }
   ],
   "source": [
    "x = [1, 2, 3, 4, 5]\n",
    "y = [1, 4, 9, 16, 25]\n",
    "z = [1, 8, 27, 64, 125]\n",
    "# Creating the figure object\n",
    "fig = plt.figure()\n",
    "# keeping the projection = 3d\n",
    "# creates the 3d plot\n",
    "ax = plt.axes(projection = '3d')\n",
    "ax.plot3D(z, y, x)"
   ]
  },
  {
   "cell_type": "markdown",
   "id": "495c38ce-8ee8-4739-ade6-d9ee3bb69651",
   "metadata": {},
   "source": [
    "<hr style=\"height:20px;border-width:0;background-color:green\">"
   ]
  },
  {
   "cell_type": "markdown",
   "id": "f8e5bb1c-77f2-49f5-b709-d18cd82ac537",
   "metadata": {},
   "source": [
    "# Banco de dados"
   ]
  },
  {
   "cell_type": "markdown",
   "id": "793c64e7-2f51-4389-b6c0-067ce214c445",
   "metadata": {},
   "source": [
    "Ao criar uma aplicação em uma linguagem de programação que precisa acessar um sistema gerenciador de banco de dados relacional (RDBMS), uma vez que são processos distintos, é preciso criar uma conexão entre eles. Após estabelecida a conexão, é possível (de alguma forma) enviar comandos SQL para efetuar as ações no banco (RAMAKRISHNAN; GEHRKE, 2003). Para fazer a conexão e permitir que uma linguagem de programação se comunique com um banco de dados com a utilização da linguagem SQL, podemos usar as tecnologias ODBC (Open Database Connectivity) e JDBC (Java Database Connectivity)."
   ]
  },
  {
   "cell_type": "markdown",
   "id": "55edd528-ba2b-4cf0-93c6-8f8682cc6279",
   "metadata": {},
   "source": [
    "## Sqlite3"
   ]
  },
  {
   "cell_type": "code",
   "execution_count": 23,
   "id": "4b423a96-7f01-4634-b36e-28d7a40460a0",
   "metadata": {},
   "outputs": [],
   "source": [
    "import sqlite3"
   ]
  },
  {
   "cell_type": "markdown",
   "id": "5319253c-4e16-44ba-b545-372238e74416",
   "metadata": {},
   "source": [
    "cria ou abre o arquivo em disco:"
   ]
  },
  {
   "cell_type": "code",
   "execution_count": 24,
   "id": "9be77765-2c98-4e1d-90ee-2b2c2faeda68",
   "metadata": {},
   "outputs": [],
   "source": [
    "conn = sqlite3.connect('aulaDB.db')"
   ]
  },
  {
   "cell_type": "markdown",
   "id": "07d01fe2-1c5e-4fa8-b455-ea64944c4665",
   "metadata": {},
   "source": [
    "além do `connect`, também é necessário um `cursor` para fazer a ponte com o bd:"
   ]
  },
  {
   "cell_type": "code",
   "execution_count": 25,
   "id": "a1170f44-81b4-4cc3-b091-55228073b4ff",
   "metadata": {},
   "outputs": [],
   "source": [
    "cursor = conn.cursor()"
   ]
  },
  {
   "cell_type": "markdown",
   "id": "1c2fd7f2-cbcd-4022-b5b9-2147281e8692",
   "metadata": {},
   "source": [
    "Agora que temos uma conexão com um banco de dados, vamos utilizar uma instrução DDL da linguagem SQL para criar a tabela fornecedor. O comando SQL que cria a tabela fornecedor está no código a seguir e foi guardado em uma variável chamada ddl_create. Caso execute todas as células novamente, certifique-se de apagar a tabela no banco, para evitar o erro."
   ]
  },
  {
   "cell_type": "markdown",
   "id": "fff7d66a-84da-448f-811b-ec6e57c00215",
   "metadata": {},
   "source": [
    "neste caso os comandos sql são armazenados em uma variável string:"
   ]
  },
  {
   "cell_type": "code",
   "execution_count": 26,
   "id": "f52c9a05-c0d3-416a-b4a8-708e0ce369c1",
   "metadata": {},
   "outputs": [],
   "source": [
    "comandos = \"\"\"\n",
    "CREATE TABLE fornecedor (\n",
    "id_fornecedor INTEGER NOT NULL PRIMARY KEY AUTOINCREMENT,\n",
    "nome_fornecedor TEXT NOT NULL,\n",
    "cnpj VARCHAR(18) NOT NULL,\n",
    "cidade TEXT,\n",
    "estado VARCHAR(2) NOT NULL,\n",
    "cep VARCHAR(9) NOT NULL,\n",
    "data_cadastro DATE NOT NULL\n",
    ");\n",
    "\"\"\""
   ]
  },
  {
   "cell_type": "markdown",
   "id": "69b450c1-80a9-4726-9fdf-50e847552438",
   "metadata": {},
   "source": [
    "executa os comandos sql:"
   ]
  },
  {
   "cell_type": "code",
   "execution_count": 27,
   "id": "97c81c42-dd8a-4872-9d5a-256413a41aa8",
   "metadata": {},
   "outputs": [
    {
     "data": {
      "text/plain": [
       "<sqlite3.Cursor at 0x1df54fe94c0>"
      ]
     },
     "execution_count": 27,
     "metadata": {},
     "output_type": "execute_result"
    }
   ],
   "source": [
    "cursor.execute(comandos)"
   ]
  },
  {
   "cell_type": "markdown",
   "id": "a0f2a183-3273-4066-bd77-8c1eecb4d1e4",
   "metadata": {},
   "source": [
    "fecha tudo:"
   ]
  },
  {
   "cell_type": "code",
   "execution_count": 28,
   "id": "711aabc7-7bf3-4f94-a517-01f1679f8478",
   "metadata": {},
   "outputs": [],
   "source": [
    "cursor.close()"
   ]
  },
  {
   "cell_type": "code",
   "execution_count": 29,
   "id": "84c87058-fe0f-4a3d-806c-d95f85ac80e5",
   "metadata": {},
   "outputs": [],
   "source": [
    "conn.close()"
   ]
  },
  {
   "cell_type": "markdown",
   "id": "44b47511-a419-4341-9f30-89c55f433dd6",
   "metadata": {},
   "source": [
    "mais comandos:"
   ]
  },
  {
   "cell_type": "code",
   "execution_count": 30,
   "id": "3fddda80-d1b5-41ba-8b9f-526b99fa3b0f",
   "metadata": {},
   "outputs": [],
   "source": [
    "comandos = \"\"\"\n",
    "INSERT INTO fornecedor (nome_fornecedor, cnpj, cidade, estado, cep, data_cadastro)\n",
    "VALUES ('Empresa A', '11.111.111/1111-11', 'São Paulo', 'SP', '11111-111', '2020-01-01')\n",
    "\"\"\""
   ]
  },
  {
   "cell_type": "markdown",
   "id": "e424e2f6-ced2-42ee-9dc6-908c7c08ffbd",
   "metadata": {},
   "source": [
    "abre de novo:"
   ]
  },
  {
   "cell_type": "code",
   "execution_count": 31,
   "id": "cb3c7986-3baa-4fba-b01a-e96ede68fb00",
   "metadata": {},
   "outputs": [],
   "source": [
    "conn   = sqlite3.connect('aulaDB.db')\n",
    "cursor = conn.cursor()"
   ]
  },
  {
   "cell_type": "code",
   "execution_count": 32,
   "id": "a2d19913-5107-4d6d-a71e-2b33b4849fe3",
   "metadata": {},
   "outputs": [
    {
     "data": {
      "text/plain": [
       "<sqlite3.Cursor at 0x1df4ebadd40>"
      ]
     },
     "execution_count": 32,
     "metadata": {},
     "output_type": "execute_result"
    }
   ],
   "source": [
    "cursor.execute(comandos)"
   ]
  },
  {
   "cell_type": "code",
   "execution_count": 33,
   "id": "fc8f3168-cbb2-4445-bfeb-2b4226560187",
   "metadata": {},
   "outputs": [],
   "source": [
    "comandos = \"\"\"\n",
    "INSERT INTO fornecedor (nome_fornecedor, cnpj, cidade, estado, cep, data_cadastro)\n",
    "VALUES ('Empresa B', '22.222.222/2222-22', 'Rio de Janeiro', 'RJ', '22222-222', '2020-01-01')\n",
    "\"\"\""
   ]
  },
  {
   "cell_type": "code",
   "execution_count": 34,
   "id": "dea9f250-a257-4b45-9f5e-c3b7c8ca760b",
   "metadata": {},
   "outputs": [
    {
     "data": {
      "text/plain": [
       "<sqlite3.Cursor at 0x1df4ebadd40>"
      ]
     },
     "execution_count": 34,
     "metadata": {},
     "output_type": "execute_result"
    }
   ],
   "source": [
    "cursor.execute(comandos)"
   ]
  },
  {
   "cell_type": "code",
   "execution_count": 35,
   "id": "7a343eac-65ea-425b-aaeb-5ec2fad54d6a",
   "metadata": {},
   "outputs": [],
   "source": [
    "comandos = \"\"\"\n",
    "INSERT INTO fornecedor (nome_fornecedor, cnpj, cidade, estado, cep, data_cadastro)\n",
    "VALUES ('Empresa C', '33.333.333/3333-33', 'Curitiba', 'PR', '33333-333', '2020-01-01')\n",
    "\"\"\""
   ]
  },
  {
   "cell_type": "code",
   "execution_count": 36,
   "id": "59e5751a-e38e-409c-8aeb-37184fcb1d82",
   "metadata": {},
   "outputs": [
    {
     "data": {
      "text/plain": [
       "<sqlite3.Cursor at 0x1df4ebadd40>"
      ]
     },
     "execution_count": 36,
     "metadata": {},
     "output_type": "execute_result"
    }
   ],
   "source": [
    "cursor.execute(comandos)"
   ]
  },
  {
   "cell_type": "markdown",
   "id": "edcd4189-0693-473c-9f44-b6478b2649ed",
   "metadata": {},
   "source": [
    "Caso tenha ficado alguma coisa pendente:"
   ]
  },
  {
   "cell_type": "code",
   "execution_count": 37,
   "id": "f8209da4-3496-4c48-a7f7-5ee2d5817657",
   "metadata": {},
   "outputs": [],
   "source": [
    "conn.commit()"
   ]
  },
  {
   "cell_type": "markdown",
   "id": "81e5b5d9-89f1-409f-99bb-b0e0c8fbd21e",
   "metadata": {},
   "source": [
    "mostra o que inserimos no bd:"
   ]
  },
  {
   "cell_type": "code",
   "execution_count": 38,
   "id": "1a2b353c-eea6-4314-b6af-5ea6b042112b",
   "metadata": {},
   "outputs": [],
   "source": [
    "comandos = \"\"\"\n",
    "SELECT * FROM fornecedor\n",
    "\"\"\""
   ]
  },
  {
   "cell_type": "code",
   "execution_count": 39,
   "id": "879f5098-e002-4c0a-b872-447cc8963407",
   "metadata": {},
   "outputs": [
    {
     "data": {
      "text/plain": [
       "<sqlite3.Cursor at 0x1df4ebadd40>"
      ]
     },
     "execution_count": 39,
     "metadata": {},
     "output_type": "execute_result"
    }
   ],
   "source": [
    "cursor.execute(comandos)"
   ]
  },
  {
   "cell_type": "code",
   "execution_count": 40,
   "id": "82cfe17f-d936-4e12-92b6-93ebff0476b4",
   "metadata": {},
   "outputs": [],
   "source": [
    "resultado = cursor.fetchall()"
   ]
  },
  {
   "cell_type": "code",
   "execution_count": 41,
   "id": "7d7a5290-68cc-4a4d-91cc-6a50d67633aa",
   "metadata": {},
   "outputs": [
    {
     "name": "stdout",
     "output_type": "stream",
     "text": [
      "[(1, 'Empresa A', '11.111.111/1111-11', 'São Paulo', 'SP', '11111-111', '2020-01-01'), (2, 'Empresa B', '22.222.222/2222-22', 'Rio de Janeiro', 'RJ', '22222-222', '2020-01-01'), (3, 'Empresa C', '33.333.333/3333-33', 'Curitiba', 'PR', '33333-333', '2020-01-01')]\n"
     ]
    }
   ],
   "source": [
    "print(resultado)"
   ]
  },
  {
   "cell_type": "code",
   "execution_count": 42,
   "id": "cc54affa-0ae0-4f17-aecf-473422e6f820",
   "metadata": {},
   "outputs": [
    {
     "name": "stdout",
     "output_type": "stream",
     "text": [
      "(1, 'Empresa A', '11.111.111/1111-11', 'São Paulo', 'SP', '11111-111', '2020-01-01')\n",
      "(2, 'Empresa B', '22.222.222/2222-22', 'Rio de Janeiro', 'RJ', '22222-222', '2020-01-01')\n",
      "(3, 'Empresa C', '33.333.333/3333-33', 'Curitiba', 'PR', '33333-333', '2020-01-01')\n"
     ]
    }
   ],
   "source": [
    "for linha in resultado :\n",
    "    print(linha)"
   ]
  },
  {
   "cell_type": "code",
   "execution_count": 43,
   "id": "384780e2-aab3-4a6d-831b-2657e661c99e",
   "metadata": {},
   "outputs": [
    {
     "name": "stdout",
     "output_type": "stream",
     "text": [
      "[(2, 'Empresa B', '22.222.222/2222-22', 'Rio de Janeiro', 'RJ', '22222-222', '2020-01-01')]\n"
     ]
    }
   ],
   "source": [
    "cursor.execute(\"SELECT * FROM fornecedor WHERE id_fornecedor = 2\")\n",
    "resultado = cursor.fetchall()\n",
    "print(resultado)"
   ]
  },
  {
   "cell_type": "code",
   "execution_count": 44,
   "id": "919752e1-facf-452f-aa8d-73bf466cfb7b",
   "metadata": {},
   "outputs": [],
   "source": [
    "cursor.close()\n",
    "conn.close()"
   ]
  },
  {
   "cell_type": "markdown",
   "id": "99100abf-0d64-4605-b829-cefc70e3c9df",
   "metadata": {},
   "source": [
    "## Update"
   ]
  },
  {
   "cell_type": "code",
   "execution_count": 45,
   "id": "1c887e5e-35f0-438b-803f-320621b45d2a",
   "metadata": {},
   "outputs": [],
   "source": [
    "conn = sqlite3.connect('aulaDB.db')\n",
    "cursor = conn.cursor()"
   ]
  },
  {
   "cell_type": "code",
   "execution_count": 46,
   "id": "8f12dc58-5c0f-4658-9083-ebbf7aa3ed56",
   "metadata": {},
   "outputs": [],
   "source": [
    "cursor.execute(\"UPDATE fornecedor SET cidade = 'Campinas' WHERE id_fornecedor = 2\")\n",
    "conn.commit()"
   ]
  },
  {
   "cell_type": "code",
   "execution_count": 47,
   "id": "246f1445-bd67-4f47-9d1c-3f80db7c539b",
   "metadata": {},
   "outputs": [
    {
     "name": "stdout",
     "output_type": "stream",
     "text": [
      "(1, 'Empresa A', '11.111.111/1111-11', 'São Paulo', 'SP', '11111-111', '2020-01-01')\n",
      "(2, 'Empresa B', '22.222.222/2222-22', 'Campinas', 'RJ', '22222-222', '2020-01-01')\n",
      "(3, 'Empresa C', '33.333.333/3333-33', 'Curitiba', 'PR', '33333-333', '2020-01-01')\n"
     ]
    }
   ],
   "source": [
    "cursor.execute(\"SELECT * FROM fornecedor\")\n",
    "for linha in cursor.fetchall():\n",
    "    print(linha)"
   ]
  },
  {
   "cell_type": "code",
   "execution_count": 48,
   "id": "48607672-67e4-4d21-923c-30813492fedd",
   "metadata": {},
   "outputs": [],
   "source": [
    "cursor.close()\n",
    "conn.close()"
   ]
  },
  {
   "cell_type": "markdown",
   "id": "6ff2c52d-1651-4521-a894-745cf996971d",
   "metadata": {},
   "source": [
    "## Delete"
   ]
  },
  {
   "cell_type": "code",
   "execution_count": 49,
   "id": "953e73cd-7fda-4f9d-a332-534ee77aabdf",
   "metadata": {},
   "outputs": [],
   "source": [
    "conn = sqlite3.connect('aulaDB.db')\n",
    "cursor = conn.cursor()"
   ]
  },
  {
   "cell_type": "code",
   "execution_count": 50,
   "id": "8f978ec1-67d6-4131-9ca3-e79601260dae",
   "metadata": {},
   "outputs": [],
   "source": [
    "cursor.execute(\"DELETE FROM fornecedor WHERE id_fornecedor = 2\")\n",
    "conn.commit()"
   ]
  },
  {
   "cell_type": "code",
   "execution_count": 51,
   "id": "143ed974-0df7-4b3e-b1c9-6e9990f0699a",
   "metadata": {},
   "outputs": [
    {
     "name": "stdout",
     "output_type": "stream",
     "text": [
      "(1, 'Empresa A', '11.111.111/1111-11', 'São Paulo', 'SP', '11111-111', '2020-01-01')\n",
      "(3, 'Empresa C', '33.333.333/3333-33', 'Curitiba', 'PR', '33333-333', '2020-01-01')\n"
     ]
    }
   ],
   "source": [
    "cursor.execute(\"SELECT * FROM fornecedor\")\n",
    "for linha in cursor.fetchall():\n",
    "    print(linha)"
   ]
  },
  {
   "cell_type": "code",
   "execution_count": 52,
   "id": "2ac1f659-f98e-4da4-bc8f-e48bfdcf2565",
   "metadata": {},
   "outputs": [],
   "source": [
    "cursor.close()\n",
    "conn.close()"
   ]
  },
  {
   "cell_type": "markdown",
   "id": "6a42311a-a1a3-4096-b10c-5075ad9ffd01",
   "metadata": {},
   "source": [
    "## Informações"
   ]
  },
  {
   "cell_type": "code",
   "execution_count": 53,
   "id": "a22f5d3f-b62c-4abb-a4d8-6dd60d28dea4",
   "metadata": {},
   "outputs": [],
   "source": [
    "conn = sqlite3.connect('aulaDB.db')\n",
    "cursor = conn.cursor()"
   ]
  },
  {
   "cell_type": "code",
   "execution_count": 54,
   "id": "ef0b85e9-5c11-40d5-b266-c326d9ced5e1",
   "metadata": {},
   "outputs": [
    {
     "name": "stdout",
     "output_type": "stream",
     "text": [
      "Tabelas:\n",
      "('fornecedor',)\n",
      "('sqlite_sequence',)\n"
     ]
    }
   ],
   "source": [
    "cursor.execute(\"\"\"SELECT name FROM sqlite_master WHERE type='table' ORDER BY name\"\"\")\n",
    "print('Tabelas:')\n",
    "for tabela in cursor.fetchall():\n",
    "    print(tabela)"
   ]
  },
  {
   "cell_type": "code",
   "execution_count": 55,
   "id": "c0b79c6b-bd27-40b5-adfa-f1d087ee81f1",
   "metadata": {
    "scrolled": true
   },
   "outputs": [
    {
     "name": "stdout",
     "output_type": "stream",
     "text": [
      "\n",
      "DDL da tabela fornecedor:\n",
      "CREATE TABLE fornecedor (\n",
      "id_fornecedor INTEGER NOT NULL PRIMARY KEY AUTOINCREMENT,\n",
      "nome_fornecedor TEXT NOT NULL,\n",
      "cnpj VARCHAR(18) NOT NULL,\n",
      "cidade TEXT,\n",
      "estado VARCHAR(2) NOT NULL,\n",
      "cep VARCHAR(9) NOT NULL,\n",
      "data_cadastro DATE NOT NULL\n",
      ")\n"
     ]
    }
   ],
   "source": [
    "tabela = 'fornecedor'\n",
    "cursor.execute(f\"\"\"SELECT sql FROM sqlite_master WHERE type='table' AND name='{tabela}'\"\"\")\n",
    "print(f'\\nDDL da tabela {tabela}:')\n",
    "for schema in cursor.fetchall():\n",
    "    print(\"%s\" % (schema))"
   ]
  },
  {
   "cell_type": "code",
   "execution_count": 56,
   "id": "1eee881b-df43-4132-89fb-e7d47b5e6be4",
   "metadata": {},
   "outputs": [],
   "source": [
    "cursor.close()\n",
    "conn.close()"
   ]
  }
 ],
 "metadata": {
  "kernelspec": {
   "display_name": "Python 3 (ipykernel)",
   "language": "python",
   "name": "python3"
  },
  "language_info": {
   "codemirror_mode": {
    "name": "ipython",
    "version": 3
   },
   "file_extension": ".py",
   "mimetype": "text/x-python",
   "name": "python",
   "nbconvert_exporter": "python",
   "pygments_lexer": "ipython3",
   "version": "3.13.3"
  }
 },
 "nbformat": 4,
 "nbformat_minor": 5
}
