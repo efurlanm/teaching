{
 "cells": [
  {
   "cell_type": "markdown",
   "id": "74628779-5dee-4692-9a9c-cac0efb11525",
   "metadata": {},
   "source": [
    "# Bibliotecas e módulos"
   ]
  },
  {
   "cell_type": "markdown",
   "id": "5953fa77-aca8-40c2-a173-0232dd3553a9",
   "metadata": {},
   "source": [
    "Módulo permite criar uma funcionalidade que pode ser reaproveitada em outros códigos."
   ]
  },
  {
   "cell_type": "code",
   "execution_count": 2,
   "id": "cb431587-d469-4813-b1e4-9e2555aad6b4",
   "metadata": {},
   "outputs": [
    {
     "name": "stdout",
     "output_type": "stream",
     "text": [
      "Writing oimundo.py\n"
     ]
    }
   ],
   "source": [
    "%%writefile oimundo.py\n",
    "def oimundo() :\n",
    "    print(\"Oi, mundo!\")"
   ]
  },
  {
   "cell_type": "code",
   "execution_count": 3,
   "id": "865553e2-de8a-472d-976e-0d19a08aee6e",
   "metadata": {},
   "outputs": [],
   "source": [
    "import oimundo as oi"
   ]
  },
  {
   "cell_type": "code",
   "execution_count": 4,
   "id": "08dcf073-2040-443e-8966-5c7834c652c1",
   "metadata": {},
   "outputs": [
    {
     "data": {
      "text/plain": [
       "<module 'oimundo' from '/home/x/Documents/teach/lprog/aulas/oimundo.py'>"
      ]
     },
     "execution_count": 4,
     "metadata": {},
     "output_type": "execute_result"
    }
   ],
   "source": [
    "oi"
   ]
  },
  {
   "cell_type": "code",
   "execution_count": 5,
   "id": "09784148-430c-4214-9042-2497b0727e0a",
   "metadata": {},
   "outputs": [
    {
     "name": "stdout",
     "output_type": "stream",
     "text": [
      "Oi, mundo!\n"
     ]
    }
   ],
   "source": [
    "oimundo()"
   ]
  },
  {
   "cell_type": "markdown",
   "id": "1a7dc23f-f4d9-4a36-b003-2dad003ac30b",
   "metadata": {},
   "source": [
    "---"
   ]
  },
  {
   "cell_type": "code",
   "execution_count": 6,
   "id": "59e3f9d4-07ac-4334-a9a8-7466ea13e052",
   "metadata": {},
   "outputs": [
    {
     "name": "stdout",
     "output_type": "stream",
     "text": [
      "Writing bibl01.py\n"
     ]
    }
   ],
   "source": [
    "%%writefile bibl01.py\n",
    "def f01() :\n",
    "    print(\"Primeira função\")\n",
    "def f02() :\n",
    "    print(\"Segunda função\")"
   ]
  },
  {
   "cell_type": "code",
   "execution_count": 8,
   "id": "2f6e1bce-ccfd-462d-b4f7-5eb7292340e0",
   "metadata": {},
   "outputs": [],
   "source": [
    "from bibl01 import f02 as f"
   ]
  },
  {
   "cell_type": "code",
   "execution_count": 9,
   "id": "305e2ae2-6f01-4982-a16a-99cdde175541",
   "metadata": {},
   "outputs": [
    {
     "ename": "NameError",
     "evalue": "name 'f01' is not defined",
     "output_type": "error",
     "traceback": [
      "\u001b[0;31m---------------------------------------------------------------------------\u001b[0m",
      "\u001b[0;31mNameError\u001b[0m                                 Traceback (most recent call last)",
      "Cell \u001b[0;32mIn[9], line 1\u001b[0m\n\u001b[0;32m----> 1\u001b[0m \u001b[43mf01\u001b[49m()\n",
      "\u001b[0;31mNameError\u001b[0m: name 'f01' is not defined"
     ]
    }
   ],
   "source": [
    "f01()"
   ]
  },
  {
   "cell_type": "code",
   "execution_count": 10,
   "id": "fd8006e1-0931-41b3-b0cd-f8a1fef74441",
   "metadata": {},
   "outputs": [
    {
     "ename": "NameError",
     "evalue": "name 'f02' is not defined",
     "output_type": "error",
     "traceback": [
      "\u001b[0;31m---------------------------------------------------------------------------\u001b[0m",
      "\u001b[0;31mNameError\u001b[0m                                 Traceback (most recent call last)",
      "Cell \u001b[0;32mIn[10], line 1\u001b[0m\n\u001b[0;32m----> 1\u001b[0m \u001b[43mf02\u001b[49m()\n",
      "\u001b[0;31mNameError\u001b[0m: name 'f02' is not defined"
     ]
    }
   ],
   "source": [
    "f02()"
   ]
  },
  {
   "cell_type": "code",
   "execution_count": 11,
   "id": "03e2ea67-71e5-4053-a29b-fe91f52abbd1",
   "metadata": {},
   "outputs": [
    {
     "name": "stdout",
     "output_type": "stream",
     "text": [
      "Segunda função\n"
     ]
    }
   ],
   "source": [
    "f()"
   ]
  },
  {
   "cell_type": "code",
   "execution_count": 12,
   "id": "6da3e442-6676-47b5-ad7a-94347ef2931f",
   "metadata": {},
   "outputs": [
    {
     "data": {
      "text/plain": [
       "<function bibl01.f02()>"
      ]
     },
     "execution_count": 12,
     "metadata": {},
     "output_type": "execute_result"
    }
   ],
   "source": [
    "f"
   ]
  },
  {
   "cell_type": "code",
   "execution_count": 14,
   "id": "6cdfba95-da98-458d-8308-091427b3b00a",
   "metadata": {},
   "outputs": [],
   "source": [
    "import bibl01 as b"
   ]
  },
  {
   "cell_type": "code",
   "execution_count": 15,
   "id": "b7ae76cb-bd6f-4d6f-ad74-364596b4be0c",
   "metadata": {},
   "outputs": [
    {
     "name": "stdout",
     "output_type": "stream",
     "text": [
      "Primeira função\n"
     ]
    }
   ],
   "source": [
    "b.f01()"
   ]
  },
  {
   "cell_type": "code",
   "execution_count": 16,
   "id": "ae5ca4f5-a404-4253-b77e-cd48fc5f91b6",
   "metadata": {},
   "outputs": [
    {
     "name": "stdout",
     "output_type": "stream",
     "text": [
      "Segunda função\n"
     ]
    }
   ],
   "source": [
    "b.f02()"
   ]
  },
  {
   "cell_type": "code",
   "execution_count": 17,
   "id": "3fbdc11b-ad2f-4150-ade5-5314a1a2cfb9",
   "metadata": {},
   "outputs": [],
   "source": [
    "from bibl01 import f01 as f1, f02 as f2"
   ]
  },
  {
   "cell_type": "code",
   "execution_count": 18,
   "id": "34afdf61-02ba-48d1-b117-a18bacb8ae0c",
   "metadata": {},
   "outputs": [
    {
     "name": "stdout",
     "output_type": "stream",
     "text": [
      "Primeira função\n"
     ]
    }
   ],
   "source": [
    "f1()"
   ]
  },
  {
   "cell_type": "markdown",
   "id": "2c3bcb5c-94c7-441e-b73e-28869371578f",
   "metadata": {},
   "source": [
    "É uma boa prática declarar na sequência:\n",
    "- primeiro as bibliotecas-padrão (módulos built-in) que fazem parte do Python padrão\n",
    "- depois as bibliotecas de terceiros, geralmente carregadas via um gerenciador de pacotes\n",
    "- e, por fim, os módulos específicos criados para a aplicação"
   ]
  },
  {
   "cell_type": "code",
   "execution_count": 19,
   "id": "69a3b757-ef63-437d-8e93-a94a16a67e8c",
   "metadata": {},
   "outputs": [],
   "source": [
    "import numpy\n",
    "import matplotlib\n",
    "import bibl01"
   ]
  },
  {
   "cell_type": "markdown",
   "id": "2cd1d676-5fda-4fae-83ab-3911fc2b9a91",
   "metadata": {},
   "source": [
    "---"
   ]
  },
  {
   "cell_type": "markdown",
   "id": "92460752-bab9-4615-929b-4f6200e86c38",
   "metadata": {},
   "source": [
    "## Módulo Random"
   ]
  },
  {
   "cell_type": "code",
   "execution_count": null,
   "id": "2107b0f4-fbeb-4904-93b4-d02b4227019c",
   "metadata": {},
   "outputs": [],
   "source": [
    "import random as rd"
   ]
  },
  {
   "cell_type": "code",
   "execution_count": 21,
   "id": "655debca-66c8-490b-936c-2a8e3a2300f3",
   "metadata": {},
   "outputs": [
    {
     "data": {
      "text/plain": [
       "12"
      ]
     },
     "execution_count": 21,
     "metadata": {},
     "output_type": "execute_result"
    }
   ],
   "source": [
    "rd.randint(10, 20)"
   ]
  },
  {
   "cell_type": "code",
   "execution_count": 23,
   "id": "e4745260-b005-4c94-bf0f-10757271f19c",
   "metadata": {},
   "outputs": [
    {
     "data": {
      "text/plain": [
       "7"
      ]
     },
     "execution_count": 23,
     "metadata": {},
     "output_type": "execute_result"
    }
   ],
   "source": [
    "rd.choice([1, 3, 5, 7, 11])"
   ]
  },
  {
   "cell_type": "code",
   "execution_count": 24,
   "id": "308c16f6-ab1a-45d5-8c11-a539429cc3fb",
   "metadata": {},
   "outputs": [
    {
     "data": {
      "text/plain": [
       "[9, 4, 3]"
      ]
     },
     "execution_count": 24,
     "metadata": {},
     "output_type": "execute_result"
    }
   ],
   "source": [
    "rd.sample(range(10), 3)"
   ]
  },
  {
   "cell_type": "markdown",
   "id": "7ce239f8-701e-4dbb-8041-689c6e5fd8c8",
   "metadata": {},
   "source": [
    "## Módulo OS"
   ]
  },
  {
   "cell_type": "code",
   "execution_count": 29,
   "id": "889bdbae-5648-40da-b415-31fbd05186bd",
   "metadata": {},
   "outputs": [],
   "source": [
    "import os\n",
    "from os import listdir as ld"
   ]
  },
  {
   "cell_type": "code",
   "execution_count": 27,
   "id": "29cbcc44-18bd-4dcf-b48a-7499c5ed72a1",
   "metadata": {},
   "outputs": [
    {
     "data": {
      "text/plain": [
       "'/home/x/Documents/teach/lprog/aulas'"
      ]
     },
     "execution_count": 27,
     "metadata": {},
     "output_type": "execute_result"
    }
   ],
   "source": [
    "os.getcwd()"
   ]
  },
  {
   "cell_type": "code",
   "execution_count": 30,
   "id": "1cd7aed7-7e9d-4846-a90b-caa3f23b39c5",
   "metadata": {},
   "outputs": [
    {
     "name": "stdout",
     "output_type": "stream",
     "text": [
      "['9_other', 'oimundo.py', 's23.ipynb', 's111213.ipynb', 's2122.ipynb', '.ipynb_checkpoints', 'bibl01.py', 'aula_31.ipynb', 'aula_32.ipynb', '__pycache__']\n"
     ]
    }
   ],
   "source": [
    "print(os.listdir())"
   ]
  },
  {
   "cell_type": "code",
   "execution_count": 32,
   "id": "d93abc6f-74a2-48c2-bfc0-89a5a262fd40",
   "metadata": {},
   "outputs": [
    {
     "name": "stdout",
     "output_type": "stream",
     "text": [
      "['9_other', 'oimundo.py', 's23.ipynb', 's111213.ipynb', 's2122.ipynb', '.ipynb_checkpoints', 'bibl01.py', 'aula_31.ipynb', 'aula_32.ipynb', '__pycache__']\n"
     ]
    }
   ],
   "source": [
    "print(ld())"
   ]
  },
  {
   "cell_type": "code",
   "execution_count": 33,
   "id": "4c0f29d6-4716-4993-9e1f-90fdb1c0db47",
   "metadata": {},
   "outputs": [
    {
     "data": {
      "text/plain": [
       "4"
      ]
     },
     "execution_count": 33,
     "metadata": {},
     "output_type": "execute_result"
    }
   ],
   "source": [
    "os.cpu_count()"
   ]
  },
  {
   "cell_type": "code",
   "execution_count": 36,
   "id": "e3b463f2-e76b-4be5-b5f2-6cf72c86ad86",
   "metadata": {},
   "outputs": [
    {
     "ename": "OSError",
     "evalue": "[Errno 6] No such device or address",
     "output_type": "error",
     "traceback": [
      "\u001b[0;31m---------------------------------------------------------------------------\u001b[0m",
      "\u001b[0;31mOSError\u001b[0m                                   Traceback (most recent call last)",
      "Cell \u001b[0;32mIn[36], line 1\u001b[0m\n\u001b[0;32m----> 1\u001b[0m \u001b[38;5;28mprint\u001b[39m(\u001b[43mos\u001b[49m\u001b[38;5;241;43m.\u001b[39;49m\u001b[43mgetlogin\u001b[49m\u001b[43m(\u001b[49m\u001b[43m)\u001b[49m)\n",
      "\u001b[0;31mOSError\u001b[0m: [Errno 6] No such device or address"
     ]
    }
   ],
   "source": [
    "print(os.getlogin()) #user logged in on the controlling terminal of the process."
   ]
  },
  {
   "cell_type": "code",
   "execution_count": 37,
   "id": "4873fa3b-8bb8-41fd-bb66-58ee88cf2cd2",
   "metadata": {},
   "outputs": [],
   "source": [
    "import getpass"
   ]
  },
  {
   "cell_type": "code",
   "execution_count": 38,
   "id": "6d79cdbb-0919-42dc-a20f-e5a259bce92d",
   "metadata": {},
   "outputs": [
    {
     "data": {
      "text/plain": [
       "'x'"
      ]
     },
     "execution_count": 38,
     "metadata": {},
     "output_type": "execute_result"
    }
   ],
   "source": [
    "getpass.getuser()"
   ]
  },
  {
   "cell_type": "code",
   "execution_count": 40,
   "id": "14d12e48-85ff-47ad-aa7c-8b1d9a753dcb",
   "metadata": {},
   "outputs": [
    {
     "data": {
      "text/plain": [
       "'/usr/local/sbin:/usr/local/bin:/usr/sbin:/usr/bin:/sbin:/bin'"
      ]
     },
     "execution_count": 40,
     "metadata": {},
     "output_type": "execute_result"
    }
   ],
   "source": [
    "os.getenv('PATH')"
   ]
  },
  {
   "cell_type": "code",
   "execution_count": 41,
   "id": "b120de7a-5ba4-4fde-858c-83cb5a3739ae",
   "metadata": {},
   "outputs": [
    {
     "data": {
      "text/plain": [
       "30548"
      ]
     },
     "execution_count": 41,
     "metadata": {},
     "output_type": "execute_result"
    }
   ],
   "source": [
    "os.getpid()"
   ]
  },
  {
   "cell_type": "markdown",
   "id": "bd3bc185-26cd-4d95-96fc-510bacff12a8",
   "metadata": {},
   "source": [
    "## Módulo RE\n",
    "\n",
    "Expressão Regular (RE)\n",
    "\n",
    "- match procura no início da string\n",
    "- search procura na string inteira"
   ]
  },
  {
   "cell_type": "code",
   "execution_count": 51,
   "id": "196ab0cd-1229-4538-94e7-5db0a171675c",
   "metadata": {},
   "outputs": [],
   "source": [
    "import re"
   ]
  },
  {
   "cell_type": "code",
   "execution_count": 72,
   "id": "93e1f43b-9b12-4bb8-aae8-461f9c0555fc",
   "metadata": {},
   "outputs": [],
   "source": [
    "string_with_newlines = \"\"\"something\n",
    "someotherthing\"\"\""
   ]
  },
  {
   "cell_type": "code",
   "execution_count": 73,
   "id": "08a1bda4-d5ec-4a66-acbd-dd5de50a7fc0",
   "metadata": {},
   "outputs": [
    {
     "data": {
      "text/plain": [
       "<re.Match object; span=(0, 4), match='some'>"
      ]
     },
     "execution_count": 73,
     "metadata": {},
     "output_type": "execute_result"
    }
   ],
   "source": [
    "re.match('some', string_with_newlines)"
   ]
  },
  {
   "cell_type": "markdown",
   "id": "c88d111b-5c94-45e4-b04e-8f22c8100520",
   "metadata": {},
   "source": [
    "não encontra pois não está no início:"
   ]
  },
  {
   "cell_type": "code",
   "execution_count": 75,
   "id": "b5cee8f2-8461-4c8a-b170-3b51b74041b0",
   "metadata": {},
   "outputs": [],
   "source": [
    "re.match('someotherthing', string_with_newlines)"
   ]
  },
  {
   "cell_type": "markdown",
   "id": "04402450-767e-40dc-b29d-3457596fda25",
   "metadata": {},
   "source": [
    "o search acha:"
   ]
  },
  {
   "cell_type": "code",
   "execution_count": 76,
   "id": "058100fb-00bb-4ea9-91d7-547ed39efb8b",
   "metadata": {},
   "outputs": [
    {
     "data": {
      "text/plain": [
       "<re.Match object; span=(10, 24), match='someotherthing'>"
      ]
     },
     "execution_count": 76,
     "metadata": {},
     "output_type": "execute_result"
    }
   ],
   "source": [
    "re.search('someotherthing', string_with_newlines)"
   ]
  },
  {
   "cell_type": "markdown",
   "id": "79d423b0-e487-49ea-b75a-4bfa9ba6506e",
   "metadata": {},
   "source": [
    "### Exemplo com RE:"
   ]
  },
  {
   "cell_type": "code",
   "execution_count": 96,
   "id": "2c349d52-47e6-4c6a-bbf8-9b1bddce51b0",
   "metadata": {},
   "outputs": [
    {
     "data": {
      "text/plain": [
       "<re.Match object; span=(0, 10), match='meuArquivo'>"
      ]
     },
     "execution_count": 96,
     "metadata": {},
     "output_type": "execute_result"
    }
   ],
   "source": [
    "re.search('[a-zA-Z]*', 'meuArquivo_20-01-2020.py')"
   ]
  },
  {
   "cell_type": "code",
   "execution_count": 99,
   "id": "708f7002-f7d8-4a8b-911e-c9990756275a",
   "metadata": {},
   "outputs": [
    {
     "data": {
      "text/plain": [
       "<re.Match object; span=(0, 10), match='meuArquivo'>"
      ]
     },
     "execution_count": 99,
     "metadata": {},
     "output_type": "execute_result"
    }
   ],
   "source": [
    "re.match(padrao, string)"
   ]
  },
  {
   "cell_type": "markdown",
   "id": "765fb00d-7533-4abb-a217-0376b26619a0",
   "metadata": {},
   "source": [
    "### groups, group, e groupdict:"
   ]
  },
  {
   "cell_type": "code",
   "execution_count": 67,
   "id": "4d8c44e0-fd02-42e3-9a01-8f6796016493",
   "metadata": {},
   "outputs": [],
   "source": [
    "m = re.match(r'(\\w+)@(\\w+)\\.(\\w+)','username@hackerrank.com')"
   ]
  },
  {
   "cell_type": "code",
   "execution_count": 53,
   "id": "d138f88f-73f3-4a6d-b0ac-95cf831e7133",
   "metadata": {},
   "outputs": [
    {
     "data": {
      "text/plain": [
       "('username', 'hackerrank', 'com')"
      ]
     },
     "execution_count": 53,
     "metadata": {},
     "output_type": "execute_result"
    }
   ],
   "source": [
    "m.groups()"
   ]
  },
  {
   "cell_type": "code",
   "execution_count": 54,
   "id": "926fd75a-2ee7-4aef-a798-2369f7058db0",
   "metadata": {},
   "outputs": [
    {
     "data": {
      "text/plain": [
       "'username@hackerrank.com'"
      ]
     },
     "execution_count": 54,
     "metadata": {},
     "output_type": "execute_result"
    }
   ],
   "source": [
    "m.group(0)"
   ]
  },
  {
   "cell_type": "code",
   "execution_count": 55,
   "id": "1ca8850a-d2de-42bd-8a3d-c8a4d41d22ff",
   "metadata": {},
   "outputs": [
    {
     "data": {
      "text/plain": [
       "'username'"
      ]
     },
     "execution_count": 55,
     "metadata": {},
     "output_type": "execute_result"
    }
   ],
   "source": [
    "m.group(1)"
   ]
  },
  {
   "cell_type": "code",
   "execution_count": 56,
   "id": "efd7fc01-9917-4910-8ea1-6168fdc3b4e1",
   "metadata": {},
   "outputs": [
    {
     "data": {
      "text/plain": [
       "'hackerrank'"
      ]
     },
     "execution_count": 56,
     "metadata": {},
     "output_type": "execute_result"
    }
   ],
   "source": [
    "m.group(2)"
   ]
  },
  {
   "cell_type": "code",
   "execution_count": 58,
   "id": "e93ff5d3-71ab-458e-950f-6056242bbde4",
   "metadata": {},
   "outputs": [],
   "source": [
    "m = re.match(r'(?P<user>\\w+)@(?P<website>\\w+)\\.(?P<extension>\\w+)','myname@hackerrank.com')"
   ]
  },
  {
   "cell_type": "code",
   "execution_count": 59,
   "id": "4dfd4619-8058-45b8-891f-8c8b30c5cbf4",
   "metadata": {},
   "outputs": [
    {
     "data": {
      "text/plain": [
       "{'user': 'myname', 'website': 'hackerrank', 'extension': 'com'}"
      ]
     },
     "execution_count": 59,
     "metadata": {},
     "output_type": "execute_result"
    }
   ],
   "source": [
    "m.groupdict()"
   ]
  },
  {
   "cell_type": "markdown",
   "id": "b4db02fe-54b5-408e-8a93-d909fb0de522",
   "metadata": {},
   "source": [
    "### Split"
   ]
  },
  {
   "cell_type": "code",
   "execution_count": 101,
   "id": "407358b5-2e20-41da-b93f-2f2e3169bc9a",
   "metadata": {},
   "outputs": [
    {
     "data": {
      "text/plain": [
       "['meuArquivo', '20-01-2020.py']"
      ]
     },
     "execution_count": 101,
     "metadata": {},
     "output_type": "execute_result"
    }
   ],
   "source": [
    "re.split(\"_\", \"meuArquivo_20-01-2020.py\")"
   ]
  },
  {
   "cell_type": "markdown",
   "id": "994b0452-c550-411c-ab4b-88a36c0c6a5b",
   "metadata": {},
   "source": [
    "## Datetime"
   ]
  },
  {
   "cell_type": "code",
   "execution_count": 106,
   "id": "f3d6ae13-5f9e-4802-9ee7-2e72966b758d",
   "metadata": {},
   "outputs": [],
   "source": [
    "import datetime as dt"
   ]
  },
  {
   "cell_type": "code",
   "execution_count": 108,
   "id": "1f793f67-cb9f-48d6-becd-7c0ede5e2a6c",
   "metadata": {},
   "outputs": [],
   "source": [
    "hoje = dt.datetime.today()\n",
    "ontem = hoje - dt.timedelta(days=1)\n",
    "uma_semana_atras = hoje - dt.timedelta(weeks=1)"
   ]
  },
  {
   "cell_type": "code",
   "execution_count": 110,
   "id": "1989414e-d5e9-4f53-9736-1215b05de2c9",
   "metadata": {},
   "outputs": [
    {
     "data": {
      "text/plain": [
       "'17-09-2023'"
      ]
     },
     "execution_count": 110,
     "metadata": {},
     "output_type": "execute_result"
    }
   ],
   "source": [
    "dt.datetime.strftime(hoje, \"%d-%m-%Y\")"
   ]
  },
  {
   "cell_type": "code",
   "execution_count": 111,
   "id": "660eded2-6297-4b22-81cc-2b546dd42f66",
   "metadata": {},
   "outputs": [
    {
     "data": {
      "text/plain": [
       "'16 de September de 2023'"
      ]
     },
     "execution_count": 111,
     "metadata": {},
     "output_type": "execute_result"
    }
   ],
   "source": [
    "dt.datetime.strftime(ontem, \"%d de %B de %Y\")"
   ]
  },
  {
   "cell_type": "code",
   "execution_count": 119,
   "id": "bb5537bb-ac0e-4e7a-9754-a8e749176596",
   "metadata": {},
   "outputs": [],
   "source": [
    "agora = dt.datetime.now()\n",
    "ontem = agora - dt.timedelta(hours=24)"
   ]
  },
  {
   "cell_type": "code",
   "execution_count": 120,
   "id": "76f88404-cb69-47c7-ac61-c7cfca4373c9",
   "metadata": {},
   "outputs": [
    {
     "data": {
      "text/plain": [
       "datetime.datetime(2023, 9, 17, 15, 0, 12, 604856)"
      ]
     },
     "execution_count": 120,
     "metadata": {},
     "output_type": "execute_result"
    }
   ],
   "source": [
    "agora"
   ]
  },
  {
   "cell_type": "code",
   "execution_count": 121,
   "id": "63ed201f-8423-4049-8408-c087ef22304b",
   "metadata": {},
   "outputs": [
    {
     "data": {
      "text/plain": [
       "datetime.datetime(2023, 9, 16, 15, 0, 12, 604856)"
      ]
     },
     "execution_count": 121,
     "metadata": {},
     "output_type": "execute_result"
    }
   ],
   "source": [
    "ontem"
   ]
  },
  {
   "cell_type": "markdown",
   "id": "29ed1e25-e783-4c54-bd05-6cb29c2e2093",
   "metadata": {},
   "source": [
    "## Repositórios\n",
    "\n",
    "- Pypi https://pypi.org/  : específico Python\n",
    "- Anaconda https://anaconda.org/  : outros softwares também"
   ]
  },
  {
   "cell_type": "markdown",
   "id": "f02b59ac-f1af-49fc-8f97-292dec4e2e45",
   "metadata": {},
   "source": [
    "Tratamento de imagens\n",
    "\n",
    "- Pillow: suporte a formatos de arquivos\n",
    "- OpenCV: algoritmos de visão computacional\n",
    "- Luminoth: visão computacional\n",
    "- Mahotas: visão computacional\n",
    "\n",
    "Visualização de dados\n",
    "\n",
    "- Matplotlib: gráficos\n",
    "- Bokeh: visualização interativa\n",
    "- Seaborn: gráficos estatísticos\n",
    "- Altair: visualização estatítstica\n",
    "\n",
    "Tratamento de dados\n",
    "\n",
    "- Pandas: estruturas de dados\n",
    "- NumPy: biblioteca científica\n",
    "- Pyspark: clusters\n",
    "- Pingouim: pacote estatístico baseado em Pandas\n",
    "\n",
    "Tratamento de textos\n",
    "\n",
    "Internet, rede e cloud\n",
    "\n",
    "Acesso a bancos de dados\n",
    "\n",
    "Apresndizado de máquina\n",
    "\n",
    "Jogos"
   ]
  },
  {
   "cell_type": "markdown",
   "id": "123f51f9-a9c9-4b98-8c8d-226ec2daa03e",
   "metadata": {},
   "source": [
    "## Requests"
   ]
  },
  {
   "cell_type": "code",
   "execution_count": 123,
   "id": "53e134fe-09ee-410f-aad2-8ab6c8abe5d3",
   "metadata": {},
   "outputs": [
    {
     "data": {
      "text/plain": [
       "{'Server': 'GitHub.com', 'Date': 'Sun, 17 Sep 2023 18:19:21 GMT', 'Content-Type': 'application/json; charset=utf-8', 'Cache-Control': 'public, max-age=60, s-maxage=60', 'Vary': 'Accept, Accept-Encoding, Accept, X-Requested-With', 'ETag': 'W/\"7e70bc148923f294ab2de23cfa9bcd72d44ff04157e1357110c79007c172584e\"', 'Last-Modified': 'Sun, 17 Sep 2023 18:14:21 GMT', 'X-Poll-Interval': '60', 'X-GitHub-Media-Type': 'github.v3; format=json', 'Link': '<https://api.github.com/events?page=2>; rel=\"next\", <https://api.github.com/events?page=10>; rel=\"last\"', 'x-github-api-version-selected': '2022-11-28', 'Access-Control-Expose-Headers': 'ETag, Link, Location, Retry-After, X-GitHub-OTP, X-RateLimit-Limit, X-RateLimit-Remaining, X-RateLimit-Used, X-RateLimit-Resource, X-RateLimit-Reset, X-OAuth-Scopes, X-Accepted-OAuth-Scopes, X-Poll-Interval, X-GitHub-Media-Type, X-GitHub-SSO, X-GitHub-Request-Id, Deprecation, Sunset', 'Access-Control-Allow-Origin': '*', 'Strict-Transport-Security': 'max-age=31536000; includeSubdomains; preload', 'X-Frame-Options': 'deny', 'X-Content-Type-Options': 'nosniff', 'X-XSS-Protection': '0', 'Referrer-Policy': 'origin-when-cross-origin, strict-origin-when-cross-origin', 'Content-Security-Policy': \"default-src 'none'\", 'Content-Encoding': 'gzip', 'X-RateLimit-Limit': '60', 'X-RateLimit-Remaining': '58', 'X-RateLimit-Reset': '1694977411', 'X-RateLimit-Resource': 'core', 'X-RateLimit-Used': '2', 'Accept-Ranges': 'bytes', 'Content-Length': '6059', 'X-GitHub-Request-Id': 'BEA4:2EF7:1CDAB41:1EDB584:65074329'}"
      ]
     },
     "execution_count": 123,
     "metadata": {},
     "output_type": "execute_result"
    }
   ],
   "source": [
    "import requests\n",
    "info = requests.get('https://api.github.com/events')\n",
    "info.headers"
   ]
  },
  {
   "cell_type": "code",
   "execution_count": 126,
   "id": "bd84fcf9-0349-4bcb-be23-caa4c485cca0",
   "metadata": {},
   "outputs": [
    {
     "data": {
      "text/plain": [
       "'Sun, 17 Sep 2023 18:19:21 GMT'"
      ]
     },
     "execution_count": 126,
     "metadata": {},
     "output_type": "execute_result"
    }
   ],
   "source": [
    "info.headers['date']"
   ]
  },
  {
   "cell_type": "code",
   "execution_count": 128,
   "id": "77a7d396-a4e6-4729-a640-aa1fe91e22eb",
   "metadata": {},
   "outputs": [
    {
     "data": {
      "text/plain": [
       "'[{\"id\":\"31892752957\",\"type\":\"PushEvent\",\"actor\":{\"id\":41898282,\"login\":\"github-actions[bot]\",\"displa'"
      ]
     },
     "execution_count": 128,
     "metadata": {},
     "output_type": "execute_result"
    }
   ],
   "source": [
    "info.text[:100]"
   ]
  },
  {
   "cell_type": "code",
   "execution_count": 130,
   "id": "6d7617e4-3374-4858-a1ad-f3f68b755832",
   "metadata": {},
   "outputs": [
    {
     "data": {
      "text/plain": [
       "{'id': '31892752957',\n",
       " 'type': 'PushEvent',\n",
       " 'actor': {'id': 41898282,\n",
       "  'login': 'github-actions[bot]',\n",
       "  'display_login': 'github-actions',\n",
       "  'gravatar_id': '',\n",
       "  'url': 'https://api.github.com/users/github-actions[bot]',\n",
       "  'avatar_url': 'https://avatars.githubusercontent.com/u/41898282?'},\n",
       " 'repo': {'id': 466714655,\n",
       "  'name': 'rohit-raje-786/Actions',\n",
       "  'url': 'https://api.github.com/repos/rohit-raje-786/Actions'},\n",
       " 'payload': {'repository_id': 466714655,\n",
       "  'push_id': 15074119862,\n",
       "  'size': 1,\n",
       "  'distinct_size': 1,\n",
       "  'ref': 'refs/heads/output',\n",
       "  'head': 'fbc80b333119511474814deacfdae3323e9b7ed5',\n",
       "  'before': 'e41372663a1b2861289f7752016e28d8cd718a61',\n",
       "  'commits': [{'sha': 'fbc80b333119511474814deacfdae3323e9b7ed5',\n",
       "    'author': {'email': '41898282+github-actions[bot]@users.noreply.github.com',\n",
       "     'name': 'github-actions[bot]'},\n",
       "    'message': 'Deploy to GitHub pages',\n",
       "    'distinct': True,\n",
       "    'url': 'https://api.github.com/repos/rohit-raje-786/Actions/commits/fbc80b333119511474814deacfdae3323e9b7ed5'}]},\n",
       " 'public': True,\n",
       " 'created_at': '2023-09-17T18:14:21Z'}"
      ]
     },
     "execution_count": 130,
     "metadata": {},
     "output_type": "execute_result"
    }
   ],
   "source": [
    "info.json()[0]"
   ]
  },
  {
   "cell_type": "markdown",
   "id": "e8932091-1c89-41e2-8a71-09148556dcbe",
   "metadata": {},
   "source": [
    "## Exemplo"
   ]
  },
  {
   "cell_type": "code",
   "execution_count": 131,
   "id": "9f687602-76fb-487d-abd4-a23b361d8a7a",
   "metadata": {},
   "outputs": [
    {
     "ename": "JSONDecodeError",
     "evalue": "Expecting value: line 1 column 1 (char 0)",
     "output_type": "error",
     "traceback": [
      "\u001b[0;31m---------------------------------------------------------------------------\u001b[0m",
      "\u001b[0;31mJSONDecodeError\u001b[0m                           Traceback (most recent call last)",
      "File \u001b[0;32m~/.local/lib/python3.10/site-packages/requests/models.py:971\u001b[0m, in \u001b[0;36mResponse.json\u001b[0;34m(self, **kwargs)\u001b[0m\n\u001b[1;32m    970\u001b[0m \u001b[38;5;28;01mtry\u001b[39;00m:\n\u001b[0;32m--> 971\u001b[0m     \u001b[38;5;28;01mreturn\u001b[39;00m \u001b[43mcomplexjson\u001b[49m\u001b[38;5;241;43m.\u001b[39;49m\u001b[43mloads\u001b[49m\u001b[43m(\u001b[49m\u001b[38;5;28;43mself\u001b[39;49m\u001b[38;5;241;43m.\u001b[39;49m\u001b[43mtext\u001b[49m\u001b[43m,\u001b[49m\u001b[43m \u001b[49m\u001b[38;5;241;43m*\u001b[39;49m\u001b[38;5;241;43m*\u001b[39;49m\u001b[43mkwargs\u001b[49m\u001b[43m)\u001b[49m\n\u001b[1;32m    972\u001b[0m \u001b[38;5;28;01mexcept\u001b[39;00m JSONDecodeError \u001b[38;5;28;01mas\u001b[39;00m e:\n\u001b[1;32m    973\u001b[0m     \u001b[38;5;66;03m# Catch JSON-related errors and raise as requests.JSONDecodeError\u001b[39;00m\n\u001b[1;32m    974\u001b[0m     \u001b[38;5;66;03m# This aliases json.JSONDecodeError and simplejson.JSONDecodeError\u001b[39;00m\n",
      "File \u001b[0;32m~/miniconda3/lib/python3.10/json/__init__.py:346\u001b[0m, in \u001b[0;36mloads\u001b[0;34m(s, cls, object_hook, parse_float, parse_int, parse_constant, object_pairs_hook, **kw)\u001b[0m\n\u001b[1;32m    343\u001b[0m \u001b[38;5;28;01mif\u001b[39;00m (\u001b[38;5;28mcls\u001b[39m \u001b[38;5;129;01mis\u001b[39;00m \u001b[38;5;28;01mNone\u001b[39;00m \u001b[38;5;129;01mand\u001b[39;00m object_hook \u001b[38;5;129;01mis\u001b[39;00m \u001b[38;5;28;01mNone\u001b[39;00m \u001b[38;5;129;01mand\u001b[39;00m\n\u001b[1;32m    344\u001b[0m         parse_int \u001b[38;5;129;01mis\u001b[39;00m \u001b[38;5;28;01mNone\u001b[39;00m \u001b[38;5;129;01mand\u001b[39;00m parse_float \u001b[38;5;129;01mis\u001b[39;00m \u001b[38;5;28;01mNone\u001b[39;00m \u001b[38;5;129;01mand\u001b[39;00m\n\u001b[1;32m    345\u001b[0m         parse_constant \u001b[38;5;129;01mis\u001b[39;00m \u001b[38;5;28;01mNone\u001b[39;00m \u001b[38;5;129;01mand\u001b[39;00m object_pairs_hook \u001b[38;5;129;01mis\u001b[39;00m \u001b[38;5;28;01mNone\u001b[39;00m \u001b[38;5;129;01mand\u001b[39;00m \u001b[38;5;129;01mnot\u001b[39;00m kw):\n\u001b[0;32m--> 346\u001b[0m     \u001b[38;5;28;01mreturn\u001b[39;00m \u001b[43m_default_decoder\u001b[49m\u001b[38;5;241;43m.\u001b[39;49m\u001b[43mdecode\u001b[49m\u001b[43m(\u001b[49m\u001b[43ms\u001b[49m\u001b[43m)\u001b[49m\n\u001b[1;32m    347\u001b[0m \u001b[38;5;28;01mif\u001b[39;00m \u001b[38;5;28mcls\u001b[39m \u001b[38;5;129;01mis\u001b[39;00m \u001b[38;5;28;01mNone\u001b[39;00m:\n",
      "File \u001b[0;32m~/miniconda3/lib/python3.10/json/decoder.py:337\u001b[0m, in \u001b[0;36mJSONDecoder.decode\u001b[0;34m(self, s, _w)\u001b[0m\n\u001b[1;32m    333\u001b[0m \u001b[38;5;250m\u001b[39m\u001b[38;5;124;03m\"\"\"Return the Python representation of ``s`` (a ``str`` instance\u001b[39;00m\n\u001b[1;32m    334\u001b[0m \u001b[38;5;124;03mcontaining a JSON document).\u001b[39;00m\n\u001b[1;32m    335\u001b[0m \n\u001b[1;32m    336\u001b[0m \u001b[38;5;124;03m\"\"\"\u001b[39;00m\n\u001b[0;32m--> 337\u001b[0m obj, end \u001b[38;5;241m=\u001b[39m \u001b[38;5;28;43mself\u001b[39;49m\u001b[38;5;241;43m.\u001b[39;49m\u001b[43mraw_decode\u001b[49m\u001b[43m(\u001b[49m\u001b[43ms\u001b[49m\u001b[43m,\u001b[49m\u001b[43m \u001b[49m\u001b[43midx\u001b[49m\u001b[38;5;241;43m=\u001b[39;49m\u001b[43m_w\u001b[49m\u001b[43m(\u001b[49m\u001b[43ms\u001b[49m\u001b[43m,\u001b[49m\u001b[43m \u001b[49m\u001b[38;5;241;43m0\u001b[39;49m\u001b[43m)\u001b[49m\u001b[38;5;241;43m.\u001b[39;49m\u001b[43mend\u001b[49m\u001b[43m(\u001b[49m\u001b[43m)\u001b[49m\u001b[43m)\u001b[49m\n\u001b[1;32m    338\u001b[0m end \u001b[38;5;241m=\u001b[39m _w(s, end)\u001b[38;5;241m.\u001b[39mend()\n",
      "File \u001b[0;32m~/miniconda3/lib/python3.10/json/decoder.py:355\u001b[0m, in \u001b[0;36mJSONDecoder.raw_decode\u001b[0;34m(self, s, idx)\u001b[0m\n\u001b[1;32m    354\u001b[0m \u001b[38;5;28;01mexcept\u001b[39;00m \u001b[38;5;167;01mStopIteration\u001b[39;00m \u001b[38;5;28;01mas\u001b[39;00m err:\n\u001b[0;32m--> 355\u001b[0m     \u001b[38;5;28;01mraise\u001b[39;00m JSONDecodeError(\u001b[38;5;124m\"\u001b[39m\u001b[38;5;124mExpecting value\u001b[39m\u001b[38;5;124m\"\u001b[39m, s, err\u001b[38;5;241m.\u001b[39mvalue) \u001b[38;5;28;01mfrom\u001b[39;00m \u001b[38;5;28;01mNone\u001b[39;00m\n\u001b[1;32m    356\u001b[0m \u001b[38;5;28;01mreturn\u001b[39;00m obj, end\n",
      "\u001b[0;31mJSONDecodeError\u001b[0m: Expecting value: line 1 column 1 (char 0)",
      "\nDuring handling of the above exception, another exception occurred:\n",
      "\u001b[0;31mJSONDecodeError\u001b[0m                           Traceback (most recent call last)",
      "Cell \u001b[0;32mIn[131], line 4\u001b[0m\n\u001b[1;32m      1\u001b[0m \u001b[38;5;28;01mimport\u001b[39;00m \u001b[38;5;21;01mrequests\u001b[39;00m\n\u001b[1;32m      2\u001b[0m \u001b[38;5;28;01mimport\u001b[39;00m \u001b[38;5;21;01mdatetime\u001b[39;00m \u001b[38;5;28;01mas\u001b[39;00m \u001b[38;5;21;01mdt\u001b[39;00m\n\u001b[0;32m----> 4\u001b[0m jogos \u001b[38;5;241m=\u001b[39m \u001b[43mrequests\u001b[49m\u001b[38;5;241;43m.\u001b[39;49m\u001b[43mget\u001b[49m\u001b[43m(\u001b[49m\u001b[38;5;124;43m'\u001b[39;49m\u001b[38;5;124;43mhttp://worldcup.sfg.io/matches\u001b[39;49m\u001b[38;5;124;43m'\u001b[39;49m\u001b[43m)\u001b[49m\u001b[38;5;241;43m.\u001b[39;49m\u001b[43mjson\u001b[49m\u001b[43m(\u001b[49m\u001b[43m)\u001b[49m\n\u001b[1;32m      5\u001b[0m info_relatorio \u001b[38;5;241m=\u001b[39m []\n\u001b[1;32m      6\u001b[0m \u001b[38;5;28;01mfor\u001b[39;00m jogo \u001b[38;5;129;01min\u001b[39;00m jogos:\n",
      "File \u001b[0;32m~/.local/lib/python3.10/site-packages/requests/models.py:975\u001b[0m, in \u001b[0;36mResponse.json\u001b[0;34m(self, **kwargs)\u001b[0m\n\u001b[1;32m    971\u001b[0m     \u001b[38;5;28;01mreturn\u001b[39;00m complexjson\u001b[38;5;241m.\u001b[39mloads(\u001b[38;5;28mself\u001b[39m\u001b[38;5;241m.\u001b[39mtext, \u001b[38;5;241m*\u001b[39m\u001b[38;5;241m*\u001b[39mkwargs)\n\u001b[1;32m    972\u001b[0m \u001b[38;5;28;01mexcept\u001b[39;00m JSONDecodeError \u001b[38;5;28;01mas\u001b[39;00m e:\n\u001b[1;32m    973\u001b[0m     \u001b[38;5;66;03m# Catch JSON-related errors and raise as requests.JSONDecodeError\u001b[39;00m\n\u001b[1;32m    974\u001b[0m     \u001b[38;5;66;03m# This aliases json.JSONDecodeError and simplejson.JSONDecodeError\u001b[39;00m\n\u001b[0;32m--> 975\u001b[0m     \u001b[38;5;28;01mraise\u001b[39;00m RequestsJSONDecodeError(e\u001b[38;5;241m.\u001b[39mmsg, e\u001b[38;5;241m.\u001b[39mdoc, e\u001b[38;5;241m.\u001b[39mpos)\n",
      "\u001b[0;31mJSONDecodeError\u001b[0m: Expecting value: line 1 column 1 (char 0)"
     ]
    }
   ],
   "source": [
    "import requests\n",
    "import datetime as dt\n",
    "\n",
    "jogos = requests.get('http://worldcup.sfg.io/matches').json()\n",
    "info_relatorio = []\n",
    "for jogo in jogos:\n",
    "    data = jogo['datetime']\n",
    "    data = dt.datetime.strptime(data, \"%Y-%m-%dT%H:%M:%SZ\")\n",
    "    data = data.strftime(\"%d/%m/%Y\")\n",
    "    nome_time1 = jogo['home_team_country']\n",
    "    nome_time2 = jogo['away_team_country']\n",
    "    gols_time1 = jogo['home_team']['goals']\n",
    "    gols_time2 = jogo['away_team']['goals']\n",
    "    info_relatorio.append(\n",
    "        \"({data}) - {nome_time1} x {nome_time2} = {gols_time1} a {gols_time2}\")\n",
    "\n",
    "info_relatorio[:5]"
   ]
  },
  {
   "cell_type": "markdown",
   "id": "dd18751e-8165-4f38-a2dc-18ebb8fc4e27",
   "metadata": {},
   "source": [
    "## Matplotlib"
   ]
  },
  {
   "cell_type": "code",
   "execution_count": 133,
   "id": "e6930375-3310-483d-9395-f383f790f4bf",
   "metadata": {},
   "outputs": [],
   "source": [
    "import numpy as np\n",
    "import matplotlib.pyplot as plt "
   ]
  },
  {
   "cell_type": "code",
   "execution_count": 134,
   "id": "3fa32bfd-395f-45d6-a8d1-119ad0223458",
   "metadata": {},
   "outputs": [
    {
     "data": {
      "image/png": "[encoded data removed]",
      "text/plain": [
       "<Figure size 640x480 with 1 Axes>"
      ]
     },
     "metadata": {},
     "output_type": "display_data"
    }
   ],
   "source": [
    "xpoints = np.array([0, 6])\n",
    "ypoints = np.array([0, 250])\n",
    "\n",
    "plt.plot(xpoints, ypoints)\n",
    "plt.show()"
   ]
  },
  {
   "cell_type": "code",
   "execution_count": 135,
   "id": "fe7fca35-ee68-4b2b-9f3b-636fdfc3357d",
   "metadata": {},
   "outputs": [
    {
     "data": {
      "image/png": "[encoded data removed]",
      "text/plain": [
       "<Figure size 640x480 with 1 Axes>"
      ]
     },
     "metadata": {},
     "output_type": "display_data"
    }
   ],
   "source": [
    "xpoints = np.array([1, 2, 6, 8])\n",
    "ypoints = np.array([3, 8, 1, 10])\n",
    "\n",
    "plt.plot(xpoints, ypoints)\n",
    "plt.show()"
   ]
  },
  {
   "cell_type": "code",
   "execution_count": 136,
   "id": "1a87dccc-48bc-4361-8e53-1dec9f98313d",
   "metadata": {},
   "outputs": [
    {
     "data": {
      "image/png": "[encoded data removed]",
      "text/plain": [
       "<Figure size 640x480 with 1 Axes>"
      ]
     },
     "metadata": {},
     "output_type": "display_data"
    }
   ],
   "source": [
    "# data to display on plots \n",
    "x = [3, 1, 3, 12, 2, 4, 4] \n",
    "y = [3, 2, 1, 4, 5, 6, 7] \n",
    "  \n",
    "# This will plot a simple bar chart\n",
    "plt.bar(x, y)\n",
    "  \n",
    "# Title to the plot\n",
    "plt.title(\"Bar Chart\")\n",
    "  \n",
    "# Adding the legends\n",
    "plt.legend([\"bar\"])\n",
    "plt.show()"
   ]
  },
  {
   "cell_type": "code",
   "execution_count": 137,
   "id": "ae3600f3-87fc-4058-b8e3-77041b465260",
   "metadata": {},
   "outputs": [
    {
     "data": {
      "image/png": "[encoded data removed]",
      "text/plain": [
       "<Figure size 640x480 with 1 Axes>"
      ]
     },
     "metadata": {},
     "output_type": "display_data"
    }
   ],
   "source": [
    "# data to display on plots \n",
    "x = [1, 2, 3, 4] \n",
    "  \n",
    "# this will explode the 1st wedge\n",
    "# i.e. will separate the 1st wedge\n",
    "# from the chart\n",
    "e  =(0.1, 0, 0, 0)\n",
    "  \n",
    "# This will plot a simple pie chart\n",
    "plt.pie(x, explode = e)\n",
    "  \n",
    "# Title to the plot\n",
    "plt.title(\"Pie chart\")\n",
    "plt.show()"
   ]
  },
  {
   "cell_type": "code",
   "execution_count": 138,
   "id": "8760feae-3a60-49e4-ad2a-1ee591b46cd2",
   "metadata": {},
   "outputs": [
    {
     "data": {
      "text/plain": [
       "[<mpl_toolkits.mplot3d.art3d.Line3D at 0x7fcded3edff0>]"
      ]
     },
     "execution_count": 138,
     "metadata": {},
     "output_type": "execute_result"
    },
    {
     "data": {
      "image/png": "[encoded data removed]",
      "text/plain": [
       "<Figure size 640x480 with 1 Axes>"
      ]
     },
     "metadata": {},
     "output_type": "display_data"
    }
   ],
   "source": [
    "x = [1, 2, 3, 4, 5]\n",
    "y = [1, 4, 9, 16, 25]\n",
    "z = [1, 8, 27, 64, 125]\n",
    "# Creating the figure object\n",
    "fig = plt.figure()\n",
    "# keeping the projection = 3d\n",
    "# creates the 3d plot\n",
    "ax = plt.axes(projection = '3d')\n",
    "ax.plot3D(z, y, x)"
   ]
  },
  {
   "cell_type": "code",
   "execution_count": null,
   "id": "1a4f1844-1d8c-4ffa-8141-2fb415c39b01",
   "metadata": {},
   "outputs": [],
   "source": []
  }
 ],
 "metadata": {
  "kernelspec": {
   "display_name": "Python 3 (ipykernel)",
   "language": "python",
   "name": "python3"
  },
  "language_info": {
   "codemirror_mode": {
    "name": "ipython",
    "version": 3
   },
   "file_extension": ".py",
   "mimetype": "text/x-python",
   "name": "python",
   "nbconvert_exporter": "python",
   "pygments_lexer": "ipython3",
   "version": "3.12.5"
  }
 },
 "nbformat": 4,
 "nbformat_minor": 5
}
