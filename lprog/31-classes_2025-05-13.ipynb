{
 "cells": [
  {
   "cell_type": "markdown",
   "id": "8d887f2d-550b-417f-98ab-2afb4c6c72fd",
   "metadata": {},
   "source": [
    "# Classes e métodos"
   ]
  },
  {
   "cell_type": "markdown",
   "id": "6057ef81-24df-4cfd-8c43-569ab46229d8",
   "metadata": {},
   "source": [
    "- Atributos: dados\n",
    "- Métodos: funções\n",
    "- Encapsulamento: combinar atributos e métodos na mesma entidade, tornar atributos privados\n",
    "    - Uma classe é um exemplo de encapsulamento\n",
    "- Herança: reuso do código, herdar atributos e métodos de outra classe\n",
    "- Polimorfismo: um método definido anteriormente é redefinido com um comportamento diferente"
   ]
  },
  {
   "cell_type": "code",
   "execution_count": 8,
   "id": "364ebe94-3d2a-42ee-b102-0b7f04dda3a8",
   "metadata": {},
   "outputs": [],
   "source": [
    "class PrimeiraClasse:\n",
    "\n",
    "    def imprimir_mensagem(self, nome):\n",
    "        print(f\"Olá {nome}, seja bem vindo!\")\n",
    "        print(self)"
   ]
  },
  {
   "cell_type": "markdown",
   "id": "24571cfc-d18c-43d4-b4b1-e8c8eab2298c",
   "metadata": {},
   "source": [
    "- \"self\" é a referência à instância corrente da classe\n",
    "- usado para referenciar variáveis que pertencem à classe"
   ]
  },
  {
   "cell_type": "code",
   "execution_count": 9,
   "id": "05a4ca19-aea9-4e12-a9b5-2e20409d53ba",
   "metadata": {},
   "outputs": [],
   "source": [
    "objeto01 = PrimeiraClasse()"
   ]
  },
  {
   "cell_type": "code",
   "execution_count": 10,
   "id": "c804a7d4-9d24-4bae-9188-38d7c4a109ee",
   "metadata": {},
   "outputs": [
    {
     "data": {
      "text/plain": [
       "__main__.PrimeiraClasse"
      ]
     },
     "execution_count": 10,
     "metadata": {},
     "output_type": "execute_result"
    }
   ],
   "source": [
    "PrimeiraClasse"
   ]
  },
  {
   "cell_type": "code",
   "execution_count": 11,
   "id": "8aa2d058-b221-4758-808f-88f939a43eff",
   "metadata": {},
   "outputs": [
    {
     "name": "stdout",
     "output_type": "stream",
     "text": [
      "Olá João, seja bem vindo!\n",
      "<__main__.PrimeiraClasse object at 0x7f27b3ce8e50>\n"
     ]
    }
   ],
   "source": [
    "objeto01.imprimir_mensagem('João')"
   ]
  },
  {
   "cell_type": "code",
   "execution_count": null,
   "id": "06c7e5e6-e719-47f8-b760-da9120c8646c",
   "metadata": {},
   "outputs": [],
   "source": []
  },
  {
   "cell_type": "markdown",
   "id": "d736146a-41eb-45fd-a6ed-cc49c297789e",
   "metadata": {},
   "source": [
    "\"self\":"
   ]
  },
  {
   "cell_type": "code",
   "execution_count": 12,
   "id": "bd3ea893-eb53-4711-b46e-7fd4e21f3e4b",
   "metadata": {},
   "outputs": [
    {
     "name": "stdout",
     "output_type": "stream",
     "text": [
      "Hello my name is John\n"
     ]
    }
   ],
   "source": [
    "class Person:\n",
    "  def __init__(mysillyobject, name, age):\n",
    "    mysillyobject.name = name\n",
    "    mysillyobject.age = age\n",
    "\n",
    "  def myfunc(abc):\n",
    "    print(\"Hello my name is \" + abc.name)\n",
    "\n",
    "p1 = Person(\"John\", 36)\n",
    "p1.myfunc() "
   ]
  },
  {
   "cell_type": "code",
   "execution_count": null,
   "id": "af101a9c-c4aa-45ab-a3a7-6885ca0bd636",
   "metadata": {},
   "outputs": [],
   "source": []
  },
  {
   "cell_type": "code",
   "execution_count": 15,
   "id": "24959dba-36ca-473d-817b-d08a74f10a07",
   "metadata": {},
   "outputs": [],
   "source": [
    "class Calculadora:\n",
    "\n",
    "    def somar(self, n1, n2):\n",
    "        return n1 + n2\n",
    "\n",
    "    def subtrair(self, n1, n2):\n",
    "        return n1 - n2\n",
    "\n",
    "    def multiplicar(self, n1, n2):\n",
    "        return n1 * n2\n",
    "\n",
    "    def dividir(self, n1, n2):\n",
    "        return n1 / n2\n",
    "\n",
    "    def dividir_resto(self, n1, n2):\n",
    "        return n1 % n2"
   ]
  },
  {
   "cell_type": "markdown",
   "id": "75f86d7f-76cc-4792-a1df-9e7a43fe23f1",
   "metadata": {},
   "source": [
    "instanciação:"
   ]
  },
  {
   "cell_type": "code",
   "execution_count": 16,
   "id": "af1be792-13d3-4186-8e5e-b00ba413f759",
   "metadata": {},
   "outputs": [],
   "source": [
    "calc = Calculadora()"
   ]
  },
  {
   "cell_type": "markdown",
   "id": "dd83725a-4e0a-45d1-af72-652d4ebb732f",
   "metadata": {},
   "source": [
    "uso da instância:"
   ]
  },
  {
   "cell_type": "code",
   "execution_count": 17,
   "id": "2e5a2749-d0db-45fd-9dbe-5b350f3a399a",
   "metadata": {},
   "outputs": [
    {
     "name": "stdout",
     "output_type": "stream",
     "text": [
      "Soma: 7\n"
     ]
    }
   ],
   "source": [
    "print('Soma:', calc.somar(4, 3))"
   ]
  },
  {
   "cell_type": "code",
   "execution_count": 18,
   "id": "e3178ea4-fcb9-42ff-b328-554d2811f810",
   "metadata": {},
   "outputs": [
    {
     "name": "stdout",
     "output_type": "stream",
     "text": [
      "Multiplicação: 8\n"
     ]
    }
   ],
   "source": [
    "print('Multiplicação:', calc.multiplicar(2, 4))"
   ]
  },
  {
   "cell_type": "markdown",
   "id": "35480937-f566-4716-b33d-a1d9c0a7c739",
   "metadata": {},
   "source": [
    "---"
   ]
  },
  {
   "cell_type": "code",
   "execution_count": 20,
   "id": "3dce43cd-b933-4156-a0e3-a95a28027752",
   "metadata": {},
   "outputs": [],
   "source": [
    "class Televisao:\n",
    "\n",
    "    def __init__(self):\n",
    "        self.volume = 10\n",
    "\n",
    "    def aumentar_volume(self):\n",
    "        self.volume += 1\n",
    "\n",
    "    def diminuir_volume(self):\n",
    "        self.volume -= 1"
   ]
  },
  {
   "cell_type": "markdown",
   "id": "365700c6-87bd-4c02-b241-4846b305aa24",
   "metadata": {},
   "source": [
    "cria o objeto:"
   ]
  },
  {
   "cell_type": "code",
   "execution_count": 21,
   "id": "79484640-7767-4242-9ca8-49b345bd77ec",
   "metadata": {},
   "outputs": [],
   "source": [
    "tv = Televisao()"
   ]
  },
  {
   "cell_type": "markdown",
   "id": "8c14b901-508d-4911-9677-497dc236cf49",
   "metadata": {},
   "source": [
    "valor atual do atributo volume, que foi definido em __init__ :"
   ]
  },
  {
   "cell_type": "code",
   "execution_count": 22,
   "id": "78183d2a-39ab-4408-8507-73649b796636",
   "metadata": {},
   "outputs": [
    {
     "data": {
      "text/plain": [
       "10"
      ]
     },
     "execution_count": 22,
     "metadata": {},
     "output_type": "execute_result"
    }
   ],
   "source": [
    "tv.volume"
   ]
  },
  {
   "cell_type": "code",
   "execution_count": 23,
   "id": "546f4d0b-9ebe-4d6f-8b91-b1e405dcb27f",
   "metadata": {},
   "outputs": [
    {
     "name": "stdout",
     "output_type": "stream",
     "text": [
      "Volume ao ligar a tv =  10\n"
     ]
    }
   ],
   "source": [
    "print(\"Volume ao ligar a tv = \", tv.volume)"
   ]
  },
  {
   "cell_type": "markdown",
   "id": "8178ccb1-6f00-48fc-9137-c29b1da51afe",
   "metadata": {},
   "source": [
    "chama o método da instância da classe, que aumenta o valor:"
   ]
  },
  {
   "cell_type": "code",
   "execution_count": 25,
   "id": "9c57b079-096f-48c0-8f0f-fc004fbac5bd",
   "metadata": {},
   "outputs": [],
   "source": [
    "tv.aumentar_volume()"
   ]
  },
  {
   "cell_type": "code",
   "execution_count": 26,
   "id": "1c216dc2-5b67-4d02-b6c5-5149534a7bc8",
   "metadata": {},
   "outputs": [
    {
     "name": "stdout",
     "output_type": "stream",
     "text": [
      "Volume atual =  11\n"
     ]
    }
   ],
   "source": [
    "print(\"Volume atual = \", tv.volume)"
   ]
  },
  {
   "cell_type": "markdown",
   "id": "f817ec72-b0fe-4091-bbfe-87db08ed9224",
   "metadata": {},
   "source": [
    "---"
   ]
  },
  {
   "cell_type": "markdown",
   "id": "6d177db1-8047-4306-a2b4-82969898f85f",
   "metadata": {},
   "source": [
    "## Variáveis e métodos privados"
   ]
  },
  {
   "cell_type": "markdown",
   "id": "cd2f5e4e-b463-4e19-8227-379c83578fa0",
   "metadata": {},
   "source": [
    "Python possui suporte limitado a este tipo de mecanismo. Usa-se o recurso de \"name mangling\" (desfiguração de nomes) para \"esconder\" os nomes. O nome não fica realmente \"privado\", e na prática pode ser acessado eventualmente.\n",
    "\n",
    "Para usar mangling coloca-se 2 símbolos de sublinhar no início do nome (e no máx. 1 no final). Python internamente o renomeia acrescentando o nome da classe na frente, tornando-o único."
   ]
  },
  {
   "cell_type": "code",
   "execution_count": 102,
   "id": "019e6ab6-4366-44ea-ac49-38cae5aa3472",
   "metadata": {},
   "outputs": [],
   "source": [
    "class ContaCorrente:\n",
    "\n",
    "    def __init__(self):\n",
    "        self.__saldo = 123.45\n",
    "\n",
    "    def depositar(self, valor):\n",
    "        self.__saldo += valor\n",
    "\n",
    "    def __imprime(self, valor):\n",
    "        print(valor)\n",
    "    \n",
    "    def consultar_saldo(self):\n",
    "        self.__imprime(self.__saldo)"
   ]
  },
  {
   "cell_type": "code",
   "execution_count": 103,
   "id": "0e6c34a9-d862-491f-b7c9-a2429c8ef042",
   "metadata": {},
   "outputs": [],
   "source": [
    "cc = ContaCorrente()"
   ]
  },
  {
   "cell_type": "markdown",
   "id": "6f31b96d-c267-4a26-b1ae-931525b21920",
   "metadata": {},
   "source": [
    "inicialmente dá a impressão de que \\_\\_saldo\\_ é privado:"
   ]
  },
  {
   "cell_type": "code",
   "execution_count": 104,
   "id": "255b6731-58cd-44ff-814c-b9c742001791",
   "metadata": {},
   "outputs": [
    {
     "ename": "AttributeError",
     "evalue": "'ContaCorrente' object has no attribute '__saldo'",
     "output_type": "error",
     "traceback": [
      "\u001b[0;31m---------------------------------------------------------------------------\u001b[0m",
      "\u001b[0;31mAttributeError\u001b[0m                            Traceback (most recent call last)",
      "Cell \u001b[0;32mIn[104], line 1\u001b[0m\n\u001b[0;32m----> 1\u001b[0m \u001b[43mcc\u001b[49m\u001b[38;5;241;43m.\u001b[39;49m\u001b[43m__saldo\u001b[49m\n",
      "\u001b[0;31mAttributeError\u001b[0m: 'ContaCorrente' object has no attribute '__saldo'"
     ]
    }
   ],
   "source": [
    "cc.__saldo"
   ]
  },
  {
   "cell_type": "markdown",
   "id": "ab86afbc-9a04-42f0-8919-b6d592c886d8",
   "metadata": {},
   "source": [
    "porém na verdade ele foi renomeado e ficou \"escondido\":"
   ]
  },
  {
   "cell_type": "code",
   "execution_count": 105,
   "id": "bb7518da-748a-45aa-bd1b-b1473575b37d",
   "metadata": {},
   "outputs": [
    {
     "data": {
      "text/plain": [
       "123.45"
      ]
     },
     "execution_count": 105,
     "metadata": {},
     "output_type": "execute_result"
    }
   ],
   "source": [
    "cc._ContaCorrente__saldo"
   ]
  },
  {
   "cell_type": "markdown",
   "id": "fc1910ed-ebe7-4df1-8089-dc6f616a7041",
   "metadata": {},
   "source": [
    "renomear desta forma é também uma técnica para tornar o nome único, evitando overloading de métodos e conflitos de nomes."
   ]
  },
  {
   "cell_type": "markdown",
   "id": "8544ba6e-af6c-4235-86ac-a05569992e2b",
   "metadata": {},
   "source": [
    "com métodos funciona igual, parece que é privado:"
   ]
  },
  {
   "cell_type": "code",
   "execution_count": 97,
   "id": "56f0d8bf-52c6-4a3e-ac68-612132888d63",
   "metadata": {},
   "outputs": [
    {
     "ename": "AttributeError",
     "evalue": "'ContaCorrente' object has no attribute '__imprime'",
     "output_type": "error",
     "traceback": [
      "\u001b[0;31m---------------------------------------------------------------------------\u001b[0m",
      "\u001b[0;31mAttributeError\u001b[0m                            Traceback (most recent call last)",
      "Cell \u001b[0;32mIn[97], line 1\u001b[0m\n\u001b[0;32m----> 1\u001b[0m \u001b[43mcc\u001b[49m\u001b[38;5;241;43m.\u001b[39;49m\u001b[43m__imprime\u001b[49m(\u001b[38;5;241m123.45\u001b[39m)\n",
      "\u001b[0;31mAttributeError\u001b[0m: 'ContaCorrente' object has no attribute '__imprime'"
     ]
    }
   ],
   "source": [
    "cc.__imprime(123.45)"
   ]
  },
  {
   "cell_type": "markdown",
   "id": "064cde69-317a-4934-b758-244cd57d1819",
   "metadata": {},
   "source": [
    "mas na verdade foi apenas renomeado:"
   ]
  },
  {
   "cell_type": "code",
   "execution_count": 107,
   "id": "076a0a54-3ac1-4af9-9208-7ecd8b7d15cd",
   "metadata": {},
   "outputs": [
    {
     "name": "stdout",
     "output_type": "stream",
     "text": [
      "123.45\n"
     ]
    }
   ],
   "source": [
    "cc._ContaCorrente__imprime(123.45)"
   ]
  },
  {
   "cell_type": "markdown",
   "id": "99aae0ce-227f-4d63-80b4-eff705d9ebaa",
   "metadata": {},
   "source": [
    "## Herança"
   ]
  },
  {
   "cell_type": "markdown",
   "id": "89030518-d1f1-4be2-adf9-89e01f74b6ac",
   "metadata": {},
   "source": [
    "Permite que uma classe-filha herde os recursos da classe-pai. Em Python, uma classe aceita múltiplas heranças, ou seja, herda recursos de diversas classes. A sintaxe para criar a herança é feita com parênteses após o nome da classe: class NomeClasseFilha(NomeClassePai). Se for uma herança múltipla, cada superclasse deve ser separada por vírgula"
   ]
  },
  {
   "cell_type": "code",
   "execution_count": 109,
   "id": "cccbd8cb-239e-41f9-baca-21c15fef99b0",
   "metadata": {},
   "outputs": [],
   "source": [
    "class Pessoa:\n",
    "\n",
    "    def __init__(self):\n",
    "        self.cpf = None\n",
    "        self.nome = None\n",
    "        self.endereco = None"
   ]
  },
  {
   "cell_type": "markdown",
   "id": "88651649-dced-4f50-82ad-cdab839f40ec",
   "metadata": {},
   "source": [
    "herança de Pessoa:"
   ]
  },
  {
   "cell_type": "code",
   "execution_count": 124,
   "id": "8661cc28-7ee8-494e-b049-0fad86ed111b",
   "metadata": {},
   "outputs": [],
   "source": [
    "class Funcionario(Pessoa):\n",
    "\n",
    "    def __init__(self):\n",
    "        self.matricula = 12345\n",
    "        self.data = '88/88/88'\n",
    "\n",
    "    def bater_ponto(self):\n",
    "        # código aqui\n",
    "        pass\n",
    "\n",
    "    def fazer_login(self):\n",
    "        # código aqui\n",
    "        pass"
   ]
  },
  {
   "cell_type": "code",
   "execution_count": 125,
   "id": "70f18515-dc16-4663-b60f-252b8c6d94ed",
   "metadata": {},
   "outputs": [],
   "source": [
    "class Cliente(Pessoa):\n",
    "\n",
    "    def __init__(self):\n",
    "        self.codigo = None\n",
    "        self.dataCadastro = None\n",
    "\n",
    "    def fazer_compra(self):\n",
    "        # código aqui\n",
    "        pass\n",
    "\n",
    "    def pagar_conta(self):\n",
    "        # código aqui\n",
    "        pass"
   ]
  },
  {
   "cell_type": "code",
   "execution_count": 126,
   "id": "b375bbd7-809d-4dd7-be00-c52fcaaaea0b",
   "metadata": {},
   "outputs": [],
   "source": [
    "class FunCli(Funcionario, Pessoa):\n",
    "    pass"
   ]
  },
  {
   "cell_type": "code",
   "execution_count": 127,
   "id": "8bc2c2c1-e50d-4af3-8558-164468e8aac9",
   "metadata": {},
   "outputs": [],
   "source": [
    "fc = FunCli()"
   ]
  },
  {
   "cell_type": "code",
   "execution_count": 129,
   "id": "51943976-a755-45f4-8fa8-acbc72462fa8",
   "metadata": {},
   "outputs": [],
   "source": [
    "c = Cliente()"
   ]
  },
  {
   "cell_type": "code",
   "execution_count": 130,
   "id": "bba612c0-7b74-4c85-95d7-7a87eee190dc",
   "metadata": {},
   "outputs": [],
   "source": [
    "fc.nome = \"Fulano\""
   ]
  },
  {
   "cell_type": "code",
   "execution_count": 132,
   "id": "621eadcc-dc2f-43d1-ad9b-fc2ea933d852",
   "metadata": {},
   "outputs": [
    {
     "data": {
      "text/plain": [
       "'88/88/88'"
      ]
     },
     "execution_count": 132,
     "metadata": {},
     "output_type": "execute_result"
    }
   ],
   "source": [
    "fc.data"
   ]
  },
  {
   "cell_type": "code",
   "execution_count": 133,
   "id": "c732b737-9911-4eb2-9171-451ffc351384",
   "metadata": {},
   "outputs": [
    {
     "data": {
      "text/plain": [
       "'Fulano'"
      ]
     },
     "execution_count": 133,
     "metadata": {},
     "output_type": "execute_result"
    }
   ],
   "source": [
    "fc.nome"
   ]
  },
  {
   "cell_type": "markdown",
   "id": "92731d1c-5458-4445-b45a-af4e920e765d",
   "metadata": {},
   "source": [
    "são instâncias diferentes:"
   ]
  },
  {
   "cell_type": "code",
   "execution_count": 134,
   "id": "7e72bfb3-76cc-4a09-ad6c-265c4de6f54c",
   "metadata": {},
   "outputs": [
    {
     "ename": "AttributeError",
     "evalue": "'Cliente' object has no attribute 'nome'",
     "output_type": "error",
     "traceback": [
      "\u001b[0;31m---------------------------------------------------------------------------\u001b[0m",
      "\u001b[0;31mAttributeError\u001b[0m                            Traceback (most recent call last)",
      "Cell \u001b[0;32mIn[134], line 1\u001b[0m\n\u001b[0;32m----> 1\u001b[0m \u001b[43mc\u001b[49m\u001b[38;5;241;43m.\u001b[39;49m\u001b[43mnome\u001b[49m\n",
      "\u001b[0;31mAttributeError\u001b[0m: 'Cliente' object has no attribute 'nome'"
     ]
    }
   ],
   "source": [
    "c.nome"
   ]
  },
  {
   "cell_type": "code",
   "execution_count": 137,
   "id": "66e52e15-fa86-4d9a-9ef3-2adb1c54c12d",
   "metadata": {},
   "outputs": [
    {
     "name": "stdout",
     "output_type": "stream",
     "text": [
      "Ciclano Fulano\n"
     ]
    }
   ],
   "source": [
    "c.nome = 'Ciclano'\n",
    "print(c.nome, fc.nome)"
   ]
  },
  {
   "cell_type": "markdown",
   "id": "f2be0585-646f-4749-a06a-2bdc05bd804d",
   "metadata": {},
   "source": [
    "## Métodos mágicos"
   ]
  },
  {
   "cell_type": "markdown",
   "id": "88d91b6a-cadc-45fe-8043-4fbbe9a4c429",
   "metadata": {},
   "source": [
    "Quando uma classe é criada em Python, ela herda, mesmo que não declarado explicitamente, todos os recursos de uma classe-base chamada object\n",
    "\n",
    "A funão `dir()` retorna as propriedades e métodos de um objeto. Os nomes que estão com sublinhado são chamados métodos mágicos:"
   ]
  },
  {
   "cell_type": "code",
   "execution_count": 145,
   "id": "df8f25e6-87e9-416b-8f48-263e1d8bcf37",
   "metadata": {},
   "outputs": [
    {
     "name": "stdout",
     "output_type": "stream",
     "text": [
      "['__class__', '__delattr__', '__dict__', '__dir__', '__doc__', '__eq__', '__format__', '__ge__', '__getattribute__', '__gt__', '__hash__', '__init__', '__init_subclass__', '__le__', '__lt__', '__module__', '__ne__', '__new__', '__reduce__', '__reduce_ex__', '__repr__', '__setattr__', '__sizeof__', '__str__', '__subclasshook__', '__weakref__', 'bater_ponto', 'data', 'fazer_login', 'matricula']\n"
     ]
    }
   ],
   "source": [
    "print(dir(FunCli()))"
   ]
  },
  {
   "cell_type": "markdown",
   "id": "21fd8a91-3754-4b4f-87f2-d500bad5937b",
   "metadata": {},
   "source": [
    "## Método construtor - herança e sobreescrita"
   ]
  },
  {
   "cell_type": "markdown",
   "id": "0d8b1fdc-21cb-4d53-90a4-8aadac4d1887",
   "metadata": {},
   "source": [
    "função int padrão do Python:"
   ]
  },
  {
   "cell_type": "code",
   "execution_count": 143,
   "id": "4b272cdc-f243-45ce-8402-79df7ae74887",
   "metadata": {},
   "outputs": [
    {
     "data": {
      "text/plain": [
       "12"
      ]
     },
     "execution_count": 143,
     "metadata": {},
     "output_type": "execute_result"
    }
   ],
   "source": [
    "int(12.34)"
   ]
  },
  {
   "cell_type": "markdown",
   "id": "fc65f6d3-dd6b-43a6-90f2-8aa8e0d13713",
   "metadata": {},
   "source": [
    "mostrando as propriedades e métodos de int() :"
   ]
  },
  {
   "cell_type": "code",
   "execution_count": 144,
   "id": "5e0ee32f-6062-4142-8992-bdd1cdae2b54",
   "metadata": {},
   "outputs": [
    {
     "name": "stdout",
     "output_type": "stream",
     "text": [
      "['__abs__', '__add__', '__and__', '__bool__', '__ceil__', '__class__', '__delattr__', '__dir__', '__divmod__', '__doc__', '__eq__', '__float__', '__floor__', '__floordiv__', '__format__', '__ge__', '__getattribute__', '__getnewargs__', '__gt__', '__hash__', '__index__', '__init__', '__init_subclass__', '__int__', '__invert__', '__le__', '__lshift__', '__lt__', '__mod__', '__mul__', '__ne__', '__neg__', '__new__', '__or__', '__pos__', '__pow__', '__radd__', '__rand__', '__rdivmod__', '__reduce__', '__reduce_ex__', '__repr__', '__rfloordiv__', '__rlshift__', '__rmod__', '__rmul__', '__ror__', '__round__', '__rpow__', '__rrshift__', '__rshift__', '__rsub__', '__rtruediv__', '__rxor__', '__setattr__', '__sizeof__', '__str__', '__sub__', '__subclasshook__', '__truediv__', '__trunc__', '__xor__', 'as_integer_ratio', 'bit_count', 'bit_length', 'conjugate', 'denominator', 'from_bytes', 'imag', 'numerator', 'real', 'to_bytes']\n"
     ]
    }
   ],
   "source": [
    "print(dir(int()))"
   ]
  },
  {
   "cell_type": "markdown",
   "id": "cc647365-32fd-4a2d-a5a3-cd7bf2ed210d",
   "metadata": {},
   "source": [
    "vamos criar uma classe que herda de int(), vazia, usando `pass`, só para conferir se a herança funciona:"
   ]
  },
  {
   "cell_type": "code",
   "execution_count": 154,
   "id": "e2a809f8-db8c-4fc1-a13f-134aaa177d8b",
   "metadata": {},
   "outputs": [],
   "source": [
    "class int45(int):\n",
    "    pass"
   ]
  },
  {
   "cell_type": "code",
   "execution_count": 155,
   "id": "71c46610-3d81-4af6-94dd-b5e07a8378a4",
   "metadata": {},
   "outputs": [
    {
     "data": {
      "text/plain": [
       "12"
      ]
     },
     "execution_count": 155,
     "metadata": {},
     "output_type": "execute_result"
    }
   ],
   "source": [
    "int45(12.34)"
   ]
  },
  {
   "cell_type": "markdown",
   "id": "176f5f96-9e50-4f37-8450-ed0d7b5aea8e",
   "metadata": {},
   "source": [
    "vamos criar uma classe que herda int() mas sobrepõe (override) o método de soma para retornar uma constante:"
   ]
  },
  {
   "cell_type": "code",
   "execution_count": 168,
   "id": "efb7602e-bf63-4348-86b4-252695d8f442",
   "metadata": {},
   "outputs": [],
   "source": [
    "class int888(int):\n",
    "    def __add__(a, b):\n",
    "        return 888"
   ]
  },
  {
   "cell_type": "code",
   "execution_count": 169,
   "id": "83f6851f-ee52-4d2e-9cba-868a27f7c9ad",
   "metadata": {},
   "outputs": [
    {
     "data": {
      "text/plain": [
       "12"
      ]
     },
     "execution_count": 169,
     "metadata": {},
     "output_type": "execute_result"
    }
   ],
   "source": [
    "a = int888(12.34)\n",
    "a"
   ]
  },
  {
   "cell_type": "code",
   "execution_count": 170,
   "id": "2d25d637-40d8-4f32-bcd2-997bc804fb75",
   "metadata": {},
   "outputs": [
    {
     "data": {
      "text/plain": [
       "34"
      ]
     },
     "execution_count": 170,
     "metadata": {},
     "output_type": "execute_result"
    }
   ],
   "source": [
    "b = int888(34.56)\n",
    "b"
   ]
  },
  {
   "cell_type": "code",
   "execution_count": 171,
   "id": "1692fa33-8f32-4b57-b09c-df9a8742d5a0",
   "metadata": {},
   "outputs": [
    {
     "data": {
      "text/plain": [
       "888"
      ]
     },
     "execution_count": 171,
     "metadata": {},
     "output_type": "execute_result"
    }
   ],
   "source": [
    "a + b"
   ]
  },
  {
   "cell_type": "markdown",
   "id": "703f806d-7c99-4735-8d40-5aa9f9b6419e",
   "metadata": {},
   "source": [
    "Polimorfismo pode usar sobreescrita (override) ou sobrecarga (overload).\n",
    "\n",
    "Python não suporta sobrecarga de forma direta."
   ]
  },
  {
   "cell_type": "code",
   "execution_count": 206,
   "id": "a3223ef9-cbe5-4b58-b00f-f879dabe2693",
   "metadata": {},
   "outputs": [],
   "source": [
    "class A :\n",
    "\n",
    "    def s(self, i=None, j=None) :\n",
    "        print(type(i))\n",
    "        if type(i) == int :\n",
    "            print(\"Soma:\", i + j )\n",
    "        if type(i) == str :\n",
    "            print(\"Ex.: concatenção de string:\", i, j)"
   ]
  },
  {
   "cell_type": "code",
   "execution_count": 207,
   "id": "54c30ef8-e3db-4561-9343-1187658415ac",
   "metadata": {},
   "outputs": [],
   "source": [
    "b = A()"
   ]
  },
  {
   "cell_type": "code",
   "execution_count": 208,
   "id": "18d858e8-849b-418f-b69e-4b50e33e22bc",
   "metadata": {},
   "outputs": [
    {
     "name": "stdout",
     "output_type": "stream",
     "text": [
      "<class 'NoneType'>\n"
     ]
    }
   ],
   "source": [
    "b.s()"
   ]
  },
  {
   "cell_type": "code",
   "execution_count": 209,
   "id": "7840db07-688a-4ac2-82e3-aefc1be8e591",
   "metadata": {},
   "outputs": [
    {
     "name": "stdout",
     "output_type": "stream",
     "text": [
      "<class 'int'>\n",
      "Soma: 3\n"
     ]
    }
   ],
   "source": [
    "b.s(1, 2)"
   ]
  },
  {
   "cell_type": "code",
   "execution_count": 210,
   "id": "cae22261-eb87-480c-b3f2-8d6669276b2a",
   "metadata": {},
   "outputs": [
    {
     "name": "stdout",
     "output_type": "stream",
     "text": [
      "<class 'str'>\n",
      "Ex.: concatenção de string: 1 2\n"
     ]
    }
   ],
   "source": [
    "b.s('1', '2')"
   ]
  },
  {
   "cell_type": "code",
   "execution_count": null,
   "id": "8afdbce0-5d89-432c-bb4e-d99b4ce174f7",
   "metadata": {},
   "outputs": [],
   "source": []
  }
 ],
 "metadata": {
  "kernelspec": {
   "display_name": "Python 3 (ipykernel)",
   "language": "python",
   "name": "python3"
  },
  "language_info": {
   "codemirror_mode": {
    "name": "ipython",
    "version": 3
   },
   "file_extension": ".py",
   "mimetype": "text/x-python",
   "name": "python",
   "nbconvert_exporter": "python",
   "pygments_lexer": "ipython3",
   "version": "3.10.11"
  }
 },
 "nbformat": 4,
 "nbformat_minor": 5
}
