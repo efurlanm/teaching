{
 "cells": [
  {
   "cell_type": "markdown",
   "id": "d283130f-1b73-4ca2-8fa7-c7507b4dd7fe",
   "metadata": {
    "id": "d283130f-1b73-4ca2-8fa7-c7507b4dd7fe"
   },
   "source": [
    "# Introdução ao Pandas"
   ]
  },
  {
   "cell_type": "markdown",
   "id": "c7a2afd5-f5f5-4de2-b24e-c029d4920806",
   "metadata": {
    "id": "c7a2afd5-f5f5-4de2-b24e-c029d4920806"
   },
   "source": [
    "Dentre as diversas bibliotecas disponíveis no repositório PyPI, pandas é um pacote Python que fornece estruturas de dados projetadas para facilitar o trabalho com dados estruturados (tabelas) e de séries temporais."
   ]
  },
  {
   "cell_type": "markdown",
   "id": "45e3c57b-9c37-43f6-a3a5-72437f427902",
   "metadata": {
    "id": "45e3c57b-9c37-43f6-a3a5-72437f427902"
   },
   "source": [
    "Estruturas de dados:\n",
    "\n",
    "- Series\n",
    "- DataFrame\n",
    "\n",
    "Series é um como um vetor de dados unidimencional capaz de armazenar diferentes tipos de dados.\n",
    "\n",
    "DataFrame é conjunto de Series.\n",
    "\n",
    "Possuem como característica a indexação das linhas\n",
    "\n",
    "- Cada linha possui um rótulo (nome) que o identifica\n",
    "\n",
    "    - Pode ser string, inteiro, decimal, ou data"
   ]
  },
  {
   "cell_type": "markdown",
   "id": "jQy1wFdr0Lnc",
   "metadata": {
    "id": "jQy1wFdr0Lnc"
   },
   "source": [
    "## Também neste Notebook:\n",
    "\n",
    "`requests` - biblioteca HTTP para ler páginas web\n",
    "\n",
    "Beautiful Soup `bs4` - extrai informações de páginas web"
   ]
  },
  {
   "cell_type": "markdown",
   "id": "sAXuG4Mo1JNQ",
   "metadata": {
    "id": "sAXuG4Mo1JNQ"
   },
   "source": [
    "---"
   ]
  },
  {
   "cell_type": "code",
   "execution_count": 1,
   "id": "a769986a-3e5c-4495-9b38-98e9cc808957",
   "metadata": {
    "executionInfo": {
     "elapsed": 281,
     "status": "ok",
     "timestamp": 1698087575660,
     "user": {
      "displayName": "Eduardo Furlan",
      "userId": "03823929547054463581"
     },
     "user_tz": 180
    },
    "id": "a769986a-3e5c-4495-9b38-98e9cc808957"
   },
   "outputs": [],
   "source": [
    "import pandas as pd"
   ]
  },
  {
   "cell_type": "markdown",
   "id": "2a924c1f-5e7d-49fc-9dea-83576bef0518",
   "metadata": {
    "id": "2a924c1f-5e7d-49fc-9dea-83576bef0518"
   },
   "source": [
    "## Series"
   ]
  },
  {
   "cell_type": "code",
   "execution_count": null,
   "id": "c8e90d3a-abc3-4b8c-b87f-a904069e7903",
   "metadata": {
    "colab": {
     "base_uri": "https://localhost:8080/"
    },
    "executionInfo": {
     "elapsed": 10,
     "status": "ok",
     "timestamp": 1698064566529,
     "user": {
      "displayName": "Eduardo Furlan",
      "userId": "03823929547054463581"
     },
     "user_tz": 180
    },
    "id": "c8e90d3a-abc3-4b8c-b87f-a904069e7903",
    "outputId": "303a6074-780e-4771-c27a-d803e758e42c"
   },
   "outputs": [
    {
     "data": {
      "text/plain": [
       "0    5\n",
       "dtype: int64"
      ]
     },
     "execution_count": 2,
     "metadata": {},
     "output_type": "execute_result"
    }
   ],
   "source": [
    "pd.Series(data=5)"
   ]
  },
  {
   "cell_type": "code",
   "execution_count": 4,
   "id": "4c463b56-ffde-41b0-a709-000127f8147b",
   "metadata": {
    "colab": {
     "base_uri": "https://localhost:8080/"
    },
    "executionInfo": {
     "elapsed": 451,
     "status": "ok",
     "timestamp": 1698078267944,
     "user": {
      "displayName": "Eduardo Furlan",
      "userId": "03823929547054463581"
     },
     "user_tz": 180
    },
    "id": "4c463b56-ffde-41b0-a709-000127f8147b",
    "outputId": "a081f22a-6b66-4709-b337-72005ab3c5e6"
   },
   "outputs": [
    {
     "data": {
      "text/plain": [
       "['Howard', 'Ian', 'Peter', 'Jonah', 'Kellie']"
      ]
     },
     "execution_count": 4,
     "metadata": {},
     "output_type": "execute_result"
    }
   ],
   "source": [
    "lista_nomes = 'Howard Ian Peter Jonah Kellie'.split()\n",
    "lista_nomes"
   ]
  },
  {
   "cell_type": "code",
   "execution_count": null,
   "id": "52b25991-0073-436b-a573-51d00cd67d3f",
   "metadata": {
    "id": "52b25991-0073-436b-a573-51d00cd67d3f",
    "outputId": "c709ca7b-7b09-419b-995a-2b022ceb2c7d"
   },
   "outputs": [
    {
     "data": {
      "text/plain": [
       "0    Howard\n",
       "1       Ian\n",
       "2     Peter\n",
       "3     Jonah\n",
       "4    Kellie\n",
       "dtype: object"
      ]
     },
     "execution_count": 4,
     "metadata": {},
     "output_type": "execute_result"
    }
   ],
   "source": [
    "pd.Series(lista_nomes)"
   ]
  },
  {
   "cell_type": "code",
   "execution_count": null,
   "id": "9e56e27d-b37a-4935-b00d-6ef680152992",
   "metadata": {
    "id": "9e56e27d-b37a-4935-b00d-6ef680152992"
   },
   "outputs": [],
   "source": [
    "dados = {\n",
    "'nome1': 'Howard',\n",
    "'nome2': 'Ian',\n",
    "'nome3': 'Peter',\n",
    "'nome4': 'Jonah',\n",
    "'nome5': 'Kellie',\n",
    "}"
   ]
  },
  {
   "cell_type": "code",
   "execution_count": null,
   "id": "834a3b6c-e620-454e-8c4d-168c4adce7e0",
   "metadata": {
    "id": "834a3b6c-e620-454e-8c4d-168c4adce7e0",
    "outputId": "58ef7b28-328a-4378-bcbc-f580268dbd17"
   },
   "outputs": [
    {
     "data": {
      "text/plain": [
       "nome1    Howard\n",
       "nome2       Ian\n",
       "nome3     Peter\n",
       "nome4     Jonah\n",
       "nome5    Kellie\n",
       "dtype: object"
      ]
     },
     "execution_count": 6,
     "metadata": {},
     "output_type": "execute_result"
    }
   ],
   "source": [
    "pd.Series(dados)"
   ]
  },
  {
   "cell_type": "code",
   "execution_count": 2,
   "id": "dee5be25-d66e-42a0-85b7-7e34b0d2dac3",
   "metadata": {
    "colab": {
     "base_uri": "https://localhost:8080/"
    },
    "executionInfo": {
     "elapsed": 455,
     "status": "ok",
     "timestamp": 1698078246258,
     "user": {
      "displayName": "Eduardo Furlan",
      "userId": "03823929547054463581"
     },
     "user_tz": 180
    },
    "id": "dee5be25-d66e-42a0-85b7-7e34b0d2dac3",
    "outputId": "50f05d96-2367-432a-ad85-ea7333befa57"
   },
   "outputs": [
    {
     "data": {
      "text/plain": [
       "['111.111.111-11',\n",
       " '222.222.222-22',\n",
       " '333.333.333-33',\n",
       " '444.444.444-44',\n",
       " '555.555.555-55']"
      ]
     },
     "execution_count": 2,
     "metadata": {},
     "output_type": "execute_result"
    }
   ],
   "source": [
    "cpfs = \"\"\"\n",
    "111.111.111-11 222.222.222-22 333.333.333-33\n",
    "444.444.444-44 555.555.555-55\n",
    "\"\"\".split()\n",
    "cpfs"
   ]
  },
  {
   "cell_type": "code",
   "execution_count": 5,
   "id": "77d95436-7c27-4247-8cf6-2dfad2205a07",
   "metadata": {
    "colab": {
     "base_uri": "https://localhost:8080/"
    },
    "executionInfo": {
     "elapsed": 7,
     "status": "ok",
     "timestamp": 1698078270607,
     "user": {
      "displayName": "Eduardo Furlan",
      "userId": "03823929547054463581"
     },
     "user_tz": 180
    },
    "id": "77d95436-7c27-4247-8cf6-2dfad2205a07",
    "outputId": "d988618e-b062-4c00-f59a-eddc9cc512c4"
   },
   "outputs": [
    {
     "data": {
      "text/plain": [
       "111.111.111-11    Howard\n",
       "222.222.222-22       Ian\n",
       "333.333.333-33     Peter\n",
       "444.444.444-44     Jonah\n",
       "555.555.555-55    Kellie\n",
       "dtype: object"
      ]
     },
     "execution_count": 5,
     "metadata": {},
     "output_type": "execute_result"
    }
   ],
   "source": [
    "series_dados = pd.Series(lista_nomes, index=cpfs)\n",
    "series_dados"
   ]
  },
  {
   "cell_type": "code",
   "execution_count": null,
   "id": "9854966a-b15f-4396-9962-3187e4dcfc3c",
   "metadata": {
    "id": "9854966a-b15f-4396-9962-3187e4dcfc3c",
    "outputId": "aeddbafb-aaeb-43fa-b0bd-41f736f87e05"
   },
   "outputs": [
    {
     "data": {
      "text/plain": [
       "'Howard'"
      ]
     },
     "execution_count": 11,
     "metadata": {},
     "output_type": "execute_result"
    }
   ],
   "source": [
    "series_dados.loc['111.111.111-11']"
   ]
  },
  {
   "cell_type": "markdown",
   "id": "4844ddf1-2112-4ce1-aa6f-5cb4c41a2215",
   "metadata": {
    "id": "4844ddf1-2112-4ce1-aa6f-5cb4c41a2215"
   },
   "source": [
    "## Extraindo informações"
   ]
  },
  {
   "cell_type": "code",
   "execution_count": 6,
   "id": "53e63806-0c5c-4e9c-93ea-68a85ed230ec",
   "metadata": {
    "executionInfo": {
     "elapsed": 407,
     "status": "ok",
     "timestamp": 1698078455492,
     "user": {
      "displayName": "Eduardo Furlan",
      "userId": "03823929547054463581"
     },
     "user_tz": 180
    },
    "id": "53e63806-0c5c-4e9c-93ea-68a85ed230ec"
   },
   "outputs": [],
   "source": [
    "series_dados = pd.Series([10.2, -1, None, 15, 23.4])"
   ]
  },
  {
   "cell_type": "code",
   "execution_count": 7,
   "id": "11871733-6ef9-42e2-ac81-3208658aab37",
   "metadata": {
    "colab": {
     "base_uri": "https://localhost:8080/"
    },
    "executionInfo": {
     "elapsed": 402,
     "status": "ok",
     "timestamp": 1698078459764,
     "user": {
      "displayName": "Eduardo Furlan",
      "userId": "03823929547054463581"
     },
     "user_tz": 180
    },
    "id": "11871733-6ef9-42e2-ac81-3208658aab37",
    "outputId": "b391cb6c-1237-411b-e74f-2b65f234a71c"
   },
   "outputs": [
    {
     "name": "stdout",
     "output_type": "stream",
     "text": [
      "Quantidade de linhas =  (5,)\n"
     ]
    }
   ],
   "source": [
    "print('Quantidade de linhas = ', series_dados.shape)"
   ]
  },
  {
   "cell_type": "code",
   "execution_count": 8,
   "id": "6e6a9fe5-bf43-4207-a456-612db76d9f91",
   "metadata": {
    "colab": {
     "base_uri": "https://localhost:8080/"
    },
    "executionInfo": {
     "elapsed": 826,
     "status": "ok",
     "timestamp": 1698078464816,
     "user": {
      "displayName": "Eduardo Furlan",
      "userId": "03823929547054463581"
     },
     "user_tz": 180
    },
    "id": "6e6a9fe5-bf43-4207-a456-612db76d9f91",
    "outputId": "4f4e33bd-8aeb-4007-b34a-3c7e6a925b6a"
   },
   "outputs": [
    {
     "name": "stdout",
     "output_type": "stream",
     "text": [
      "Tipo de dados float64\n"
     ]
    }
   ],
   "source": [
    "print('Tipo de dados', series_dados.dtypes)"
   ]
  },
  {
   "cell_type": "code",
   "execution_count": 9,
   "id": "452a0ac5-9b7a-49e8-9ee8-bb7ce9a858c2",
   "metadata": {
    "colab": {
     "base_uri": "https://localhost:8080/"
    },
    "executionInfo": {
     "elapsed": 383,
     "status": "ok",
     "timestamp": 1698078470140,
     "user": {
      "displayName": "Eduardo Furlan",
      "userId": "03823929547054463581"
     },
     "user_tz": 180
    },
    "id": "452a0ac5-9b7a-49e8-9ee8-bb7ce9a858c2",
    "outputId": "9662f297-90bf-4d19-fa79-1033bc2c864c"
   },
   "outputs": [
    {
     "name": "stdout",
     "output_type": "stream",
     "text": [
      "Os valores são únicos? True\n"
     ]
    }
   ],
   "source": [
    "print('Os valores são únicos?', series_dados.is_unique)"
   ]
  },
  {
   "cell_type": "code",
   "execution_count": 10,
   "id": "94d350f3-409d-4ae3-aee9-790ba78c3746",
   "metadata": {
    "colab": {
     "base_uri": "https://localhost:8080/"
    },
    "executionInfo": {
     "elapsed": 447,
     "status": "ok",
     "timestamp": 1698078474598,
     "user": {
      "displayName": "Eduardo Furlan",
      "userId": "03823929547054463581"
     },
     "user_tz": 180
    },
    "id": "94d350f3-409d-4ae3-aee9-790ba78c3746",
    "outputId": "bdacb251-b635-4d99-8d31-07c352ee3ac4"
   },
   "outputs": [
    {
     "name": "stdout",
     "output_type": "stream",
     "text": [
      "Existem valores nulos? True\n"
     ]
    }
   ],
   "source": [
    "print('Existem valores nulos?', series_dados.hasnans)"
   ]
  },
  {
   "cell_type": "code",
   "execution_count": 11,
   "id": "f5f319d0-7b6d-4ed4-85c5-c048dc0cd8a3",
   "metadata": {
    "colab": {
     "base_uri": "https://localhost:8080/"
    },
    "executionInfo": {
     "elapsed": 7,
     "status": "ok",
     "timestamp": 1698078477079,
     "user": {
      "displayName": "Eduardo Furlan",
      "userId": "03823929547054463581"
     },
     "user_tz": 180
    },
    "id": "f5f319d0-7b6d-4ed4-85c5-c048dc0cd8a3",
    "outputId": "c7f25d86-c615-4e72-a9da-989ef4b3158a"
   },
   "outputs": [
    {
     "name": "stdout",
     "output_type": "stream",
     "text": [
      "Quantos valores existem? 4\n"
     ]
    }
   ],
   "source": [
    "print('Quantos valores existem?', series_dados.count())"
   ]
  },
  {
   "cell_type": "code",
   "execution_count": 12,
   "id": "941e180e-157b-46fa-96fe-4b6d92111c52",
   "metadata": {
    "colab": {
     "base_uri": "https://localhost:8080/"
    },
    "executionInfo": {
     "elapsed": 432,
     "status": "ok",
     "timestamp": 1698078484864,
     "user": {
      "displayName": "Eduardo Furlan",
      "userId": "03823929547054463581"
     },
     "user_tz": 180
    },
    "id": "941e180e-157b-46fa-96fe-4b6d92111c52",
    "outputId": "3ef20cb0-5980-4b38-902a-279a646c5f57"
   },
   "outputs": [
    {
     "name": "stdout",
     "output_type": "stream",
     "text": [
      "Qual o menor valor? -1.0\n"
     ]
    }
   ],
   "source": [
    "print('Qual o menor valor?', series_dados.min())"
   ]
  },
  {
   "cell_type": "code",
   "execution_count": 13,
   "id": "5a096e49-a0f5-4c94-aaf3-531807881cc8",
   "metadata": {
    "colab": {
     "base_uri": "https://localhost:8080/"
    },
    "executionInfo": {
     "elapsed": 394,
     "status": "ok",
     "timestamp": 1698078487043,
     "user": {
      "displayName": "Eduardo Furlan",
      "userId": "03823929547054463581"
     },
     "user_tz": 180
    },
    "id": "5a096e49-a0f5-4c94-aaf3-531807881cc8",
    "outputId": "f5813a36-fefa-4416-c5db-260d95e42036"
   },
   "outputs": [
    {
     "name": "stdout",
     "output_type": "stream",
     "text": [
      "Qual o maior valor? 23.4\n"
     ]
    }
   ],
   "source": [
    "print('Qual o maior valor?', series_dados.max())"
   ]
  },
  {
   "cell_type": "code",
   "execution_count": 14,
   "id": "89466ff8-fe5b-4803-893b-3e1148978618",
   "metadata": {
    "colab": {
     "base_uri": "https://localhost:8080/"
    },
    "executionInfo": {
     "elapsed": 5,
     "status": "ok",
     "timestamp": 1698078489892,
     "user": {
      "displayName": "Eduardo Furlan",
      "userId": "03823929547054463581"
     },
     "user_tz": 180
    },
    "id": "89466ff8-fe5b-4803-893b-3e1148978618",
    "outputId": "6ac2b540-f78e-4554-def7-d4c7dbceb461"
   },
   "outputs": [
    {
     "name": "stdout",
     "output_type": "stream",
     "text": [
      "Qual a média aritmética? 11.899999999999999\n"
     ]
    }
   ],
   "source": [
    "print('Qual a média aritmética?', series_dados.mean())"
   ]
  },
  {
   "cell_type": "code",
   "execution_count": 15,
   "id": "95a6a926-f2ad-4f95-ab00-fc4fbe4b4928",
   "metadata": {
    "colab": {
     "base_uri": "https://localhost:8080/"
    },
    "executionInfo": {
     "elapsed": 608,
     "status": "ok",
     "timestamp": 1698078492284,
     "user": {
      "displayName": "Eduardo Furlan",
      "userId": "03823929547054463581"
     },
     "user_tz": 180
    },
    "id": "95a6a926-f2ad-4f95-ab00-fc4fbe4b4928",
    "outputId": "974f5c5e-1017-4529-a5c1-08deb20d4774"
   },
   "outputs": [
    {
     "name": "stdout",
     "output_type": "stream",
     "text": [
      "Qual o desvio padrão? 10.184301645179211\n"
     ]
    }
   ],
   "source": [
    "print('Qual o desvio padrão?', series_dados.std())"
   ]
  },
  {
   "cell_type": "code",
   "execution_count": 16,
   "id": "04002216-d3e4-44fe-8314-9e3a5b5eed09",
   "metadata": {
    "colab": {
     "base_uri": "https://localhost:8080/"
    },
    "executionInfo": {
     "elapsed": 6,
     "status": "ok",
     "timestamp": 1698078493939,
     "user": {
      "displayName": "Eduardo Furlan",
      "userId": "03823929547054463581"
     },
     "user_tz": 180
    },
    "id": "04002216-d3e4-44fe-8314-9e3a5b5eed09",
    "outputId": "cf7e8c1e-bf0e-4024-c0d0-232fbcd0e4d5"
   },
   "outputs": [
    {
     "name": "stdout",
     "output_type": "stream",
     "text": [
      "Qual a mediana? 12.6\n"
     ]
    }
   ],
   "source": [
    "print('Qual a mediana?', series_dados.median())"
   ]
  },
  {
   "cell_type": "markdown",
   "id": "ead67961-8970-400f-8e24-0b089c7fc093",
   "metadata": {
    "id": "ead67961-8970-400f-8e24-0b089c7fc093"
   },
   "source": [
    "## DataFrame"
   ]
  },
  {
   "cell_type": "code",
   "execution_count": 17,
   "id": "2dd13cfc-175e-4b0f-ae91-80c5b0102c63",
   "metadata": {
    "colab": {
     "base_uri": "https://localhost:8080/"
    },
    "executionInfo": {
     "elapsed": 437,
     "status": "ok",
     "timestamp": 1698078502256,
     "user": {
      "displayName": "Eduardo Furlan",
      "userId": "03823929547054463581"
     },
     "user_tz": 180
    },
    "id": "2dd13cfc-175e-4b0f-ae91-80c5b0102c63",
    "outputId": "7ca12afb-71eb-4488-df0f-5e72369cb206"
   },
   "outputs": [
    {
     "data": {
      "text/plain": [
       "['Howard', 'Ian', 'Peter', 'Jonah', 'Kellie']"
      ]
     },
     "execution_count": 17,
     "metadata": {},
     "output_type": "execute_result"
    }
   ],
   "source": [
    "lista_nomes = 'Howard Ian Peter Jonah Kellie'.split()\n",
    "lista_nomes"
   ]
  },
  {
   "cell_type": "code",
   "execution_count": 19,
   "id": "87a97276-c0cc-41cf-9e62-0fcbcf07e96a",
   "metadata": {
    "colab": {
     "base_uri": "https://localhost:8080/"
    },
    "executionInfo": {
     "elapsed": 4,
     "status": "ok",
     "timestamp": 1698078523633,
     "user": {
      "displayName": "Eduardo Furlan",
      "userId": "03823929547054463581"
     },
     "user_tz": 180
    },
    "id": "87a97276-c0cc-41cf-9e62-0fcbcf07e96a",
    "outputId": "a8ddc842-1a1b-4788-f23f-63f5717d1e8d"
   },
   "outputs": [
    {
     "data": {
      "text/plain": [
       "['111.111.111-11',\n",
       " '222.222.222-22',\n",
       " '333.333.333-33',\n",
       " '444.444.444-44',\n",
       " '555.555.555-55']"
      ]
     },
     "execution_count": 19,
     "metadata": {},
     "output_type": "execute_result"
    }
   ],
   "source": [
    "lista_cpfs = \"\"\"\n",
    "111.111.111-11 222.222.222-22 333.333.333-33\n",
    "444.444.444-44 555.555.555-55\n",
    "\"\"\".split()\n",
    "lista_cpfs"
   ]
  },
  {
   "cell_type": "code",
   "execution_count": 20,
   "id": "0975e48b-8405-4111-a80c-57be2d16a41a",
   "metadata": {
    "colab": {
     "base_uri": "https://localhost:8080/"
    },
    "executionInfo": {
     "elapsed": 503,
     "status": "ok",
     "timestamp": 1698078537000,
     "user": {
      "displayName": "Eduardo Furlan",
      "userId": "03823929547054463581"
     },
     "user_tz": 180
    },
    "id": "0975e48b-8405-4111-a80c-57be2d16a41a",
    "outputId": "d736e399-1cbf-4b50-a53f-e46bb0f500ab"
   },
   "outputs": [
    {
     "data": {
      "text/plain": [
       "['risus.varius@dictumPhasellusin.ca',\n",
       " 'Nunc@vulputate.ca',\n",
       " 'fames.ac.turpis@cursusa.org',\n",
       " 'non@felisullamcorper.org',\n",
       " 'eget.dictum.placerat@necluctus.co.uk']"
      ]
     },
     "execution_count": 20,
     "metadata": {},
     "output_type": "execute_result"
    }
   ],
   "source": [
    "lista_emails = \"\"\"\n",
    "risus.varius@dictumPhasellusin.ca  Nunc@vulputate.ca\n",
    "fames.ac.turpis@cursusa.org  non@felisullamcorper.org\n",
    "eget.dictum.placerat@necluctus.co.uk\n",
    "\"\"\".split()\n",
    "lista_emails"
   ]
  },
  {
   "cell_type": "code",
   "execution_count": 21,
   "id": "de5a6b7b-635c-493c-8e07-ab2a4d8f4cac",
   "metadata": {
    "colab": {
     "base_uri": "https://localhost:8080/"
    },
    "executionInfo": {
     "elapsed": 441,
     "status": "ok",
     "timestamp": 1698078545406,
     "user": {
      "displayName": "Eduardo Furlan",
      "userId": "03823929547054463581"
     },
     "user_tz": 180
    },
    "id": "de5a6b7b-635c-493c-8e07-ab2a4d8f4cac",
    "outputId": "1dc334f5-7a7d-41d4-ec42-15d45c1fdd56"
   },
   "outputs": [
    {
     "data": {
      "text/plain": [
       "[32, 22, 25, 29, 38]"
      ]
     },
     "execution_count": 21,
     "metadata": {},
     "output_type": "execute_result"
    }
   ],
   "source": [
    "lista_idades = [32, 22, 25, 29, 38]\n",
    "lista_idades"
   ]
  },
  {
   "cell_type": "code",
   "execution_count": 22,
   "id": "721f586c-9a88-4e47-b6e0-ec437ae78f49",
   "metadata": {
    "colab": {
     "base_uri": "https://localhost:8080/",
     "height": 206
    },
    "executionInfo": {
     "elapsed": 526,
     "status": "ok",
     "timestamp": 1698078552665,
     "user": {
      "displayName": "Eduardo Furlan",
      "userId": "03823929547054463581"
     },
     "user_tz": 180
    },
    "id": "721f586c-9a88-4e47-b6e0-ec437ae78f49",
    "outputId": "fa5ca08d-f1b8-4d6f-93e7-a3ac1b946518"
   },
   "outputs": [
    {
     "data": {
      "text/html": [
       "\n",
       "  <div id=\"df-d19f6775-1bcf-407a-b58c-bad4f2f65231\" class=\"colab-df-container\">\n",
       "    <div>\n",
       "<style scoped>\n",
       "    .dataframe tbody tr th:only-of-type {\n",
       "        vertical-align: middle;\n",
       "    }\n",
       "\n",
       "    .dataframe tbody tr th {\n",
       "        vertical-align: top;\n",
       "    }\n",
       "\n",
       "    .dataframe thead th {\n",
       "        text-align: right;\n",
       "    }\n",
       "</style>\n",
       "<table border=\"1\" class=\"dataframe\">\n",
       "  <thead>\n",
       "    <tr style=\"text-align: right;\">\n",
       "      <th></th>\n",
       "      <th>nome</th>\n",
       "    </tr>\n",
       "  </thead>\n",
       "  <tbody>\n",
       "    <tr>\n",
       "      <th>0</th>\n",
       "      <td>Howard</td>\n",
       "    </tr>\n",
       "    <tr>\n",
       "      <th>1</th>\n",
       "      <td>Ian</td>\n",
       "    </tr>\n",
       "    <tr>\n",
       "      <th>2</th>\n",
       "      <td>Peter</td>\n",
       "    </tr>\n",
       "    <tr>\n",
       "      <th>3</th>\n",
       "      <td>Jonah</td>\n",
       "    </tr>\n",
       "    <tr>\n",
       "      <th>4</th>\n",
       "      <td>Kellie</td>\n",
       "    </tr>\n",
       "  </tbody>\n",
       "</table>\n",
       "</div>\n",
       "    <div class=\"colab-df-buttons\">\n",
       "\n",
       "  <div class=\"colab-df-container\">\n",
       "    <button class=\"colab-df-convert\" onclick=\"convertToInteractive('df-d19f6775-1bcf-407a-b58c-bad4f2f65231')\"\n",
       "            title=\"Convert this dataframe to an interactive table.\"\n",
       "            style=\"display:none;\">\n",
       "\n",
       "  <svg xmlns=\"http://www.w3.org/2000/svg\" height=\"24px\" viewBox=\"0 -960 960 960\">\n",
       "    <path d=\"M120-120v-720h720v720H120Zm60-500h600v-160H180v160Zm220 220h160v-160H400v160Zm0 220h160v-160H400v160ZM180-400h160v-160H180v160Zm440 0h160v-160H620v160ZM180-180h160v-160H180v160Zm440 0h160v-160H620v160Z\"/>\n",
       "  </svg>\n",
       "    </button>\n",
       "\n",
       "  <style>\n",
       "    .colab-df-container {\n",
       "      display:flex;\n",
       "      gap: 12px;\n",
       "    }\n",
       "\n",
       "    .colab-df-convert {\n",
       "      background-color: #E8F0FE;\n",
       "      border: none;\n",
       "      border-radius: 50%;\n",
       "      cursor: pointer;\n",
       "      display: none;\n",
       "      fill: #1967D2;\n",
       "      height: 32px;\n",
       "      padding: 0 0 0 0;\n",
       "      width: 32px;\n",
       "    }\n",
       "\n",
       "    .colab-df-convert:hover {\n",
       "      background-color: #E2EBFA;\n",
       "      box-shadow: 0px 1px 2px rgba(60, 64, 67, 0.3), 0px 1px 3px 1px rgba(60, 64, 67, 0.15);\n",
       "      fill: #174EA6;\n",
       "    }\n",
       "\n",
       "    .colab-df-buttons div {\n",
       "      margin-bottom: 4px;\n",
       "    }\n",
       "\n",
       "    [theme=dark] .colab-df-convert {\n",
       "      background-color: #3B4455;\n",
       "      fill: #D2E3FC;\n",
       "    }\n",
       "\n",
       "    [theme=dark] .colab-df-convert:hover {\n",
       "      background-color: #434B5C;\n",
       "      box-shadow: 0px 1px 3px 1px rgba(0, 0, 0, 0.15);\n",
       "      filter: drop-shadow(0px 1px 2px rgba(0, 0, 0, 0.3));\n",
       "      fill: #FFFFFF;\n",
       "    }\n",
       "  </style>\n",
       "\n",
       "    <script>\n",
       "      const buttonEl =\n",
       "        document.querySelector('#df-d19f6775-1bcf-407a-b58c-bad4f2f65231 button.colab-df-convert');\n",
       "      buttonEl.style.display =\n",
       "        google.colab.kernel.accessAllowed ? 'block' : 'none';\n",
       "\n",
       "      async function convertToInteractive(key) {\n",
       "        const element = document.querySelector('#df-d19f6775-1bcf-407a-b58c-bad4f2f65231');\n",
       "        const dataTable =\n",
       "          await google.colab.kernel.invokeFunction('convertToInteractive',\n",
       "                                                    [key], {});\n",
       "        if (!dataTable) return;\n",
       "\n",
       "        const docLinkHtml = 'Like what you see? Visit the ' +\n",
       "          '<a target=\"_blank\" href=https://colab.research.google.com/notebooks/data_table.ipynb>data table notebook</a>'\n",
       "          + ' to learn more about interactive tables.';\n",
       "        element.innerHTML = '';\n",
       "        dataTable['output_type'] = 'display_data';\n",
       "        await google.colab.output.renderOutput(dataTable, element);\n",
       "        const docLink = document.createElement('div');\n",
       "        docLink.innerHTML = docLinkHtml;\n",
       "        element.appendChild(docLink);\n",
       "      }\n",
       "    </script>\n",
       "  </div>\n",
       "\n",
       "\n",
       "<div id=\"df-47b414c2-1eaf-48eb-b8aa-5bc4ee0a4152\">\n",
       "  <button class=\"colab-df-quickchart\" onclick=\"quickchart('df-47b414c2-1eaf-48eb-b8aa-5bc4ee0a4152')\"\n",
       "            title=\"Suggest charts.\"\n",
       "            style=\"display:none;\">\n",
       "\n",
       "<svg xmlns=\"http://www.w3.org/2000/svg\" height=\"24px\"viewBox=\"0 0 24 24\"\n",
       "     width=\"24px\">\n",
       "    <g>\n",
       "        <path d=\"M19 3H5c-1.1 0-2 .9-2 2v14c0 1.1.9 2 2 2h14c1.1 0 2-.9 2-2V5c0-1.1-.9-2-2-2zM9 17H7v-7h2v7zm4 0h-2V7h2v10zm4 0h-2v-4h2v4z\"/>\n",
       "    </g>\n",
       "</svg>\n",
       "  </button>\n",
       "\n",
       "<style>\n",
       "  .colab-df-quickchart {\n",
       "      --bg-color: #E8F0FE;\n",
       "      --fill-color: #1967D2;\n",
       "      --hover-bg-color: #E2EBFA;\n",
       "      --hover-fill-color: #174EA6;\n",
       "      --disabled-fill-color: #AAA;\n",
       "      --disabled-bg-color: #DDD;\n",
       "  }\n",
       "\n",
       "  [theme=dark] .colab-df-quickchart {\n",
       "      --bg-color: #3B4455;\n",
       "      --fill-color: #D2E3FC;\n",
       "      --hover-bg-color: #434B5C;\n",
       "      --hover-fill-color: #FFFFFF;\n",
       "      --disabled-bg-color: #3B4455;\n",
       "      --disabled-fill-color: #666;\n",
       "  }\n",
       "\n",
       "  .colab-df-quickchart {\n",
       "    background-color: var(--bg-color);\n",
       "    border: none;\n",
       "    border-radius: 50%;\n",
       "    cursor: pointer;\n",
       "    display: none;\n",
       "    fill: var(--fill-color);\n",
       "    height: 32px;\n",
       "    padding: 0;\n",
       "    width: 32px;\n",
       "  }\n",
       "\n",
       "  .colab-df-quickchart:hover {\n",
       "    background-color: var(--hover-bg-color);\n",
       "    box-shadow: 0 1px 2px rgba(60, 64, 67, 0.3), 0 1px 3px 1px rgba(60, 64, 67, 0.15);\n",
       "    fill: var(--button-hover-fill-color);\n",
       "  }\n",
       "\n",
       "  .colab-df-quickchart-complete:disabled,\n",
       "  .colab-df-quickchart-complete:disabled:hover {\n",
       "    background-color: var(--disabled-bg-color);\n",
       "    fill: var(--disabled-fill-color);\n",
       "    box-shadow: none;\n",
       "  }\n",
       "\n",
       "  .colab-df-spinner {\n",
       "    border: 2px solid var(--fill-color);\n",
       "    border-color: transparent;\n",
       "    border-bottom-color: var(--fill-color);\n",
       "    animation:\n",
       "      spin 1s steps(1) infinite;\n",
       "  }\n",
       "\n",
       "  @keyframes spin {\n",
       "    0% {\n",
       "      border-color: transparent;\n",
       "      border-bottom-color: var(--fill-color);\n",
       "      border-left-color: var(--fill-color);\n",
       "    }\n",
       "    20% {\n",
       "      border-color: transparent;\n",
       "      border-left-color: var(--fill-color);\n",
       "      border-top-color: var(--fill-color);\n",
       "    }\n",
       "    30% {\n",
       "      border-color: transparent;\n",
       "      border-left-color: var(--fill-color);\n",
       "      border-top-color: var(--fill-color);\n",
       "      border-right-color: var(--fill-color);\n",
       "    }\n",
       "    40% {\n",
       "      border-color: transparent;\n",
       "      border-right-color: var(--fill-color);\n",
       "      border-top-color: var(--fill-color);\n",
       "    }\n",
       "    60% {\n",
       "      border-color: transparent;\n",
       "      border-right-color: var(--fill-color);\n",
       "    }\n",
       "    80% {\n",
       "      border-color: transparent;\n",
       "      border-right-color: var(--fill-color);\n",
       "      border-bottom-color: var(--fill-color);\n",
       "    }\n",
       "    90% {\n",
       "      border-color: transparent;\n",
       "      border-bottom-color: var(--fill-color);\n",
       "    }\n",
       "  }\n",
       "</style>\n",
       "\n",
       "  <script>\n",
       "    async function quickchart(key) {\n",
       "      const quickchartButtonEl =\n",
       "        document.querySelector('#' + key + ' button');\n",
       "      quickchartButtonEl.disabled = true;  // To prevent multiple clicks.\n",
       "      quickchartButtonEl.classList.add('colab-df-spinner');\n",
       "      try {\n",
       "        const charts = await google.colab.kernel.invokeFunction(\n",
       "            'suggestCharts', [key], {});\n",
       "      } catch (error) {\n",
       "        console.error('Error during call to suggestCharts:', error);\n",
       "      }\n",
       "      quickchartButtonEl.classList.remove('colab-df-spinner');\n",
       "      quickchartButtonEl.classList.add('colab-df-quickchart-complete');\n",
       "    }\n",
       "    (() => {\n",
       "      let quickchartButtonEl =\n",
       "        document.querySelector('#df-47b414c2-1eaf-48eb-b8aa-5bc4ee0a4152 button');\n",
       "      quickchartButtonEl.style.display =\n",
       "        google.colab.kernel.accessAllowed ? 'block' : 'none';\n",
       "    })();\n",
       "  </script>\n",
       "</div>\n",
       "    </div>\n",
       "  </div>\n"
      ],
      "text/plain": [
       "     nome\n",
       "0  Howard\n",
       "1     Ian\n",
       "2   Peter\n",
       "3   Jonah\n",
       "4  Kellie"
      ]
     },
     "execution_count": 22,
     "metadata": {},
     "output_type": "execute_result"
    }
   ],
   "source": [
    "pd.DataFrame(lista_nomes, columns=['nome'])"
   ]
  },
  {
   "cell_type": "code",
   "execution_count": 23,
   "id": "c62520cb-fb7f-42f6-8333-5667b577b2f3",
   "metadata": {
    "colab": {
     "base_uri": "https://localhost:8080/",
     "height": 206
    },
    "executionInfo": {
     "elapsed": 514,
     "status": "ok",
     "timestamp": 1698078682924,
     "user": {
      "displayName": "Eduardo Furlan",
      "userId": "03823929547054463581"
     },
     "user_tz": 180
    },
    "id": "c62520cb-fb7f-42f6-8333-5667b577b2f3",
    "outputId": "f32b85c2-2a32-48d2-b879-9ca488a24273"
   },
   "outputs": [
    {
     "data": {
      "text/html": [
       "\n",
       "  <div id=\"df-fbed6a2b-6417-4e7e-a3ae-16433857caec\" class=\"colab-df-container\">\n",
       "    <div>\n",
       "<style scoped>\n",
       "    .dataframe tbody tr th:only-of-type {\n",
       "        vertical-align: middle;\n",
       "    }\n",
       "\n",
       "    .dataframe tbody tr th {\n",
       "        vertical-align: top;\n",
       "    }\n",
       "\n",
       "    .dataframe thead th {\n",
       "        text-align: right;\n",
       "    }\n",
       "</style>\n",
       "<table border=\"1\" class=\"dataframe\">\n",
       "  <thead>\n",
       "    <tr style=\"text-align: right;\">\n",
       "      <th></th>\n",
       "      <th>nome</th>\n",
       "    </tr>\n",
       "  </thead>\n",
       "  <tbody>\n",
       "    <tr>\n",
       "      <th>111.111.111-11</th>\n",
       "      <td>Howard</td>\n",
       "    </tr>\n",
       "    <tr>\n",
       "      <th>222.222.222-22</th>\n",
       "      <td>Ian</td>\n",
       "    </tr>\n",
       "    <tr>\n",
       "      <th>333.333.333-33</th>\n",
       "      <td>Peter</td>\n",
       "    </tr>\n",
       "    <tr>\n",
       "      <th>444.444.444-44</th>\n",
       "      <td>Jonah</td>\n",
       "    </tr>\n",
       "    <tr>\n",
       "      <th>555.555.555-55</th>\n",
       "      <td>Kellie</td>\n",
       "    </tr>\n",
       "  </tbody>\n",
       "</table>\n",
       "</div>\n",
       "    <div class=\"colab-df-buttons\">\n",
       "\n",
       "  <div class=\"colab-df-container\">\n",
       "    <button class=\"colab-df-convert\" onclick=\"convertToInteractive('df-fbed6a2b-6417-4e7e-a3ae-16433857caec')\"\n",
       "            title=\"Convert this dataframe to an interactive table.\"\n",
       "            style=\"display:none;\">\n",
       "\n",
       "  <svg xmlns=\"http://www.w3.org/2000/svg\" height=\"24px\" viewBox=\"0 -960 960 960\">\n",
       "    <path d=\"M120-120v-720h720v720H120Zm60-500h600v-160H180v160Zm220 220h160v-160H400v160Zm0 220h160v-160H400v160ZM180-400h160v-160H180v160Zm440 0h160v-160H620v160ZM180-180h160v-160H180v160Zm440 0h160v-160H620v160Z\"/>\n",
       "  </svg>\n",
       "    </button>\n",
       "\n",
       "  <style>\n",
       "    .colab-df-container {\n",
       "      display:flex;\n",
       "      gap: 12px;\n",
       "    }\n",
       "\n",
       "    .colab-df-convert {\n",
       "      background-color: #E8F0FE;\n",
       "      border: none;\n",
       "      border-radius: 50%;\n",
       "      cursor: pointer;\n",
       "      display: none;\n",
       "      fill: #1967D2;\n",
       "      height: 32px;\n",
       "      padding: 0 0 0 0;\n",
       "      width: 32px;\n",
       "    }\n",
       "\n",
       "    .colab-df-convert:hover {\n",
       "      background-color: #E2EBFA;\n",
       "      box-shadow: 0px 1px 2px rgba(60, 64, 67, 0.3), 0px 1px 3px 1px rgba(60, 64, 67, 0.15);\n",
       "      fill: #174EA6;\n",
       "    }\n",
       "\n",
       "    .colab-df-buttons div {\n",
       "      margin-bottom: 4px;\n",
       "    }\n",
       "\n",
       "    [theme=dark] .colab-df-convert {\n",
       "      background-color: #3B4455;\n",
       "      fill: #D2E3FC;\n",
       "    }\n",
       "\n",
       "    [theme=dark] .colab-df-convert:hover {\n",
       "      background-color: #434B5C;\n",
       "      box-shadow: 0px 1px 3px 1px rgba(0, 0, 0, 0.15);\n",
       "      filter: drop-shadow(0px 1px 2px rgba(0, 0, 0, 0.3));\n",
       "      fill: #FFFFFF;\n",
       "    }\n",
       "  </style>\n",
       "\n",
       "    <script>\n",
       "      const buttonEl =\n",
       "        document.querySelector('#df-fbed6a2b-6417-4e7e-a3ae-16433857caec button.colab-df-convert');\n",
       "      buttonEl.style.display =\n",
       "        google.colab.kernel.accessAllowed ? 'block' : 'none';\n",
       "\n",
       "      async function convertToInteractive(key) {\n",
       "        const element = document.querySelector('#df-fbed6a2b-6417-4e7e-a3ae-16433857caec');\n",
       "        const dataTable =\n",
       "          await google.colab.kernel.invokeFunction('convertToInteractive',\n",
       "                                                    [key], {});\n",
       "        if (!dataTable) return;\n",
       "\n",
       "        const docLinkHtml = 'Like what you see? Visit the ' +\n",
       "          '<a target=\"_blank\" href=https://colab.research.google.com/notebooks/data_table.ipynb>data table notebook</a>'\n",
       "          + ' to learn more about interactive tables.';\n",
       "        element.innerHTML = '';\n",
       "        dataTable['output_type'] = 'display_data';\n",
       "        await google.colab.output.renderOutput(dataTable, element);\n",
       "        const docLink = document.createElement('div');\n",
       "        docLink.innerHTML = docLinkHtml;\n",
       "        element.appendChild(docLink);\n",
       "      }\n",
       "    </script>\n",
       "  </div>\n",
       "\n",
       "\n",
       "<div id=\"df-1cbf9aaf-a010-4bbb-8e37-1dcb93a7fabc\">\n",
       "  <button class=\"colab-df-quickchart\" onclick=\"quickchart('df-1cbf9aaf-a010-4bbb-8e37-1dcb93a7fabc')\"\n",
       "            title=\"Suggest charts.\"\n",
       "            style=\"display:none;\">\n",
       "\n",
       "<svg xmlns=\"http://www.w3.org/2000/svg\" height=\"24px\"viewBox=\"0 0 24 24\"\n",
       "     width=\"24px\">\n",
       "    <g>\n",
       "        <path d=\"M19 3H5c-1.1 0-2 .9-2 2v14c0 1.1.9 2 2 2h14c1.1 0 2-.9 2-2V5c0-1.1-.9-2-2-2zM9 17H7v-7h2v7zm4 0h-2V7h2v10zm4 0h-2v-4h2v4z\"/>\n",
       "    </g>\n",
       "</svg>\n",
       "  </button>\n",
       "\n",
       "<style>\n",
       "  .colab-df-quickchart {\n",
       "      --bg-color: #E8F0FE;\n",
       "      --fill-color: #1967D2;\n",
       "      --hover-bg-color: #E2EBFA;\n",
       "      --hover-fill-color: #174EA6;\n",
       "      --disabled-fill-color: #AAA;\n",
       "      --disabled-bg-color: #DDD;\n",
       "  }\n",
       "\n",
       "  [theme=dark] .colab-df-quickchart {\n",
       "      --bg-color: #3B4455;\n",
       "      --fill-color: #D2E3FC;\n",
       "      --hover-bg-color: #434B5C;\n",
       "      --hover-fill-color: #FFFFFF;\n",
       "      --disabled-bg-color: #3B4455;\n",
       "      --disabled-fill-color: #666;\n",
       "  }\n",
       "\n",
       "  .colab-df-quickchart {\n",
       "    background-color: var(--bg-color);\n",
       "    border: none;\n",
       "    border-radius: 50%;\n",
       "    cursor: pointer;\n",
       "    display: none;\n",
       "    fill: var(--fill-color);\n",
       "    height: 32px;\n",
       "    padding: 0;\n",
       "    width: 32px;\n",
       "  }\n",
       "\n",
       "  .colab-df-quickchart:hover {\n",
       "    background-color: var(--hover-bg-color);\n",
       "    box-shadow: 0 1px 2px rgba(60, 64, 67, 0.3), 0 1px 3px 1px rgba(60, 64, 67, 0.15);\n",
       "    fill: var(--button-hover-fill-color);\n",
       "  }\n",
       "\n",
       "  .colab-df-quickchart-complete:disabled,\n",
       "  .colab-df-quickchart-complete:disabled:hover {\n",
       "    background-color: var(--disabled-bg-color);\n",
       "    fill: var(--disabled-fill-color);\n",
       "    box-shadow: none;\n",
       "  }\n",
       "\n",
       "  .colab-df-spinner {\n",
       "    border: 2px solid var(--fill-color);\n",
       "    border-color: transparent;\n",
       "    border-bottom-color: var(--fill-color);\n",
       "    animation:\n",
       "      spin 1s steps(1) infinite;\n",
       "  }\n",
       "\n",
       "  @keyframes spin {\n",
       "    0% {\n",
       "      border-color: transparent;\n",
       "      border-bottom-color: var(--fill-color);\n",
       "      border-left-color: var(--fill-color);\n",
       "    }\n",
       "    20% {\n",
       "      border-color: transparent;\n",
       "      border-left-color: var(--fill-color);\n",
       "      border-top-color: var(--fill-color);\n",
       "    }\n",
       "    30% {\n",
       "      border-color: transparent;\n",
       "      border-left-color: var(--fill-color);\n",
       "      border-top-color: var(--fill-color);\n",
       "      border-right-color: var(--fill-color);\n",
       "    }\n",
       "    40% {\n",
       "      border-color: transparent;\n",
       "      border-right-color: var(--fill-color);\n",
       "      border-top-color: var(--fill-color);\n",
       "    }\n",
       "    60% {\n",
       "      border-color: transparent;\n",
       "      border-right-color: var(--fill-color);\n",
       "    }\n",
       "    80% {\n",
       "      border-color: transparent;\n",
       "      border-right-color: var(--fill-color);\n",
       "      border-bottom-color: var(--fill-color);\n",
       "    }\n",
       "    90% {\n",
       "      border-color: transparent;\n",
       "      border-bottom-color: var(--fill-color);\n",
       "    }\n",
       "  }\n",
       "</style>\n",
       "\n",
       "  <script>\n",
       "    async function quickchart(key) {\n",
       "      const quickchartButtonEl =\n",
       "        document.querySelector('#' + key + ' button');\n",
       "      quickchartButtonEl.disabled = true;  // To prevent multiple clicks.\n",
       "      quickchartButtonEl.classList.add('colab-df-spinner');\n",
       "      try {\n",
       "        const charts = await google.colab.kernel.invokeFunction(\n",
       "            'suggestCharts', [key], {});\n",
       "      } catch (error) {\n",
       "        console.error('Error during call to suggestCharts:', error);\n",
       "      }\n",
       "      quickchartButtonEl.classList.remove('colab-df-spinner');\n",
       "      quickchartButtonEl.classList.add('colab-df-quickchart-complete');\n",
       "    }\n",
       "    (() => {\n",
       "      let quickchartButtonEl =\n",
       "        document.querySelector('#df-1cbf9aaf-a010-4bbb-8e37-1dcb93a7fabc button');\n",
       "      quickchartButtonEl.style.display =\n",
       "        google.colab.kernel.accessAllowed ? 'block' : 'none';\n",
       "    })();\n",
       "  </script>\n",
       "</div>\n",
       "    </div>\n",
       "  </div>\n"
      ],
      "text/plain": [
       "                  nome\n",
       "111.111.111-11  Howard\n",
       "222.222.222-22     Ian\n",
       "333.333.333-33   Peter\n",
       "444.444.444-44   Jonah\n",
       "555.555.555-55  Kellie"
      ]
     },
     "execution_count": 23,
     "metadata": {},
     "output_type": "execute_result"
    }
   ],
   "source": [
    "pd.DataFrame(lista_nomes, columns=['nome'], index=lista_cpfs)"
   ]
  },
  {
   "cell_type": "markdown",
   "id": "Q0idU7eJYios",
   "metadata": {
    "id": "Q0idU7eJYios"
   },
   "source": [
    "`zip` retorna um iterador de tuplas, e `list` cria uma lista a partir das tuplas:"
   ]
  },
  {
   "cell_type": "code",
   "execution_count": 27,
   "id": "JcbQXVmgYRlg",
   "metadata": {
    "colab": {
     "base_uri": "https://localhost:8080/"
    },
    "executionInfo": {
     "elapsed": 10,
     "status": "ok",
     "timestamp": 1698078790283,
     "user": {
      "displayName": "Eduardo Furlan",
      "userId": "03823929547054463581"
     },
     "user_tz": 180
    },
    "id": "JcbQXVmgYRlg",
    "outputId": "18c1fce2-37bd-4ecc-9c86-08a78300ab9a"
   },
   "outputs": [
    {
     "data": {
      "text/plain": [
       "[('John', 'Jenny'), ('Charles', 'Christy'), ('Mike', 'Monica')]"
      ]
     },
     "execution_count": 27,
     "metadata": {},
     "output_type": "execute_result"
    }
   ],
   "source": [
    "a = (\"John\", \"Charles\", \"Mike\")\n",
    "b = (\"Jenny\", \"Christy\", \"Monica\")\n",
    "list(zip(a, b))"
   ]
  },
  {
   "cell_type": "markdown",
   "id": "VMif-KTvaTUM",
   "metadata": {
    "id": "VMif-KTvaTUM"
   },
   "source": [
    "Cria uma lista a partir das tuplas:"
   ]
  },
  {
   "cell_type": "code",
   "execution_count": null,
   "id": "c0faf8cc-f6d3-4b3e-aea6-c70ad8317a66",
   "metadata": {
    "id": "c0faf8cc-f6d3-4b3e-aea6-c70ad8317a66",
    "outputId": "e33912ea-7567-45e8-fb8e-96ea475380af"
   },
   "outputs": [
    {
     "data": {
      "text/plain": [
       "[('Howard', '111.111.111-11', 32, 'risus.varius@dictumPhasellusin.ca'),\n",
       " ('Ian', '222.222.222-22', 22, 'Nunc@vulputate.ca'),\n",
       " ('Peter', '333.333.333-33', 25, 'fames.ac.turpis@cursusa.org'),\n",
       " ('Jonah', '444.444.444-44', 29, 'non@felisullamcorper.org'),\n",
       " ('Kellie', '555.555.555-55', 38, 'eget.dictum.placerat@necluctus.co.uk')]"
      ]
     },
     "execution_count": 32,
     "metadata": {},
     "output_type": "execute_result"
    }
   ],
   "source": [
    "dados = list(zip(lista_nomes, lista_cpfs, lista_idades, lista_emails))\n",
    "dados"
   ]
  },
  {
   "cell_type": "markdown",
   "id": "fGvmQGVdwbwg",
   "metadata": {
    "id": "fGvmQGVdwbwg"
   },
   "source": [
    "Cria um dataframe a partir da lista:"
   ]
  },
  {
   "cell_type": "code",
   "execution_count": null,
   "id": "0ae9a793-2ea9-4cfc-879a-eba961ca7e3a",
   "metadata": {
    "id": "0ae9a793-2ea9-4cfc-879a-eba961ca7e3a",
    "outputId": "8f14c6ae-4fa7-402e-f15e-3852789fdc7c"
   },
   "outputs": [
    {
     "data": {
      "text/html": [
       "<div>\n",
       "<style scoped>\n",
       "    .dataframe tbody tr th:only-of-type {\n",
       "        vertical-align: middle;\n",
       "    }\n",
       "\n",
       "    .dataframe tbody tr th {\n",
       "        vertical-align: top;\n",
       "    }\n",
       "\n",
       "    .dataframe thead th {\n",
       "        text-align: right;\n",
       "    }\n",
       "</style>\n",
       "<table border=\"1\" class=\"dataframe\">\n",
       "  <thead>\n",
       "    <tr style=\"text-align: right;\">\n",
       "      <th></th>\n",
       "      <th>nome</th>\n",
       "      <th>cpfs</th>\n",
       "      <th>idade</th>\n",
       "      <th>email</th>\n",
       "    </tr>\n",
       "  </thead>\n",
       "  <tbody>\n",
       "    <tr>\n",
       "      <th>0</th>\n",
       "      <td>Howard</td>\n",
       "      <td>111.111.111-11</td>\n",
       "      <td>32</td>\n",
       "      <td>risus.varius@dictumPhasellusin.ca</td>\n",
       "    </tr>\n",
       "    <tr>\n",
       "      <th>1</th>\n",
       "      <td>Ian</td>\n",
       "      <td>222.222.222-22</td>\n",
       "      <td>22</td>\n",
       "      <td>Nunc@vulputate.ca</td>\n",
       "    </tr>\n",
       "    <tr>\n",
       "      <th>2</th>\n",
       "      <td>Peter</td>\n",
       "      <td>333.333.333-33</td>\n",
       "      <td>25</td>\n",
       "      <td>fames.ac.turpis@cursusa.org</td>\n",
       "    </tr>\n",
       "    <tr>\n",
       "      <th>3</th>\n",
       "      <td>Jonah</td>\n",
       "      <td>444.444.444-44</td>\n",
       "      <td>29</td>\n",
       "      <td>non@felisullamcorper.org</td>\n",
       "    </tr>\n",
       "    <tr>\n",
       "      <th>4</th>\n",
       "      <td>Kellie</td>\n",
       "      <td>555.555.555-55</td>\n",
       "      <td>38</td>\n",
       "      <td>eget.dictum.placerat@necluctus.co.uk</td>\n",
       "    </tr>\n",
       "  </tbody>\n",
       "</table>\n",
       "</div>"
      ],
      "text/plain": [
       "     nome            cpfs  idade                                 email\n",
       "0  Howard  111.111.111-11     32     risus.varius@dictumPhasellusin.ca\n",
       "1     Ian  222.222.222-22     22                     Nunc@vulputate.ca\n",
       "2   Peter  333.333.333-33     25           fames.ac.turpis@cursusa.org\n",
       "3   Jonah  444.444.444-44     29              non@felisullamcorper.org\n",
       "4  Kellie  555.555.555-55     38  eget.dictum.placerat@necluctus.co.uk"
      ]
     },
     "execution_count": 33,
     "metadata": {},
     "output_type": "execute_result"
    }
   ],
   "source": [
    "pd.DataFrame(dados, columns=['nome', 'cpfs', 'idade', 'email'])"
   ]
  },
  {
   "cell_type": "markdown",
   "id": "bcde1c17-fcaa-4a24-a3f2-96513ff49b31",
   "metadata": {
    "id": "bcde1c17-fcaa-4a24-a3f2-96513ff49b31"
   },
   "source": [
    "## DataFrame a partir de dicionário\n",
    "\n",
    "As chaves são usadas como nomes das colunas:"
   ]
  },
  {
   "cell_type": "code",
   "execution_count": 28,
   "id": "54bc2990-c3e5-40fb-9397-eb1586b37e9d",
   "metadata": {
    "executionInfo": {
     "elapsed": 523,
     "status": "ok",
     "timestamp": 1698085167073,
     "user": {
      "displayName": "Eduardo Furlan",
      "userId": "03823929547054463581"
     },
     "user_tz": 180
    },
    "id": "54bc2990-c3e5-40fb-9397-eb1586b37e9d"
   },
   "outputs": [],
   "source": [
    "dados = {\n",
    "    \"nomes\": \"Howard Ian Peter Jonah Kellie\".split(),\n",
    "    \"cpfs\": \"\"\"111.111.111-11 222.222.222-22 333.333.333-33\n",
    "        444.444.444-44 555.555.555-55\"\"\".split(),\n",
    "    \"emails\": \"\"\"risus.varius@dictumPhasellusin.ca Nunc@vulputate.ca\n",
    "    fames.ac.turpis@cursusa.org non@felisullamcorper.org\n",
    "    eget.dictum.placerat@necluctus.co.uk\"\"\".split(),\n",
    "    \"idades\": [32, 22, 25, 29, 38],\n",
    "}"
   ]
  },
  {
   "cell_type": "code",
   "execution_count": 29,
   "id": "e36ac3c3-e438-4b55-a7e7-a7bf0d836def",
   "metadata": {
    "colab": {
     "base_uri": "https://localhost:8080/",
     "height": 206
    },
    "executionInfo": {
     "elapsed": 505,
     "status": "ok",
     "timestamp": 1698085183785,
     "user": {
      "displayName": "Eduardo Furlan",
      "userId": "03823929547054463581"
     },
     "user_tz": 180
    },
    "id": "e36ac3c3-e438-4b55-a7e7-a7bf0d836def",
    "outputId": "5b56f42a-d2a9-4580-b626-78dd9dbea01b"
   },
   "outputs": [
    {
     "data": {
      "text/html": [
       "\n",
       "  <div id=\"df-2d9fa0e8-a598-4b39-9c98-2150ee6a6a79\" class=\"colab-df-container\">\n",
       "    <div>\n",
       "<style scoped>\n",
       "    .dataframe tbody tr th:only-of-type {\n",
       "        vertical-align: middle;\n",
       "    }\n",
       "\n",
       "    .dataframe tbody tr th {\n",
       "        vertical-align: top;\n",
       "    }\n",
       "\n",
       "    .dataframe thead th {\n",
       "        text-align: right;\n",
       "    }\n",
       "</style>\n",
       "<table border=\"1\" class=\"dataframe\">\n",
       "  <thead>\n",
       "    <tr style=\"text-align: right;\">\n",
       "      <th></th>\n",
       "      <th>nomes</th>\n",
       "      <th>cpfs</th>\n",
       "      <th>emails</th>\n",
       "      <th>idades</th>\n",
       "    </tr>\n",
       "  </thead>\n",
       "  <tbody>\n",
       "    <tr>\n",
       "      <th>0</th>\n",
       "      <td>Howard</td>\n",
       "      <td>111.111.111-11</td>\n",
       "      <td>risus.varius@dictumPhasellusin.ca</td>\n",
       "      <td>32</td>\n",
       "    </tr>\n",
       "    <tr>\n",
       "      <th>1</th>\n",
       "      <td>Ian</td>\n",
       "      <td>222.222.222-22</td>\n",
       "      <td>Nunc@vulputate.ca</td>\n",
       "      <td>22</td>\n",
       "    </tr>\n",
       "    <tr>\n",
       "      <th>2</th>\n",
       "      <td>Peter</td>\n",
       "      <td>333.333.333-33</td>\n",
       "      <td>fames.ac.turpis@cursusa.org</td>\n",
       "      <td>25</td>\n",
       "    </tr>\n",
       "    <tr>\n",
       "      <th>3</th>\n",
       "      <td>Jonah</td>\n",
       "      <td>444.444.444-44</td>\n",
       "      <td>non@felisullamcorper.org</td>\n",
       "      <td>29</td>\n",
       "    </tr>\n",
       "    <tr>\n",
       "      <th>4</th>\n",
       "      <td>Kellie</td>\n",
       "      <td>555.555.555-55</td>\n",
       "      <td>eget.dictum.placerat@necluctus.co.uk</td>\n",
       "      <td>38</td>\n",
       "    </tr>\n",
       "  </tbody>\n",
       "</table>\n",
       "</div>\n",
       "    <div class=\"colab-df-buttons\">\n",
       "\n",
       "  <div class=\"colab-df-container\">\n",
       "    <button class=\"colab-df-convert\" onclick=\"convertToInteractive('df-2d9fa0e8-a598-4b39-9c98-2150ee6a6a79')\"\n",
       "            title=\"Convert this dataframe to an interactive table.\"\n",
       "            style=\"display:none;\">\n",
       "\n",
       "  <svg xmlns=\"http://www.w3.org/2000/svg\" height=\"24px\" viewBox=\"0 -960 960 960\">\n",
       "    <path d=\"M120-120v-720h720v720H120Zm60-500h600v-160H180v160Zm220 220h160v-160H400v160Zm0 220h160v-160H400v160ZM180-400h160v-160H180v160Zm440 0h160v-160H620v160ZM180-180h160v-160H180v160Zm440 0h160v-160H620v160Z\"/>\n",
       "  </svg>\n",
       "    </button>\n",
       "\n",
       "  <style>\n",
       "    .colab-df-container {\n",
       "      display:flex;\n",
       "      gap: 12px;\n",
       "    }\n",
       "\n",
       "    .colab-df-convert {\n",
       "      background-color: #E8F0FE;\n",
       "      border: none;\n",
       "      border-radius: 50%;\n",
       "      cursor: pointer;\n",
       "      display: none;\n",
       "      fill: #1967D2;\n",
       "      height: 32px;\n",
       "      padding: 0 0 0 0;\n",
       "      width: 32px;\n",
       "    }\n",
       "\n",
       "    .colab-df-convert:hover {\n",
       "      background-color: #E2EBFA;\n",
       "      box-shadow: 0px 1px 2px rgba(60, 64, 67, 0.3), 0px 1px 3px 1px rgba(60, 64, 67, 0.15);\n",
       "      fill: #174EA6;\n",
       "    }\n",
       "\n",
       "    .colab-df-buttons div {\n",
       "      margin-bottom: 4px;\n",
       "    }\n",
       "\n",
       "    [theme=dark] .colab-df-convert {\n",
       "      background-color: #3B4455;\n",
       "      fill: #D2E3FC;\n",
       "    }\n",
       "\n",
       "    [theme=dark] .colab-df-convert:hover {\n",
       "      background-color: #434B5C;\n",
       "      box-shadow: 0px 1px 3px 1px rgba(0, 0, 0, 0.15);\n",
       "      filter: drop-shadow(0px 1px 2px rgba(0, 0, 0, 0.3));\n",
       "      fill: #FFFFFF;\n",
       "    }\n",
       "  </style>\n",
       "\n",
       "    <script>\n",
       "      const buttonEl =\n",
       "        document.querySelector('#df-2d9fa0e8-a598-4b39-9c98-2150ee6a6a79 button.colab-df-convert');\n",
       "      buttonEl.style.display =\n",
       "        google.colab.kernel.accessAllowed ? 'block' : 'none';\n",
       "\n",
       "      async function convertToInteractive(key) {\n",
       "        const element = document.querySelector('#df-2d9fa0e8-a598-4b39-9c98-2150ee6a6a79');\n",
       "        const dataTable =\n",
       "          await google.colab.kernel.invokeFunction('convertToInteractive',\n",
       "                                                    [key], {});\n",
       "        if (!dataTable) return;\n",
       "\n",
       "        const docLinkHtml = 'Like what you see? Visit the ' +\n",
       "          '<a target=\"_blank\" href=https://colab.research.google.com/notebooks/data_table.ipynb>data table notebook</a>'\n",
       "          + ' to learn more about interactive tables.';\n",
       "        element.innerHTML = '';\n",
       "        dataTable['output_type'] = 'display_data';\n",
       "        await google.colab.output.renderOutput(dataTable, element);\n",
       "        const docLink = document.createElement('div');\n",
       "        docLink.innerHTML = docLinkHtml;\n",
       "        element.appendChild(docLink);\n",
       "      }\n",
       "    </script>\n",
       "  </div>\n",
       "\n",
       "\n",
       "<div id=\"df-0b02e5a6-817a-473f-9671-3ed0b333250a\">\n",
       "  <button class=\"colab-df-quickchart\" onclick=\"quickchart('df-0b02e5a6-817a-473f-9671-3ed0b333250a')\"\n",
       "            title=\"Suggest charts.\"\n",
       "            style=\"display:none;\">\n",
       "\n",
       "<svg xmlns=\"http://www.w3.org/2000/svg\" height=\"24px\"viewBox=\"0 0 24 24\"\n",
       "     width=\"24px\">\n",
       "    <g>\n",
       "        <path d=\"M19 3H5c-1.1 0-2 .9-2 2v14c0 1.1.9 2 2 2h14c1.1 0 2-.9 2-2V5c0-1.1-.9-2-2-2zM9 17H7v-7h2v7zm4 0h-2V7h2v10zm4 0h-2v-4h2v4z\"/>\n",
       "    </g>\n",
       "</svg>\n",
       "  </button>\n",
       "\n",
       "<style>\n",
       "  .colab-df-quickchart {\n",
       "      --bg-color: #E8F0FE;\n",
       "      --fill-color: #1967D2;\n",
       "      --hover-bg-color: #E2EBFA;\n",
       "      --hover-fill-color: #174EA6;\n",
       "      --disabled-fill-color: #AAA;\n",
       "      --disabled-bg-color: #DDD;\n",
       "  }\n",
       "\n",
       "  [theme=dark] .colab-df-quickchart {\n",
       "      --bg-color: #3B4455;\n",
       "      --fill-color: #D2E3FC;\n",
       "      --hover-bg-color: #434B5C;\n",
       "      --hover-fill-color: #FFFFFF;\n",
       "      --disabled-bg-color: #3B4455;\n",
       "      --disabled-fill-color: #666;\n",
       "  }\n",
       "\n",
       "  .colab-df-quickchart {\n",
       "    background-color: var(--bg-color);\n",
       "    border: none;\n",
       "    border-radius: 50%;\n",
       "    cursor: pointer;\n",
       "    display: none;\n",
       "    fill: var(--fill-color);\n",
       "    height: 32px;\n",
       "    padding: 0;\n",
       "    width: 32px;\n",
       "  }\n",
       "\n",
       "  .colab-df-quickchart:hover {\n",
       "    background-color: var(--hover-bg-color);\n",
       "    box-shadow: 0 1px 2px rgba(60, 64, 67, 0.3), 0 1px 3px 1px rgba(60, 64, 67, 0.15);\n",
       "    fill: var(--button-hover-fill-color);\n",
       "  }\n",
       "\n",
       "  .colab-df-quickchart-complete:disabled,\n",
       "  .colab-df-quickchart-complete:disabled:hover {\n",
       "    background-color: var(--disabled-bg-color);\n",
       "    fill: var(--disabled-fill-color);\n",
       "    box-shadow: none;\n",
       "  }\n",
       "\n",
       "  .colab-df-spinner {\n",
       "    border: 2px solid var(--fill-color);\n",
       "    border-color: transparent;\n",
       "    border-bottom-color: var(--fill-color);\n",
       "    animation:\n",
       "      spin 1s steps(1) infinite;\n",
       "  }\n",
       "\n",
       "  @keyframes spin {\n",
       "    0% {\n",
       "      border-color: transparent;\n",
       "      border-bottom-color: var(--fill-color);\n",
       "      border-left-color: var(--fill-color);\n",
       "    }\n",
       "    20% {\n",
       "      border-color: transparent;\n",
       "      border-left-color: var(--fill-color);\n",
       "      border-top-color: var(--fill-color);\n",
       "    }\n",
       "    30% {\n",
       "      border-color: transparent;\n",
       "      border-left-color: var(--fill-color);\n",
       "      border-top-color: var(--fill-color);\n",
       "      border-right-color: var(--fill-color);\n",
       "    }\n",
       "    40% {\n",
       "      border-color: transparent;\n",
       "      border-right-color: var(--fill-color);\n",
       "      border-top-color: var(--fill-color);\n",
       "    }\n",
       "    60% {\n",
       "      border-color: transparent;\n",
       "      border-right-color: var(--fill-color);\n",
       "    }\n",
       "    80% {\n",
       "      border-color: transparent;\n",
       "      border-right-color: var(--fill-color);\n",
       "      border-bottom-color: var(--fill-color);\n",
       "    }\n",
       "    90% {\n",
       "      border-color: transparent;\n",
       "      border-bottom-color: var(--fill-color);\n",
       "    }\n",
       "  }\n",
       "</style>\n",
       "\n",
       "  <script>\n",
       "    async function quickchart(key) {\n",
       "      const quickchartButtonEl =\n",
       "        document.querySelector('#' + key + ' button');\n",
       "      quickchartButtonEl.disabled = true;  // To prevent multiple clicks.\n",
       "      quickchartButtonEl.classList.add('colab-df-spinner');\n",
       "      try {\n",
       "        const charts = await google.colab.kernel.invokeFunction(\n",
       "            'suggestCharts', [key], {});\n",
       "      } catch (error) {\n",
       "        console.error('Error during call to suggestCharts:', error);\n",
       "      }\n",
       "      quickchartButtonEl.classList.remove('colab-df-spinner');\n",
       "      quickchartButtonEl.classList.add('colab-df-quickchart-complete');\n",
       "    }\n",
       "    (() => {\n",
       "      let quickchartButtonEl =\n",
       "        document.querySelector('#df-0b02e5a6-817a-473f-9671-3ed0b333250a button');\n",
       "      quickchartButtonEl.style.display =\n",
       "        google.colab.kernel.accessAllowed ? 'block' : 'none';\n",
       "    })();\n",
       "  </script>\n",
       "</div>\n",
       "    </div>\n",
       "  </div>\n"
      ],
      "text/plain": [
       "    nomes            cpfs                                emails  idades\n",
       "0  Howard  111.111.111-11     risus.varius@dictumPhasellusin.ca      32\n",
       "1     Ian  222.222.222-22                     Nunc@vulputate.ca      22\n",
       "2   Peter  333.333.333-33           fames.ac.turpis@cursusa.org      25\n",
       "3   Jonah  444.444.444-44              non@felisullamcorper.org      29\n",
       "4  Kellie  555.555.555-55  eget.dictum.placerat@necluctus.co.uk      38"
      ]
     },
     "execution_count": 29,
     "metadata": {},
     "output_type": "execute_result"
    }
   ],
   "source": [
    "df_dados = pd.DataFrame(dados)\n",
    "df_dados"
   ]
  },
  {
   "cell_type": "markdown",
   "id": "97918698-124d-435c-a020-21c9fc2d92f1",
   "metadata": {
    "id": "97918698-124d-435c-a020-21c9fc2d92f1"
   },
   "source": [
    "## Extraindo informações de um DataFrame"
   ]
  },
  {
   "cell_type": "code",
   "execution_count": 30,
   "id": "7ba81df8-0e45-4876-b880-a3ae1718a224",
   "metadata": {
    "colab": {
     "base_uri": "https://localhost:8080/"
    },
    "executionInfo": {
     "elapsed": 429,
     "status": "ok",
     "timestamp": 1698085682743,
     "user": {
      "displayName": "Eduardo Furlan",
      "userId": "03823929547054463581"
     },
     "user_tz": 180
    },
    "id": "7ba81df8-0e45-4876-b880-a3ae1718a224",
    "outputId": "75373494-5317-4ec6-c5a2-a2080ebd2c44"
   },
   "outputs": [
    {
     "name": "stdout",
     "output_type": "stream",
     "text": [
      "<class 'pandas.core.frame.DataFrame'>\n",
      "RangeIndex: 5 entries, 0 to 4\n",
      "Data columns (total 4 columns):\n",
      " #   Column  Non-Null Count  Dtype \n",
      "---  ------  --------------  ----- \n",
      " 0   nomes   5 non-null      object\n",
      " 1   cpfs    5 non-null      object\n",
      " 2   emails  5 non-null      object\n",
      " 3   idades  5 non-null      int64 \n",
      "dtypes: int64(1), object(3)\n",
      "memory usage: 288.0+ bytes\n",
      "None\n"
     ]
    }
   ],
   "source": [
    "print(df_dados.info())"
   ]
  },
  {
   "cell_type": "code",
   "execution_count": 35,
   "id": "fb7ca10a-f607-4a73-ad70-006617663525",
   "metadata": {
    "colab": {
     "base_uri": "https://localhost:8080/"
    },
    "executionInfo": {
     "elapsed": 410,
     "status": "ok",
     "timestamp": 1698085722568,
     "user": {
      "displayName": "Eduardo Furlan",
      "userId": "03823929547054463581"
     },
     "user_tz": 180
    },
    "id": "fb7ca10a-f607-4a73-ad70-006617663525",
    "outputId": "a47ce2f8-ea05-44e1-dd10-530fcd0dd8a1"
   },
   "outputs": [
    {
     "name": "stdout",
     "output_type": "stream",
     "text": [
      "Quantidade de linhas e colunas =  (5, 4)\n"
     ]
    }
   ],
   "source": [
    "print('Quantidade de linhas e colunas = ', df_dados.shape)"
   ]
  },
  {
   "cell_type": "code",
   "execution_count": 38,
   "id": "862392ef-2531-4a33-a245-2c82c0a7d013",
   "metadata": {
    "colab": {
     "base_uri": "https://localhost:8080/"
    },
    "executionInfo": {
     "elapsed": 394,
     "status": "ok",
     "timestamp": 1698085752955,
     "user": {
      "displayName": "Eduardo Furlan",
      "userId": "03823929547054463581"
     },
     "user_tz": 180
    },
    "id": "862392ef-2531-4a33-a245-2c82c0a7d013",
    "outputId": "9deb631f-d487-4916-b9e8-a63727035c90"
   },
   "outputs": [
    {
     "name": "stdout",
     "output_type": "stream",
     "text": [
      "Tipo de dados:\n",
      " nomes     object\n",
      "cpfs      object\n",
      "emails    object\n",
      "idades     int64\n",
      "dtype: object\n"
     ]
    }
   ],
   "source": [
    "print('Tipo de dados:\\n', df_dados.dtypes)"
   ]
  },
  {
   "cell_type": "code",
   "execution_count": 39,
   "id": "37549980-9bcf-4987-9025-f28ff98faeb2",
   "metadata": {
    "colab": {
     "base_uri": "https://localhost:8080/"
    },
    "executionInfo": {
     "elapsed": 407,
     "status": "ok",
     "timestamp": 1698085758260,
     "user": {
      "displayName": "Eduardo Furlan",
      "userId": "03823929547054463581"
     },
     "user_tz": 180
    },
    "id": "37549980-9bcf-4987-9025-f28ff98faeb2",
    "outputId": "e7e5ec1c-3d8e-47b1-92e0-990df6ed0f3a"
   },
   "outputs": [
    {
     "name": "stdout",
     "output_type": "stream",
     "text": [
      "Qual o menor valor de cada coluna?\n",
      " nomes                Howard\n",
      "cpfs         111.111.111-11\n",
      "emails    Nunc@vulputate.ca\n",
      "idades                   22\n",
      "dtype: object\n"
     ]
    }
   ],
   "source": [
    "print('Qual o menor valor de cada coluna?\\n', df_dados.min())"
   ]
  },
  {
   "cell_type": "code",
   "execution_count": 40,
   "id": "8926c6e8-dd77-4aa6-8e62-b17637c41e34",
   "metadata": {
    "colab": {
     "base_uri": "https://localhost:8080/"
    },
    "executionInfo": {
     "elapsed": 389,
     "status": "ok",
     "timestamp": 1698085766198,
     "user": {
      "displayName": "Eduardo Furlan",
      "userId": "03823929547054463581"
     },
     "user_tz": 180
    },
    "id": "8926c6e8-dd77-4aa6-8e62-b17637c41e34",
    "outputId": "a5dbfb92-a1fc-4570-d77b-bc79f5f80919"
   },
   "outputs": [
    {
     "name": "stdout",
     "output_type": "stream",
     "text": [
      "Qual o maior valor?\n",
      " nomes                                 Peter\n",
      "cpfs                         555.555.555-55\n",
      "emails    risus.varius@dictumPhasellusin.ca\n",
      "idades                                   38\n",
      "dtype: object\n"
     ]
    }
   ],
   "source": [
    "print('Qual o maior valor?\\n', df_dados.max())"
   ]
  },
  {
   "cell_type": "code",
   "execution_count": 41,
   "id": "2cc9676f-6bd6-4908-8500-f6afe5598447",
   "metadata": {
    "colab": {
     "base_uri": "https://localhost:8080/"
    },
    "executionInfo": {
     "elapsed": 395,
     "status": "ok",
     "timestamp": 1698085773338,
     "user": {
      "displayName": "Eduardo Furlan",
      "userId": "03823929547054463581"
     },
     "user_tz": 180
    },
    "id": "2cc9676f-6bd6-4908-8500-f6afe5598447",
    "outputId": "6e1332e2-cdf2-4f10-b662-d41d7815d30d"
   },
   "outputs": [
    {
     "name": "stdout",
     "output_type": "stream",
     "text": [
      "Resumo:\n",
      "           idades\n",
      "count   5.000000\n",
      "mean   29.200000\n",
      "std     6.220932\n",
      "min    22.000000\n",
      "25%    25.000000\n",
      "50%    29.000000\n",
      "75%    32.000000\n",
      "max    38.000000\n"
     ]
    }
   ],
   "source": [
    "print('Resumo:\\n', df_dados.describe())"
   ]
  },
  {
   "cell_type": "markdown",
   "id": "20d62ca0-9633-4a7f-86fb-ab0d138365ba",
   "metadata": {
    "id": "20d62ca0-9633-4a7f-86fb-ab0d138365ba"
   },
   "source": [
    "---"
   ]
  },
  {
   "cell_type": "code",
   "execution_count": 43,
   "id": "d197eed4-ed24-48fd-89ca-e61ee4241166",
   "metadata": {
    "colab": {
     "base_uri": "https://localhost:8080/"
    },
    "executionInfo": {
     "elapsed": 416,
     "status": "ok",
     "timestamp": 1698085806554,
     "user": {
      "displayName": "Eduardo Furlan",
      "userId": "03823929547054463581"
     },
     "user_tz": 180
    },
    "id": "d197eed4-ed24-48fd-89ca-e61ee4241166",
    "outputId": "88d2d90d-8e01-424b-a12f-2f6cd024d6c4"
   },
   "outputs": [
    {
     "data": {
      "text/plain": [
       "{'idades': [32, 22, 25, 29, 38]}"
      ]
     },
     "execution_count": 43,
     "metadata": {},
     "output_type": "execute_result"
    }
   ],
   "source": [
    "dados = { \"idades\": [32, 22, 25, 29, 38] }\n",
    "dados"
   ]
  },
  {
   "cell_type": "code",
   "execution_count": 44,
   "id": "dd7a8049-6506-4271-876b-61639ce0dc49",
   "metadata": {
    "colab": {
     "base_uri": "https://localhost:8080/",
     "height": 206
    },
    "executionInfo": {
     "elapsed": 426,
     "status": "ok",
     "timestamp": 1698085810846,
     "user": {
      "displayName": "Eduardo Furlan",
      "userId": "03823929547054463581"
     },
     "user_tz": 180
    },
    "id": "dd7a8049-6506-4271-876b-61639ce0dc49",
    "outputId": "03b600a7-49cb-4e35-8bb6-82346556b22b"
   },
   "outputs": [
    {
     "data": {
      "text/html": [
       "\n",
       "  <div id=\"df-02185a92-5c54-43b7-bf5d-af5bda15f1da\" class=\"colab-df-container\">\n",
       "    <div>\n",
       "<style scoped>\n",
       "    .dataframe tbody tr th:only-of-type {\n",
       "        vertical-align: middle;\n",
       "    }\n",
       "\n",
       "    .dataframe tbody tr th {\n",
       "        vertical-align: top;\n",
       "    }\n",
       "\n",
       "    .dataframe thead th {\n",
       "        text-align: right;\n",
       "    }\n",
       "</style>\n",
       "<table border=\"1\" class=\"dataframe\">\n",
       "  <thead>\n",
       "    <tr style=\"text-align: right;\">\n",
       "      <th></th>\n",
       "      <th>idades</th>\n",
       "    </tr>\n",
       "  </thead>\n",
       "  <tbody>\n",
       "    <tr>\n",
       "      <th>0</th>\n",
       "      <td>32</td>\n",
       "    </tr>\n",
       "    <tr>\n",
       "      <th>1</th>\n",
       "      <td>22</td>\n",
       "    </tr>\n",
       "    <tr>\n",
       "      <th>2</th>\n",
       "      <td>25</td>\n",
       "    </tr>\n",
       "    <tr>\n",
       "      <th>3</th>\n",
       "      <td>29</td>\n",
       "    </tr>\n",
       "    <tr>\n",
       "      <th>4</th>\n",
       "      <td>38</td>\n",
       "    </tr>\n",
       "  </tbody>\n",
       "</table>\n",
       "</div>\n",
       "    <div class=\"colab-df-buttons\">\n",
       "\n",
       "  <div class=\"colab-df-container\">\n",
       "    <button class=\"colab-df-convert\" onclick=\"convertToInteractive('df-02185a92-5c54-43b7-bf5d-af5bda15f1da')\"\n",
       "            title=\"Convert this dataframe to an interactive table.\"\n",
       "            style=\"display:none;\">\n",
       "\n",
       "  <svg xmlns=\"http://www.w3.org/2000/svg\" height=\"24px\" viewBox=\"0 -960 960 960\">\n",
       "    <path d=\"M120-120v-720h720v720H120Zm60-500h600v-160H180v160Zm220 220h160v-160H400v160Zm0 220h160v-160H400v160ZM180-400h160v-160H180v160Zm440 0h160v-160H620v160ZM180-180h160v-160H180v160Zm440 0h160v-160H620v160Z\"/>\n",
       "  </svg>\n",
       "    </button>\n",
       "\n",
       "  <style>\n",
       "    .colab-df-container {\n",
       "      display:flex;\n",
       "      gap: 12px;\n",
       "    }\n",
       "\n",
       "    .colab-df-convert {\n",
       "      background-color: #E8F0FE;\n",
       "      border: none;\n",
       "      border-radius: 50%;\n",
       "      cursor: pointer;\n",
       "      display: none;\n",
       "      fill: #1967D2;\n",
       "      height: 32px;\n",
       "      padding: 0 0 0 0;\n",
       "      width: 32px;\n",
       "    }\n",
       "\n",
       "    .colab-df-convert:hover {\n",
       "      background-color: #E2EBFA;\n",
       "      box-shadow: 0px 1px 2px rgba(60, 64, 67, 0.3), 0px 1px 3px 1px rgba(60, 64, 67, 0.15);\n",
       "      fill: #174EA6;\n",
       "    }\n",
       "\n",
       "    .colab-df-buttons div {\n",
       "      margin-bottom: 4px;\n",
       "    }\n",
       "\n",
       "    [theme=dark] .colab-df-convert {\n",
       "      background-color: #3B4455;\n",
       "      fill: #D2E3FC;\n",
       "    }\n",
       "\n",
       "    [theme=dark] .colab-df-convert:hover {\n",
       "      background-color: #434B5C;\n",
       "      box-shadow: 0px 1px 3px 1px rgba(0, 0, 0, 0.15);\n",
       "      filter: drop-shadow(0px 1px 2px rgba(0, 0, 0, 0.3));\n",
       "      fill: #FFFFFF;\n",
       "    }\n",
       "  </style>\n",
       "\n",
       "    <script>\n",
       "      const buttonEl =\n",
       "        document.querySelector('#df-02185a92-5c54-43b7-bf5d-af5bda15f1da button.colab-df-convert');\n",
       "      buttonEl.style.display =\n",
       "        google.colab.kernel.accessAllowed ? 'block' : 'none';\n",
       "\n",
       "      async function convertToInteractive(key) {\n",
       "        const element = document.querySelector('#df-02185a92-5c54-43b7-bf5d-af5bda15f1da');\n",
       "        const dataTable =\n",
       "          await google.colab.kernel.invokeFunction('convertToInteractive',\n",
       "                                                    [key], {});\n",
       "        if (!dataTable) return;\n",
       "\n",
       "        const docLinkHtml = 'Like what you see? Visit the ' +\n",
       "          '<a target=\"_blank\" href=https://colab.research.google.com/notebooks/data_table.ipynb>data table notebook</a>'\n",
       "          + ' to learn more about interactive tables.';\n",
       "        element.innerHTML = '';\n",
       "        dataTable['output_type'] = 'display_data';\n",
       "        await google.colab.output.renderOutput(dataTable, element);\n",
       "        const docLink = document.createElement('div');\n",
       "        docLink.innerHTML = docLinkHtml;\n",
       "        element.appendChild(docLink);\n",
       "      }\n",
       "    </script>\n",
       "  </div>\n",
       "\n",
       "\n",
       "<div id=\"df-da10e790-7b28-460b-9950-fa2a1e77649c\">\n",
       "  <button class=\"colab-df-quickchart\" onclick=\"quickchart('df-da10e790-7b28-460b-9950-fa2a1e77649c')\"\n",
       "            title=\"Suggest charts.\"\n",
       "            style=\"display:none;\">\n",
       "\n",
       "<svg xmlns=\"http://www.w3.org/2000/svg\" height=\"24px\"viewBox=\"0 0 24 24\"\n",
       "     width=\"24px\">\n",
       "    <g>\n",
       "        <path d=\"M19 3H5c-1.1 0-2 .9-2 2v14c0 1.1.9 2 2 2h14c1.1 0 2-.9 2-2V5c0-1.1-.9-2-2-2zM9 17H7v-7h2v7zm4 0h-2V7h2v10zm4 0h-2v-4h2v4z\"/>\n",
       "    </g>\n",
       "</svg>\n",
       "  </button>\n",
       "\n",
       "<style>\n",
       "  .colab-df-quickchart {\n",
       "      --bg-color: #E8F0FE;\n",
       "      --fill-color: #1967D2;\n",
       "      --hover-bg-color: #E2EBFA;\n",
       "      --hover-fill-color: #174EA6;\n",
       "      --disabled-fill-color: #AAA;\n",
       "      --disabled-bg-color: #DDD;\n",
       "  }\n",
       "\n",
       "  [theme=dark] .colab-df-quickchart {\n",
       "      --bg-color: #3B4455;\n",
       "      --fill-color: #D2E3FC;\n",
       "      --hover-bg-color: #434B5C;\n",
       "      --hover-fill-color: #FFFFFF;\n",
       "      --disabled-bg-color: #3B4455;\n",
       "      --disabled-fill-color: #666;\n",
       "  }\n",
       "\n",
       "  .colab-df-quickchart {\n",
       "    background-color: var(--bg-color);\n",
       "    border: none;\n",
       "    border-radius: 50%;\n",
       "    cursor: pointer;\n",
       "    display: none;\n",
       "    fill: var(--fill-color);\n",
       "    height: 32px;\n",
       "    padding: 0;\n",
       "    width: 32px;\n",
       "  }\n",
       "\n",
       "  .colab-df-quickchart:hover {\n",
       "    background-color: var(--hover-bg-color);\n",
       "    box-shadow: 0 1px 2px rgba(60, 64, 67, 0.3), 0 1px 3px 1px rgba(60, 64, 67, 0.15);\n",
       "    fill: var(--button-hover-fill-color);\n",
       "  }\n",
       "\n",
       "  .colab-df-quickchart-complete:disabled,\n",
       "  .colab-df-quickchart-complete:disabled:hover {\n",
       "    background-color: var(--disabled-bg-color);\n",
       "    fill: var(--disabled-fill-color);\n",
       "    box-shadow: none;\n",
       "  }\n",
       "\n",
       "  .colab-df-spinner {\n",
       "    border: 2px solid var(--fill-color);\n",
       "    border-color: transparent;\n",
       "    border-bottom-color: var(--fill-color);\n",
       "    animation:\n",
       "      spin 1s steps(1) infinite;\n",
       "  }\n",
       "\n",
       "  @keyframes spin {\n",
       "    0% {\n",
       "      border-color: transparent;\n",
       "      border-bottom-color: var(--fill-color);\n",
       "      border-left-color: var(--fill-color);\n",
       "    }\n",
       "    20% {\n",
       "      border-color: transparent;\n",
       "      border-left-color: var(--fill-color);\n",
       "      border-top-color: var(--fill-color);\n",
       "    }\n",
       "    30% {\n",
       "      border-color: transparent;\n",
       "      border-left-color: var(--fill-color);\n",
       "      border-top-color: var(--fill-color);\n",
       "      border-right-color: var(--fill-color);\n",
       "    }\n",
       "    40% {\n",
       "      border-color: transparent;\n",
       "      border-right-color: var(--fill-color);\n",
       "      border-top-color: var(--fill-color);\n",
       "    }\n",
       "    60% {\n",
       "      border-color: transparent;\n",
       "      border-right-color: var(--fill-color);\n",
       "    }\n",
       "    80% {\n",
       "      border-color: transparent;\n",
       "      border-right-color: var(--fill-color);\n",
       "      border-bottom-color: var(--fill-color);\n",
       "    }\n",
       "    90% {\n",
       "      border-color: transparent;\n",
       "      border-bottom-color: var(--fill-color);\n",
       "    }\n",
       "  }\n",
       "</style>\n",
       "\n",
       "  <script>\n",
       "    async function quickchart(key) {\n",
       "      const quickchartButtonEl =\n",
       "        document.querySelector('#' + key + ' button');\n",
       "      quickchartButtonEl.disabled = true;  // To prevent multiple clicks.\n",
       "      quickchartButtonEl.classList.add('colab-df-spinner');\n",
       "      try {\n",
       "        const charts = await google.colab.kernel.invokeFunction(\n",
       "            'suggestCharts', [key], {});\n",
       "      } catch (error) {\n",
       "        console.error('Error during call to suggestCharts:', error);\n",
       "      }\n",
       "      quickchartButtonEl.classList.remove('colab-df-spinner');\n",
       "      quickchartButtonEl.classList.add('colab-df-quickchart-complete');\n",
       "    }\n",
       "    (() => {\n",
       "      let quickchartButtonEl =\n",
       "        document.querySelector('#df-da10e790-7b28-460b-9950-fa2a1e77649c button');\n",
       "      quickchartButtonEl.style.display =\n",
       "        google.colab.kernel.accessAllowed ? 'block' : 'none';\n",
       "    })();\n",
       "  </script>\n",
       "</div>\n",
       "    </div>\n",
       "  </div>\n"
      ],
      "text/plain": [
       "   idades\n",
       "0      32\n",
       "1      22\n",
       "2      25\n",
       "3      29\n",
       "4      38"
      ]
     },
     "execution_count": 44,
     "metadata": {},
     "output_type": "execute_result"
    }
   ],
   "source": [
    "df_dados = pd.DataFrame(dados)\n",
    "df_dados"
   ]
  },
  {
   "cell_type": "code",
   "execution_count": 45,
   "id": "8f04fceb-87a0-42c7-a361-8e5773e4b228",
   "metadata": {
    "colab": {
     "base_uri": "https://localhost:8080/"
    },
    "executionInfo": {
     "elapsed": 410,
     "status": "ok",
     "timestamp": 1698085829375,
     "user": {
      "displayName": "Eduardo Furlan",
      "userId": "03823929547054463581"
     },
     "user_tz": 180
    },
    "id": "8f04fceb-87a0-42c7-a361-8e5773e4b228",
    "outputId": "ac7ce4e6-51a8-4d3a-edc4-24226b360b79"
   },
   "outputs": [
    {
     "name": "stdout",
     "output_type": "stream",
     "text": [
      "Qual a média aritmética?\n",
      " idades    29.2\n",
      "dtype: float64\n"
     ]
    }
   ],
   "source": [
    "print('Qual a média aritmética?\\n', df_dados.mean())"
   ]
  },
  {
   "cell_type": "code",
   "execution_count": 46,
   "id": "64fe4a10-6cf5-42ea-8e2e-bcabae1ca71c",
   "metadata": {
    "colab": {
     "base_uri": "https://localhost:8080/"
    },
    "executionInfo": {
     "elapsed": 484,
     "status": "ok",
     "timestamp": 1698085833196,
     "user": {
      "displayName": "Eduardo Furlan",
      "userId": "03823929547054463581"
     },
     "user_tz": 180
    },
    "id": "64fe4a10-6cf5-42ea-8e2e-bcabae1ca71c",
    "outputId": "0f78663d-4e51-4de7-c055-5f454633dff7"
   },
   "outputs": [
    {
     "name": "stdout",
     "output_type": "stream",
     "text": [
      "Qual o desvio padrão?\n",
      " idades    6.220932\n",
      "dtype: float64\n"
     ]
    }
   ],
   "source": [
    "print('Qual o desvio padrão?\\n', df_dados.std())"
   ]
  },
  {
   "cell_type": "code",
   "execution_count": 47,
   "id": "981f5b6d-8f3f-4a1b-a570-69703ee29ba3",
   "metadata": {
    "colab": {
     "base_uri": "https://localhost:8080/"
    },
    "executionInfo": {
     "elapsed": 483,
     "status": "ok",
     "timestamp": 1698085838422,
     "user": {
      "displayName": "Eduardo Furlan",
      "userId": "03823929547054463581"
     },
     "user_tz": 180
    },
    "id": "981f5b6d-8f3f-4a1b-a570-69703ee29ba3",
    "outputId": "c2c25c4f-2348-4706-a2c5-5894a7237c87"
   },
   "outputs": [
    {
     "name": "stdout",
     "output_type": "stream",
     "text": [
      "Qual a mediana?\n",
      " idades    29.0\n",
      "dtype: float64\n"
     ]
    }
   ],
   "source": [
    "print('Qual a mediana?\\n', df_dados.median())"
   ]
  },
  {
   "cell_type": "markdown",
   "id": "dc3164e5-99c1-46f6-be9f-788175a246cf",
   "metadata": {
    "id": "dc3164e5-99c1-46f6-be9f-788175a246cf"
   },
   "source": [
    "## Seleção de colunas em um DataFrame"
   ]
  },
  {
   "cell_type": "code",
   "execution_count": 48,
   "id": "a3173e89-8c2a-459d-bc69-14f3a4cc289d",
   "metadata": {
    "executionInfo": {
     "elapsed": 408,
     "status": "ok",
     "timestamp": 1698085885179,
     "user": {
      "displayName": "Eduardo Furlan",
      "userId": "03823929547054463581"
     },
     "user_tz": 180
    },
    "id": "a3173e89-8c2a-459d-bc69-14f3a4cc289d"
   },
   "outputs": [],
   "source": [
    "dados = {\n",
    "    \"nomes\": \"Howard Ian Peter Jonah Kellie\".split(),\n",
    "    \"cpfs\": \"\"\"111.111.111-11 222.222.222-22 333.333.333-33\n",
    "        444.444.444-44 555.555.555-55\"\"\".split(),\n",
    "    \"emails\": \"\"\"risus.varius@dictumPhasellusin.ca Nunc@vulputate.ca\n",
    "        fames.ac.turpis@cursusa.org non@felisullamcorper.org\n",
    "        eget.dictum.placerat@necluctus.co.uk\"\"\".split(),\n",
    "    \"idades\": [32, 22, 25, 29, 38],\n",
    "}"
   ]
  },
  {
   "cell_type": "code",
   "execution_count": 49,
   "id": "746b6b02-589a-47d7-9b12-a56bb83ceb11",
   "metadata": {
    "executionInfo": {
     "elapsed": 394,
     "status": "ok",
     "timestamp": 1698085889028,
     "user": {
      "displayName": "Eduardo Furlan",
      "userId": "03823929547054463581"
     },
     "user_tz": 180
    },
    "id": "746b6b02-589a-47d7-9b12-a56bb83ceb11"
   },
   "outputs": [],
   "source": [
    "df_dados = pd.DataFrame(dados)"
   ]
  },
  {
   "cell_type": "markdown",
   "id": "554b58bc-2310-472c-b41a-b063645686ff",
   "metadata": {
    "id": "554b58bc-2310-472c-b41a-b063645686ff"
   },
   "source": [
    "Seleciona a coluna \"idades\":"
   ]
  },
  {
   "cell_type": "code",
   "execution_count": 50,
   "id": "35b72f88-b8bb-4678-8a54-eb033263d775",
   "metadata": {
    "colab": {
     "base_uri": "https://localhost:8080/"
    },
    "executionInfo": {
     "elapsed": 405,
     "status": "ok",
     "timestamp": 1698085892729,
     "user": {
      "displayName": "Eduardo Furlan",
      "userId": "03823929547054463581"
     },
     "user_tz": 180
    },
    "id": "35b72f88-b8bb-4678-8a54-eb033263d775",
    "outputId": "87bead0c-6994-404f-c488-2daa971633ce"
   },
   "outputs": [
    {
     "data": {
      "text/plain": [
       "0    32\n",
       "1    22\n",
       "2    25\n",
       "3    29\n",
       "4    38\n",
       "Name: idades, dtype: int64"
      ]
     },
     "execution_count": 50,
     "metadata": {},
     "output_type": "execute_result"
    }
   ],
   "source": [
    "df_dados[\"idades\"]"
   ]
  },
  {
   "cell_type": "markdown",
   "id": "49011c53-a7b9-4fea-add6-b571783bf12f",
   "metadata": {
    "id": "49011c53-a7b9-4fea-add6-b571783bf12f"
   },
   "source": [
    "Média da coluna:"
   ]
  },
  {
   "cell_type": "code",
   "execution_count": 51,
   "id": "8106434d-19ae-4232-9180-0ce76a40bf62",
   "metadata": {
    "colab": {
     "base_uri": "https://localhost:8080/"
    },
    "executionInfo": {
     "elapsed": 454,
     "status": "ok",
     "timestamp": 1698085895966,
     "user": {
      "displayName": "Eduardo Furlan",
      "userId": "03823929547054463581"
     },
     "user_tz": 180
    },
    "id": "8106434d-19ae-4232-9180-0ce76a40bf62",
    "outputId": "e415ba94-44f2-41b7-d549-54cd47f3296e"
   },
   "outputs": [
    {
     "data": {
      "text/plain": [
       "29.2"
      ]
     },
     "execution_count": 51,
     "metadata": {},
     "output_type": "execute_result"
    }
   ],
   "source": [
    "df_dados[\"idades\"].mean()"
   ]
  },
  {
   "cell_type": "code",
   "execution_count": 53,
   "id": "ebb3cd88-378c-4ac3-9e06-242874995257",
   "metadata": {
    "colab": {
     "base_uri": "https://localhost:8080/"
    },
    "executionInfo": {
     "elapsed": 439,
     "status": "ok",
     "timestamp": 1698085911168,
     "user": {
      "displayName": "Eduardo Furlan",
      "userId": "03823929547054463581"
     },
     "user_tz": 180
    },
    "id": "ebb3cd88-378c-4ac3-9e06-242874995257",
    "outputId": "93862616-a07c-4c5e-969d-01dac122c177"
   },
   "outputs": [
    {
     "data": {
      "text/plain": [
       "['nomes', 'cpfs']"
      ]
     },
     "execution_count": 53,
     "metadata": {},
     "output_type": "execute_result"
    }
   ],
   "source": [
    "colunas = ['nomes', 'cpfs']\n",
    "colunas"
   ]
  },
  {
   "cell_type": "code",
   "execution_count": 55,
   "id": "1fc73a28-e84a-4a15-a9d2-6ec02f45c406",
   "metadata": {
    "colab": {
     "base_uri": "https://localhost:8080/",
     "height": 206
    },
    "executionInfo": {
     "elapsed": 522,
     "status": "ok",
     "timestamp": 1698085929438,
     "user": {
      "displayName": "Eduardo Furlan",
      "userId": "03823929547054463581"
     },
     "user_tz": 180
    },
    "id": "1fc73a28-e84a-4a15-a9d2-6ec02f45c406",
    "outputId": "ad6a8121-be5d-442d-bf3b-bf25538436a8"
   },
   "outputs": [
    {
     "data": {
      "text/html": [
       "\n",
       "  <div id=\"df-12466f97-f765-4547-b50b-e23e1e939c01\" class=\"colab-df-container\">\n",
       "    <div>\n",
       "<style scoped>\n",
       "    .dataframe tbody tr th:only-of-type {\n",
       "        vertical-align: middle;\n",
       "    }\n",
       "\n",
       "    .dataframe tbody tr th {\n",
       "        vertical-align: top;\n",
       "    }\n",
       "\n",
       "    .dataframe thead th {\n",
       "        text-align: right;\n",
       "    }\n",
       "</style>\n",
       "<table border=\"1\" class=\"dataframe\">\n",
       "  <thead>\n",
       "    <tr style=\"text-align: right;\">\n",
       "      <th></th>\n",
       "      <th>nomes</th>\n",
       "      <th>cpfs</th>\n",
       "    </tr>\n",
       "  </thead>\n",
       "  <tbody>\n",
       "    <tr>\n",
       "      <th>0</th>\n",
       "      <td>Howard</td>\n",
       "      <td>111.111.111-11</td>\n",
       "    </tr>\n",
       "    <tr>\n",
       "      <th>1</th>\n",
       "      <td>Ian</td>\n",
       "      <td>222.222.222-22</td>\n",
       "    </tr>\n",
       "    <tr>\n",
       "      <th>2</th>\n",
       "      <td>Peter</td>\n",
       "      <td>333.333.333-33</td>\n",
       "    </tr>\n",
       "    <tr>\n",
       "      <th>3</th>\n",
       "      <td>Jonah</td>\n",
       "      <td>444.444.444-44</td>\n",
       "    </tr>\n",
       "    <tr>\n",
       "      <th>4</th>\n",
       "      <td>Kellie</td>\n",
       "      <td>555.555.555-55</td>\n",
       "    </tr>\n",
       "  </tbody>\n",
       "</table>\n",
       "</div>\n",
       "    <div class=\"colab-df-buttons\">\n",
       "\n",
       "  <div class=\"colab-df-container\">\n",
       "    <button class=\"colab-df-convert\" onclick=\"convertToInteractive('df-12466f97-f765-4547-b50b-e23e1e939c01')\"\n",
       "            title=\"Convert this dataframe to an interactive table.\"\n",
       "            style=\"display:none;\">\n",
       "\n",
       "  <svg xmlns=\"http://www.w3.org/2000/svg\" height=\"24px\" viewBox=\"0 -960 960 960\">\n",
       "    <path d=\"M120-120v-720h720v720H120Zm60-500h600v-160H180v160Zm220 220h160v-160H400v160Zm0 220h160v-160H400v160ZM180-400h160v-160H180v160Zm440 0h160v-160H620v160ZM180-180h160v-160H180v160Zm440 0h160v-160H620v160Z\"/>\n",
       "  </svg>\n",
       "    </button>\n",
       "\n",
       "  <style>\n",
       "    .colab-df-container {\n",
       "      display:flex;\n",
       "      gap: 12px;\n",
       "    }\n",
       "\n",
       "    .colab-df-convert {\n",
       "      background-color: #E8F0FE;\n",
       "      border: none;\n",
       "      border-radius: 50%;\n",
       "      cursor: pointer;\n",
       "      display: none;\n",
       "      fill: #1967D2;\n",
       "      height: 32px;\n",
       "      padding: 0 0 0 0;\n",
       "      width: 32px;\n",
       "    }\n",
       "\n",
       "    .colab-df-convert:hover {\n",
       "      background-color: #E2EBFA;\n",
       "      box-shadow: 0px 1px 2px rgba(60, 64, 67, 0.3), 0px 1px 3px 1px rgba(60, 64, 67, 0.15);\n",
       "      fill: #174EA6;\n",
       "    }\n",
       "\n",
       "    .colab-df-buttons div {\n",
       "      margin-bottom: 4px;\n",
       "    }\n",
       "\n",
       "    [theme=dark] .colab-df-convert {\n",
       "      background-color: #3B4455;\n",
       "      fill: #D2E3FC;\n",
       "    }\n",
       "\n",
       "    [theme=dark] .colab-df-convert:hover {\n",
       "      background-color: #434B5C;\n",
       "      box-shadow: 0px 1px 3px 1px rgba(0, 0, 0, 0.15);\n",
       "      filter: drop-shadow(0px 1px 2px rgba(0, 0, 0, 0.3));\n",
       "      fill: #FFFFFF;\n",
       "    }\n",
       "  </style>\n",
       "\n",
       "    <script>\n",
       "      const buttonEl =\n",
       "        document.querySelector('#df-12466f97-f765-4547-b50b-e23e1e939c01 button.colab-df-convert');\n",
       "      buttonEl.style.display =\n",
       "        google.colab.kernel.accessAllowed ? 'block' : 'none';\n",
       "\n",
       "      async function convertToInteractive(key) {\n",
       "        const element = document.querySelector('#df-12466f97-f765-4547-b50b-e23e1e939c01');\n",
       "        const dataTable =\n",
       "          await google.colab.kernel.invokeFunction('convertToInteractive',\n",
       "                                                    [key], {});\n",
       "        if (!dataTable) return;\n",
       "\n",
       "        const docLinkHtml = 'Like what you see? Visit the ' +\n",
       "          '<a target=\"_blank\" href=https://colab.research.google.com/notebooks/data_table.ipynb>data table notebook</a>'\n",
       "          + ' to learn more about interactive tables.';\n",
       "        element.innerHTML = '';\n",
       "        dataTable['output_type'] = 'display_data';\n",
       "        await google.colab.output.renderOutput(dataTable, element);\n",
       "        const docLink = document.createElement('div');\n",
       "        docLink.innerHTML = docLinkHtml;\n",
       "        element.appendChild(docLink);\n",
       "      }\n",
       "    </script>\n",
       "  </div>\n",
       "\n",
       "\n",
       "<div id=\"df-9d10089c-1443-4b39-80af-575ce15adc22\">\n",
       "  <button class=\"colab-df-quickchart\" onclick=\"quickchart('df-9d10089c-1443-4b39-80af-575ce15adc22')\"\n",
       "            title=\"Suggest charts.\"\n",
       "            style=\"display:none;\">\n",
       "\n",
       "<svg xmlns=\"http://www.w3.org/2000/svg\" height=\"24px\"viewBox=\"0 0 24 24\"\n",
       "     width=\"24px\">\n",
       "    <g>\n",
       "        <path d=\"M19 3H5c-1.1 0-2 .9-2 2v14c0 1.1.9 2 2 2h14c1.1 0 2-.9 2-2V5c0-1.1-.9-2-2-2zM9 17H7v-7h2v7zm4 0h-2V7h2v10zm4 0h-2v-4h2v4z\"/>\n",
       "    </g>\n",
       "</svg>\n",
       "  </button>\n",
       "\n",
       "<style>\n",
       "  .colab-df-quickchart {\n",
       "      --bg-color: #E8F0FE;\n",
       "      --fill-color: #1967D2;\n",
       "      --hover-bg-color: #E2EBFA;\n",
       "      --hover-fill-color: #174EA6;\n",
       "      --disabled-fill-color: #AAA;\n",
       "      --disabled-bg-color: #DDD;\n",
       "  }\n",
       "\n",
       "  [theme=dark] .colab-df-quickchart {\n",
       "      --bg-color: #3B4455;\n",
       "      --fill-color: #D2E3FC;\n",
       "      --hover-bg-color: #434B5C;\n",
       "      --hover-fill-color: #FFFFFF;\n",
       "      --disabled-bg-color: #3B4455;\n",
       "      --disabled-fill-color: #666;\n",
       "  }\n",
       "\n",
       "  .colab-df-quickchart {\n",
       "    background-color: var(--bg-color);\n",
       "    border: none;\n",
       "    border-radius: 50%;\n",
       "    cursor: pointer;\n",
       "    display: none;\n",
       "    fill: var(--fill-color);\n",
       "    height: 32px;\n",
       "    padding: 0;\n",
       "    width: 32px;\n",
       "  }\n",
       "\n",
       "  .colab-df-quickchart:hover {\n",
       "    background-color: var(--hover-bg-color);\n",
       "    box-shadow: 0 1px 2px rgba(60, 64, 67, 0.3), 0 1px 3px 1px rgba(60, 64, 67, 0.15);\n",
       "    fill: var(--button-hover-fill-color);\n",
       "  }\n",
       "\n",
       "  .colab-df-quickchart-complete:disabled,\n",
       "  .colab-df-quickchart-complete:disabled:hover {\n",
       "    background-color: var(--disabled-bg-color);\n",
       "    fill: var(--disabled-fill-color);\n",
       "    box-shadow: none;\n",
       "  }\n",
       "\n",
       "  .colab-df-spinner {\n",
       "    border: 2px solid var(--fill-color);\n",
       "    border-color: transparent;\n",
       "    border-bottom-color: var(--fill-color);\n",
       "    animation:\n",
       "      spin 1s steps(1) infinite;\n",
       "  }\n",
       "\n",
       "  @keyframes spin {\n",
       "    0% {\n",
       "      border-color: transparent;\n",
       "      border-bottom-color: var(--fill-color);\n",
       "      border-left-color: var(--fill-color);\n",
       "    }\n",
       "    20% {\n",
       "      border-color: transparent;\n",
       "      border-left-color: var(--fill-color);\n",
       "      border-top-color: var(--fill-color);\n",
       "    }\n",
       "    30% {\n",
       "      border-color: transparent;\n",
       "      border-left-color: var(--fill-color);\n",
       "      border-top-color: var(--fill-color);\n",
       "      border-right-color: var(--fill-color);\n",
       "    }\n",
       "    40% {\n",
       "      border-color: transparent;\n",
       "      border-right-color: var(--fill-color);\n",
       "      border-top-color: var(--fill-color);\n",
       "    }\n",
       "    60% {\n",
       "      border-color: transparent;\n",
       "      border-right-color: var(--fill-color);\n",
       "    }\n",
       "    80% {\n",
       "      border-color: transparent;\n",
       "      border-right-color: var(--fill-color);\n",
       "      border-bottom-color: var(--fill-color);\n",
       "    }\n",
       "    90% {\n",
       "      border-color: transparent;\n",
       "      border-bottom-color: var(--fill-color);\n",
       "    }\n",
       "  }\n",
       "</style>\n",
       "\n",
       "  <script>\n",
       "    async function quickchart(key) {\n",
       "      const quickchartButtonEl =\n",
       "        document.querySelector('#' + key + ' button');\n",
       "      quickchartButtonEl.disabled = true;  // To prevent multiple clicks.\n",
       "      quickchartButtonEl.classList.add('colab-df-spinner');\n",
       "      try {\n",
       "        const charts = await google.colab.kernel.invokeFunction(\n",
       "            'suggestCharts', [key], {});\n",
       "      } catch (error) {\n",
       "        console.error('Error during call to suggestCharts:', error);\n",
       "      }\n",
       "      quickchartButtonEl.classList.remove('colab-df-spinner');\n",
       "      quickchartButtonEl.classList.add('colab-df-quickchart-complete');\n",
       "    }\n",
       "    (() => {\n",
       "      let quickchartButtonEl =\n",
       "        document.querySelector('#df-9d10089c-1443-4b39-80af-575ce15adc22 button');\n",
       "      quickchartButtonEl.style.display =\n",
       "        google.colab.kernel.accessAllowed ? 'block' : 'none';\n",
       "    })();\n",
       "  </script>\n",
       "</div>\n",
       "    </div>\n",
       "  </div>\n"
      ],
      "text/plain": [
       "    nomes            cpfs\n",
       "0  Howard  111.111.111-11\n",
       "1     Ian  222.222.222-22\n",
       "2   Peter  333.333.333-33\n",
       "3   Jonah  444.444.444-44\n",
       "4  Kellie  555.555.555-55"
      ]
     },
     "execution_count": 55,
     "metadata": {},
     "output_type": "execute_result"
    }
   ],
   "source": [
    "df_duas_colunas = df_dados[colunas]\n",
    "df_duas_colunas"
   ]
  },
  {
   "cell_type": "code",
   "execution_count": 56,
   "id": "0632ac87-0132-4ed9-8913-c2a96c21972d",
   "metadata": {
    "colab": {
     "base_uri": "https://localhost:8080/"
    },
    "executionInfo": {
     "elapsed": 565,
     "status": "ok",
     "timestamp": 1698085934670,
     "user": {
      "displayName": "Eduardo Furlan",
      "userId": "03823929547054463581"
     },
     "user_tz": 180
    },
    "id": "0632ac87-0132-4ed9-8913-c2a96c21972d",
    "outputId": "6aaf8ba4-afe3-4a12-a45d-ba7e06081467"
   },
   "outputs": [
    {
     "data": {
      "text/plain": [
       "pandas.core.frame.DataFrame"
      ]
     },
     "execution_count": 56,
     "metadata": {},
     "output_type": "execute_result"
    }
   ],
   "source": [
    "type(df_duas_colunas)"
   ]
  },
  {
   "cell_type": "markdown",
   "id": "53b02fcd-5ff6-4e86-af98-899322e91f42",
   "metadata": {
    "id": "53b02fcd-5ff6-4e86-af98-899322e91f42"
   },
   "source": [
    "---\n",
    "\n",
    "## Requests e Beautiful Soup\n",
    "\n",
    "![Screenshot_20231023_154619.jpg](data:image/jpeg;base64,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)"
   ]
  },
  {
   "cell_type": "markdown",
   "id": "feb498ec-2d6b-4d3c-89b7-15d256f5c24d",
   "metadata": {
    "id": "feb498ec-2d6b-4d3c-89b7-15d256f5c24d"
   },
   "source": [
    "Se estiver usando o conda: `conda install requests`"
   ]
  },
  {
   "cell_type": "code",
   "execution_count": 57,
   "id": "f5c17de8-4113-4e9f-8b2f-4c57abfe3777",
   "metadata": {
    "executionInfo": {
     "elapsed": 533,
     "status": "ok",
     "timestamp": 1698085978665,
     "user": {
      "displayName": "Eduardo Furlan",
      "userId": "03823929547054463581"
     },
     "user_tz": 180
    },
    "id": "f5c17de8-4113-4e9f-8b2f-4c57abfe3777"
   },
   "outputs": [],
   "source": [
    "import requests"
   ]
  },
  {
   "cell_type": "code",
   "execution_count": 58,
   "id": "d06858ad-2d55-4e1d-a9f0-f7dd0f3f1d79",
   "metadata": {
    "executionInfo": {
     "elapsed": 942,
     "status": "ok",
     "timestamp": 1698085988379,
     "user": {
      "displayName": "Eduardo Furlan",
      "userId": "03823929547054463581"
     },
     "user_tz": 180
    },
    "id": "d06858ad-2d55-4e1d-a9f0-f7dd0f3f1d79"
   },
   "outputs": [],
   "source": [
    "texto_string = requests.get('https://www.nytimes.com/interactive/2017/06/23/opinion/trumps-lies.html').text"
   ]
  },
  {
   "cell_type": "code",
   "execution_count": 59,
   "id": "45597d42-11fe-4b81-a927-53a0eab585e9",
   "metadata": {
    "colab": {
     "base_uri": "https://localhost:8080/",
     "height": 36
    },
    "executionInfo": {
     "elapsed": 439,
     "status": "ok",
     "timestamp": 1698085994717,
     "user": {
      "displayName": "Eduardo Furlan",
      "userId": "03823929547054463581"
     },
     "user_tz": 180
    },
    "id": "45597d42-11fe-4b81-a927-53a0eab585e9",
    "outputId": "4ca2aae0-c099-4260-cbf2-cbe37b214738"
   },
   "outputs": [
    {
     "data": {
      "application/vnd.google.colaboratory.intrinsic+json": {
       "type": "string"
      },
      "text/plain": [
       "'<!DOCTYPE html>\\n<!--[if (gt IE 9)|!(IE)]> <!--><html lang=\"en\" class=\"no-js page-interactive section'"
      ]
     },
     "execution_count": 59,
     "metadata": {},
     "output_type": "execute_result"
    }
   ],
   "source": [
    "texto_string[:100]"
   ]
  },
  {
   "cell_type": "markdown",
   "id": "ec0003a3-c679-47f7-a799-526a5ba5cdda",
   "metadata": {
    "id": "ec0003a3-c679-47f7-a799-526a5ba5cdda"
   },
   "source": [
    "---"
   ]
  },
  {
   "cell_type": "markdown",
   "id": "d2a44ed5-647e-4d9d-ba5d-1f9eccc3c3bc",
   "metadata": {
    "id": "d2a44ed5-647e-4d9d-ba5d-1f9eccc3c3bc"
   },
   "source": [
    "O Beautiful Soup já está instalado no Colab. Se estiver em outra máquina usando o conda: `conda install bs4`"
   ]
  },
  {
   "cell_type": "code",
   "execution_count": 60,
   "id": "ec6df9df-2b02-415a-a93e-9147abd2751c",
   "metadata": {
    "executionInfo": {
     "elapsed": 405,
     "status": "ok",
     "timestamp": 1698086338230,
     "user": {
      "displayName": "Eduardo Furlan",
      "userId": "03823929547054463581"
     },
     "user_tz": 180
    },
    "id": "ec6df9df-2b02-415a-a93e-9147abd2751c"
   },
   "outputs": [],
   "source": [
    "from bs4 import BeautifulSoup"
   ]
  },
  {
   "cell_type": "code",
   "execution_count": 61,
   "id": "d3e7dc44-c142-4c21-a767-b7fed66d7dc9",
   "metadata": {
    "executionInfo": {
     "elapsed": 405,
     "status": "ok",
     "timestamp": 1698086343698,
     "user": {
      "displayName": "Eduardo Furlan",
      "userId": "03823929547054463581"
     },
     "user_tz": 180
    },
    "id": "d3e7dc44-c142-4c21-a767-b7fed66d7dc9"
   },
   "outputs": [],
   "source": [
    "bsp_texto = BeautifulSoup(texto_string, 'html.parser')"
   ]
  },
  {
   "cell_type": "code",
   "execution_count": 62,
   "id": "a66b3081-bfb5-4b1e-87e6-5a42f806100c",
   "metadata": {
    "colab": {
     "base_uri": "https://localhost:8080/"
    },
    "executionInfo": {
     "elapsed": 398,
     "status": "ok",
     "timestamp": 1698086348932,
     "user": {
      "displayName": "Eduardo Furlan",
      "userId": "03823929547054463581"
     },
     "user_tz": 180
    },
    "id": "a66b3081-bfb5-4b1e-87e6-5a42f806100c",
    "outputId": "8462bccc-e658-46e2-9e6e-9035835c9039"
   },
   "outputs": [
    {
     "data": {
      "text/plain": [
       "<span class=\"short-desc\"><strong>Jan. 25 </strong>“Now, the audience was the biggest ever. But this crowd was massive. Look how far back it goes. This crowd was massive.” <span class=\"short-truth\"><a href=\"https://www.nytimes.com/2017/01/21/us/politics/trump-white-house-briefing-inauguration-crowd-size.html\" target=\"_blank\">(Official aerial photos show Obama's 2009 inauguration was much more heavily attended.)</a></span></span>"
      ]
     },
     "execution_count": 62,
     "metadata": {},
     "output_type": "execute_result"
    }
   ],
   "source": [
    "lista_noticias = bsp_texto.find_all('span', attrs={'class':'short-desc'})\n",
    "lista_noticias[3]"
   ]
  },
  {
   "cell_type": "code",
   "execution_count": 63,
   "id": "ff4b9775-129e-4128-9f17-a867e1158c93",
   "metadata": {
    "colab": {
     "base_uri": "https://localhost:8080/"
    },
    "executionInfo": {
     "elapsed": 628,
     "status": "ok",
     "timestamp": 1698086393307,
     "user": {
      "displayName": "Eduardo Furlan",
      "userId": "03823929547054463581"
     },
     "user_tz": 180
    },
    "id": "ff4b9775-129e-4128-9f17-a867e1158c93",
    "outputId": "be1e60bf-ceca-4b22-db35-471e7406640a"
   },
   "outputs": [
    {
     "data": {
      "text/plain": [
       "[<strong>Jan. 25 </strong>,\n",
       " '“Now, the audience was the biggest ever. But this crowd was massive. Look how far back it goes. This crowd was massive.” ',\n",
       " <span class=\"short-truth\"><a href=\"https://www.nytimes.com/2017/01/21/us/politics/trump-white-house-briefing-inauguration-crowd-size.html\" target=\"_blank\">(Official aerial photos show Obama's 2009 inauguration was much more heavily attended.)</a></span>]"
      ]
     },
     "execution_count": 63,
     "metadata": {},
     "output_type": "execute_result"
    }
   ],
   "source": [
    "lista_noticias[3].contents"
   ]
  },
  {
   "cell_type": "markdown",
   "id": "be34fe48-f4f4-4797-ab73-41ac188b27c0",
   "metadata": {
    "id": "be34fe48-f4f4-4797-ab73-41ac188b27c0"
   },
   "source": [
    "---\n",
    "\n",
    "### Transformando em um dataFrame\n",
    "\n",
    "Primeiro cria uma lista, e faz umas \"limpezas\" no hmtl:"
   ]
  },
  {
   "cell_type": "code",
   "execution_count": 64,
   "id": "84959f3a-d005-479e-adac-52ab200976e5",
   "metadata": {
    "executionInfo": {
     "elapsed": 390,
     "status": "ok",
     "timestamp": 1698086435338,
     "user": {
      "displayName": "Eduardo Furlan",
      "userId": "03823929547054463581"
     },
     "user_tz": 180
    },
    "id": "84959f3a-d005-479e-adac-52ab200976e5"
   },
   "outputs": [],
   "source": [
    "dados = []\n",
    "for noticia in lista_noticias:\n",
    "    data = noticia.contents[0].text.strip() + ', 2017'\n",
    "    comentario = noticia.contents[1].strip().replace(\"“\", '').replace(\"”\", '')\n",
    "    explicacao = noticia.contents[2].text.strip().replace(\"(\", '').replace(\")\", '')\n",
    "    url = noticia.find('a')['href']\n",
    "    dados.append((data, comentario, explicacao, url))"
   ]
  },
  {
   "cell_type": "markdown",
   "id": "PeONOjm-3v1f",
   "metadata": {
    "id": "PeONOjm-3v1f"
   },
   "source": [
    "Mostra a primeira linha da lista:"
   ]
  },
  {
   "cell_type": "code",
   "execution_count": 65,
   "id": "b878965e-57c0-49b5-bbf3-96100985e37b",
   "metadata": {
    "colab": {
     "base_uri": "https://localhost:8080/"
    },
    "executionInfo": {
     "elapsed": 405,
     "status": "ok",
     "timestamp": 1698086485453,
     "user": {
      "displayName": "Eduardo Furlan",
      "userId": "03823929547054463581"
     },
     "user_tz": 180
    },
    "id": "b878965e-57c0-49b5-bbf3-96100985e37b",
    "outputId": "8028f6c2-df9c-4e0d-9151-79f28056ce31"
   },
   "outputs": [
    {
     "data": {
      "text/plain": [
       "('Jan. 21, 2017',\n",
       " 'A reporter for Time magazine — and I have been on their cover 14 or 15 times. I think we have the all-time record in the history of Time magazine.',\n",
       " 'Trump was on the cover 11 times and Nixon appeared 55 times.',\n",
       " 'http://nation.time.com/2013/11/06/10-things-you-didnt-know-about-time/')"
      ]
     },
     "execution_count": 65,
     "metadata": {},
     "output_type": "execute_result"
    }
   ],
   "source": [
    "dados[1]"
   ]
  },
  {
   "cell_type": "markdown",
   "id": "waCMZMZC3_J8",
   "metadata": {
    "id": "waCMZMZC3_J8"
   },
   "source": [
    "Une os dados com os títulos das colunas para criar o dataFrame:"
   ]
  },
  {
   "cell_type": "code",
   "execution_count": 66,
   "id": "b0e40822-279e-49c1-a182-64a4e1d0c0a0",
   "metadata": {
    "colab": {
     "base_uri": "https://localhost:8080/",
     "height": 244
    },
    "executionInfo": {
     "elapsed": 524,
     "status": "ok",
     "timestamp": 1698086497512,
     "user": {
      "displayName": "Eduardo Furlan",
      "userId": "03823929547054463581"
     },
     "user_tz": 180
    },
    "id": "b0e40822-279e-49c1-a182-64a4e1d0c0a0",
    "outputId": "014c1584-8549-4972-8098-8233725e2dc3"
   },
   "outputs": [
    {
     "data": {
      "text/html": [
       "\n",
       "  <div id=\"df-51b254d5-c7ec-4cc4-a106-9e3d1807d4a5\" class=\"colab-df-container\">\n",
       "    <div>\n",
       "<style scoped>\n",
       "    .dataframe tbody tr th:only-of-type {\n",
       "        vertical-align: middle;\n",
       "    }\n",
       "\n",
       "    .dataframe tbody tr th {\n",
       "        vertical-align: top;\n",
       "    }\n",
       "\n",
       "    .dataframe thead th {\n",
       "        text-align: right;\n",
       "    }\n",
       "</style>\n",
       "<table border=\"1\" class=\"dataframe\">\n",
       "  <thead>\n",
       "    <tr style=\"text-align: right;\">\n",
       "      <th></th>\n",
       "      <th>data</th>\n",
       "      <th>comentário</th>\n",
       "      <th>explicação</th>\n",
       "      <th>url</th>\n",
       "    </tr>\n",
       "  </thead>\n",
       "  <tbody>\n",
       "    <tr>\n",
       "      <th>0</th>\n",
       "      <td>Jan. 21, 2017</td>\n",
       "      <td>I wasn't a fan of Iraq. I didn't want to go in...</td>\n",
       "      <td>He was for an invasion before he was against it.</td>\n",
       "      <td>https://www.buzzfeed.com/andrewkaczynski/in-20...</td>\n",
       "    </tr>\n",
       "    <tr>\n",
       "      <th>1</th>\n",
       "      <td>Jan. 21, 2017</td>\n",
       "      <td>A reporter for Time magazine — and I have been...</td>\n",
       "      <td>Trump was on the cover 11 times and Nixon appe...</td>\n",
       "      <td>http://nation.time.com/2013/11/06/10-things-yo...</td>\n",
       "    </tr>\n",
       "    <tr>\n",
       "      <th>2</th>\n",
       "      <td>Jan. 23, 2017</td>\n",
       "      <td>Between 3 million and 5 million illegal votes ...</td>\n",
       "      <td>There's no evidence of illegal voting.</td>\n",
       "      <td>https://www.nytimes.com/2017/01/23/us/politics...</td>\n",
       "    </tr>\n",
       "    <tr>\n",
       "      <th>3</th>\n",
       "      <td>Jan. 25, 2017</td>\n",
       "      <td>Now, the audience was the biggest ever. But th...</td>\n",
       "      <td>Official aerial photos show Obama's 2009 inaug...</td>\n",
       "      <td>https://www.nytimes.com/2017/01/21/us/politics...</td>\n",
       "    </tr>\n",
       "  </tbody>\n",
       "</table>\n",
       "</div>\n",
       "    <div class=\"colab-df-buttons\">\n",
       "\n",
       "  <div class=\"colab-df-container\">\n",
       "    <button class=\"colab-df-convert\" onclick=\"convertToInteractive('df-51b254d5-c7ec-4cc4-a106-9e3d1807d4a5')\"\n",
       "            title=\"Convert this dataframe to an interactive table.\"\n",
       "            style=\"display:none;\">\n",
       "\n",
       "  <svg xmlns=\"http://www.w3.org/2000/svg\" height=\"24px\" viewBox=\"0 -960 960 960\">\n",
       "    <path d=\"M120-120v-720h720v720H120Zm60-500h600v-160H180v160Zm220 220h160v-160H400v160Zm0 220h160v-160H400v160ZM180-400h160v-160H180v160Zm440 0h160v-160H620v160ZM180-180h160v-160H180v160Zm440 0h160v-160H620v160Z\"/>\n",
       "  </svg>\n",
       "    </button>\n",
       "\n",
       "  <style>\n",
       "    .colab-df-container {\n",
       "      display:flex;\n",
       "      gap: 12px;\n",
       "    }\n",
       "\n",
       "    .colab-df-convert {\n",
       "      background-color: #E8F0FE;\n",
       "      border: none;\n",
       "      border-radius: 50%;\n",
       "      cursor: pointer;\n",
       "      display: none;\n",
       "      fill: #1967D2;\n",
       "      height: 32px;\n",
       "      padding: 0 0 0 0;\n",
       "      width: 32px;\n",
       "    }\n",
       "\n",
       "    .colab-df-convert:hover {\n",
       "      background-color: #E2EBFA;\n",
       "      box-shadow: 0px 1px 2px rgba(60, 64, 67, 0.3), 0px 1px 3px 1px rgba(60, 64, 67, 0.15);\n",
       "      fill: #174EA6;\n",
       "    }\n",
       "\n",
       "    .colab-df-buttons div {\n",
       "      margin-bottom: 4px;\n",
       "    }\n",
       "\n",
       "    [theme=dark] .colab-df-convert {\n",
       "      background-color: #3B4455;\n",
       "      fill: #D2E3FC;\n",
       "    }\n",
       "\n",
       "    [theme=dark] .colab-df-convert:hover {\n",
       "      background-color: #434B5C;\n",
       "      box-shadow: 0px 1px 3px 1px rgba(0, 0, 0, 0.15);\n",
       "      filter: drop-shadow(0px 1px 2px rgba(0, 0, 0, 0.3));\n",
       "      fill: #FFFFFF;\n",
       "    }\n",
       "  </style>\n",
       "\n",
       "    <script>\n",
       "      const buttonEl =\n",
       "        document.querySelector('#df-51b254d5-c7ec-4cc4-a106-9e3d1807d4a5 button.colab-df-convert');\n",
       "      buttonEl.style.display =\n",
       "        google.colab.kernel.accessAllowed ? 'block' : 'none';\n",
       "\n",
       "      async function convertToInteractive(key) {\n",
       "        const element = document.querySelector('#df-51b254d5-c7ec-4cc4-a106-9e3d1807d4a5');\n",
       "        const dataTable =\n",
       "          await google.colab.kernel.invokeFunction('convertToInteractive',\n",
       "                                                    [key], {});\n",
       "        if (!dataTable) return;\n",
       "\n",
       "        const docLinkHtml = 'Like what you see? Visit the ' +\n",
       "          '<a target=\"_blank\" href=https://colab.research.google.com/notebooks/data_table.ipynb>data table notebook</a>'\n",
       "          + ' to learn more about interactive tables.';\n",
       "        element.innerHTML = '';\n",
       "        dataTable['output_type'] = 'display_data';\n",
       "        await google.colab.output.renderOutput(dataTable, element);\n",
       "        const docLink = document.createElement('div');\n",
       "        docLink.innerHTML = docLinkHtml;\n",
       "        element.appendChild(docLink);\n",
       "      }\n",
       "    </script>\n",
       "  </div>\n",
       "\n",
       "\n",
       "<div id=\"df-f8f5c3ae-4085-4745-bf46-c7a0f9c394df\">\n",
       "  <button class=\"colab-df-quickchart\" onclick=\"quickchart('df-f8f5c3ae-4085-4745-bf46-c7a0f9c394df')\"\n",
       "            title=\"Suggest charts.\"\n",
       "            style=\"display:none;\">\n",
       "\n",
       "<svg xmlns=\"http://www.w3.org/2000/svg\" height=\"24px\"viewBox=\"0 0 24 24\"\n",
       "     width=\"24px\">\n",
       "    <g>\n",
       "        <path d=\"M19 3H5c-1.1 0-2 .9-2 2v14c0 1.1.9 2 2 2h14c1.1 0 2-.9 2-2V5c0-1.1-.9-2-2-2zM9 17H7v-7h2v7zm4 0h-2V7h2v10zm4 0h-2v-4h2v4z\"/>\n",
       "    </g>\n",
       "</svg>\n",
       "  </button>\n",
       "\n",
       "<style>\n",
       "  .colab-df-quickchart {\n",
       "      --bg-color: #E8F0FE;\n",
       "      --fill-color: #1967D2;\n",
       "      --hover-bg-color: #E2EBFA;\n",
       "      --hover-fill-color: #174EA6;\n",
       "      --disabled-fill-color: #AAA;\n",
       "      --disabled-bg-color: #DDD;\n",
       "  }\n",
       "\n",
       "  [theme=dark] .colab-df-quickchart {\n",
       "      --bg-color: #3B4455;\n",
       "      --fill-color: #D2E3FC;\n",
       "      --hover-bg-color: #434B5C;\n",
       "      --hover-fill-color: #FFFFFF;\n",
       "      --disabled-bg-color: #3B4455;\n",
       "      --disabled-fill-color: #666;\n",
       "  }\n",
       "\n",
       "  .colab-df-quickchart {\n",
       "    background-color: var(--bg-color);\n",
       "    border: none;\n",
       "    border-radius: 50%;\n",
       "    cursor: pointer;\n",
       "    display: none;\n",
       "    fill: var(--fill-color);\n",
       "    height: 32px;\n",
       "    padding: 0;\n",
       "    width: 32px;\n",
       "  }\n",
       "\n",
       "  .colab-df-quickchart:hover {\n",
       "    background-color: var(--hover-bg-color);\n",
       "    box-shadow: 0 1px 2px rgba(60, 64, 67, 0.3), 0 1px 3px 1px rgba(60, 64, 67, 0.15);\n",
       "    fill: var(--button-hover-fill-color);\n",
       "  }\n",
       "\n",
       "  .colab-df-quickchart-complete:disabled,\n",
       "  .colab-df-quickchart-complete:disabled:hover {\n",
       "    background-color: var(--disabled-bg-color);\n",
       "    fill: var(--disabled-fill-color);\n",
       "    box-shadow: none;\n",
       "  }\n",
       "\n",
       "  .colab-df-spinner {\n",
       "    border: 2px solid var(--fill-color);\n",
       "    border-color: transparent;\n",
       "    border-bottom-color: var(--fill-color);\n",
       "    animation:\n",
       "      spin 1s steps(1) infinite;\n",
       "  }\n",
       "\n",
       "  @keyframes spin {\n",
       "    0% {\n",
       "      border-color: transparent;\n",
       "      border-bottom-color: var(--fill-color);\n",
       "      border-left-color: var(--fill-color);\n",
       "    }\n",
       "    20% {\n",
       "      border-color: transparent;\n",
       "      border-left-color: var(--fill-color);\n",
       "      border-top-color: var(--fill-color);\n",
       "    }\n",
       "    30% {\n",
       "      border-color: transparent;\n",
       "      border-left-color: var(--fill-color);\n",
       "      border-top-color: var(--fill-color);\n",
       "      border-right-color: var(--fill-color);\n",
       "    }\n",
       "    40% {\n",
       "      border-color: transparent;\n",
       "      border-right-color: var(--fill-color);\n",
       "      border-top-color: var(--fill-color);\n",
       "    }\n",
       "    60% {\n",
       "      border-color: transparent;\n",
       "      border-right-color: var(--fill-color);\n",
       "    }\n",
       "    80% {\n",
       "      border-color: transparent;\n",
       "      border-right-color: var(--fill-color);\n",
       "      border-bottom-color: var(--fill-color);\n",
       "    }\n",
       "    90% {\n",
       "      border-color: transparent;\n",
       "      border-bottom-color: var(--fill-color);\n",
       "    }\n",
       "  }\n",
       "</style>\n",
       "\n",
       "  <script>\n",
       "    async function quickchart(key) {\n",
       "      const quickchartButtonEl =\n",
       "        document.querySelector('#' + key + ' button');\n",
       "      quickchartButtonEl.disabled = true;  // To prevent multiple clicks.\n",
       "      quickchartButtonEl.classList.add('colab-df-spinner');\n",
       "      try {\n",
       "        const charts = await google.colab.kernel.invokeFunction(\n",
       "            'suggestCharts', [key], {});\n",
       "      } catch (error) {\n",
       "        console.error('Error during call to suggestCharts:', error);\n",
       "      }\n",
       "      quickchartButtonEl.classList.remove('colab-df-spinner');\n",
       "      quickchartButtonEl.classList.add('colab-df-quickchart-complete');\n",
       "    }\n",
       "    (() => {\n",
       "      let quickchartButtonEl =\n",
       "        document.querySelector('#df-f8f5c3ae-4085-4745-bf46-c7a0f9c394df button');\n",
       "      quickchartButtonEl.style.display =\n",
       "        google.colab.kernel.accessAllowed ? 'block' : 'none';\n",
       "    })();\n",
       "  </script>\n",
       "</div>\n",
       "    </div>\n",
       "  </div>\n"
      ],
      "text/plain": [
       "            data                                         comentário  \\\n",
       "0  Jan. 21, 2017  I wasn't a fan of Iraq. I didn't want to go in...   \n",
       "1  Jan. 21, 2017  A reporter for Time magazine — and I have been...   \n",
       "2  Jan. 23, 2017  Between 3 million and 5 million illegal votes ...   \n",
       "3  Jan. 25, 2017  Now, the audience was the biggest ever. But th...   \n",
       "\n",
       "                                          explicação  \\\n",
       "0   He was for an invasion before he was against it.   \n",
       "1  Trump was on the cover 11 times and Nixon appe...   \n",
       "2             There's no evidence of illegal voting.   \n",
       "3  Official aerial photos show Obama's 2009 inaug...   \n",
       "\n",
       "                                                 url  \n",
       "0  https://www.buzzfeed.com/andrewkaczynski/in-20...  \n",
       "1  http://nation.time.com/2013/11/06/10-things-yo...  \n",
       "2  https://www.nytimes.com/2017/01/23/us/politics...  \n",
       "3  https://www.nytimes.com/2017/01/21/us/politics...  "
      ]
     },
     "execution_count": 66,
     "metadata": {},
     "output_type": "execute_result"
    }
   ],
   "source": [
    "df_noticias = pd.DataFrame(dados, columns=['data', 'comentário', 'explicação', 'url'])\n",
    "df_noticias[:4]"
   ]
  },
  {
   "cell_type": "markdown",
   "id": "d0bbf158-17d8-4a5e-baec-d57a1e42b42d",
   "metadata": {
    "id": "d0bbf158-17d8-4a5e-baec-d57a1e42b42d"
   },
   "source": [
    "---\n",
    "\n",
    "## Outro exemplo\n",
    "\n",
    "![Screenshot_20231023_160137.jpg](data:image/jpeg;base64,/9j/4AAQSkZJRgABAQEAYABgAAD/2wBDAAMCAgMCAgMDAwMEAwMEBQgFBQQEBQoHBwYIDAoMDAsKCwsNDhIQDQ4RDgsLEBYQERMUFRUVDA8XGBYUGBIUFRT/2wBDAQMEBAUEBQkFBQkUDQsNFBQUFBQUFBQUFBQUFBQUFBQUFBQUFBQUFBQUFBQUFBQUFBQUFBQUFBQUFBQUFBQUFBT/wAARCAJUAuIDASIAAhEBAxEB/8QAHwAAAQUBAQEBAQEAAAAAAAAAAAECAwQFBgcICQoL/8QAtRAAAgEDAwIEAwUFBAQAAAF9AQIDAAQRBRIhMUEGE1FhByJxFDKBkaEII0KxwRVS0fAkM2JyggkKFhcYGRolJicoKSo0NTY3ODk6Q0RFRkdISUpTVFVWV1hZWmNkZWZnaGlqc3R1dnd4eXqDhIWGh4iJipKTlJWWl5iZmqKjpKWmp6ipqrKztLW2t7i5usLDxMXGx8jJytLT1NXW19jZ2uHi4+Tl5ufo6erx8vP09fb3+Pn6/8QAHwEAAwEBAQEBAQEBAQAAAAAAAAECAwQFBgcICQoL/8QAtREAAgECBAQDBAcFBAQAAQJ3AAECAxEEBSExBhJBUQdhcRMiMoEIFEKRobHBCSMzUvAVYnLRChYkNOEl8RcYGRomJygpKjU2Nzg5OkNERUZHSElKU1RVVldYWVpjZGVmZ2hpanN0dXZ3eHl6goOEhYaHiImKkpOUlZaXmJmaoqOkpaanqKmqsrO0tba3uLm6wsPExcbHyMnK0tPU1dbX2Nna4uPk5ebn6Onq8vP09fb3+Pn6/9oADAMBAAIRAxEAPwD9MKK8c+PX7Quk/Cq503wzb6votl4y1tC1n/bt6lrZ2UOSGu7h3YfIpDbUB3SMu1ejFbnhn49/DLRvD+n2Oo/GXwlrl/BCqT6lca5YxvcOB8zlEcKuT2A4Hr1qyD1eiq+najaavp9tf2FzDe2N1Es8FzbyCSKaNgGV0YZDKQQQRwQasUAFFVdR1Wy0eATX95b2UJbYJLiVY1LcnGSRzwfyrmtf8aacbaOfSvEukC5gbebaW8i2XC45QtnKn0I6HGcigDr6KyvDXiSy8V6VHf2EgeJiUdcgmNx1U47jP45BHBrVoAKKy/FXiOz8HeF9Y1/UWZdP0qzmvrhlGSI4kLuR+CmvKPC/wu8QfEjQ7PxJ458XeJNP1XUYluo9F8O6rLptppaONyQjySrTOoIDPKzBmBwAMCgD2uivmj4Dad8dYfjhrJ8dpqSfDey0q5s9Gk1K9sZbi4kNzCYpLgWzfNL5SyDcVAA4+8SW+l6AK0iTXup21hDObbzI5JnlVQzBVKjC5yMkuOSDwDxVm58PLZW8txceIL2CCJS8ksv2dVRRySSYsAD1qOw/5Guz/wCvK4/9GQV5rbeEbX4ufFjx3YeNp59Y0vw5e2keneHGk26cYZLWKVZ5ohjz3MhmX97uUbOFHUyNHf8Ah1dJ8YaaNR0Hxi2t6eWKC706e0uIiw6jekZGR6ZrT/4RWT/oNah/3zb/APxqvKvjx4E0nwF4P8Q/EPwoZfCXi7TrQyQ3Gj7Yo9QlGFhguoSPLmRnKLll3KD8rDFe4xb/ACk83aJdo3bOme+PagZx3iNtH8H2S3mveMzolmziNbjUbi0t4yx6KGeMDPB4q/Y6HFqdnDd2fiK7u7WdBJFPAbZ0kUjIZWEWCD6ivEfEPxH8FXP7RmrXuu219rul6LosWl2k1voF5qVva6gbmc3iKYoXUSbFtVYj025yGA2/2Z/F2gy6t488M6UtzptsutTapo+lXmnXFiRp8kVvveGKZEIj+0tOMADaWHADDIB6z/wisn/Qa1D/AL5t/wD41R/wisn/AEGtQ/75t/8A41Vjxfq8vh/wprOqQKjz2VnNcRrKCVLIhYAgEHGR2NY+qfEA2MEwTR70XkM9kjWsxiVmjuJvKRwQ5HJDjBIOQMgDmgDQ/wCEVk/6DWof982//wAao/4RWT/oNah/3zb/APxqs8fEAwPrBu9HvYorC9gslKGJ2keVYNq4D9czj2x3zxUs3xCtLdAslheR3v2v7E1nIYUdZPLEgBYyCPlSCMOc5x1BAALf/CKyf9BrUP8Avm3/APjVH/CKyf8AQa1D/vm3/wDjVGueIriw0q8khspIr0NFb2q3QGyWaXaE+6xJUMwDdPutjgZqCXxitr4klsp1C2COlp9pC8C5MTzMGJbhRGqY4PL4oAn/AOEVk/6DWof982//AMao/wCEVk/6DWof982//wAarPtPifpV7a2FxHb3gS7GSGjUG3/0hIB5g3cZd88Z4Vj25bP8U9IhtbmcQ3ciW91NbSBI1yBFGZHl5bmPaBg9TkcUAaX/AAisn/Qa1D/vm3/+NUf8IrJ/0GtQ/wC+bf8A+NVEnj3TZdUubBEuHuILuKzwFGJGfd8y88quyQE9R5bYBwM8Dr/xp1Tw98SvE9leaW9v4T8PafZyyzR2yT3F9c3UjxwxRMLlShZwiKGibJ3bmjG0kA9D/wCEVk/6DWof982//wAao/4RWT/oNah/3zb/APxqvOdJ+OOo33jufRdQ0ebQI11u00pLa9t0kuB5unz3Tb3juGjA/dAh0LgD5SuSSvcfD34hR/EfTBqtlomqWGi3EUdxp+pX4gWPUIXBKyxIkrSKpXa371EOHXjrgAvf8IrJ/wBBrUP++bf/AONUf8IrJ/0GtQ/75t//AI1XFWP7Rfh+6ezmuNM1jTdGvrO81Gy1u7hi+yXNrbJvlmXZK0irtwyh0VmByBjJElt8ftKGp6dp+qaBrugXOoSWot11GKDDRXDmOKYmOZ9qmXy4ipxIrTR5QBsg1A7H/hFZP+g1qH/fNv8A/GqP+EVk/wCg1qH/AHzb/wDxqsiw+Jdv4hhgl0m3lMJ1G8tHkuEGHitHdJ5owG5XzE2KTjJYHGMZfcfFPTLXT7C7ntLq3W/RprWO4eCJpYgqkyDfKAB86jBIY54XHNAGp/wisn/Qa1D/AL5t/wD41R/wisn/AEGtQ/75t/8A41UWmeO7DWL8W9nDPLF5Edy1yTGiJG8YkVirOHIIIGQpGcjOQcVx8R7FbQ3M1jfW0L2pvbcyon+kwgqCyAOcY8xDh9pww464ALv/AAisn/Qa1D/vm3/+NUf8IrJ/0GtQ/wC+bf8A+NU3V/G1no99LZvbXdxcI8EYSBFO9pd+wDLD/nmQScAZHOMkEfjOBpLzfYXkNrYoTeXb+V5VswjEjI2HLMQCMlAwycZ4NADv+EVk/wCg1qH/AHzb/wDxqj/hFZP+g1qH/fNv/wDGqyLf4taNdWs8sccxaJoR5YlgbIlLBDvEhReVIIZlI445GdDV/F76bJAxtXjiisp9Svo3CtLHCi8KNrbd7MeOSCEb6gAn/wCEVk/6DWof982//wAao/4RWT/oNah/3zb/APxqs3VfijpmixQNeW1zbvNE1wkUrwxuYRj95hpB1zwo+fg/LVtfH+nPLqREc32TTojNc3hMexFEYkzs3+ZgqeDswfWgCf8A4RWT/oNah/3zb/8Axqj/AIRWT/oNah/3zb//ABqqF/46eKMRrYT2F8LmxQ29+q5aGe5SIuuxyMgFuCcggZGDzoJ4wtZYbF47e4kN7e3FhEgCgmSETFs5bAB+zvg57rnHOABP+EVk/wCg1qH/AHzb/wDxqj/hFZP+g1qH/fNv/wDGqx9N+JCT6XpOo31rLYRXmlSaiYiiyM2DABsZXPUzYClcnvtxg6E3j22tY5hcadf295FNBCbFljaUmZtsTAq5QqSCM7uNpzjFAaFj/hFZP+g1qH/fNv8A/GqP+EVk/wCg1qH/AHzb/wDxqqb/ABCtUeGH+zr37dJPJbfY2MKOsiBWKlmkCEkOpAViSCcDg4h8UeM7zR76VLO3juILVrKOcFSzs9xcpGETDAbhGWPPd4+2QQDS/wCEVk/6DWof982//wAao/4RWT/oNah/3zb/APxqopPHNtDp93cTWdxbzWlwLae1nlgidHKhx8zSCMgqykYY9fUECo3xMsGtRcW9jf3kIsE1KR4EjxHAS4JO5xkjY2QuSe2aAND/AIRWT/oNah/3zb//ABqj/hFZP+g1qH/fNv8A/GqrWHjVLnxNf6QU8+ZJ0WBLdfmEJgjkaWTJwFDSYz3yAATmn634g1C18WaRpNpbAwXEE11cXDorgJG0SlR+8Qg/vPvYbHGFPOACb/hFZP8AoNah/wB82/8A8ao/4RWT/oNah/3zb/8Axqs6H4jWWoW8xtleKaC6s4JEcxT/ACzzCNSDFKV5+YfeyuM7TwDY8P8AjNdSgVLqIrdGK5uD5K/J5cU7R45Od3A9uvSgCz/wisn/AEGtQ/75t/8A41R/wisn/Qa1D/vm3/8AjVUY/iTpzw3Fx9lvUs7a0S9uLl0QJDG8XmJn5skkcYUHnrgEEww/FXSbi3LxQzyTC4S28lJrdvmdGZf3gl8sAhGHL5yMYyRkA1P+EVk/6DWof982/wD8ao/4RWT/AKDWof8AfNv/APGqh17xTc6asht7Te8GnyX1xFIRujAGEUkNjkh8kE8RtjPFaUWqPbrbxXq4uJANxUIoBJwBt3sfToSPegCn/wAIrJ/0GtQ/75t//jVH/CKyf9BrUP8Avm3/APjVbkT+YpPuR09CRXxhrnhHw3qGlaz4i1XRtA1HW7zxhr1rNf694Rv/ABDI8UN9LHDGPsrBolRFVQG4wAB0NAH1n/wisn/Qa1D/AL5t/wD41R/wisn/AEGtQ/75t/8A41XhXwX8NaN4U+LnhU6Dp2n6RFrPg/Ubq/j0jSZ9Jt7mWK+s0ikNrMTIjKssgBfnDHsRX0pQByElrZxSMjeIr/cpwcRwn9RDTfJsf+hj1D/v1F/8ZrCmmWCJ5ZG2oilmJ7AcmvNdH+Mc3iLRdNu9K0/TLy61a6W3sbRNXyUBhkmzdFYm8l/LjJ2APyQM96V9/Idj2fybH/oY9Q/79Rf/ABmnR2tnLIqL4iv9zHAzHCP1MNeD6f8AtDWN7PbpLp8djFdCIQSXV6qAMUhebzCVwixrPkNk7tjDA4z62rB1DKQykZBB4NPWyfQWl7HW/wDCKyf9BrUP++bf/wCNUf8ACKyf9BrUP++bf/41W/XgPivxt41+Ler+N/hx4e07R/DZts2N3qGp6rKmoC0lAU3UFqtsQQyl9j+ZjOMkEEAA9Zs9Cj1G2S4tfEN5c2752ywm2dWwcHBEWDyCKhvbKfRLqyBvZb2C6kaEidUDo2xnBBRVGMIRgjuOa8h1qDWf2VbPxFf+HNL8OXXw9uZ4rm10m71SWyuba6aNInht0S2lEnmNGrKgO4u74HNevajfy6ppnha9ns5dPmuZlme0nx5kDNayko2P4lJwfcUAWKKK4b43eMdc8A/DLV9c8Oaeup6xbtbpDA9rNcqokuI43laKH946xo7SFU5IQ1RJ0d14v0Kx8Q2mg3Otadb67dxmW30yW7jW5mQZyyRE7mAweQO1a1fMnhb4ZXfxa8M694ss/F2hah4wvvEun6tDqUWhXFvDYS2AgQWklvNN9oQMIn3oXU/v34Abn1X4L+NPEfiuHxdYeKhpb6x4d119Ie50eGSG3uEFtbzq4jkd2U4uNpG48rnvQB6NRRXiP7amtar4d/Zh8c6lomo3mlanbwW7xXmnzvDNH/pUIYq6EEZUsDg9CaicuSLl2OnDUXia8KCduZpfe7HRftBfE7/hWXw41S+sNRs7bxDsj+w29w6GSTMqI7JG3L7VYngHGOa+cPBP7RPxH17TNUv9T8RrbRR2l01ikNhbhp54oWlOcofkUAbu+XUDqSPlHRfhRqV9qep+M9f8X6tr15ptv4eMTzWM17LePq1g04jMnmMyrCx8stht3YKSEPuH7Pun/E7xlqPjXQvBuqPZw+GrmbSb62uNUkjtTNIJY2eEREqxBRmDeu081y0cR7aLurN3t/X3ntZnk8sBJOnLngknKVrJN9NfJx++x9afsrfEjXvij8PdQ1XxFdJd3sOqSWqSJCsY8sRRMBhQB1dua9d1DUbTSbSS7vrmGztY8F57iQIi845Y8Dk15V+zF8Ltb+EvgG/0jXzam9n1OS7X7JKZF2NFEoySBzlD29K7b4iHbodkTz/xNtN/9LIa9GlHnnGL6s+ZqS5IuS6Cn4n+DV6+LdDH11KH/wCKrobS7gv7WK5tZo7m3lUPHNE4ZHU8ggjgg+tc611PFdRzCWRxHIGMe/AYA9KyvAsMek+Lta0yyEsGmtZWuoraSOHWKaWa5SQpwMBvJQ4HGcnqTXdVwsY03OPT+vI5adeTmoy6neUUVHcwLdW8sLM6rIhQtG5RgCMZDDBB9xyK807SSivn2d/Euj6lbfCbXfFepW2pagr3fg/xpavuuZ/s2JGt72PpI8a43FhsnQnO1859A+EvxMuvGUmueH9fsotN8aeGpYrfWLW1YyWzGRS0U8D945FBYK3zpyrDgEgHoVFFFABRXgPxV8Z/2R461G1/4Wj468N7BF/xLdH8E/2jaxZjU/JP/Z02/Odx/eNgkjjGAfCrxl/a/jrT7X/haPjnxLvEv/Et1jwT/Z1rLiNj88/9nQ7MY3D94uSAOc4IB79XHfF7/knmq/WH/wBHJXY1x3xf/wCSear9Yf8A0clIZ4dH9xfoKKI/uL9BRUlHsHxa+Edt8RI7DVLCaLSfGOjlpNJ1hoRKIyfvQzIf9ZA/RkP1UhgCN3wxogvPD+nza74e0vTtYeFTd2tqqzRRy/xBHKgsuehIBx1rpaKsgaiLEioihEUYVVGAB6CnUUUANkiSZdsiK69cMMisbX9Lubq3jttNjt7UzNtmu2QFoUxyUXHLHoM8DrzjFbdFAFLR9HtNB0+KysohFBGOB1LHuxPck8kmrtFFAGX4q8OWfjHwvrGgairNp+q2c1jcKpwTHKhRwPwY15R4X+KPiD4b6HZ+G/HXhHxJqGq6dEtrHrXh3SpdStNURBtSYeSGaF2ABZJVUKxOCRg17XRQB5X8PNJ8QeLfiHf/ABB8RaTP4cgGnDSNE0W6kRrmK3aQSzz3AQsqSSskICBjtWIZOSQPVKKKAI7D/ka7P/ryuP8A0ZBXK+PvDuveFPGifEHwlYtrMz2iWGu6Ajqkl/bRszRSwMcDz4i8mFYgOrlcgha6aeCU3ENzbTC3uoQyqzJvVlbGVYZGQcKeCDkDmpPt+uf8/mn/APgFJ/8AHqkaPPnfWvj5rOlpPoep+F/h/pd5Ff3Ca1bm2vdYuYXEkMQgb5o4EkVXZnALlFAG3JPtFcx9v1z/AJ/NP/8AAKT/AOPUfb9c/wCfzT//AACk/wDj1Fh3PKfh98QB8LE8U6Hrnhbxe123ibV7+KXTfDd5fW8sFxeyzROksMbIcpIuRnIOQQCK1fC+vS/EP496d4hsdB1/TtH0zwze2E9zrmkXGnBp5rq0eNEWdFZ/lgkJKggcZPNeg/b9c/5/NP8A/AKT/wCPUfb9c/5/NP8A/AKT/wCPUWC5s65pMOv6Lf6ZcM6QXkD28jREBgrqVJBIIzg+lUNX8IWmsXN5cSTXEM1zHax74mX92beZ5onXKnkO+TnIOBx1zV+365/z+af/AOAUn/x6j7frn/P5p/8A4BSf/HqLBcpeJPBE1xa3Jsry8kmvL6wuLhN0SgNFNAHnB2jDiOEcA7fl4XJq+/giKSxvLc6nel76Uy3c7pA7XHyBArK0RQKFVQAqjp7nLft+uf8AP5p//gFJ/wDHqPt+uf8AP5p//gFJ/wDHqLBcuQeE7eCWwJubqWGwdXt7eVwyIVh8odsngk8k/MSfTFfUvAmn6roF1pM8lx5NzctdSTq4EpdpN5wcYAwdnT7vHvUf2/XP+fzT/wDwCk/+PUfb9c/5/NP/APAKT/49RYLjpPAOmSS6/IGnQ6zEkUwVlAhCqQDEMfKcktzn5uabafDzSbO8SdRM4XTf7L8p2BRouMsRjlyAAW9B0o+365/z+af/AOAUn/x6j7frn/P5p/8A4BSf/HqLBoRWPw203T30uWG4vBPp8MsccxkUtI0m7Mr/AC4LgySEHgfvG4Oapa38ING8Q/8ACQte3V+8ut29jBNMsqq8L2jtJBNGQvEgdt+TkZVeMZB0vt+uf8/mn/8AgFJ/8eo+365/z+af/wCAUn/x6iwXOe074G6Za68mtXuuazrWqjU4dVkuL54B5ssVrLaopSOFFCeXM2VULkqD/eze8I/Cr/hCtLsdK0/xVr50XT3gFjp0rWxjtYIgQtsrCASNFtKqd7s2EXDDnOn9v1z/AJ/NP/8AAKT/AOPUfb9c/wCfzT//AACk/wDj1FgueP8Ah34MXd94y0zTrvSNftfAmk6dqenrY69eWMlv5NyEjEFqLZjKY9m/5rg7lUIo6tjuh8BdKutM1S11TXdc1u4vNOTSodQvpYPtFjAjb4/IMcKrvWQK+91di0abi23FdN9v1z/n80//AMApP/j1H2/XP+fzT/8AwCk/+PUagJ4Y+HeleE9JsNOsWuDbWOmR6VB5zhmWJfvOTjl3OCzHqVBwOc2JfB0HkaStrfXlhcaZbm1guoDGZDEQoZWDoykHy0P3eqjGKg+365/z+af/AOAUn/x6j7frn/P5p/8A4BSf/HqLBcs3XhGG/wBTs7y8vbq7FocxQSrFsDGMoxyIw/IJJG7BJ6Y4qmnw6sPsb2s93e3cIs2sLdZpEzbQttyqEKCT8ifM+4/IOeuX/b9c/wCfzT//AACk/wDj1H2/XP8An80//wAApP8A49RYLj4/A1sNQN9Pf3t5dNNBMZJmjGTEHCjCoAB85zgenvmd/CFs93qD/arkWeobjd6flDBMWjEbE5XeMqB91gMjOOTmr9v1z/n80/8A8ApP/j1H2/XP+fzT/wDwCk/+PUWC5Zg8Lzwac9n/AG9qUkZCqrSrbuyIARt5iwwIPJYE8DnrmvZeANOsNI1DTo5blor2zFi7sy7kiCsAEwuBy7tjGAWOBjACfb9c/wCfzT//AACk/wDj1H2/XP8An80//wAApP8A49RYLlzUPC6Xl5b3lvf3em3kMJt/PtTGS8eQdrB0ZTgjIOARk88mq+p+BrPW71p9Rubm9jMUsC28gjVVSRCjgMqByCCeCxGTnqBiP7frn/P5p/8A4BSf/HqPt+uf8/mn/wDgFJ/8eosFxw8DW0rNJd399f3JktnFxO0e8LBMJUQbUAxuHJxk568DDrfwRbW2pWl0t7eGO0vJ76C0LJ5SSSiQP/BuI/fOQCxxnjjio/t+uf8AP5p//gFJ/wDHqPt+uf8AP5p//gFJ/wDHqLBcji+HGnJY21nLc3lxb2tnJYQLI6AxQuYiACqg5QwptJyeuSeMWU8FWzO01ze3l7dtcQTtczGMO3ktujTCoqhQS3AAPzHmovt+uf8AP5p//gFJ/wDHqPt+uf8AP5p//gFJ/wDHqLBoO1TwNbapb6jbtfXcNvqEzTXUKLCyyFkRMfPGxAAQYIwck89MS3PgqyudNu7Mz3SfabyO+adZB5okjZGjwSDwvlIoyDwvrzUH2/XP+fzT/wDwCk/+PUfb9c/5/NP/APAKT/49RYLijwJbrMlyNRvv7RFy10b4mIyM5iEWCDHsA2AAYUdPUnJZ+ANOsbC4tI5roxT6eNNYu4LCIGQ5B2/e/etyc9Bx1yn2/XP+fzT/APwCk/8Aj1H2/XP+fzT/APwCk/8Aj1FguPTwHp0epnUUaZLwypIZQVyVESxGI/LyjKgyp78jBAw+58CaPMvlxWy2Vt9iubA29mqxR+XOYzIcKOG/drgj1PXjEP2/XP8An80//wAApP8A49R9v1z/AJ/NP/8AAKT/AOPUWC4qeA7XzJpJ769upZWs2LyGMY+zSmWMAKgAGTg4HI9DzR/wgVokcS299e2rJHPCzxMm6SOWTzGU5Q4w3QjBHrSfb9c/5/NP/wDAKT/49R9v1z/n80//AMApP/j1FguS2vgTTbfS77T2M89teW0VrKJHAOyOMRqQVAwcDOfXpipJfDE8+nPZza9qM6ufmkljtmJXGNhBh2kHryM+9Vvt+uf8/mn/APgFJ/8AHqPt+uf8/mn/APgFJ/8AHqLBcsWfguwsdKvNPjknMNzbJZlncM6RJF5aqpx2GW5zyzH2rRk0mOS5km8yRfMZGdARglcY7Z7DvWN9v1z/AJ/NP/8AAKT/AOPUfb9c/wCfzT//AACk/wDj1FgudKiCMYGepPPuc182jwp4u0JtV0i48C+LtVtk8SanrNpqXhTxTb6bFcRXV086rIpuoXYqHClXUjIOCQa9t+365/z+af8A+AUn/wAeo+365/z+af8A+AUn/wAeosFziPCtv4q8XfGez8Wax4PvPCGm6boF3papqN7azy3Es9zbSgqLeWQBVW3OSxBywwOtevVzH2/XP+fzT/8AwCk/+PUfb9c/5/NP/wDAKT/49RYLnMzQrIjxSLuVgVZT3HcV59afBXTbEQvb6zq0V5aiCOxvFNv5llFCkqRxRjydrKEnlXMiuxDcnIBHr7jUpXLO+kux6s2nMSf/ACLTfK1D10j/AMFzf/HaVgv0PJ7n4J+HJre1SJJrWa0s4bKC6hEfnIsbq6sWZDuYlFzuyMDgDJz2ul6bFpWnWdhbBvItokgiDHJ2qAo578Cuj8rUPXSP/Bc3/wAdpyDUonDI+kow6MunMCP/ACLVa6ruGn9f15HX14v8XLLxJafFzwV4g0DwfJ4lksdN1G3hlimigjiuZmt1T7TKx3JCIxO3yq5LYAXOK9B+365/z+af/wCAUn/x6j7frn/P5p//AIBSf/HqVgueT3tl8Q9c+KPw6PijwhZXE+i6lcXD65o0ok0w20lpMjZSUiWKZZPI24DBhkhhkgeweKv9dov/AF+n/wBJ5qr/AG/XP+fzT/8AwCk/+PVE8d5e3ME1/cxTeQS0ccEJjQMQRuOWYk4JHUDk8UWEWa87/aBvvEmm/CfV7nwmdTXWY5rMhtGt1uLxbf7XCLkwxsrBnEBmIG0nPQE4r0SiqEeA/Dz4leFvhzpd9bWuhfE/VbrULx9Qv9S1PwdqUlzd3DKiGRytsqj5I41AVVACAAV0n7PpvL9/iNrtxpGp6PZ654pkvrGLV7N7S4kgFlZweYYZAHQF4ZANwBIAOMEV61RQAVg+PfBWnfEfwVrfhfV1dtN1a0ktJ/KOHVWGNynsw6j3AreopNJqzLhKUJKcXZo/K7xT+x/+0f4D8Zad4X8K+INb1Xw7+8g03U7DWJbe1tYG++sibx5OR95QCG6Dd0r7q/ZT/Z0t/wBm74btojX39qa1fzm91O9XIR5ioXagPOxQMDPJJJ4zgez0Vx0sJToy54/8MfQ4/PsXmFBUKiSXWytzPu/63CuV+JaTHwzHJDbz3Rg1CxuHjtYWmk2JdRO5CKCzYVScAE8V1VFehTn7Oan2Z8xOPPFx7ngjeIfEIHNzrZbuV8PX2P8A0iNdb8K5dQ1DxLqt5eRXxA0yztjdXmnzWYkkWe8cqqyxxltqSR5IXHNenUV62IzL29J0/ZpX7W/RI8zD5f8AV6iqe0b9W3+bCo7kzLbym3RJJwhMayMVUtjgEgEgZ74P0NSUV4x6x41YfCbxdpukapr0etabc/FXXBHb3XiC6id7bSrUvloLKEj7kYyVVseY+HkPYegfD34e6R8NPDqaTpKSuGka4ur26fzLm9uH5knnkPLyMeST7AAAADpaKACiiigDgPFXw+8Wa7rtxe6X8UNd8N2UgXZptnp2mzRRYUA7Wmtnc5ILHcx5JxgYAPCvw+8WaFrtve6p8UNd8SWUYbfpt5p2mwxS5UgbmhtkcYJDDaw5AzkZB7+igArjvi//AMk81X6w/wDo5K7GuO+L/wDyTzVfrD/6OSkM8Oj+4v0FFEf3F+goqSj5+/4aT+Ff/Q66p/381P8Awo/4aT+Ff/Q66p/381P/AAr4For2f9WsL/z8n96/yPmP7exP8kfuf+Z99f8ADSfwr/6HXVP+/mp/4Uf8NJ/Cv/oddU/7+an/AIV8C0Uf6tYX/n5P71/kH9vYn+SP3P8AzPvr/hpP4V/9Drqn/fzU/wDCj/hpP4V/9Drqn/fzU/8ACvgWij/VrC/8/J/ev8g/t7E/yR+5/wCZ99f8NJ/Cv/oddU/7+an/AIUf8NJ/Cv8A6HXVP+/mp/4V8C0Uf6tYX/n5P71/kH9vYn+SP3P/ADPvr/hpP4V/9Drqn/fzU/8ACj/hpP4V/wDQ66p/381P/CvgWij/AFawv/Pyf3r/ACD+3sT/ACR+5/5n31/w0n8K/wDoddU/7+an/hR/w0n8K/8AoddU/wC/mp/4V8C0Uf6tYX/n5P71/kH9vYn+SP3P/M++v+Gk/hX/ANDrqn/fzU/8KP8AhpP4V/8AQ66p/wB/NT/wr4Foo/1awv8Az8n96/yD+3sT/JH7n/mffX/DSfwr/wCh11T/AL+an/hR/wANJ/Cv/oddU/7+an/hXwLRR/q1hf8An5P71/kH9vYn+SP3P/M++v8AhpP4V/8AQ66p/wB/NT/wo/4aT+Ff/Q66p/381P8Awr4Foo/1awv/AD8n96/yD+3sT/JH7n/mffX/AA0n8K/+h11T/v5qf+FH/DSfwr/6HXVP+/mp/wCFfAtFH+rWF/5+T+9f5B/b2J/kj9z/AMz76/4aT+Ff/Q66p/381P8Awo/4aT+Ff/Q66p/381P/AAr4Foo/1awv/Pyf3r/IP7exP8kfuf8AmffX/DSfwr/6HXVP+/mp/wCFH/DSfwr/AOh11T/v5qf+FfAtFH+rWF/5+T+9f5B/b2J/kj9z/wAz76/4aT+Ff/Q66p/381P/AAo/4aT+Ff8A0Ouqf9/NT/wr4Foo/wBWsL/z8n96/wAg/t7E/wAkfuf+Z99f8NJ/Cv8A6HXVP+/mp/4Uf8NJ/Cv/AKHXVP8Av5qf+FfAtFH+rWF/5+T+9f5B/b2J/kj9z/zPvr/hpP4V/wDQ66p/381P/Cj/AIaT+Ff/AEOuqf8AfzU/8K+BaKP9WsL/AM/J/ev8g/t7E/yR+5/5n31/w0n8K/8AoddU/wC/mp/4Uf8ADSfwr/6HXVP+/mp/4V8C0Uf6tYX/AJ+T+9f5B/b2J/kj9z/zPvr/AIaT+Ff/AEOuqf8AfzU/8KP+Gk/hX/0Ouqf9/NT/AMK+BaKP9WsL/wA/J/ev8g/t7E/yR+5/5n31/wANJ/Cv/oddU/7+an/hR/w0n8K/+h11T/v5qf8AhXwLRR/q1hf+fk/vX+Qf29if5I/c/wDM++v+Gk/hX/0Ouqf9/NT/AMKP+Gk/hX/0Ouqf9/NT/wAK+BaKP9WsL/z8n96/yD+3sT/JH7n/AJn31/w0n8K/+h11T/v5qf8AhR/w0n8K/wDoddU/7+an/hXwLRR/q1hf+fk/vX+Qf29if5I/c/8AM++v+Gk/hX/0Ouqf9/NT/wAKP+Gk/hX/ANDrqn/fzU/8K+BaKP8AVrC/8/J/ev8AIP7exP8AJH7n/mffX/DSfwr/AOh11T/v5qf+FH/DSfwr/wCh11T/AL+an/hXwLRR/q1hf+fk/vX+Qf29if5I/c/8z76/4aT+Ff8A0Ouqf9/NT/wo/wCGk/hX/wBDrqn/AH81P/CvgWij/VrC/wDPyf3r/IP7exP8kfuf+Z99f8NJ/Cv/AKHXVP8Av5qf+FH/AA0n8K/+h11T/v5qf+FfAtFH+rWF/wCfk/vX+Qf29if5I/c/8z76/wCGk/hX/wBDrqn/AH81P/Cj/hpP4V/9Drqn/fzU/wDCvgWij/VrC/8APyf3r/IP7exP8kfuf+Z99f8ADSfwr/6HXVP+/mp/4Uf8NJ/Cv/oddU/7+an/AIV8C0Uf6tYX/n5P71/kH9vYn+SP3P8AzPvr/hpP4V/9Drqn/fzU/wDCj/hpP4V/9Drqn/fzU/8ACvgWij/VrC/8/J/ev8g/t7E/yR+5/wCZ99f8NJ/Cv/oddU/7+an/AIUf8NJ/Cv8A6HXVP+/mp/4V8C0Uf6tYX/n5P71/kH9vYn+SP3P/ADPvr/hpP4V/9Drqn/fzU/8ACj/hpP4V/wDQ66p/381P/CvgWij/AFawv/Pyf3r/ACD+3sT/ACR+5/5n31/w0n8K/wDoddU/7+an/hR/w0n8K/8AoddU/wC/mp/4V8C0Uf6tYX/n5P71/kH9vYn+SP3P/M++v+Gk/hX/ANDrqn/fzU/8KP8AhpP4V/8AQ66p/wB/NT/wr4Foo/1awv8Az8n96/yD+3sT/JH7n/mffX/DSfwr/wCh11T/AL+an/hR/wANJ/Cv/oddU/7+an/hXwLRR/q1hf8An5P71/kH9vYn+SP3P/M++v8AhpP4V/8AQ66p/wB/NT/wo/4aT+Ff/Q66p/381P8Awr4Foo/1awv/AD8n96/yD+3sT/JH7n/mffX/AA0n8K/+h11T/v5qf+FH/DSfwr/6HXVP+/mp/wCFfAtFH+rWF/5+T+9f5B/b2J/kj9z/AMz76/4aT+Ff/Q66p/381P8Awo/4aT+Ff/Q66p/381P/AAr4Foo/1awv/Pyf3r/IP7exP8kfuf8AmffX/DSfwr/6HXVP+/mp/wCFH/DSfwr/AOh11T/v5qf+FfAtFH+rWF/5+T+9f5B/b2J/kj9z/wAz76/4aT+Ff/Q66p/381P/AAo/4aT+Ff8A0Ouqf9/NT/wr4Foo/wBWsL/z8n96/wAg/t7E/wAkfuf+Z99f8NJ/Cv8A6HXVP+/mp/4Uf8NJ/Cv/AKHXVP8Av5qf+FfAtFH+rWF/5+T+9f5B/b2J/kj9z/zPvr/hpP4V/wDQ66p/381P/Cj/AIaT+Ff/AEOuqf8AfzU/8K+BaKP9WsL/AM/J/ev8g/t7E/yR+5/5n31/w0n8K/8AoddU/wC/mp/4Uf8ADSfwr/6HXVP+/mp/4V8C0Uf6tYX/AJ+T+9f5B/b2J/kj9z/zPvr/AIaT+Ff/AEOuqf8AfzU/8KP+Gk/hX/0Ouqf9/NT/AMK+BaKP9WsL/wA/J/ev8g/t7E/yR+5/5n31/wANJ/Cv/oddU/7+an/hR/w0n8K/+h11T/v5qf8AhXwLRR/q1hf+fk/vX+Qf29if5I/c/wDM++v+Gk/hX/0Ouqf9/NT/AMKP+Gk/hX/0Ouqf9/NT/wAK+BaKP9WsL/z8n96/yD+3sT/JH7n/AJn31/w0n8K/+h11T/v5qf8AhR/w0n8K/wDoddU/7+an/hXwLRR/q1hf+fk/vX+Qf29if5I/c/8AM++v+Gk/hX/0Ouqf9/NT/wAKP+Gk/hX/ANDrqn/fzU/8K+BaKP8AVrC/8/J/ev8AIP7exP8AJH7n/mffX/DSfwr/AOh11T/v5qf+Fa/hL43eAPF/iKz0jRPE9/qOp3BbybaZ74o+1SzZ80bOFUnn045xX53V6t+yz/yXjwv9bn/0mlqJ8P4ajF1YzneOurXT5GtLOsRVqRpyjGzaWz6/M/SWP7i/QUUR/cX6CivJPoj4j+Dv/BPL4k/G74c6R400HVfDNvpWqCUwxX93Oky7JXibcFgYD5kOME8YrZ8Q/wDBMj4q+Gr3QLW61nwm8mtX/wDZ1sYr25IWTyZZsvm3GF2wOMjJyRx3H3F+xTpmpa3+wb4e07Rr7+zNXu9N1S3s77cV+zzvc3KxyZHI2sQeOeK828J/B340fC347fCW5+InxTk8baLe63PDFp/2iZwkw0+7YSEOAOFDD/gVfSvGVfaTjzJWvZW3tc+XWCo+zpy5W+ZK7vor2Pn9v+CTvxhVSRrXg5iOwv7nJ/8AJavnf42fs7+O/wBn3WotP8ZaM1klwT9lvoWEtrcgYz5cg4yMjKnDDIyBmvur/gpN8fPiD8Gfit4KXwZ4qv8AQoJdLa4ltoGBhlcTMAXjYFW4GORXr1tqNt+2r+wpPqviTToINUutMupgyKCsN/amRVnjz90M0ecDkK7LkjJNwxdeEYVatnGWnmiJ4PDzlOjSupx18mfnp8af2HfHvwJ+G0HjfxBqXh+60iaWGFYtOuZnn3Sglcq8KjHBz81a/wABv+Ce/wATvjjolrr+yz8K+HrkB4LzWC4luIyMiSKJVJZTxgsVBByCRX6S/HTwDp3xS+Hfwu8Masnm6Xfa/pzXMR6SxxQSzMh9mEZU/wC9Xkf/AAUY/aj8UfATS/DPhTwPMmj6jrEUs82pJGrPbwRlVVIgQVBYk/N1AXjrkZ08bXrKNOFuZ317I0qYGhRcqs78qS07s+Mf2nf2EvFP7M/hi28SX2v6VruiXF4lirWyyRXAldXYZjKlduIzyHJ9q6r4c/8ABNHxv4s8MWuq+IvEOk+DLq/QNZ6XfK8lwxIyFlAwI2Ix8o3MO4BBFebw/td+OfG8Hhzw98RNZbxR4asvENjrEj3sStcRiFyHUOANysjvlWzyBgjkH2b9ub4W+Pfif8T9I8U+Hg/iTwxdWECafJZ3KtHbcZJ5bAVyQ4ccHcOeBXXKpXhy06k0m76nJGnh581SnByStpfv16nP6B+w+3wt1nUbn4wyAWFrIsVlZaRKzjUyw4ZGAD4J+UKArZDE7QvPpsXw1+AfiyK30fWfAOpeDrdj5MWuRzIn2ckcNK6TSeo+d1dBzuYc16x+0Zo+v6B8Lvg1b+JtTeXWdK08Qatfu5l8u8aCFBPI7dQXWWMsfvGXH8RrxG70iwhWTyYrlmE/2U2wcTtqAfGIlQMSsjSAAIQxYELnkl+ONSdZc8pu/lojtlThQfJGCt56s+XP2lPgBqv7OXxMufDGoT/b7OSIXenagE2C5t2JCsV52sCrKy5OCOCQQT5XX3J/wUwuk07Sfgt4X1K8S/8AF2k6E7apMrbmYssEYYnvukhmI/8Ar18N17OGqSq0YzlueJiqcaVaUI7BRRRXScgUUUUAFFFFABRRRQAUUUUAFFFFABRRRQAUUUUAFFW9I0u51zVbLTbOMzXl5MlvDGvVndgqj8SRXvnx48Pi58CWOoWFzp1xH4O1L/hHoptN1C3uWayKbraVhC7FCZYrpjuwcyionNQav1/4C/Nr+kawpupzW6f8F/kn91up88UV9U/FvUF8UWvxIsf7f1TVtSg0jStRntNYh/0W0REtQ728nmuTMxlVeUjyrSDJJAqjHdz6f8epvCBlkHw3/s1t2nlj9ibTfsPmC62fd34xL5mN3mc5zWPttG7a2v8Ahf8Ar0Zt7DVa6Xt87+v9XR8yUV7VqWqazqHhj4GCzvb6Y25ntrYRzOfKnGoOdqc/KwR4unOCvtXT+Bfiz4hu/if4s02y1u7i05IfFGopLbXUim4kkspisjkNhivlIVPUVU6jjFyS2U3/AOA/5/1ciNJSlyt/y/8Ak1/ysfN1Fbfi/wAYal441ZNT1aY3N8LaC1ed2ZnkEUSxqzFiSWKoMn1rErZXtqYO3QKKKKYgooooAKKK+qvEOr3GpeCL5f7Z1PXNQi+H1gz+HrwE2vlMIw92jGRt7wja+3YpHLbsIQcqs/Zx5rf1Zv8AT9XobUaftZ8t7aX/ABS/X1ey1Z8q0V9Dp4rvoPgz4BsbfxR4kttWn07ULXTtI05TJb3jteGMRSfOeCjOoXyznjkVV8G3tzrXgbTvC9nqGoeEteXRNQlitXG/StctSLh5HlAIMc4USIrsrqfKj5j2g1MqrinK23/B/wAul/wLjSUmlff/AIHn59bHgVFfQVjqOseGfFvwj0nww8o0LVdPsZZbOM/6NqUkkrLdi4X7svzCSNg+cKgHAFY/jy+Rfg7c6foN9cTeHbHxxqAtokmYxpE0Mf2c4zgZCSEH2b3pupZ2t1a+6Sj+unfXYUaXMt+if3xcl+Vn2v1PFaK+mrTxVfr42+L0l/4j1nTzH4WtIrm7s3aa4jkjn09CNpkTLKxdTlhjLfQs1uyab4l+MbqFPt2s6b4Lhu9B1Jxul1MrHbg6gBzmU25nl7shXqWTdUOtbVrpf8L/ANffsmVGhzbPrb8Uv1/ptHzRRXuPwR8ceLNY+Lnw7n1fVtUlt4LqeC11CV3aUoy5lRZCQXAyPl3YG7tmq9j4vupvGnhfWIrjxF4+0XTbe5Z5dW/dXEUghd7nyXJkCNFHtlX5n2sobvirc2nZr+tf8uvchU01dP8AD0/z6dEeLUV6b8aIp7y18K6ynia88UaNfWcyafc6rEY7+JUnffFONz7irucOGZSOmMFR5lVwlzK5E48krBRRRVmYUUUUAFFFaHh3QrrxPr+m6PZLvvL+5jtYVPQu7BR+pppXdgbsrmfRX0H8fdKF/wCEdG8QabcWMkXhvUZPDcUumahBcsLJR5lhK5hdtjNtuPvYPyiuz1zVJvGXjfx14m0y8lsPFWgadq9lrS20pje9svssy291wRlkYRxP/wBsW5JY1yOuuRzS2Tf3K6++6v2v6nZ9XfMoN72/Oz+6zt3t5o+SaK+j/gt4Lkvvh2fDzyadHJ49iu1CXOoW8U4MA/4l5jidxI2+6SRTtU5FcHLqOpD9m620sXV19mPiuVTZ+Y2wt9mjONmcZzz061o6msopXtb8Xb70/wCtTJUrqLbtfm/BN/ieWUV7p8NNcu/+Eb1jwx4kkvVPgO4k8S2Fr5rYimidYprYgH5Q7tEdw5XY+OXNJ8NPH95fwXk+t6xrmhatruuLPB4v0/M5kulUbre6jDK8kP7xG+U5XJ+R84D5221FX2+d7Wt+P3aXuLkVk27b/JpNu/4ffrax4ZRXs9zLrfh34SfFbQbvUX3QeKtPgu4bSc/ZpJAL4SFQMAqWjU9Odq+grV8YX9x4q+H2vQWWoahoNzommWH9seEdQAeyCI0ES3Fm4OEZnaNmjZQf3jkO/IqFWvqlpp+KTv8Aj/wxo6Npcreuv4Nq2/l/lc8DoooroOUKKKKACiiigAoor3H4ea9YX/wfs/B3iO5EGh6xrd3Hb30xJGl3iwWxhuB6JudlkA6pIxwSq1Mm4q6Vy4RUpKLdr3/BN/oeHUV9P22p+IPDnxs8X2mt63q+m6hZ+BxbXlxbzNLcRMmmQk4/eLuIfJHzAZ5zXN+D/Fup6n8UJNKj8Q65f6J4t0iXw/aalqjtFNdb42EJcg/MFusL1bABXJFY+2dvdV/d5vz028vx8jf2KXxO1pcr8vhu9+l/w8zwSivqnWtdv9H8JaJr9rq1/DqHgHSLvw3dH7XJuW5kjj8rHzcYlu5lAH8NmPSuT0HUbrxH4Bh8PWepaj4X1228PXlw+nTjzNL1u0AmneY4OYrjZuALKwYxr8yHAodaycrbf8Fr8En6O+yYKhdxTe//AAE/ubavs2rdTwKiiiug5QooooAKKKKACrWk6Tea9qtnpunW0t7qF5Mlvb20K7nlkYhVVR3JJAFVa7j4G+PrX4W/GHwf4tvrZ7yy0fU4bueGMAu0at823JA3AZIyeoFTJtRbW5cUnJJ7Hc3n7PvhfSdQtvD2p/E2w0/xXcKyqJdOn/spZwxQwG96Eh1KGRUaMMGBbg1494h0C/8ACmu6ho2q27WmpWE721xA/VJFJDD8xX0N8Rfg/qXj/UfCh07WNEHhLSdOTSz4rn1qAWbwrPLIs5jLebG5SQF4im8uGwDkVyH7XfhfXPDnxw1qTWdIn0qK9SGWwebaRd2yxJHHOGUlSXCBmweGJB5rmpVLyUXK9zqq0rRclG1mjxiiiius4gr1b9ln/kvHhf63P/pNLXlNerfss/8AJePC/wBbn/0mlrnxP8Cfo/yOrC/x6fqvzP0lj+4v0FFEf3F+gor4I/QR/wCzDqVzpH/BNlb6xuZbO+tfDuuTwXEDlJIpFku2V1YcgggEEdCK+NP2NPjD45+In7V3w2sfFXjHXPEVlBeXM0VvqmoS3EaSfY5xuAdiAcEjPua+dLD4p+NNK8PHQbLxfr1noRjeH+zLfU5kttj53r5QbbhtzZGMHJz1rF0TXdS8M6pBqej6jd6VqUBJhvLGdoZoyQQdrqQRkEjg9Ca+zhg+VVbtXle3lc+InjeZ0rJ2ha/nax+v37YX7EuoftS+PPDWsQeKrXw/YabZGzmSS1aeV8yF8qAyjoccmuf/AGlfil4H/Yw/Zo/4VT4UvFm8R3OnSadZWXmCSeMTA+deT4+4T5jsOBlmAVdoO38zn+PnxOlQo/xG8WurDBVtcuiD/wCRK4q8vLjULqW5up5Lm4lbdJNM5d3PqSeSawp4GfuxqzvGPSxvUzCF5TpQtKW7ufs7+1l8Spfg/wDA3wD4zghFy2j67pdw8AODJF5brIgPYlGcA9s1V+OnwL8C/t/fDHw94h8OeJ47e7tQz6fq9ugmVA4UyW88W4EHhcgkMhHoSD+Ruv8AxS8Z+KtKXS9b8Xa7rGmqysLO/wBTmnhBX7p2OxGR244pPA3xO8W/DK/N74U8Sap4euGILtp108Qkx0DqDhx7MCKmOXyhFOE7TTepUsxjOTjOF4NLT0Ppj9pv9g+D9mP4Kp4o1DxQ3iHW7rWILCKO3tvIt4YmjmdiQWZnYmNcHgAZ4OQR3f8AwTr8I+LtSsbzxp4q8S3WlfCPwwJJ0tr6QfZ7iZBubbvB2xR/eYqQC2Bz82Pj74i/HDx/8Wig8YeLtW1+FGDpbXVyxgRgCAyxDCA4J5Azyawv+E58Sf2D/Yf/AAkGqf2Lt2f2b9tk+zbc7seXu24zzjHWut0KtSj7OpJNvrb8jkjiKVOv7SlFpLpf8z7FuP2qPHvxb+NXiPxVoejQa74Cu7pNIh0bUZkiEcSo7RcknZJKizOQQwbbIMHYCOs0T4wR+C9Bk8V+DPgbY2OpnR5NXttSvryBIILYO6M67QDjKH5FMZYMn99c/AWl+INU0TH9naleWGJUn/0Wd4/3ihgr/KR8wDuAeoDt6mrL+MtfkgEL65qTQhDGI2u5CoUoEK4z0KAKR6ADpSlgoPZafP8AHUqOOml7zu/l+F0dH8cdZ8Ya/wDFHXbzx3dG78TSSKbhwwaMKUUxiPb8vlhCu3bxjGM9a4SrOpaneazfS3uoXc99eSnMlxcyNJI5xjJZiSeAOtVq74rlikebJ80mwoooqiQooooAKKKKACiiigAooooAKKKKACiiigAooooAt6RrF/4f1K31HS76503ULdt8N3aTNFLE3qrqQQfcGrlr4w16ytdQtbfW9Rt7bUXWS9hiu5FS6cNuDSAHDkHkFs881kUUWTHdo6LX/iP4s8V2z2+t+KNa1i3dlZor/UJp0YqMKSHYgkDp6VUk8Y6/Loa6K+uak+joNq6e13IbcDO7Ajzt689OvNZFFTyxStYfNJu9zX0nxjr+g6fcWOma5qWnWNwSZra0u5Io5SRgllUgHjjntSeHfF2u+ELiafQta1HRZ5kMUkunXUluzoQQVYoQSOTwfWsminZa+YXenkPnnkuZpJppGlmkYu8jsWZmJySSepNMoopi3CiiigQUUUUAFdDJ8RvFk2oWd/J4o1l76ygNra3TahKZYISpUxo27KoVJXaMDBxXPUUmk9xptbHVad8WfHGkadbWFh4y8QWVjbKUgtbfVJ44olJyQqhwFGT0FZ6eNvEUehf2Kuv6oujbSv8AZwvJBb4JyR5e7bgnnp1rFopcsexXNLua9l4x1/TNIl0mz1zUrTS5txksYLuRIH3DDZQHacjg5HNN0HxZrnhZp20XWdQ0hpwFlNhdPAZADkBtpGcH1rKop2RN2a2leL9d0NNRTTdb1HT01JDFera3ckQukJyVl2kbxnnDZoHi7XVfSnGtagH0ldmnsLqTNmu4tiHn92NxJ+XHJJrJoostx3fc6MfEnxcNattYHinWhq9qpSC//tGb7REpzkJJu3KDk8A96defE7xjqN3Y3V34s1y6urFne0nm1KZ3t2YAOY2LZQkAAkYyAK5qilyx7D55dy/rWv6p4kvPter6ld6pd7Qnn3s7TSbR0G5iTj2qhRRVJJaIltvVhRRRQIKKKKACruja3qPhzUodR0m/utL1CEkxXdnM0MsZIwdrqQRwSODVKigZrWni/XbCwvLG21rUbeyvJVuLm2iu5FjnkU5V3UHDMDyCeQaLzxdruo6td6pd61qFzqd3G0NxezXUjzTIy7GR3JyylflIJwRxWTRS5V2HzPubS+N/ES3mlXY1/VBd6Six6fOLyTzLNQchYW3ZjA7BcVo6f8W/HOkxSxWPjPxDZxSztdSJb6rPGrzMctIQH5Y926muUoo5U90Ck1sza0zxv4j0SXUpdO1/VLCXUgVvntb2SNroEkkSlWG/JJPzZ60mh+NfEPhm2mt9H17U9Jt5m3SxWN5JCkhxjLBWAJx61jUUuVbWDmlvc1LbxXrdnod3osGsX8Gj3cgludPjunW3mcdGeMHaxHqRU2qeNvEWuabDp2o6/qeoafDt8q0urySSJNowu1GYgYHAwOKxaKdl2DmfcKKKKZIUUUUAFFFFABWg/iLVZNDj0V9TvG0eOY3Cae1w5t1lIwXEedoYjjOM1n0UWuNO2xvaZ8QPFGianNqOneJNXsNQnhW2lu7W+ljlkiVQqxs6sCVCqoCk4AUDtUWr+NPEPiDUrTUdU17U9S1C0CrbXd5eSSywgMWUI7ElcMSwwepJrGopWV7ju7NX0L83iDVLmC+hl1K8lhv51uruN53K3Ew3YkkBPzsN74Y5PzN6mrbeNvET6ENEbX9TbRguwacbyT7OFzux5e7bjPPTrWLRRyrawczve4UUUUyQooooAKKKKACiiigAr1vXf2jtb8XfA2z+G/iOwtddXS7pJtI1y7ybzT4QMNAjd0OBwTwBjnC48koqZQjKza2LjOULqL3CiiiqICvVv2Wf+S8eF/rc/wDpNLXlNerfss/8l48L/W5/9Jpa58T/AAJ+j/I6sL/Hp+q/M/SWP7i/QUUR/cX6Civgj9BOV/4dV/C7/oJ+Nf8AwaWn/wAh0f8ADqv4Xf8AQT8a/wDg0tP/AJDr7u2j0o2j0rt+u4j+dnD9Rw38iPhH/h1X8Lv+gn41/wDBpaf/ACHR/wAOq/hd/wBBPxr/AODS0/8AkOvu7aPSjaPSj67iP52H1HDfyI+Ef+HVfwu/6CfjX/waWn/yHR/w6r+F3/QT8a/+DS0/+Q6+7to9KNo9KPruI/nYfUcN/Ij4R/4dV/C7/oJ+Nf8AwaWn/wAh0f8ADqv4Xf8AQT8a/wDg0tP/AJDr7u2j0o2j0o+u4j+dh9Rw38iPhH/h1X8Lv+gn41/8Glp/8h0f8Oq/hd/0E/Gv/g0tP/kOvu7aPSjaPSj67iP52H1HDfyI+Ef+HVfwu/6CfjX/AMGlp/8AIdH/AA6r+F3/AEE/Gv8A4NLT/wCQ6+7to9KNo9KPruI/nYfUcN/Ij4R/4dV/C7/oJ+Nf/Bpaf/IdH/Dqv4Xf9BPxr/4NLT/5Dr7u2j0o2j0o+u4j+dh9Rw38iPhH/h1X8Lv+gn41/wDBpaf/ACHR/wAOq/hd/wBBPxr/AODS0/8AkOvu7aPSjaPSj67iP52H1HDfyI+Ef+HVfwu/6CfjX/waWn/yHR/w6r+F3/QT8a/+DS0/+Q6+7to9KNo9KPruI/nYfUcN/Ij4R/4dV/C7/oJ+Nf8AwaWn/wAh0f8ADqv4Xf8AQT8a/wDg0tP/AJDr7u2j0o2j0o+u4j+dh9Rw38iPhH/h1X8Lv+gn41/8Glp/8h0f8Oq/hd/0E/Gv/g0tP/kOvu7aPSjaPSj67iP52H1HDfyI+Ef+HVfwu/6CfjX/AMGlp/8AIdH/AA6r+F3/AEE/Gv8A4NLT/wCQ6+7to9KNo9KPruI/nYfUcN/Ij4R/4dV/C7/oJ+Nf/Bpaf/IdH/Dqv4Xf9BPxr/4NLT/5Dr7u2j0o2j0o+u4j+dh9Rw38iPhH/h1X8Lv+gn41/wDBpaf/ACHR/wAOq/hd/wBBPxr/AODS0/8AkOvu7aPSjaPSj67iP52H1HDfyI+Ef+HVfwu/6CfjX/waWn/yHR/w6r+F3/QT8a/+DS0/+Q6+7to9KNo9KPruI/nYfUcN/Ij4R/4dV/C7/oJ+Nf8AwaWn/wAh0f8ADqv4Xf8AQT8a/wDg0tP/AJDr7u2j0o2j0o+u4j+dh9Rw38iPhH/h1X8Lv+gn41/8Glp/8h0f8Oq/hd/0E/Gv/g0tP/kOvu7aPSjaPSj67iP52H1HDfyI+Ef+HVfwu/6CfjX/AMGlp/8AIdH/AA6r+F3/AEE/Gv8A4NLT/wCQ6+7to9KNo9KPruI/nYfUcN/Ij4R/4dV/C7/oJ+Nf/Bpaf/IdH/Dqv4Xf9BPxr/4NLT/5Dr7u2j0o2j0o+u4j+dh9Rw38iPhH/h1X8Lv+gn41/wDBpaf/ACHR/wAOq/hd/wBBPxr/AODS0/8AkOvu7aPSjaPSj67iP52H1HDfyI+Ef+HVfwu/6CfjX/waWn/yHR/w6r+F3/QT8a/+DS0/+Q6+7to9KNo9KPruI/nYfUcN/Ij4R/4dV/C7/oJ+Nf8AwaWn/wAh0f8ADqv4Xf8AQT8a/wDg0tP/AJDr7u2j0o2j0o+u4j+dh9Rw38iPhH/h1X8Lv+gn41/8Glp/8h0f8Oq/hd/0E/Gv/g0tP/kOvu7aPSjaPSj67iP52H1HDfyI+Ef+HVfwu/6CfjX/AMGlp/8AIdH/AA6r+F3/AEE/Gv8A4NLT/wCQ6+7to9KNo9KPruI/nYfUcN/Ij4R/4dV/C7/oJ+Nf/Bpaf/IdH/Dqv4Xf9BPxr/4NLT/5Dr7u2j0o2j0o+u4j+dh9Rw38iPhH/h1X8Lv+gn41/wDBpaf/ACHR/wAOq/hd/wBBPxr/AODS0/8AkOvu7aPSjaPSj67iP52H1HDfyI+Ef+HVfwu/6CfjX/waWn/yHR/w6r+F3/QT8a/+DS0/+Q6+7to9KNo9KPruI/nYfUcN/Ij4R/4dV/C7/oJ+Nf8AwaWn/wAh0f8ADqv4Xf8AQT8a/wDg0tP/AJDr7u2j0o2j0o+u4j+dh9Rw38iPhH/h1X8Lv+gn41/8Glp/8h0f8Oq/hd/0E/Gv/g0tP/kOvu7aPSjaPSj67iP52H1HDfyI+Ef+HVfwu/6CfjX/AMGlp/8AIdH/AA6r+F3/AEE/Gv8A4NLT/wCQ6+7to9KNo9KPruI/nYfUcN/Ij4R/4dV/C7/oJ+Nf/Bpaf/IdH/Dqv4Xf9BPxr/4NLT/5Dr7u2j0o2j0o+u4j+dh9Rw38iPhH/h1X8Lv+gn41/wDBpaf/ACHR/wAOq/hd/wBBPxr/AODS0/8AkOvu7aPSjaPSj67iP52H1HDfyI+Ef+HVfwu/6CfjX/waWn/yHR/w6r+F3/QT8a/+DS0/+Q6+7to9KNo9KPruI/nYfUcN/Ij4R/4dV/C7/oJ+Nf8AwaWn/wAh0f8ADqv4Xf8AQT8a/wDg0tP/AJDr7u2j0o2j0o+u4j+dh9Rw38iPhH/h1X8Lv+gn41/8Glp/8h0f8Oq/hd/0E/Gv/g0tP/kOvu7aPSjaPSj67iP52H1HDfyI+Ef+HVfwu/6CfjX/AMGlp/8AIdH/AA6r+F3/AEE/Gv8A4NLT/wCQ6+7to9KNo9KPruI/nYfUcN/Ij4R/4dV/C7/oJ+Nf/Bpaf/IdH/Dqv4Xf9BPxr/4NLT/5Dr7u2j0o2j0o+u4j+dh9Rw38iPhH/h1X8Lv+gn41/wDBpaf/ACHR/wAOq/hd/wBBPxr/AODS0/8AkOvu7aPSjaPSj67iP52H1HDfyI+Ef+HVfwu/6CfjX/waWn/yHR/w6r+F3/QT8a/+DS0/+Q6+7to9KNo9KPruI/nYfUcN/Ij4R/4dV/C7/oJ+Nf8AwaWn/wAh0f8ADqv4Xf8AQT8a/wDg0tP/AJDr7u2j0o2j0o+u4j+dh9Rw38iPhH/h1X8Lv+gn41/8Glp/8h0f8Oq/hd/0E/Gv/g0tP/kOvu7aPSjaPSj67iP52H1HDfyI+Ef+HVfwu/6CfjX/AMGlp/8AIdH/AA6r+F3/AEE/Gv8A4NLT/wCQ6+7to9KNo9KPruI/nYfUcN/Ij4R/4dV/C7/oJ+Nf/Bpaf/IdH/Dqv4Xf9BPxr/4NLT/5Dr7u2j0o2j0o+u4j+dh9Rw38iPhH/h1X8Lv+gn41/wDBpaf/ACHR/wAOq/hd/wBBPxr/AODS0/8AkOvu7aPSjaPSj67iP52H1HDfyI+Ef+HVfwu/6CfjX/waWn/yHR/w6r+F3/QT8a/+DS0/+Q6+7to9KNo9KPruI/nYfUcN/Ij4R/4dV/C7/oJ+Nf8AwaWn/wAh1JF/wT+8A/BMjxrouoeKJdU0sjyY9RvraWBvMPktuVLZGPyyNjDDnHXpX3VtHpXC/G8AfDDWeO8H/o+Opli68k4ubsyo4PDxalGCuj51j+4v0FFEf3F+gorkOw+xaKKKACiiigAooooAKKKKACiiigAooooAKKKKACiiigAooooAKKKKACiiigAooooAKKKKACiiigAooooAKKKKACiiigDk/ij8QU+FvgvUPE0+h6pr1jp8bT3cOk/Z/NhhRGZ5SJpYgVULyFJbkYU844OT9pK7i8DHxi3wn8c/8I4NP/tX7Ysmjk/ZvL8zzPLGob/uc7dufbNdF+0f/wAm+/En/sXNQ/8ASd68s+HXjn4h6X8Nvg/pl54J8Pnwxq8Om6Vc3iatNeym1e0PzNbm2jVNwUA5kcDOMNnNdVKHPCVkr3ilfzv5rsjlrVOScbt2tJuyv8PL5Pu/wPorQdYg8RaHp2q2odba+t47qISABgjqGGcEjOCO9XJnaOGR0QyuqkhFIBY46c14x8ZovCdjqmlafrvxF1/wrbPbCKw8L+FrpraefaTmREtYzcuANq4Q7Bt6ZNcj+zVq99490H4reDdR8R+J9T0rRtaay03VNTkubHWI7aSCOVVeR1jnV1JOGYBiD6YqJU1KE6kNEk38rpb7X1Q1VcJQpz1bsvnZvbe2j/rU73U/i54v0/4C3vj648BR6Rrdha3N9d+G9Y1UxNFDD5hJEscMm52VAwUqo+bBYYye88AeJz428C+HfETW4s21bTre/NuH3iIyxq+3dgZxuxnAr5t+Ges6lr//AATw1291bUrzV79/DuuLJeahcPPNIFa5VdzuSzYAA5PapfEfxWvvAnwS+Afh3Trm/wBOl8V2thZ3GoaVYSXt3b2sdmskxgijjkZpGACghG2hi2OMjpnQXPUpxWqkkt+vN+Gl+rMFWaUJyenLJvbpy+nd+R9WVQ1ybU7fSbmTR7S0vtTVcwW99dNbQu2ejSLHIVGM8hG+lfNvhbXNU0L49+ELbwbL8RdW8F6tbXkWvxeLdN1c29jJHGHt545r+IFCzBkKq208cA4rU+DNve/tL+Grzx9r/iPxDYaZf391Douj6Fq0+mxWlrDK0SO5t2RpZXKMxLsyjIAUAVg6DS5m9LX892rW7uza8tTZV03ypa3t5bXvfy2fn956N8AvitdfGX4er4ivdJi0S7W/u7CW0gujcIrQTNESrlEJB25+6KX4yfGq2+C1npV5qHhnXdbstQu4rBLjR/shWKeVwkSOJriJvmY8EAgYOSK4H9ha1Fl8CWtxLLMIdf1aPzJ33yPi9lGWY9Se57039uGS4i+FHh97OGO4u18W6OYYZZDGjv8AaV2qzhWKgnAJwceh6Vo4QeJhTS91uK++y/Uj2k1hqk7+9FTf/gN7fkd3c/HO00HXtD0zxT4X1/wf/bd0tjYXuqC0ltpblgSsJe2uJtjNg437QcYBr0uvlP4/+IfFtufCOv8AxO8JWWjfDrw7rdrqt9P4b1Y6lOs6ttt3lEkMBWBXcFtiuxwOgznvvjNc+FLjX7GLxB8TvEui/a7YNZeG/C15JDcTjJzOqWkZupAeB12DHTJqXSTjF9W2tNdkn56/pYpVWpST2ST103bT7abfO/ke3UV8k/CnxFrPjT4E/GXSLnxX4omHhbVb+20nWrqSex1dYI4EniWZnVJdwLEHeoJHBqHTvB3iPxP+yPYeP7z4meNF8Vw+FF1e2ntdVa3gjkS28xVeJABMCVG4zb2bJORnAUqKgpSlKyXL06STa+emqHGu5uMYxu3zdesWk/lroz2b4/fFXXvhHp3h3VNN0zTtS06+1iz0q8+1zyJNH58yxq0aqpDYySckdB1r1avlD4/+MJPE/wCyx8LvFGrTRQy32r+G9Qu5mISNWaWN3Y9gMkn2rY8PX1n+038Y9Vv7XxF4k8PeHvCscVv/AGRp+s3+mS6x5q+ZHdSRJIirbkE+WyjfJglmCgKdfq9oNS3jKSb8ko2/F2X/AADH6zealHaUYtLzblf8Er/8E+kL24e1s55oraW8kjjZ1t4CoklIGQql2VcnoNxA55IHNeb/AAh+O0Pxi1DXLex8HeI9Dh0a8m028vNX+xCJLuIqJIAIbmRyw3Z3BdnB+bpn04DaABnj1Oa8B/ZE/wBX8YP+yiax/wChR1z0oqSndbK/4pfqdNWUouFnu7P7m/0PWPiV4n1fwb4J1PWNB8NXHi/VrZVMGjWsywyXJLqpAdgQMAluh4WuhtJZJ7SGWWE28rorPCxBMZI5UkcHHTivDv22oru2/Zy8V6zp2s6xoep6RCt3bXOj6jNZsX3quHMbDeuGPytkZwe1UP2h/Feu+GLb4e6jcp4ik+HZMp8UXHhdpRfRAwr5Ds8JEywh9xcxkHgc9i4U+eK7t2/D+vmKdTkn5Wb/ABPoUkKCScAdTWV4V8VaV438PWWuaJdi/wBKvUMlvcqjKJFyRkBgD1B6ivFvAFn4c8cfDLx1c+FviTqvi7wjqab7ILq9zJeaUUh+eH7S8hnG5hu2uQwDY6Gsn9hv4cWOlfAvwD4mj1bxDPd3WkAPZ3Wt3U1im5jnZatIYk6cbVGMnHWq9ilGbk2nHl6fzKT1+63+ZCrSlKCik1Lm6/yuK0+8+laKKK5TrCiiigAooooAKKKKACiiigAooooAKKKKACiiigAooooAKKKKACiiigAooooAKKKKACiiigAooooAKKKKACiiigArhfjf/wAkw1n6wf8Ao+Ou6rhfjf8A8kw1n6wf+j46APnSP7i/QUUR/cX6CigD7FooooAKKKKACiiigAooooAKKKKACiiigAooooAKKKKACiiigAooooAKKKKACiiigAooooAKKKKACiiigAooooAKKKKAOD+OXhrxB41+FXiTw34at9Nm1HWbGbTt+q3klrDCksbIZN0cMpYrkELtGf7wqH4K6R4x8L+C9I8O+KtL0OyTR9OtbGC60fV5rw3JjjCMzpJaw+X90EAF+pHbJ9CorRTtFwtvb8L2/NmcoKU1O+1/xtf8keI6/wDCjxlofx81D4k+EW0HVl1bR4dJvLDXria2e18pyyyQSxxS5Bz80ZVckZ3ekHwz+GnxF+HPiP4n6vOvhnxBceJ7yLU7Qre3FiomEMcTRSL5E3loArEMGkJwMqMnHutFV7V8vI9rW+V72+8h0YuXP53+duX8tD5l8E/Bf4m+Ff2WdV+Fsth4TuNVntLzT4b5NduhAY7ozM8jD7DuDIZVAQAhuSWTodTUPgH4t8TfCDwDptzd6R4Z8feA5bWbRtRsbmW/tJWghEREweGFgkq7gyAHbwQzdK+hqK0eIm5OfVtP5rb8395P1eFlF6pJr5Pf8l9xwfgt/ibd38R8X2/hPTrGNCJItFnubuS4bGAQ0qRCIZ5xtkz0yOtcB8OvhR8Rvgmup+GfCN14Z1PwRPfT3umvrElxFeaUJnLvF5caMtwiszFfnjPJBNe90Vn7VpuyVnuvx/r7ti3STSTbundP8P6/zPI/2Z/hh4l+EHga/wDDniOfS71hqt5e217pssh85J5nlzIjxr5bDdjapce9Uv2m/hx42+KehaDpHhO20Aw2erWmr3FxrOpT2zbreVZFjRY7eXIbBBYkY9DXtNFHtZe0VXqrP5rYPYx9nKl0d0/nv+Z4X8Sfhx8Rfjt4cbwj4pg8NeEvCl5NE2qNo+p3Gp3d1Cjq5hjMltbrFuKgFiHIGcCi4+EPjHwb8ctd8d+DB4e1Sz1/TLTTrmy124ntpLH7OCqGB44pNyEHJjIXJA+avdKKarSjpFWWunro/Pp/kTKjGWsnd6a+jv6b/f1Pnbwp8GviL4U0H4xWUjeGdZu/Gd7Nf2dyLy4s0V54EhkWSPyJTGqBSy4aQtwDtzka2gfDLx1pP7Kg+HUtn4dfxLDoh0GORNWn+xvGYfK89pPsu9WwWbyxGRwBv5yPc6KUqrlFwa0fL/5KrL8LlRpKElOL1XM//And/ikz5g8Y/Az4keJv2fPAHgFdN8INf+H7nT3vHuNauTbTx2ZjKBf9CJJl2sGBUBOOXzx1HxK+GvxBvviX4H8f+CbHw1YeILC0az16G/1i4jhvrVsE2oKWjFwj5ZJmClT/AAEHA93orR4mblzdbt/OSs/vXT/gmSw0FHl1tZR+Sd1803v+qRUklvhpTSR21u2p+TuW3a4YQmXb90y7CQu7jdszjnb2r56+FPgP40/Cw+MBDoPgPUF8Q+IbzX8P4lvUMBnKnyuNPO7bt+9xnPQV9IUVlCpyXst9Pxv+iNp0+flu9tfnZr8mz5j8cfBT4reNvgx8QvDt4/hifxJ401OS4meTWLoWmmWoWFYY4j9kLSECHBBWMZYnJ6V6JfaR8V4p/Ceq6YfDkM1jZz2mq+Gp9TuDZ3JYp5Usd0LbeGUIesOP3jDnGa9Yoq/bOyVlp/ly/l8767kexV73fX8Xf8/8tjx74b/Be+0TxT8QfFWrx6VpGqeMIoIJdM0JnktbcRI6+YZGSMyysZCWbYnQDB5NVf2bvh78RvhR4O0Pwd4jm8Lz6Dols1rBd6ZJcyXV0u4lCyuiLGQDyBvzjjFe10UvbSs10dvwTS+5Nj9jG6l1V/xtf77L7gooorA3CiiigAooooAKKKKACiiigAooooAKKKKACiiigAooooAKKKKACiiigAooooAKKKKACiiigAooooAKKKKACiiigArhfjf/AMkw1n6wf+j467quF+N//JMNZ+sH/o+OgD50j+4v0FFEf3F+gooA+xaKKKACiiigAooooAKKKKACiiigAooooAKKKKACiiigAooooAKKKKACiiigAooooAKKKKACiiuI+MHhuHxb4OOky6XHqhvLu3twJLcTeQryKskwyDtKxmQ7uMetHZAdqJFLlAwLgAlc8gHof0P5U6vEpNC1Twjrup6x4esL3TbIaklpDpGm6ciwPZ29vJK7FBHu/eSmZVKkAs6EZJ51fAD+IrbxXY6beyXkljBYBrjyLE2ltFchF80OGgCy75Hdw8cnbG3GSRe9t/Wl/wCvMH7u/wDWtj1ZXVmZQwLLwwB5H1p1eGXa+IY9S1rUoYLrS555bq6iuJNJkuGErTJbW4XbE7Ifs9s+SFIXz1JByAei+HTa1qni2S71abXrNINJthHY6ggMTPIZHlJkESKzLmNccMNnzKM0LVJ/0t/8vu1B6Nr+un+f6HqNNeRYkLOwRR1LHAFeJWp8bX1tqd7byanozyS28sFtBp0aGWa4u2+aXdEWZYrcwK54+6+45HFm5udc8VWaLeLrUtxNrAS60p9PaK1treGV50CuYhv3LbohfeykzdgVAV7K7+flt/mO2rt/w/8AX5ns1NDqzMoYFl6gHkfWvE4fG3jC80bTJFi1q3EdhZRaldnRZRILieYee8cTRbmMKRsOFKjzQWBArDgk8dQ6ldQ6dPqtiNZuLieHVNQsJPO3I629usoS1cKipEJNriPcJMluGqktbeq+7/NaruJ6K/p+P9WfY+iqajrICVYMASDg5wR1FefeCtX1u88U+IpNQk1K602BS9q7Wb20JBZv3QikhVy6BfvK7ht2eOAPPvCuueJ/D+k2s8Nt4jnjv4pn1G2uNMeEWN9cz+aDH/ozyFYwZgzBZFy0frkSne3n/S/L77dw7+R9CU1XVmZQwLLwwB5H1rw22vPiJqfhSaR7vWtOvbfTJ7iFEs4zLPcTXMgtY3Lwc+VHGhcBVOJAWptpe+MLS88Y3EwvtEe9uTc6dNBpk1ytxh/s483bC7Rt5duhUBSAJg53/dV+vn+D/ph/X/BPdqa8ixjLsFGQMscck4FebarrfirTvAHhi906w1G51ie6hFxZXKrJKFkV/llZY12orFMvtUhRzg5Fcpptj458YjSNO1651K2t7XVnjmu1sUjaZbWSWQXOChVQ7i2VBjBCOwzkGjZ69Hb8rv5XDpfyv+en4Hu1NDqXZAwLqASueRnp/I14Zp+r+MANNutUTVrWKVbeyuNSj0jzb6CNo5rhyFWEnJJtYWOwqGV+A3I2ND0bxFbeM11SO+1fyr7WPskqXNtGFaxt7V1Ekp8oEb5VJUgqP3gIHJy0tbf10/z/ADB6K/8AW3/Af9M9b3rvKbhvAztzzj1p1eQeJIvEVn4v1nxJYDVwUvbPT4rK0tFdbm0gjaeZjuQkhjJNGpDKN23nOKzLPxf47LalraWGsXFhHd2HlaU1qxkmEhkEypvtoWCL5kILEEL5ZO7G41Kd1f0/G1n6a/mNq39fee5VG9xFFLHE8qJJJnYjMAWx1wO9eP6BefEC58eppupX8kEFncI0jC0kFvdQmIPLtYWxQje7Rr++VgIlypOd0XihtV03xlruuJY6zcz3MyaVYPBbErbQRQCV5EK20rDfI8iA7cH+8MKQN2V3/W36u33ha7sv6/pans7yLGMuwUZAyxxyTgU6vn64PjbU7PSrm/0e61DUbGxtrh1mswjS3ENvJdMhkCLndO1mmBgFonwAQcX9J17xoLSyl1PUdWOnahcrHPPZaTNJdW2yF2cKjWiMiyP5agmNgu1hvywIb0unuhdmtme4K6vnawbBwcHOD6U6vGVbxF4Y+EGjtbvqX/CQ3sr6jdxCxka5nMrPK8LNHDIsEnzqu5kx8hHy9Qu7xXc6lfzA6xp1ssd1PJPBYRfa7iO3iiihhLeUQzPKbiQbRkjG3Cmk9Lrt+m9hpXa8/wCl/W3mey0V4rN4g8b22kaw80uqv4h0q0gS2tItMY2l2TBF5twzrC3mMJJJD5cbZ/dYCE5zqRXHi1fhVr9295e39/PJm08q3kF3Bbny0k2qYIWZxiZ1Hlg8qBniqatfyJTvbzPVqK8LvrJdG1ZNa8E6HfaFpa28en317Bo8qXE5lniLTeQ8fmTNFGj/ALx0bmbPzAOKtavd+IdP8Q3txZ6l4nmtILawt45ZNOaTEU0rtcXAjEGHkVTGoXBZSuWUgHKWtvW39eW2v+TH3/r+vTf7z2hnVWVWYBmOFBPJ78U6vnzVpvFV3qVsZZfE4a0ttQn0e5j0sNPNJIyx2yTN5BSM4WUneqkJIu8j5s3r3xD8SZ9T1ny2nt7jT1mihtI7GVorn9z5cbqTb7CWmZJciY4VSpXhqFqtO1/68wej172/ryfRnutFch4j0y90z4c6xbtc6h4g1EWkrI2dk00u35VXyQuAWwMDsTnPNTeHb7TfC/haTTLX7Tdx+G7WO0nS2tpJXJSFW2oqqTI20rwuTk460aK/l/T+7T7wV3bz/r8f0OporwEWNlf3K68fDmo6XpWqX0VvqmlW+hXSSG3jjmlXz08oNM0kpjV2AZAPk3EEk07Dwffzr/ZF5oN0moJNbzaPH9jY22lwvctczMkwHlxuit5IAYH90gA2mlstQ9D6Korxn4YWuzX9J1m40vULO/n0422p3c+mzRSXd/MyyuHLIDshETKrt8g8wKrdq9mqrWX9f15+jDrYKKKKQBRRRQAUUUUAFFFFABRRRQAUUUUAFFFFABRRRQAUUUUAFFFFABRRRQAUUUUAFFFFABXC/G//AJJhrP1g/wDR8dd1XC/G/wD5JhrP1g/9Hx0AfOkf3F+gooj+4v0FFAH2LRRRQAUUUUAFFFFABRRRQAUUUUAFFFFABRRRQAUUUUAFFFFABRRRQAUUUUAFFFFABRRRQAUUUUAFFFFABRRRQAUUUUAFFFFABRRRQAUUUUAFFFFABRRRQAUUUUAFFFFABRRRQAUUUUAFFFFABRRRQAUUUUAFIqhc4AGTk4HelooAKKKKACiiigAooooAKKKKACiiigAooooAKKKKACiiigAooooAKKKKACiiigAooooAKKKKACiiigAooooAK4X43/8AJMNZ+sH/AKPjruq4X43/APJMNZ+sH/o+OgD50j+4v0FFEf3F+gooA+xaKRmCKWYhVAySTwBVf+0bT/n6h/7+CgCzRVb+0bT/AJ+of+/go/tG0/5+of8Av4KALNFVv7RtP+fqH/v4KP7RtP8An6h/7+CgCzRVb+0bT/n6h/7+Cj+0bT/n6h/7+CgCzRVb+0bT/n6h/wC/go/tG0/5+of+/goAs0VW/tG0/wCfqH/v4KP7RtP+fqH/AL+CgCzRVb+0bT/n6h/7+Cj+0bT/AJ+of+/goAs0VW/tG0/5+of+/go/tG0/5+of+/goAs0VW/tG0/5+of8Av4KP7RtP+fqH/v4KALNFVv7RtP8An6h/7+Cj+0bT/n6h/wC/goAs0VW/tG0/5+of+/go/tG0/wCfqH/v4KALNFVv7RtP+fqH/v4KP7RtP+fqH/v4KALNFVv7RtP+fqH/AL+Cj+0bT/n6h/7+CgCzRVb+0bT/AJ+of+/go/tG0/5+of8Av4KALNFVv7RtP+fqH/v4KP7RtP8An6h/7+CgCzRVb+0bT/n6h/7+Cj+0bT/n6h/7+CgCzRVb+0bT/n6h/wC/go/tG0/5+of+/goAs0VW/tG0/wCfqH/v4KP7RtP+fqH/AL+CgCzRVb+0bT/n6h/7+Cj+0bT/AJ+of+/goAs0VW/tG0/5+of+/go/tG0/5+of+/goAs0VW/tG0/5+of8Av4KP7RtP+fqH/v4KALNFVv7RtP8An6h/7+Cj+0bT/n6h/wC/goAs0VW/tG0/5+of+/go/tG0/wCfqH/v4KALNFVv7RtP+fqH/v4KP7RtP+fqH/v4KALNFVv7RtP+fqH/AL+Cj+0bT/n6h/7+CgCzRVb+0bT/AJ+of+/go/tG0/5+of8Av4KALNFVv7RtP+fqH/v4KP7RtP8An6h/7+CgCzRVb+0bT/n6h/7+Cj+0bT/n6h/7+CgCzRVb+0bT/n6h/wC/go/tG0/5+of+/goAs0VW/tG0/wCfqH/v4KP7RtP+fqH/AL+CgCzRVb+0bT/n6h/7+Cj+0bT/AJ+of+/goAs0VW/tG0/5+of+/go/tG0/5+of+/goAs0VW/tG0/5+of8Av4KP7RtP+fqH/v4KALNFVv7RtP8An6h/7+Cj+0bT/n6h/wC/goAs0VW/tG0/5+of+/go/tG0/wCfqH/v4KALNFVv7RtP+fqH/v4KP7RtP+fqH/v4KALNFVv7RtP+fqH/AL+Cj+0bT/n6h/7+CgCzRVb+0bT/AJ+of+/go/tG0/5+of8Av4KALNFVv7RtP+fqH/v4KP7RtP8An6h/7+CgCzRVb+0bT/n6h/7+Cj+0bT/n6h/7+CgCzRVb+0bT/n6h/wC/go/tG0/5+of+/goAs0VW/tG0/wCfqH/v4KP7RtP+fqH/AL+CgCzRVb+0bT/n6h/7+Cj+0bT/AJ+of+/goAs0VW/tG0/5+of+/go/tG0/5+of+/goAs0VW/tG0/5+of8Av4KminjnUtFIsig4yhBGaAH1wvxv/wCSYaz9YP8A0fHXdVwvxv8A+SYaz9YP/R8dAHzpH9xfoKKI/uL9BRQB9i0UVW1LUbfSNOur67k8q1tYmmmk2ltqKCWOBknAB6Um7asaTbsizSN0plvPHdW8U0TbopFDo2MZBGQae3ShqzsyU01dDaKr2GoW2pwNNazLPEskkRdDwHRyjj6hlYfhWfZeL9I1B7FLe78xr2WeG3HluN7wsyyjkcbSrdcZxxmmM2KKKp2WsWmo3moWtvN5lxYSrDcptI2OyLIBkjB+V1PGevrUsC5TT1qGbULa3vLa0kmVLm5DGKM9XCgFsfTI/Opj1oQCUVTsNYtNTudQt7abzJrCcW9yu0jZIY0kAyRz8siHIyOfUGl1jVrTQNJvNSv5fIsrOFp55dpbYigljgAk4APAGaQFuigEMAR0NU9N1i01f7V9km837LO9tN8pXbIuNy8gZxkcjijyDpcuHpTag1LUIdKsJ7u48zyYV3N5UTSOR6BFBZj7AEmsGX4jaBDodvq7XUxs7iZ7eMLZztMZE370MITzAV8t9wKjG05xigdjpaKjt7iK7t4p4ZFlhlUOjqchlIyCPwrL/wCEt0weIhobSzJqLKWRXtpVifChiqylfLZgpBKhiQOccGnbWwt1c2KK5zT/AIhaFqtvqM1pdy3CWADTBLSbcVJYK0a7MyqxRgGjDBipAJxTZviJocHh5NcM10+nM7xl4tPuHkjZCwcSRrGXj2lGDblGMc4pDs9joz1pKZDPHcwxzROskUih0dTkMCMgin09iU76oKKKKQwpD0paQ9KTAbRRRTAKKKKlgFNPWnU09aaAKKKKQBRRRQAh6U2nHpTaACiiigAooooAa3WkpW60lABRRRQAUo60lKOtADqKKKACiiigApy9KbTl6UALRRRQAUUUUAFOptOpsAooopAFFFFUA5aWkWlpdQCiszxPrieGfD2o6tJC9xHZQPO0UfVgoz/k1zWpfEOfStP0W8ura0EGo6gttG9lcNeJLCYWkEkRRAzE7SAu3ntnIqXOMXZvt+LsiuVtX9fw1O4orm7v4i+HrLSbLUpL8mzvIBdQvFbyyMYuPnKqpZV+ZQSwGCQDzVg+N9FXWL/S2vCl5YReddBoZBHAm0NuaQrsA2nI55wfQ4blFbsVmzforJ0nxNY6/ZXVxpzyXAtnMckbwvE4cKG27XAPIZSOOQRXI2vxI1uVNae68PW1nDpSuLmZNQaby3Fqtxgr5S5Hzqh565qZVIwTb7X+RUYuTsj0SiuL034mWOpeFH1OJozeQLbpPBMJYY1mlCFVDFCSpLjDgEH1reTxVpb3WowfaSp04E3czxOsEOFDENKRsyFYEjdkA1baTtchXaujWrK1vxdoXhcIdZ1rTtIEn3Df3ccG76biM1ifFbx2vw9+GuueJolS4a0tt0AzlWkchI8+o3Mv4V+ePhDQtc+OnxNtLS+vrq7vdSnBu9QdGmMMefmcgcBR0A4A4HFcWIxLpTjShG8pG0KalFzk7JH6baXq1jrdml3p17b39q/3Z7WVZEb6MpIq1X50eE/HUv7P/wAZnh0a51X+wIrhIL611SLyHniOA7NGCQCMlkbrjHYkV9iftKfEu6+FvwsvdS05vL1S7lSxtJcZ8qRwxL4PcKrke+KihjYVqUqjVuXcupRcJKPc7jWvHPhvw3crb6v4g0rSrhsFYr29jhc/QMwNa1peQX9tHcWs8dzbyDcksLhkYeoI4NfnH4R/Z98cfFJdF1uAfbLDW5nE2qyyGQ27K7KxmB+Yn5cgjIOQM5r0n4VahrH7OXx8tPAN3rSavpWpSRW88MO4Rxyy/wCqcK33XyUzjghsc4GMo42akvawtFuyZTopp8ru0fbFYeofEHwtpGofYL7xLo9lfZ2/Zbi/ijlz6bSwNePfth/FXUfh54GsdN0e4ez1LW5JIvtUTYeKFADJtPZjvQZ7AnHOK+Trv4FeJ9Xu7b/hHdL1LWllsra7uJJokiKSTIWA5c5U4OGOM/z0xOLlSlyU481rX+ev6E06Skrydj9L45FljV0YOjAMrKcgg9CDTq+KP2NPidrOieO5fh/q0k72dwsv2e2uCd1pcRAs6gHoCqvlfUA+ue4/bC+ImrRap4d+HujXx0t9Z2y3l1vZf3byGNEJUEhcq5bHJAA6ZBunjI1KPtkvK3mTKk4z5We/f8LF8Kf2l/Z3/CT6N/aG7b9k/tCLzc+mzdnP4V0NfCb/ALDniePTzfN4p8OLZCPzftBml8vZjO7d5eMY716R+xn8TNVv7zXfAes3jai+kqZ7O4dixWNXEbplhkqCyFc8jJHTAE0sXP2qpVocrexUqS5XODvY+o2kWJGd2CIoLMzHAAHUk1h6d8QvC2r6h9gsfEuj3t9nb9lt7+KSXPptDE14V8VxqXxv+Nj/AAwttTfTNC0fTxqOpxo5U3jkx4QkDoBLGcHjlj1Axy9z+xFJHZzkX9na3O0C2mtDcOySlgFLA5+Xnk9hzkYq516rk/ZQulpuSoRt7zsfXtFfP/7HPxW1H4ieBb7TdYuHvNS0OWOL7VK255YXDGPce7DY4z3AGecmvoCuulVVaCqR2ZlKLhJxYVwvxv8A+SYaz9YP/R8dd1XC/G//AJJhrP1g/wDR8dbEnzpH9xfoKKI/uL9BRQB9i1k+LdJm17wrrOmW7Ilxe2U1vG0pIUM6FQSQCcZPoa1qKUlzJplRk4tSXQ808T+D/E3i7wDZ6NeadoMdxHKiTwPc/aoZIVjIDK8tqQr7ypx5Z4BwwJyI7f4caxBqvga+kGn3F3o1hDZ319cSmVn2piTykaEkEnkSLJGefmDAAV6fSN0p395y7u/5/wCZnZKKj0tY5D4a+Dm8D6RqGnmzsLWOTUru7jew481JZmkUyDYu1wGCYBYYQc9hkeGPAmtaX4isTeNYf2PpdxqFzaTQzO1xObmVnCyRlAqbA7DIdt3B+XpXolFBR4b4B+Fust4d1eUW1p4WutQ0m609JLcuLieV5XKXFwNiFWQcLgscO3zDgVqaZ8K9W0/wj4l0620jw3pjarfW86aZbN5tmsSRwJIMvb7dzeU5BMTDJGQetevUVOyt/W9/zHe7v/WyX6Hlvh/4V32lR/D+W7t9L1C78PLcQStKxJijk+40LeVyUCqAuEHoRgA52jfBvWNN0rxlbtqMa3+r280EN+k4/fF3dleZUgRgw3bdxkkOCcEcCvY6aetPdt+v4iWit6fgeceCvh7ceHdP1KKXQdAtUu9Zg1CLTbOVjbWiJFAhZD5K5kBiZwNgGSORya3fiTouseJvC17o2kpYldSgktLmW9neMwxupUyIFRt7DJ+U7Qf7wrqaKV+n9bJfoC02POPEHgLW7/xymoWjaedKln064mead1nQ2zyEqqCMq24OMEsMEEY5zVDxd4U1fS/DeqvYASa7Lrxv9HktopJtjSAIfNwv7sbGlVmJ2gEHOTivVqKS0v5//a//ACKHfby/4P8A8kzBl0m98O+CRpnhqO0e/s7NbexXUJGSHcqhVMjKrNjjJwMn9a8/1n4Vavrnw90rRbmCxku7e5mubpBqk0fnyyLJmcXCQq6sXlLFQgUglc7eD68elNol7179Qj7trdDC8PvqdnNFpV3bxywWmn2+dSj+QTT/ADLIoj2gKAFVhgn7+MDHORJoniG9+Jcep3lvp0nh6zgaKx2Xsgnjd1/eStF5O0scBB+8G1dx5LYHaUU2+Z3fn+JKVlZHmPhbwP4o8JadqL2p0mbU7fSoNJ0pZZ5RDIsLSlJZyI8qT5gyihvunDfNw6fwNr0vwuPhxrOxlvrnzRet/bNxEJGkLO83nRwBiWdiWj2BSCV5HFemUUmrqz/r+v66FXs+b+trfgUtKtZrLS7O3uJVnuIYUjklRAiuwUAkKOACe3arVKetJTbu7slLlSSCiiikMKQ9KWkPSkwG0UUUwCiiipYBTT1p1NPWmgCiiikAUUUUAIelNpx6U2gAooooAKKKKAGt1pKVutJQAUUUUAFKOtJSjrQA6iiigAooooAKcvSm05elAC0UUUAFFFFABTqbTqbAKKKKQBRRRVAOWlpFpaXUCnq1veXVk0dhdpY3O5GE0kPnLgMCylcjIYAjqCM5FcnpvwxXTIdNSG+SL7HeXd/5cNtsiEk6SLiNNx2KvmMcZOTnpmu4oqJU4yvfr/X6FKTR5nN8H7n+zbCzg1yKJIdMtNMn32JcSrbyiQMo80bN3IYfNkEYIxW9qnw+TVtL8YWU186/8JC2TJHHgwDyI4gBz833N3b7xHvXXUUOnF3ut7/jqwUmnf8ArQy/C+ht4f0oWsj28sxdpJJbeFoxIx6sQzuxY9yzEmsEfD+7l8P+L9NuNVieTxBJNJ58VoU8gSRLHjBkO7CqO4rtaKpwT37W+Wn+SEm1t3ucTefDl7ptVxqKIl9qVlfhTbE+Wtv5OIj84yCYc54xuPBq1B4Nu7TxBrurwahbQT6lCsQijs28rcudskqmQiRwuFyNmQAD0GOsopKEU7r+tLfl/Vwu7WOR+LPgg/Eb4ca74cWRYpb23xE7fdEqsHjz7blXPtX5+fDnX9S+BXxasrnXIdT0v7DNs1Czt8pLLF3TG5Q6kgHk7TgH0r9Maytb8I6F4oCDWdF07VxH9wX9pHPt+m4HFctfDupUjVg7SiawmlFwktGfnj8OvAmt/H74sGVvtt7YSXfn3+o3RZzFAGztZyT8xUBVXP6A4+0v2lPhpdfFL4WXum6cvmapaSpfWkWcebIgYFMnuVZwPfFek6XpNjolmlpp1lb2Fqn3YLWJY0X6KoAq1WWHwMKFJ0m733LqV3Unzn5+fCP9pHUfgP4b1Lw6fD1xd3zTs+y/uvKS2kxg/uvK39hkF+3GOa0P2fPCHiP41/GyLxxrCSNZWd4NQub5k2xvMhzHFH64IXgdFXntn7Y1rwN4b8SXK3Gr+H9K1W4XAWW9so5nH0LKTWtaWcFhbR29rBHbW8Y2pFCgVFHoAOBWawU5Ti6s7qOyK9slFqCtc8H/AGw/hVqPxD8DWOpaPbvealokkkv2WJcvLC4Ak2juw2IcdwDjnFfNk/7RkgsrKyPh5ontH0ksTe4LGxzwR5fG/P8AwHH8VfohWHqHw+8LavqH2++8NaPe32d32q4sIpJc+u4qTW9fDTnLnpStezenVbMzhUilaSvuvv3Plj9lXwJqXjT4s6t8T73TpNL0ozXM1msnPmSzFgQpIG5VV2BbGCSPfHYftYeBdUtfEvhT4l6Rp8mrNoEkYvbSLO7yo5fNRuATtyXBODjIPTNfSkcaxRqiKERQFVVGAAOgAp1OlhI0qKpReq1v59wnVdSblLqfFC/tqaSl8LofDk5EnnLAddcwLJ18wReTsDZ53YznnqSa7n9j/wCHeqRav4k+Ier2UmmNrReOytpQQxieTzHfnB2khADjnBPTGfff+FdeFP7S/tH/AIRjRv7Q3bvtf9nxebn137c5/GuhqaeEn7SNStK/Le2lt/8AhipVVyuMFa+58ufHLTNc+FHxj/4WPphnTQtZsv7N1e6t4fMa1+VVDHHKg+XEQw5yhHUjPl9h8f7/AMOxy3dj431LVtSS0eG3tpprm5SSdtoViksarxyeST6c195NGsqMjqHRgVZWGQQeoIrD074e+FtI1D7fY+GtHsr7O77Vb2EUcufXcFBpVMLNzbpysnr/AMMEaqtaSPH/ANjn4U6j8O/At9qWsW72epa5LHL9llXa8UKBhHuHZjvc47AjPORX0BRRXdSpKjBU47IwlJzk5MK4X43/APJMNZ+sH/o+Ou6rzj9oe/n0z4Pa9c22nXOrTIbbbZ2bRLLJm5iB2mV0TgHPLDgHGTgHojFyaiuvyJPAY/uL9BRXFJ4/13Yv/FtfFHT/AJ+dK/8Ak2iu36lV7x/8Dh/8kTzL+kffLKHUqc4IxwcH86r/AGCL+9N/3/f/ABqzRXAUVvsEX96b/v8Av/jR9gi/vTf9/wB/8as0UAVvsEX96b/v+/8AjR9gi/vTf9/3/wAas0UAVvsEX96b/v8Av/jR9gi/vTf9/wB/8as0UAVvsEX96b/v+/8AjR/Z8X96b/v+/wDjVmigCt/Z8X96b/v+/wDjR/Z8X96b/v8Av/jVmigCt/Z8X96b/v8Av/jR/Z8X96b/AL/v/jVmigCt/Z8PrN/3/f8AxpP7Oh9Zv+/z/wCNWqKAKv8AZ0PrN/3+f/Gj+zofWb/v8/8AjVqigCr/AGdD6zf9/n/xo/s6H1m/7/P/AI1aooAq/wBnQ+sv/f5/8aP7Nh9Zf+/z/wCNWqKAKv8AZsPrL/3+f/Gj+zYfWX/v8/8AjVqigCr/AGbD6y/9/n/xo/s2H1l/7/P/AI1aooAq/wBmwf8ATX/v8/8AjR/ZsH/TX/v8/wDjVqigCr/ZsH/TX/v8/wDjR/ZsH/TX/v8AP/jVqigCr/ZsH/TX/v8AP/jSf2ZB/wBNf+/z/wCNW6KAKn9mQf8ATX/v8/8AjR/ZkH/TX/v8/wDjVuigCp/ZkH/TX/v8/wDjR/ZkH/TX/v8AP/jVuigCp/ZkH/TX/v8AP/jR/Zdv/wBNf+/z/wCNW6KAKn9l2/8A01/7/P8A40f2Xb/9Nf8Av8/+NW6KAKn9l2//AE1/7/P/AI0f2Xb/APTX/v8AP/jVuigCp/Zdv6Sf9/n/AMaP7Lt/ST/v8/8AjVuigCp/Zdv6Sf8Af5/8aP7Lt/ST/v8AP/jVuigCp/Zdv6Sf9/n/AMaP7Lt/ST/v8/8AjVuigCp/Zdv/ANNf+/z/AONH9l2//TX/AL/P/jVuigCp/Zdv/wBNf+/z/wCNH9l2/wD01/7/AD/41booAqf2Xb/9Nf8Av8/+NH9mQf8ATX/v8/8AjVuigCp/ZkH/AE1/7/P/AI0f2ZB/01/7/P8A41booAqf2ZB/01/7/P8A40f2ZB/01/7/AD/41booAqf2ZB/01/7/AD/40v8AZsH/AE1/7/P/AI1aooAq/wBmwf8ATX/v8/8AjR/ZsH/TX/v8/wDjVqigCr/ZsH/TX/v8/wDjR/ZsH/TX/v8AP/jVqigCr/ZsPrL/AN/n/wAaP7Nh9Zf+/wA/+NWqKAKv9mw+sv8A3+f/ABo/s2H1l/7/AD/41aooAq/2bD6y/wDf5/8AGj+zYfWX/v8AP/jVqigCr/Z0PrN/3+f/ABo/s6H1m/7/AD/41aooAq/2dD6zf9/n/wAaP7Oh9Zv+/wA/+NWqKAKv9nQ+s3/f5/8AGl/s+H1m/wC/7/41ZooArf2fF/em/wC/7/40f2fF/em/7/v/AI1ZooArf2fF/em/7/v/AI0f2fF/em/7/v8A41ZooArf2fF/em/7/v8A40fYIv703/f9/wDGrNFAFb7BF/em/wC/7/40fYIv703/AH/f/GrNFAFb7BF/em/7/v8A40fYIv703/f9/wDGrNFAFb7BF/em/wC/7/40fYIv703/AH/f/GrNFAFb7BF/em/7/v8A41NFCsKlVLEZz87lj+ZNPooAK84/aIv59M+D2v3Ntpt1q80ZtttnZtEssmbmIHaZXROAc8sOAcZOAfR684/aI1e30L4P65e3QmMKPapi3geZyzXUSKAiAscswHA46njNAHyUnxB17Yv/ABbLxV0/5+dJ/wDk6ipv+FraNF8j2PiIOvBA8N6gwz9RAQfqDiimB97UVBeyNDZzyIcOsbMD6ECm/ZZf+fyb8k/+JpAWaKrfZZf+fyb8k/8AiaPssv8Az+Tfkn/xNAFmiq32WX/n8m/JP/iaPssv/P5N+Sf/ABNAFmiq32WX/n8m/JP/AImj7LL/AM/k35J/8TQBZoqt9ll/5/JvyT/4mj7LL/z+Tfkn/wATQBZoqt9ll/5/JvyT/wCJo+yy/wDP5N+Sf/E0AWaKrfZZf+fyb8k/+Jo+yy/8/k35J/8AE0AWaKrfZZf+fyb8k/8AiaPssv8Az+Tfkn/xNAFmiq32WX/n8m/JP/iaPssv/P5N+Sf/ABNAFmiq32WX/n8m/JP/AImj7LL/AM/k35J/8TQBZoqt9ll/5/JvyT/4mlsnd4DvYuwd13EDJAYgdPpQBYooooAKKo6zrmm+HbB73VdQtdMskIVrm8mWGNSTgAsxA5NLFrenT+T5d/ayedAbqPZMp3wjGZF55T5l+Yccj1oAu0VFa3UF9aw3NtNHcW8yCSKaJgyOpGQykcEEcgiktb23vkd7aeK4RJGiZonDBXUlWU46EEEEdiKPIPMmooooAKKKKACiiigAoopjypG6IzqruSEUnBY4ycevFAD6KY8qRsiu6q0h2oGOCxwTgevAJ/Cn0AFFQC9t2vHtBPEbtIxK0Acb1QkgMV64JVgD7H0qegAooqG1vbe+R3tp4rhEkaJmicMFdSVZTjuCCCOxBFAE1FFFABRTIpUmUtG6yKCVypyMg4I/Agj8KfQAUUUUAFFMimjniWSN1kjYbldDkEeoNR2V9balaRXVpcRXVrKoeOaBw6OvqGHBH0oAnoqK7u4LC1mubmaO3toUMks0rBURQMlmJ4AA5JNLb3EV5bxTwSpPBKoeOWNgyupGQQRwQR3oAkooooAKKbJIsUbO7BEUFmZjgADqSarW2r2F7JFHb3tvPJLALmNIpVYvEekgAPKn+90oAt0UUUAFFFVtS1Oz0awnvtQu4LGygUvLc3MgjjjUdSzEgAe5oAs0VT0nWdP1+xS90y+ttRs3JCXFpMssbEHBwykg4PFXKACiiigAoqG8vLfTrSa6up47a2hQySzTOESNQMlmY8AAdzSRX9tPdzWsdxFJcwqrywq4LorZ2ll6gHa2CeuD6UAT0UUUAFFFQ3F7b2jwJPPFC9xJ5UKyOFMj4LbVz1OFY4HYE9qAJqKKKACiiigAooooAKKKKACiuJ8R/G3wF4Q8YWPhXW/F2k6X4ivgpg066ulSVtxwuQfu7j0zjPbNdcdRtVsGvTcwiyWMym5Mg8sIBksW6YxzmqcWlzNaEqSb5U9SxRWP4d8ZaB4vjmk0HXNN1tIceY2nXcdwEzyNxQnGe2a2KTTTsxpqSugooqC0v7bUFka1uIrlY5GhcwuHCupwynHQgggjqDSGT0UVUfV7GI3ge9t0Nkgkug0qjyFILBn5+UYBOTjgUAW6Kx/DvjLQPF8c0mg65putpDjzG067juAmeRuKE4z2zWxTaadmJNSV0FFFFIYV5n+0h4i03wp8Gtd1PV72HT9PiktEkubhgsaF7uFF3MeANzKMngZ5r0yuD+OSLJ8LdaR1DKxgBVhkEefHQB8kL8YfASqFPjbw6CBgg6tBx/4/RXVQ28SRIqxIqhQAAowKKAPsDUf+Qfdf9cm/kas1W1H/AJB91/1yb+RqwcYOenfNAC0V8K/D7VtJ8Natomu6JLpGqm18YeIFOk+GrVRqiWrPd/v3dHbzYEUAiMoiktH8xIAO8/7Q/ib/AIRjxZdweOY1jittA1PTbmeSwuJoUu7t4p4JCltHHwgG5cMyNn94a7lhZStyvt97/r+mjheLjFvmW1/wdv6/y1Pr+91rT9NurO1u762tbm9cx2sM0yo87AZKoCcsQOcDNXa+PPHnxI1dPGNtoX9uW/i3VfD/AMQbWDSlv7i1tZZBLpEjhJGiRVCiWRl3BCccYYjnrfFPjHT/AB5+xH4w1fUPEC+I5ZNBvFvJ9Rjt4mgvVQhoGSJVRWSXCqOT907myCcnQap8/p+KTX56msa6lV9n/Wjaf5af8A+lqzb/AMS6PpV09te6rY2dylubtobi4RHEIYKZSCc7AxALdMkCvnaPV7fwJ4L07VbG20Xwbd+Jr610q01fwrd232RoUt3kV7m4nt2iQ+Z9oXIhLElEGetcVD8X7nxb4eMuv+JLKe61D4ZavJe25khRWuYpxEHACqVZgHyBgEg4UYpyw7jzNbK/4RcvPsRTxKmo30crP5OSj5dz7NhmjuIklidZInUMjocqwPIIPcU+vj65+Nuq+E/CepW1v4xh09bfSPC93okTC1O+GVhHeeXuQmRMKdx5KY4K10HiD4teLrAfGHU9J8WjVx4V1WOytdHS3tmEFtKlo0txIyRGQiDzZyvB+4d/mYwLnhZRm4J7X/BxX5yXpZ30RNPFxnCMmtXb8U3+S/FH1DRXyh4q+L/jHw1oUGor4/0bXNLeW9nV9AvbKe+e3WODZ5byW6W9w8bvITCojd1ePDEq2ez/AGmp7G8j+Ejy3OmWV9N4stHtZdatw6pmCYkmIuhPJTIDDnb7VCw8uaCb+Jpemti3iI8s5JfCm/W3+Z75RXyFY+LbzwR49+K0trqujJqdz4r0Wy1nW9Ls0hGn2kltGss5jd5QuGypaQsoZmYjgitnTvin4r1fxl4a0WbxzLYaRqGs61YW2rRQWIfUrO3gWWG4UvCUJWTfHvRQjBSduSDR7B8vMnpa/wD5Kpf+3fPXsw+sRTs1re34tf8Atr9NO6PqSivjfRv2h/G1r4Q0fVbbxHH4s1fVvBWp6smmPBbYW8tZoUV4lhjVzlWlZkJbPlnaBgive/gb4h1bxPp2rX174s0jxbpsk0TWE+mXUVy8CmJd8crxQQrnd8wGzIDYJPFE8PKCbb2/RuP5pjhiIzkopb/5KX5NfM9NooorlOoKKKKACq1h/qG/66yf+htVmq1h/qG/66yf+htQBZooqKe5htUDzSpChOA0jBRn05oA5Tx3puoNq/hrWbHTZNZXSrmWSWwhkjSVg8LRiRPMZULKW6Fh8rNg5wDBc6Xqt74s0/VY9Oks4zoN1bMvmx7red5IWSM4br8rcrkfL16Z6v8Atiw/5/rb/v8AL/jR/bFh/wA/1t/3+X/Gpcb/AI/imv1Gnb+uzucBpejeJINT8JPq1vq1/b2+lW0Uws9TEa296P8AXSXI81fPUjbj/WD5W+X5sk+HXhvxPoPi/XpdWUto13cXk1gkMwCW4a6d8yIHO9pA6kNj5QhU7STu7/8Atiw/5/rb/v8AL/jR/bFh/wA/1t/3+X/GtG7y5vX8Sbacvp+Ct/w5wfiPT/Flz8VNEurC1uotDt5EFxcR3p8mWIxyhw8RnC5DGPGIWPQ7xjFQN4N8RTeGbiB7zVl1C98RGa4ZNVdXSw+2sQsbCT92v2cj5Uw2OPvDj0P+2LD/AJ/rb/v8v+NH9sWH/P8AW3/f5f8AGpWlvJ3/ABTt6afmN66+VvzX6/gjgNR0LxR/wsSGe2/tFtPS5t2huhqOLOKzWLE0UsBkzJKz7iH2MfmX5xtIrF/4Rj4gjxvxdXp0D+0fJ8z7eP8Aj1M/2vzsb8/9OuMbtvbbzXrP9sWH/P8AW3/f5f8AGj+2LD/n+tv+/wAv+NC0af8AXT/L8X1YPVW/rr/n+C7HJ+EdP1yy8beI5LyG+fSbhvMt7i+ut2G3H5Io1mdQgHIPlxN0BDnJFCbw14jPxGOrpPqH9njVYwsP9oN9m+xfYSr/ALjftP7/AG9V3Z5HBJru/wC2LD/n+tv+/wAv+NH9sWH/AD/W3/f5f8aFpby/r/gA9ebz/r/gnluk+G/G0TeMX1GfU7iW4huo7RLe6EUcrNKxgeGQ3LeUUTCnEUQ653kAmay8IeInPgK71mK/1HU9K1G5OozwahsV/MWQCcL5igxE7SI+Sqtt2nnPpn9sWH/P9bf9/l/xo/tiw/5/rb/v8v8AjQtEl2/T+v6sgeuv9a/1/Vzl/H/h251jXPBl/b213dx6XqpnnS0uzAVja3lj3keYgcBmTI5O3cADkg5XhTRvFNr4+uLm/wD7QFkXvTcXE9+JbS5RpVNosEG8+UUjyrHYmTnl85He/wBsWH/P9bf9/l/xo/tiw/5/rb/v8v8AjQtHf+tQeqt/XX/M8+8a+DNb1Hx02t6Z9siMNvpscL218YUk2XrtcLIgcBwIWPDgg7jj5qfoeieLoPiZrF/fXN1JpRMptUEmbWSIonlx4NwdjqQckQAnnLkHFd9/bFh/z/W3/f5f8aP7YsP+f62/7/L/AI0krKy8/wARvVtvy/BWPIdE0Lx+PCfiOO6t9Stp7meymhs/7T3T+XuX7XFDM1zIUJQMFYyIMnICZ4jk8G+L7TwDY2WmW+pWDHW766urP7d5l61tJJO0WZluo9zAvGx/f5453YIPsX9sWH/P9bf9/l/xo/tiw/5/rb/v8v8AjTet/wCu3+QX/O/5r9Tk9O8O60PFcN5f3uoXFpa6JBChS68pJbzMoldoVfaWKlPvZUEjBO3Ik+FOn61pfh2e11uG8SaO4Ihm1G6M9xPHsX55P30yqd24YV9vGQqZ2jqP7YsP+f62/wC/y/40f2xYf8/1t/3+X/GnfVvv/ncm39eit/XmeU2fg3X9G8JjT4bHWnij8Q3l1e29rrGy5vbWSSd4zBMZwUG54WZS8ZOx+Dn5u203TdbX4YxWOpXF0+vHTTFLNZyobgSlCMo7EKXBx8xIBIzxXQf2xYf8/wBbf9/l/wAaP7YsP+f62/7/AC/41NtHHv8A5WKv73N/W9zy250TxfN4M0OCew1d2gnuRd2en6uYb2UEOIJGme5YgA4Zk89sZH3gNtdDofhnX5fENlc67e3c0cGhW1vIba9eO3kvcyid/LRhk4K4JXHIxyBjsf7YsP8An+tv+/y/40f2xYf8/wBbf9/l/wAab1vfr/k1+v5dhdLf1un+n3XOa+Eeg3fhj4daJpF9a3VpeWVusEqXV19oZmUYLK+9/kOMqMjAIGF6Vxmr+D/GuoeE9CiFzqkeqWXh67En2fVTEz6l+4Nv5jLIBJysv3iU67uvPrH9sWH/AD/W3/f5f8aP7YsP+f62/wC/y/4027vm/ra36gtDA+I+kar4i8KNpOmCNZr6aGG4lmUPHFBvBmLLuUsCgZdqkE7vxri7vwx4u074caRpVvBeXOqaReSRxJp1yLWG7t03rD5hFyjpGUKcB2ZWUEq4GD6n/bFh/wA/1t/3+X/Gj+2LD/n+tv8Av8v+NJaf1/X9N+Vj+v6/rp635Ky03W08d61cXVvqMkUyj+zbxL8fYLePyUBje380EyeaJG3+W3DL8wxgcl4d8J+Ol8B6jaajeap/bE89iGzdbGG2VPtMkUv2mUhXTd8v7sYHEY3EV61/bFh/z/W3/f5f8aP7YsP+f62/7/L/AI0LT+v6+fcDyvWfCnioeGLLTjFrOp2kWoagslvbav5d3Jbs0v2RmnaZWdFBTKl9xGMg4IrW0nw74m0/SbS1RZ4RB4TSxWNLlQqXyrjgBsbh/f6e9d9/bFh/z/W3/f5f8aP7YsP+f62/7/L/AI1NtGu/+TX6t+tir6p9v80/u0t6Hjmu2XiDwR4A1r7ZqGpxpJcaWYp7jVGkk3MYVuVErzKUUsH48yNeTtZc5ruPh5K998LrQaVfXtxc/Z5oob3VpDNK0wZl3s5eTeu4cEO4K4wxHNdX/bFh/wA/1t/3+X/Gj+2LD/n+tv8Av8v+NVL3+a/Xt09CI+7y26HlOl+GvGh8HeILVf7ZsLmeCzjtkvdWWe6Fwp/0maObzG2Iw27V3D7rfIucHs/iD4furv4b6lpOk289/ci3VIIZLjfLLtZTgyStyxA6u3Pc10f9sWH/AD/W3/f5f8aP7YsP+f62/wC/y/405PmdwSseXap4c8W3eieJb/TLOfRrrVtYguzpqzoLk2yRRRyfPFOirI5jLfLMvy4G4EkVduND8U2//CDNGdV1Kaz2pfiW5EEW1nTLTbLrczooOP8AXq3zA8tuHon9sWH/AD/W3/f5f8aP7YsP+f62/wC/y/40lpa3l+CsN6nnkui+K2t/GyQLqMWvXKXI0zU5dQDWOw/6hI4PN/duq4Bby15DHcc1Bp/hHxNd+GtEsby61mJW1hprxDfNBcQ2nkSDYZUupnZfM2n/AFpb5hwAox6V/bFh/wA/1t/3+X/Gj+2LD/n+tv8Av8v+NK2lvJL7tRt3v8/xVvw6HjPjbwf401z4f6Npk9rqmqXLeHp7O6htNUSBhfskapJcN5qCZMCQEZcEnJU5yOv8VaJ4nvT4rTT5buNLm0sI7AwXgjKusknnlPmGw7SuTxnjriu3/tiw/wCf62/7/L/jR/bFh/z/AFt/3+X/ABqr3VmI8c8dpq3hLwRDZXOpalaxSeIJooJ31Q+c1oyTMgad7iJsA4IDTIeFHPCN3UQvtX+EKL4cu7038+kgWV1qMh+0s5j+Vnds/Oeu7kZOeRXU/wBsWH/P9bf9/l/xo/tiw/5/rb/v8v8AjU/Zce9vwVh/aUvX8Xf/AIHoeZ2nhbxNe6ILNv7b02xl12GVLa41gvfQWAiUSq9wszMQ0gcgCRmAYYIxhTVPCviG9+K2n301nqN1p1pqiXNvdjUVFnBaCxkjKGAygmXznY7vLJw4+bAwPTP7YsP+f62/7/L/AI0f2xYf8/1t/wB/l/xqk7f15Jfp+L7kvVNd1b77/wCf4I8s0zw347jj8btdXl+15c2t7HYbJgIZJGdzbNExuW8plUqvEUQycksQGr0bw9bTaRa2emNDezRx2wd766uvPLSE/MhZnLk8k9NoHAIwBV3+2LD/AJ/rb/v8v+NH9sWH/P8AW3/f5f8AGktFb+uv+f5Derv6/jb/AC/Flyiqf9sWH/P9bf8Af5f8aP7YsP8An+tv+/y/40AXKKp/2xYf8/1t/wB/l/xo/tiw/wCf62/7/L/jQBcpGzg469s1U/tiw/5/rb/v8v8AjR/bFh/z/W3/AH+X/Gk9QPy4uvhd411bX/jTe/Fj4UeOfFPjDXoTb6ZqWg2MUtoNsqGMRP5L+XgRoBIpbMe5Su45Pq37H3iDxT8I/wBn/wAUeDvi7Np3gDT5YbiHwvB4pvIdMubpnRzOiiZ1LIryRfMQMGTrjp94/wBsWH/P9bf9/l/xo/tiw/5/rb/v8v8AjXpSxnPRdGUdGkvS3bszzo4PkrKvGWqbf39H3R8n3vxt8J69Hp9/Z+OfC/hu40vRI9MmjfxfpaXd+GntnlSJ4bplTEUMyo7OpDTZG3Baqmo/FzSNSxaaZ8YtD0PSdSnuLY/a/HNnNd6XbAQyxyF/tLl3aSK4T5XdglwgJwuF+u/7YsP+f62/7/L/AI0f2xYf8/1t/wB/l/xrN4iN78vfr3d+39XfcuOGlGPLzdunZW7+n3I+Ro/jFo+t6Nf6jqnxa8P2OuXGj31xBY2nj21jittQaX/RogEuQhCoqdcpktnqadqPxf8AC9vFqIh+JPh+RLibVZrSLSPHFhZmG6luA9vcTEXSB49uflO/HOYznj63/tiw/wCf62/7/L/jR/bFh/z/AFt/3+X/ABpe3jpaO1+vf5dOnouw/YS6y6p7dlbv16+r6Ox8k6z8ebTUPEWpz2XxQ8Jaa7WF9arcJ4ztDazSeSot5URr1gjF1zxbxlCxyWGSdfwx8YfhzHpXxIA8eeH9PXV7NIbC31rxrYXtxIwtWQgyfa5cDeeNz988Dp9P/wBsWH/P9bf9/l/xo/tiw/5/rb/v8v8AjUyqwlFw5d1bf59iqdGdOampXad9V8u//B7nylcfHvwjfJZapaeKfCmm3Wm6ANHa2uPGOmx3N40ktuXZGgvAAIkikZcyxlmcgFclqy/D3xl8PaRdRaxe+PvD2ranFpuq2trFL49tEWMtcGS2WbN+xO6MhQd8hUhcsNoYfYP9sWH/AD/W3/f5f8aP7YsP+f62/wC/y/41bxEW78vfr3vf82QsNJRUebt07Wt+S+48l/Zq8b2vi7TfFEdv4osPES22opJBHa61FqUttbvBGFEhS6uSgaVJyA0p6HGBwPZqp/2xYf8AP9bf9/l/xqeC5hukLwypMgOC0bBhn04rmqT55Xt2/BHVThyR5b3Ja84/aIsJ9T+D2v21tqV1pE0httt5ZrE0seLmInaJUdOQMcqeCcYOCPR685/aF1iy0H4R6zeahcx2dqJbOIzSnChpLuGNAT2yzKPxrM0PklPh9r2xf+Lm+Kun/PtpP/yDRWrN490u0meCSDVzJExRjHot46kjg4ZYiGHuCQe1FMD7e1H/AJB91/1yb+RqzVbUf+Qfdf8AXJv5GpZmlVR5SI7Z6O5UY+oBpASUVV8y9/597f8A7/t/8RR5l7/z72//AH/b/wCIoAtUVV8y9/597f8A7/t/8RR5l7/z72//AH/b/wCIoAtUVV8y9/597f8A7/t/8RR5l7/z72//AH/b/wCIoAtUVV8y9/597f8A7/t/8RR5l7/z72//AH/b/wCIoAtUVV8y9/597f8A7/t/8RR5l7/z72//AH/b/wCIoAtUVV8y9/597f8A7/t/8RR5l7/z72//AH/b/wCIoAtUVV8y9/597f8A7/t/8RR5l7/z72//AH/b/wCIoAtUVV8y9/597f8A7/t/8RR5l7/z72//AH/b/wCIoAtUVV8y9/597f8A7/t/8RR5l7/z72//AH/b/wCIoAtVWsP9Q3/XWT/0Nqkgadt3nRxx+myQtn8wKjsP9Q3/AF1k/wDQ2oAs0UUUAFFFYOpeONG0qS7S4uZF+y5EzJbSuiEBTtLKpG7DqcZzzUtpbjsbdFFNkkEUbO2Sqgk7VLH8AOT+FNu2rEOopkEy3EEcqBgkihgHQo2CM8qQCD7EZp9J7gI3Sm017mJZ0gMiCd1LrGW+ZlBAJA9AWH5inU0AUUVU1PVrXSIonupGQSyCKNUjaRnc5wFVQSTgE8DoCegqdgLdI3Wory8g0+1lubmVYYIlLvI5wFA70W9wt3BHMiuqOu4CVCjY91OCPoeaAJKKKjNzELhYDIgnZS4j3fMVBAJx6ZI/OgCSioYrpJp5olEgeEgMWjZVORkbWIw34E46damoAhuJ47aGSaVhHFGpd2PQADJNZ/8AwkVqekGoEeo064/+N03xX/yK2sf9ec3/AKAa6CmkBg/8JFbf88NR/wDBbcf/ABuj/hIrb/nhqP8A4Lbj/wCN1d1fW4dHe0jeKWee7lMUMMW3c7BSx5YgdFPei31+xlFsslxHa3M8QlW0uHVJgMZ5TOeADn6GnYCifEVtj/Uaj/4Lbj/43Sf8JBbf8++o/wDgtuP/AI3VxfFOitbfaF1ewNvvMfmi5TZuAyVznGQOcelVdd8Zafo9jNOlzbXcsSrI1ulwofYSo3Ac8YYH8aLAN/4SC2/599R/8Ftx/wDG6P8AhILb/n31H/wW3H/xutKPXNOm06a/ivreezhDGSeKVXRdv3skHHFY8HxA0ie/t4jd20dpc2q3MN3JcKquS23Zz/Fntmi13YNlcm/4SC2/599R/wDBbcf/ABukPiC2x/x76j/4Lbj/AON1Zi8T2Qa/N1dWlpFa3P2bzHuAAW2KxBzjaeTxzwM96k1LXo9NvtLtTbzTtqEpijkh2bUIUvlssDjAJ4B6UrAUf7ft/wDn31H/AMFtx/8AEUf2/b/8++o/+C24/wDiKut4htodSvra4ntreK0jid5ZJwCC5YAMCBtHAwc859qpah460i1S+WG+tJ7m1tluvLa4VVZWztO7njjrg4BB707D8g/t+3/599R/8Ftx/wDEUf2/b/8APvqP/gtuP/iK0Y/EWlyXi2a6lZm8LFPs4uFMm4DJXbnOQOcYp9prum3901tbajaXFyoLGGKdWcAHBJAOeCRS5RGX/b9v/wA++o/+C24/+Ipp1+A/8u+o/wDguuP/AIiukoosBzf9vW//AD76j/4Lrj/4iga/AP8Al31H/wAF1x/8RWB8QPihe+HPE+leGPD+k2mseIL9RLt1K/aytYEO/ZukSKZy7+VLtVYyMQyFmQLk7PgDxtJ4xtNSivtNbRdc0m7NjqOnNMJlil2JIrRyADzI3jkjdW2qSGwVVgyjR02o8zIU4t8pKviaxd2RPtUkqffijs5meP03KEyue2QM0/8At+3/AOffUf8AwW3H/wARVXw5/wAj74w/7c//AEUa6ys+VFnO/wBv2/8Az76j/wCC24/+Io/t+3/599R/8Ftx/wDEUWPxC8O6pv8A7P1SLUvLvxpj/YVa423GASh2A4wGBZvuqMliMGuioSQHB+I/ir4V8H/Z/wC3tWTRPtO7yf7Rikt/N243bd6jONy5x0yPWscftF/DPH/I66T/AN/68F/4KL/80+/7iH/ttXyjqfgLxBo/hbS/El7pVxb6HqbulpesvySFeo9uhxnGcHGcGvFxGOnRqypxjdI7KdCM4qTe5+lH/DRfwz/6HXSf+/8AV/Qvjb4E8Tarb6bpXinTr+/nbbFbwy7mc+wr8xPC3gnXfG015FoWl3GqSWdu91cLbrny4lGSx/oOpPABNdp+zJ/yXnwb/wBfh/8AQGrKlmM5zjFw0bsVLDxSbvsfpvcX1taS28U9xFDJcP5cKSOFMrYJ2qD1OATgdgaIb+2uLm4toriKS4t9vnQo4Lxbhldw6jI5GeteVanZ6jafE/UJNTJbUb+CSHwtqEil7W0fystGV/hkJBYk/eUYGcVsfBZLaz0e/sJbS4tfEltOP7ZN2d8s1wy583f/ABqw5UjjHHavXjUbly2/r+tfQ5XGyud9qOp2ejafPfahdwWNlboZJrm5kEccajqzMSAAPU1maZ468Na1NHFp/iHSr+WRxGiW17FIzOVZwoCsckqjtj0Vj0Bqp8To5Zvhr4qiggmuZ5NKuo44beFpZJGaJgqqigsxJIGAK4OKLW7VvAt3ey3t491ftHcNp2kXNr5FmNPmURzp8zLifBDOQcyfLgGuyEVKMm+hzTk4uKXW/wCFv8z2OmxypKCUdXAJUlTnBBwR+Br500228R2Pg/wPeQN4uv8AUZLcSanp1++ppJNNmBT+9JPkuu04SRfKcM+4gkvXpPwX0oaNp3iG2kh1aC7/ALb1CSRdSNyUZHu5niaIy5UqUZTmPg555q5UuVN37/g7f1/VojVcmlb+mm/0LXjr44eCfhpq8OmeJNa/s2+lgFykX2SeXMZZlDZRGHVGGM54q98P/i14U+KX2/8A4RjVf7T+w+X9o/0eWLZv3bP9Yi5zsbpnpXzD+1XOLb9pHwbKz2sca6damR7wxiJU+0z7ixk+UcZ5P4c4rd/YZiEOr/ElA0bgTWeGhdXQjNzjDKSCPoa8NYqbxKo2Vm366K/c9L2UfZufVW/G/wDkfWFFeX/Hq0sdV8OppcukX1/qV8kkFpfW2mXF4umE43XWYkbZIgwUxhi2ACBuI9H0y4F3p1rOEmjEkSPsuUKSrkA4dTyG9R2Nevy+5zHFze9ylmlXrXl3xvsYYbfQdZks7Zvseq2W+9V8X0Y+0x7Y7YY5LsQrjcMpuGGyMeor1o5fdUvNr7rf5hze84+n6/5C0V5H4q8aQ6Z8YNJbUtM1eS0tZBplg0WmXMkTXE8TSyzh0jZXCpGkYwcjfNnABr1yhxaipd/6/Kz+YKScnHt/X53XyDNFeV32iJ4W+Mum6o1lpGq3PiS7kiWZrDGo6fFHZcss+45i3RbSu1ebgc9j6TeapFZXlpbPFcu9yXCNDbvIi7VLHeyghMgYG4jJ4GTTaUUnfdBGV212Lo6UtZOk+I7fV3tkitr+Ez2i3im6sZoAqMcBWLqNsg7xnDDuK1qhlhRRRTQBT6ZT6GAUUUUwCvHv2ufB7eP/ANnvxR4fW4W1W9eySSZlyVjF5Az7f9rarY9DivYa84/aI1vTvDvwe1/UdWv7XTNPhNt5t3eTLDFHm5iUbnYgDJIHJ6kUAfMst54lWVxBpOlSQAkRvJqkqMy9iVFuQDjtk49TRWInxz+G4Rf+Lg+Fen/Qatv/AIuimB956j/yD7r/AK5N/I1ZqtqP/IPuv+uTfyNWDyOuPekAtFfNnw3+KWtXCateaz4w1eZtF1DXHuRqum21ppUtpa3DwRRvdrbLtb5om3IX/wBW4Yc4q7e/HW/8UWFsJdFfSbrTfGWl6Rdpa6jdRLJHcCJ45FLwQyOpEy7o3QKwB5YEE9KoTcklre34tJb+bOZ4iCUm+nN/5Km3+R9DUV84+E/jlqPhbTG0d7S98V69e+IPEENjHO877bWzumUKzxQzPwHiRfkPXJIxzF43+NuueLtHsbjRNKvPDa6X4i0Gy1R7u+e3uoprmW2eW1MCxkSKI7hUYuy8k4B20RoTlKKWzt+LS/N2fmEsRCKk305v/Jb/AOV15fM+k6K8c+NXinxNoXxA+Hum6Deav9m1dr+O70/R47AzT+VbmRCrXa7VIYf3hkdjXIWX7UF94c+Fmg6vqENj4n1aK0eTW4oZ5be7gMVwbeZhBHbOvyOrKWdoo2ZSFODxMKM5pOO76ff/AJDnXhBtS2XX7v8AP8z6Sorxc/H7VIvEl3ZXPha1TSrXxXF4VmvYtWZpvMmjjeKZYjAAV/eoGBcFecFsc4n7P3xcvtd1SXwcrf2zdWV/rEt9falqEgmt7ePUpoYI4w0bGchQoPzjYNm45ZQRUZyjzL1/BP5aNP5hKvCLs31t+LX5po+g6K8t8P8AiXVm+PXjvS7/AF2ZvDul6Pp15b2M0cCQwPM1wJX8wRiQjECn5nIGW9scXB8eLrwPoWuXt7pTXMSeK9R02e/vdTuGsbJY13o8k3lSGCNjhVG0RqTywHVKlJuy7X/FL9SnVjHfvb8G/wAkfQ1FeWfD34k+IfGHxP8AFekTWGlx+H9MtNPmhuLe/Msu64hMvAEe11PTcHAAUEbt3HqdRODpu0ioVI1FzR2CiiioNAooooAKKKKACq1h/qG/66yf+htVmq1h/qG/66yf+htQBZooooAK828QfDrVNc1fUJ0NnY2d+8a3sMVzIVvESeJldk2YSQQxumVJ3bgCcKMek0h6VnKCla402tjyXT/hHqEd0kdz/ZwsFuVnjETNutFF5NOyRLsAAkV40bkYCkfMMVStvgrrEenX0E1/aTSSaWtrCDI+1Z44p4Iifl4QRSgnAJ3Z4x19lorP2ELW/r+uxftJXueR658L9Qt5dS1Sza0trqT7S/nQ+a0wRreKGNF2RliMRtkKMgkEAkVd0/wXfap8NdX0+LTbTTrnVL6WYWkrNFFFEZQqkfu9wPlopAKA5PIFen0UeySk35W/L/InmdkuzucD438CX/iPXFv7ZbH5LJLZDO7K/wDr1eWPIQ4SRFKEg5GTwc02fwFejwbb6RClk0v9qpfvE0jJDDH9q85o48Ic4XKDgDvx0rv26U2qVOK/rzv+YOTf9eVvyOL0nwpqFv4k1zVHtNN0t723NvHLYSs7EhmKvIpjXc5LEkknHAHcnmdC+Hdzp/ifQVvbOCQQMl3OIEeSBXit3iEpkZFBld5Sx/iwik5xmvWqKlU0reX+bf5sHJu/9eR5VqfgCbV/FGrSWFpHLazyQ3N1PqdssRnlS4jfyFkEe9otkeDkMvCYz81aFp8O47a/8PxT6Za3D27yXU9+UVvJCyNJDbRlvmCq0vGABtixxnFei0jdaUaUYpLt/X/Df8PduTd/M8w1L4W3usatqdxfm0uxc30UkdxJM28WonhkaEoIx2hAGWbpxtyaop8HbySFoJ7fSjE0McAKO2Yk+3vPKiDy+AY2CjBGCuOnNeuUUKjBWXb/ACt/XzBzbv5/53PLp/hTdv4gaRY7D+wmu2l/s6OUwqqiO2SJgBGcMogcYUrw/DDJFdX4G8N3XhuDU47lbdRc3slzEsLeY6q2CQ8mxC53FsEjIBAycZrpqKqNOMLW/rb/ACE5NmP4r/5FbWP+vOb/ANANdBWNrtnJqGiahaxY82e3kiTJwMspA/nR/b9130LUM+z2/wD8drZEjPFeiPr9nFbGztL633lpIrqRoyDj5WR1UlWB7j865nTPh/qthLK091FqM7oksV9cXMu+CdYfLDeVgrIOM5Yg8nOa6n+37n/oBaj/AN92/wD8do/t+5/6AWo/992//wAdoHc5SDwNrIcSTiyuHa9tbuQTXkkm7y49r8tH1JwQMAD2xVrUPBupzaXrOnxRafOl1cPcW9zNKyyLvdWZGAjOAMEZB5AXgV0P9v3P/QC1H/vu3/8AjtJ/wkFz/wBALUf++7f/AOO07/193+SF/X5/5sq2Xh+8SPxMkxgRdTmZ4TG5baDCkfzAqMHK54z1rBu/BOtXumvAyaekp0M6WCLl2HmZGGz5Y+XAz657d66j/hILn/oBaj/33b//AB2j/hILn/oBaj/33b//AB2ktP68mv1Hf+vmn+hzN/4J1i9fUZF+yQXE139pt54rtw8R+zrFz+7IYfKcqQQQ3bFbmt6RqlzdeH7i1W0uJNPlaSYTStCHJiZPl2o3ds/hVr/hILn/AKAWo/8Afdv/APHaP+EhuR/zAtR/77t//jtO/T+tBHO3nhHWtUu7q4vVsmeeC1TdBdyRPHJFJI+5GEfGN4wec7eRzUUvgvXm03V7dpbG6m1DSo7JpnkaLbKvmDO1YyCMSdRjkdOa6f8A4SK4/wCgFqP/AH3b/wDx2j/hIrj/AKAWo/8Afdv/APHaXSw763OeuPCWqm6ubp47Pa+p298VWZy3lxwLGy/6vlsqcDvnqKo/Cy5HmwxGKOZ206MC4gu/OEEaH5IXXYvlt87HBLHg5Y4rr/8AhIrj/oBaj/33b/8Ax2j/AISK4/6AWo/992//AMdpp2/rysTbS39b3NqisX/hIrj/AKAWo/8Afdv/APHaT/hI7j/oB6j/AN92/wD8doGcZ8Q/hrq+o+NtK8ZeGZNPfWLSOOGay1SSSGGdY/O8l1ljDMjoLq6XBVlZZ3BAIVhyHw58U+IPAPxs1fwp460uL7f40l/tXS/EWlq5sbmWK1RZLEqRmJ4ooNylj+8Cu/yk7B7F/wAJHcf9APUf++7f/wCO0f8ACR3H/QD1H/vu3/8AjtbKr7vLJX0MXS97mi7amd4c/wCR98Yf9uf/AKKNdZXGaW19p3iLWtTfSbqSLUfJ2RRyQ74/LQqd2ZAOc5GCa2f+EiuP+gFqP/fdv/8AHawujY43w94a8a+Htc8SXMFtoXka14hhv2d7+ZnisxFDFKAvkAGUiH5Ru2/Py3y8+mVi/wDCRXH/AEAtR/77t/8A47R/wkVx/wBALUf++7f/AOO0KySXZJfcrDbv/Xc+S/8Agov/AM0+/wC4h/7bV4n8E/jbb+FLC78GeMbdtZ+H2rZS5tWG57Jj/wAtofQg4JA7jI5HP0/+1d8IPFXx1/4Rb+wdPS0/sr7V539o3EabvN8nbt2M+f8AVtnOOo618/8A/DD3xMP/ACz0n/wN/wDsa+bxNKv9ZlUpx00/JHfTlD2ajJlf4o/Fbw/4O8LTfDj4WySJoLnOr683Fxqr913YGIx04Az0Axkvy37Mn/JefBv/AF+H/wBAauy/4Yd+Jn/PPSf/AAN/+xrtvgr+yV478C/FHw9r+qrpy2FhcebL5N1vbG0jgYHrWMKOIlXhOUbJNeiVy3OmoNJn2RreuWPh2w+2ahP9nt/NjhDbWYl5HWNFAUEklmUAAd6xbr4h6fa+JTo32a7lkS6is5bmMIYoppIzIisC+/lcfMFK88ng44b426zrreINJ0zw/pk2o6ja2d1qdsklle/ZzdrE4ty1wlrJbAriUiOSRCXMWOq55CS7XVfjHaajeabq9p4hj1S3gXU7bQNaeK3iVRFLaCX7CtvLAzmVhOzqoEpcYCgn7KnS5knL+tv+Dr27vR+FUq8raj/T/q2n5LVfQPiHw1pHi/RrjSNe0qy1vSrjb51jqNulxBLtYMu6NwVOGVSMjggHtXlmjfBr4O6zr/iDSl+D3hW1bRpI4prmfw9p4ilLxiQbNoLYCsM7lX8a9lHSvnnV/iZq3hrxz40j0/SdSWO/1CFVvx4Y1658lYo0hkZVj05opc7GKlZShyp3EVFPnaahf+mi6nImnOx0EHwu/Z5utOuL+Hwj8MprC3l8ma6j03TmiikxnYzBcBsc4PNdH8NLP4YeH9d1zR/AemeGdF1JFhfULfQbW3tnlXZviZhEAXUCXgnIG84614Nb63cTR3U9/p/iiXU5/sMgvYtC8SieO4hinR545DpmEJMq4j2GMqXUrjr6r8EvEc974q1q1kttRkF3aWt1Je3vh3U9JBmighgkULc2kUWCy7lCyFsE/JhSR01KckpXbdv6/rboc1OpFyjypK/3/wBbd+vTfpviR8GPBPj67bXPEugSaxfWlp5SGK5mjcxqWcIqpIoJyzYz69awfAA+Gnwt8PprfhjTp9M03WriK1vZvMll+yyKH2i4EjsYtpZlJ7FhnjBr1m9lmhs55LeH7ROkbNHDuC+YwHC5PAyeMmvKofAfieDR9UnWCyOveK54xqakqbTTIQhGVT/lq4HBI+8xB4AzXiVIKM+eEVfvY9WLurN6HYeKfhN4D+Id9DqfiTwb4c8TXiQrDFearpcF3IIgSwRXdCduWYgA4yxPeul03TbPRdOtdP0+1gsbC0iSC3tbaMRxQxqAqoiqAFUAAAAYAFU/C3h6Hwp4c07R7eWWaCyhWFJJm3OwA6k1q12c0nFKRjyxTbSKU+iaddalBqM1hazahbqVhu5IVaWMHOQrkZA5PQ96vL1pKVetAzD0XwD4Y8N6nqWpaR4c0nS9R1Of7VfXdlYxQy3c2XPmSuqgu+ZJDuYk/O3qa3aKKG29xJJbFWLSrK3v576KzgjvZ1Cy3KRKJJAOgZsZIHvVqiimhjl6UtIvSlpMAooopoAp9Mp9DAKKKKYBXnn7QGpWej/CPXry/uoLG0i+zmS4uZBHGg+0RjliQByRXodeNftkAN+y58SwRkHR5eD+FAHjttNHcW0UsTrLE6BkdDlWBGQQe4orh/A1n4nbwT4fMer6RHGdOtyqPpcrlR5a4Bb7SMn3wM+gooA+9tR/5B91/wBcm/kasdar6j/yD7r/AK5N/I1LNOsChmDkE4+RCx/IA0AcZYfBjwjp3hbW/DcenXE2h6080l9Z3eoXNwsrSuzyMDJIxQszsxKEc89hVOT4BeCpvOMljqMjzX9tqcsj63fGSS5t1CwysxmySoVRycHauc4Fdz/aUX9y4/8AAeT/AOJo/tKL+5cf+A8n/wATWiqTTum/+G2+6yM3Tg1ZxXX8d/v69ziE+AvgqKCGOLTr2GSDULjVIbqLV7xLmK4nz57JMJhIofJ3IGCnPIp+qfAvwXrN9LeXWm3RnmktZ5jFql3Es0tsVMEsipKA8ieWn7xgWIUAkgV2n9pRf3Lj/wAB5P8A4mj+0ov7lx/4Dyf/ABNCqTTTTYOnB3vFamB4r+GmgeNNZ0nVdUivjqGlCUWU9nqd1aGHzF2uQIZEBJXjJycVz99+zp8PdQsRZyaC8VsbFtOkS1v7mDzoDI0pWUxyKZT5ju+58tuZjnJJrv8A+0ov7lx/4Dyf/E0f2lF/cuP/AAHk/wDiaSnONrN6f1+r+8HCEt0v6/4ZHGSfA7wdK9yz2F4zXGsRa9Kx1a8y19EFWOX/AFvGAqjaPl+UZHApdI+B/g7QdQ0m+sdPu4LvSrq7vLSX+1Ltikl02+4zulO9Xb5ijZXPIArsv7Si/uXH/gPJ/wDE0f2lF/cuP/AeT/4mmqk1s3/St+SS9NA9nB/ZX9Nv8236t9zjPEPwO8IeKNa1jVdRtNRkvNXgjtb/AMnWr2CO5hj3bI2ijmVCo3vxtwdzZ6mmx/ArwdFHeJHZahELy6uLycx6zeqzyzqFmORNkKwUZUfLwOK7X+0ov7lx/wCA8n/xNH9pRf3Lj/wHk/8AiaXPO1r6f1/kh8kL81lf+v8AM5/Qfhf4a8L6+2s6RYSadePaQ2LJb3cyW7QwrsiUwB/KJReAxXcB3rqqq/2lF/cuP/AeT/4mj+0ov7lx/wCA8n/xNKUpSd5O44xjFWirFqiqv9pRf3Lj/wAB5P8A4mj+0ov7lx/4Dyf/ABNSUWqKq/2lF/cuP/AeT/4mj+0ov7lx/wCA8n/xNAFqiqv9pRf3Lj/wHk/+Jo/tKL+5cf8AgPJ/8TQBaqtYf6hv+usn/obVJBcpcbtokGOu+Nk/mBmo7D/UN/11k/8AQ2oAs1FO0yoDCiSPnkSOVGPqAalooAp+bf8A/Ptbf+BDf/EUebf/APPtbf8AgQ3/AMRVyigClvv/APn2tv8AwIb/AOIo33//AD7W3/gQ3/xFXaKAKW+//wCfa2/8CG/+Io33/wDz7W3/AIEN/wDEVdopAUS1+f8Al2tv/Ahv/iKTN/8A8+9t/wCBDf8AxFX6KYFDN/8A8+9t/wCBDf8AxFGb/wD597b/AMCG/wDiKv0UrAUM3/8Az723/gQ3/wARQft5/wCXe2/8CG/+Iq/RRYDPxf8A/Pvbf+BDf/EUYv8A/n3tv/Ahv/iK0KKLAZ+L/wD597b/AMCG/wDiKMX/APz723/gQ3/xFaFFFgM7bf8A/Pvbf+BDf/EUbb//AJ4W3/gQ3/xFaNFFgM7bf/8APC2/8CG/+Io23/8Azwtv/Ahv/iK0aKLAZ2y//wCeFt/4EN/8RTfLv/8Anhbf9/2/+IrToosBmeXf/wDPC2/7/t/8RR5d/wD88Lb/AL/t/wDEVp0UWAzPLv8A/nhbf9/2/wDiKDFfn/lhbf8Af9v/AIitOiiyAy/Jv/8Anhbf9/2/+Io8m/8A+eFt/wB/2/8AiK1KKLAZfk3/APzwtv8Av+3/AMRR5N//AM8Lb/v+3/xFalFFkBl+Tf8A/PC2/wC/7f8AxFIYL8/8sLb/AL/t/wDEVq0UWQGV9nv/APnjbf8Af9v/AIigQX4/5YW3/f8Ab/4itWiiwGX5N/8A88Lb/v8At/8AEUeTf/8APC2/7/t/8RWpRRZAZfk3/wDzwtv+/wC3/wARR5N//wA8Lb/v+3/xFalFFkBl+Tf/APPC2/7/ALf/ABFKIr8f8sLb/v8At/8AEVp0UWQGZ5d//wA8Lb/v+3/xFHl3/wDzwtv+/wC3/wARWnRRYDM8u/8A+eFt/wB/2/8AiKPLv/8Anhbf9/2/+IrToosBnbL/AP597b/wIb/4ijbf/wDPC2/8CG/+IrRoosBnbb//AJ4W3/gQ3/xFG2//AOeFt/4EN/8AEVo0UWAztt//AM+9t/4EN/8AEUuL/wD597b/AMCG/wDiK0KKLAZ+L/8A597b/wACG/8AiKMX/wDz723/AIEN/wDEVoUUWAz8X/8Az723/gQ3/wARSj7eP+Xe2/8AAhv/AIir9FFgKGb/AP597b/wIb/4ijN//wA+9t/4EN/8RV+iiwFDN/8A8+9t/wCBDf8AxFGb/wD597b/AMCG/wDiKv0UwKIe/H/Ltbf+BDf/ABFLvv8A/n2tv/Ahv/iKu0UrAUt9/wD8+1t/4EN/8RRvv/8An2tv/Ahv/iKu0UwKW+//AOfa2/8AAhv/AIil82//AOfa2/8AAhv/AIirlFAFPzb/AP59rb/wIb/4ip4GmZCZkSN88CNywx9SBUtFABXnP7RGk22vfBnxNpl6hks72GO2mQMVLI8qKwyORwTyK9Grzj9oiLUZ/g9r6aTdWtlqBNt5U95bNcRL/pMWd0ayRlsjI4cYJB5xggHy3Y/D3TLGyt7a2utXgt4Y1jiiTVrkKigYCj950AGKKzk0j4kbF/4qzwr0/wChYuf/AJYUUwPvPUf+Qfdf9cm/kas1W1H/AJB91/1yb+RqxSAWivDPA/7TB8V+K7DQ7jRtNgurjU9T02eDT9Z+13Vp9jMgM8kJgQiJzGADnOZEGDnjsbj49+CrKy1O6u9QvrGPTJLaO7S70e9hli+0OUhcxvCHKOwIEgG3IPNaulNW03/XRfiYqrB312uvu3PQqK8l1347Wbap4ZTQJUntrnxGNA1eDUrG4tbi1Y2slwCElCMp2op5UhlfINbPif4v2lh8Hdb+IGgWcmtWWn2Mt/FBepNp/wBpSNSx2mSIsAVBKtsIbjBwc0vZySvb+v8Ag30KVSMpcqev/Ba/NHoNFef6Z8Tb2C2vLvxBo0draQpB5beH5rjWZWlkRnaJ4IrcSIyp5bZ2kESA5rndf+O8MovLnw1e2d/aDwldeJLNbixnH2jynAz5m5QAM7WjKhwSDxgih05RbTW3+Tf5IUasJpOL3t+LS6+bR7FRXm2m/HnwuPD5vdVvZLO6tLfTZNRijsrh1t3vVHkAEIdysxxuGQP4iKuv8cvBUWra1psmrTRXejO8eoCTT7lUt2UIdrOY9uWEibADmTd8m6qlRqRk4tar9Lf5r713FGtTnFTT0dvx2/J/czvKK4Bvjv4KQSKdTujcRPPHLZrpd2bqEwqjSmSAReYiqssRLMoGJFOeRV7xx44/4RbV/B1os0cKa3qn2ImW0lm3jyZJNishAjc7AQWBGFYYzjEcktLrcr2kbNp7X/A7GiuD8L/HDwb4y1Sw0/StRupLm/Nwtr9o0y6tkmeBisyK8sSqXQg5TO4YPHFcZ8Tv2kn+GvjLX9Dn0fS5xpumWup24m1ryLrUPOkkj8mCAwHdKGiOBvwdy5K5OKjSnKSglqxOrCMXNvRHt9Fea+Kvjr4c0Y+I9Ltru4PiPSLOW4mtW0m7mS3IgMytIUQKUK8ghwGwVU7hircHxo8MWdjo/wDaerKLu9trKV5LeynMMbXOBD5jBWEIkY4USMCeBk0lTm1e3b8b2/IPaw79/wALX/M7+ivNfgx8TL74qJ4h1R0W00m21K40+zs30y4t508iaSJneaUhZd+wHaiL5fKsSenpVTKLg7MqMlO7Xmvu0CiiipLCq1h/qG/66yf+htVmq1h/qG/66yf+htQBZoor4n/4K1f8m5eHP+xrtv8A0jvK3o0/bVI072uYV6vsacqlr2Ptiiv5v6K9z+x/+nn4f8E8H+2f+nf4/wDAP6QKK/m/oo/sf/p5+H/BD+2f+nf4/wDAP6QKK/m/oo/sf/p5+H/BD+2f+nf4/wDAP6QKK/m/oo/sf/p5+H/BD+2f+nf4/wDAP6QKK/m/oo/sf/p5+H/BD+2f+nf4/wDAP6QKK/m/oo/sf/p5+H/BD+2f+nf4/wDAP6QKK/m/oo/sf/p5+H/BD+2f+nf4/wDAP6QKK/m/oo/sf/p5+H/BD+2f+nf4/wDAP6QKK/m/oo/sf/p5+H/BD+2f+nf4/wDAP6QKK/m/oo/sf/p5+H/BD+2f+nf4/wDAP6QKK/m/oo/sf/p5+H/BD+2f+nf4/wDAP6QKK/m/oo/sf/p5+H/BD+2f+nf4/wDAP6QKK/m/oo/sf/p5+H/BD+2f+nf4/wDAP6QKK/m/oo/sf/p5+H/BD+2f+nf4/wDAP6QKK/m/oo/sf/p5+H/BD+2f+nf4/wDAP6QKK/m/oo/sf/p5+H/BD+2f+nf4/wDAP6QKK/m/oo/sf/p5+H/BD+2f+nf4/wDAP6QKK/m/oo/sf/p5+H/BD+2f+nf4/wDAP6QKK/m/oo/sf/p5+H/BD+2f+nf4/wDAP6QKK/m/oo/sf/p5+H/BD+2f+nf4/wDAP6QKK/m/oo/sf/p5+H/BD+2f+nf4/wDAP6QKK/m/oo/sf/p5+H/BD+2f+nf4/wDAP6QKK/m/oo/sf/p5+H/BD+2f+nf4/wDAP6QKK/m/oo/sf/p5+H/BD+2f+nf4/wDAP6QKK/m/oo/sf/p5+H/BD+2f+nf4/wDAP6QKK/m/oo/sf/p5+H/BD+2f+nf4/wDAP6QKK/m/oo/sf/p5+H/BD+2f+nf4/wDAP6QKK/m/oo/sf/p5+H/BD+2f+nf4/wDAP6QKK/m/oo/sf/p5+H/BD+2f+nf4/wDAP6QKK/m/oo/sf/p5+H/BD+2f+nf4/wDAP6QKK/m/oo/sf/p5+H/BD+2f+nf4/wDAP6QKK/m/oo/sf/p5+H/BD+2f+nf4/wDAP6QKK/m/r9aP+CSv/JuXiP8A7Gu5/wDSOzrkxWX/AFan7Tnv8v8AgnXhcx+s1PZ8lvn/AMA+2K4X43/8kw1n6wf+j467qvHv2vLWO9/Zw8cW72U2oNJaRrFbW8TSSvKZo/L2Achg+0huNpAbIxkeOe0eNx/cX6CiuV8IeEIo/CeiJr2nWN3rq2MA1C4aBGMtx5a+axOOcvuOfeigD7m1H/kH3X/XJv5GrB6cdar6j/yD7r/rk38jVmgDwe2/Zr1WfS7PTdS8ZRG0s9dvvEUE2laU1pdR3VwZ2GJWuJAFQ3DHAUFtq5OM5zYv2UNQh0XWLOPxXpsM+p2Wk2s1zFoLqXexuGmE8n+lEvJKWwzFs55z2r6KorojiKkdn26Lpsc8sPTn8S79X1d/zPCfFn7M03jPxRqN/qmv2NzpN/4ittduNLfSpMSJFZG0NuXFyMhkOS23GeCpBxXQt8Htbu/gLqvw4v8AxZDfT3VhNpUGsy6a26K2cFEDx+eTI6Idu/eu7AJHXPqtFQ6s3Hkvpp+CsvwRapQjP2iWv+bb/N/1ZHkd/wDAOJ/Cmh6Rpl1pOjmy1FNRv7e10grp2qFYTFsmtRMMjHlt98jdGpIPSua0n9mDVdG0m206DxfY/Z4PDF/4aTOiMDtuZvM83i5x8uFG3HODyM4H0DRTdabum97/AIpr8nYmNCnG1ltZfc+Zfir/AJngmq/s0atfadfWdv4ws7dNR0/SLO8MmjNIWk0990Ukf+kjYrcBkO48cMK1tc/Z7n8TaR8R9N1LxBA9r4t1ODVYvJ03a1lNClusYbdKyzLm2jJUqucsOAePZaKp16km5N6/Lun+cV6WFHD0opRS0Xr0TX5N/eeH+J/2b5PFGhWlk1/4d0a8gaaVL7QvDrWMlvcOsarcW7R3QkilUIQTvZWBAZSFArtvHnw6v/F914Jlt9ais/8AhHNVj1OQ3Vmbh7srDJFtysiBCRKxLYbnHHr3VFT7Wbtrs7/Mr2MLNW3VvkeNeEvgHqfhm78FTSeJ7S7HhzVdV1J1XSmj+0/bTKSgP2htmzzm+b5s4HA5zN45+CGseL/FPjHUYvE1hZaf4m0KHQJ7SXR2nlhgQzFnWT7Qqlz574yhAwvBwc+v0UnVk3d/p1GqUUml69eh5DZ/Au/0xPHlvZ+I7dbLxLpVvpcCT6a8klmIbb7Ors/njzSVJJGEycc+uf4c/Zt/4R7xLaawdQ0PVnax0+0vU1Tw+J2aS0QIk1s5nzAWULkHzBlQRjv7dRVe3qXbvq7X+W35kfV6dlG2ivb52v8AkjifhL4Avvhv4dvdLvtWt9Ya41O81FZreya1CfaJ3nZCplkzhpCAcjgDiu2oorKUnJ3ZtGKirL+rhRRRUlBVaw/1Df8AXWT/ANDarNVrD/UN/wBdZP8A0NqALNfE/wDwVq/5Ny8Of9jXbf8ApHeV9sV8T/8ABWr/AJNy8Of9jXbf+kd5Xbgv94h6nDjv92n6HwvD8P4vEfgHw3B/Yuy9uLKzmDjT4rLzx586MI7oIzSyshQ7SjZWMkbiAKr6x8ENJ0pG+x2WvPeNHdXNtK8gaNBDZWt2qsht1Z/9eyE/J0B2jkV4PRX2ahJTck9239+33HxPtI8sU47JL7v8z3nxt4Di8L/HjQ/sOktqEF/rk7Ms1sJbOdlvHV7dYGiGAigKytuzkEYUrm5pvwp0jx2+hCysmTRL55ZkawZEubJpZUj8qXEMjyiKTeo37RtCncgcV89UVmqUlBR5tivarmb5d/6/r1Pch8F9Dns2SLTPEcd59mgYSvco0fmy6W14PkFuDgMhXbuyVPUEc8V8WfAmleA72ys9Pubu5mbzBLJcRuI5kBXy5omaJAVcEnClwMD52zXBUVooS5r307fL/PUhzi48qjr/AMH+ke1ftLfCHRfhP/wgv9j2OtWH9r6HFez/ANs3VhP9rc/8vUH2S4m2wyZO1Xx904Lc7fFaKKqEXGNpO7JnJSk3FWQVpeGYLG68SaVDqkph0yS7iS6kBwUiLgOfwXNZtFaLRmTV1Y930HwTd63rOqWfiPwwthplrcxiN7GwhtxJC2oWkTr5vlFioR8rKpB5b5mDMK5TxT4F0LS/CF5rMVlq+nXENzLprWd7dIzQ3glDKGHkqdn2cnjg7xnOOK8zq5NrF1PpVvprNGLOB2kREiRSWbqWYAM54wNxOBwMZrnVOUUtf6/r8TqdWMnJuO/4b7fevkj17/hUOi/8Mof8LC+w61/bf9ufYv7T+1WH9m7MY+y+V9o+0+dj97u8r7vbb89eK0UVpGLje7uZTkpWsraBRRRVmYUUUUAFdR8M7eO58ZWaTaXLrMPlzF7W3jSSXAicl0R/lkZPvhDwxQDvXL0UPVNDWh73qfwl0/Uri0ZdJutQkN5dfbb7TH+wxCFILeRE+zrBL5UwEpLRqGIYSDGBlXXfwO0CLV4rFrbWIorO2u3uJ43d2vni1J7YiNVt3KskQDsAG4AyFGWrwKisPZy91KW34m7qRd/d3PY/2afhVonxV+NsXhjUbHW9f0vy7mRLHQ5rS1vbvYp27TdzRIuB85GS2EI24yV8q1/T4tJ13UbGCUzw21zJCkrGMl1ViASY3dDkD+FmX0YjmqNFXGMlK7d0RKUZKyVnd/8ADBSrgsM8DPNJRWq0Zke6z/Dtde8Ua3psuli28KWLNc6TcWFkEuNQhBVUWOZIZHlzE/msdr/cOduSRR1P4Z+G9N07VBa6R4g1KddAbVLW5knEW8/bI4RIsXkZChNzMCTw2ONu6vGKK53TlpaX/B06nRGpFbxv+mq/4P3ntX7NPwh0X4sf8J1/bFjrV/8A2Roct7B/Y11YQfZHH/L1P9ruId0MeBuVM/eGSvG7xWiitFFqTbejM3JOKSWqCu2+E2lwzeIJ9Xvra3udJ0WA3l0L2B5bflljjEgVGOC8i8YPQ1xNFW9rELc9s1j4EW+ia9DpU9nrNw9w908V3BhIm8tpjFahWjJE0qRxMuTn9+nyHump/BLT7fTJbu2sNd3Q2Us88cjqxtpBZ2dwiSYhGMmeZcEAnYMfdOfFK0Nc1698R3q3d/JHJOsMVuDHCkQEcaLGg2oAOFVRnGTjnNYqE19ro/8Ah/6/zN3Ug3dx6r89v6/yt7drfwo0/Ttb1ULo2tNeStroSQx24gRLaGRkAhFrtBOVGU27cZXacbUl+Auiy6xfQ2+n+JRBZXV9atBu86WX7O9r8ymO2LDKXDHAjblByqkkeBVp6H4jvvDr3RsmhAuovJmS4top0dNyuAVkVh95FOcZ4pKnJW97ZW/MPaRf2ep6V8NPCNn4kv8AxVpUWkXkmlSX9jaBpreN761jkvUj4lMZ8uQqSDgDJyMEcVZb4PaPLok+pxWus2w/s1r2KC7mAQMkt3HIDMLfbn/RlYKwQHLjfu2hvIdR1G51fULm+vJmuLu5kaWWV+ruxySfxNV6ahKy11/4Ae0jd+7p/wAFn0FefCnRYtU1+2TwxrX2C21HVYLS0Eq+a/lWnmw7ZfI3t0LBSWBBBweS1BPgzpFnYXN4+ja7qCS2s8tlGs4XzcWdvOjoRCd2DJNnAIIXoNpz4ZRU+ylZ+90t/wAHfcaqxTjeOzv6+W2x7td/BrS5zDc3cGqxLNZxuWhEUKWjLp9rOiShYQC0zytGjYUlhk+Y26uI+LHgOx8GXFq2nW+pW1vJc3toV1KRZGZ7ecxllZY0GCNuVwcEHnnjgKKvklzJ30X4kc8eVrl1Z7V+0t8IdF+E/wDwgv8AY9jrVh/a+hxXs/8AbN1YT/a3P/L1B9kuJtsMmTtV8fdOC3O3xWiiqhFxjaTuyZyUpNxVkFFFFWZklusbXEQlYrEWAdh1Azya95Xwdd3/AIg8WaO+h2Wn+GlSddP1ZdNjAW3+0QKkwmC5kQRlW8wk/eJ3fMc+BUVMo81vn+Nvy/Vlxlyu/mn93+Z7XdfBXSFivysGs2d7BZSzCwvZQGR0edQZJFgIUOsSsoYIDhh5g+Xdf8SfBnSvtGoF9P1y2vC17Iso8lIo44DbnmFYEHKTEEhlGQD0JFeC1NZXk2n3kF1buYriCRZY3AB2spyDz7is4wkmuaVzWVSL+GNtf6R7KPh5Y+FPjX4X8P2Wi6nPMbhlubfWrXzo7jEjqPLjkgTcuxQSSpGScHC5NnTPhfD400i3n1TSZdP1e30+b7WunotqY5P9Ie2MtukDcusRB/1Y2hSWy4z5Br3ijUfErQm/liZYSxjit7eOCNSxyxCRqq5Jxk4ycD0FZVSqc+Szevf7ynUhzPljp/w3+R7Z4h+Evh22s9f1JYNW0y1tIV+zw7nnKk2vmxzORAQYpX+UEsgG1zubGBr/ALOXwQ8O/E74cfEXWNY03XNQvNKtP9GutLvNNhh0sgB/tE63N5C7qdpTAUrgtg7sbfnyinKnJppS7fh/mTGpBNXjff8AH/IKKKK3OcKKKKACvRPg3Yw3kviprmBWgt9I85rk6THqJtf9JgBkEUnHCs2SCDgn6V53RSaumiou0k+zR7lofwg03xdBa61LYatLbaiIpy+mhIYC7m781YwISqhWgjwo+6CR3BFjR/hXp+jw3Op22lanfwXuiXUqQ3GyUWO7SvPV5T5PzbpHYIwEeDEeSc14LRWLpyaklLe/yT/yN1Vimm47fn3/AK7ntX7NPwh0X4sf8J1/bFjrV/8A2Roct7B/Y11YQfZHH/L1P9ruId0MeBuVM/eGSvG7xWiitFFqTbejMnJOKSWqCv1o/wCCSv8Aybl4j/7Gu5/9I7OvyXr9aP8Agkr/AMm5eI/+xruf/SOzrzcz/wB3fqj1Mq/3lejPtiuF+N//ACTDWfrB/wCj467qvOP2iNE07xF8Htf07VrC11PT5jbebaXkKzRSYuYmG5GBBwQDyOoFfHn2Z4DH9xfoKK4hPgZ8Nyi/8W+8K9P+gLbf/EUUAfeeo/8AIPuv+uTfyNSzW8VyoWWNJVBzh1BGfxqLUf8AkH3X/XJv5GrHSgCt/ZVl/wA+dv8A9+l/wo/sqy/587f/AL9L/hXH+HvjZ4P8UahZWVhqN1597d3Fjb/atMurZJbiDf50SvLEql18t/lzn5GxnBruqpxlHdWJUoy2ZV/sqy/587f/AL9L/hR/ZVl/z52//fpf8Kx/FXjiy8Ian4cs72C5c67f/wBm20sKqUSYxvIA+WBAKxvyAenOM1a8XeLNM8C+GtR1/Wp5LbSdPha4up4reScxxj7zbI1ZiAOTgHAyaVna47q9uv8AX+Re/sqy/wCfO3/79L/hR/ZVl/z52/8A36X/AArI8M+PNH8X3Vzbac16J7eGK4kjvdOubQ+XJuCMvnRpuB2P93OMc44qt4q+IVn4Rl1AXVjezw2Gly6tPPbCNlWKMgMuC4YvjLD5cYU85wC3Fxdnp/VxRlGSvF3Og/sqy/587f8A79L/AIUf2VZf8+dv/wB+l/wpmjavb67o9jqdqW+zXkEdzFvGG2OoZcjscGrtDTi2nugi1JKUdmVf7Ksv+fO3/wC/S/4Uf2VZf8+dv/36X/Ck1XU7fRdMur+6MgtrWJppTFE8rBVGThEBZjgdACa5jwr8XvC/jOKCXS7u7ME+n/2rDPd6ZdWkctr8v71XmjRWHzr0OcHOKSTabXT+v0f3A2k0n1/4H+a+9HUf2VZf8+dv/wB+l/wo/sqy/wCfO3/79L/hXM6b8XfCOr+B7XxfaawsugXcnkQXHkSq8svmGIRLEVEhkLgqE27iegrT8M+NtG8YPfx6XdPJcafKILu1uLeS3nt3KhlDxSqrrlSCCRgg5Gapwkr3W2/kJTg7We+xp/2VZf8APnb/APfpf8KP7Ksv+fO3/wC/S/4VaoqCyr/ZVl/z52//AH6X/Cj+yrL/AJ87f/v0v+FWqKAKv9lWX/Pnb/8Afpf8KP7Ksv8Anzt/+/S/4VaooAigtYLbd5MMcW7rsULn8qjsP9Q3/XWT/wBDarNVrD/UN/11k/8AQ2oAs18sf8FFfhB4t+NvwZ8PeHfBek/2zrC+I4bo232mGD90tpdBm3Suq8Fl4znmvqesvV/+Qhon/X43/pPNWtKo6U1OO6MqtNVoOnLZn4x/8O6v2hf+iff+VrTv/kij/h3V+0L/ANE+/wDK1p3/AMkV+2FFer/a1fsvx/zPI/sih/M/w/yPxP8A+HdX7Qv/AET7/wArWnf/ACRR/wAO6v2hf+iff+VrTv8A5Ir9sKKP7Wr9l+P+Yf2RQ/mf4f5H4n/8O6v2hf8Aon3/AJWtO/8Akij/AId1ftC/9E+/8rWnf/JFfthRR/a1fsvx/wAw/sih/M/w/wAj8T/+HdX7Qv8A0T7/AMrWnf8AyRR/w7q/aF/6J9/5WtO/+SK/bCij+1q/Zfj/AJh/ZFD+Z/h/kfif/wAO6v2hf+iff+VrTv8A5IqJf+Cef7QL3UluPAGZo0WRl/tnT+FYsAc/aPVW/Kv21rLt/wDkZr//AK87b/0Oej+1q/Zfj/mH9kUP5n+H+R+Mf/Dur9oX/on3/la07/5Io/4d1ftC/wDRPv8Aytad/wDJFfthRR/a1fsvx/zD+yKH8z/D/I/E/wD4d1ftC/8ARPv/ACtad/8AJFH/AA7q/aF/6J9/5WtO/wDkiv2woo/tav2X4/5h/ZFD+Z/h/kfif/w7q/aF/wCiff8Ala07/wCSKP8Ah3V+0L/0T7/ytad/8kV+2FFH9rV+y/H/ADD+yKH8z/D/ACPxP/4d1ftC/wDRPv8Aytad/wDJFH/Dur9oX/on3/la07/5Ir9sKKP7Wr9l+P8AmH9kUP5n+H+R+J//AA7q/aF/6J9/5WtO/wDkiorb/gnn+0Ddxl4vAG9Q7xk/2zp4+ZWKsObjsQRX7a1l+Hf+QfL/ANfl1/6USUf2tX7L8f8AMP7IofzP8P8AI/GP/h3V+0L/ANE+/wDK1p3/AMkUf8O6v2hf+iff+VrTv/kiv2woo/tav2X4/wCYf2RQ/mf4f5H4n/8ADur9oX/on3/la07/AOSKP+HdX7Qv/RPv/K1p3/yRX7YUUf2tX7L8f8w/sih/M/w/yPxP/wCHdX7Qv/RPv/K1p3/yRUTf8E8/2gUuo7c+AMTSI0ir/bOn8qpUE5+0erL+dftrWXcf8jNYf9edz/6HBR/a1fsvx/zD+yKH8z/D/I/GP/h3V+0L/wBE+/8AK1p3/wAkUf8ADur9oX/on3/la07/AOSK/bCij+1q/Zfj/mH9kUP5n+H+R+J//Dur9oX/AKJ9/wCVrTv/AJIo/wCHdX7Qv/RPv/K1p3/yRX7YUUf2tX7L8f8AMP7IofzP8P8AI/E//h3V+0L/ANE+/wDK1p3/AMkVFa/8E8/2gb22huIfAG+GVBIjf2zp4ypGQcG49K/bWsvwv/yLOkf9ecP/AKAKP7Wr9l+P+Yf2RQ/mf4f5H4x/8O6v2hf+iff+VrTv/kij/h3V+0L/ANE+/wDK1p3/AMkV+2FFH9rV+y/H/MP7IofzP8P8j8T/APh3V+0L/wBE+/8AK1p3/wAkUf8ADur9oX/on3/la07/AOSK/bCij+1q/Zfj/mH9kUP5n+H+R+J//Dur9oX/AKJ9/wCVrTv/AJIo/wCHdX7Qv/RPv/K1p3/yRX7YUUf2tX7L8f8AMP7IofzP8P8AI/E//h3V+0L/ANE+/wDK1p3/AMkUf8O6v2hf+iff+VrTv/kiv2woo/tav2X4/wCYf2RQ/mf4f5H4n/8ADur9oX/on3/la07/AOSKP+HdX7Qv/RPv/K1p3/yRX7YUUf2tX7L8f8w/sih/M/w/yPxP/wCHdX7Qv/RPv/K1p3/yRR/w7q/aF/6J9/5WtO/+SK/bCij+1q/Zfj/mH9kUP5n+H+R+J/8Aw7q/aF/6J9/5WtO/+SKP+HdX7Qv/AET7/wArWnf/ACRX7YUUf2tX7L8f8w/sih/M/wAP8j8Sl/4J5/tAvdSW48AZmjRZGX+2dP4ViwBz9o9Vb8ql/wCHdX7Qv/RPv/K1p3/yRX7OW/8AyM1//wBedt/6HPWpR/a1fsvx/wAw/sih/M/w/wAj8T/+HdX7Qv8A0T7/AMrWnf8AyRR/w7q/aF/6J9/5WtO/+SK/bCij+1q/Zfj/AJh/ZFD+Z/h/kfif/wAO6v2hf+iff+VrTv8A5Io/4d1ftC/9E+/8rWnf/JFfthRR/a1fsvx/zD+yKH8z/D/I/E//AId1ftC/9E+/8rWnf/JFH/Dur9oX/on3/la07/5Ir9sKKP7Wr9l+P+Yf2RQ/mf4f5H4n/wDDur9oX/on3/la07/5Io/4d1ftC/8ARPv/ACtad/8AJFfthRR/a1fsvx/zD+yKH8z/AA/yPxP/AOHdX7Qv/RPv/K1p3/yRR/w7q/aF/wCiff8Ala07/wCSK/bCij+1q/Zfj/mH9kUP5n+H+R+J/wDw7q/aF/6J9/5WtO/+SKitf+Cef7QN7bQ3EPgDfDKgkRv7Z08ZUjIODcelftrWX4X/AORZ0j/rzh/9AFH9rV+y/H/MP7IofzP8P8j8Y/8Ah3V+0L/0T7/ytad/8kUf8O6v2hf+iff+VrTv/kiv2woo/tav2X4/5h/ZFD+Z/h/kfif/AMO6v2hf+iff+VrTv/kij/h3V+0L/wBE+/8AK1p3/wAkV+2FFH9rV+y/H/MP7IofzP8AD/I/E/8A4d1ftC/9E+/8rWnf/JFfoT/wTq+EHi34JfBnxD4d8aaT/Y2sN4jmuhbfaYZ/3TWlqFbdE7LyVbjOeK+p6y9I/wCQhrf/AF+L/wCk8Nc9fH1cRDkmlb+vM6cPl9LDT9pBu/nb/I1K8y/aS1W60X4Na3d2emzavOs1kn2S3YK7K15CrMM8fKrF8dwuK9Nrz34/Whv/AIS65AJ5rYObfMluwV8faIiQDjjIyMjkZ4IOCPNPTPyq8Y/tC/E3R/F2uWEF/a28NrfTwJChjdY1WRlChmt8kADGTyaK+gtU/Zx8Ga5qd5qV1b3bXV5M9xKVnwC7sWbAx6k0U7oD9DNR/wCQfdf9cm/kasHgetV9R/5B91/1yb+RqzSA+TvD/wAJvHdpNY3+n+F77S/EFv4l1jVWm1vVYZ9OazuHuWWIQJcSBJJBJEpZEUj58vyQ2I/wM8ZS+GPFlv8A8IHJHJq9toFyLCA6XbQrf29273jRpFKqriMgK7EuygAsSMV9mUV2RxM47JdPw177HHLCwne7et/x+Xy9ND5S1/4M+Lx4pvrLwx4cuPDWhN41ttWs7uwNj5VpbHS2t5544DMAG84ltpXJJ3bW5B66LwN4hf8AZI1/wfB4HXRfE8uj3WmLpVlNaql3OyGMXCv5pQCQkSHzH3DJByRz7/RWbrycORrt+CS/JGkaMYVFUT1V/wAW3+b/AK1v4L4i+H3im88A6Lps+n3viyG91SKXVrLXYtNuLqwtltvLxbxsRaH94iHnOBI5wWrgPD3wl8d6XoVla3Hg69kvIfh/qnh15/tliS1xJODbxE+eMrsXg42ruA45A+uaKbryaastb/jFx/J/eTHDxjy2b0SX3SUvzSv5HyRrvwe8YtouuW0Pgea8n1fTvDToyXNiPs9zYP8Av1kLTD59gG1l3A5xuFa3iD4Ia/qg+MN7pXhc6V4g1TVY7nRtQee2U3NnstPtMMZDv5RnMMwbeoDbwWz2+oaKuWKnKTnZXd/x5f8A5FL0ve5EcJCMVC7srfgn/m367HlXgHwMfCXw58T2+n6JrNncak9xcrpOoyWCyCV4VTbEtswt41YrnAIG4sx61wHh34cePtG/Z4sfDPla3c63qGnaboV1YX81i0WlQIoS6lj8qVFdPLZwBuMjELk9x9KUVkq0k27b8v8A5Ley/GzNfYq0bN6c3/k1rv8AC6PlwfCbx/pPim8RNIj1LR9I8XW3i2wa0MFrBeiSBoru3iie4do2V3My+YVVmLcrxXZfD7XLS3+Pnja810yeF9Z16Gxs9N0PU9qS3UVskpMyOpaKViZWG2J3KrGN20nA9xoqvbtrlkulvwS/9tX4k/V0neL/AKu3+bfUKKKK5jqCiiigAooooAKrWH+ob/rrJ/6G1WarWH+ob/rrJ/6G1AFmsvV/+Qhon/X43/pPNWpWXq//ACENE/6/G/8ASeagDxT4japDp3jjW45LvxVGW1DSrv7NpnhLUb6zlWBoZHzPDYyBmwvAjlxkYbBDAcNJ4v8AEC+E20+LVvHj6pIzPJey+H/EWTII9qSIRpQKIXJZoPmHTDjBz9RyeK9Ei1tdGfWLBNYbG3T2ukFwcgsMR53dAT06A1q11RqqCty/1p5eRyypOTdpf1r5+Z8ra/4gtdVtWbb43vL2aDV7eVrvwx4m8tBcyAwbU+xFSqIiqUwAOoyRzNZeOb268Uz3erXnjr+yZbsTPa2fhrxKmUC3QAQLYIYwfNtsoHIzETngA/TtpeQX8Cz208dxCxIEkThlJBIPI9CCPwqak6sbctn9/wDwBexl3/D/AIJ8veFPHEtj4r0LU9dHjHUxYoTNcHwr4kcsTaJEVW3awEY/eB28zIZg3IySKt2PiDwrpWq3M2m6P4r0e2utcOoXA0rwNr9pJNbC08tYmaKyUn99h9uduBnOeK+lqKbrJu9ult+l79vIPYu1rre+3lbufLmr+LoL/wAGeH9Mk0zXNTv9JhiW3a78Ba8IoZFhCMzh9PlE4Lcj5ImA6MCc1Xh8ZXlleWEVm/jO106DVpb6QxeGvEoaaOS9851dG09gwMJKBNyhWy247uPquij20b3a633/AOADoyfX8P8AgnzH8N/ENxZeKfCVlJceNhp9rbwWC27aHr8Nt5uZELymfTtjI++MkySRrHt64XNfRFv/AMjNf/8AXnbf+hz1qVl2/wDyM1//ANedt/6HPWVSfO72NqcHDqalFeKn4L622i6hZxtpltcT3N5MtwjqdwljuVQttt0bIMyZ3NJ0bB9dzT/h14jtNQ/tJtXD6mi2sXn/AG24KXCxyzmRpIuFO9ZVwnIU5CkBQaxvt8v6+Rt3PTqK8l0z4ZeK7m2vYNb16aWKa3ukSOLVrhwskkMCISQseVVknIU52iQYzzj0nw9ZTadoVha3Cqs8MKxuFnecZAwcO4DN9SAaq39feT2+f6fn+ho0UUUhhRRRQAVl+Hf+QfL/ANfl1/6USVqVyOp6LP4k+H/iHSbWRIbm+XULaKSQ4VWeWVQTweAT6H6UAddRXl1v8MtTstV0i5WLTLy5sbos+qXkm+aeIyKzO8ZhYCbAI3pInKqfu4Qeo0dLh1sFFFFABWXcf8jNYf8AXnc/+hwVqVl3H/IzWH/Xnc/+hwUAalFeU6x8L7rxBf67PqfhvQbiG7lUwQwalNbBlRmKySlLfLSksSSSwGcDoWajb/BvVH1W9uNVi0zW4bqyFtPG9w9sLgiO3XnZDuTmEn77L0wi7iaS1Wo3oz2SiuF8KeAJ9CvvD91Ktosmn2d3ZsImZjHHJMjxRIxUFlRV2ljgtgEjJOO6qmSgrL8L/wDIs6R/15w/+gCtSuG1jw5P4o+H2g2sFrZXzRGyuWttQcrDKqbWKkhH7D+6ant8v6+QzuaK8tg+GniG20zUY7XVhpcsltItlaWN7MlvaSPPI5RRtA2hGVA+wleoUYAqvL8PvHBks1g1+WKCG3mjJl1iaVyzxzgbyIV8wh3hKv8AKVCYwSAS+n9eY1vY9aorh9A8FavoviBLxtWubiz89i0NxqNxODCbaNQu1yRnzld8+jdecVzsfwd1PTtPI07UYrW/mnupp5oSsBHmM5XbJFErsQH6uSR2NNkp3Vz1qivM7n4ea62viZL1p9Lgv4LuCG61m6aXCh1Zc4wq4YEL8xYj5mweKus/DLXpviDf+ItNfTInklM1vNO/zqfsXkAMFhD438/67bjnaTip6XK6tHq1FeVaT8O/F0Cu134gnd423WynVriXb+9ichzsQSDasg+ZSMNjGK2/ht4c8QeDbaPStTkj1O3KF1vo7hsQbVRVhERAGOWwy4yF+YZ5NdF/XyJ6s7qivM/Cfw71vwdqOmy20tld2dtZ3CG1lndPLnmliZyjbD8hEbNggEMT2b5bPgDwb4n8I6pqFxfX2nanFq8gu7xY/MhMFwS28pnf5g2mNBny+Il45NJa/wBf1/XqN6HodFFFABRRRQBl2/8AyM1//wBedt/6HPWpWSkgh8Q6lIwYqtlbsQqljw8/QDk/QV5jY+B/F2o+GpLW3uI7SxvvNkMV3czRSRKy3A2GIIRhjJExBIPByMgUm+xSSb1PZKK898IaXriXPiIXLy3tjbBrTTbbUHljjnLDzJC+5SSgdhErbWwiHGQeeZ/4VBrkzaLM1to1lNZ3L3UsVnOfIV2lhf8AdqYBtXEWNqlG45kO5qpbpdCLvlv1PaKK4bxdoGr+L7bw+x0XSlKOlxeC9uiLi1IKsI4HWJxkkfMwI4XA67l5WX4Ua3Fpt/aRaf4fu/taxQSvdStmXa0xe7OYGAuGEiqMhgOSWYAKZKPY6K4bQfBV5p3jxtba2sbO1Ni1qUgm8ySRiYyGY+SjH7hyXdz0xtyc9zVEoKKKKQwooooAKy/C/wDyLOkf9ecP/oArUrjr7w5/wlXw406wVYWlNvayxmfO1WXYwPAPIxxx1xQB2NFeU6z8JbjVtY1Oa803S9Us7l5ncS3stvLd75YZI1lZIyVEPlYXBbPH3cmkg+FviqK80e5TxJYQyWVi9kjfYXdrRWiC4iPmKrfMMliqk4XPQAJaq4+tj1eiuZ+HXhi78H+GV0u8mtp3S6uZUa0jdE2STPIoO9mJOG5JJ57nqemqmIKy9I/5CGt/9fi/+k8NalZekf8AIQ1v/r8X/wBJ4aQGpXnH7RF/Ppnwe1+5ttNutXmjNtts7NollkzcxA7TK6JwDnlhwDjJwD6PXC/G/wD5JhrP1g/9Hx0AfHqfEHXti/8AFsvFXT/n50n/AOTqKtXXxe8C6ZczWd54z8P2t3buYpoJtTgR43U4ZWUtkEEEEHpiimB906j/AMg+6/65N/I1LMsrKPKdEbPV0LDH0BFRaj/yD7r/AK5N/I1ZpAVfLvf+fi3/AO/Df/F0eXe/8/Fv/wB+G/8Ai6tUUAVfLvf+fi3/AO/Df/F0eXe/8/Fv/wB+G/8Ai6tUUAVfLvf+fi3/AO/Df/F0eXe/8/Fv/wB+G/8Ai6tUUAVfLvf+fi3/AO/Df/F0eXe/8/Fv/wB+G/8Ai6tUUAVfLvf+fi3/AO/Df/F0eXe/8/Fv/wB+G/8Ai6tUUAVfLvf+fi3/AO/Df/F0eXe/8/Fv/wB+G/8Ai6tUUAVfLvf+fi3/AO/Df/F0eXe/8/Fv/wB+G/8Ai6tUUAVfLvf+fi3/AO/Df/F0eXe/8/Fv/wB+G/8Ai6tUUAVfLvf+fi3/AO/Df/F0eXe/8/Fv/wB+G/8Ai6tUUARQLOu7zpI5PTZGVx+ZNR2H+ob/AK6yf+htVmq1h/qG/wCusn/obUAWay9X/wCQhon/AF+N/wCk81alYviK4a1n0eVYZLgreH93EVDH9xKONxA/WgDxX4meHvFcvxG1S90jwv4qvbZjFJDe6YdOMPmC2aPciXGqRAkGQgmS33AqdrY2tXM6d4L160s5YpfhZ4tkcR3QtSi6LttHma3bfGH1d2BU25P3s5kPIxz9Jf8ACQTf9Aa//wC+oP8A47R/wkE3/QGv/wDvqD/47XRDEOGyX9fM5p4eM3dt/wBfI4D4EaLqmi/8JCuo+H9c0Rbi4W5jbXvsDSSF2kLJG9rdz/u0+XCvtwXYqW3EJ6vWP/wkE3/QGv8A/vqD/wCO0f8ACQTf9Aa//wC+oP8A47WMp87uzaEORWRsUVj/APCQTf8AQGv/APvqD/47R/wkE3/QGv8A/vqD/wCO1F0WbFFY/wDwkE3/AEBr/wD76g/+O0f8JBN/0Br/AP76g/8AjtF0BsVl2/8AyM1//wBedt/6HPUf/CQTf9Aa/wD++oP/AI7WdBrko8QXr/2TektawLsDQ5GHm5P7zGDn17H2yXQHU0Vj/wDCQTf9Aa//AO+oP/jtH/CQTf8AQGv/APvqD/47RdAbFFY//CQTf9Aa/wD++oP/AI7R/wAJBN/0Br//AL6g/wDjtF0BsUVj/wDCQTf9Aa//AO+oP/jtH/CQTf8AQGv/APvqD/47RdAbFFY//CQTf9Aa/wD++oP/AI7R/wAJBN/0Br//AL6g/wDjtF0BsVl+Hf8AkHy/9fl1/wClElR/8JBN/wBAa/8A++oP/jtZ2ha5LFZSgaTeyZurlsq0OOZnOOZByM4/DjPWi6A6misf/hIJv+gNf/8AfUH/AMdo/wCEgm/6A1//AN9Qf/HaLoDYorH/AOEgm/6A1/8A99Qf/HaP+Egm/wCgNf8A/fUH/wAdougNisu4/wCRmsP+vO5/9DgqP/hIJv8AoDX/AP31B/8AHazp9clPiCyf+yb0FbWddhaHJy8PI/eYwMevce+C6A6misf/AISCb/oDX/8A31B/8do/4SCb/oDX/wD31B/8dougNiisf/hIJv8AoDX/AP31B/8AHaP+Egm/6A1//wB9Qf8Ax2i6A2Ky/C//ACLOkf8AXnD/AOgCo/8AhIJv+gNf/wDfUH/x2s7w7rksPh/TEGk3sgW1iUOjQ4bCDkZkBx9RRdAdTRWP/wAJBN/0Br//AL6g/wDjtH/CQTf9Aa//AO+oP/jtF0BsUVj/APCQTf8AQGv/APvqD/47R/wkE3/QGv8A/vqD/wCO0XQGxRWP/wAJBN/0Br//AL6g/wDjtH/CQTf9Aa//AO+oP/jtF0BsUVj/APCQTf8AQGv/APvqD/47R/wkE3/QGv8A/vqD/wCO0XQGxRWP/wAJBN/0Br//AL6g/wDjtH/CQTf9Aa//AO+oP/jtF0BsUVj/APCQTf8AQGv/APvqD/47R/wkE3/QGv8A/vqD/wCO0XQGxRWP/wAJBN/0Br//AL6g/wDjtH/CQTf9Aa//AO+oP/jtF0BJb/8AIzX/AP1523/oc9alctBrko8QXr/2TektawLsDQ5GHm5P7zGDn17H2zo/8JBN/wBAa/8A++oP/jtF0BsUVj/8JBN/0Br/AP76g/8AjtH/AAkE3/QGv/8AvqD/AOO0XQGxRWP/AMJBN/0Br/8A76g/+O0f8JBN/wBAa/8A++oP/jtF0BsUVj/8JBN/0Br/AP76g/8AjtH/AAkE3/QGv/8AvqD/AOO0XQGxRWP/AMJBN/0Br/8A76g/+O0f8JBN/wBAa/8A++oP/jtF0BsUVj/8JBN/0Br/AP76g/8AjtH/AAkE3/QGv/8AvqD/AOO0XQGxWX4X/wCRZ0j/AK84f/QBUf8AwkE3/QGv/wDvqD/47Wd4d1yWHw/piDSb2QLaxKHRocNhByMyA4+oougOporH/wCEgm/6A1//AN9Qf/HaP+Egm/6A1/8A99Qf/HaLoDYorH/4SCb/AKA1/wD99Qf/AB2j/hIJv+gNf/8AfUH/AMdougNisvSP+Qhrf/X4v/pPDUf/AAkE3/QGv/8AvqD/AOO03w7cNdT6xK0MluWvB+7lKlh+4iHO0kfrTA2q8t/aah8/4La0v9pz6Ti5sH+02wzIdt7A3lgd/Mx5eByd/FepVwvxv/5JhrP1g/8AR8dAH4MfFnwfqqfFTxktvp+oy241q9EcjebIWXz3wS5JLZHckk9c0V+riD5F+lFVzAfXmo/8g+6/65N/I1Y61X1H/kH3X/XJv5GrBGRg8ipA+PfC3jXXPBV7oniDWNZ1FPDi+MNd0mW6n1y7v5Jo1e7EMctrL8qxRiLdvRmcCNeAC2Oml/aO8aRaH4nuUt9IlksYdE1DT7i40yS3S5tb+5aH5ohdyMpwoZWLKecNGK9n8P8Agv4caV4hvLLQ9C8LWeu2cfm3Nvp9nbJcwJPn5nVBuUSYbk/ewetTr8HfASWktqvgjw4ttKiRyQjSbcI6o29FK7MEKxLAdjyOa7va09OeN9vuW/39/PY4XSqXfJK17/jt+Dt9zT6HgnxF+Iuvf8JPpMOr2EGtax4U8dwWdu2gWbwyXsUukyXCxiOSV9rFnCnL7TtDHbjjtfF3jLVvE/7IniTxU2swjVZvD1zqEN74d8+w+zSLEzKqkymRXRl2tlhkqQVHIr0D/hDvAV14xuIT4V0iTxDEYdXkun0Zd3mfNHHN55jwZBsYDDF1HoCM6K+AvCFroVx4cXw5okOjag7yT6SLGFbe5Ync7NFt2uScEkg+prNzj7NRtrp+ST+9q5pGElV529NrfNtfcnY8lsvE+qeEdFguLSLXNG13XLu20rTdP8SXMmti9ZbZp2lij+1qsRbdIGJnC4gGcHArh7r4h3/xH0iTV9TsNOgudT+Geq3chggIlgmhnRCEk3sQhbDBecFR8x619M3PgPwzeaLa6PceHdJn0i1cSwWEljE0ELjJDJGV2qRk8gdzWePhF4FXp4K8OjFu9pxpUH+odizxfc+4xJJXoSSSKJVYS5nbV3/GLX5u/wAtCadKcFFX0VvvUk3+Ct89TxO3+N/ijwz4Q1aK3/suUaFp3hh7Zrq3lZ5UvSscwkIlG5gQSrAADuGrW8T/ABz8Y+F4/iXqstvol1ovhTVYtJghjtpUuJWnS1aOSR2m2Ksf2k7+m8L1jr1i8+E3gfUFt1uvBvh+5W3t1tIRNpcDiKFTlYlynCAkkKOBmqGsR/DTwVe3kGqp4U0G88QrI11FeC2tpNTAGHLhsGYAYznPHWtJVac6jly730/8B/RP05r9CIUalOnGLltbX0T/AFa9bW6nmfiz4y/EnwTp5uNa0LTrC0iku5ZtSjtPtbQ2sccLRTy2cF28iR7pJFd0eXaEQlAH47z4rfEe+8N6bocHh67tH13WBLJZQS6e14twkcJlcgfaIFRQuCWaTocAEnFa2lfDz4eaxodg2m+GfDF7oyhpLM2lhbyW4DY3NHtUrztXJHXaPStvW/DXh/xWYbbV9K03WDZsJoob23jn8hiCA6hgdpI3DI96xnKLSSVmv62/M2hGS1vdP+t/+H/A+d7j9pDxxd+F9W8Q2MHh+3tdP8F6Z4uNpcWU8jyGcTebb+YJ1A/1J2vtON2Crdan+I/jzVPHOtWbw/YtN0zw74/0fSBC0LtezOzQSPJ5gkCojCbbt2NuVSc84Hty/CTwMttcW48GeHhb3FqtjNENKg2y26nKwsNmDGDyFPAPaprr4Y+Dr2+jvbjwnoc97GIlS4l02FpFERBiAYrkbMDb/dwMYrb21JVFNRsk7/8Akyf5K3zuYujVdNwct1b/AMlt+fvfgdNRRRXCd4UUUUAFFFFABVaw/wBQ3/XWT/0Nqs1WsP8AUN/11k/9DagCzWP4g/4+dG/6/D/6IlrYrH8Qf8fOjf8AX4f/AERLSewEtFeAfEGTStO+IfiG7uIfED6m0lj5L2Hg/UL2EInlu+LqGxkySuRiOUrnIYA7gOfvfFZm0zTbWO48dyyNZz2+pS3Xh7xMyO0iMu9IxZDJBK4JYKBn5M81oqDaTXXyMvbRUmnbTzPp+ivl7xrrWk+MtF8OW72HimCfStOngaObwVrlyskrGHCiWTTy4UiNwZV2yLuBXpV3TdY1/UINV1GGbxfqMcOprcTw3dtrOnq1ri6kCxRNYxyjChFKw+aSwQEAsubeHa69e3nb8TNYhNXt0vv5XaPpSivlPVfGGsan4XuNFmuPFd0txE4luZvCviMMS2nG38rb/Z5ynnYl3Zz/ABbd1TP4olub8Xm7xbaushMAfwl4ivHtU8yNgokksQ0nKs2Gxgtt6AGj6vK6X6f1/XyufWY8rfX1PqaivmjX/Glnr/w+0rR5tJ8VPqFrfRXMwu/C+v3qShQdx8240yTkk52tGQO3rWDbeJNYt7SxsorzxfY2lrY/YlSy8MeI4kCeVgfINPHzh+fNUrxgBF6U1hpO/r28txPExVvNX387W/U+tazoP+Rhvf8Ar1t//Q5q8D8O+JZZfibp11b3Hix9PkuRarbX/hjXot8bzSlPNuZbQBVj80H94/l4zuIChh75B/yMN7/162//AKHNWE6bglfqdEKim5JdPxNGivIb74aeKoLHVbXQptP0SK7lMqPbXrx3G8rLhnnS3DMAzIdrhjw3z9BXYeGvC+saTq4urzU5LqKQXnnxvdyyqS9wr2+1G+VQke9TjHUDkcjL+vwv/wAA1eh11FeW6J8KNV8NaJYW+nakkV1Bp86uscht4XvGWIRMwhRDIi7ZOZNzfN3qTTfAHiuGBPtOvTtNCWMGdUnkxm4SQbztUSYQMvzLjnGMULV2E9Fc9Oory9/h/wCJ5rKFX1ArfRW80T3UesXAeeRpLdxJkxnylIifMacANgHnIl/4Qzxa4LXF7HPIZIpJBDrV5bpIghCtCoCsYwJMv5gJZsYb7xoQ/wCv6/r8NT0uis/w7Z3mnaDp1rqFz9svobdI57jJPmOFAZsnk5Pc1oUPRiQVnaD/AMeMv/X1c/8Ao960a5m90q413wZrGnWtx9kubpryKObJG1jLIBnHOPpzS6DW501FeV6p8N9evp9Ln0uDQPCyaS/2u3sbIPLFNc7lBZmVItgMatHna52yvxwK9UHSq6CCiiikMKzp/wDkYbL/AK9bj/0OGtGs6f8A5GGy/wCvW4/9DhoEaNFeVat8JJbzVNXu7XTdOtUupTceSb1pVup97ESyiSB1XCu3yBWGWzkFVNP0D4TXunXey/ksr+L7K8E1+7N9ovA0EUYjlXbjYDGW+83bjrU391vy/pf1+eg+tv6/r+ttT1KiuI0/4dxLf+Fbm8tNPeTRbJUNwkYMzzrGI1wxUHy1UyEDPJYHA289vWkkk9GJO4VneHP+Re0v/r1i/wDQBWjXD6tbTX3hrwlbW8Ms0jXFnKSkbFURAGZmYDCjA7kZ6DJqG2rW7r8x935M7iivHLD4H3vhzTPD8+jXVomvaZArmWbCQNOI0TAEca5Rl8xSxG8hgTkgYu6X8L/EWgWlpZ2GqqIY7iaYyC9mhKs915rSsirtmZlJBV8AHOCcmqaSdhPRX/r+v69fVqK8W1DQvFOk6x4esIbrVbt4LS3Nxci6vJIpLss6liw+RowcNIshHygbACedWy+HnjD7BdJc6/MJ/Kuja41a4fy5njtxEWYIm5VeOY4KkASAYOTQlcHo7HqlFcbq/hC4vfGDao9hpmq2728UUT3zkS2LozktCPLYHduU9UOUHJ4xyk/wy8YWHh220rR9cNvHHZwJubVLhXjuEhKFlYo58vdg+XgA4/h5BS138v6+Q2eu0V5ZqHgHxjdSzJFrk0Nk1484WLWJknZGDYBlMLBQpIxGqYx1YkDNnxr8ONU8QeNrLWbQ2PlwR2ah7lx5iNDcPIxA8lmIIYfckjyRg5HFHYT2f9df6Z6VRXk9j8O/GkkN59v8QSCWSCcxCHVbgqlw0SKjZCKQgdWYIc4B/i5re8G+HPEPhTU737XJFqlnf3ssqmO4ZBZRvJNJ9wjD5LJyPmy5Byqg07a2B7XO6orziz+HusaNrkGoWU1pND/ad7qc1nNM6KZJFnWIowRtuRKgfjA2ZGTndN4e8IeJ9E8Y6nr015p16mqsRc2YMkfkqrgQlXIYOVi3gjYmWPXvSWtv6/r+r2B6X/r5noNFFFAzOg/5GG9/69bf/wBDmrRrOg/5GG9/69bf/wBDmrzCL4ReILWe3EF/YC1stQk1W0hdpCEuZGfeSAo4AORzyZpemASdUHRnsFFeSaN4X8X6XrunWV3q17cQXNyZroi8nuEht0WJ1AmZEG5pUkQoACUmPULXbSaJcaZ4r1HXLOzhuWvba0tWQSbHJSV9zsSMYVJMgdTtIxzy7bCvo/66/wBM6WivOvGXgPVfE+v3s8dnpFvbGzeCC8WZluZWZMMJgIuU/hCh+AS3JwBSsPh1q1tq9hK+jeH1sbaea5VIbhlkhLlwsCH7P/qgGLEDbuZzwAMOlqN6L+v68j1KiuT+HXhS68J2Opw3KW0Qurw3McVqwKxqY0XHyxRL1U/dQcYyWOSesoYgooooGFFFFABWd4c/5F7S/wDr1i/9AFaNclqHh3/hKPh9Y2IWJpTBbSxmfO1WXYwPAPIxxx1xQI62ivLNY+FM+ravqU13p2manZ3LzO4lvJbeW73ywyRrKyRkqIvKwuC2ePu5NFt8MfEEN7pNzc6hpmpw2dg9l9hnt2VURoguxX+ZSCwyWaLJAGQcABLa7H1sep0VzXw98N3PhTw0mn3Rh8xZ5pQICCqq8jOBkIi/xfwoo7AevS03oIKi8P8A/HzrP/X4P/REVS1F4f8A+PnWf+vwf+iIqqO4M2K84/aI0iDXfg9r9jcyXUUMpttzWd3LayjFzERtliZXXkdiMjIPBIr0evOP2h5dQg+D2vPpVrbXt+DbeVBeXLW8Tf6TFndIschXjJ4Q5IA4zkaxi5NRXX5EnyUnwd0Eov8Ap/irp/0N2rf/ACTRTk1b4jbF/wCKV8L9P+hmuf8A5X0V3fUqv80f/A4f/JE8y/pH3jqP/IPuv+uTfyNSzzLbwySsGKopYhELsQBnhQCSfYc1FqP/ACD7r/rk38jVmvPKPlDQH8XaN8RPD/xCn8L6nBF4puNTsdSFnZ3c1/Bbvg2TXFs1uoh8oW8SZZyP3rHoSRR0wfEVfDcljJceKWuba5spU1ee31gRaqvk3BeKeAH7TaNnZve3Z4t5iAGNy19e0V1e393lS7JeSTuvz9PLQ5PYXbfNvdv1as/w+7pY+Uy/i29vtWeK28ZeF7u+8E6Shma0vdRNvei5cSqZFC+ZII2j8wxlZdu4gBxgO0bT9evvGHwz1nxDoXiu3Sxl1q2la1u9UuEaQvCbd2JAljhk2vgXAwANrEqAT9VUU3iOytv+N/yvpe4vq/d9vwSX42uz4wvdR+Id34Y8bXNvZ+OdNn1HwoLu206FNYkmsdUW5IEMUsjMWkCsufJCRuo4UqCa6vV7jxfoXjfV7GxTxvdeCP7S0e5vXC6jPci2e3n+0i2kbMuBMLUvHCdygvhR8wr6kop/WFp7v9Xv/wAD0D6vq3zb/wCVv+D6s+ZfEmleK5/F9npNl4i8Y6X4UfSreTR9XOm6jeXK3f2qVpludjIVbZ5Kj7UjKUB77s938WJ5bH4w/CvUP7N1W8sbCTUpLq40/S7m7SAPalE3mKNtuWOADzXr9FZ+1202v+Jp7Hd33t+Fj5A17QvGWkaDr9vpmjeI9HtfEGpa3rmmTaZ/aCyWJ2RC3heCzdCjzuJJR5x2JkhlLMVGlpj+INE1X4heI5/D3i/VNf1Dw7pM9nbRHUreK4cW225UFBsSRHJOwASDnYAWr6toq1XtDkt0S+S/zVk+9u+pDw95qd+rfzbv+DvbtftoeQfs6nXre38ZWOtTaxc2tvrIbTJ9Yt72IvbPbQN+7N4zysolMowzsQcjgYA9foorCc+d38l+Ct+O5vTh7ONvX8XcKKKKzNAooooAKKKKACq1h/qG/wCusn/obVZqtYf6hv8ArrJ/6G1AFmsTxM7xy6Q0cL3Di8OI4yoY/uJem4gfrW3WXq//ACENE/6/G/8ASeagCp9rvv8AoC3v/fyD/wCO0fa77/oC3v8A38g/+O1v0VNkO5gfa77/AKAt7/38g/8AjtH2u+/6At7/AN/IP/jtb9FFkFzA+133/QFvf+/kH/x2j7Xff9AW9/7+Qf8Ax2t+iiyC5gfa77/oC3v/AH8g/wDjtH2u+/6At7/38g/+O1v0UWQXMD7Xff8AQFvf+/kH/wAdrPhurz+3rw/2TdljbQApvhyBvlwf9Zjnnv2Ptnr6y7f/AJGa/wD+vO2/9DnosguVPtd9/wBAW9/7+Qf/AB2j7Xff9AW9/wC/kH/x2t+iiyC5gfa77/oC3v8A38g/+O0fa77/AKAt7/38g/8Ajtb9FFkFzA+133/QFvf+/kH/AMdo+133/QFvf+/kH/x2t+iiyC5gfa77/oC3v/fyD/47R9rvv+gLe/8AfyD/AOO1v0UWQXMD7Xff9AW9/wC/kH/x2s/RLq8Wyk26TdyD7TcHKvD1858jmQdOn4cZrr6y/Dv/ACD5f+vy6/8ASiSiyC5U+133/QFvf+/kH/x2j7Xff9AW9/7+Qf8Ax2t+iiyC5gfa77/oC3v/AH8g/wDjtH2u+/6At7/38g/+O1v0UWQXMD7Xff8AQFvf+/kH/wAdrPmurz+3rM/2TdhhbTgJvhyRviyf9Zjjjv3Hvjr6y7j/AJGaw/687n/0OCiyC5U+133/AEBb3/v5B/8AHaPtd9/0Bb3/AL+Qf/Ha36KLILmB9rvv+gLe/wDfyD/47R9rvv8AoC3v/fyD/wCO1v0UWQXMD7Xff9AW9/7+Qf8Ax2s/w/dXi6DpoXSbuRRbRAOrw4YbByMyA/mK6+svwv8A8izpH/XnD/6AKLILlT7Xff8AQFvf+/kH/wAdo+133/QFvf8Av5B/8drfoosguYH2u+/6At7/AN/IP/jtH2u+/wCgLe/9/IP/AI7W/RRZBcwPtd9/0Bb3/v5B/wDHaPtd9/0Bb3/v5B/8drfoosguYH2u+/6At7/38g/+O0fa77/oC3v/AH8g/wDjtb9FFkFzA+133/QFvf8Av5B/8do+133/AEBb3/v5B/8AHa36KLILmB9rvv8AoC3v/fyD/wCO0fa77/oC3v8A38g/+O1v0UWQXMD7Xff9AW9/7+Qf/HaPtd9/0Bb3/v5B/wDHa36KLILnIQ3V5/b14f7JuyxtoAU3w5A3y4P+sxzz37H2zofa77/oC3v/AH8g/wDjtW7f/kZr/wD687b/ANDnrUosguYH2u+/6At7/wB/IP8A47R9rvv+gLe/9/IP/jtb9FFkFzA+133/AEBb3/v5B/8AHaPtd9/0Bb3/AL+Qf/Ha36KLILmB9rvv+gLe/wDfyD/47R9rvv8AoC3v/fyD/wCO1v0UWQXMD7Xff9AW9/7+Qf8Ax2j7Xff9AW9/7+Qf/Ha36KLILmB9rvv+gLe/9/IP/jtH2u+/6At7/wB/IP8A47W/RRZBcwPtd9/0Bb3/AL+Qf/Haz/D91eLoOmhdJu5FFtEA6vDhhsHIzID+Yrr6y/C//Is6R/15w/8AoAosguVPtd9/0Bb3/v5B/wDHaPtd9/0Bb3/v5B/8drfoosguYH2u+/6At7/38g/+O0fa77/oC3v/AH8g/wDjtb9FFkFzA+133/QFvf8Av5B/8dqTwy7yS6u0kL27m8GY5CpYfuIuu0kfrW3WXpH/ACENb/6/F/8ASeGmlYDUrhfjf/yTDWfrB/6Pjruq4X43/wDJMNZ+sH/o+OmI+dI/uL9BRRH9xfoKKAPrzUf+Qfdf9cm/kalmWVlHlOiNnq6Fhj6AiotR/wCQfdf9cm/kas0AVfLvf+fi3/78N/8AF0eXe/8APxb/APfhv/i6tUUAVfLvf+fi3/78N/8AF0eXe/8APxb/APfhv/i6tUUAVfLvf+fi3/78N/8AF0eXe/8APxb/APfhv/i6tUUAVfLvf+fi3/78N/8AF0eXe/8APxb/APfhv/i6tUUAVfLvf+fi3/78N/8AF0eXe/8APxb/APfhv/i6tUUAVfLvf+fi3/78N/8AF0eXe/8APxb/APfhv/i6tUUAVfLvf+fi3/78N/8AF0eXe/8APxb/APfhv/i6tUUAVfLvf+fi3/78N/8AF0eXe/8APxb/APfhv/i6tUUAVfLvf+fi3/78N/8AF0eXe/8APxb/APfhv/i6tUUARQLOu7zpI5PTZGVx+ZNR2H+ob/rrJ/6G1WarWH+ob/rrJ/6G1AFmsvV/+Qhon/X43/pPNWpWL4iuGtZ9HlWGS4K3h/dxFQx/cSjjcQP1oA8Y+IhS4+Kt9YWOmX0F/fpFZy6ifD+pXUTM6IE23SWLRQqCU3MLkxqA+5VbcVyLa512wM+o+IZvGcNo97ylhBrVy7I0V4IkMMEbMrhmiaRowIfljwc7QfoD/hIJv+gNf/8AfUH/AMdo/wCEgm/6A1//AN9Qf/Ha39quXlt0tuc/snzc1+t9j5jufFuratNK2qXPjG6iMMGYI/DPiWKKWWKe2kUhV04GIlYZlZ1LEmQHaOg2G+IV7f31tDeTeNodLhndna18M+Jlnnia780KcWClSIsRjDH0yBX0J/wkE3/QGv8A/vqD/wCO0f8ACQTf9Aa//wC+oP8A47Wn1iN07ba/1oZ+wlZrm30/rU+fLPxwG0TxzZalN471GbWba6t7Jrnwpr8sCCTzfL/dHTR5OFdFO1pM7fYVzmm+INQ0a1W20xfFGk27X4vXSx8I69AchbdQG8rSo43UiOUGMRpncpLMd1fU3/CQTf8AQGv/APvqD/47R/wkE3/QGv8A/vqD/wCO0o14xd0vx7fIcqEpbvv07/M+ada8SXV9Bai01PxxDcJK1w81z4Q8ST7ZN9xjyw1n8g2TInyFSAOOVU19PeHr0aloGm3YimhFxbRSiK4SVJE3IDhlmVZAwzyJFVgfvAHIqv8A8JBN/wBAa/8A++oP/jtH/CQTf9Aa/wD++oP/AI7WU6ilHlRrGm1Lnb6W/rX/AIc2Ky7f/kZr/wD687b/ANDnqP8A4SCb/oDX/wD31B/8drOg1yUeIL1/7JvSWtYF2BocjDzcn95jBz69j7ZxujY4ib4S+JLGJY9H1eCzQi6mIWZ0eKaWdXYRPsbasiAgnGUYlgG3HEl/8OPHBSFdP8UTW8aW4G261KWd/PZmRyXEa7lWFyVG0fvFUkcbq9E/4SCb/oDX/wD31B/8do/4SCb/AKA1/wD99Qf/AB2hWVh6mD4l8AXGq62t9Y3v2P8A0GVCWYtm7VQttOVx8xQPLyT12cHaCvPXXw08S6ppuo211qhigns7yGCz/ta6uESWSKFIy8jANIoZJmIYEDzMAHt3/wDwkE3/AEBr/wD76g/+O0f8JBN/0Br/AP76g/8AjtGn9f1/WgLS3l/X9f8ABG+ENM1HR9CitNUuhfXsbvuuhIzecCxIchvuEg/cX5V6LxgVtVj/APCQTf8AQGv/APvqD/47R/wkE3/QGv8A/vqD/wCO027iStobFFY//CQTf9Aa/wD++oP/AI7R/wAJBN/0Br//AL6g/wDjtK6A2K5LUtDfxN4A8QaRH5XmX41C2Xzs7MvLKvzYB4554Nav/CQTf9Aa/wD++oP/AI7WdoWuSxWUoGk3smbq5bKtDjmZzjmQcjOPw4z1o0e41danLS/CXUJ7u682/jkhE1tBbzeawnewGVnglO053I23OedisSG5r1BEWNFRFCoowFAwAPSsn/hIJv8AoDX/AP31B/8AHaP+Egm/6A1//wB9Qf8Ax2nf+v6/rcVjYorH/wCEgm/6A1//AN9Qf/HaP+Egm/6A1/8A99Qf/HaV0BsVl3H/ACM1h/153P8A6HBUf/CQTf8AQGv/APvqD/47WdPrkp8QWT/2TegrazrsLQ5OXh5H7zGBj17j3wXQHLX3wla7v/EUkGl6RaQ6rnf5srXZklaUk3JWSPEcio0m1FypZsEgDNQT/BzbfXkMel6Xc6OyNEkTXUkEk8OyFI7eRljJWNPKyCC3ReBkmvQf+Egm/wCgNf8A/fUH/wAdo/4SCb/oDX//AH1B/wDHaFZKy7W/r+vLbQbu3fzv/X9ee5xGj/DPU7DVfCtw0OmwppDyFpIpNziJvNCQgmAO4RZFUMZFBwWZCa9PrH/4SCb/AKA1/wD99Qf/AB2j/hIJv+gNf/8AfUH/AMdp3FY2K4bWPCLeNvh9oOneZHHGDZXEpkRH+RCrMAro6k4HAZSK6H/hIJv+gNf/APfUH/x2s7w7rksPh/TEGk3sgW1iUOjQ4bCDkZkBx9RS00faz+7UZyc3w98T6XqMDaZqUcGlW98t35VtctA8kYePejRJFsk3RoVC/IFJ7g4GJ4F8O+L9St7Wee61OK7huYZbn+0dRvooJIyiBlEbqGZwEYkArHvfjcMgesf8JBN/0Br/AP76g/8AjtH/AAkE3/QGv/8AvqD/AOO0KyXL6fh/wwnq2+/9fqeZL8M/HFvpumWFlraWMNlp72YMWrXJ3uYJkDsDGSTvaJwdw2bSADgE7XxN+GF54t07SLWwMEyWcVxG39o3G9yZEChg8kMxJBB5wG9GFdn/AMJBN/0Br/8A76g/+O0f8JBN/wBAa/8A++oP/jtDs1ZjTafMjhLfwB4xn13zr7XSmnNJH5kFnqVwisiSAgIgUGP5AQw3tuJ5IHSXRPBvizw3r8Wqvdx6zF9mhtZbL7W6M7rlfOZ2X95tB+6+cglh8wAPbf8ACQTf9Aa//wC+oP8A47R/wkE3/QGv/wDvqD/47Tvpb+tf6+RNjkfFnw41LV/EV/q+nXVvBLdfYoZI5nYLLBFLvcNhThlPKHnqwOAxIS68H+Lbnx5B4rF1pcb28YtE0rfKytblCZAZ8DaTKVb/AFR4hTkZNdf/AMJBN/0Br/8A76g/+O0f8JBN/wBAa/8A++oP/jtK9v6/r+myv6/r+uhrRljGpcBXwNwU5APfBwM/lTqx/wDhIJv+gNf/APfUH/x2j/hIJv8AoDX/AP31B/8AHad0KxsUVj/8JBN/0Br/AP76g/8AjtH/AAkE3/QGv/8AvqD/AOO0roDYorH/AOEgm/6A1/8A99Qf/HaP+Egm/wCgNf8A/fUH/wAdougJLf8A5Ga//wCvO2/9Dnry+L4P+IbSe2FvqGni1stQk1azhkaQiO6kZ95ICj5QDkAHkzS9MAnu4NclHiC9f+yb0lrWBdgaHIw83J/eYwc+vY+2dH/hIJv+gNf/APfUH/x2lpdPt/w4+jX9djgdK+HXjGO3vReeI51lNvdLZkapPN5U0kcCxsx2JvCskxAIO3eMA9tGx8AavDrsWrC5aymUWcbQrq91cqY45ZjKHZwPN3LKMbwcH0wDXW/8JBN/0Br/AP76g/8AjtH/AAkE3/QGv/8AvqD/AOO1V9vK34a/15E20sYHiDwdevf+JL/TLDSL2fVLO0gWDVC3kvJG8pZ5QEbICuu0dyuPl61Jpui6pYeBp9Dj0bTpJbW2W3tob+7MtrcnaM7ysWQgJxjYOhAAGDW3/wAJBN/0Br//AL6g/wDjtH/CQTf9Aa//AO+oP/jtLSzRXW55xpvwo1fTriznWy0Z5YQr/NcufLI88vAmIAFhkMoyAAFBI2tgZkj+FurSaVpUL6dollewakt/LJaTZijIkjcrEptgyr8n3UZCcDLtuavQ/wDhIJv+gNf/APfUH/x2j/hIJv8AoDX/AP31B/8AHaadnf8Ar+tBNXVv6/rU2KKx/wDhIJv+gNf/APfUH/x2j/hIJv8AoDX/AP31B/8AHaV0BsUVj/8ACQTf9Aa//wC+oP8A47R/wkE3/QGv/wDvqD/47RdAbFcdfeHP+Eq+HGnWCrC0pt7WWMz52qy7GB4B5GOOOuK2f+Egm/6A1/8A99Qf/HazvDuuSw+H9MQaTeyBbWJQ6NDhsIORmQHH1FF0ByWs/CW41bWNTmvNN0vVLO5eZ3Et7Lby3e+WGSNZWSMlRD5WFwWzx93JqnffCDxLeRWHma3p8wt9OksRA9vIvlK0QXy1cNgqzD5mKAlccHAA9K/4SCb/AKA1/wD99Qf/AB2j/hIJv+gNf/8AfUH/AMdoVkrL+ug3q7/13K3gfQJ/DmjzW08Vta+ZdSzpaWTFoLdGbIjQlV47/dHJPFdDWP8A8JBN/wBAa/8A++oP/jtH/CQTf9Aa/wD++oP/AI7TuKxsVl6R/wAhDW/+vxf/AEnhqP8A4SCb/oDX/wD31B/8dpvh24a6n1iVoZLcteD93KVLD9xEOdpI/WgDarhfjf8A8kw1n6wf+j467quF+N//ACTDWfrB/wCj46APnSP7i/QUUR/cX6CigD681H/kH3X/AFyb+RqzVbUf+Qfdf9cm/kasHpz0oA+XPD/xF8T+BPCmuXWnNea5GPF+t291cajLcavPY2cEjiMxWzXCyPGhCBvLJKg52Nnj0L4wPc/EH4UeHIdF8QXel6h4huLNLLV9DvJ7TBkQyF1KsrFCqsdrZ46jNdB4b8KfCnxbp93HoGj+DtZsYbyRrldNtbSeKO5IxIXCAgSEcNnn1rrdS8J6HrJ046ho2n3x02QS2X2m1ST7K4GA0W4HYQOMrg11SnG8bpprl/BL8zljCXvWej5vxbt93U+XfCnxD8U+PPHPw+8RS6je6X9qS68MyaZLczrY/wBrQ2TTSSywJIglxOkseD2j4I616h8Dvi14l+J19bxaimmQfYNKX+3ILa0kR4NU+0TRNCjNMwCL5Dkggk7kOQDivSdV8C+HtYezmu9A0m7ubGd7uymurGOU207HLSpkZViTkspBPrWd8OPh+vgWz1aS4ntb3Wdav5NS1O8s7MWkU07Kq5WLc5UBUUcuxJBJJJNXKtCab5bdvXX/ADb+UdyI0Z02kpXX42/pJfOW2h41qvxVvrL4/WGsC/1ceFDqzeD5bT7Pcf2cWaMFbrft8nzBdg2/3t2OK04/jv4qm+HVj46WPQl0XVrtNOt7SSKYTadNLfpaxvcP5m2RUUu0gAjIYKoOCWHo/izwz8O/CPge7bXfDuh2vhWzmOozwPpUcltFLnJnMaoQGB5L4yOpNYsj+BbDx4/h6+8A2+nT+KVlRNVl0u1a11ohPNkjZ0ZmLbVLbZlXdsOM4pRlBqK5b2/FLVr1ervutLBOM4yk+a1/wd3Z+aSsrbPqYnif4n+OfDmu6h4ekl8NrqdhoV74ibUHtJ/s9zBFKEihWPzgY3xy7b3C5XAOeOfj/aN8TX2karqUNlplkkF/4aSG0uraUyrBqQg81HPmjMimVtrAAfLypr2l/hj4Ok0+ysX8J6G1jZFmtbZtNhMduW+8UXbhScDOMZp+tfDjwl4j1E3+reF9F1S+KJGbq90+GaXYp3Iu5lJwDyB2PNKFSmrc0b7fg7v71ZeVr9WVOnVd3GVt/wAUktfJ3fne3RM8ksfjP4zHiREuzoUukDxvL4SaGGxmScx+UXjmEhnZQwO0FdhDYJBXOB037P8ArfiPxn8Nry/8TarBqMtxqGpQRNZ272skSR3k8WC/msTgKNpXaVAAySN1dn/wrPwf5m//AIRTRN/27+0939nQ5+1/8/Gdv+t/2/ve9XNL8GeH9DXUl07QtN09dSdpb4WtnHGLp2zuaXaBvJycls5yfWs5Tg6XIlrZa/Jfrd/gWoTVTnb0u9PnL9Gl8rny14A8a+JvDXwB/wCE8jh8QSappOhiddQ8R6zNf2GqNJclXzB9oYgokYw5KMPMPykZz1nxJ8b6pr3i+bSbo2qw+H/Hnh63sprRHjkMU6xyOshLsGPzkcBQR2r3XS/AfhnRNBuND07w7pNhotwrLNptrYxR20oYYYNGqhSCODkcis6P4P8AgOKNUTwT4dRFkjmCrpMAAkjz5bgbPvLuO09Rk461u68HU52tmn/5Mn+jXz6GPsJqm4J7pr/yVr9b/I8G8P8AxN1b4Vz6ndPLYQ+CpfGeuWN/Nc28ksto6xtLb+WwlVVQtGyEFTyygEZr6I8A3mt6j4K0S88SJbRa7cWkc15FZxNHFHIyhiiqzuRtzjljnGfauZ8W/BbRvEOnR6PY2Gi6N4futRj1HWbODSI9+oOkiyL84ZVRi6Dc5R2I4BU816LWM5xlTStrovuVvxd/kkawhKNRu+mr++Tf4K33sKKKK5zpCiiigAqtYf6hv+usn/obVZqtYf6hv+usn/obUAWax/EH/Hzo3/X4f/REtbFY/iD/AI+dG/6/D/6IlpPYCWiiisywooooAKKKKACiiigArOg/5GG9/wCvW3/9DmrRrOg/5GG9/wCvW3/9DmoA0aKKKACiiigAooooAKKKKACs7Qf+PGX/AK+rn/0e9aNZ2g/8eMv/AF9XP/o96BGjRRRQMKKKKACs6f8A5GGy/wCvW4/9DhrRrOn/AORhsv8Ar1uP/Q4aBGjRRRQMKKKKACs7w5/yL2l/9esX/oArRritb8Jt408CaJp3mRxxhrOeQyIj/IhViAro6k8cBlIo7eqA7WivOIfhvqttNqKxapNFaNDMlpFZ30lqVdggViETYCFVsYUhc8D0n8NeD/E+kXl1dyX9il3c20ETzSy3N4gMZcECN3TOQUO/dnO4bcGjomLq0egUV5xF8PNRDXgktdKe8m1Bbv8AttZHW7li+1pMYmHlkqFRdgAkI+ROg6Z2nfDXxJptjp1pHdRCGKOzguHi1m6jlZITMW2uEz8+9AVPAG4DopoQdz1iivMNP+HficzOdQ8QXsytcySOyavMqupjnVNqJGhi+aSMlAzD5Bz8ozoaT4P8RxWev22o38d2t/YeTG817LMVnMZViFKKsceecAFuuT0FLo35FJK6Xmd/RXi2nfCnxhpGlNaadf2WmK8qzH7HeNCfMWONFJMduisnytlNgJyCXPStfW/hr4n1CALa+IDbztcSTtNPczTiNvtLSRFEbhdsbbcLt7egNU0lJK+l/wCmQm3G73sepUV5l478A+IfEN34e1DTW02O+0iDMS3tzK8aTkoSWbyy8i/IMHKHIy24ErW14l8BJ4h1fR9Ue1sG1Cyt5kNzLGDKsjIBGUbbn5Xyc8Y6gVL0i36lLVpHZ0V52/gzxRbR21raaq0lqYbQTzTapP5yvGZDMVJRs79y8kjp0wAKm8FeDNc0XXIb/VblLvbZtaFv7RuJnAErMhYOAJGIblsLgjgY6VZXav8A1b+kTf3U/T8/0Wp31FFFIozoP+Rhvf8Ar1t//Q5q0azoP+Rhvf8Ar1t//Q5q0aACiiigAooooAKKKKACiiigAooooAKzvDn/ACL2l/8AXrF/6AK0azvDn/IvaX/16xf+gCgRo0UUUDCiiigAqLw//wAfOs/9fg/9ERVLUXh//j51n/r8H/oiKqjuJmxXC/G//kmGs/WD/wBHx13VcL8b/wDkmGs/WD/0fHVknzpH9xfoKKI/uL9BRQB9eaj/AMg+6/65N/I1ZqtqP/IPuv8Ark38jVmgD5O0DT9bnu9FtksvGOl2l38R9ZlvxZ22o2IfT5luGSSUoqYjZzAQ56E8Ec1TmvfiCvgrRJIF8aX9zps+rwNpNzDqdtPfQC+ItW+1oN6zCEJsNwrxurNuIIJH17RXXHEW5dNrfgrHJLD83M773/Ft/r+B8yXF14tsfGa2E0XjI+X8Qhdl4o7+a2/smW0A2+agMbQiU42ZIQgnCgZrE0e08cWnw50HUUu/G7S3HiOa219NRi1O4uoNOR7oWzRW4eOYr81sXeE72GNxYKRX1tRSVe0VG21vwSX6fe2N0Lyb5t7/AItv8L/gj4/+JWgeLrnwL4l8O6nc+MvFdhJ4NkTQri0sL+Fry9aS48xLqNMvvCfZlVbgkMAx5YtXvfh/w6mofEV9V1KS/vWtNNtZdKt7qzlittP3o6TFCQEaZsfNkeYitt4DYPotFKVdyVvX8RqglJO/9af5ffqFFFFcx0hRRRQAUUUUAFFFFABRRRQAUUUUAFVrD/UN/wBdZP8A0Nqs1WsP9Q3/AF1k/wDQ2oAs1j+IP+PnRv8Ar8P/AKIlrYrH8Qf8fOjf9fh/9ES0nsB8/wDxT1C3sviFrAg0vVEuJbdYri/t/DOq6hvzEpURTQWDqmPlB2TsvDAoHJIw9K8W/wBj6jBMkPi2azE4eWzh8L+I7TeN0pDF47DJ27x+7Pytzk8DP1DRWyrJRUWtvP8A4Bzui3Jyvv5f8E+ZNK8aTfbbUandeOzZJLG1ytv4d8TF7orHcq0gP2NfK3NJAfJQ7B5fB4Gbes+MrPWtM8MRTp4te7Szi03xBK/gfXm+22/yPKFP2LLMzxlRux8s0h68H6Qoo9tG97fj6+XmDoyd03v5f8H+t9z5Mu/EF/rNjfRapJ4quXmMjokvhPxDNHG72tzC5jB04GNC0sZCDdgKeSevSaLeeJvEEmrTaRqvixtSl1FYYjqmn6nZWwgnaZd4iubOFY/JjcP8ruN0KAlSy5+j6Kbrp293+vuBUGr+9/X3nzF458Sad4g8c6ZrFhp3iZoLSGxjWW98Fa2ZkMFy0rHnTXdsqw+7LGSQdxIqhYeLdXlhvjqOpeORLLbztCsHh7xKVS6eFFRgRYIRGHVmCHdtB/iOa+rKKFXSXLb8f+AL2D5ua66dOyt3PGvgvrst94w8QRGTW5ba7M17CmpeH9U0yK3BmJKhrm2jidm8xT13jDABlGV9Ug/5GG9/69bf/wBDmrRrOg/5GG9/69bf/wBDmrCcuZ3RvThyJ3e7v955lffDTxVBY6ra6FNp+iRXcplR7a9eO43lZcM86W4ZgGZDtcMeG+foK0dS+HXiC9tmVtVe4Z5pZ5YpNTuVRyL6KeBVIB8sCJHQlRwWHDAZHptFZrRp9v8AhjV6nnmn+DfFUkXi2PUNZ8saraNDZtFdyzLbSEzDeisq+WNrxcBjyh56VVuvAGsCG2k0jT9G8NzxwSwSRaZdPGHEklsWZZFgUq2yFxuKnB29ecem0UB1ueX2ngHxdBoE0M2uSXGpSGCMyf2rcJiFUUPtfYQrl1zv2EkZ6buO/wDDdne6f4e0u11K4F3qEFrFHczhiwklCAO2SATkgnJArRoovv5itsFFFFAwrmb3SrjXfBmsada3H2S5umvIo5skbWMsgGcc4+nNdNWdoP8Ax4y/9fVz/wCj3pboE7O555qnw316+n0ufS4NA8LJpL/a7exsg8sU1zuUFmZUi2Axq0edrnbK/HAr1QdKKKq+lhW6hRRRSGFZ0/8AyMNl/wBetx/6HDWjWdP/AMjDZf8AXrcf+hw0CPPtY+G+u65deI3QaLoiajmIG1Dyi5hG8hZ1CxHc7MGZtzYA2AEFi11PhifMe8uNO0a61GPS47GN1iWMSyEL50jlo5P7iBQwfG05+9x6LRQtFZf1v/mN6u7/AK2/yR5d4c+Fd3o+qeHb1rXT473TlaOXUY7qRpDBumYQrF5ax4/ej5xsxztVQAteo0UU27isFY2l6ha6V4S0+6vbmGztY7SIvPcSBEX5QOWPArZrlZtAk8QeEdCSC5W0urUW13DJJF5se9FBAdNy7h16EEHBB4pDOjsb+21O0jurO4iu7aUZSaBw6OPUMODU9ed+IPhVceJNQmvbvVbVbieHy5JorAiVD5Uke2NzKSkZ35Kc5OfmGeMvxJ8FYl0rU20ZLVLydmKQpaIgZWgiiMZO4ZXdGZCOAScdeaO4ux6xRXldz8Eprq5tpW1mCNIZmnSGCwaOOAs7M4hUS4RWBCkNu6EjGTST/CH7BqGk2+nAJYu8cd80USRxfZkiQSRld2SZXhi5AOAGBPq1rv8A1/wwPR6ef9fM9VooopDCiiigAooooAKKKKACiiigDOg/5GG9/wCvW3/9DmrzCL4ReILWe3EF/YC1stQk1W0hdpCEuZGfeSAo4AORzyZpemAT6fB/yMN7/wBetv8A+hzVo0dUw6NHlml/D3xelvei78QzrKbe6W0xqk83lTSRwrGzHYm8KyTEAg7d4wD20bHwFq0OtxaqLlrKZRZxmFdWublTHHJMZQ7OB5m5ZRjeDg+mAa9Cop328v0/r7hW0scN4l8AzapqOtXdtHZOt+mn74LhiFuDbzu7pKQp+VkZV6N3yMdZdJ0TWNP8FXujHTNNuLiJGS2hu5ybOXeS/lnCFhHHuCDK5ITooxXaUVPRofW55Jp3wr1bTri0nWy0d5YQr/Pcv+7I88vCmIAFikMoyAAFBI2tgVJH8MNWk0rS4X0/RbO8g1Fb+WS0mzFGRJG5WJTbBlX5PuoyE4GWbc1er0VSdncTV/6/ruFFFFIYUUUUAFclqHh3/hKPh9Y2IWJpTBbSxmfO1WXYwPAPIxxx1xXW1neHP+Re0v8A69Yv/QBQI891j4Uz6tq+pTXenaZqdncvM7iW8lt5bvfLDJGsrJGSoi8rC4LZ4+7k1HJ8J9Qu5NMW6jsDHbac9nPLDMEefMJQLkW+7AJVcs7KVXJjyRj1eihaK39bWH1v/Xc5vwB4bufCvh/7FdyxvK1xLMI4MeXCrOSEXaiDAHoijJPArpKKKG7itYKi8P8A/HzrP/X4P/REVS1F4f8A+PnWf+vwf+iIqqO4M2K4X43/APJMNZ+sH/o+Ou6rhfjf/wAkw1n6wf8Ao+OrJPnSP7i/QUUR/cX6CigD681H/kH3X/XJv5GpZllZR5TojZ6uhYY+gIqLUf8AkH3X/XJv5GrNAFXy73/n4t/+/Df/ABdHl3v/AD8W/wD34b/4urVFAFXy73/n4t/+/Df/ABdHl3v/AD8W/wD34b/4urVFAFXy73/n4t/+/Df/ABdHl3v/AD8W/wD34b/4urVFAFXy73/n4t/+/Df/ABdHl3v/AD8W/wD34b/4urVFAFXy73/n4t/+/Df/ABdHl3v/AD8W/wD34b/4urVFAFXy73/n4t/+/Df/ABdHl3v/AD8W/wD34b/4urVFAFXy73/n4t/+/Df/ABdHl3v/AD8W/wD34b/4urVFAFXy73/n4t/+/Df/ABdHl3v/AD8W/wD34b/4urVFAFXy73/n4t/+/Df/ABdHl3v/AD8W/wD34b/4urVFAEUCzru86SOT02RlcfmTUdh/qG/66yf+htVmq1h/qG/66yf+htQBZrE8SiZptHFukck32w7Vlcop/cS5yQDjj2rbrL1f/kIaJ/1+N/6TzUAVvK1n/nzsP/Ax/wD41R5Ws/8APnYf+Bj/APxqtC71rT7C4Nvc39tbziB7oxSzKrCFCA8mCc7FLLlugyM9ato6yIrowZGGQynII9aXL1C/QxPK1n/nzsP/AAMf/wCNUeVrP/PnYf8AgY//AMardo6UWQ7mF5Ws/wDPnYf+Bj//ABqjytZ/587D/wADH/8AjVWNJ8V6JrxxpmsafqJ3MmLS6SX5gAWHyk8gEEj3FaH2qE3Jt/NT7QE8wxbhv25xux1xnjNNxto0LmvqY/laz/z52H/gY/8A8ao8rWf+fOw/8DH/APjVWtc8TaP4Yhim1jVrHSYpWKRyX1ykKuwBJALEZOATj0BrRilSaNJI3WSNwGV1OQwPQg0uXqF9bGJ5Ws/8+dh/4GP/APGqz4I9W/t+8AtLLzPs0GVN2+AN8uMHyuvXt2HXPHTpeQSXUtsk8bXMSq8kIcF0VshSR1AO1sHvtPpVG3/5Ga//AOvO2/8AQ56LILlbytZ/587D/wADH/8AjVHlaz/z52H/AIGP/wDGq0BrWntLLEL+2MsMy20iCZdySsoZYyM8MQykKeSCD3q7RZDuYXlaz/z52H/gY/8A8ao8rWf+fOw/8DH/APjVbtFFkFzC8rWf+fOw/wDAx/8A41R5Ws/8+dh/4GP/APGq3aKLILmF5Ws/8+dh/wCBj/8AxqjytZ/587D/AMDH/wDjVbtFFkFzC8rWf+fOw/8AAx//AI1WfocerGyk8u0smX7TcZLXbg5858/8sjxnP19uldbWNo91DY6Nd3FzNHb28VzdvJLKwVEUTyEkk8AAd6LILkflaz/z52H/AIGP/wDGqPK1n/nzsP8AwMf/AONVZk8VaLDfR2UmsWCXkkhhS3a6QSM4xlQuckjI468j1rUostwuYXlaz/z52H/gY/8A8ao8rWf+fOw/8DH/APjVbtFFkFzC8rWf+fOw/wDAx/8A41WfPHq39v2YNpZeZ9mnwou3wRvizk+V16du56Y562su4/5Gaw/687n/ANDgosguVvK1n/nzsP8AwMf/AONUeVrP/PnYf+Bj/wDxqp7zxZoenrctdazp9sttKsE5mukQRSMMqjZPysRyAeSKmu/EOlWDAXOp2duTCbkCW4Rf3QIBk5P3cso3dMketKyDUpeVrP8Az52H/gY//wAao8rWf+fOw/8AAx//AI1Vy28RaTeSWqQanZzvdoZLdY7hGMyjOWQA/MODyPStGnyoLmF5Ws/8+dh/4GP/APGqz/D0erHQNMMdpZNH9mi2s926kjYMZHlHB/E11tYGl6xYaH4O0m61K9ttPtRawIZ7qVYkBKqANzEDJPAosgHeVrP/AD52H/gY/wD8ao8rWf8AnzsP/Ax//jVbNvcRXcEc8EqTQyKHSSNgysp5BBHUGo5tQtbaZIZrmGKV8bY3kAZsnAwD1yePrRyrYV+pleVrP/PnYf8AgY//AMao8rWf+fOw/wDAx/8A41WrqGo2mk2ct3fXUNnaRDMk9xII40HTJY8Cm6bqllrNol1p93BfWrkhZ7aVZEJBwcMCRwQR+FFkO5meVrP/AD52H/gY/wD8ao8rWf8AnzsP/Ax//jVbD3UMdxHA80azyhmjiLAM4XG4gdSBkZ9MipaLILmF5Ws/8+dh/wCBj/8AxqjytZ/587D/AMDH/wDjVbtFFkFzC8rWf+fOw/8AAx//AI1R5Ws/8+dh/wCBj/8Axqt2iiyC5heVrP8Az52H/gY//wAao8rWf+fOw/8AAx//AI1W7RRZBcwvK1n/AJ87D/wMf/41R5Ws/wDPnYf+Bj//ABqt2iiyC5yUEerf2/eAWll5n2aDKm7fAG+XGD5XXr27DrnjQ8rWf+fOw/8AAx//AI1Vm3/5Ga//AOvO2/8AQ56dZ+JdI1DUptPtdVsrm/gz5trDcI8seDg7kByMEgHIosguVPK1n/nzsP8AwMf/AONUeVrP/PnYf+Bj/wDxqtmO4illliSVHkiIEiKwJQkZGR2yOaSG6huXmWKaOVoX8uVUYEo2AdrY6HBBwexHrRZBcx/K1n/nzsP/AAMf/wCNUeVrP/PnYf8AgY//AMard6ViHxx4cFuZ/wDhINL8gSeSZftse3fjO3O7G7BBx15osguN8rWf+fOw/wDAx/8A41R5Ws/8+dh/4GP/APGq0NV1rT9CtftOpX9tp9uTt866mWJM4zjLEDPB/KqsnjDQYWulk1vTka02m4DXcYMO7AXfz8ucjGfWlZBqQ+VrP/PnYf8AgY//AMao8rWf+fOw/wDAx/8A41Vu18S6Re3kVpb6rZT3csQuI4IrhGkeMjIcKDkqRzkcVpU+VCuYXlaz/wA+dh/4GP8A/GqPK1n/AJ87D/wMf/41W7RRZDuYXlaz/wA+dh/4GP8A/Gqz/D0erHQNMMdpZNH9mi2s926kjYMZHlHB/E11tYWjanZ6T4R0ie+u4LOA21vGJLiQRruZVCrknGSSAB3JosguHlaz/wA+dh/4GP8A/GqPK1n/AJ87D/wMf/41Ut54w0HT5bqK61vTraW02/aEmu40aHcQF3gn5cllAz13D1pW8X6EspjOt6cJBD9pKG7jyItu7zMZ+7t53dMc0rLcNSHytZ/587D/AMDH/wDjVHlaz/z52H/gY/8A8arU07U7PV7Rbqwu4L22ckLNbyCRCQcHDAkcEEfhVmnyoVzC8rWf+fOw/wDAx/8A41TvDQmWbWBcJHHN9sG5YnLqP3EWMEgZ49q26y9I/wCQhrf/AF+L/wCk8NFrAalcL8b/APkmGs/WD/0fHXdVwvxv/wCSYaz9YP8A0fHTA+dI/uL9BRRH9xfoKKAPrzUf+Qfdf9cm/kasModSpzgjHBwfzqvqP/IPuv8Ark38jVmgD5m8C3GoXvwX8LifXNbm1dvG72kssusXTXDKmpyxtC7eZuZBCnMZO3Ck470yH9pLxjoWgaX4g1u00bVLC6/4SCJrHTLOaCcSacJ2VldppBiQW5BXbkFs7jjFfQcHgvw9a63LrMOhaZDrEpJk1COzjW4ckYJMgG45HHJ6VSs/hj4O082JtfCeh2xsJZZ7Qw6bCn2eST/WvHhfkZ/4iME9811e1i4tNb3fpdJfha5y+ykpJp6K3zSbf43t8jyH4gal4k1Pw74C1bWb3RrqG68UaDPYz6LFLCVSWQeaj7pHDKQQAwI3AnKiuc8Y/HTW/Eui+M7CJNL1Tw1eeFNZ1TTbyTSmiSYWkiRPGytcuZUbey7ikPTIDA8e+RfCXwPBZR2cXgzw/HZx3C3iW6aXAI1nX7soXZgOMnDdR602X4ReBZ2uWl8F+HpGuRKs5fSoCZRIQZA3yfNvIBbPUgZzT9pTs1bS8n98Ul9zV7/5iVOonGTeqUU/O0m396drf5HjHij43eNfC9p4pfTF8PDTvDeiaNqiW8+nzmSZLoukkW5bhQu3yyVbaeoBU4yb+q/HrxZoHiG+8K3Flpup62PE0Gh21/Z2hig8uWw+2KWhluRl+DGB5ygkgjn5T63L8KPBM8N1DJ4O0CSG6gitriNtLgKzQxY8qNxt+ZUwNqnhcDGKlufhl4PvI9RjuPCehzx6k8b3ySadCwumjGIzKCvzlQBgtnHaqdWk5N8un/BX6J/eRCjVjFLm6fo1+evyPnD4vfEbxn4u+GXjrQtasNL8N6r4e0O21DUV2tPJLLLPKsZt2SbEQCwg5Jlw0m3+ElvTf2jLu9s4/hw1lJrLG48TW9pPaaLqT2Ut3E8ExaMsssSkEop+ZhjHWu/v/hZ4L1WG2ivfCGg3kVtAbWBLjTIXWKE8mNQV+VD/AHRxV7XfBPh3xRBZQ6zoGl6vDZNvtY7+zjnWBsYygZTtOOMjHFT7WF4tKyTv+K/yL9lO0k3vG34f56niN78SPE3w8tL/AE+2gNp5fgvUPFcdr4kmm1C6tbuOZSbeSYzAyRKJNoAORgYYjAqtqnx78b2KeJL9F8Ptp2hx6FcvbNYT+dcR32wSIJPtGEZSWKttYHgFeMn3XxB4G8N+LHtn1vw/pWstaqywNqFlHOYQwAYJvU7QcDOOuBVBvhP4Ie3urdvBvh9oLtIY7iI6XAVmWHAhVxswwTA2g/dwMYohVprWcbv/AO2b/Ky+QpUqjfuystfyS/NN/PyPEfE/jrVPG/jjwZqoaxsNM0v4gXGgxWoicXbeTbXKu0k3mbQjsgby/L6BDuNd98Efitrfj3UNT07xLBa6XrFra292dMhs5I9qSNIBLHP5skVzC2wbZIyvRtyrwK7eb4a+EbnV/wC1pfCuiS6p5iTfbn06Ez70GEbeV3ZUcA5yB0q5oHg/QfCnnf2JomnaP5wUS/2faRwb9udu7YBnGTjPTJpe0h7Pkt/w9lf73r+BXs5+057/APDXb/BO34mxRRRXKdQUUUUAFFFFABVaw/1Df9dZP/Q2qzVaw/1Df9dZP/Q2oAs1l6v/AMhDRP8Ar8b/ANJ5q1KxfEVw1rPo8qwyXBW8P7uIqGP7iUcbiB+tAHinxT8L+JNQ+IGrajZeGvGWqOYls7e70waN9ha1a3ZHi2z30U7HdNKxJ2DeqfKwQFsSbwnqszyTn4R+Lftzpd4uymgmRZJpopEkz/amd0flFQc5+ckFeh+iP+Egm/6A1/8A99Qf/HaP+Egm/wCgNf8A/fUH/wAdrojiHC1ktP67nNPDqo/eb7/1ofOOmeDNXtbp5Lz4S+LdRD3kl07XB0eR590VxGvm+ZrDozL9ozuVEzt6cjGr4Ht/F/hLxYdcuPhv401OY2DWLbm0WN5AfJ2l2/tdlOwQkDCg4c5JPJ95/wCEgm/6A1//AN9Qf/HaP+Egm/6A1/8A99Qf/HaPrD10Wqt1227+Yvq601e9+m/3HzrJovjWQRuPh14rilto7iGxVYNFeKwSWIJ+4WTWXZCCqkANsAG0Kuc1mR/D/wARRWF1bp8MfFaG4TyyUj0cBEFyLgRqf7a3iMncrrvywbhl7/Tv/CQTf9Aa/wD++oP/AI7R/wAJBN/0Br//AL6g/wDjtUsS072X9fMHhk1Zt9+n+R4Lr1n4q1Pwt4c0ex+F3jHSxpBkwYrjTAjq8TxlV262sij584MjdMfTGt/B/ig6mbm++G/jC/jaKCCRGj0NDNHFPbSqsgGreWQBbFAFRcCQ53Y5+k/+Egm/6A1//wB9Qf8Ax2j/AISCb/oDX/8A31B/8dpLEuL5klf5/wCYPDRaSbenp/keK/Dnwtrdt8TNP1GbwV4o0OyUTxA6mNJaxtozJdTLhYNQlkVx56xK6RnChgQFclPbrf8A5Ga//wCvO3/9DnqP/hIJv+gNf/8AfUH/AMdrOg1yUeIL1/7JvSWtYF2BocjDzcn95jBz69j7ZxnU9o7s2hTVNWRyE3wJlli1AHxPcSyamDJfefaRlXm3u4dApUqB5si4Yuduwbvk5sah8CrCeK+WxuodLa5dyXtrQIQht44vLJVgShaPeQCM7iOD81dx/wAJBN/0Br//AL6g/wDjtH/CQTf9Aa//AO+oP/jtZqyTiuv9foau7kpPdHG2nwWtbOOJoLm3tbqFbVYJoLVj5BiuZJ2MfmSOw3+YVI3ED3B2jb+G/gJ/AOn39u98l613cC4ZooWiVW8pEPDSOcsULHnGWPArX/4SCb/oDX//AH1B/wDHaP8AhIJv+gNf/wDfUH/x2mna/mKxsUVj/wDCQTf9Aa//AO+oP/jtH/CQTf8AQGv/APvqD/47SugNiisf/hIJv+gNf/8AfUH/AMdo/wCEgm/6A1//AN9Qf/HaLoDYrlrnQh4o8Ea5o5nNsNQN/amYAkpvllXdgEZxn1H1rR/4SCb/AKA1/wD99Qf/AB2s7QtclispQNJvZM3Vy2VaHHMznHMg5GcfhxnrRoPYy7P4aXWlz6athrCWttYTfu2+zyG5a38wOYHkEoWQE7hukRj82fv5Y97WP/wkE3/QGv8A/vqD/wCO0f8ACQTf9Aa//wC+oP8A47TvpYVtbmxRWP8A8JBN/wBAa/8A++oP/jtH/CQTf9Aa/wD++oP/AI7SugNisu4/5Gaw/wCvO5/9DgqP/hIJv+gNf/8AfUH/AMdrOn1yU+ILJ/7JvQVtZ12FocnLw8j95jAx69x74LoCPWfAg1OTVnQ6bL9vkik8rUtP+0xRlEK52+YuWOc5yMc9c1iQ/CbUdJvk1DSvF14mprp7WIn1G1iugMiEB+AjHAiJCliNzZOfmDdh/wAJBN/0Br//AL6g/wDjtH/CQTf9Aa//AO+oP/jtCsr2/roPscnpXwmfTde07U/7RtjJbLEJTFZssrlDKfkkaViquZSXB3biCcjPHolY/wDwkE3/AEBr/wD76g/+O0f8JBN/0Br/AP76g/8AjtO4rdTYritR8LS+L/h/ollBe/2fLGtncrNtkPMe1sfu5I2GcYyGBFbv/CQTf9Aa/wD++oP/AI7Wd4d1yWHw/piDSb2QLaxKHRocNhByMyA4+opaaf1sM4zxL8HLzVdZgnW7tphdPItzdm1JuLcGweAESPKWePeFPl8nLkluprQu/g9JqN/Lf32pWd7dNdi78t9OzDuEiNjY0p7IV+93z2we0/4SCb/oDX//AH1B/wDHaP8AhIJv+gNf/wDfUH/x2hNKSl1QnrFxezOL0T4Z3c/gbV9Mup30+7v5lW3aUb3tbWFwLaI+XIM7UXJKuOXYg1Sl+BtzcTWrzeIEk8iZ51zaSFkZ5Gd9rtOWO4MFYyGQ/LwR0r0H/hIJv+gNf/8AfUH/AMdo/wCEgm/6A1//AN9Qf/HaTs9WUm1scN/wo2CC70+az1JLOKy8tltY7MeTK6pCpMibsMG8kEjrkg5yoNeo1j/8JBN/0Br/AP76g/8AjtH/AAkE3/QGv/8AvqD/AOO1blzNtkKNkkjYorH/AOEgm/6A1/8A99Qf/HaP+Egm/wCgNf8A/fUH/wAdqboZsUVj/wDCQTf9Aa//AO+oP/jtH/CQTf8AQGv/APvqD/47RdAbFFY//CQTf9Aa/wD++oP/AI7R/wAJBN/0Br//AL6g/wDjtF0BsUVj/wDCQTf9Aa//AO+oP/jtH/CQTf8AQGv/APvqD/47RdASW/8AyM1//wBedt/6HPXF33wjudQ0yDTJdahGn2ZnazRbEiQGTdxO3mYlTDMGUBN2eTW/Brko8QXr/wBk3pLWsC7A0ORh5uT+8xg59ex9s6P/AAkE3/QGv/8AvqD/AOO0aD1OKuvgyk88sySaLGZZIpnt/wCxs27skDQ7Wj80ZTDBlXPysucnoKEnwD8yO6jGtqpmjC/ahZkXcmLaODbLMJAXjPl7igCkk/eGM16J/wAJBN/0Br//AL6g/wDjtH/CQTf9Aa//AO+oP/jtGmvmHbyMPwV8MrPwbeyXcYtXuDapaxmK3dRCBJK7bS8jsAxl5Xd/D9AM28+GetaroOqWGoeIbSe61OQvc3sNhNCzDbtVAq3ONqjgKcqR95WJYnrv+Egm/wCgNf8A/fUH/wAdo/4SCb/oDX//AH1B/wDHad7u4lpsZ/iDQte8QeHP7PTVLPTJ5JnW4kS1eZZLbLYjGJEKsy7QzA/3toGQRgx/DHV9PDnS/ENrp0qJcR2zrphbyVuJ0lm484Z5TCdNoPO8iuu/4SCb/oDX/wD31B/8do/4SCb/AKA1/wD99Qf/AB2lpuHZdjnNC+Gb6LqthONQg+x2syXQtYLRkPnLa/ZRh2lYhNnO0gndzu7V3dY//CQTf9Aa/wD++oP/AI7R/wAJBN/0Br//AL6g/wDjtO9wsbFFY/8AwkE3/QGv/wDvqD/47R/wkE3/AEBr/wD76g/+O0roDYrl10JfEfgDT7AyCEyWtuRKU37SAp6ZHpjr3rQ/4SCb/oDX/wD31B/8drO8O65LD4f0xBpN7IFtYlDo0OGwg5GZAcfUUXQGTe/C+S61K4nN5p11as9xLDaajphuEVppI5H8z96u/DR/Lwu3I64FU9Q+EN3qNlY2kmvAw2djJZx7raR874mQkq0xTHzHBVQ4UBd+M57P/hIJv+gNf/8AfUH/AMdo/wCEgm/6A1//AN9Qf/HaNLW/rsPW9/67kPgvwy/hLRBYSXf21vOlm83a4++5YjLu7tyfvM7E+vYb1Y//AAkE3/QGv/8AvqD/AOO0f8JBN/0Br/8A76g/+O073FaxsVl6R/yENb/6/F/9J4aj/wCEgm/6A1//AN9Qf/Hab4duGup9YlaGS3LXg/dylSw/cRDnaSP1oA2q4X43/wDJMNZ+sH/o+Ou6rzX9pCwGqfBLxTZmJZ/PgjjEbgEMTKgAOfeqik2kxNtJtHgkf3F+gorznwL48sNF8EeHtPvbPWIby0063gnjOj3R2SLEqsMiPBwQelFdc8HXjJxUG7dbHNHE0pRTckvmfoFqP/IPuv8Ark38jUs0jRKCsTzHONqEA/XkiotR/wCQfdf9cm/kas1xHUVftkv/AD43H/fUf/xdH2yX/nxuP++o/wD4urVFAFX7ZL/z43H/AH1H/wDF0fbJf+fG4/76j/8Ai6tUUAVftkv/AD43H/fUf/xdH2yX/nxuP++o/wD4urVFAFX7ZL/z43H/AH1H/wDF0fbJf+fG4/76j/8Ai6tUUAVftkv/AD43H/fUf/xdH2yX/nxuP++o/wD4urVFAFX7ZL/z43H/AH1H/wDF0fbJf+fG4/76j/8Ai6tUUAVftkv/AD43H/fUf/xdH2yX/nxuP++o/wD4urVFAFX7ZL/z43H/AH1H/wDF0fbJf+fG4/76j/8Ai6tUUAVftkv/AD43H/fUf/xdH2yX/nxuP++o/wD4urVFAEUEzy7t0EkOOm8qc/kTUdh/qG/66yf+htVmq1h/qG/66yf+htQBZrH8Qf8AHzo3/X4f/REtbFY/iD/j50b/AK/D/wCiJaT2AlorwD4gyaVp3xD8Q3dxD4gfU2ksfJew8H6hewhE8t3xdQ2MmSVyMRylc5DAHcBz974rM2mabax3HjuWRrOe31KW68PeJmR2kRl3pGLIZIJXBLBQM/JnmtFQbSa6+Rl7aKk07aeZ9P0V856r480m+tfCwn8M69rUWm2kltc6TqvhHxBLbmRhHtmWR9Ocuy+WyjcgOJW5HQw6M2r3d34g1nwwuuR6kZ4haw3+l6vYRFpLy7dUaK4t40ePyp/mcZEbIueqk06DX/Dedv8Ag/8AB0IjiE0v8/K//A/4B9JUV8u/ETXNO8TXvh97Cz8VXQ03TzaG51TwXrZmMnmQsJCTpsjMT5ZyUeJyTw46iXSvG97NrUs2s3njlrCW7jnkgtPDfiRcgR3SsI8WKGNS0tufL3EDyj8xwMn1eXJzeuluzt+K1F9ZjzW9Oq7X/B6H07RXzZ8PvHs3hrVtQutWn8XXyXtrGp8vwVr5MNytvBG8u02QEpdo2OW5UKuPvuAzwhq8WteJfC8etR+K7n7LqEMkcV5oHiF4vO8h4vPaW4s0SMNI6MVciOMKTu5NN4dq9+y6ff8AcP6wnt+f9bn0tWdB/wAjDe/9etv/AOhzVo1nQf8AIw3v/Xrb/wDoc1ch1mjRVDTNf0zWnuE0/UbS/e3YpMttOshibJGG2k4OQRg+hq3JcRRSxRvKiSSkiNGYAuQMnA78c0ASUVnSeJNIiLB9VskKxyyndcIMJE22VuvRGIDHop4OKsXmpWmnIr3d1Bao2drTSBAcKWOMnsqkn2BPagCzRRVLVdb07QbdJ9Tv7XToHfy1lu5liVmwTtBYgZwCcexpAXaKjtrmK8t4p7eVJ4JVDxyxsGV1IyCCOCCO9Jc3UNlA81xNHBCnLSSsFVfqTTES1naD/wAeMv8A19XP/o960ayNNvLfTtGu7q7njtbWCe6klnmcIkaCaQlmY8AAckmgZr0VR0zXNN1oE6fqFrfgKHJtplkwpLAH5SeCVYZ9VPoavUCCiiigYVnT/wDIw2X/AF63H/ocNaNZ0/8AyMNl/wBetx/6HDQI0aKz5fEWlQLeNLqdnGtm6x3Je4QCBiAQr8/KTkYB9RTIfFGjXOp/2dDq9hLqG0v9kS5Qy7QASdgOcYIOcdxQM06Ky7fxVol5cWsEGsWE892nmW8Ud0jNMnPzIAcsPlbkf3T6VqUAFZ3hz/kXtL/69Yv/AEAVo1k6HdQ2nh3SDPNHCJIIY0MjBdzFQAoz1J7CgRrUVFb3UN2jPBNHMiu0bNGwYBlJDKcdwQQR2Iptpf21+jNa3EVyq4yYnDAZUMOnqCD9CDQMnoqJ7qFLmO3aaNbiRWdIiwDMq4DEDqQNy5PbI9apaV4l0jXTjTdVstQ4J/0W4SXpjP3SemR+Y9aANKiq39p2f2KW8+1wfZId/mXHmDy02Eh8tnA2lSDnpg56UtvqFrdyPHBcwzSIMskcgYr8xXkDpyrD6qR2oAsUVnar4k0nQ5oItS1Sy0+W4z5KXVwkTSYIB2hiM4LKOP7w9a0aACioorqG4kmjimjkeFtkqowJjbAbDDscMDg9iD3pkepWk17NZx3UL3kKhpbdZAZEB6FlzkA+9AFiiora6hvbeOe3mjngkG5JYmDKw9QRwRUtABRRRQBnQf8AIw3v/Xrb/wDoc1aNZ0H/ACMN7/162/8A6HNRaeI9J1DUZtPtdUsrm/hz5trDcI8seDg7lByMEgHNAGjRUcdxFLLLGkqPJEQJEVgShIyMjtxzSQ3UNw8yxTRytC/lyKjAlGwDtb0OCDg9iPWgCWiis0+JtHFr9pOq2ItvONv5xuU2eaCQY85xuBB468UAaVFU9U1nT9DtvtGpX1tp9vnb5t1MsSZ64yxAzwfyqrJ4u0KJrpX1rT0a12m4DXUYMOcBd/Py5yMZ9aANais628SaTe3kVpb6pZT3UsQnjgiuEZ3jIyHCg5Kkd+laNAgooooGFZ3hz/kXtL/69Yv/AEAVo1i6XqVppXhbSp726hs4TbwIJLiQIu5lUKMk4ySQAO5NAjaorJu/F2hafLdRXWtadbSWu37Qk13Ghh3EBd4J+XJZQM9dw9aR/F+gxyeW+t6csnlfaNpu4wfLxnfjP3cEHPTBpeYzXoqnpWs6frtp9q02+ttQttxTzrWZZU3A4I3KSMj0q5TEFReH/wDj51n/AK/B/wCiIqlqLw//AMfOs/8AX4P/AERFVR3BmxXnf7QOnRar8I9dtZ3nSKQ2+WtriSCQYuIjw8bKw6diM9Ohr0SuF+N//JMNZ+sH/o+OtE3F3W5DSasz5LT4b6TsX/S9f6f9DFqH/wAforqY/uL9BRXT9ar/APPx/ezH2FL+Rfcj681H/kH3X/XJv5GrBzjjrVfUf+Qfdf8AXJv5GrFcpufOXh346+LPEGk+IXh8Q+DX1vRpdb87R10y485beykkiSU4ujtLP5BKttyrttPFbemfF3xfbx+AP7V/sW4HjXR5bm0ns7GaIWN2loLkLIjTt5sZXeOGQgqOu7I63QfgnYeH/CPiHw9Hr2r3NvrL3sj3VwLUz2zXUjyT+UywAAMznhgwGB6UaH8EdN0a30tJNc1jU59I0ttJ0u5vTb7rCJkWNmjVIVQyFUUbnVjgEDALA9UpQcZJb2VvW0v1cfu+RyqNTnTvpd/deNvwv9/zOL+Gnxr8VfEeDwTpUX9jWev6v4YTxPqN61lK1tBHI4SOGKHzwxYktljJgBOnzcdN8S/G3jL4f/BpNdlGiDxTBPaQ3S/Z5ZbNvNuUhbYvmo44kDDLHBGOafoH7P2keFrHwqmk67rdlqXhzTm0i11ZGtjcTWZKnyJlMBidQVUg+WGBGQeTnY8W/Ce18ZfDuLwhfa9rQtlkhlk1FZonvJmilWVS7SRsvLqpOFHAwMDirnKk6icVpza+nM//AG2yt3+8iEayg1J6209eVfjzXd+33Lzv4jfGjxF4C1DxH4f1ZkkubTT7LV7XV9AtkicQSXgt5UeG4eRdytjnccq5wAV5661+O1lqd5Np1p4d1s6qmt3Ggm0cWquk0UBnMzfviBCY9pDck7l+XkUvib4B6T4u0zXYNS1zWptR1lLeC51cNbi5EEEnmRwoPJ8pE3kscR5JJyTxjXt/hJpFp491LxjDc3set3+nrYSOGj8tSAAbhUKY80qkaknIxGo29c5ydN07dbP79LfLo/PUtKqptrbT7tb/ADvr6aHkGt/tG3n/AAoGbU/D8mran4tt/C48QTXb21p/oqHeI3uVLJH87RSDbEGOEYgDgnvbr9pHwzY+JB4fWK71LUkuV0+U2bW5AuzB53lbGlWTkYG/Z5YZgC45xlQfsneHbTwvLoVv4j8R29rc6H/wj17Iktr5l5aBpGjEmbcgMnmyBWQKcN826uu0f4PW3h3WNXvtL8R63YRauwmvrCM2zQT3AhWIz4aAsrlUQkIyoSoO3k50qSovm5fO336fK3428yIxrLlv8/uX43/DzOf0b9p/wvqOlQ6pf6brOgaZcaA/iS2u9SihKz2iFA+1YpZGDqZYxtYDO4bc1iW37Qk/hrxb42fxXaajp2i2f9jrYWV4tpHNFJeGZfnkWXy1QlF5kkGOQeoB1x+y34Zk0PR9Hu9W1u+03TPD0/hqOCaWAeZaysjFnZIVbzFMUW1lKgbBkHJzqRfAa2W91W9m8W+Iry91SG0gu5rj7EwmS3EgRWjFsEYMJmDBlIOAcAjNDdBX5f6XN+fLa/m9AtXdr/0+VfhzX+RJ8VPijqHhb4Fa9410nSLlNRt7B7iCzvBFviboGcCTayj73yscjpnNZel/GqDwrdXHh7XrHxRd3ukabHq2q6zqUNiEtrWRZn82Y27qmF8l02ohY7QQGGWrauPgXob/AAal+Glte6jp+gyQNbGe1aIXARnLsF3RmNQSSMKgCjhQoAxJJ8FtMvde8QanqWq6pqqa9o0Wh6hY3P2cQTW8aygH5IlYMfOlJIYDLcAAADJumlJLu7foaJVG4t9lf71f8NjD1P8AaX0LRbGee/0DX7WeK2sr5bN4rczS2t1MIY51AnI2iQgMpIcZHy81Pb/tD6a2tNpt54Y8Q6Y8OtQaDdTXK2jR2t1MiPCH8u4YlXEkeGQMBuG7bziHUv2a9D1jSZ7S+1/Xrq6ktbKwTUpJLb7RDbWswnihT9xswZFBZmUs2BluBVzU/gBpeqanq19J4g1yOXUtesvEMqxta7UuLVUWJVzAfkIijyDknbwRk51X1fm8r/heP/tvN8/Iz/2jlfe348r/APbrf9u+Z6jRRRXEdoUUUUAFVrD/AFDf9dZP/Q2qzVaw/wBQ3/XWT/0NqALNY/iD/j50b/r8P/oiWtisfxB/x86N/wBfh/8AREtJ7AZ114v0Ky1RtNuNa0631FQpNpLdxrMA33fkJzznjjmtavFPHWnasni7X5LTwP4v1pbuWyeO+0y809LNhF5bkCGbUYixypXc8SkEHG4AE8jovhvXNP1GynvPhV4pvre1nimNuItDQXJjjuFEk+dVYSTE3AYyYGfLHyjORqqUWk+b8v8AMwlVlFtct/v/AMj6QGqWZS1cXcBW6bZbt5i4mbaWwnPzHCscDsCe1Wa+V38IeLEltZLf4eeK4ri3TEd49vob3MbfY5LYKkh1b5Yv3nmeXg/Nu5+bj2b4HaRfaH4OntL7RNQ8PuL6aSOz1AW4YI+GyghurkBMswG6TdkNkAYJU6UYxvzDjVlKSXKehUUUVznSFFFFABWdB/yMN7/162//AKHNWjWdB/yMN7/162//AKHNQBxOofByK60eKzj1ESOJbmV/7QikuoMylzuSJpQI3Tf8rKQOvHPF3T/hVZ6bqGnX0clvNe2uoTXr3NxaB5ZhIGG0tuBDLuGH56H5eeO6ooWmwPXRnnGpfBmDUdcu9ROpvGJ76K5WAQgqkAy01vndysrs7E+44OKzpvgQbwap9r1mKc36t5n+hHDOYriPzHBlILf6QCdoUfuwABnj1iijpb+v60Drc8zuPgwl5eTSzX1mI5WDOsOn7GkG+JjG7eYd0Q8rCpj5QRydvOnqXwza40Ky06y1FbEWmpzahEyRSIqrJ537oeVLGyhRNjKsPu9OcV3NFD1VmB5VZfA1rE3DprEclxJZR2a3ElrJvjVYo42QATBPLYRn5du4FyQ+cGnWfwOS20+4spL+yuYZ7d7cmbTi7wqZpZNkLNKSiYk2lTuyF616nRTu/wCv68xW/r+vQyPDPh2HwxZXFpblBbvcy3EcUUYjSJXYtsUDjAJPTH0qjeaGPE3gvWtIMxthf/brXzgMlN8ki7sZGcZ9R9a6Ws7Qf+PGX/r6uf8A0e9LdB1uZWneErnR/E0moWeoKbCa1htpba7SW4nPlvMwYTtLnkzdCrfd49umoooAKKKKBhWdP/yMNl/163H/AKHDWjWdP/yMNl/163H/AKHDQI5zxJ8N0166ubhbm2VpLqG6WC6s/PgJSN4yHTeu8ESE9RhgDzilb4cfarEWt3rN5II9Ph06KaNVEqopBlJLhgxlKqGyPuqB6k9nRRt/XyH5/wBdzzfQvhBNoms6RfHXXuxp4VcS22xnAM2BhHWPpMQCY2Yc7WG416RRRRcXmFcvJocuveD9Ejt7lLS5txa3UMskRlQMm1gGUMpIPI4Yda6is7w5/wAi9pf/AF6xf+gCjzA46P4RxvcG8ub6GfUDJHOLgWmPLcXjXLmPLkqG37MZJAGST0rHl+AUElhHaHULWSMPBJIJLJwJzHai3/eGOZGI4DKM/Kc/ezx61RQtB9W+rOH8PfDMaD4wfWxd28oKXSAC0K3D+dJG+JJi53hPL2qNowpAzxznyfBqIaLpVjFqjubG1EDfbEkuYpz5tvJzG8nyxn7PtMakAhz0xz6RRR28hLQ8jT4AxgPv1O3Yta3Fum2zkRbcytO2YVWcKqjz8FWDZ29RnibXPhPd2P2zUNHmin1qZv8AR5/sqLJbSfa5Z1cu0g/dgTMrqASwHGOlerUUDPPfFXwmGuWmkWlhqf8AZttp+nS6dsaOR96OYuTtlQNjyfuuHVt3Knoa1j8GUTXLjUNQ1GHUknuo7mWCSzIEpQz43gyMpbE4GQqj92Pl549Loov/AF87/mLpynnXhf4W3vg3VU1Cy1aK+laOC2kjvICESJI4Y2aLDEq5WJiexygP3ATPrfwpg1TXbjVoJ7S2vZr+K986SxErrsijj2j5wpJCE5ZWxu4AIzXfUU7vTyA4v4ffDr/hBZJ3+128/mW8Vvi2s/s4bYztvk+dt7nfjdxwBXaUUUh9bhRRRQBnQf8AIw3v/Xrb/wDoc1cVe/Ce41DTIdNl1mL+z7MzNZotkRIDJniZvMxKuGYMoCbs8mu1g/5GG9/69bf/ANDmrRoA81ufg4k88sySaNGZZIpnt/7HzbuyQtDtaPzRlMMGVc/Ky5yegoyfAjel0g1pVMyBftQsyLqTFtHBtllEgLxny9xQBSSfvDGa9Yoo7+YdvI47wV8NbLwffPdottJObZLaPyoHURASSu2wySSMAxl5G7+H6AUPEPwoXWrdkjvoYWN1czp51n5qRiZAvyqHXDpgFXzxzxXoFFF7u/8AW9/zQLTT+u36nMa5oOu654bGnJqtpp07ystxKLZ5xLb5YCMHzEKsy7Qzg/3tuMgjDT4Z6tYBzpfiC20+VEuI7Z100t5IuJklm484Z5TCdNoPO7Feh0UeYuiXY4fQ/hs+japYzi/g+x20y3QtYbVkPmra/Zhh2kYhNnO0gnPO7tXcUUUN3AKKKKBhXNnRF8ReBbGxaQQmS2gIkKb9pAU9Mj0x+NdJWd4c/wCRe0v/AK9Yv/QBQI5S9+GUl1qVxObvT7m1Z7iSG01DTftCK00kcj+Z+9G/Bj+XhcZHXAqTT/h5e2F9ok/9srKuk27Qwq8Eh3MY2XJBmKAAtkYQPgBd+M57iijpb+uw+t/67md4e0VPD+j21ikjTtGCZJ3GGmkYlnkPuzFmP1rRooobvqIKi8P/APHzrP8A1+D/ANERVLUXh/8A4+dZ/wCvwf8AoiKqjuDNiuF+N/8AyTDWfrB/6Pjruq4X43/8kw1n6wf+j46sk+dI/uL9BRRH9xfoKKAPrzUf+Qfdf9cm/kasEZGKr6j/AMg+6/65N/I1Y60AfK/w78TXOhaH4h8Raxc+KLew8P6nr8//AAkGo61cXtgyw3UkENs9r57NIoV8gFUOYV2k9auaj8UfEviO2Sz8Q6dpn23RPHejWBWTT/LEkU4gkR/LFxMI5U87giRugyFJIHvmmfDzwrounahp+n+GdHsLDUNwvLW2sIo4rndnd5iqoD53NndnOT61THwi8CiEQjwX4eEImjuPL/sqDb5sYxG+Nn3lHCnqO1dirQ5lKSvbl/Bpv8E187nFKjNxkovfm/FNL7r3+R4N4M+Jmv8AhOCHwp4b09LzUtY8TeJxbPcosscSWt0xWFUeeEHO8YAk4VGwp7RePPiH4n8eaVEupWmm+HZvDfirw3ZXtkgae5N1NLaSymOZZAqxYnMY+V94V+Rnj6Ck+FPgmXTG05/B+gPp73RvWtG0yAxG4PWYptxvOT82M+9Pv/hj4O1W7jur3wnod5cxxxxJNPpsLuqRkGNQxXICkAqOxHFOFaEZRk1ty/g0/wAVpb576CnRqSjKKlvzf+TX/K97/LbU83+On9sy/E74Y2OjT3LNfvqUc9iuu3emW9wEtS6+Y0AY5VhkHaT7ivONP/aN8QeGvhLpUum3i6/reiafJca3Dqli00kiRXr2ryfaftMahWeKRUYLM7BQxXrX0v4h8BeGPF11a3Wu+HNJ1q5tVZbebUbGKd4Q33ghdSVB7461X1H4YeDdXgtYb/wlod7Da25tII7jTYZFhhPWJAVO1P8AZHFTTqwioqSvb/g/56/8MXUpTk24u1/+B/lp+R5O/wAZ/GVr4nv0n/sKbRbPxvb+FWgSxmS4khnihdJRIZyodDMARsIYKfu5ri/hN8Utc8Pafq3hzRrbT7OOwl8S39rHrUTQxalJFqM4S3tp/NVI0jBTeWUgB1CjAYr9Ft8L/BreZnwloR828XUHzpsPz3KjCzn5eZAOj9R61E3wj8CtDBC3gvw8YYJJpoozpUG2OSUYldRs4ZxwxHLd80RqU1Hla6f+2pf+lXfzsKVOo5c1+t/xlp/4C0vlcx/gx8Q7/wAf6Xq/9rhbbV9NuxbXWntp0tjPaMYo32SxvJIGJ3Eh43ZGUqQeteiVnaH4b0nwxavbaPpdlpNs7+Y0NjbpCjNgDcQoAJwAM+wrRrCpKMpXirHRTjKMbSd2FFFFZmgUUUUAFFFFABRRRQAVWsP9Q3/XWT/0Nqs1WsP9Q3/XWT/0NqALNYniUTNNo4t0jkm+2HasrlFP7iXOSAcce1bdZer/APIQ0T/r8b/0nmoAreVrP/PnYf8AgY//AMao8rWf+fOw/wDAx/8A41Rd+O/DVhqz6Xc+IdKt9TjXe9lLexLMq4zkoWyBjnpW7Ry21sHNrYwvK1n/AJ87D/wMf/41R5Ws/wDPnYf+Bj//ABqp/wDhLdDOrTaX/bOn/wBpwsqy2X2qPzoy23aGTOQTvTGRzuX1FaNzcw2VvLcXEqQQRKXkllYKqKBkkk8AD1pcvkHMY/laz/z52H/gY/8A8ao8rWf+fOw/8DH/APjVXL/xHpOlX1pZXuqWVneXZxb29xcIkkxyB8ik5bkjp61YOpWY077f9qg+weV5/wBq8weV5eM792cbcc56Yo5etg5uhl+VrP8Az52H/gY//wAao8rWf+fOw/8AAx//AI1W7RRZDuYXlaz/AM+dh/4GP/8AGqz4I9W/t+8AtLLzPs0GVN2+AN8uMHyuvXt2HXPHW1l2/wDyM1//ANedt/6HPRZBcreVrP8Az52H/gY//wAao8rWf+fOw/8AAx//AI1W7RRZBcwvK1n/AJ87D/wMf/41R5Ws/wDPnYf+Bj//ABqt2iiyC5heVrP/AD52H/gY/wD8ao8rWf8AnzsP/Ax//jVbtFFkFzC8rWf+fOw/8DH/APjVHlaz/wA+dh/4GP8A/Gq3aKLILmF5Ws/8+dh/4GP/APGqz9Dj1Y2Unl2lky/abjJa7cHPnPn/AJZHjOfr7dK62svw7/yD5f8Ar8uv/SiSiyC5W8rWf+fOw/8AAx//AI1R5Ws/8+dh/wCBj/8Axqt2iiyC5heVrP8Az52H/gY//wAao8rWf+fOw/8AAx//AI1W7RRZBcwvK1n/AJ87D/wMf/41WfPHq39v2YNpZeZ9mnwou3wRvizk+V16du56Y562su4/5Gaw/wCvO5/9DgosguVvK1n/AJ87D/wMf/41R5Ws/wDPnYf+Bj//ABqt2iiyC5heVrP/AD52H/gY/wD8ao8rWf8AnzsP/Ax//jVbtFFkFzC8rWf+fOw/8DH/APjVZ/h6PVjoGmGO0smj+zRbWe7dSRsGMjyjg/ia62svwv8A8izpH/XnD/6AKLILlbytZ/587D/wMf8A+NUeVrP/AD52H/gY/wD8ardoosguYXlaz/z52H/gY/8A8ao8rWf+fOw/8DH/APjVbtFFkFzC8rWf+fOw/wDAx/8A41R5Ws/8+dh/4GP/APGq3aKLILmF5Ws/8+dh/wCBj/8AxqjytZ/587D/AMDH/wDjVbtFFkFzC8rWf+fOw/8AAx//AI1R5Ws/8+dh/wCBj/8Axqt2iiyC5heVrP8Az52H/gY//wAao8rWf+fOw/8AAx//AI1W7RRZBcwvK1n/AJ87D/wMf/41R5Ws/wDPnYf+Bj//ABqt2iiyC5yUEerf2/eAWll5n2aDKm7fAG+XGD5XXr27DrnjQ8rWf+fOw/8AAx//AI1Vm3/5Ga//AOvO2/8AQ561KLILmF5Ws/8APnYf+Bj/APxqjytZ/wCfOw/8DH/+NVu0UWQXMLytZ/587D/wMf8A+NUeVrP/AD52H/gY/wD8ardoosguYXlaz/z52H/gY/8A8ao8rWf+fOw/8DH/APjVbtFFkFzC8rWf+fOw/wDAx/8A41R5Ws/8+dh/4GP/APGq3aKLILmF5Ws/8+dh/wCBj/8AxqjytZ/587D/AMDH/wDjVbtFFkFzC8rWf+fOw/8AAx//AI1Wf4ej1Y6BphjtLJo/s0W1nu3UkbBjI8o4P4mutrL8L/8AIs6R/wBecP8A6AKLILlbytZ/587D/wADH/8AjVHlaz/z52H/AIGP/wDGq3aKLILmF5Ws/wDPnYf+Bj//ABqjytZ/587D/wADH/8AjVbtFFkFzC8rWf8AnzsP/Ax//jVO8NCZZtYFwkcc32wblicuo/cRYwSBnj2rbrL0j/kIa3/1+L/6Tw0WsI1K4X43/wDJMNZ+sH/o+Ou6rhfjf/yTDWfrB/6PjpgfOkf3F+gooj+4v0FFAH15qP8AyD7r/rk38jUs06wKGYOQTj5ELH8gDUWo/wDIPuv+uTfyNWaAKv8AaUX9y4/8B5P/AImj+0ov7lx/4Dyf/E1aooAq/wBpRf3Lj/wHk/8AiaP7Si/uXH/gPJ/8TVqigCr/AGlF/cuP/AeT/wCJo/tKL+5cf+A8n/xNWqKAKv8AaUX9y4/8B5P/AImj+0ov7lx/4Dyf/E1aooAq/wBpRf3Lj/wHk/8AiaP7Si/uXH/gPJ/8TVqigCr/AGlF/cuP/AeT/wCJo/tKL+5cf+A8n/xNWqKAKv8AaUX9y4/8B5P/AImj+0ov7lx/4Dyf/E1aooAq/wBpRf3Lj/wHk/8AiaP7Si/uXH/gPJ/8TVqigCr/AGlF/cuP/AeT/wCJo/tKL+5cf+A8n/xNWqKAIoLlLjdtEgx13xsn8wM1HYf6hv8ArrJ/6G1WarWH+ob/AK6yf+htQBZrL1f/AJCGif8AX43/AKTzVqVl6v8A8hDRP+vxv/SeagDyv4rQ6zq2v61ZweAPE+t2Nxpi6b9ssG0o28oZllZlE9/FIccoQyLyCQSME8W3h3W18SaZqMXwm8XizsLuW5g05pNHWKDdMso8kR6wgRgQQSVYHI+Xg596ufH+h2fiIaHNczR6hvSI5tJvJDshdVM2zywSqk4LZ4qQePfDBW3I8R6SRcMyQn7dF+9ZWVWC/NyQWUHHQsB3FdUKk4cvLHbbfrqctSlCbfNLe19umi6HjOoDxDfahrV7/wAKu8fJPqWqWuo7ft+jmGMQi3Gzyv7W2Fm+z/6zaCN+Occ81feCtZn0uysLX4S+J7OGLRG0a4cW+hO9zmJ08w7tW2r877ztUMSCC5B4+l9F8R6Z4ijd9OvYrryzh0U4dPmZfmU8jJVsZHOOK0qUa0oLlS/Pord+wOhGerl+Xe/bueBa5q3jHVrrRZbf4V+K9M+xRpDObX+xlaeIMC0KgawEEbAEbHSTG4kYPNcHP8PPE15YWNlP8NvFRtrPTG0yJYrbRExGbaWHG3+2NpBaQSkFSS6/eAIA+uaKI13FNJL8fPz8394PDqWrb/Dy8vJHiPwe8Oapa/ELVtW1LwVrHh43NsxW81L7GqLzEPIQW2pXACjaSqmEBVXG/P3vbqKKynNztfpobQgqaduuoVl2/wDyM1//ANedt/6HPWpWXb/8jNf/APXnbf8Aoc9Zmg7TPEuka3c3Fvp2q2V/PbkiaK1uEkaMglTuCkkcgjnuDV2a6ht5IUlmjieZ/LiV2AMjYLbVHc4VjgdgT2rys/A66YXSP4gjlt52fdBNaSujxtO0uxs3BKgEj/VGMEgFg3AE0HwMt7fSrSD7XYXl7Bcw3D3OoaYJ1nEdkLYI6+YCR1cfNwT070le13v/AMH+mN72R6nRXlSfAwxIUXWkZlgEa3T2Wbl2EMcYEknmfPEDGG8vA5x83FXR8HIrptXn1O6s9SvL+ORFd7JkSHfNJISoEu7GHC8MCdvXnFN+Xb+kLp8/w7nok9xFaxmSaRIowQN8jBRknAGT6kgfjUNhqllqsRksruC8jG3L28quBlQy8g91ZWHswPevO4PguytAZdZWRIkgcRR2Sxx/aUaPdMFVsLujhSMKOmWOTuxVaL4Dxq+lmXVUu0smQ+TNbyKjFYLaIOBHMpDj7NkMSQBIRg9aa3F0PV6KKKQwrG0e7gsdJnmuZo7eFby5BklYKoJuHA5PqSB+NbNc2NGj8Q+EtW0uZjHHeSXsBdRkpumkG4e4zn8KT0GtWaS+JdIaeOAarZGaSd7ZIxcJueZPvxgZ5Ze69R3q5a3cF9EZbeaO4jDMheJww3KxVhkdwwII7EEV5nbfA8WqXEia2/257RPKuTbD93f70kkvNu7ku8MJKZH3CNx3HHoXh/RofDuiWOmQMzx2sSxB3+85A5Y+5OSfcmq6a/1/X6rzJ/r+v66PyNCiiikMKy7j/kZrD/rzuf8A0OCtSsu4/wCRmsP+vO5/9DgoAlbXtMVb9jqNoF0//j8JnXFt8u795z8ny88445qFfFeiNPNANYsDNDF58sYuk3Rx4B3sM5C4ZTk8cj1rA8SfDWPxINXU6rcWCX7xylbWKMgMiMo3h1YONxD4wOVHNZOqfCG51j7OLrXFnS2sktIhLauwfY8T5kTzdhDGEbhGkZYHBbikr63/AK/pjfT+u3/BO7t9e0y8uLeCDUbSee4hNxDFHOrNJECAXUA5KgkDI45FX65Pw94F/sO40mdrxJpLGK7iKxweWjCaVZAqDcdiJt2quTgEc8c9ZVMlBWHo2pWeleFNFlvbqCzieC2hV55Ais7hVRQSeWZiAB1JIArcrjL7whB43+H2kaZczGGAw20rsq5JCqDgcjB9D2PNT2+X3dSjo18Q6U+oXFgup2bX1uC01sLhDLEAFYllzkDDoeezD1FQ6b4t0PWbxrTT9Z0++u1Xe0FtdJJIF45Kgk4+ZefcetcGfgg01nOJ9eeTULuZJry9S2CNOCjJcpjfwJEdgOfkwn3torY0D4aS6H4ym1r+1BLbNJcyR2YikGwSlSV+aVkAG0cpGpPGTjILW9n/AE/8v8hPZW3/AE/r8zqNJ8S6Rr0k0emarZai8GPNW0uElMeSQNwUnHII59DV26uobKB57iaOCFOWklYKq/UmvK4PgddRWNxav4gjnhmSOJopbSV0eNJHfawa4JAy44jMYyvIPSnL8BYV0b7INX2XjKI5dQjtdszoLWKDG7fnrEH6nnHpmktU2we9lsepXV1BY27z3M0dvBGMvLKwVVHqSeBUtcbbeCL3/hDL3w1cXtt9l8sQW11DARIV6l5V3YLk5yRjJy3G7Axbr4LQOQ9vd2iOZpZ5459PEkN0z3LTgTIHXzAu4gAnrg8dKfVLoHS/U9Moqrp0E9tbCO4kgkZSQn2eExIqfwjaWboO+fwFWqACiiigAooooAKKKKAMu3/5Ga//AOvO2/8AQ56uW+oWt5NcwwXMM8ts4injjkDNE5UMFYD7p2spwexB71Tt/wDkZr//AK87f/0OevMb74J6hbalZ3Vtq66s91ei41OPU7KKS3LjzmEojDIcAzMm0sxwU+bCcrrYfRs9bvL+206Hzbu4itYufnmcIvAJPJ9gT9Aar3Gv6XaXttZz6laQ3d0AYLeSdVklz02KTluh6V5+vwPthpbW51FGvCkcf21rQGTYtmbfb97O3J34z2x710XiXwdfazLo7QahFDHpjxzpC8cv72RCCN2JAmDgD5o3K8lcNgh7P5/gLtbt+PY37/XNO0u4toL3ULW0nuW2QRTzKjStkDCgnLHJAwPUVSbxv4cSN5G1/SwiS+QzG8jwsn9wndw3t1qjr/hvWfEJ0YPqllb2tuyTX1obJ5FuZVKsu1vNUqqsCQCDk7c5AIPNj4TatDZCzt/EVotoba30+WKXTGYT2kPmbI3InU5YynewxuAwAuTk9f6/r+uwf1/X9f5noFnrenajeXVpaX9rdXVqds8EMyu8J54dQcr0PX0q7XJeGfA0nh/WpL2S/S5hVblLeFLcxsgnn8997bzvIbAGAuBnOSc11tHRB1YUUUUAFFFFABWFo2p2ek+EdInvruCzgNtbxiS4kEa7mVQq5JxkkgAdya3a5ddCXxH4A0+wMghMlrbkSlN+0gKemR6Y696ANC88YaDp8t1Fda3p1tLabftCTXcaNDuIC7wT8uSygZ67h61InirRZbkW6axYPcGLzxEt0hcx43b8ZztwQc9Mc1yl78L5LrUric3mnXVqz3EsNpqOmG4RWmkjkfzP3q78NH8vC7cjrgVS1P4O3GrWFlZXGu7ra0sZLNB5EhJ3xMhJUzFMZbsgfaAm/Gcpbef/AAP8x9fL+v0PRLG/tdTtUubO5hu7Z87ZoHDo2Dg4I4PNWKw/CHhxvC+ktZvPFMzTSTYt4PIhj3HOyOPc21R6ZPJJ71uVTJQVl6R/yENb/wCvxf8A0nhrUrL0j/kIa3/1+L/6Tw0hmpXC/G//AJJhrP1g/wDR8dd1XC/G7/kmGs/WD/0fHQB86R/cX6CinRr8i/QUUAfXWo/8g+6/65N/I1YqvqP/ACD7r/rk38jVg9OOtAHhvgf9pg+K/Fdhodxo2mwXVxqep6bPBp+s/a7q0+xmQGeSEwIRE5jABznMiDBzxseOPj5Yad4P17UvDm+41XRJbL7Xp+saddWTiK4mEasFlSNiD85VwCpKEVhW37Neqz6XZ6bqXjKI2lnrt94igm0rSmtLqO6uDOwxK1xIAqG4Y4CgttXJxnObH+yjqMOha7YReK9Mhn1fTtLsZ7mLQXBd7Od5fPcfasySSb8MS2cjPtXclh2027Wt317/APDHBJ4hcyir3v207fhrf5eb9Y1P4ueGdG12XR724v7a+SKeZVfSbvy5xCm+UQyeVsmZVBO2NmbAOBxVDSPj34F1q1uLq31toraHTU1gzXtjcWqSWbHCzRtLGokXJA+TPJA6kVxc/wCzdqU/jH/hIn8V2dxerfX93HPdaO0lwEurZ4fs7S/aATFFvyigAALg5J3VUuf2V7jUdC0bSrzxbGYNN8KReGklttMMchkinhmiuQTMwGGgjzGQc/N8wzxnGNHTml0X32lfp35V83r20lKvd8ser+68UuvZyfyXz9En+OHg62tZppb+8jaB5UltW0m7+1J5UaSSMYPK8wIqSxkvt2jevPIpnxH+MGm+AvCWieIENreabq93b20OoXF19nsoUmUsk00+1tkZAADbT8zqOM5HP+LPghqnjXWfDmvaxrHh/UNd0iG5tGF34dM2n3FvN5ZZTbvcllcNEpDiTuRtINdp4i8I3+oaFpWm6VqFhpkVoVSe2m0wT2d1B5TRmBoBIm1PmDABuNijkZFTamlF3u76/fr06q3p5lp1XdNW0dvXp16fjpscLe/He88N+LdBs/EmlJp+majo+oajJ/Zkc+qSxm2niRXQwIS8Ukcokz5YKjGfQdfP8aPBlu2ng60skd8lpJFPDbzSQqtydtsZJFQpF5hIC+YVzmuE8L/s1S+DbzTJdK8Q20FtZaZq9iLM6Y3lI19Okx8lROPKijaNQsXPy5G7JyK/gb9l1fBOp6ZdnUtE1rytO06xvBqvh4TO7WaeXHNbOZ827MgXIPmDcoYY6Vrag0rv/g+9L12XLr5+pjfEJuy/q0bdt3zaeW+1+p8X/tHeC/CWiazfm8ub99OtLi8WC2spyLpYXEcvkyFNkm12VWKEhc5OBWt49+K9l4J+G0vjI2dxLYq0IKXkUtn5SySrH5kwkTfFGm7czFCQqk4Nee2n7KtvY+BPEnhODUtIjstRtbu1stSXQFGpWqTyeYBLcCb98qnjG1CwC5ORk+q6noPiDUPClrYpr1paa1HJE8t9FpxNtMquC0ZgaYtsdQVI8zPJINZSVJKPK76q/p/W/wCFzVOq2+ZaWdv06/11sY2h/F2xnexttajgsb7UluZ9N/sqaTUre/toER3mimjiAPD8IQGJBwDVOf8AaO8AW9hbXjatePbXGkrrsckOj3so+wk4887YTtUfxZwV43YyK5jR/wBmh/DGqWeraHrtjpmoRalfX728ekn+z1W6gjikjht1nBi/1Svne2XLkj5sCtpv7MmpaboMGlr4utXSLwVL4OEh0dslXbIuD/pHUDA2dzk7hnApqjun0/G0vLvyr5t2ttMXW2a6/hzRXftzO3ort79zN8f/AANbWOo3c2q3MEGntai5Mul3aMi3LFbeQKYstG7AgSKCmR96nWXx68FX+qR6cmoX0N2+oLpRS70e9txFdsoZIZGkhVY2YFSocjduGM5FcPrv7Nmra1BqcY8XWUJvdJ0XTCf7Gdth0+czCT/j5GfMLMNv8Ixycc6esfAPVNU1jXL5fFFpD/afifTvEgjOks3lfZEiQQ5+0Ddu8lDvwMZb5Txi+XD81uZ2v+F467dnJ/JL1jnxPLflV7fjZu2/ey/H06vUPjd4Q0ifV4b68v7KTSrOXUblbjSLyPNtEwWWWLMQ85VLLkx7sAgng5rMt/jhouq+LtEtbHUkj0W8sb+8e4vdNuIBKLfyiXjmk2II1EhJO1gwZSrYBrhZP2U9RkGqM3jC0mu7/RtW0WXULjRWe6mS9kR/Mnk+0gyvGECjhRjgBcV1Hin4C3fjR/DsWq+Ibc2GnaBf6Bdw22nNG90l1EkbSI5nbyiojXAKvznnkYi1JJO+tn99pW6f4fv8jS9ZytbS/wCHu+f+L7vv6GL47eCpn8pdUuPtRkhjjszpl0LmYyo8kRjhMW+RWSKVgyqVwjc8Gu00jVbbXdLtNRsnaS0u4lnhd42jLIwyCVYBlOD0IBHevGF/Zr8/wZb6Bez+FLjynh8y5g8LfZ2uBFG6o8hjuQ4mBcOJY3QghsDDEV6x4K8Pz+FPCOj6Ndarda3cWFrHbyajenM1yyqAXckk5PuSfUk81NSNJX5HfXT0t6dx05Vm17RW019fvNqq1h/qG/66yf8AobVZqtYf6hv+usn/AKG1c50lmsvV/wDkIaJ/1+N/6TzVqVi+I5ZoZ9HeCNJZReHakjlFP7iXqQDj8qAPIviP8K/F2u/EDUtY0jQtGuLaZESK8m8TNYXXEBjONmlTSRY3uMLOQ2ASBkrWVp/ws+IWnWt7AvhHwu/2uG4hkb/hMpY8CbyN5VY9FVQf9HTGBjls5zx7j/amrf8AQPsv/A1//jVH9qat/wBA+y/8DX/+NVvGu47L8/8AM55UFJ3b/L/I4/4L+Dde8Gprker6Tp2jwXlwLuOHTtdk1NZJnLmV28yztzGT+7GAXBx0Ugl/S6xP7U1b/oH2X/ga/wD8ao/tTVv+gfZf+Br/APxqsZT5nc2jDlVkbdFYn9qat/0D7L/wNf8A+NUf2pq3/QPsv/A1/wD41U3RdjborE/tTVv+gfZf+Br/APxqj+1NW/6B9l/4Gv8A/GqLoLG3WXb/APIzX/8A1523/oc9Qf2pq3/QPsv/AANf/wCNVnwajqY1+9YWNoZDawAr9sbAG+bBz5XPU8Y7DrnguhHV0Vif2pq3/QPsv/A1/wD41R/amrf9A+y/8DX/APjVF0Oxt0Vif2pq3/QPsv8AwNf/AONUf2pq3/QPsv8AwNf/AONUXQWNuisT+1NW/wCgfZf+Br//ABqj+1NW/wCgfZf+Br//ABqi6Cxt0Vif2pq3/QPsv/A1/wD41R/amrf9A+y/8DX/APjVF0FjbrL8O/8AIPl/6/Lr/wBKJKg/tTVv+gfZf+Br/wDxqs/Q9R1NLKQJY2jL9quDlrxgcmZyR/qj0ORnv7dKLoR1dFYn9qat/wBA+y/8DX/+NUf2pq3/AED7L/wNf/41RdDsbdFYn9qat/0D7L/wNf8A+NUf2pq3/QPsv/A1/wD41RdBY26y7j/kZrD/AK87n/0OCoP7U1b/AKB9l/4Gv/8AGqz59R1M6/ZMbG0EgtZwF+2NgjfDk58rjoOMdz0xyXQjq6KxP7U1b/oH2X/ga/8A8ao/tTVv+gfZf+Br/wDxqi6HY26KxP7U1b/oH2X/AIGv/wDGqP7U1b/oH2X/AIGv/wDGqLoLG3WX4X/5FnSP+vOH/wBAFQf2pq3/AED7L/wNf/41Wf4e1HU00DTFjsbR4xaxBWa8ZSRsGCR5Rx9Mmi6EdXRWJ/amrf8AQPsv/A1//jVH9qat/wBA+y/8DX/+NUXQ7G3RWJ/amrf9A+y/8DX/APjVH9qat/0D7L/wNf8A+NUXQWNuisT+1NW/6B9l/wCBr/8Axqj+1NW/6B9l/wCBr/8Axqi6Cxt0Vif2pq3/AED7L/wNf/41R/amrf8AQPsv/A1//jVF0FjborE/tTVv+gfZf+Br/wDxqj+1NW/6B9l/4Gv/APGqLoLG3RWJ/amrf9A+y/8AA1//AI1R/amrf9A+y/8AA1//AI1RdBY26KxP7U1b/oH2X/ga/wD8ao/tTVv+gfZf+Br/APxqi6CxPb/8jNf/APXnbf8Aoc9alcpBqOpjX71hY2hkNrACv2xsAb5sHPlc9TxjsOueND+1NW/6B9l/4Gv/APGqLoRt0Vif2pq3/QPsv/A1/wD41R/amrf9A+y/8DX/APjVF0Oxt0Vif2pq3/QPsv8AwNf/AONUf2pq3/QPsv8AwNf/AONUXQWNuisT+1NW/wCgfZf+Br//ABqj+1NW/wCgfZf+Br//ABqi6Cxt0Vif2pq3/QPsv/A1/wD41R/amrf9A+y/8DX/APjVF0FjborE/tTVv+gfZf8Aga//AMao/tTVv+gfZf8Aga//AMaougsbdZfhf/kWdI/684f/AEAVB/amrf8AQPsv/A1//jVZ/h7UdTTQNMWOxtHjFrEFZrxlJGwYJHlHH0yaLoR1dFYn9qat/wBA+y/8DX/+NUf2pq3/AED7L/wNf/41RdDsbdFYn9qat/0D7L/wNf8A+NUf2pq3/QPsv/A1/wD41RdBY26y9I/5CGt/9fi/+k8NQf2pq3/QPsv/AANf/wCNUvhyWaafWHnjSKU3g3JG5dR+4i6EgZ/Ki4jarhvjYM/DLWB7wf8Ao+Ou5rifjMu74bauPeD/ANHx0wPnaOP92v0FFXI4P3a8DoKKAPqrUf8AkH3X/XJv5GrDZwcAE9gTiuBv/jR4OezuIxq5LtGygfZJ+SR/uU5vjl4IwQdaYf8Abncf/EUAeQeB/iv4v0bT/wC273RE8Qat4l8XX/h6CE+JJ1gg8iW7EIWF4fLiRRBsZkAZhh2DN8tdx/w0FcJeq0nhyJdKXxDH4Vnu11EmSO/ZVB2x+T80IlYR79wbq2zFYtsnwTs7OwtYr3UUhsNUk1q2H27VSY7yQuXlBLZyTJIcE4+duOa0W134ON4ik1szv9vkuxqDAJfCA3QTyxceRjy/N24Hmbd3AOc11udJvVf17vn25vw9Dj5Kyvyvv+PN5f4fua8zP0H9o7xN4hh8ONb+B9MR9ftNRns1k8QOAr2bhZUkItDtDdVYA57ha0vib8VdRv8A9l1/iH4bu7nw9e3OmWmp27RxRXEkQlMZKFXR1bhyPu59MVm6Z/wpPRk0ZLO6voV0eO7iscXWpkwrcnM4yW+bcTnLZI7YxVy41f4N3Xw2g8AyXdyfCkEMdvHYiTUFYRoQUTzR+8IGBwW7AdKTnRvdR6r7ru/Xty/cxqFbZy6P77K3Tvf70Sy/FPUPCmiXWoW99eeJ5bu9e1sdM8UW7aXdkwxFpfKjt7NpZAcbvmhG0ZJIGK898ffGbUvEfhfxTrukSahobz+BtK8Q6fJDqUuYPOnk+UxcIHBBBcfeXAPTFeja74p+EviWPRxqOpXlxLpBf7HciTUEuI96bHBmXDuGU4IZiDxnOBXNSaF8BZdOlsGkv/scmlw6K0IvdWCmyiffHDw/AVsnI55POCaunUoxlzSXb8n6dbP7yalOtKPLF/1dPz6XX3fLptU/aNXT/Eus2tv4Y1DUND0O+ew1XVbeOZjbFLYTyS7RCYzGuVU5lVsnIUjBNX4ceO/EHiz40xTX0LaVo2q+EIdXttMXUWulUvcYV3UxqscmwgFULDr8x606HXPg9b65e6vHe3SXd8qreosmoCC82x+WGng/1crbAFLOpYgDJOBTPCOrfBzwNqsGo6Ne3kF3b2P9mwtPNqNwsdruDCFVlLKEBA2gD5egwKiM6UVtrb8eVp9e9muxUoVpaX0v+Ckmuna6ff7zkvEPxX8Z+HfHHjOSTWNTPhzQ/FunWUl1La2LWFpYzRWzSxyBUFyzbpiFZQcbkLNgNXUa/wDtNTaNrOu2cGgWOq29lpep6jZ3lpqcxiuGsSgmhdzahFb58fu3l2spVttRyS/BSfV9S1Ka6vLifUr+PU7yKe41OS3uLiPb5bvAxMZ2+WmF24GxcDgVUm034Ez+eGe7WOWO9hMMdzqaRpHdnN0iIrBUWQ8kKAM8jBo56Tgk1ql+PKl/6Um/n6goVVNyvo3+HM2/waX9Iz/il8b9YvfAHiuCexPhTUdP0rSvEFpfabqzyZt7i52YciOPYw8twy/OpDdTXQ6j+0zLZeGl8Rr4etv+Een1S506HU59QmSKBYd6mS9xbMbTc6bQGBAyC7J0NLVLf4H6zHcJeXN9Ktxp9tpUoF3qi7ra3fzIU4Yfdbnd945OScmpJf8AhSkuo6pfC91GK61OZ57t4L3VYhK7xrG52qwA3IqhgAA20E5IBq5ToNNKL6/mvPsvOz6PpEIV005SXT8nfp3flddV19z0i/GqaVZXoEYFzAk2IpRKg3KD8rjhhzww4PWrdeb6X8Y/h5ommWmnWGpraWNpCkEEEVjcBY41AVVA8voAAKtf8L38Df8AQab/AMA7j/43XJK3M+XY64cyiubc76iuB/4Xv4G/6DTf+Adx/wDG6P8Ahe/gb/oNN/4B3H/xupLO+orgf+F7+Bv+g03/AIB3H/xuj/he/gb/AKDTf+Adx/8AG6AO+qtYf6hv+usn/obVxX/C9/A3/Qab/wAA7j/43UFp8c/BEUTBtaYEyO3/AB5z9CxI/wCWfoaAPRax/EH/AB86N/1+H/0RLXM/8L38Df8AQab/AMA7j/43WbrHxr8GXU+mNFrDMIbkyOfsk4wvlSLn7nqw/OkwOs/4SPSTrR0f+1LL+1gu82H2hPPC4zny87sY5zirsVxFO0qxypI0TbJAjAlGwDg+hwQcehFfKXxF+K2nzeMPFsdlpHijWNK1exFm0+n28AgYmDYWVZtRh3YLYO+AHKnDYw1ZEnxZ0ePX5L+2+HfiUWjSSldPudN0uSKBXigj/c7dSTy3HkffHZ8YGMnVUU7a9PLfsYOs02uXr2ex9kVDeXkGn2s11dTx21tChklmmcIiKBksxPAAHc18V6d8SLOxbTc+DfFTJZPEYwml6UrW6R3HnBbdv7TJjLfcd23s4AyeK2/Dnxk0fwzod7ptt8PPFUkV1pNtp0kcllpYikkiEoaZ0XUQWLiRcjcD8g+Y9qdBJNqS/D/MUa7bs4tL5/5H1hpWvaZrkYk03UbTUIyu8PazrKCu4rnKk8ZVhn1UjtVuK5hnkmjjlSSSFgkqKwJRiAwDDscEHnsRXxXc/FFbzz5Lnwt4tu7q5torWea60/TpWeKO4eZYg51XzNmJChBcsdqndxg5o8WaUNIhsG8F+K7iNXtpJfOsNPAuTFaC2xIY9WRmGAHUbvlOcls8V7CLv735E+3ne3I/xPtbUvFOi6Pf21jf6vYWN7c48i2ublI5JcttG1SQWySBx34rUr498Z/Gq38Va3Y30Hg/xtp8Vvbw27wmKwk3iOYShuNUVW6YxKkg74PfG0v4gaXBcvLqfgrxbqqyXAuZY5LDTAk0v2eeEyMramw3nzwxKgD5AAozxHsVyX5tddNO+nXsV7aXPbldtNbPtr06PQ+1re7guzKIJo5jE5ikEbhtjjBKnHQ8jj3qnB/yMN7/ANetv/6HNXzZ8E/idouj+K9RuNSs/Eulx3Nooa612ztXjDoI0CxG3up3QvhmYFdrbR8wKgP69F8ZvB66zdTnVmET28KK32Sfkq0hI+5/tD86zqQUHaLvoa05uabkra/gdvpmv6ZrT3CafqNpfvbsUmW2nWQxMCQQ20nByCMH0NXIJ47mFJoZFlikUMkiMGVgehBHUV4RpGr+C7Sa0+3+KE1K2tdRl1CKCXTbxgC4mAGJGdRtMwIKKoynToRQjfwTHpNzYN4lsbrzoLeNbm60K5eaNokiUYYMMx5i3CM8bmOdw4OOpt1PomivniSTwTdXqzXXiuC4XzY5ZW/sOZZbjbJC5SVgMNH+5wqBQFDDrtwe58M/FDwR4a0kWEeueZEs88sYWwnRUV5XkVANhwFDBR7L0HSnYVz06iuG/wCF3eC/+gw3/gHP/wDEUf8AC7vBf/QYb/wDn/8AiKVmB3NFcN/wu7wX/wBBhv8AwDn/APiKP+F3eC/+gw3/AIBz/wDxFFmB3NZGnXtvpui3l3dzxWtrBPdSyzzOESNBNISzMeAABkk1zv8Awu7wX/0GG/8AAOf/AOIrAvvib4O1jwnq2kS64bZr4XcXmfYp32rI74bG3nhgcZH4UWYaXPQ7/wAV6JpZQXusWFoXKhRPdIm4sCVAyecgEj1ANaoORkdK+e7i98IpqyXdh4za1gguFktrdtOvB5MQjdPKDxPGxUGQ45wAAuDjNelD43eC8f8AIZP/AIBz/wDxFOwHdUVw3/C7vBf/AEGG/wDAOf8A+Io/4Xd4L/6DDf8AgHP/APEUrMDuazp/+Rhsv+vW4/8AQ4a5f/hd3gv/AKDDf+Ac/wD8RVKX4zeD21m1nGrMYkt5kZvsk/BZoyB9z/ZP5U7MDs7rxRo1kt01xq9jAtrIsU5luUUQuRkK+T8pI5APNIvinRXmmhXV7BpYYvPkjFym5I8A72GeFwynJ45HrXknijxN4M8QyXzxeKPsn2m4huCBp10MbI2QjdGUcE7s5VlPGDkEg513rXhzUoPs1940tbu1gtIbWzjOgXC+SIzE53AMFdXaIbl2j5cKCvJKSet/60/zG+n9df8AI9tg8T6Nc3sFnDq1jLd3EYmht0uUaSSPnDqoOSvytyOPlPpWnXhml+I/B2n32kXDeJLPNhI8plg0O4inYM0reSsmTthHm4EeDgLjNd1/wu7wX/0GG/8AAOf/AOIp2Fc7msPT9XsdE8J6Zdaje29hai3hUzXUqxoCVAA3MQMk8CsL/hd3gv8A6DDf+Ac//wARXM6h8QfBeveF9I02616a0a1e1mk8m3uVfMRUlQ6AFckY3A/nSs9PVf8ABDQ9bt7iK7gjmgkSaGRQ6SRsGVlPIII6ipK+e7u48E3+v3d/c+LBcQXBRWhl0u6dpI0nglVJGYkPgQFAdoOHJbcc5kL/AA5S5+0Q63bwXAkllWVNHlDKz3a3CkHb1UKUB9DnjpTSvb+rA9Ln0BRXz54ek+H2jSWjXHiCG/8As959rZpdMu2a4YRSorSb2ZS4Mm7cqrkr0HGLVrrng+08F3Ph2PxTbpby3SzKqaNcLEIhtzEwzvbO0/MZN3PXAxSsxnvNUrjXNOtI2kn1C1hjWdbUvJMqgTMQFjJJ+8SygL1JI9a+f4IPAsGiraDxaPtmAjXw0ife8YsRa+We5QkByM84x/tVqJqngSTwpd6HceIoEgudR+3uLDSJ7eNBx8iJ8237uQ2eDzinbXy0/Nfpd/IXTz/4D/WyPcbfUrS7ubq2guoZri1ZUuIY5AzwsVDAOAcqSpBGexBqx0r5wu4fBmoWrLeeMhfXE9wl1dtcaVdCK5l8t0cssbIer5UBvlCgc1sW+reArK5sbiDXLN5YLy5upfteizzLKZZd4PYiSMfKshJwC3HPA0wue521zDe28VxbypPBKoeOWJgyupGQQRwQfWie4itkDTSpErMqBnYAFmICjnuSQAO5NfOGoWPgabQl0qz8WQ2Vu1nBbTIui3G2WWOOVPPIUqd5MqnqfuDO7jGhdS+AZ/LdfENt54uJbmR5tFmkWd2vI7lPMGAW2hGTr0ckY6F2963QH5Hvd/qFrpVnLd3tzDZ2sQzJPcSBEQdMljwKTTtTs9YtFurC7gvbVyQs1tIsiEg4OGBI4IIrxCHXPB0HhfXdGi8Uw28eo3AuImg0i5QQEMrHJzvckr1LgjPGABWa0/hSaTTmm8bCQWl2bwA6TdllcziVtjFy2WA2kyGQ46Y6VOvYfQ+hZLqGGaKGSaNJZsiONmAZ8DJwO+BzxUtfObQ+BIotNjtPFgs47KO3/cx6RN5U8kUewtImMMr8bl6kDGehHqQ+N3gvH/IYP/gHP/8AEVTVm7CudTB/yMN7/wBetv8A+hzU7TNf0zWnuE0/UbS/e3YpMttOshibJGG2k4OQRg+hriIvjN4PXWbqc6swie3hRW+yT8lWkJH3P9ofnXA6pJ4C1HTLO0bxTLMsN1Ncyx3ltfyQSeYznAjV18srv4KkDrxzwrajPf7e6hvIvMgmjnj3Mm+Ngw3KSrDI7ggg+hBqWvni1PgJL7zbnxHaz232t7l4E0OdftAa5M+Jyc+YRnapIGAW4OeHX9/4Vvg8J8ZQfYsyqts+i3JDRyXBmKSEMC2CQAV2/dHUZBVnZfP/AIH3i7n0LVaTUrSG+hspLqFLyZWeK3aQCSRVxuKrnJAyMkdM187Xt74QsNJt7ex157rVZpraGXVV0+WN4rZbaO2mDE/MQ0ayMoGcOynHBNd7qnxF8D395p80HiB7D7HDLAht7CYOA6bQVJjwCvUZBHtTate39f1/mCe1/wCv6/yPTbTULW/877Ncw3HkSGGXypA3luOqtjowyMg81nL418PNGsi69phRpfIVheR4MmM7Ac/ewQcdea8x8F+OvC3gmW6toPFTX+mXDvPm60+VZo5NsSKo2RKpGEcsTySR7k4U+saBqK3c2oeOLa41C9huLW6uo9BuU3wzBAyqpchSojUIeg5yGJJott6fj1/r8wue2y+MdAgS6aTXNNjW0cR3DNdxgQsSQFfn5SSCMH0NasciTRrJGyujAMrKcgg9CDXhcnizQ7jVZNUn8a2k2oJcia1kOg3W2KNUlRYmXf8AMAsznI2kscnIwo63w98VvBHh7QdO0uPXHmjsraO3WR7OcFgihcn5O+KEtNQe56TRXDf8Lu8F/wDQYb/wDn/+Io/4Xd4L/wCgw3/gHP8A/EUrMDuaxdL1K00rwtpU97dQ2cJt4EElxIEXcyqFGScZJIAHcmsD/hd3gv8A6DDf+Ac//wARXPXXxK8G6v4OttKn1s20wghVnNjM+xl2k/wexHXvTsB6Jd+LtC0+W6iuta062ktdv2hJruNDDuIC7wT8uSygZ67h60kni/QYnZX1vTkZYDcsrXcYIhC7jIefu7ed3THNeQXviHwfdalcTnxJYXNqz3EkNpqGg3FwitNJHI/mcjfgx/LwuMjrgUxfEHhXdpSy+LYLuDT7R7ZILvSLuWOXdGyHfGX2FfmPRQ20Bd+M5STt5/8AA/zHpf8Ar+tj3Gw1G11W0jurK5hvLaTOya3kDo2Dg4YcHmrFeWeEviZ4M8MaR9iOvrMTNJLiDTp4Yo9zFtkce1tqjPAye9bX/C7fBZ/5jB/8BJ//AIim12Ejuai8P/8AHzrP/X4P/REVcYPjX4MPTWG/8BJ//iKTRfjF4Qt59SaTViomuRIn+iTHK+VGufueqn8qaEz0yuP+Lcfm/D7VF65MP/o5KZH8YPCM33NVJ/7dZv8A4iqPi/xjoviTwzd2VleGeeUx7U8mRc4dSeSoHQVYjyKOy+RfoKK6ZNMwo47elFAHF3GmW5J+SqUmmW/9yiigCL+y7f8AuUf2Vb/3KKKAD+yrf+5R/ZVv/coooAP7Kt/7lH9lW/8AcoooAP7Kt/7lH9lW/wDcoooAP7Kt/wC5R/ZVv/coooAP7Kt/7lH9lW/9yiigA/sq3/uUf2Vb/wByiigA/sq3/uUf2Vb/ANyiigA/sq3/ALlH9lW/9yiigA/sq3/uUf2Vb/3KKKAD+yrf+5R/ZVv/AHKKKAD+yrf+5R/ZVv8A3KKKAD+yrf8AuUf2Vb/3KKKAD+yrf+5R/ZVv/coooAP7Kt/7lH9lW/8AcoooAP7Kt/7lH9lW/wDcoooAP7Kt/wC5R/ZVv/coooAP7Kt/7lH9lW/9yiigA/sq3/uUf2Vb/wByiigA/sq3/uUf2Vb/ANyiigA/sq3/ALlH9lW/9yiigA/sq3/uUf2Vb/3KKKAD+yrf+5R/ZVv/AHKKKAD+yrf+5R/ZVv8A3KKKAD+yrf8AuUf2Vb/3KKKAD+yrf+5R/ZVv/coooAP7Kt/7lH9lW/8AcoooAP7Kt/7lH9lW/wDcoooAP7Kt/wC5R/ZVv/coooAP7Kt/7lH9lW/9yiigA/sq3/uUf2Vb/wByiigA/sq3/uUf2Vb/ANyiigA/sq3/ALlH9lW/9yiigA/sq3/uUf2Vb/3KKKAD+yrf+5R/ZVv/AHKKKAD+yrf+5R/ZVv8A3KKKAD+yrf8AuUf2Vb/3KKKAD+yrf+5R/ZVv/coooAP7Kt/7lH9lW/8AcoooAP7Kt/7lH9lW/wDcoooAP7Kt/wC5R/ZVv/coooAP7Kt/7lH9lW/9yiigA/sq3/uUf2Xb/wByiigB6aZb/wByrUOmW4P3KKKANix06AEfLXU6VZxLjC0UUAdGtum0cUUUUAf/2Q==)"
   ]
  },
  {
   "cell_type": "code",
   "execution_count": 2,
   "id": "4331302f-7d6a-4aa2-8b3b-4f1bf0247f65",
   "metadata": {
    "executionInfo": {
     "elapsed": 1057,
     "status": "ok",
     "timestamp": 1698087581913,
     "user": {
      "displayName": "Eduardo Furlan",
      "userId": "03823929547054463581"
     },
     "user_tz": 180
    },
    "id": "4331302f-7d6a-4aa2-8b3b-4f1bf0247f65"
   },
   "outputs": [],
   "source": [
    "url = 'https://www.fdic.gov/resources/resolutions/bank-failures/failed-bank-list/'\n",
    "dfs = pd.read_html(url)"
   ]
  },
  {
   "cell_type": "code",
   "execution_count": 8,
   "id": "de9ae7c4-47a1-46f1-826c-1bf631bf7d7f",
   "metadata": {
    "colab": {
     "base_uri": "https://localhost:8080/"
    },
    "executionInfo": {
     "elapsed": 17,
     "status": "ok",
     "timestamp": 1698087814894,
     "user": {
      "displayName": "Eduardo Furlan",
      "userId": "03823929547054463581"
     },
     "user_tz": 180
    },
    "id": "de9ae7c4-47a1-46f1-826c-1bf631bf7d7f",
    "outputId": "6f08f06c-937c-4d1c-f66c-97be7c66e1e5"
   },
   "outputs": [
    {
     "data": {
      "text/plain": [
       "[                         Bank NameBank       CityCity StateSt  CertCert  \\\n",
       " 0             Heartland Tri-State Bank        Elkhart      KS     25851   \n",
       " 1                  First Republic Bank  San Francisco      CA     59017   \n",
       " 2                       Signature Bank       New York      NY     57053   \n",
       " 3                  Silicon Valley Bank    Santa Clara      CA     24735   \n",
       " 4                    Almena State Bank         Almena      KS     15426   \n",
       " ..                                 ...            ...     ...       ...   \n",
       " 562                 Superior Bank, FSB       Hinsdale      IL     32646   \n",
       " 563                Malta National Bank          Malta      OH      6629   \n",
       " 564    First Alliance Bank & Trust Co.     Manchester      NH     34264   \n",
       " 565  National State Bank of Metropolis     Metropolis      IL      3815   \n",
       " 566                   Bank of Honolulu       Honolulu      HI     21029   \n",
       " \n",
       "                  Acquiring InstitutionAI Closing DateClosing  FundFund  \n",
       " 0                 Dream First Bank, N.A.       July 28, 2023     10544  \n",
       " 1              JPMorgan Chase Bank, N.A.         May 1, 2023     10543  \n",
       " 2                    Flagstar Bank, N.A.      March 12, 2023     10540  \n",
       " 3    First–Citizens Bank & Trust Company      March 10, 2023     10539  \n",
       " 4                            Equity Bank    October 23, 2020     10538  \n",
       " ..                                   ...                 ...       ...  \n",
       " 562                Superior Federal, FSB       July 27, 2001      6004  \n",
       " 563                    North Valley Bank         May 3, 2001      4648  \n",
       " 564  Southern New Hampshire Bank & Trust    February 2, 2001      4647  \n",
       " 565              Banterra Bank of Marion   December 14, 2000      4646  \n",
       " 566                   Bank of the Orient    October 13, 2000      4645  \n",
       " \n",
       " [567 rows x 7 columns]]"
      ]
     },
     "execution_count": 8,
     "metadata": {},
     "output_type": "execute_result"
    }
   ],
   "source": [
    "dfs"
   ]
  },
  {
   "cell_type": "code",
   "execution_count": 3,
   "id": "bb365851-e500-4bf7-befc-585622621012",
   "metadata": {
    "colab": {
     "base_uri": "https://localhost:8080/",
     "height": 175
    },
    "executionInfo": {
     "elapsed": 17,
     "status": "ok",
     "timestamp": 1698087583665,
     "user": {
      "displayName": "Eduardo Furlan",
      "userId": "03823929547054463581"
     },
     "user_tz": 180
    },
    "id": "bb365851-e500-4bf7-befc-585622621012",
    "outputId": "3c8794bb-576d-4f83-d0f5-73f0003da746"
   },
   "outputs": [
    {
     "data": {
      "text/html": [
       "\n",
       "  <div id=\"df-678d3e10-ebc4-44de-83c6-165f7a080d9e\" class=\"colab-df-container\">\n",
       "    <div>\n",
       "<style scoped>\n",
       "    .dataframe tbody tr th:only-of-type {\n",
       "        vertical-align: middle;\n",
       "    }\n",
       "\n",
       "    .dataframe tbody tr th {\n",
       "        vertical-align: top;\n",
       "    }\n",
       "\n",
       "    .dataframe thead th {\n",
       "        text-align: right;\n",
       "    }\n",
       "</style>\n",
       "<table border=\"1\" class=\"dataframe\">\n",
       "  <thead>\n",
       "    <tr style=\"text-align: right;\">\n",
       "      <th></th>\n",
       "      <th>Bank NameBank</th>\n",
       "      <th>CityCity</th>\n",
       "      <th>StateSt</th>\n",
       "      <th>CertCert</th>\n",
       "      <th>Acquiring InstitutionAI</th>\n",
       "      <th>Closing DateClosing</th>\n",
       "      <th>FundFund</th>\n",
       "    </tr>\n",
       "  </thead>\n",
       "  <tbody>\n",
       "    <tr>\n",
       "      <th>0</th>\n",
       "      <td>Heartland Tri-State Bank</td>\n",
       "      <td>Elkhart</td>\n",
       "      <td>KS</td>\n",
       "      <td>25851</td>\n",
       "      <td>Dream First Bank, N.A.</td>\n",
       "      <td>July 28, 2023</td>\n",
       "      <td>10544</td>\n",
       "    </tr>\n",
       "    <tr>\n",
       "      <th>1</th>\n",
       "      <td>First Republic Bank</td>\n",
       "      <td>San Francisco</td>\n",
       "      <td>CA</td>\n",
       "      <td>59017</td>\n",
       "      <td>JPMorgan Chase Bank, N.A.</td>\n",
       "      <td>May 1, 2023</td>\n",
       "      <td>10543</td>\n",
       "    </tr>\n",
       "    <tr>\n",
       "      <th>2</th>\n",
       "      <td>Signature Bank</td>\n",
       "      <td>New York</td>\n",
       "      <td>NY</td>\n",
       "      <td>57053</td>\n",
       "      <td>Flagstar Bank, N.A.</td>\n",
       "      <td>March 12, 2023</td>\n",
       "      <td>10540</td>\n",
       "    </tr>\n",
       "    <tr>\n",
       "      <th>3</th>\n",
       "      <td>Silicon Valley Bank</td>\n",
       "      <td>Santa Clara</td>\n",
       "      <td>CA</td>\n",
       "      <td>24735</td>\n",
       "      <td>First–Citizens Bank &amp; Trust Company</td>\n",
       "      <td>March 10, 2023</td>\n",
       "      <td>10539</td>\n",
       "    </tr>\n",
       "  </tbody>\n",
       "</table>\n",
       "</div>\n",
       "    <div class=\"colab-df-buttons\">\n",
       "\n",
       "  <div class=\"colab-df-container\">\n",
       "    <button class=\"colab-df-convert\" onclick=\"convertToInteractive('df-678d3e10-ebc4-44de-83c6-165f7a080d9e')\"\n",
       "            title=\"Convert this dataframe to an interactive table.\"\n",
       "            style=\"display:none;\">\n",
       "\n",
       "  <svg xmlns=\"http://www.w3.org/2000/svg\" height=\"24px\" viewBox=\"0 -960 960 960\">\n",
       "    <path d=\"M120-120v-720h720v720H120Zm60-500h600v-160H180v160Zm220 220h160v-160H400v160Zm0 220h160v-160H400v160ZM180-400h160v-160H180v160Zm440 0h160v-160H620v160ZM180-180h160v-160H180v160Zm440 0h160v-160H620v160Z\"/>\n",
       "  </svg>\n",
       "    </button>\n",
       "\n",
       "  <style>\n",
       "    .colab-df-container {\n",
       "      display:flex;\n",
       "      gap: 12px;\n",
       "    }\n",
       "\n",
       "    .colab-df-convert {\n",
       "      background-color: #E8F0FE;\n",
       "      border: none;\n",
       "      border-radius: 50%;\n",
       "      cursor: pointer;\n",
       "      display: none;\n",
       "      fill: #1967D2;\n",
       "      height: 32px;\n",
       "      padding: 0 0 0 0;\n",
       "      width: 32px;\n",
       "    }\n",
       "\n",
       "    .colab-df-convert:hover {\n",
       "      background-color: #E2EBFA;\n",
       "      box-shadow: 0px 1px 2px rgba(60, 64, 67, 0.3), 0px 1px 3px 1px rgba(60, 64, 67, 0.15);\n",
       "      fill: #174EA6;\n",
       "    }\n",
       "\n",
       "    .colab-df-buttons div {\n",
       "      margin-bottom: 4px;\n",
       "    }\n",
       "\n",
       "    [theme=dark] .colab-df-convert {\n",
       "      background-color: #3B4455;\n",
       "      fill: #D2E3FC;\n",
       "    }\n",
       "\n",
       "    [theme=dark] .colab-df-convert:hover {\n",
       "      background-color: #434B5C;\n",
       "      box-shadow: 0px 1px 3px 1px rgba(0, 0, 0, 0.15);\n",
       "      filter: drop-shadow(0px 1px 2px rgba(0, 0, 0, 0.3));\n",
       "      fill: #FFFFFF;\n",
       "    }\n",
       "  </style>\n",
       "\n",
       "    <script>\n",
       "      const buttonEl =\n",
       "        document.querySelector('#df-678d3e10-ebc4-44de-83c6-165f7a080d9e button.colab-df-convert');\n",
       "      buttonEl.style.display =\n",
       "        google.colab.kernel.accessAllowed ? 'block' : 'none';\n",
       "\n",
       "      async function convertToInteractive(key) {\n",
       "        const element = document.querySelector('#df-678d3e10-ebc4-44de-83c6-165f7a080d9e');\n",
       "        const dataTable =\n",
       "          await google.colab.kernel.invokeFunction('convertToInteractive',\n",
       "                                                    [key], {});\n",
       "        if (!dataTable) return;\n",
       "\n",
       "        const docLinkHtml = 'Like what you see? Visit the ' +\n",
       "          '<a target=\"_blank\" href=https://colab.research.google.com/notebooks/data_table.ipynb>data table notebook</a>'\n",
       "          + ' to learn more about interactive tables.';\n",
       "        element.innerHTML = '';\n",
       "        dataTable['output_type'] = 'display_data';\n",
       "        await google.colab.output.renderOutput(dataTable, element);\n",
       "        const docLink = document.createElement('div');\n",
       "        docLink.innerHTML = docLinkHtml;\n",
       "        element.appendChild(docLink);\n",
       "      }\n",
       "    </script>\n",
       "  </div>\n",
       "\n",
       "\n",
       "<div id=\"df-99be4e85-2e07-4f4f-b4cf-059cc94c3710\">\n",
       "  <button class=\"colab-df-quickchart\" onclick=\"quickchart('df-99be4e85-2e07-4f4f-b4cf-059cc94c3710')\"\n",
       "            title=\"Suggest charts.\"\n",
       "            style=\"display:none;\">\n",
       "\n",
       "<svg xmlns=\"http://www.w3.org/2000/svg\" height=\"24px\"viewBox=\"0 0 24 24\"\n",
       "     width=\"24px\">\n",
       "    <g>\n",
       "        <path d=\"M19 3H5c-1.1 0-2 .9-2 2v14c0 1.1.9 2 2 2h14c1.1 0 2-.9 2-2V5c0-1.1-.9-2-2-2zM9 17H7v-7h2v7zm4 0h-2V7h2v10zm4 0h-2v-4h2v4z\"/>\n",
       "    </g>\n",
       "</svg>\n",
       "  </button>\n",
       "\n",
       "<style>\n",
       "  .colab-df-quickchart {\n",
       "      --bg-color: #E8F0FE;\n",
       "      --fill-color: #1967D2;\n",
       "      --hover-bg-color: #E2EBFA;\n",
       "      --hover-fill-color: #174EA6;\n",
       "      --disabled-fill-color: #AAA;\n",
       "      --disabled-bg-color: #DDD;\n",
       "  }\n",
       "\n",
       "  [theme=dark] .colab-df-quickchart {\n",
       "      --bg-color: #3B4455;\n",
       "      --fill-color: #D2E3FC;\n",
       "      --hover-bg-color: #434B5C;\n",
       "      --hover-fill-color: #FFFFFF;\n",
       "      --disabled-bg-color: #3B4455;\n",
       "      --disabled-fill-color: #666;\n",
       "  }\n",
       "\n",
       "  .colab-df-quickchart {\n",
       "    background-color: var(--bg-color);\n",
       "    border: none;\n",
       "    border-radius: 50%;\n",
       "    cursor: pointer;\n",
       "    display: none;\n",
       "    fill: var(--fill-color);\n",
       "    height: 32px;\n",
       "    padding: 0;\n",
       "    width: 32px;\n",
       "  }\n",
       "\n",
       "  .colab-df-quickchart:hover {\n",
       "    background-color: var(--hover-bg-color);\n",
       "    box-shadow: 0 1px 2px rgba(60, 64, 67, 0.3), 0 1px 3px 1px rgba(60, 64, 67, 0.15);\n",
       "    fill: var(--button-hover-fill-color);\n",
       "  }\n",
       "\n",
       "  .colab-df-quickchart-complete:disabled,\n",
       "  .colab-df-quickchart-complete:disabled:hover {\n",
       "    background-color: var(--disabled-bg-color);\n",
       "    fill: var(--disabled-fill-color);\n",
       "    box-shadow: none;\n",
       "  }\n",
       "\n",
       "  .colab-df-spinner {\n",
       "    border: 2px solid var(--fill-color);\n",
       "    border-color: transparent;\n",
       "    border-bottom-color: var(--fill-color);\n",
       "    animation:\n",
       "      spin 1s steps(1) infinite;\n",
       "  }\n",
       "\n",
       "  @keyframes spin {\n",
       "    0% {\n",
       "      border-color: transparent;\n",
       "      border-bottom-color: var(--fill-color);\n",
       "      border-left-color: var(--fill-color);\n",
       "    }\n",
       "    20% {\n",
       "      border-color: transparent;\n",
       "      border-left-color: var(--fill-color);\n",
       "      border-top-color: var(--fill-color);\n",
       "    }\n",
       "    30% {\n",
       "      border-color: transparent;\n",
       "      border-left-color: var(--fill-color);\n",
       "      border-top-color: var(--fill-color);\n",
       "      border-right-color: var(--fill-color);\n",
       "    }\n",
       "    40% {\n",
       "      border-color: transparent;\n",
       "      border-right-color: var(--fill-color);\n",
       "      border-top-color: var(--fill-color);\n",
       "    }\n",
       "    60% {\n",
       "      border-color: transparent;\n",
       "      border-right-color: var(--fill-color);\n",
       "    }\n",
       "    80% {\n",
       "      border-color: transparent;\n",
       "      border-right-color: var(--fill-color);\n",
       "      border-bottom-color: var(--fill-color);\n",
       "    }\n",
       "    90% {\n",
       "      border-color: transparent;\n",
       "      border-bottom-color: var(--fill-color);\n",
       "    }\n",
       "  }\n",
       "</style>\n",
       "\n",
       "  <script>\n",
       "    async function quickchart(key) {\n",
       "      const quickchartButtonEl =\n",
       "        document.querySelector('#' + key + ' button');\n",
       "      quickchartButtonEl.disabled = true;  // To prevent multiple clicks.\n",
       "      quickchartButtonEl.classList.add('colab-df-spinner');\n",
       "      try {\n",
       "        const charts = await google.colab.kernel.invokeFunction(\n",
       "            'suggestCharts', [key], {});\n",
       "      } catch (error) {\n",
       "        console.error('Error during call to suggestCharts:', error);\n",
       "      }\n",
       "      quickchartButtonEl.classList.remove('colab-df-spinner');\n",
       "      quickchartButtonEl.classList.add('colab-df-quickchart-complete');\n",
       "    }\n",
       "    (() => {\n",
       "      let quickchartButtonEl =\n",
       "        document.querySelector('#df-99be4e85-2e07-4f4f-b4cf-059cc94c3710 button');\n",
       "      quickchartButtonEl.style.display =\n",
       "        google.colab.kernel.accessAllowed ? 'block' : 'none';\n",
       "    })();\n",
       "  </script>\n",
       "</div>\n",
       "    </div>\n",
       "  </div>\n"
      ],
      "text/plain": [
       "              Bank NameBank       CityCity StateSt  CertCert  \\\n",
       "0  Heartland Tri-State Bank        Elkhart      KS     25851   \n",
       "1       First Republic Bank  San Francisco      CA     59017   \n",
       "2            Signature Bank       New York      NY     57053   \n",
       "3       Silicon Valley Bank    Santa Clara      CA     24735   \n",
       "\n",
       "               Acquiring InstitutionAI Closing DateClosing  FundFund  \n",
       "0               Dream First Bank, N.A.       July 28, 2023     10544  \n",
       "1            JPMorgan Chase Bank, N.A.         May 1, 2023     10543  \n",
       "2                  Flagstar Bank, N.A.      March 12, 2023     10540  \n",
       "3  First–Citizens Bank & Trust Company      March 10, 2023     10539  "
      ]
     },
     "execution_count": 3,
     "metadata": {},
     "output_type": "execute_result"
    }
   ],
   "source": [
    "df_bancos = dfs[0][0:4]\n",
    "df_bancos"
   ]
  },
  {
   "cell_type": "code",
   "execution_count": 4,
   "id": "06a59827-2721-48fb-9853-9b713d09b6a9",
   "metadata": {
    "colab": {
     "base_uri": "https://localhost:8080/"
    },
    "executionInfo": {
     "elapsed": 15,
     "status": "ok",
     "timestamp": 1698087586009,
     "user": {
      "displayName": "Eduardo Furlan",
      "userId": "03823929547054463581"
     },
     "user_tz": 180
    },
    "id": "06a59827-2721-48fb-9853-9b713d09b6a9",
    "outputId": "2bf46bda-78a9-422e-e837-438637690b53"
   },
   "outputs": [
    {
     "data": {
      "text/plain": [
       "(4, 7)"
      ]
     },
     "execution_count": 4,
     "metadata": {},
     "output_type": "execute_result"
    }
   ],
   "source": [
    "df_bancos.shape"
   ]
  },
  {
   "cell_type": "code",
   "execution_count": 5,
   "id": "3f516466-98e5-41c1-8c1f-b0c0e920a501",
   "metadata": {
    "colab": {
     "base_uri": "https://localhost:8080/"
    },
    "executionInfo": {
     "elapsed": 253,
     "status": "ok",
     "timestamp": 1698087588314,
     "user": {
      "displayName": "Eduardo Furlan",
      "userId": "03823929547054463581"
     },
     "user_tz": 180
    },
    "id": "3f516466-98e5-41c1-8c1f-b0c0e920a501",
    "outputId": "970f6b5f-c97d-4434-e967-89205aa57f0b"
   },
   "outputs": [
    {
     "data": {
      "text/plain": [
       "Bank NameBank              object\n",
       "CityCity                   object\n",
       "StateSt                    object\n",
       "CertCert                    int64\n",
       "Acquiring InstitutionAI    object\n",
       "Closing DateClosing        object\n",
       "FundFund                    int64\n",
       "dtype: object"
      ]
     },
     "execution_count": 5,
     "metadata": {},
     "output_type": "execute_result"
    }
   ],
   "source": [
    "df_bancos.dtypes"
   ]
  }
 ],
 "metadata": {
  "colab": {
   "provenance": []
  },
  "kernelspec": {
   "display_name": "Python 3 (ipykernel)",
   "language": "python",
   "name": "python3"
  },
  "language_info": {
   "codemirror_mode": {
    "name": "ipython",
    "version": 3
   },
   "file_extension": ".py",
   "mimetype": "text/x-python",
   "name": "python",
   "nbconvert_exporter": "python",
   "pygments_lexer": "ipython3",
   "version": "3.12.5"
  }
 },
 "nbformat": 4,
 "nbformat_minor": 5
}
