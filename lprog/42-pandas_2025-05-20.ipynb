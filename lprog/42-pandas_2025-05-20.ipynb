{
 "cells": [
  {
   "cell_type": "markdown",
   "metadata": {
    "id": "Y0--SpA1MQt4"
   },
   "source": [
    "# Introdução à manipulação de dados em Pandas\n",
    "\n",
    "- A biblioteca pandas foi desenvolvida para trabalhar com dados estruturados, ou seja, dados dispostos em linhas e colunas.\n",
    "- Os dados podem estar gravados em arquivos, em páginas web, em APIs, em outros softwares, em object stores (sistemas de armazenamento em cloud) ou em bancos de dados.\n",
    "- Para todas essas origens (e até mais), a biblioteca possui métodos capazes de fazer a leitura dos dados e carregar em um DataFrame.\n",
    "- Todos os métodos capazes de fazer a leitura dos dados estruturados possuem prefixo pd.read_XXX, onde pd é o apelido dado no momento da importação da biblioteca, e XXX é o restante da sintaxe do método.\n",
    "- Além de fazer a leitura a biblioteca possui diversos métodos capazes de escrever o DataFrame em um arquivo, em um banco ou ainda simplesmente copiar para a área de transferência do sistema operacional."
   ]
  },
  {
   "cell_type": "code",
   "execution_count": 1,
   "metadata": {
    "executionInfo": {
     "elapsed": 712,
     "status": "ok",
     "timestamp": 1698620054359,
     "user": {
      "displayName": "Eduardo Furlan",
      "userId": "03823929547054463581"
     },
     "user_tz": 180
    },
    "id": "r6YOLNNhMGLp"
   },
   "outputs": [],
   "source": [
    "import pandas as pd"
   ]
  },
  {
   "cell_type": "markdown",
   "metadata": {
    "id": "fveFQh_n3asM"
   },
   "source": [
    "### Lê um arquivo CSV de um endereço na Internet"
   ]
  },
  {
   "cell_type": "markdown",
   "metadata": {
    "id": "i_6GH6-qqLga"
   },
   "source": [
    "Primeiro usando o SO:"
   ]
  },
  {
   "cell_type": "code",
   "execution_count": 2,
   "metadata": {
    "colab": {
     "base_uri": "https://localhost:8080/"
    },
    "executionInfo": {
     "elapsed": 729,
     "status": "ok",
     "timestamp": 1698620354882,
     "user": {
      "displayName": "Eduardo Furlan",
      "userId": "03823929547054463581"
     },
     "user_tz": 180
    },
    "id": "oqWh0mAYpdhI",
    "outputId": "6e208e3b-2708-4a87-8568-8005bf7f63d0"
   },
   "outputs": [
    {
     "name": "stdout",
     "output_type": "stream",
     "text": [
      "--2025-05-20 14:15:31--  https://people.sc.fsu.edu/~jburkardt/data/csv/cities.csv\n",
      "Resolving people.sc.fsu.edu (people.sc.fsu.edu)... 144.174.0.22\n",
      "Connecting to people.sc.fsu.edu (people.sc.fsu.edu)|144.174.0.22|:443... connected.\n",
      "HTTP request sent, awaiting response... 200 OK\n",
      "Length: 8402 (8,2K) [text/csv]\n",
      "Saving to: ‘cities.csv’\n",
      "\n",
      "cities.csv          100%[===================>]   8,21K  --.-KB/s    in 0s      \n",
      "\n",
      "2025-05-20 14:15:32 (40,8 MB/s) - ‘cities.csv’ saved [8402/8402]\n",
      "\n"
     ]
    }
   ],
   "source": [
    "! wget https://people.sc.fsu.edu/~jburkardt/data/csv/cities.csv"
   ]
  },
  {
   "cell_type": "code",
   "execution_count": 5,
   "metadata": {
    "colab": {
     "base_uri": "https://localhost:8080/"
    },
    "executionInfo": {
     "elapsed": 31,
     "status": "ok",
     "timestamp": 1698620280541,
     "user": {
      "displayName": "Eduardo Furlan",
      "userId": "03823929547054463581"
     },
     "user_tz": 180
    },
    "id": "XJlmGOBhqF1p",
    "outputId": "243caf41-986d-4e98-9c96-56b1811f427f"
   },
   "outputs": [
    {
     "name": "stdout",
     "output_type": "stream",
     "text": [
      "\"LatD\", \"LatM\", \"LatS\", \"NS\", \"LonD\", \"LonM\", \"LonS\", \"EW\", \"City\", \"State\"\n",
      "   41,    5,   59, \"N\",     80,   39,    0, \"W\", \"Youngstown\", OH\n",
      "   42,   52,   48, \"N\",     97,   23,   23, \"W\", \"Yankton\", SD\n",
      "   46,   35,   59, \"N\",    120,   30,   36, \"W\", \"Yakima\", WA\n",
      "   42,   16,   12, \"N\",     71,   48,    0, \"W\", \"Worcester\", MA\n",
      "   43,   37,   48, \"N\",     89,   46,   11, \"W\", \"Wisconsin Dells\", WI\n",
      "   36,    5,   59, \"N\",     80,   15,    0, \"W\", \"Winston-Salem\", NC\n",
      "   49,   52,   48, \"N\",     97,    9,    0, \"W\", \"Winnipeg\", MB\n",
      "   39,   11,   23, \"N\",     78,    9,   36, \"W\", \"Winchester\", VA\n",
      "   34,   14,   24, \"N\",     77,   55,   11, \"W\", \"Wilmington\", NC\n"
     ]
    }
   ],
   "source": [
    "! cat cities.csv | head"
   ]
  },
  {
   "cell_type": "markdown",
   "metadata": {
    "id": "IU5sC8Fwqc5Q"
   },
   "source": [
    "Agora usando Pandas:"
   ]
  },
  {
   "cell_type": "code",
   "execution_count": 3,
   "metadata": {
    "colab": {
     "base_uri": "https://localhost:8080/",
     "height": 206
    },
    "executionInfo": {
     "elapsed": 711,
     "status": "ok",
     "timestamp": 1698620058567,
     "user": {
      "displayName": "Eduardo Furlan",
      "userId": "03823929547054463581"
     },
     "user_tz": 180
    },
    "id": "HdMa-w_LNIPu",
    "outputId": "cc993e8a-e1d1-47e1-e667-ae945e7c48af"
   },
   "outputs": [
    {
     "data": {
      "text/html": [
       "<div>\n",
       "<style scoped>\n",
       "    .dataframe tbody tr th:only-of-type {\n",
       "        vertical-align: middle;\n",
       "    }\n",
       "\n",
       "    .dataframe tbody tr th {\n",
       "        vertical-align: top;\n",
       "    }\n",
       "\n",
       "    .dataframe thead th {\n",
       "        text-align: right;\n",
       "    }\n",
       "</style>\n",
       "<table border=\"1\" class=\"dataframe\">\n",
       "  <thead>\n",
       "    <tr style=\"text-align: right;\">\n",
       "      <th></th>\n",
       "      <th>LatD</th>\n",
       "      <th>\"LatM\"</th>\n",
       "      <th>\"LatS\"</th>\n",
       "      <th>\"NS\"</th>\n",
       "      <th>\"LonD\"</th>\n",
       "      <th>\"LonM\"</th>\n",
       "      <th>\"LonS\"</th>\n",
       "      <th>\"EW\"</th>\n",
       "      <th>\"City\"</th>\n",
       "      <th>\"State\"</th>\n",
       "    </tr>\n",
       "  </thead>\n",
       "  <tbody>\n",
       "    <tr>\n",
       "      <th>0</th>\n",
       "      <td>41</td>\n",
       "      <td>5</td>\n",
       "      <td>59</td>\n",
       "      <td>\"N\"</td>\n",
       "      <td>80</td>\n",
       "      <td>39</td>\n",
       "      <td>0</td>\n",
       "      <td>\"W\"</td>\n",
       "      <td>\"Youngstown\"</td>\n",
       "      <td>OH</td>\n",
       "    </tr>\n",
       "    <tr>\n",
       "      <th>1</th>\n",
       "      <td>42</td>\n",
       "      <td>52</td>\n",
       "      <td>48</td>\n",
       "      <td>\"N\"</td>\n",
       "      <td>97</td>\n",
       "      <td>23</td>\n",
       "      <td>23</td>\n",
       "      <td>\"W\"</td>\n",
       "      <td>\"Yankton\"</td>\n",
       "      <td>SD</td>\n",
       "    </tr>\n",
       "    <tr>\n",
       "      <th>2</th>\n",
       "      <td>46</td>\n",
       "      <td>35</td>\n",
       "      <td>59</td>\n",
       "      <td>\"N\"</td>\n",
       "      <td>120</td>\n",
       "      <td>30</td>\n",
       "      <td>36</td>\n",
       "      <td>\"W\"</td>\n",
       "      <td>\"Yakima\"</td>\n",
       "      <td>WA</td>\n",
       "    </tr>\n",
       "    <tr>\n",
       "      <th>3</th>\n",
       "      <td>42</td>\n",
       "      <td>16</td>\n",
       "      <td>12</td>\n",
       "      <td>\"N\"</td>\n",
       "      <td>71</td>\n",
       "      <td>48</td>\n",
       "      <td>0</td>\n",
       "      <td>\"W\"</td>\n",
       "      <td>\"Worcester\"</td>\n",
       "      <td>MA</td>\n",
       "    </tr>\n",
       "    <tr>\n",
       "      <th>4</th>\n",
       "      <td>43</td>\n",
       "      <td>37</td>\n",
       "      <td>48</td>\n",
       "      <td>\"N\"</td>\n",
       "      <td>89</td>\n",
       "      <td>46</td>\n",
       "      <td>11</td>\n",
       "      <td>\"W\"</td>\n",
       "      <td>\"Wisconsin Dells\"</td>\n",
       "      <td>WI</td>\n",
       "    </tr>\n",
       "  </tbody>\n",
       "</table>\n",
       "</div>"
      ],
      "text/plain": [
       "   LatD   \"LatM\"   \"LatS\"  \"NS\"   \"LonD\"   \"LonM\"   \"LonS\"  \"EW\"  \\\n",
       "0    41        5       59   \"N\"       80       39        0   \"W\"   \n",
       "1    42       52       48   \"N\"       97       23       23   \"W\"   \n",
       "2    46       35       59   \"N\"      120       30       36   \"W\"   \n",
       "3    42       16       12   \"N\"       71       48        0   \"W\"   \n",
       "4    43       37       48   \"N\"       89       46       11   \"W\"   \n",
       "\n",
       "               \"City\"  \"State\"  \n",
       "0        \"Youngstown\"       OH  \n",
       "1           \"Yankton\"       SD  \n",
       "2            \"Yakima\"       WA  \n",
       "3         \"Worcester\"       MA  \n",
       "4   \"Wisconsin Dells\"       WI  "
      ]
     },
     "execution_count": 3,
     "metadata": {},
     "output_type": "execute_result"
    }
   ],
   "source": [
    "pd.read_csv(\"https://people.sc.fsu.edu/~jburkardt/data/csv/cities.csv\").head()"
   ]
  },
  {
   "cell_type": "markdown",
   "metadata": {
    "id": "gMwVb2a3QV54"
   },
   "source": [
    "### Eliminia duplicados"
   ]
  },
  {
   "cell_type": "code",
   "execution_count": 4,
   "metadata": {
    "colab": {
     "base_uri": "https://localhost:8080/",
     "height": 144
    },
    "executionInfo": {
     "elapsed": 294,
     "status": "ok",
     "timestamp": 1698620443602,
     "user": {
      "displayName": "Eduardo Furlan",
      "userId": "03823929547054463581"
     },
     "user_tz": 180
    },
    "id": "Ljtj96NIQlsf",
    "outputId": "94887c4a-fd05-432c-8a02-efebf2e32d21"
   },
   "outputs": [
    {
     "data": {
      "text/html": [
       "<div>\n",
       "<style scoped>\n",
       "    .dataframe tbody tr th:only-of-type {\n",
       "        vertical-align: middle;\n",
       "    }\n",
       "\n",
       "    .dataframe tbody tr th {\n",
       "        vertical-align: top;\n",
       "    }\n",
       "\n",
       "    .dataframe thead th {\n",
       "        text-align: right;\n",
       "    }\n",
       "</style>\n",
       "<table border=\"1\" class=\"dataframe\">\n",
       "  <thead>\n",
       "    <tr style=\"text-align: right;\">\n",
       "      <th></th>\n",
       "      <th>A</th>\n",
       "      <th>B</th>\n",
       "      <th>C</th>\n",
       "    </tr>\n",
       "  </thead>\n",
       "  <tbody>\n",
       "    <tr>\n",
       "      <th>0</th>\n",
       "      <td>TeamA</td>\n",
       "      <td>50</td>\n",
       "      <td>True</td>\n",
       "    </tr>\n",
       "    <tr>\n",
       "      <th>1</th>\n",
       "      <td>TeamB</td>\n",
       "      <td>40</td>\n",
       "      <td>False</td>\n",
       "    </tr>\n",
       "    <tr>\n",
       "      <th>3</th>\n",
       "      <td>TeamC</td>\n",
       "      <td>30</td>\n",
       "      <td>False</td>\n",
       "    </tr>\n",
       "  </tbody>\n",
       "</table>\n",
       "</div>"
      ],
      "text/plain": [
       "       A   B      C\n",
       "0  TeamA  50   True\n",
       "1  TeamB  40  False\n",
       "3  TeamC  30  False"
      ]
     },
     "metadata": {},
     "output_type": "display_data"
    }
   ],
   "source": [
    "data = {\n",
    "    \"A\": [\"TeamA\", \"TeamB\", \"TeamB\", \"TeamC\", \"TeamA\"],\n",
    "    \"B\": [50, 40, 40, 30, 50],\n",
    "    \"C\": [True, False, False, False, True]\n",
    "}\n",
    "\n",
    "df = pd.DataFrame(data)\n",
    "\n",
    "display(df.drop_duplicates())"
   ]
  },
  {
   "cell_type": "markdown",
   "metadata": {
    "id": "VGPXsn563asX"
   },
   "source": [
    "## Cria nova coluna\n",
    "\n",
    "No dataframe anterior"
   ]
  },
  {
   "cell_type": "code",
   "execution_count": 5,
   "metadata": {
    "executionInfo": {
     "elapsed": 276,
     "status": "ok",
     "timestamp": 1698623091179,
     "user": {
      "displayName": "Eduardo Furlan",
      "userId": "03823929547054463581"
     },
     "user_tz": 180
    },
    "id": "L6CWIF7Q3asY"
   },
   "outputs": [],
   "source": [
    "df[\"D\"] = [\"a\", \"b\", \"c\", \"d\", \"e\"]"
   ]
  },
  {
   "cell_type": "code",
   "execution_count": 6,
   "metadata": {
    "colab": {
     "base_uri": "https://localhost:8080/",
     "height": 206
    },
    "executionInfo": {
     "elapsed": 277,
     "status": "ok",
     "timestamp": 1698623095085,
     "user": {
      "displayName": "Eduardo Furlan",
      "userId": "03823929547054463581"
     },
     "user_tz": 180
    },
    "id": "kMRmDdmm3asZ",
    "outputId": "f31fce80-dbfc-42cd-962e-fb3f323c42f4",
    "scrolled": true
   },
   "outputs": [
    {
     "data": {
      "text/html": [
       "<div>\n",
       "<style scoped>\n",
       "    .dataframe tbody tr th:only-of-type {\n",
       "        vertical-align: middle;\n",
       "    }\n",
       "\n",
       "    .dataframe tbody tr th {\n",
       "        vertical-align: top;\n",
       "    }\n",
       "\n",
       "    .dataframe thead th {\n",
       "        text-align: right;\n",
       "    }\n",
       "</style>\n",
       "<table border=\"1\" class=\"dataframe\">\n",
       "  <thead>\n",
       "    <tr style=\"text-align: right;\">\n",
       "      <th></th>\n",
       "      <th>A</th>\n",
       "      <th>B</th>\n",
       "      <th>C</th>\n",
       "      <th>D</th>\n",
       "    </tr>\n",
       "  </thead>\n",
       "  <tbody>\n",
       "    <tr>\n",
       "      <th>0</th>\n",
       "      <td>TeamA</td>\n",
       "      <td>50</td>\n",
       "      <td>True</td>\n",
       "      <td>a</td>\n",
       "    </tr>\n",
       "    <tr>\n",
       "      <th>1</th>\n",
       "      <td>TeamB</td>\n",
       "      <td>40</td>\n",
       "      <td>False</td>\n",
       "      <td>b</td>\n",
       "    </tr>\n",
       "    <tr>\n",
       "      <th>2</th>\n",
       "      <td>TeamB</td>\n",
       "      <td>40</td>\n",
       "      <td>False</td>\n",
       "      <td>c</td>\n",
       "    </tr>\n",
       "    <tr>\n",
       "      <th>3</th>\n",
       "      <td>TeamC</td>\n",
       "      <td>30</td>\n",
       "      <td>False</td>\n",
       "      <td>d</td>\n",
       "    </tr>\n",
       "    <tr>\n",
       "      <th>4</th>\n",
       "      <td>TeamA</td>\n",
       "      <td>50</td>\n",
       "      <td>True</td>\n",
       "      <td>e</td>\n",
       "    </tr>\n",
       "  </tbody>\n",
       "</table>\n",
       "</div>"
      ],
      "text/plain": [
       "       A   B      C  D\n",
       "0  TeamA  50   True  a\n",
       "1  TeamB  40  False  b\n",
       "2  TeamB  40  False  c\n",
       "3  TeamC  30  False  d\n",
       "4  TeamA  50   True  e"
      ]
     },
     "execution_count": 6,
     "metadata": {},
     "output_type": "execute_result"
    }
   ],
   "source": [
    "df"
   ]
  },
  {
   "cell_type": "markdown",
   "metadata": {
    "id": "TDbM6oS93asb"
   },
   "source": [
    "### Lê um arquivo JSON de um endereço na Internet"
   ]
  },
  {
   "cell_type": "code",
   "execution_count": 11,
   "metadata": {
    "colab": {
     "base_uri": "https://localhost:8080/",
     "height": 206
    },
    "executionInfo": {
     "elapsed": 2914,
     "status": "ok",
     "timestamp": 1698623099786,
     "user": {
      "displayName": "Eduardo Furlan",
      "userId": "03823929547054463581"
     },
     "user_tz": 180
    },
    "id": "z6bn8QZxM44M",
    "outputId": "b1050be3-9e49-460e-80d5-a4ce0404cfe0"
   },
   "outputs": [
    {
     "data": {
      "text/html": [
       "<div>\n",
       "<style scoped>\n",
       "    .dataframe tbody tr th:only-of-type {\n",
       "        vertical-align: middle;\n",
       "    }\n",
       "\n",
       "    .dataframe tbody tr th {\n",
       "        vertical-align: top;\n",
       "    }\n",
       "\n",
       "    .dataframe thead th {\n",
       "        text-align: right;\n",
       "    }\n",
       "</style>\n",
       "<table border=\"1\" class=\"dataframe\">\n",
       "  <thead>\n",
       "    <tr style=\"text-align: right;\">\n",
       "      <th></th>\n",
       "      <th>data</th>\n",
       "      <th>valor</th>\n",
       "    </tr>\n",
       "  </thead>\n",
       "  <tbody>\n",
       "    <tr>\n",
       "      <th>0</th>\n",
       "      <td>02/05/2025</td>\n",
       "      <td>0.052531</td>\n",
       "    </tr>\n",
       "    <tr>\n",
       "      <th>1</th>\n",
       "      <td>05/05/2025</td>\n",
       "      <td>0.052531</td>\n",
       "    </tr>\n",
       "    <tr>\n",
       "      <th>2</th>\n",
       "      <td>06/05/2025</td>\n",
       "      <td>0.052531</td>\n",
       "    </tr>\n",
       "    <tr>\n",
       "      <th>3</th>\n",
       "      <td>07/05/2025</td>\n",
       "      <td>0.052531</td>\n",
       "    </tr>\n",
       "    <tr>\n",
       "      <th>4</th>\n",
       "      <td>08/05/2025</td>\n",
       "      <td>0.054266</td>\n",
       "    </tr>\n",
       "  </tbody>\n",
       "</table>\n",
       "</div>"
      ],
      "text/plain": [
       "         data     valor\n",
       "0  02/05/2025  0.052531\n",
       "1  05/05/2025  0.052531\n",
       "2  06/05/2025  0.052531\n",
       "3  07/05/2025  0.052531\n",
       "4  08/05/2025  0.054266"
      ]
     },
     "execution_count": 11,
     "metadata": {},
     "output_type": "execute_result"
    }
   ],
   "source": [
    "df_selic = pd.read_json(\"https://api.bcb.gov.br/dados/serie/bcdata.sgs.11/dados?formato=json&dataInicial=01/05/2025\")\n",
    "df_selic.head()"
   ]
  },
  {
   "cell_type": "code",
   "execution_count": 12,
   "metadata": {
    "colab": {
     "base_uri": "https://localhost:8080/"
    },
    "executionInfo": {
     "elapsed": 271,
     "status": "ok",
     "timestamp": 1698623106078,
     "user": {
      "displayName": "Eduardo Furlan",
      "userId": "03823929547054463581"
     },
     "user_tz": 180
    },
    "id": "QxKoNConNgtU",
    "outputId": "e3ee0cfd-9700-48ed-d428-aee86acd0ded"
   },
   "outputs": [
    {
     "name": "stdout",
     "output_type": "stream",
     "text": [
      "<class 'pandas.core.frame.DataFrame'>\n",
      "RangeIndex: 12 entries, 0 to 11\n",
      "Data columns (total 2 columns):\n",
      " #   Column  Non-Null Count  Dtype  \n",
      "---  ------  --------------  -----  \n",
      " 0   data    12 non-null     object \n",
      " 1   valor   12 non-null     float64\n",
      "dtypes: float64(1), object(1)\n",
      "memory usage: 324.0+ bytes\n"
     ]
    }
   ],
   "source": [
    "df_selic.info()"
   ]
  },
  {
   "cell_type": "markdown",
   "metadata": {
    "id": "Sl9oPe3V3ase"
   },
   "source": [
    "### Acrescenta uma coluna com data"
   ]
  },
  {
   "cell_type": "code",
   "execution_count": 13,
   "metadata": {
    "executionInfo": {
     "elapsed": 7,
     "status": "ok",
     "timestamp": 1698623116166,
     "user": {
      "displayName": "Eduardo Furlan",
      "userId": "03823929547054463581"
     },
     "user_tz": 180
    },
    "id": "KbhQVfWs3asf"
   },
   "outputs": [],
   "source": [
    "from datetime import date"
   ]
  },
  {
   "cell_type": "code",
   "execution_count": 14,
   "metadata": {
    "executionInfo": {
     "elapsed": 291,
     "status": "ok",
     "timestamp": 1698623133634,
     "user": {
      "displayName": "Eduardo Furlan",
      "userId": "03823929547054463581"
     },
     "user_tz": 180
    },
    "id": "SaLSTAvr3asg"
   },
   "outputs": [],
   "source": [
    "data_extracao = date.today()\n",
    "df_selic['data_extracao'] = data_extracao"
   ]
  },
  {
   "cell_type": "code",
   "execution_count": 15,
   "metadata": {
    "colab": {
     "base_uri": "https://localhost:8080/",
     "height": 206
    },
    "executionInfo": {
     "elapsed": 281,
     "status": "ok",
     "timestamp": 1698623138104,
     "user": {
      "displayName": "Eduardo Furlan",
      "userId": "03823929547054463581"
     },
     "user_tz": 180
    },
    "id": "eK3-JcPa3asg",
    "outputId": "18df408e-c40d-4a99-98bb-3049bce5e5d3"
   },
   "outputs": [
    {
     "data": {
      "text/html": [
       "<div>\n",
       "<style scoped>\n",
       "    .dataframe tbody tr th:only-of-type {\n",
       "        vertical-align: middle;\n",
       "    }\n",
       "\n",
       "    .dataframe tbody tr th {\n",
       "        vertical-align: top;\n",
       "    }\n",
       "\n",
       "    .dataframe thead th {\n",
       "        text-align: right;\n",
       "    }\n",
       "</style>\n",
       "<table border=\"1\" class=\"dataframe\">\n",
       "  <thead>\n",
       "    <tr style=\"text-align: right;\">\n",
       "      <th></th>\n",
       "      <th>data</th>\n",
       "      <th>valor</th>\n",
       "      <th>data_extracao</th>\n",
       "    </tr>\n",
       "  </thead>\n",
       "  <tbody>\n",
       "    <tr>\n",
       "      <th>0</th>\n",
       "      <td>02/05/2025</td>\n",
       "      <td>0.052531</td>\n",
       "      <td>2025-05-20</td>\n",
       "    </tr>\n",
       "    <tr>\n",
       "      <th>1</th>\n",
       "      <td>05/05/2025</td>\n",
       "      <td>0.052531</td>\n",
       "      <td>2025-05-20</td>\n",
       "    </tr>\n",
       "    <tr>\n",
       "      <th>2</th>\n",
       "      <td>06/05/2025</td>\n",
       "      <td>0.052531</td>\n",
       "      <td>2025-05-20</td>\n",
       "    </tr>\n",
       "    <tr>\n",
       "      <th>3</th>\n",
       "      <td>07/05/2025</td>\n",
       "      <td>0.052531</td>\n",
       "      <td>2025-05-20</td>\n",
       "    </tr>\n",
       "    <tr>\n",
       "      <th>4</th>\n",
       "      <td>08/05/2025</td>\n",
       "      <td>0.054266</td>\n",
       "      <td>2025-05-20</td>\n",
       "    </tr>\n",
       "  </tbody>\n",
       "</table>\n",
       "</div>"
      ],
      "text/plain": [
       "         data     valor data_extracao\n",
       "0  02/05/2025  0.052531    2025-05-20\n",
       "1  05/05/2025  0.052531    2025-05-20\n",
       "2  06/05/2025  0.052531    2025-05-20\n",
       "3  07/05/2025  0.052531    2025-05-20\n",
       "4  08/05/2025  0.054266    2025-05-20"
      ]
     },
     "execution_count": 15,
     "metadata": {},
     "output_type": "execute_result"
    }
   ],
   "source": [
    "df_selic.head()"
   ]
  },
  {
   "cell_type": "markdown",
   "metadata": {
    "id": "LIFbSxme1EzW"
   },
   "source": [
    "Mostra a estrutura do dataframe:"
   ]
  },
  {
   "cell_type": "code",
   "execution_count": 16,
   "metadata": {
    "colab": {
     "base_uri": "https://localhost:8080/"
    },
    "executionInfo": {
     "elapsed": 334,
     "status": "ok",
     "timestamp": 1695072786535,
     "user": {
      "displayName": "Eduardo Furlan",
      "userId": "03823929547054463581"
     },
     "user_tz": 180
    },
    "id": "xC1GdRVH3ash",
    "outputId": "bcba2d60-83d2-4df3-9034-4a447566908a"
   },
   "outputs": [
    {
     "name": "stdout",
     "output_type": "stream",
     "text": [
      "<class 'pandas.core.frame.DataFrame'>\n",
      "RangeIndex: 12 entries, 0 to 11\n",
      "Data columns (total 3 columns):\n",
      " #   Column         Non-Null Count  Dtype  \n",
      "---  ------         --------------  -----  \n",
      " 0   data           12 non-null     object \n",
      " 1   valor          12 non-null     float64\n",
      " 2   data_extracao  12 non-null     object \n",
      "dtypes: float64(1), object(2)\n",
      "memory usage: 420.0+ bytes\n"
     ]
    }
   ],
   "source": [
    "df_selic.info()"
   ]
  },
  {
   "cell_type": "markdown",
   "metadata": {
    "id": "emkajdo63ash"
   },
   "source": [
    "As 2 colunas de data são do tipo \"object\"."
   ]
  },
  {
   "cell_type": "markdown",
   "metadata": {
    "id": "FMLZWBEz3asi"
   },
   "source": [
    "## to_datetime() e astype()"
   ]
  },
  {
   "cell_type": "markdown",
   "metadata": {
    "id": "3wSSOLoC3asi"
   },
   "source": [
    "Convertendo a coluna `data` para o formato datetime64 do pandas. \"[ns]\" significa nano segundos."
   ]
  },
  {
   "cell_type": "code",
   "execution_count": 17,
   "metadata": {
    "executionInfo": {
     "elapsed": 274,
     "status": "ok",
     "timestamp": 1698623179729,
     "user": {
      "displayName": "Eduardo Furlan",
      "userId": "03823929547054463581"
     },
     "user_tz": 180
    },
    "id": "CXFbVaZr3asi"
   },
   "outputs": [],
   "source": [
    "df_selic['data'] = pd.to_datetime(df_selic['data'], dayfirst=True)"
   ]
  },
  {
   "cell_type": "code",
   "execution_count": 18,
   "metadata": {
    "colab": {
     "base_uri": "https://localhost:8080/",
     "height": 206
    },
    "executionInfo": {
     "elapsed": 294,
     "status": "ok",
     "timestamp": 1698623181767,
     "user": {
      "displayName": "Eduardo Furlan",
      "userId": "03823929547054463581"
     },
     "user_tz": 180
    },
    "id": "X4q5TXEq3asi",
    "outputId": "76d1f84f-0fdd-4ad8-a75d-f191164f4e1f"
   },
   "outputs": [
    {
     "data": {
      "text/html": [
       "<div>\n",
       "<style scoped>\n",
       "    .dataframe tbody tr th:only-of-type {\n",
       "        vertical-align: middle;\n",
       "    }\n",
       "\n",
       "    .dataframe tbody tr th {\n",
       "        vertical-align: top;\n",
       "    }\n",
       "\n",
       "    .dataframe thead th {\n",
       "        text-align: right;\n",
       "    }\n",
       "</style>\n",
       "<table border=\"1\" class=\"dataframe\">\n",
       "  <thead>\n",
       "    <tr style=\"text-align: right;\">\n",
       "      <th></th>\n",
       "      <th>data</th>\n",
       "      <th>valor</th>\n",
       "      <th>data_extracao</th>\n",
       "    </tr>\n",
       "  </thead>\n",
       "  <tbody>\n",
       "    <tr>\n",
       "      <th>0</th>\n",
       "      <td>2025-05-02</td>\n",
       "      <td>0.052531</td>\n",
       "      <td>2025-05-20</td>\n",
       "    </tr>\n",
       "    <tr>\n",
       "      <th>1</th>\n",
       "      <td>2025-05-05</td>\n",
       "      <td>0.052531</td>\n",
       "      <td>2025-05-20</td>\n",
       "    </tr>\n",
       "    <tr>\n",
       "      <th>2</th>\n",
       "      <td>2025-05-06</td>\n",
       "      <td>0.052531</td>\n",
       "      <td>2025-05-20</td>\n",
       "    </tr>\n",
       "    <tr>\n",
       "      <th>3</th>\n",
       "      <td>2025-05-07</td>\n",
       "      <td>0.052531</td>\n",
       "      <td>2025-05-20</td>\n",
       "    </tr>\n",
       "    <tr>\n",
       "      <th>4</th>\n",
       "      <td>2025-05-08</td>\n",
       "      <td>0.054266</td>\n",
       "      <td>2025-05-20</td>\n",
       "    </tr>\n",
       "  </tbody>\n",
       "</table>\n",
       "</div>"
      ],
      "text/plain": [
       "        data     valor data_extracao\n",
       "0 2025-05-02  0.052531    2025-05-20\n",
       "1 2025-05-05  0.052531    2025-05-20\n",
       "2 2025-05-06  0.052531    2025-05-20\n",
       "3 2025-05-07  0.052531    2025-05-20\n",
       "4 2025-05-08  0.054266    2025-05-20"
      ]
     },
     "execution_count": 18,
     "metadata": {},
     "output_type": "execute_result"
    }
   ],
   "source": [
    "df_selic.head()"
   ]
  },
  {
   "cell_type": "code",
   "execution_count": 19,
   "metadata": {
    "colab": {
     "base_uri": "https://localhost:8080/"
    },
    "executionInfo": {
     "elapsed": 270,
     "status": "ok",
     "timestamp": 1698623186267,
     "user": {
      "displayName": "Eduardo Furlan",
      "userId": "03823929547054463581"
     },
     "user_tz": 180
    },
    "id": "-YxGCzMy3asj",
    "outputId": "dd97b13e-db19-4edd-b80d-2b05d6032566"
   },
   "outputs": [
    {
     "name": "stdout",
     "output_type": "stream",
     "text": [
      "<class 'pandas.core.frame.DataFrame'>\n",
      "RangeIndex: 12 entries, 0 to 11\n",
      "Data columns (total 3 columns):\n",
      " #   Column         Non-Null Count  Dtype         \n",
      "---  ------         --------------  -----         \n",
      " 0   data           12 non-null     datetime64[ns]\n",
      " 1   valor          12 non-null     float64       \n",
      " 2   data_extracao  12 non-null     object        \n",
      "dtypes: datetime64[ns](1), float64(1), object(1)\n",
      "memory usage: 420.0+ bytes\n"
     ]
    }
   ],
   "source": [
    "df_selic.info()"
   ]
  },
  {
   "cell_type": "markdown",
   "metadata": {
    "id": "Xb8T5CxI3asj"
   },
   "source": [
    "Convertendo a coluna \"data_extração\" usando o método astype() para fazer conversão de tipo:"
   ]
  },
  {
   "cell_type": "code",
   "execution_count": 20,
   "metadata": {
    "executionInfo": {
     "elapsed": 284,
     "status": "ok",
     "timestamp": 1698623218231,
     "user": {
      "displayName": "Eduardo Furlan",
      "userId": "03823929547054463581"
     },
     "user_tz": 180
    },
    "id": "7FAlrNeu3ask"
   },
   "outputs": [],
   "source": [
    "df_selic['data_extracao'] = df_selic['data_extracao'].astype('datetime64[ns]')"
   ]
  },
  {
   "cell_type": "code",
   "execution_count": 21,
   "metadata": {
    "colab": {
     "base_uri": "https://localhost:8080/",
     "height": 206
    },
    "executionInfo": {
     "elapsed": 285,
     "status": "ok",
     "timestamp": 1698623221411,
     "user": {
      "displayName": "Eduardo Furlan",
      "userId": "03823929547054463581"
     },
     "user_tz": 180
    },
    "id": "SdrwI5_l3ask",
    "outputId": "d1ce9206-a22d-44dd-ca58-81dc5cef6cea"
   },
   "outputs": [
    {
     "data": {
      "text/html": [
       "<div>\n",
       "<style scoped>\n",
       "    .dataframe tbody tr th:only-of-type {\n",
       "        vertical-align: middle;\n",
       "    }\n",
       "\n",
       "    .dataframe tbody tr th {\n",
       "        vertical-align: top;\n",
       "    }\n",
       "\n",
       "    .dataframe thead th {\n",
       "        text-align: right;\n",
       "    }\n",
       "</style>\n",
       "<table border=\"1\" class=\"dataframe\">\n",
       "  <thead>\n",
       "    <tr style=\"text-align: right;\">\n",
       "      <th></th>\n",
       "      <th>data</th>\n",
       "      <th>valor</th>\n",
       "      <th>data_extracao</th>\n",
       "    </tr>\n",
       "  </thead>\n",
       "  <tbody>\n",
       "    <tr>\n",
       "      <th>0</th>\n",
       "      <td>2025-05-02</td>\n",
       "      <td>0.052531</td>\n",
       "      <td>2025-05-20</td>\n",
       "    </tr>\n",
       "    <tr>\n",
       "      <th>1</th>\n",
       "      <td>2025-05-05</td>\n",
       "      <td>0.052531</td>\n",
       "      <td>2025-05-20</td>\n",
       "    </tr>\n",
       "    <tr>\n",
       "      <th>2</th>\n",
       "      <td>2025-05-06</td>\n",
       "      <td>0.052531</td>\n",
       "      <td>2025-05-20</td>\n",
       "    </tr>\n",
       "    <tr>\n",
       "      <th>3</th>\n",
       "      <td>2025-05-07</td>\n",
       "      <td>0.052531</td>\n",
       "      <td>2025-05-20</td>\n",
       "    </tr>\n",
       "    <tr>\n",
       "      <th>4</th>\n",
       "      <td>2025-05-08</td>\n",
       "      <td>0.054266</td>\n",
       "      <td>2025-05-20</td>\n",
       "    </tr>\n",
       "  </tbody>\n",
       "</table>\n",
       "</div>"
      ],
      "text/plain": [
       "        data     valor data_extracao\n",
       "0 2025-05-02  0.052531    2025-05-20\n",
       "1 2025-05-05  0.052531    2025-05-20\n",
       "2 2025-05-06  0.052531    2025-05-20\n",
       "3 2025-05-07  0.052531    2025-05-20\n",
       "4 2025-05-08  0.054266    2025-05-20"
      ]
     },
     "execution_count": 21,
     "metadata": {},
     "output_type": "execute_result"
    }
   ],
   "source": [
    "df_selic.head()"
   ]
  },
  {
   "cell_type": "code",
   "execution_count": 22,
   "metadata": {
    "colab": {
     "base_uri": "https://localhost:8080/"
    },
    "executionInfo": {
     "elapsed": 264,
     "status": "ok",
     "timestamp": 1698623225669,
     "user": {
      "displayName": "Eduardo Furlan",
      "userId": "03823929547054463581"
     },
     "user_tz": 180
    },
    "id": "ZAPRmYnw3asl",
    "outputId": "c3ac372d-b823-4963-a9e2-9409b7d19722"
   },
   "outputs": [
    {
     "name": "stdout",
     "output_type": "stream",
     "text": [
      "<class 'pandas.core.frame.DataFrame'>\n",
      "RangeIndex: 12 entries, 0 to 11\n",
      "Data columns (total 3 columns):\n",
      " #   Column         Non-Null Count  Dtype         \n",
      "---  ------         --------------  -----         \n",
      " 0   data           12 non-null     datetime64[ns]\n",
      " 1   valor          12 non-null     float64       \n",
      " 2   data_extracao  12 non-null     datetime64[ns]\n",
      "dtypes: datetime64[ns](2), float64(1)\n",
      "memory usage: 420.0 bytes\n"
     ]
    }
   ],
   "source": [
    "df_selic.info()"
   ]
  },
  {
   "cell_type": "markdown",
   "metadata": {
    "id": "ZLnu-bOp3asm"
   },
   "source": [
    "## pandas.Series.str"
   ]
  },
  {
   "cell_type": "markdown",
   "metadata": {
    "id": "wyvMQX_-3asm"
   },
   "source": [
    "Acrescentando uma coluna e preenchendo com uma string"
   ]
  },
  {
   "cell_type": "code",
   "execution_count": 23,
   "metadata": {
    "executionInfo": {
     "elapsed": 294,
     "status": "ok",
     "timestamp": 1698623233799,
     "user": {
      "displayName": "Eduardo Furlan",
      "userId": "03823929547054463581"
     },
     "user_tz": 180
    },
    "id": "R_CWOZq33asm"
   },
   "outputs": [],
   "source": [
    "df_selic[\"cidade\"] = \"sao paulo\""
   ]
  },
  {
   "cell_type": "code",
   "execution_count": 24,
   "metadata": {
    "colab": {
     "base_uri": "https://localhost:8080/",
     "height": 206
    },
    "executionInfo": {
     "elapsed": 306,
     "status": "ok",
     "timestamp": 1698623263858,
     "user": {
      "displayName": "Eduardo Furlan",
      "userId": "03823929547054463581"
     },
     "user_tz": 180
    },
    "id": "HxTO-Flz3asn",
    "outputId": "973227a2-0da9-417a-9054-b2bd28ced9af"
   },
   "outputs": [
    {
     "data": {
      "text/html": [
       "<div>\n",
       "<style scoped>\n",
       "    .dataframe tbody tr th:only-of-type {\n",
       "        vertical-align: middle;\n",
       "    }\n",
       "\n",
       "    .dataframe tbody tr th {\n",
       "        vertical-align: top;\n",
       "    }\n",
       "\n",
       "    .dataframe thead th {\n",
       "        text-align: right;\n",
       "    }\n",
       "</style>\n",
       "<table border=\"1\" class=\"dataframe\">\n",
       "  <thead>\n",
       "    <tr style=\"text-align: right;\">\n",
       "      <th></th>\n",
       "      <th>data</th>\n",
       "      <th>valor</th>\n",
       "      <th>data_extracao</th>\n",
       "      <th>cidade</th>\n",
       "    </tr>\n",
       "  </thead>\n",
       "  <tbody>\n",
       "    <tr>\n",
       "      <th>0</th>\n",
       "      <td>2025-05-02</td>\n",
       "      <td>0.052531</td>\n",
       "      <td>2025-05-20</td>\n",
       "      <td>sao paulo</td>\n",
       "    </tr>\n",
       "    <tr>\n",
       "      <th>1</th>\n",
       "      <td>2025-05-05</td>\n",
       "      <td>0.052531</td>\n",
       "      <td>2025-05-20</td>\n",
       "      <td>sao paulo</td>\n",
       "    </tr>\n",
       "    <tr>\n",
       "      <th>2</th>\n",
       "      <td>2025-05-06</td>\n",
       "      <td>0.052531</td>\n",
       "      <td>2025-05-20</td>\n",
       "      <td>sao paulo</td>\n",
       "    </tr>\n",
       "    <tr>\n",
       "      <th>3</th>\n",
       "      <td>2025-05-07</td>\n",
       "      <td>0.052531</td>\n",
       "      <td>2025-05-20</td>\n",
       "      <td>sao paulo</td>\n",
       "    </tr>\n",
       "    <tr>\n",
       "      <th>4</th>\n",
       "      <td>2025-05-08</td>\n",
       "      <td>0.054266</td>\n",
       "      <td>2025-05-20</td>\n",
       "      <td>sao paulo</td>\n",
       "    </tr>\n",
       "  </tbody>\n",
       "</table>\n",
       "</div>"
      ],
      "text/plain": [
       "        data     valor data_extracao     cidade\n",
       "0 2025-05-02  0.052531    2025-05-20  sao paulo\n",
       "1 2025-05-05  0.052531    2025-05-20  sao paulo\n",
       "2 2025-05-06  0.052531    2025-05-20  sao paulo\n",
       "3 2025-05-07  0.052531    2025-05-20  sao paulo\n",
       "4 2025-05-08  0.054266    2025-05-20  sao paulo"
      ]
     },
     "execution_count": 24,
     "metadata": {},
     "output_type": "execute_result"
    }
   ],
   "source": [
    "df_selic.head()"
   ]
  },
  {
   "cell_type": "markdown",
   "metadata": {
    "id": "BOHWKqp_3asn"
   },
   "source": [
    "Colocando \"cidade\" em maiúsculas:"
   ]
  },
  {
   "cell_type": "code",
   "execution_count": 25,
   "metadata": {
    "executionInfo": {
     "elapsed": 274,
     "status": "ok",
     "timestamp": 1698623269025,
     "user": {
      "displayName": "Eduardo Furlan",
      "userId": "03823929547054463581"
     },
     "user_tz": 180
    },
    "id": "Pa3QL9Cw3asn"
   },
   "outputs": [],
   "source": [
    "df_selic[\"cidade\"] = df_selic[\"cidade\"].str.upper()"
   ]
  },
  {
   "cell_type": "code",
   "execution_count": 26,
   "metadata": {
    "colab": {
     "base_uri": "https://localhost:8080/",
     "height": 206
    },
    "executionInfo": {
     "elapsed": 274,
     "status": "ok",
     "timestamp": 1698623271692,
     "user": {
      "displayName": "Eduardo Furlan",
      "userId": "03823929547054463581"
     },
     "user_tz": 180
    },
    "id": "zP-2mwEy3aso",
    "outputId": "70e6e9c3-673a-452e-94a4-c6ae8f129051"
   },
   "outputs": [
    {
     "data": {
      "text/html": [
       "<div>\n",
       "<style scoped>\n",
       "    .dataframe tbody tr th:only-of-type {\n",
       "        vertical-align: middle;\n",
       "    }\n",
       "\n",
       "    .dataframe tbody tr th {\n",
       "        vertical-align: top;\n",
       "    }\n",
       "\n",
       "    .dataframe thead th {\n",
       "        text-align: right;\n",
       "    }\n",
       "</style>\n",
       "<table border=\"1\" class=\"dataframe\">\n",
       "  <thead>\n",
       "    <tr style=\"text-align: right;\">\n",
       "      <th></th>\n",
       "      <th>data</th>\n",
       "      <th>valor</th>\n",
       "      <th>data_extracao</th>\n",
       "      <th>cidade</th>\n",
       "    </tr>\n",
       "  </thead>\n",
       "  <tbody>\n",
       "    <tr>\n",
       "      <th>0</th>\n",
       "      <td>2025-05-02</td>\n",
       "      <td>0.052531</td>\n",
       "      <td>2025-05-20</td>\n",
       "      <td>SAO PAULO</td>\n",
       "    </tr>\n",
       "    <tr>\n",
       "      <th>1</th>\n",
       "      <td>2025-05-05</td>\n",
       "      <td>0.052531</td>\n",
       "      <td>2025-05-20</td>\n",
       "      <td>SAO PAULO</td>\n",
       "    </tr>\n",
       "    <tr>\n",
       "      <th>2</th>\n",
       "      <td>2025-05-06</td>\n",
       "      <td>0.052531</td>\n",
       "      <td>2025-05-20</td>\n",
       "      <td>SAO PAULO</td>\n",
       "    </tr>\n",
       "    <tr>\n",
       "      <th>3</th>\n",
       "      <td>2025-05-07</td>\n",
       "      <td>0.052531</td>\n",
       "      <td>2025-05-20</td>\n",
       "      <td>SAO PAULO</td>\n",
       "    </tr>\n",
       "    <tr>\n",
       "      <th>4</th>\n",
       "      <td>2025-05-08</td>\n",
       "      <td>0.054266</td>\n",
       "      <td>2025-05-20</td>\n",
       "      <td>SAO PAULO</td>\n",
       "    </tr>\n",
       "  </tbody>\n",
       "</table>\n",
       "</div>"
      ],
      "text/plain": [
       "        data     valor data_extracao     cidade\n",
       "0 2025-05-02  0.052531    2025-05-20  SAO PAULO\n",
       "1 2025-05-05  0.052531    2025-05-20  SAO PAULO\n",
       "2 2025-05-06  0.052531    2025-05-20  SAO PAULO\n",
       "3 2025-05-07  0.052531    2025-05-20  SAO PAULO\n",
       "4 2025-05-08  0.054266    2025-05-20  SAO PAULO"
      ]
     },
     "execution_count": 26,
     "metadata": {},
     "output_type": "execute_result"
    }
   ],
   "source": [
    "df_selic.head()"
   ]
  },
  {
   "cell_type": "markdown",
   "metadata": {
    "id": "waLKhbzD3aso"
   },
   "source": [
    "## sort_values()"
   ]
  },
  {
   "cell_type": "code",
   "execution_count": 27,
   "metadata": {
    "executionInfo": {
     "elapsed": 272,
     "status": "ok",
     "timestamp": 1698623276784,
     "user": {
      "displayName": "Eduardo Furlan",
      "userId": "03823929547054463581"
     },
     "user_tz": 180
    },
    "id": "sEOuTjZ33asp"
   },
   "outputs": [],
   "source": [
    "df_selic.sort_values(by='data', ascending=False, inplace=True)"
   ]
  },
  {
   "cell_type": "code",
   "execution_count": 28,
   "metadata": {
    "colab": {
     "base_uri": "https://localhost:8080/",
     "height": 206
    },
    "executionInfo": {
     "elapsed": 283,
     "status": "ok",
     "timestamp": 1698623278835,
     "user": {
      "displayName": "Eduardo Furlan",
      "userId": "03823929547054463581"
     },
     "user_tz": 180
    },
    "id": "zXLeoSgI3asp",
    "outputId": "0eea0a16-7f62-45fc-cb52-135d530b414d"
   },
   "outputs": [
    {
     "data": {
      "text/html": [
       "<div>\n",
       "<style scoped>\n",
       "    .dataframe tbody tr th:only-of-type {\n",
       "        vertical-align: middle;\n",
       "    }\n",
       "\n",
       "    .dataframe tbody tr th {\n",
       "        vertical-align: top;\n",
       "    }\n",
       "\n",
       "    .dataframe thead th {\n",
       "        text-align: right;\n",
       "    }\n",
       "</style>\n",
       "<table border=\"1\" class=\"dataframe\">\n",
       "  <thead>\n",
       "    <tr style=\"text-align: right;\">\n",
       "      <th></th>\n",
       "      <th>data</th>\n",
       "      <th>valor</th>\n",
       "      <th>data_extracao</th>\n",
       "      <th>cidade</th>\n",
       "    </tr>\n",
       "  </thead>\n",
       "  <tbody>\n",
       "    <tr>\n",
       "      <th>11</th>\n",
       "      <td>2025-05-19</td>\n",
       "      <td>0.054266</td>\n",
       "      <td>2025-05-20</td>\n",
       "      <td>SAO PAULO</td>\n",
       "    </tr>\n",
       "    <tr>\n",
       "      <th>10</th>\n",
       "      <td>2025-05-16</td>\n",
       "      <td>0.054266</td>\n",
       "      <td>2025-05-20</td>\n",
       "      <td>SAO PAULO</td>\n",
       "    </tr>\n",
       "    <tr>\n",
       "      <th>9</th>\n",
       "      <td>2025-05-15</td>\n",
       "      <td>0.054266</td>\n",
       "      <td>2025-05-20</td>\n",
       "      <td>SAO PAULO</td>\n",
       "    </tr>\n",
       "    <tr>\n",
       "      <th>8</th>\n",
       "      <td>2025-05-14</td>\n",
       "      <td>0.054266</td>\n",
       "      <td>2025-05-20</td>\n",
       "      <td>SAO PAULO</td>\n",
       "    </tr>\n",
       "    <tr>\n",
       "      <th>7</th>\n",
       "      <td>2025-05-13</td>\n",
       "      <td>0.054266</td>\n",
       "      <td>2025-05-20</td>\n",
       "      <td>SAO PAULO</td>\n",
       "    </tr>\n",
       "  </tbody>\n",
       "</table>\n",
       "</div>"
      ],
      "text/plain": [
       "         data     valor data_extracao     cidade\n",
       "11 2025-05-19  0.054266    2025-05-20  SAO PAULO\n",
       "10 2025-05-16  0.054266    2025-05-20  SAO PAULO\n",
       "9  2025-05-15  0.054266    2025-05-20  SAO PAULO\n",
       "8  2025-05-14  0.054266    2025-05-20  SAO PAULO\n",
       "7  2025-05-13  0.054266    2025-05-20  SAO PAULO"
      ]
     },
     "execution_count": 28,
     "metadata": {},
     "output_type": "execute_result"
    }
   ],
   "source": [
    "df_selic.head()"
   ]
  },
  {
   "cell_type": "markdown",
   "metadata": {
    "id": "FIrvpNFf3asp"
   },
   "source": [
    "## reset_index() e set_index()"
   ]
  },
  {
   "cell_type": "code",
   "execution_count": 29,
   "metadata": {
    "executionInfo": {
     "elapsed": 270,
     "status": "ok",
     "timestamp": 1698623283231,
     "user": {
      "displayName": "Eduardo Furlan",
      "userId": "03823929547054463581"
     },
     "user_tz": 180
    },
    "id": "yHk_P2vi3asq"
   },
   "outputs": [],
   "source": [
    "df_selic.reset_index(drop=True,inplace=True)"
   ]
  },
  {
   "cell_type": "code",
   "execution_count": 30,
   "metadata": {
    "colab": {
     "base_uri": "https://localhost:8080/",
     "height": 206
    },
    "executionInfo": {
     "elapsed": 455,
     "status": "ok",
     "timestamp": 1698623284841,
     "user": {
      "displayName": "Eduardo Furlan",
      "userId": "03823929547054463581"
     },
     "user_tz": 180
    },
    "id": "bI6LcJos3asq",
    "outputId": "90c618ee-8d0f-4701-94c4-2a99dd97c099"
   },
   "outputs": [
    {
     "data": {
      "text/html": [
       "<div>\n",
       "<style scoped>\n",
       "    .dataframe tbody tr th:only-of-type {\n",
       "        vertical-align: middle;\n",
       "    }\n",
       "\n",
       "    .dataframe tbody tr th {\n",
       "        vertical-align: top;\n",
       "    }\n",
       "\n",
       "    .dataframe thead th {\n",
       "        text-align: right;\n",
       "    }\n",
       "</style>\n",
       "<table border=\"1\" class=\"dataframe\">\n",
       "  <thead>\n",
       "    <tr style=\"text-align: right;\">\n",
       "      <th></th>\n",
       "      <th>data</th>\n",
       "      <th>valor</th>\n",
       "      <th>data_extracao</th>\n",
       "      <th>cidade</th>\n",
       "    </tr>\n",
       "  </thead>\n",
       "  <tbody>\n",
       "    <tr>\n",
       "      <th>0</th>\n",
       "      <td>2025-05-19</td>\n",
       "      <td>0.054266</td>\n",
       "      <td>2025-05-20</td>\n",
       "      <td>SAO PAULO</td>\n",
       "    </tr>\n",
       "    <tr>\n",
       "      <th>1</th>\n",
       "      <td>2025-05-16</td>\n",
       "      <td>0.054266</td>\n",
       "      <td>2025-05-20</td>\n",
       "      <td>SAO PAULO</td>\n",
       "    </tr>\n",
       "    <tr>\n",
       "      <th>2</th>\n",
       "      <td>2025-05-15</td>\n",
       "      <td>0.054266</td>\n",
       "      <td>2025-05-20</td>\n",
       "      <td>SAO PAULO</td>\n",
       "    </tr>\n",
       "    <tr>\n",
       "      <th>3</th>\n",
       "      <td>2025-05-14</td>\n",
       "      <td>0.054266</td>\n",
       "      <td>2025-05-20</td>\n",
       "      <td>SAO PAULO</td>\n",
       "    </tr>\n",
       "    <tr>\n",
       "      <th>4</th>\n",
       "      <td>2025-05-13</td>\n",
       "      <td>0.054266</td>\n",
       "      <td>2025-05-20</td>\n",
       "      <td>SAO PAULO</td>\n",
       "    </tr>\n",
       "  </tbody>\n",
       "</table>\n",
       "</div>"
      ],
      "text/plain": [
       "        data     valor data_extracao     cidade\n",
       "0 2025-05-19  0.054266    2025-05-20  SAO PAULO\n",
       "1 2025-05-16  0.054266    2025-05-20  SAO PAULO\n",
       "2 2025-05-15  0.054266    2025-05-20  SAO PAULO\n",
       "3 2025-05-14  0.054266    2025-05-20  SAO PAULO\n",
       "4 2025-05-13  0.054266    2025-05-20  SAO PAULO"
      ]
     },
     "execution_count": 30,
     "metadata": {},
     "output_type": "execute_result"
    }
   ],
   "source": [
    "df_selic.head()"
   ]
  },
  {
   "cell_type": "markdown",
   "metadata": {
    "id": "p5Df-Cqp1zxL"
   },
   "source": [
    "Cria uma lisa com os novos índices:"
   ]
  },
  {
   "cell_type": "code",
   "execution_count": 31,
   "metadata": {
    "executionInfo": {
     "elapsed": 288,
     "status": "ok",
     "timestamp": 1698623287981,
     "user": {
      "displayName": "Eduardo Furlan",
      "userId": "03823929547054463581"
     },
     "user_tz": 180
    },
    "id": "Zb_niDuM3asq"
   },
   "outputs": [],
   "source": [
    "lista_novo_indice = [f'selic_{indice}' for indice in df_selic.index]"
   ]
  },
  {
   "cell_type": "code",
   "execution_count": 32,
   "metadata": {
    "colab": {
     "base_uri": "https://localhost:8080/"
    },
    "executionInfo": {
     "elapsed": 263,
     "status": "ok",
     "timestamp": 1698623291089,
     "user": {
      "displayName": "Eduardo Furlan",
      "userId": "03823929547054463581"
     },
     "user_tz": 180
    },
    "id": "i2fzGsPN3asr",
    "outputId": "5b667099-e103-44c1-d9a7-d9851e149c99"
   },
   "outputs": [
    {
     "data": {
      "text/plain": [
       "['selic_0', 'selic_1', 'selic_2', 'selic_3', 'selic_4']"
      ]
     },
     "execution_count": 32,
     "metadata": {},
     "output_type": "execute_result"
    }
   ],
   "source": [
    "lista_novo_indice[:5]"
   ]
  },
  {
   "cell_type": "markdown",
   "metadata": {
    "id": "lnOLazfR14rE"
   },
   "source": [
    "Aplica no dataframe:"
   ]
  },
  {
   "cell_type": "code",
   "execution_count": 33,
   "metadata": {
    "executionInfo": {
     "elapsed": 259,
     "status": "ok",
     "timestamp": 1698623295761,
     "user": {
      "displayName": "Eduardo Furlan",
      "userId": "03823929547054463581"
     },
     "user_tz": 180
    },
    "id": "6kfv4r2X3asr"
   },
   "outputs": [],
   "source": [
    "df_selic.set_index(keys=[lista_novo_indice], inplace=True)"
   ]
  },
  {
   "cell_type": "code",
   "execution_count": 34,
   "metadata": {
    "colab": {
     "base_uri": "https://localhost:8080/",
     "height": 206
    },
    "executionInfo": {
     "elapsed": 283,
     "status": "ok",
     "timestamp": 1698623298794,
     "user": {
      "displayName": "Eduardo Furlan",
      "userId": "03823929547054463581"
     },
     "user_tz": 180
    },
    "id": "Jz8Yb4Mw3asr",
    "outputId": "d76cf1b8-8aa4-4e5a-9c7b-08797f7ca512"
   },
   "outputs": [
    {
     "data": {
      "text/html": [
       "<div>\n",
       "<style scoped>\n",
       "    .dataframe tbody tr th:only-of-type {\n",
       "        vertical-align: middle;\n",
       "    }\n",
       "\n",
       "    .dataframe tbody tr th {\n",
       "        vertical-align: top;\n",
       "    }\n",
       "\n",
       "    .dataframe thead th {\n",
       "        text-align: right;\n",
       "    }\n",
       "</style>\n",
       "<table border=\"1\" class=\"dataframe\">\n",
       "  <thead>\n",
       "    <tr style=\"text-align: right;\">\n",
       "      <th></th>\n",
       "      <th>data</th>\n",
       "      <th>valor</th>\n",
       "      <th>data_extracao</th>\n",
       "      <th>cidade</th>\n",
       "    </tr>\n",
       "  </thead>\n",
       "  <tbody>\n",
       "    <tr>\n",
       "      <th>selic_0</th>\n",
       "      <td>2025-05-19</td>\n",
       "      <td>0.054266</td>\n",
       "      <td>2025-05-20</td>\n",
       "      <td>SAO PAULO</td>\n",
       "    </tr>\n",
       "    <tr>\n",
       "      <th>selic_1</th>\n",
       "      <td>2025-05-16</td>\n",
       "      <td>0.054266</td>\n",
       "      <td>2025-05-20</td>\n",
       "      <td>SAO PAULO</td>\n",
       "    </tr>\n",
       "    <tr>\n",
       "      <th>selic_2</th>\n",
       "      <td>2025-05-15</td>\n",
       "      <td>0.054266</td>\n",
       "      <td>2025-05-20</td>\n",
       "      <td>SAO PAULO</td>\n",
       "    </tr>\n",
       "    <tr>\n",
       "      <th>selic_3</th>\n",
       "      <td>2025-05-14</td>\n",
       "      <td>0.054266</td>\n",
       "      <td>2025-05-20</td>\n",
       "      <td>SAO PAULO</td>\n",
       "    </tr>\n",
       "    <tr>\n",
       "      <th>selic_4</th>\n",
       "      <td>2025-05-13</td>\n",
       "      <td>0.054266</td>\n",
       "      <td>2025-05-20</td>\n",
       "      <td>SAO PAULO</td>\n",
       "    </tr>\n",
       "  </tbody>\n",
       "</table>\n",
       "</div>"
      ],
      "text/plain": [
       "              data     valor data_extracao     cidade\n",
       "selic_0 2025-05-19  0.054266    2025-05-20  SAO PAULO\n",
       "selic_1 2025-05-16  0.054266    2025-05-20  SAO PAULO\n",
       "selic_2 2025-05-15  0.054266    2025-05-20  SAO PAULO\n",
       "selic_3 2025-05-14  0.054266    2025-05-20  SAO PAULO\n",
       "selic_4 2025-05-13  0.054266    2025-05-20  SAO PAULO"
      ]
     },
     "execution_count": 34,
     "metadata": {},
     "output_type": "execute_result"
    }
   ],
   "source": [
    "df_selic.head()"
   ]
  },
  {
   "cell_type": "markdown",
   "metadata": {
    "id": "wpLv8lZX3ass"
   },
   "source": [
    "## Menor e maior índice: idxmin() e idxmax()"
   ]
  },
  {
   "cell_type": "code",
   "execution_count": 35,
   "metadata": {
    "id": "lKhh4aZZ3ass",
    "outputId": "c7cc3b93-8455-4c86-e075-d15b6ff1ce68"
   },
   "outputs": [
    {
     "data": {
      "text/plain": [
       "'selic_8'"
      ]
     },
     "execution_count": 35,
     "metadata": {},
     "output_type": "execute_result"
    }
   ],
   "source": [
    "df_selic['valor'].idxmin()"
   ]
  },
  {
   "cell_type": "code",
   "execution_count": 36,
   "metadata": {
    "id": "HS-sC_293ast",
    "outputId": "b582c42d-65c4-4f32-ffd1-e7d6bff3f0e3"
   },
   "outputs": [
    {
     "data": {
      "text/plain": [
       "'selic_0'"
      ]
     },
     "execution_count": 36,
     "metadata": {},
     "output_type": "execute_result"
    }
   ],
   "source": [
    "df_selic['valor'].idxmax()"
   ]
  },
  {
   "cell_type": "markdown",
   "metadata": {
    "id": "HATLUsTf3ast"
   },
   "source": [
    "## Seleciona um ou vários registros: loc()"
   ]
  },
  {
   "cell_type": "code",
   "execution_count": 37,
   "metadata": {
    "id": "CF_sHx3R3asu",
    "outputId": "fc2fdfe9-9b58-462b-bd3b-23d64255c9db"
   },
   "outputs": [
    {
     "data": {
      "text/plain": [
       "data             2025-05-19 00:00:00\n",
       "valor                       0.054266\n",
       "data_extracao    2025-05-20 00:00:00\n",
       "cidade                     SAO PAULO\n",
       "Name: selic_0, dtype: object"
      ]
     },
     "execution_count": 37,
     "metadata": {},
     "output_type": "execute_result"
    }
   ],
   "source": [
    "df_selic.loc['selic_0']"
   ]
  },
  {
   "cell_type": "code",
   "execution_count": 39,
   "metadata": {
    "id": "bjzSqvxt3asv",
    "outputId": "4c8dcf45-1a73-489a-f0b2-d70f35ec2f3b"
   },
   "outputs": [
    {
     "data": {
      "text/html": [
       "<div>\n",
       "<style scoped>\n",
       "    .dataframe tbody tr th:only-of-type {\n",
       "        vertical-align: middle;\n",
       "    }\n",
       "\n",
       "    .dataframe tbody tr th {\n",
       "        vertical-align: top;\n",
       "    }\n",
       "\n",
       "    .dataframe thead th {\n",
       "        text-align: right;\n",
       "    }\n",
       "</style>\n",
       "<table border=\"1\" class=\"dataframe\">\n",
       "  <thead>\n",
       "    <tr style=\"text-align: right;\">\n",
       "      <th></th>\n",
       "      <th>data</th>\n",
       "      <th>valor</th>\n",
       "      <th>data_extracao</th>\n",
       "      <th>cidade</th>\n",
       "    </tr>\n",
       "  </thead>\n",
       "  <tbody>\n",
       "    <tr>\n",
       "      <th>selic_0</th>\n",
       "      <td>2025-05-19</td>\n",
       "      <td>0.054266</td>\n",
       "      <td>2025-05-20</td>\n",
       "      <td>SAO PAULO</td>\n",
       "    </tr>\n",
       "    <tr>\n",
       "      <th>selic_4</th>\n",
       "      <td>2025-05-13</td>\n",
       "      <td>0.054266</td>\n",
       "      <td>2025-05-20</td>\n",
       "      <td>SAO PAULO</td>\n",
       "    </tr>\n",
       "    <tr>\n",
       "      <th>selic_10</th>\n",
       "      <td>2025-05-05</td>\n",
       "      <td>0.052531</td>\n",
       "      <td>2025-05-20</td>\n",
       "      <td>SAO PAULO</td>\n",
       "    </tr>\n",
       "  </tbody>\n",
       "</table>\n",
       "</div>"
      ],
      "text/plain": [
       "               data     valor data_extracao     cidade\n",
       "selic_0  2025-05-19  0.054266    2025-05-20  SAO PAULO\n",
       "selic_4  2025-05-13  0.054266    2025-05-20  SAO PAULO\n",
       "selic_10 2025-05-05  0.052531    2025-05-20  SAO PAULO"
      ]
     },
     "execution_count": 39,
     "metadata": {},
     "output_type": "execute_result"
    }
   ],
   "source": [
    "df_selic.loc[['selic_0', 'selic_4', 'selic_10']]"
   ]
  },
  {
   "cell_type": "code",
   "execution_count": 40,
   "metadata": {
    "id": "xm6bSbiY3asw",
    "outputId": "12f40b54-fb54-47fc-c07c-dc7b1e27e7b2"
   },
   "outputs": [
    {
     "data": {
      "text/html": [
       "<div>\n",
       "<style scoped>\n",
       "    .dataframe tbody tr th:only-of-type {\n",
       "        vertical-align: middle;\n",
       "    }\n",
       "\n",
       "    .dataframe tbody tr th {\n",
       "        vertical-align: top;\n",
       "    }\n",
       "\n",
       "    .dataframe thead th {\n",
       "        text-align: right;\n",
       "    }\n",
       "</style>\n",
       "<table border=\"1\" class=\"dataframe\">\n",
       "  <thead>\n",
       "    <tr style=\"text-align: right;\">\n",
       "      <th></th>\n",
       "      <th>data</th>\n",
       "      <th>valor</th>\n",
       "      <th>data_extracao</th>\n",
       "      <th>cidade</th>\n",
       "    </tr>\n",
       "  </thead>\n",
       "  <tbody>\n",
       "    <tr>\n",
       "      <th>selic_0</th>\n",
       "      <td>2025-05-19</td>\n",
       "      <td>0.054266</td>\n",
       "      <td>2025-05-20</td>\n",
       "      <td>SAO PAULO</td>\n",
       "    </tr>\n",
       "    <tr>\n",
       "      <th>selic_1</th>\n",
       "      <td>2025-05-16</td>\n",
       "      <td>0.054266</td>\n",
       "      <td>2025-05-20</td>\n",
       "      <td>SAO PAULO</td>\n",
       "    </tr>\n",
       "    <tr>\n",
       "      <th>selic_2</th>\n",
       "      <td>2025-05-15</td>\n",
       "      <td>0.054266</td>\n",
       "      <td>2025-05-20</td>\n",
       "      <td>SAO PAULO</td>\n",
       "    </tr>\n",
       "    <tr>\n",
       "      <th>selic_3</th>\n",
       "      <td>2025-05-14</td>\n",
       "      <td>0.054266</td>\n",
       "      <td>2025-05-20</td>\n",
       "      <td>SAO PAULO</td>\n",
       "    </tr>\n",
       "  </tbody>\n",
       "</table>\n",
       "</div>"
      ],
      "text/plain": [
       "              data     valor data_extracao     cidade\n",
       "selic_0 2025-05-19  0.054266    2025-05-20  SAO PAULO\n",
       "selic_1 2025-05-16  0.054266    2025-05-20  SAO PAULO\n",
       "selic_2 2025-05-15  0.054266    2025-05-20  SAO PAULO\n",
       "selic_3 2025-05-14  0.054266    2025-05-20  SAO PAULO"
      ]
     },
     "execution_count": 40,
     "metadata": {},
     "output_type": "execute_result"
    }
   ],
   "source": [
    "df_selic.loc[:'selic_3']"
   ]
  },
  {
   "cell_type": "markdown",
   "metadata": {
    "id": "mUdJ4H6B2YcA"
   },
   "source": [
    "Seleciona registros e coluna:"
   ]
  },
  {
   "cell_type": "code",
   "execution_count": 41,
   "metadata": {
    "id": "iASLl1cJ3asw",
    "outputId": "f5eb30dd-0242-41d8-9465-a79ae1b0ecf5"
   },
   "outputs": [
    {
     "data": {
      "text/plain": [
       "selic_0     0.054266\n",
       "selic_4     0.054266\n",
       "selic_10    0.052531\n",
       "Name: valor, dtype: float64"
      ]
     },
     "execution_count": 41,
     "metadata": {},
     "output_type": "execute_result"
    }
   ],
   "source": [
    "df_selic.loc[['selic_0', 'selic_4', 'selic_10'], 'valor']"
   ]
  },
  {
   "cell_type": "markdown",
   "metadata": {
    "id": "fzZDYO0H3asx"
   },
   "source": [
    "## Seleção usando valores booleanos"
   ]
  },
  {
   "cell_type": "code",
   "execution_count": 42,
   "metadata": {
    "id": "k4OjBode3asx"
   },
   "outputs": [],
   "source": [
    "teste = df_selic['data'] >= pd.to_datetime('2020-01-01')"
   ]
  },
  {
   "cell_type": "code",
   "execution_count": 43,
   "metadata": {
    "id": "lTQfpiQ13asx",
    "outputId": "b76a8182-88f6-4a88-ec70-918ce48da53d"
   },
   "outputs": [
    {
     "data": {
      "text/plain": [
       "selic_0    True\n",
       "selic_1    True\n",
       "selic_2    True\n",
       "Name: data, dtype: bool"
      ]
     },
     "execution_count": 43,
     "metadata": {},
     "output_type": "execute_result"
    }
   ],
   "source": [
    "teste[:3]"
   ]
  },
  {
   "cell_type": "code",
   "execution_count": 44,
   "metadata": {
    "id": "2-vWaUAV3asy"
   },
   "outputs": [],
   "source": [
    "teste = (df_selic['valor'] < 0.01) | (df_selic['data'] >= pd.to_datetime('2020-01-01'))"
   ]
  },
  {
   "cell_type": "code",
   "execution_count": 45,
   "metadata": {
    "id": "AaX7xpYE3asy",
    "outputId": "7512a396-6e40-47e9-fce9-3dc2eec44abf"
   },
   "outputs": [
    {
     "data": {
      "text/html": [
       "<div>\n",
       "<style scoped>\n",
       "    .dataframe tbody tr th:only-of-type {\n",
       "        vertical-align: middle;\n",
       "    }\n",
       "\n",
       "    .dataframe tbody tr th {\n",
       "        vertical-align: top;\n",
       "    }\n",
       "\n",
       "    .dataframe thead th {\n",
       "        text-align: right;\n",
       "    }\n",
       "</style>\n",
       "<table border=\"1\" class=\"dataframe\">\n",
       "  <thead>\n",
       "    <tr style=\"text-align: right;\">\n",
       "      <th></th>\n",
       "      <th>data</th>\n",
       "      <th>valor</th>\n",
       "      <th>data_extracao</th>\n",
       "      <th>cidade</th>\n",
       "    </tr>\n",
       "  </thead>\n",
       "  <tbody>\n",
       "    <tr>\n",
       "      <th>selic_0</th>\n",
       "      <td>2025-05-19</td>\n",
       "      <td>0.054266</td>\n",
       "      <td>2025-05-20</td>\n",
       "      <td>SAO PAULO</td>\n",
       "    </tr>\n",
       "    <tr>\n",
       "      <th>selic_1</th>\n",
       "      <td>2025-05-16</td>\n",
       "      <td>0.054266</td>\n",
       "      <td>2025-05-20</td>\n",
       "      <td>SAO PAULO</td>\n",
       "    </tr>\n",
       "    <tr>\n",
       "      <th>selic_2</th>\n",
       "      <td>2025-05-15</td>\n",
       "      <td>0.054266</td>\n",
       "      <td>2025-05-20</td>\n",
       "      <td>SAO PAULO</td>\n",
       "    </tr>\n",
       "    <tr>\n",
       "      <th>selic_3</th>\n",
       "      <td>2025-05-14</td>\n",
       "      <td>0.054266</td>\n",
       "      <td>2025-05-20</td>\n",
       "      <td>SAO PAULO</td>\n",
       "    </tr>\n",
       "    <tr>\n",
       "      <th>selic_4</th>\n",
       "      <td>2025-05-13</td>\n",
       "      <td>0.054266</td>\n",
       "      <td>2025-05-20</td>\n",
       "      <td>SAO PAULO</td>\n",
       "    </tr>\n",
       "  </tbody>\n",
       "</table>\n",
       "</div>"
      ],
      "text/plain": [
       "              data     valor data_extracao     cidade\n",
       "selic_0 2025-05-19  0.054266    2025-05-20  SAO PAULO\n",
       "selic_1 2025-05-16  0.054266    2025-05-20  SAO PAULO\n",
       "selic_2 2025-05-15  0.054266    2025-05-20  SAO PAULO\n",
       "selic_3 2025-05-14  0.054266    2025-05-20  SAO PAULO\n",
       "selic_4 2025-05-13  0.054266    2025-05-20  SAO PAULO"
      ]
     },
     "execution_count": 45,
     "metadata": {},
     "output_type": "execute_result"
    }
   ],
   "source": [
    "df_selic[teste].head()"
   ]
  },
  {
   "cell_type": "markdown",
   "metadata": {
    "id": "sYkHt2c73asy"
   },
   "source": [
    "## Banco de dados"
   ]
  },
  {
   "cell_type": "markdown",
   "metadata": {
    "id": "mkLpX-sQ5FXM"
   },
   "source": [
    "- <https://colab.research.google.com/github/tensorflow/io/blob/master/docs/tutorials/postgresql.ipynb>\n",
    "- <https://thivyapriyaa.medium.com/setting-up-postgresql-on-google-colab-4d02166939fc>"
   ]
  },
  {
   "cell_type": "code",
   "execution_count": 79,
   "metadata": {
    "executionInfo": {
     "elapsed": 7022,
     "status": "ok",
     "timestamp": 1698626146463,
     "user": {
      "displayName": "Eduardo Furlan",
      "userId": "03823929547054463581"
     },
     "user_tz": 180
    },
    "id": "IQczh2Jj4hKO"
   },
   "outputs": [],
   "source": [
    "%%capture\n",
    "# Install postgresql server\n",
    "! sudo apt -y -qq update\n",
    "! sudo apt -y -qq install postgresql\n",
    "! sudo service postgresql start"
   ]
  },
  {
   "cell_type": "code",
   "execution_count": 80,
   "metadata": {
    "colab": {
     "base_uri": "https://localhost:8080/"
    },
    "executionInfo": {
     "elapsed": 283,
     "status": "ok",
     "timestamp": 1698626152544,
     "user": {
      "displayName": "Eduardo Furlan",
      "userId": "03823929547054463581"
     },
     "user_tz": 180
    },
    "id": "dGsIpIAM8mBb",
    "outputId": "8062db44-d995-4f77-ca8a-d4444419303d"
   },
   "outputs": [
    {
     "name": "stdout",
     "output_type": "stream",
     "text": [
      "ALTER ROLE\n"
     ]
    }
   ],
   "source": [
    "# Setup a password `secret` for username `postgres`\n",
    "!sudo -u postgres psql -U postgres -c \"ALTER USER postgres PASSWORD 'secret';\""
   ]
  },
  {
   "cell_type": "code",
   "execution_count": 81,
   "metadata": {
    "colab": {
     "base_uri": "https://localhost:8080/"
    },
    "executionInfo": {
     "elapsed": 317,
     "status": "ok",
     "timestamp": 1698626156836,
     "user": {
      "displayName": "Eduardo Furlan",
      "userId": "03823929547054463581"
     },
     "user_tz": 180
    },
    "id": "bN4ZqaeG8zBm",
    "outputId": "3665ee6d-dc53-40a0-b5da-3b03e112677a"
   },
   "outputs": [
    {
     "name": "stdout",
     "output_type": "stream",
     "text": [
      "DROP DATABASE\n"
     ]
    }
   ],
   "source": [
    "# Setup a database with name `sampledb` to be used\n",
    "!sudo -u postgres psql -U postgres -c 'DROP DATABASE IF EXISTS test;'"
   ]
  },
  {
   "cell_type": "code",
   "execution_count": 82,
   "metadata": {
    "colab": {
     "base_uri": "https://localhost:8080/"
    },
    "executionInfo": {
     "elapsed": 1024,
     "status": "ok",
     "timestamp": 1698626159165,
     "user": {
      "displayName": "Eduardo Furlan",
      "userId": "03823929547054463581"
     },
     "user_tz": 180
    },
    "id": "eiE_qRVr9VVc",
    "outputId": "30382faf-9a67-47d0-e049-247956ce4dba"
   },
   "outputs": [
    {
     "name": "stdout",
     "output_type": "stream",
     "text": [
      "CREATE DATABASE\n"
     ]
    }
   ],
   "source": [
    "!sudo -u postgres psql -U postgres -c 'CREATE DATABASE test;'"
   ]
  },
  {
   "cell_type": "code",
   "execution_count": 83,
   "metadata": {
    "executionInfo": {
     "elapsed": 9,
     "status": "ok",
     "timestamp": 1698626160549,
     "user": {
      "displayName": "Eduardo Furlan",
      "userId": "03823929547054463581"
     },
     "user_tz": 180
    },
    "id": "liwRITwS3asz"
   },
   "outputs": [],
   "source": [
    "import psycopg2"
   ]
  },
  {
   "cell_type": "code",
   "execution_count": 84,
   "metadata": {
    "executionInfo": {
     "elapsed": 7,
     "status": "ok",
     "timestamp": 1698626161894,
     "user": {
      "displayName": "Eduardo Furlan",
      "userId": "03823929547054463581"
     },
     "user_tz": 180
    },
    "id": "7tMSza9M3asz"
   },
   "outputs": [],
   "source": [
    "conn = psycopg2.connect(host=\"localhost\",\n",
    "                        database=\"test\",\n",
    "                        user=\"postgres\",\n",
    "                        password=\"secret\")"
   ]
  },
  {
   "cell_type": "code",
   "execution_count": 85,
   "metadata": {
    "colab": {
     "base_uri": "https://localhost:8080/"
    },
    "executionInfo": {
     "elapsed": 5,
     "status": "ok",
     "timestamp": 1698626164565,
     "user": {
      "displayName": "Eduardo Furlan",
      "userId": "03823929547054463581"
     },
     "user_tz": 180
    },
    "id": "Bvo3Xfsb3asz",
    "outputId": "cb88e8bf-d448-4b5f-b55d-7c2c1c721fbd"
   },
   "outputs": [
    {
     "data": {
      "text/plain": [
       "<connection object at 0x7e4f20c525c0; dsn: 'user=postgres password=xxx dbname=test host=localhost', closed: 0>"
      ]
     },
     "execution_count": 85,
     "metadata": {},
     "output_type": "execute_result"
    }
   ],
   "source": [
    "conn"
   ]
  },
  {
   "cell_type": "code",
   "execution_count": 86,
   "metadata": {
    "executionInfo": {
     "elapsed": 271,
     "status": "ok",
     "timestamp": 1698626168243,
     "user": {
      "displayName": "Eduardo Furlan",
      "userId": "03823929547054463581"
     },
     "user_tz": 180
    },
    "id": "0oPWjsMJ3as0"
   },
   "outputs": [],
   "source": [
    "cur = conn.cursor()"
   ]
  },
  {
   "cell_type": "code",
   "execution_count": 87,
   "metadata": {
    "executionInfo": {
     "elapsed": 12,
     "status": "ok",
     "timestamp": 1698626169453,
     "user": {
      "displayName": "Eduardo Furlan",
      "userId": "03823929547054463581"
     },
     "user_tz": 180
    },
    "id": "geAAoWJg3as1"
   },
   "outputs": [],
   "source": [
    "cur.execute(\"\"\"\n",
    "CREATE TABLE Employee\n",
    "(\n",
    "    ID INT   PRIMARY KEY NOT NULL,\n",
    "    NAME TEXT NOT NULL,\n",
    "    EMAI TEXT NOT NULL\n",
    ")\n",
    "\"\"\")"
   ]
  },
  {
   "cell_type": "code",
   "execution_count": 74,
   "metadata": {
    "executionInfo": {
     "elapsed": 261,
     "status": "ok",
     "timestamp": 1698625966307,
     "user": {
      "displayName": "Eduardo Furlan",
      "userId": "03823929547054463581"
     },
     "user_tz": 180
    },
    "id": "UhW0I94k3as1"
   },
   "outputs": [],
   "source": [
    "conn.commit()"
   ]
  },
  {
   "cell_type": "code",
   "execution_count": 75,
   "metadata": {
    "executionInfo": {
     "elapsed": 6,
     "status": "ok",
     "timestamp": 1698625969323,
     "user": {
      "displayName": "Eduardo Furlan",
      "userId": "03823929547054463581"
     },
     "user_tz": 180
    },
    "id": "wtU8bGgK3as1"
   },
   "outputs": [],
   "source": [
    "cur.execute(\"\"\"\n",
    "INSERT INTO Employee (ID,NAME,EMAI) VALUES\n",
    "(1,'Alan Walker','awalker@gmail.com'),\n",
    "(2,'Steve Jobs','sjobs@gmail.com')\n",
    "\"\"\")"
   ]
  },
  {
   "cell_type": "code",
   "execution_count": 76,
   "metadata": {
    "executionInfo": {
     "elapsed": 286,
     "status": "ok",
     "timestamp": 1698625971979,
     "user": {
      "displayName": "Eduardo Furlan",
      "userId": "03823929547054463581"
     },
     "user_tz": 180
    },
    "id": "SgXg7BCf3as1"
   },
   "outputs": [],
   "source": [
    "conn.commit()"
   ]
  },
  {
   "cell_type": "code",
   "execution_count": 77,
   "metadata": {
    "colab": {
     "base_uri": "https://localhost:8080/"
    },
    "executionInfo": {
     "elapsed": 6,
     "status": "ok",
     "timestamp": 1698625973852,
     "user": {
      "displayName": "Eduardo Furlan",
      "userId": "03823929547054463581"
     },
     "user_tz": 180
    },
    "id": "mWGOp4a_3as1",
    "outputId": "672001e4-a7a9-4bd7-e718-b574fe6e96ae"
   },
   "outputs": [
    {
     "name": "stdout",
     "output_type": "stream",
     "text": [
      "ID :1\n",
      "NAME :Alan Walker\n",
      "EMAIL :awalker@gmail.com\n",
      "ID :2\n",
      "NAME :Steve Jobs\n",
      "EMAIL :sjobs@gmail.com\n"
     ]
    }
   ],
   "source": [
    "cur.execute(\"SELECT * FROM Employee\")\n",
    "rows = cur.fetchall()\n",
    "for data in rows:\n",
    "    print(\"ID :\" + str(data[0]))\n",
    "    print(\"NAME :\" + data[1])\n",
    "    print(\"EMAIL :\" + data[2])"
   ]
  },
  {
   "cell_type": "code",
   "execution_count": 78,
   "metadata": {
    "executionInfo": {
     "elapsed": 305,
     "status": "ok",
     "timestamp": 1698625977297,
     "user": {
      "displayName": "Eduardo Furlan",
      "userId": "03823929547054463581"
     },
     "user_tz": 180
    },
    "id": "TCox6tBP3as2"
   },
   "outputs": [],
   "source": [
    "conn.close()"
   ]
  }
 ],
 "metadata": {
  "colab": {
   "provenance": []
  },
  "kernelspec": {
   "display_name": "Python 3 (ipykernel)",
   "language": "python",
   "name": "python3"
  },
  "language_info": {
   "codemirror_mode": {
    "name": "ipython",
    "version": 3
   },
   "file_extension": ".py",
   "mimetype": "text/x-python",
   "name": "python",
   "nbconvert_exporter": "python",
   "pygments_lexer": "ipython3",
   "version": "3.12.10"
  }
 },
 "nbformat": 4,
 "nbformat_minor": 4
}
