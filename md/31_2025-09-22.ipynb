{
 "cells": [
  {
   "cell_type": "code",
   "execution_count": 1,
   "id": "d8680064-bad7-449a-9319-46ce934f7914",
   "metadata": {},
   "outputs": [],
   "source": [
    "import sqlite3"
   ]
  },
  {
   "cell_type": "code",
   "execution_count": 2,
   "id": "7be24aa0-e027-485a-9f71-3d2668b185fe",
   "metadata": {},
   "outputs": [
    {
     "name": "stdout",
     "output_type": "stream",
     "text": [
      "Conexão com o banco de dados estabelecida.\n"
     ]
    }
   ],
   "source": [
    "# 1. Conectar ou criar o banco de dados (usando o SQLite em memória para simplicidade)\n",
    "# Para manter o DB após a execução, substitua ':memory:' por um nome de arquivo (ex: 'imobiliaria.db')\n",
    "conn = sqlite3.connect(':memory:')\n",
    "cursor = conn.cursor()\n",
    "\n",
    "print(\"Conexão com o banco de dados estabelecida.\")"
   ]
  },
  {
   "cell_type": "code",
   "execution_count": 3,
   "id": "585b936e-524a-4fbc-a6e3-d1a640a6c16c",
   "metadata": {},
   "outputs": [
    {
     "data": {
      "text/plain": [
       "<sqlite3.Cursor at 0x797977c7a640>"
      ]
     },
     "execution_count": 3,
     "metadata": {},
     "output_type": "execute_result"
    }
   ],
   "source": [
    "# 2. Criação das Tabelas\n",
    "# Baseado na estrutura lógica das entidades Tipo de Imóvel, Cidade, Proprietário e Imóvel.\n",
    "\n",
    "# Tabela TipoDeImovel (Baseada na entidade Tipo de Imóvel)\n",
    "cursor.execute(\"\"\"\n",
    "CREATE TABLE TipoDeImovel (\n",
    "    IdTpImovel INTEGER PRIMARY KEY,\n",
    "    TipoDeImovel TEXT NOT NULL\n",
    ");\n",
    "\"\"\")"
   ]
  },
  {
   "cell_type": "code",
   "execution_count": 4,
   "id": "fc35e8b2-bfd6-4910-a95b-1acc450a6818",
   "metadata": {},
   "outputs": [
    {
     "data": {
      "text/plain": [
       "<sqlite3.Cursor at 0x797977c7a640>"
      ]
     },
     "execution_count": 4,
     "metadata": {},
     "output_type": "execute_result"
    }
   ],
   "source": [
    "# Tabela Cidade (Baseada na entidade Cidade)\n",
    "cursor.execute(\"\"\"\n",
    "CREATE TABLE Cidade (\n",
    "    CodCidade INTEGER PRIMARY KEY,\n",
    "    Cidade TEXT NOT NULL,\n",
    "    Campo TEXT \n",
    ");\n",
    "\"\"\")"
   ]
  },
  {
   "cell_type": "code",
   "execution_count": 5,
   "id": "fa8141fd-d0d5-471f-a5f0-35aee4b1d90b",
   "metadata": {},
   "outputs": [
    {
     "data": {
      "text/plain": [
       "<sqlite3.Cursor at 0x797977c7a640>"
      ]
     },
     "execution_count": 5,
     "metadata": {},
     "output_type": "execute_result"
    }
   ],
   "source": [
    "# Tabela Proprietario (Baseada na entidade Proprietário)\n",
    "cursor.execute(\"\"\"\n",
    "CREATE TABLE Proprietario (\n",
    "    IdProprietario INTEGER PRIMARY KEY,\n",
    "    Nome TEXT NOT NULL,\n",
    "    RG TEXT\n",
    ");\n",
    "\"\"\")"
   ]
  },
  {
   "cell_type": "code",
   "execution_count": 6,
   "id": "22bc0d17-9788-46dd-ab39-77017229336b",
   "metadata": {},
   "outputs": [
    {
     "name": "stdout",
     "output_type": "stream",
     "text": [
      "Tabelas criadas com sucesso: TipoDeImovel, Cidade, Proprietario, Imovel.\n"
     ]
    }
   ],
   "source": [
    "# Tabela Imovel (Baseada na entidade Imóvel, referenciando as chaves estrangeiras)\n",
    "# Note que NrImóvel é o PK, e IdTpImóvel, CodCidade e IdProprietário são FKs.\n",
    "cursor.execute(\"\"\"\n",
    "CREATE TABLE Imovel (\n",
    "    NrImovel TEXT PRIMARY KEY, \n",
    "    QtdeQuartos INTEGER,\n",
    "    QtdeBanheiros INTEGER,\n",
    "    VistaParaMar BOOLEAN, \n",
    "    Endereco TEXT,\n",
    "    IdTpImovel INTEGER,\n",
    "    CodCidade INTEGER,\n",
    "    IdProprietario INTEGER,\n",
    "    FOREIGN KEY (IdTpImovel) REFERENCES TipoDeImovel(IdTpImovel),\n",
    "    FOREIGN KEY (CodCidade) REFERENCES Cidade(CodCidade),\n",
    "    FOREIGN KEY (IdProprietario) REFERENCES Proprietario(IdProprietario)\n",
    ");\n",
    "\"\"\")\n",
    "\n",
    "print(\"Tabelas criadas com sucesso: TipoDeImovel, Cidade, Proprietario, Imovel.\")"
   ]
  },
  {
   "cell_type": "code",
   "execution_count": 7,
   "id": "7ce140a4-7e82-4447-8872-20c49d4e3aa3",
   "metadata": {},
   "outputs": [
    {
     "name": "stdout",
     "output_type": "stream",
     "text": [
      "Dados de exemplo inseridos com sucesso.\n"
     ]
    }
   ],
   "source": [
    "# 3. Inserção de Dados de Exemplo (Carregamento dos dados)\n",
    "\n",
    "# Inserir Tipos de Imóvel\n",
    "cursor.execute(\"INSERT INTO TipoDeImovel VALUES (1, 'Casa');\")\n",
    "cursor.execute(\"INSERT INTO TipoDeImovel VALUES (2, 'Apartamento');\")\n",
    "\n",
    "# Inserir Cidades (SC Litoral)\n",
    "cursor.execute(\"INSERT INTO Cidade VALUES (101, 'Florianópolis', 'Sul');\")\n",
    "cursor.execute(\"INSERT INTO Cidade VALUES (102, 'Balneário Camboriú', 'Norte');\")\n",
    "\n",
    "# Inserir Proprietários\n",
    "cursor.execute(\"INSERT INTO Proprietario VALUES (201, 'João Silva', '987654');\")\n",
    "cursor.execute(\"INSERT INTO Proprietario VALUES (202, 'Maria Oliveira', '123456');\")\n",
    "\n",
    "# Inserir Imóveis (usando as FKs referenciadas)\n",
    "# Imóvel 1: Casa (1), em Florianópolis (101), de João Silva (201)\n",
    "cursor.execute(\"\"\"\n",
    "INSERT INTO Imovel VALUES (\n",
    "    'CASA001', 3, 2, 1, 'Rua das Gaivotas, 100', 1, 101, 201\n",
    ");\n",
    "\"\"\")\n",
    "# Imóvel 2: Apartamento (2), em Balneário Camboriú (102), de Maria Oliveira (202)\n",
    "cursor.execute(\"\"\"\n",
    "INSERT INTO Imovel VALUES (\n",
    "    'APT005', 2, 1, 0, 'Av. Atlântica, 500', 2, 102, 202\n",
    ");\n",
    "\"\"\")\n",
    "\n",
    "conn.commit()\n",
    "print(\"Dados de exemplo inseridos com sucesso.\")"
   ]
  },
  {
   "cell_type": "code",
   "execution_count": 8,
   "id": "bc8a40ef-9393-473c-8835-d9cc4c47b03b",
   "metadata": {},
   "outputs": [
    {
     "name": "stdout",
     "output_type": "stream",
     "text": [
      "\n",
      "--- Resultados da Consulta (Imóveis e Proprietários) ---\n",
      "('CASA001', 'João Silva', 'Casa', 'Florianópolis', 3, 1)\n",
      "('APT005', 'Maria Oliveira', 'Apartamento', 'Balneário Camboriú', 2, 0)\n"
     ]
    }
   ],
   "source": [
    "# 4. Consulta de Verificação (Teste e Avaliação)\n",
    "\n",
    "print(\"\\n--- Resultados da Consulta (Imóveis e Proprietários) ---\")\n",
    "# Junta as tabelas Imovel e Proprietario para exibir um resultado coeso\n",
    "cursor.execute(\"\"\"\n",
    "SELECT \n",
    "    I.NrImovel, \n",
    "    P.Nome AS Proprietario, \n",
    "    T.TipoDeImovel, \n",
    "    C.Cidade,\n",
    "    I.QtdeQuartos,\n",
    "    I.VistaParaMar\n",
    "FROM Imovel I\n",
    "JOIN Proprietario P ON I.IdProprietario = P.IdProprietario\n",
    "JOIN TipoDeImovel T ON I.IdTpImovel = T.IdTpImovel\n",
    "JOIN Cidade C ON I.CodCidade = C.CodCidade;\n",
    "\"\"\")\n",
    "\n",
    "results = cursor.fetchall()\n",
    "for row in results:\n",
    "    print(row)"
   ]
  },
  {
   "cell_type": "code",
   "execution_count": 9,
   "id": "d7e93783-29d8-40c1-9346-f60ddd969c20",
   "metadata": {},
   "outputs": [
    {
     "name": "stdout",
     "output_type": "stream",
     "text": [
      "\n",
      "Conexão fechada.\n"
     ]
    }
   ],
   "source": [
    "# 5. Fechar Conexão\n",
    "conn.close()\n",
    "print(\"\\nConexão fechada.\")"
   ]
  },
  {
   "cell_type": "code",
   "execution_count": null,
   "id": "06cb34e0-b756-45fc-80bb-68363d2cf782",
   "metadata": {},
   "outputs": [],
   "source": []
  }
 ],
 "metadata": {
  "kernelspec": {
   "display_name": "Python 3 (ipykernel)",
   "language": "python",
   "name": "python3"
  },
  "language_info": {
   "codemirror_mode": {
    "name": "ipython",
    "version": 3
   },
   "file_extension": ".py",
   "mimetype": "text/x-python",
   "name": "python",
   "nbconvert_exporter": "python",
   "pygments_lexer": "ipython3",
   "version": "3.12.10"
  }
 },
 "nbformat": 4,
 "nbformat_minor": 5
}
