{
 "cells": [
  {
   "cell_type": "markdown",
   "id": "fe334574-961c-4abe-a9ca-e4418e4f613c",
   "metadata": {},
   "source": [
    "# Algoritmos e Programação Estruturada\n",
    "\n",
    "APE-U2S1"
   ]
  },
  {
   "cell_type": "markdown",
   "id": "b6a8622a-6598-4200-a2fb-eb58d0603b34",
   "metadata": {},
   "source": [
    "## Estruturas de decisão e seleção"
   ]
  },
  {
   "attachments": {
    "521e4ca9-6957-4966-aacb-7a2f6c6faabb.png": {
     "image/png": "[encoded data removed]"
    }
   },
   "cell_type": "markdown",
   "id": "8957ffe2-bfb8-4272-b69c-5a38ff90a711",
   "metadata": {},
   "source": [
    "![image.png](attachment:521e4ca9-6957-4966-aacb-7a2f6c6faabb.png)"
   ]
  },
  {
   "cell_type": "code",
   "execution_count": 3,
   "id": "420c2871-1be9-4933-8033-4757dcd805ac",
   "metadata": {},
   "outputs": [
    {
     "name": "stdout",
     "output_type": "stream",
     "text": [
      "Digite sua idade:\n"
     ]
    },
    {
     "name": "stdin",
     "output_type": "stream",
     "text": [
      " 18\n"
     ]
    },
    {
     "name": "stdout",
     "output_type": "stream",
     "text": [
      "Voce ja pode tirar sua carteira de habilitacao"
     ]
    }
   ],
   "source": [
    "#include <stdio.h>\n",
    "\n",
    "int main(){\n",
    "    float idade;\n",
    "\n",
    "    printf(\"Digite sua idade:\\n\");\n",
    "    scanf(\"%f\", &idade);\n",
    "\n",
    "    if(idade>=18){\n",
    "        printf(\"Voce ja pode tirar sua carteira de habilitacao\");\n",
    "    }\n",
    "}"
   ]
  },
  {
   "attachments": {
    "19057d70-0220-4a16-a963-01da07f77108.png": {
     "image/png": "[encoded data removed]"
    }
   },
   "cell_type": "markdown",
   "id": "c19e0cfc-3049-4849-bbbb-1b7feadc1786",
   "metadata": {},
   "source": [
    "## Estrutura condicional composta\n",
    "\n",
    "![image.png](attachment:19057d70-0220-4a16-a963-01da07f77108.png)"
   ]
  },
  {
   "cell_type": "code",
   "execution_count": 6,
   "id": "14cbf5ec-bb69-42bd-98af-cf5da4d692bf",
   "metadata": {},
   "outputs": [
    {
     "name": "stdout",
     "output_type": "stream",
     "text": [
      "Digite o valor do orcamento para viagem\n"
     ]
    },
    {
     "name": "stdin",
     "output_type": "stream",
     "text": [
      " 20000\n"
     ]
    },
    {
     "name": "stdout",
     "output_type": "stream",
     "text": [
      "Joao e maria possuem orçamento para uma viageminternacional, pois seu orcamento e de 20000.000000\n"
     ]
    }
   ],
   "source": [
    "#include <stdio.h>\n",
    "\n",
    "int main() {\n",
    "    float orcamento;\n",
    "\n",
    "    printf(\"Digite o valor do orcamento para viagem\\n\");\n",
    "    scanf(\"%f\", & orcamento);\n",
    "\n",
    "    if (orcamento >= 10000) {\n",
    "        printf(\"Joao e maria possuem orçamento para uma viagem\" \n",
    "            \"internacional, pois seu orcamento e de %f\\n\", orcamento);\n",
    "    } else {\n",
    "        printf(\"Joao e Maria irão optar por uma viagem nacional, \"\n",
    "            \"seu orçamento ficou em %f\\n\", orcamento);\n",
    "    }\n",
    "}"
   ]
  },
  {
   "cell_type": "code",
   "execution_count": 7,
   "id": "24fb0a1c-bed6-4b54-a030-5e8e196f088a",
   "metadata": {},
   "outputs": [
    {
     "name": "stdout",
     "output_type": "stream",
     "text": [
      "Digite um numero: "
     ]
    },
    {
     "name": "stdin",
     "output_type": "stream",
     "text": [
      " 10\n"
     ]
    },
    {
     "name": "stdout",
     "output_type": "stream",
     "text": [
      "O número é positivo\n"
     ]
    }
   ],
   "source": [
    "#include <stdio.h>\n",
    "#include <stdlib.h>\n",
    "int main() {\n",
    "    int num;\n",
    "    \n",
    "    printf (\"Digite um numero: \");\n",
    "    scanf (\"%d\", &num);\n",
    "    \n",
    "    if (num>0){\n",
    "        printf (\"O número é positivo\\n\");\n",
    "    } else {\n",
    "        printf (\"O número é negativo\");\n",
    "    }\n",
    "}"
   ]
  },
  {
   "cell_type": "markdown",
   "id": "21b0c958-0a54-49ee-974c-5af69f064b92",
   "metadata": {},
   "source": [
    "## switch-case"
   ]
  },
  {
   "cell_type": "code",
   "execution_count": 8,
   "id": "20af0a78-d66a-45a7-96c8-e0dc09260e20",
   "metadata": {},
   "outputs": [
    {
     "name": "stdout",
     "output_type": "stream",
     "text": [
      "Case 1 is Matched."
     ]
    }
   ],
   "source": [
    "#include <stdio.h>\n",
    " \n",
    "int main(){\n",
    "  // switch variable\n",
    "    int var = 1;\n",
    " \n",
    "  // switch statement\n",
    "    switch (var) {\n",
    "        case 1:\n",
    "            printf(\"Case 1 is Matched.\");\n",
    "            break;\n",
    " \n",
    "        case 2:\n",
    "            printf(\"Case 2 is Matched.\");\n",
    "            break;\n",
    " \n",
    "        case 3:\n",
    "            printf(\"Case 3 is Matched.\");\n",
    "            break;\n",
    " \n",
    "        default:\n",
    "            printf(\"Default case is Matched.\");\n",
    "            break;\n",
    "    }\n",
    "}"
   ]
  },
  {
   "cell_type": "markdown",
   "id": "6892b171-e7a7-455c-8957-63fc61ea989a",
   "metadata": {},
   "source": [
    "## if aninhado"
   ]
  },
  {
   "cell_type": "code",
   "execution_count": 1,
   "id": "cf549dd4-4bdf-45a2-ba0f-d6a4e968f0e4",
   "metadata": {},
   "outputs": [
    {
     "name": "stdout",
     "output_type": "stream",
     "text": [
      "Dadas as medidas: 10, 10, 10, temos um triangulo.\n",
      "Este é um triangulo EQUILATERO! \n"
     ]
    }
   ],
   "source": [
    "#include <stdio.h>\n",
    "\n",
    "int main() {\n",
    "    int a = 10, b = 10, c = 10;\n",
    "\n",
    "    if (a < b + c && b < a + c && c < a + b) {\n",
    "        printf(\"Dadas as medidas: %d, %d, %d, \"\n",
    "               \"temos um triangulo.\\n\", a, b, c);\n",
    "\n",
    "        if (a == b && a == c) {\n",
    "            printf(\"Este é um triangulo EQUILATERO! \\n\");\n",
    "\n",
    "        } else if (a == b || a == c || b == c) {\n",
    "            printf(\"Este é um triangulo ISOSCELES!\\n\");\n",
    "\n",
    "        } else {\n",
    "            printf(\"Este é um triangulo ESCALENO!\\n\");\n",
    "        }\n",
    "\n",
    "    } else {\n",
    "        printf(\"As medidas fornecidas %d,%d,%d nao formam um \"\n",
    "            \"triangulo\", a, b, c);\n",
    "    }\n",
    "}"
   ]
  }
 ],
 "metadata": {
  "kernelspec": {
   "display_name": "C",
   "language": "c",
   "name": "c"
  },
  "language_info": {
   "file_extension": ".c",
   "mimetype": "text/x-csrc",
   "name": "text/x-csrc"
  }
 },
 "nbformat": 4,
 "nbformat_minor": 5
}
