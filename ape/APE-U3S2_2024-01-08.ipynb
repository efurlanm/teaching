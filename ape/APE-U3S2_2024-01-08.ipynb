{
 "cells": [
  {
   "cell_type": "markdown",
   "id": "2564ee63-124d-4e30-a639-b36ab5a35723",
   "metadata": {},
   "source": [
    "## Algoritmos e Programação Estruturada\n",
    "\n",
    "APE-U3S2"
   ]
  },
  {
   "cell_type": "markdown",
   "id": "faa00a73-efb3-464b-bce2-265ce475b218",
   "metadata": {},
   "source": [
    "## Escopo e passagem de parâmetros"
   ]
  },
  {
   "cell_type": "markdown",
   "id": "d15cd798-0ba8-477b-ae77-acc220976ce4",
   "metadata": {},
   "source": [
    "### Variável local"
   ]
  },
  {
   "cell_type": "code",
   "execution_count": 3,
   "id": "d41cd08f-3ec8-4f00-b66d-94602adf7730",
   "metadata": {},
   "outputs": [
    {
     "name": "stdout",
     "output_type": "stream",
     "text": [
      "\n",
      " Valor de x na funcao test() = 10\n",
      " Valor de x na funcao main() = 20"
     ]
    }
   ],
   "source": [
    "#include<stdio.h>\n",
    "\n",
    "void teste() {\n",
    "    int x = 10;\n",
    "\n",
    "    printf(\"\\n Valor de x na funcao test() = %d\", x);\n",
    "}\n",
    "\n",
    "int main() {\n",
    "    int x = 20;\n",
    "\n",
    "    teste();  //\"procedimento\" (não retorna valor)\n",
    "    printf(\"\\n Valor de x na funcao main() = %d\", x);\n",
    "}"
   ]
  },
  {
   "cell_type": "markdown",
   "id": "075a353d-b4e7-4f92-a762-ec49464a8c1f",
   "metadata": {},
   "source": [
    "### Variável global"
   ]
  },
  {
   "cell_type": "code",
   "execution_count": 5,
   "id": "089d3670-2725-4d09-b12c-58f9297b530a",
   "metadata": {},
   "outputs": [
    {
     "name": "stdout",
     "output_type": "stream",
     "text": [
      "10, 20, 30, "
     ]
    }
   ],
   "source": [
    "#include<stdio.h>\n",
    "\n",
    "int x = 10;\n",
    "\n",
    "void teste() {\n",
    "\n",
    "    x = 20;\n",
    "    printf(\"%d, \", x);\n",
    "}\n",
    "\n",
    "int main() {\n",
    "    printf(\"%d, \", x);\n",
    "    teste();\n",
    "    x = 30;\n",
    "    printf(\"%d, \", x);\n",
    "}"
   ]
  },
  {
   "cell_type": "markdown",
   "id": "0b4721a6-27f4-49b8-8a2b-d618ca2624a7",
   "metadata": {},
   "source": [
    "- Global permanece na memória ocupando espaço durante todo o tempo de execução.\n",
    "    - A local libera o espaço no final da função.\n",
    "- Dificulta modularização e reuso.\n",
    "- Uma mudança na variável acaba se propagando para o programa todo, o programa pode funcionar assim mesmo e o bug fica difícil de encontrar.\n",
    "- Fica difícil de testar módulos separadamente, ou isolar um trecho para testar.\n",
    "    - Se mudar a variável apenas naquele trecho, afeta o programa inteiro.\n",
    "- Se quiser alterar a variável em um programa de 1000 linhas precisa percorrer todos os arquivos e toda estrutura de diretórios.\n",
    "- Pode levar a problemas de colisão ao unir vários módulos e bibliotecas.\n",
    "- Uma aplicação seria usar para definir constantes que não mudam no programa todo.\n",
    "- Se existir uma global e uma local com o mesmo nome fica difícil identificar."
   ]
  },
  {
   "cell_type": "markdown",
   "id": "ba3c8fa7-5777-4914-bc91-89e737a4d8a1",
   "metadata": {},
   "source": [
    "## Exemplo do uso de variáveis globais"
   ]
  },
  {
   "cell_type": "code",
   "execution_count": 13,
   "id": "eaa3d9db-b472-425d-a137-de7f53ad0573",
   "metadata": {},
   "outputs": [
    {
     "name": "stdout",
     "output_type": "stream",
     "text": [
      "\n",
      " Digite as duas temperaturas: "
     ]
    },
    {
     "name": "stdin",
     "output_type": "stream",
     "text": [
      " 10 20\n"
     ]
    },
    {
     "name": "stdout",
     "output_type": "stream",
     "text": [
      "\n",
      " A temperatura media = 15.00"
     ]
    }
   ],
   "source": [
    "#include<stdio.h>\n",
    "\n",
    "float t1, t2;\n",
    "\n",
    "float calcularMedia() {\n",
    "    return (t1 + t2) / 2;\n",
    "}\n",
    "\n",
    "int main() {\n",
    "    printf(\"\\n Digite as duas temperaturas: \");\n",
    "    scanf(\"%f %f\", & t1, & t2);\n",
    "    printf(\"\\n A temperatura media = %.2f\", calcularMedia());\n",
    "}"
   ]
  },
  {
   "cell_type": "code",
   "execution_count": 11,
   "id": "1c3e5980-66b5-4171-80a3-fb34b2c43c1c",
   "metadata": {},
   "outputs": [
    {
     "name": "stdout",
     "output_type": "stream",
     "text": [
      "\n",
      " Valor de x = -1\n",
      " Valor de b (x global) = 10"
     ]
    }
   ],
   "source": [
    "#include<stdio.h>\n",
    "\n",
    "int x = 10;\n",
    "\n",
    "int main() {\n",
    "    int x = -1;\n",
    "    int b;\n",
    "\n",
    "    {\n",
    "        extern int x;\n",
    "        b = x;\n",
    "    }\n",
    "\n",
    "    printf(\"\\n Valor de x = %d\", x);\n",
    "    printf(\"\\n Valor de b (x global) = %d\", b);\n",
    "}"
   ]
  },
  {
   "cell_type": "markdown",
   "id": "a2ace298-1d9c-4045-97cd-6a166dadedf1",
   "metadata": {},
   "source": [
    "- Os colchetes definem um novo escopo, assim a variável x não colide."
   ]
  },
  {
   "cell_type": "markdown",
   "id": "d0f30664-b088-4ed9-b9a8-6a7823eed95c",
   "metadata": {},
   "source": [
    "## Passagem de parâmetros para funções"
   ]
  },
  {
   "cell_type": "markdown",
   "id": "75dbb78d-c1fd-412e-ad82-4155a22a45b4",
   "metadata": {},
   "source": [
    "- Passagem por valor\n",
    "    - O valor da variável é copiado\n",
    "        - As variáveis originais não são alteradas\n",
    "    - Variáveis locais são criadas, contendo o valor\n",
    "    - Quando termina a função, as variáveis locais são liberadas\n",
    "- Passagem por referência\n",
    "    - O endereço da variável (ponteiro) é copiado"
   ]
  },
  {
   "cell_type": "code",
   "execution_count": 10,
   "id": "9677ad2a-0827-4cb0-be99-3804bff96621",
   "metadata": {},
   "outputs": [
    {
     "name": "stdout",
     "output_type": "stream",
     "text": [
      "\n",
      " Resultado da soma = 25"
     ]
    }
   ],
   "source": [
    "#include<stdio.h>\n",
    "\n",
    "int somar(int a, int b) {\n",
    "    return a + b;\n",
    "}\n",
    "\n",
    "int main() {\n",
    "    int result;\n",
    "\n",
    "    result = somar(10, 15);\n",
    "    printf(\"\\n Resultado da soma = %d\", result);\n",
    "}"
   ]
  },
  {
   "cell_type": "code",
   "execution_count": 14,
   "id": "91a3d76b-6685-43a1-8bb4-69e9bd04aff5",
   "metadata": {},
   "outputs": [
    {
     "name": "stdout",
     "output_type": "stream",
     "text": [
      "\n",
      "\n",
      " Valores antes de chamar a funcao: \n",
      " n1 = 10 e n2 = 20\n",
      "\n",
      " Valores dentro da funcao testar(): \n",
      " n1 = -1 e n2 = -2\n",
      "\n",
      " Valores depois de chamar a funcao: \n",
      " n1 = 10 e n2 = 20"
     ]
    }
   ],
   "source": [
    "#include<stdio.h>\n",
    "\n",
    "void testar(int n1, int n2) {\n",
    "    n1 = -1;\n",
    "    n2 = -2;\n",
    "    printf(\"\\n\\n Valores dentro da funcao testar(): \");\n",
    "    printf(\"\\n n1 = %d e n2 = %d\", n1, n2);\n",
    "}\n",
    "\n",
    "int main() {\n",
    "    int n1 = 10;\n",
    "    int n2 = 20;\n",
    "\n",
    "    printf(\"\\n\\n Valores antes de chamar a funcao: \");\n",
    "    printf(\"\\n n1 = %d e n2 = %d\", n1, n2);\n",
    "\n",
    "    testar(n1, n2);  // \"procedimento\" (a função não retorna valor)\n",
    "\n",
    "    printf(\"\\n\\n Valores depois de chamar a funcao: \");\n",
    "    printf(\"\\n n1 = %d e n2 = %d\", n1, n2);\n",
    "    return 0;\n",
    "}"
   ]
  },
  {
   "cell_type": "markdown",
   "id": "c5b0d314-064f-471c-a56e-fca029732125",
   "metadata": {},
   "source": [
    "## Passagem por referência"
   ]
  },
  {
   "cell_type": "markdown",
   "id": "cdb8daf9-e27c-4732-a5ef-5dd97dc183ae",
   "metadata": {},
   "source": [
    "- Ao invés do valor da variável, é passado o endereço de memória (ponteiro) da variável\n",
    "- Cuidado:\n",
    "    - A variável não é copiada\n",
    "    - Não é criada uma nova variável\n",
    "    - A variável não se torna local\n",
    "    - Se alterar acaba alterando a variável original da função que chamou"
   ]
  },
  {
   "cell_type": "markdown",
   "id": "911cb956-7736-4a3f-8828-864a999fc849",
   "metadata": {},
   "source": [
    "### Ponteiros"
   ]
  },
  {
   "attachments": {
    "570bb1b1-0f22-4a14-a643-2f856f27648f.png": {
     "image/png": "[encoded data removed]"
    },
    "7037fe1f-1242-4e84-873d-51f3b8bbeb14.png": {
     "image/png": "[encoded data removed]"
    }
   },
   "cell_type": "markdown",
   "id": "8d659732-1e35-4991-82ae-8cf0479046ad",
   "metadata": {},
   "source": [
    "![image.png](attachment:7037fe1f-1242-4e84-873d-51f3b8bbeb14.png)\n",
    "\n",
    "![image.png](attachment:570bb1b1-0f22-4a14-a643-2f856f27648f.png)"
   ]
  },
  {
   "cell_type": "markdown",
   "id": "204690dc-e0f1-42d6-bdfd-22d8bd9418cb",
   "metadata": {},
   "source": [
    "- Operação com ponteiros:\n",
    "    - \"*\" pode significar 2 coisas:\n",
    "        - Declarar a variável como tipo ponteiro (\"declaração\")\n",
    "        - Acessar o conteúdo da variável apontada pelo ponteiro (\"valor\")\n",
    "    - \"&\" significa \"retorna o endereço de memória da variável\" (\"endereço\")"
   ]
  },
  {
   "cell_type": "code",
   "execution_count": 16,
   "id": "23c2f42c-a159-4c79-8ccb-7a53bd1aa403",
   "metadata": {},
   "outputs": [
    {
     "name": "stdout",
     "output_type": "stream",
     "text": [
      "\n",
      "\n",
      " Valores antes de chamar a funcao: \n",
      " n1 = 10 e n2 = 20\n",
      "\n",
      " Valores dentro da funcao testar(): \n",
      " n1 = -1 e n2 = -2\n",
      "\n",
      " Valores depois de chamar a funcao: \n",
      " n1 = -1 e n2 = -2"
     ]
    }
   ],
   "source": [
    "#include<stdio.h>\n",
    "\n",
    "void testar(int * n1, int * n2) {\n",
    "    * n1 = -1;  // * = \"conteúdo apontado por\"\n",
    "    * n2 = -2;\n",
    "    printf(\"\\n\\n Valores dentro da funcao testar(): \");\n",
    "    printf(\"\\n n1 = %d e n2 = %d\", * n1, * n2);\n",
    "}\n",
    "\n",
    "int main() {\n",
    "    int n1 = 10;\n",
    "    int n2 = 20;\n",
    "    printf(\"\\n\\n Valores antes de chamar a funcao: \");\n",
    "    printf(\"\\n n1 = %d e n2 = %d\", n1, n2);\n",
    "\n",
    "    testar( & n1, & n2);\n",
    "\n",
    "    printf(\"\\n\\n Valores depois de chamar a funcao: \");\n",
    "    printf(\"\\n n1 = %d e n2 = %d\", n1, n2);\n",
    "}"
   ]
  },
  {
   "cell_type": "markdown",
   "id": "94bb4da3-038e-4dc3-910a-7b5ca59520a2",
   "metadata": {},
   "source": [
    "## Passagem de vetor"
   ]
  },
  {
   "cell_type": "markdown",
   "id": "46e66ce1-d79f-4ff3-af33-027126991a5f",
   "metadata": {},
   "source": [
    "- É sempre feita implicitamente por referência\n",
    "- Não é necessário usar \"*\" e \"&\""
   ]
  },
  {
   "cell_type": "code",
   "execution_count": 18,
   "id": "cafd2e40-f4e7-48e6-9b09-d5b83928eebf",
   "metadata": {},
   "outputs": [
    {
     "name": "stdout",
     "output_type": "stream",
     "text": [
      "\n",
      " Preenchendo o vetor... \n",
      " Digite o valor 0: "
     ]
    },
    {
     "name": "stdin",
     "output_type": "stream",
     "text": [
      " 10\n"
     ]
    },
    {
     "name": "stdout",
     "output_type": "stream",
     "text": [
      "Digite o valor 1: "
     ]
    },
    {
     "name": "stdin",
     "output_type": "stream",
     "text": [
      " 20\n"
     ]
    },
    {
     "name": "stdout",
     "output_type": "stream",
     "text": [
      "Digite o valor 2: "
     ]
    },
    {
     "name": "stdin",
     "output_type": "stream",
     "text": [
      " 30\n"
     ]
    },
    {
     "name": "stdout",
     "output_type": "stream",
     "text": [
      "\n",
      " Dobro dos valores informados:\n",
      " numeros[0] = 20\n",
      " numeros[1] = 40\n",
      " numeros[2] = 60"
     ]
    }
   ],
   "source": [
    "#include<stdio.h>\n",
    "\n",
    "void inserir(int a[]) {\n",
    "    int i = 0;\n",
    "\n",
    "    for (i = 0; i < 3; i++) {\n",
    "        printf(\"Digite o valor %d: \", i);\n",
    "        scanf(\"%d\", & a[i]);\n",
    "    }\n",
    "}\n",
    "\n",
    "void imprimir(int b[]) {\n",
    "    int i = 0;\n",
    "\n",
    "    for (i = 0; i < 3; i++) {\n",
    "        printf(\"\\n numeros[%d] = %d\", i, 2 * b[i]);\n",
    "    }\n",
    "}\n",
    "\n",
    "int main() {\n",
    "    int numeros[3];\n",
    "\n",
    "    printf(\"\\n Preenchendo o vetor... \\n \");\n",
    "\n",
    "    inserir(numeros);\n",
    "\n",
    "    printf(\"\\n Dobro dos valores informados:\");\n",
    "\n",
    "    imprimir(numeros);\n",
    "}"
   ]
  },
  {
   "cell_type": "code",
   "execution_count": null,
   "id": "aa4ffd89-d7b2-4945-a49a-d925225755dc",
   "metadata": {},
   "outputs": [],
   "source": []
  }
 ],
 "metadata": {
  "kernelspec": {
   "display_name": "C",
   "language": "c",
   "name": "c"
  },
  "language_info": {
   "file_extension": ".c",
   "mimetype": "text/x-csrc",
   "name": "text/x-csrc"
  }
 },
 "nbformat": 4,
 "nbformat_minor": 5
}
