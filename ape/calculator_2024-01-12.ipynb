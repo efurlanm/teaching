{
 "cells": [
  {
   "cell_type": "markdown",
   "id": "16e9be83-4b0f-4a9d-8be4-801ddb8ec022",
   "metadata": {},
   "source": [
    "# Calculator\n",
    "\n",
    "*Last edited: 2024-01-12*\n",
    "\n",
    "Based on the example of the book *Advanced C* by Herbert Schildt"
   ]
  },
  {
   "cell_type": "markdown",
   "id": "9df5d10b-4a60-432f-8285-b8d7f63a19f5",
   "metadata": {},
   "source": [
    "A simple four-function calculator"
   ]
  },
  {
   "cell_type": "code",
   "execution_count": null,
   "id": "b22f3261-7278-4ccc-a3ee-deb510406e88",
   "metadata": {},
   "outputs": [
    {
     "name": "stdout",
     "output_type": "stream",
     "text": [
      "Four Function Calculator\n"
     ]
    },
    {
     "name": "stdin",
     "output_type": "stream",
     "text": [
      " 10\n",
      " 20\n",
      " .\n"
     ]
    },
    {
     "name": "stdout",
     "output_type": "stream",
     "text": [
      "Current value on top of stack: 20\n"
     ]
    },
    {
     "name": "stdin",
     "output_type": "stream",
     "text": [
      " +\n"
     ]
    },
    {
     "name": "stdout",
     "output_type": "stream",
     "text": [
      "30\n"
     ]
    },
    {
     "name": "stdin",
     "output_type": "stream",
     "text": [
      " .\n"
     ]
    },
    {
     "name": "stdout",
     "output_type": "stream",
     "text": [
      "Current value on top of stack: 30\n"
     ]
    },
    {
     "name": "stdin",
     "output_type": "stream",
     "text": [
      " 50\n",
      " +\n"
     ]
    },
    {
     "name": "stdout",
     "output_type": "stream",
     "text": [
      "80\n"
     ]
    },
    {
     "name": "stdin",
     "output_type": "stream",
     "text": [
      " .\n"
     ]
    },
    {
     "name": "stdout",
     "output_type": "stream",
     "text": [
      "Current value on top of stack: 80\n"
     ]
    }
   ],
   "source": [
    "#include <stdio.h>\n",
    "\n",
    "#define MAX 100\n",
    "\n",
    "int * p;     // will point to a region of free memory\n",
    "int * tos;   // points to top of stack\n",
    "int * bos;   // points to bottom of stack\n",
    "\n",
    "// Place an element on the stack\n",
    "void push(int i) {\n",
    "    if (p > bos) {\n",
    "        printf(\"stack full\\n\");\n",
    "        return;\n",
    "    }\n",
    "    * p = i;\n",
    "    p++;\n",
    "}\n",
    "\n",
    "// Return the top element from the stack\n",
    "int pop() {\n",
    "    p--;\n",
    "    if (p < tos) {\n",
    "        printf(\"stack underflow\\n\");\n",
    "        return 0;\n",
    "    }\n",
    "    return * p;\n",
    "}\n",
    "\n",
    "\n",
    "// Main routine\n",
    "int main() {\n",
    "    int a, b, c; // auxiliary variables\n",
    "    char s[80];  // input buffer\n",
    "\n",
    "    // get stack memory\n",
    "    p = (int * ) malloc(MAX * sizeof(int));\n",
    "    if (!p) {\n",
    "        printf(\"allocation failure\\n\");\n",
    "        exit(1);\n",
    "    }\n",
    "    tos = p;\n",
    "    bos = p + MAX - 1;\n",
    "    printf(\"Four Function Calculator\\n\");\n",
    "\n",
    "    do {\n",
    "        // fgets(s, sizeof s, stdin);\n",
    "        scanf(\"%s\", s);\n",
    "        switch ( * s) {\n",
    "        case '+':\n",
    "            a = pop();\n",
    "            b = pop();\n",
    "            c = a + b;\n",
    "            printf(\"%d\\n\", c);\n",
    "            push(c);\n",
    "            break;\n",
    "        case '-':\n",
    "            a = pop();\n",
    "            b = pop();\n",
    "            c = b - a;\n",
    "            printf(\"%d\\n\", b - a);\n",
    "            push(c);\n",
    "            break;\n",
    "        case '*':\n",
    "            a = pop();\n",
    "            b = pop();\n",
    "            c = b * a;\n",
    "            printf(\"%d\\n\", c);\n",
    "            push(c);\n",
    "            break;\n",
    "        case '/':\n",
    "            a = pop();\n",
    "            if (a == 0) {\n",
    "                printf(\"divide by 0\\n\");\n",
    "                break;\n",
    "            }\n",
    "            b = pop();\n",
    "            c = b / a;\n",
    "            printf(\"%d\\n\", c);\n",
    "            push(c);\n",
    "            break;\n",
    "\n",
    "        // show contents of top of stack\n",
    "        case '.': \n",
    "            a = pop();\n",
    "            push(a);\n",
    "            printf(\"Current value on top of stack: %d\\n\", a);\n",
    "            break;\n",
    "\n",
    "        // If the input is a number\n",
    "        default:\n",
    "            a = atoi(s);\n",
    "            push(a);\n",
    "        }\n",
    "    } while ( * s != 'q');\n",
    "}"
   ]
  },
  {
   "cell_type": "code",
   "execution_count": null,
   "id": "6afe442c-d6b5-4bf9-ae19-0e09aa955742",
   "metadata": {},
   "outputs": [],
   "source": []
  }
 ],
 "metadata": {
  "kernelspec": {
   "display_name": "C",
   "language": "c",
   "name": "c"
  },
  "language_info": {
   "file_extension": ".c",
   "mimetype": "text/x-csrc",
   "name": "text/x-csrc"
  }
 },
 "nbformat": 4,
 "nbformat_minor": 5
}
