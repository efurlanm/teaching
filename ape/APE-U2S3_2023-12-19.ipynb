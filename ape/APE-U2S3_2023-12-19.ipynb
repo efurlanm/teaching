{
 "cells": [
  {
   "cell_type": "markdown",
   "id": "66db555e-2e8d-471b-ba76-9d9483b642c6",
   "metadata": {},
   "source": [
    "# Algoritmos e Programação Estruturada\n",
    "\n",
    "APE-U2S3"
   ]
  },
  {
   "cell_type": "markdown",
   "id": "066530e3-f3bb-41a8-b649-ef2892c59321",
   "metadata": {},
   "source": [
    "## Estrutura de repetição usando `for`"
   ]
  },
  {
   "attachments": {
    "f641f6c2-0b89-4149-b86c-ce65ae90b09b.png": {
     "image/png": "[encoded data removed]"
    }
   },
   "cell_type": "markdown",
   "id": "51dde7ba-73a5-4585-b43b-e6939526e4f2",
   "metadata": {},
   "source": [
    "![image.png](attachment:f641f6c2-0b89-4149-b86c-ce65ae90b09b.png)"
   ]
  },
  {
   "cell_type": "markdown",
   "id": "719e2471-38b3-45e3-8d2e-d91459c06a7c",
   "metadata": {},
   "source": [
    "## Um contador"
   ]
  },
  {
   "cell_type": "code",
   "execution_count": 15,
   "id": "7acf4602-65b2-407f-9cd4-6dea73525b2c",
   "metadata": {},
   "outputs": [
    {
     "name": "stdout",
     "output_type": "stream",
     "text": [
      "1, 2, 3, 4, 5, 6, 7, 8, 9, 10, "
     ]
    }
   ],
   "source": [
    "#include <stdio.h>\n",
    "\n",
    "int main() {\n",
    "    int cont;\n",
    "\n",
    "    for (cont = 1; cont < 11; cont++) {\n",
    "        printf(\"%d, \", cont);\n",
    "    }\f",
    "\n",
    "}"
   ]
  },
  {
   "cell_type": "markdown",
   "id": "dab350c0-a9cc-48e0-a278-24164c666bfc",
   "metadata": {},
   "source": [
    "## Dois contadores"
   ]
  },
  {
   "cell_type": "code",
   "execution_count": 16,
   "id": "37d1b432-47ad-4db6-9d5a-7d14d55359e6",
   "metadata": {},
   "outputs": [
    {
     "name": "stdout",
     "output_type": "stream",
     "text": [
      "10, 12, 14, 16, 18, 20, 22, 24, 26, 28, 30, "
     ]
    }
   ],
   "source": [
    "#include <stdio.h>\n",
    "\n",
    "int main() {\n",
    "    int x, y;\n",
    "\n",
    "    for (x = 3, y = 7; (x + y) <= 30; x++, y++) {\n",
    "        printf(\"%d, \", x + y);\n",
    "    }\f",
    "\n",
    "}"
   ]
  },
  {
   "cell_type": "markdown",
   "id": "bbb62a36-1da7-485c-bf11-2634b23f3566",
   "metadata": {},
   "source": [
    "## Três contadores independentes"
   ]
  },
  {
   "cell_type": "code",
   "execution_count": 22,
   "id": "b77d1daf-d66e-4ed9-9a23-46353b4fed7d",
   "metadata": {},
   "outputs": [
    {
     "name": "stdout",
     "output_type": "stream",
     "text": [
      "(10, 0), (9, 1), (8, 2), (7, 3), (6, 4), (5, 5), (4, 6), (3, 7), (2, 8), (1, 9), (0, 10), "
     ]
    }
   ],
   "source": [
    "#include <stdio.h>\n",
    "\n",
    "int main() {\n",
    "    int x, y;\n",
    "\n",
    "    for (x = 10, y = 0; x >= 0 && y <= 10; x--, y++) {\n",
    "        printf(\"(%d, %d), \", x, y);\n",
    "    }\f",
    "\n",
    "}"
   ]
  },
  {
   "cell_type": "markdown",
   "id": "96fc09b2-e3b9-407a-baeb-0f7adec06f1a",
   "metadata": {},
   "source": [
    "## `for` e caracteres"
   ]
  },
  {
   "cell_type": "code",
   "execution_count": 25,
   "id": "1f89c9aa-8252-43de-9d9b-83f693bf36ac",
   "metadata": {},
   "outputs": [
    {
     "name": "stdout",
     "output_type": "stream",
     "text": [
      "a, b, c, d, e, f, g, h, i, j, k, l, m, n, o, p, q, r, s, t, u, v, w, x, y, z, "
     ]
    }
   ],
   "source": [
    "#include <stdio.h>\n",
    "\n",
    "int main() {\n",
    "    char c;\n",
    "\n",
    "    for (c = 'a'; c <= 'z'; c++) {\n",
    "        printf(\"%c, \", c);\n",
    "    }\f",
    "\n",
    "}"
   ]
  },
  {
   "cell_type": "markdown",
   "id": "8105c79c-cf9d-4ec7-ae8a-daeca5ebae0e",
   "metadata": {},
   "source": [
    "## Contagem regressiva"
   ]
  },
  {
   "cell_type": "code",
   "execution_count": 29,
   "id": "ff61f366-1713-48a5-ad63-0575d65836c6",
   "metadata": {},
   "outputs": [
    {
     "name": "stdout",
     "output_type": "stream",
     "text": [
      "Digite um numero para contagem regressiva:"
     ]
    },
    {
     "name": "stdin",
     "output_type": "stream",
     "text": [
      " 10\n"
     ]
    },
    {
     "name": "stdout",
     "output_type": "stream",
     "text": [
      "10, 9, 8, 7, 6, 5, 4, 3, 2, 1, "
     ]
    }
   ],
   "source": [
    "#include <stdio.h>\n",
    "\n",
    "int main() {\n",
    "    int contador;\n",
    "\n",
    "    printf(\"Digite um numero para contagem regressiva:\");\n",
    "    scanf(\"%d\", & contador);\n",
    "    for ( ; contador >= 1; contador--) {\n",
    "        printf(\"%d, \", contador);\n",
    "    }\n",
    "}"
   ]
  },
  {
   "cell_type": "markdown",
   "id": "58c3b185-a6f6-402c-af2f-a12b865ebbb6",
   "metadata": {},
   "source": [
    "## Usando `break` para sair do laço"
   ]
  },
  {
   "cell_type": "code",
   "execution_count": 31,
   "id": "d15f42a1-6258-4def-ad4d-9782f8d3a92f",
   "metadata": {},
   "outputs": [
    {
     "name": "stdout",
     "output_type": "stream",
     "text": [
      "1 2 3 4 5 6 7 \n",
      "Parar a condicao de repeticao w = 8 \n"
     ]
    }
   ],
   "source": [
    "#include <stdio.h>\n",
    "\n",
    "int main() {\n",
    "    int w;\n",
    "\n",
    "    for (w = 1; w <= 15; w++) {\n",
    "        if (w == 8) {\n",
    "            break;\n",
    "        }\n",
    "        printf(\"%d \", w);\n",
    "    }\n",
    "    printf(\"\\nParar a condicao de repeticao w = %d \\n\", w);\n",
    "}"
   ]
  },
  {
   "cell_type": "markdown",
   "id": "a3a3f790-e223-4736-a70b-6e9ee1816fd9",
   "metadata": {},
   "source": [
    "## vetor, `for`, `while`"
   ]
  },
  {
   "cell_type": "code",
   "execution_count": null,
   "id": "1e1b44ec-5200-4ca6-88b1-5a272a92bdad",
   "metadata": {},
   "outputs": [],
   "source": [
    "#23456789 123456789 123456789 123456789 123456789 123456789 123456789 "
   ]
  },
  {
   "cell_type": "code",
   "execution_count": 36,
   "id": "b235d0b4-b8ae-4abc-a754-57d758d90d05",
   "metadata": {},
   "outputs": [
    {
     "name": "stdout",
     "output_type": "stream",
     "text": [
      "Entre com o numero de ate 3 casas diferente de zero, a ser procurado em um vetor de 5 posicoes: "
     ]
    },
    {
     "name": "stdin",
     "output_type": "stream",
     "text": [
      " 5\n"
     ]
    },
    {
     "name": "stdout",
     "output_type": "stream",
     "text": [
      "Entre com o numero para a posicao 01: "
     ]
    },
    {
     "name": "stdin",
     "output_type": "stream",
     "text": [
      " 1\n"
     ]
    },
    {
     "name": "stdout",
     "output_type": "stream",
     "text": [
      "Entre com o numero para a posicao 02: "
     ]
    },
    {
     "name": "stdin",
     "output_type": "stream",
     "text": [
      " 2\n"
     ]
    },
    {
     "name": "stdout",
     "output_type": "stream",
     "text": [
      "Entre com o numero para a posicao 03: "
     ]
    },
    {
     "name": "stdin",
     "output_type": "stream",
     "text": [
      " 3\n"
     ]
    },
    {
     "name": "stdout",
     "output_type": "stream",
     "text": [
      "Entre com o numero para a posicao 04: "
     ]
    },
    {
     "name": "stdin",
     "output_type": "stream",
     "text": [
      " 5\n"
     ]
    },
    {
     "name": "stdout",
     "output_type": "stream",
     "text": [
      "Entre com o numero para a posicao 05: "
     ]
    },
    {
     "name": "stdin",
     "output_type": "stream",
     "text": [
      " 4\n"
     ]
    },
    {
     "name": "stdout",
     "output_type": "stream",
     "text": [
      "Posição encontrada: 4\n",
      "001 002 003 005 004 \n",
      "             *"
     ]
    }
   ],
   "source": [
    "#include <stdio.h>\n",
    "\n",
    "#define MAX 5\n",
    "\n",
    "int main() {\n",
    "    int numero, i, posicao, vetor[MAX];\n",
    "\n",
    "    printf(\"Entre com o numero de ate 3 casas diferente de zero, \"\n",
    "           \"a ser procurado em um vetor de %d posicoes: \", MAX);\n",
    "    scanf(\"%d\", & numero);\n",
    "\n",
    "    // Preenche o vetor com numeros\n",
    "    for (i = 0; i < MAX; i++) {\n",
    "        printf(\"Entre com o numero para a posicao %02d: \", i + 1);\n",
    "        scanf(\"%d\", & vetor[i]);\n",
    "    }\n",
    "\n",
    "    // identifica a posicao do numero lido no vetor de entrada\n",
    "    posicao = 0;\n",
    "    while (vetor[posicao] != numero) {\n",
    "        posicao++;\n",
    "    }\n",
    "    printf(\"Posição encontrada: %d\\n\", posicao+1);\n",
    "\n",
    "    // Imprime vetor\n",
    "    for (i = 0; i < MAX; i++) {\n",
    "        printf(\"%03d \", vetor[i]);\n",
    "    }\n",
    "    printf(\"\\n \");\n",
    "\n",
    "    // Imprime espaços até a posição do numero, e em seguida \n",
    "    // um \"*\" sob o numero\n",
    "    for (i = 0; i < posicao; i++) {\n",
    "        printf(\"    \");\n",
    "    }\n",
    "    printf(\"*\");\n",
    "}"
   ]
  },
  {
   "cell_type": "markdown",
   "id": "dd36fd01-b99a-4c0b-beee-53c438c5efa1",
   "metadata": {},
   "source": [
    "## Procura um número ímpar"
   ]
  },
  {
   "cell_type": "code",
   "execution_count": 39,
   "id": "06e581bb-9b3b-459d-9f3c-467075408b05",
   "metadata": {},
   "outputs": [
    {
     "name": "stdout",
     "output_type": "stream",
     "text": [
      " 2,  4,  6,  8, 10, 12, 14, 16, 18, 20, 22, 24, 26, 28, \n",
      "Término do laço.\n"
     ]
    }
   ],
   "source": [
    "#include <stdio.h>\n",
    "\n",
    "int main() {\n",
    "    int i;\n",
    "\n",
    "    for (i = 1; i <= 100; i++) {\n",
    "        if (i == 30) {\n",
    "            break;\n",
    "        } else if (i % 2 == 1) {\n",
    "            continue;\n",
    "        } else {\n",
    "            printf(\"%2d, \", i);\n",
    "        }\n",
    "    }\n",
    "    printf(\"\\nTérmino do laço.\\n\");\n",
    "}"
   ]
  },
  {
   "cell_type": "markdown",
   "id": "5b44fc15-f6e4-4735-9ce5-08de3b8bd841",
   "metadata": {},
   "source": [
    "## Matrizes"
   ]
  },
  {
   "cell_type": "code",
   "execution_count": 40,
   "id": "bfeb7277-7819-484d-8557-a5fd7a53a947",
   "metadata": {},
   "outputs": [
    {
     "name": "stdout",
     "output_type": "stream",
     "text": [
      "Digitar os valores da matriz para: linha 1, coluna 1: "
     ]
    },
    {
     "name": "stdin",
     "output_type": "stream",
     "text": [
      " 1\n"
     ]
    },
    {
     "name": "stdout",
     "output_type": "stream",
     "text": [
      "Digitar os valores da matriz para: linha 1, coluna 2: "
     ]
    },
    {
     "name": "stdin",
     "output_type": "stream",
     "text": [
      " 2\n"
     ]
    },
    {
     "name": "stdout",
     "output_type": "stream",
     "text": [
      "Digitar os valores da matriz para: linha 1, coluna 3: "
     ]
    },
    {
     "name": "stdin",
     "output_type": "stream",
     "text": [
      " 3\n"
     ]
    },
    {
     "name": "stdout",
     "output_type": "stream",
     "text": [
      "Digitar os valores da matriz para: linha 2, coluna 1: "
     ]
    },
    {
     "name": "stdin",
     "output_type": "stream",
     "text": [
      " 4\n"
     ]
    },
    {
     "name": "stdout",
     "output_type": "stream",
     "text": [
      "Digitar os valores da matriz para: linha 2, coluna 2: "
     ]
    },
    {
     "name": "stdin",
     "output_type": "stream",
     "text": [
      " 5\n"
     ]
    },
    {
     "name": "stdout",
     "output_type": "stream",
     "text": [
      "Digitar os valores da matriz para: linha 2, coluna 3: "
     ]
    },
    {
     "name": "stdin",
     "output_type": "stream",
     "text": [
      " 6\n"
     ]
    },
    {
     "name": "stdout",
     "output_type": "stream",
     "text": [
      "Digitar os valores da matriz para: linha 3, coluna 1: "
     ]
    },
    {
     "name": "stdin",
     "output_type": "stream",
     "text": [
      " 7\n"
     ]
    },
    {
     "name": "stdout",
     "output_type": "stream",
     "text": [
      "Digitar os valores da matriz para: linha 3, coluna 2: "
     ]
    },
    {
     "name": "stdin",
     "output_type": "stream",
     "text": [
      " 8\n"
     ]
    },
    {
     "name": "stdout",
     "output_type": "stream",
     "text": [
      "Digitar os valores da matriz para: linha 3, coluna 3: "
     ]
    },
    {
     "name": "stdin",
     "output_type": "stream",
     "text": [
      " 9\n"
     ]
    },
    {
     "name": "stdout",
     "output_type": "stream",
     "text": [
      "Veja a sua Matriz\n",
      "1\t2\t3\t\n",
      "\n",
      "4\t5\t6\t\n",
      "\n",
      "7\t8\t9\t\n",
      "\n"
     ]
    }
   ],
   "source": [
    "#include <stdio.h>\n",
    "\n",
    "int main() {\n",
    "    int linha, coluna, matriz[3][3];\n",
    "\n",
    "    for (linha = 0; linha < 3; linha++) {\n",
    "        for (coluna = 0; coluna < 3; coluna++) {\n",
    "            printf(\"Digitar os valores da matriz para: \"\n",
    "                   \"linha %d, coluna %d: \", linha + 1, coluna + 1);\n",
    "            scanf(\"%d\", & matriz[linha][coluna]);\n",
    "        }\n",
    "    }\n",
    "\n",
    "    printf(\"Veja a sua Matriz\\n\");\n",
    "    for (linha = 0; linha <= 2; linha++) {\n",
    "        for (coluna = 0; coluna < 3; coluna++)\n",
    "            printf(\"%d\\t\", matriz[linha][coluna]);\n",
    "        printf(\"\\n\\n\");\n",
    "    }\n",
    "}"
   ]
  },
  {
   "attachments": {
    "7a29e860-4690-4bca-bfc3-bd8369fb1f7b.png": {
     "image/png": "[encoded data removed]"
    }
   },
   "cell_type": "markdown",
   "id": "8a89059a-bce4-4194-b8b7-44aa69920ae6",
   "metadata": {},
   "source": [
    "## Quadrado mágico\n",
    "\n",
    "- é caracterizado por uma tabela quadrada em que a soma de cada coluna, de cada linha e das duas diagonais são iguais\n",
    "\n",
    "![image.png](attachment:7a29e860-4690-4bca-bfc3-bd8369fb1f7b.png)"
   ]
  },
  {
   "cell_type": "code",
   "execution_count": 42,
   "id": "67f110c6-95f7-4e63-9d1e-5ea5ec5fc461",
   "metadata": {},
   "outputs": [
    {
     "name": "stdout",
     "output_type": "stream",
     "text": [
      "Qual a ordem do quadrado magico? (deve ser um numero impar positivo)"
     ]
    },
    {
     "name": "stdin",
     "output_type": "stream",
     "text": [
      " 3\n"
     ]
    },
    {
     "name": "stdout",
     "output_type": "stream",
     "text": [
      "Quantidade de números no Quadrado Magico: 9\n",
      "O quadrado magico de 3x3 é:\n",
      "002 007 006 \n",
      "009 005 001 \n",
      "004 003 008 \n",
      "A soma de cada linha, de cada coluna ou da diagonal principal e: 15"
     ]
    }
   ],
   "source": [
    "#include <stdio.h>\n",
    "\n",
    "int main() {\n",
    "    int Matriz[31][31], i, j, ordem = 0, quadrado_da_ordem = 0,\n",
    "        linha = 0, coluna = 0, soma = 0;\n",
    "        \n",
    "    printf(\"Qual a ordem do quadrado magico? (deve ser um numero \"\n",
    "            \"impar positivo)\");\n",
    "    scanf(\"%d\", & ordem);\n",
    "\n",
    "    // encerra o programa se a ordem for par\n",
    "    if (ordem % 2 == 0 || ordem <= 0) {\n",
    "        printf(\"Tem que ser numero impar positivo\\n\");\n",
    "        return (0);\n",
    "    }\n",
    "\n",
    "    quadrado_da_ordem = ordem * ordem;\n",
    "    printf(\"Quantidade de números no Quadrado Magico: %d\\n\",\n",
    "            quadrado_da_ordem);\n",
    "            \n",
    "    // calculo da posicao inicial (onde vai o nro \"1\"). Quando a \n",
    "    // ordem e diferente de 1, sera na penultima coluna e ultima linha\n",
    "    if (ordem == 1) {\n",
    "        linha = 0;\n",
    "        coluna = 0;\n",
    "    } else {\n",
    "        linha = ((ordem + 1) / 2) - 1;\n",
    "        coluna = ordem - 1;\n",
    "    }\n",
    "\n",
    "    // Zera a Matriz\n",
    "    for (i = 0; i < ordem; i++) {\n",
    "        for (j = 0; j < ordem; j++) {\n",
    "            Matriz[i][j] = 0;\n",
    "        }\n",
    "    }\n",
    "\n",
    "    //Preenchendo a Matriz com os valores do Quadrado Magico\n",
    "    for (i = 1; i <= quadrado_da_ordem; i++) {\n",
    "        Matriz[linha][coluna] = i;\n",
    "        \n",
    "        // se estamos na ultima coluna, voltamos a coluna \"0\", do\n",
    "        // contrario, vamos uma coluna a frente.\n",
    "        if (coluna == ordem - 1) {\n",
    "            coluna = 0;\n",
    "        } else {\n",
    "            coluna++;\n",
    "        }\n",
    "        \n",
    "        // se estamos na primeira linha, vamos a ultima coluna\n",
    "        // (ordem-1), do contrario, vamos uma linha atras\n",
    "        if (linha == 0) {\n",
    "            linha = ordem - 1;\n",
    "        } else {\n",
    "            linha--; \n",
    "        }\n",
    "        \n",
    "        // Se a proxima posição ja esta ocupada (e diferente de \"0\"),\n",
    "        // devemos ocupar a posicao do lado esquerdo da ultima\n",
    "        // posicao preenchida. Caso contrario, devemos preencher a\n",
    "        // posição acima e a direita da ultima posição preenchida.\n",
    "        if (Matriz[linha][coluna] != 0) {\n",
    "            if (coluna == 0) {\n",
    "                coluna = ordem - 2;\n",
    "            } else {\n",
    "                coluna = coluna - 2;\n",
    "            }\n",
    "\n",
    "            if (linha == ordem - 1) {\n",
    "                linha = 0;\n",
    "            } else {\n",
    "                linha++;\n",
    "            }\n",
    "        }\n",
    "    }\n",
    "\n",
    "    printf(\"O quadrado magico de %dx%d é:\\n\", ordem, ordem);\n",
    "    \n",
    "    //Loop de loop para imprimir a Matriz\n",
    "    for (i = 0; i < ordem; i++) {\n",
    "        for (j = 0; j < ordem; j++) {\n",
    "            printf(\"%03d \", Matriz[i][j]);\n",
    "        }\n",
    "        printf(\"\\n\");\n",
    "    }\n",
    "    \n",
    "    // Loop para calcular a soma de linhas, colunas\n",
    "    // e da diagonal principal do Quadrado magico.\n",
    "    for (i = 0; i < ordem; i++) {\n",
    "        soma = soma + Matriz[i][i];\n",
    "    }\n",
    "    printf(\"A soma de cada linha, de cada coluna ou da diagonal \"\n",
    "           \"principal e: %d\", soma);\n",
    "    return (0);\n",
    "}"
   ]
  },
  {
   "cell_type": "code",
   "execution_count": null,
   "id": "09fa4bbf-e430-45c4-a67f-dbd7b558d8e2",
   "metadata": {},
   "outputs": [],
   "source": []
  }
 ],
 "metadata": {
  "kernelspec": {
   "display_name": "C",
   "language": "c",
   "name": "c"
  },
  "language_info": {
   "file_extension": ".c",
   "mimetype": "text/x-csrc",
   "name": "text/x-csrc"
  }
 },
 "nbformat": 4,
 "nbformat_minor": 5
}
